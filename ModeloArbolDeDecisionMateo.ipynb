{
 "cells": [
  {
   "cell_type": "code",
   "execution_count": 85,
   "metadata": {},
   "outputs": [],
   "source": [
    "import numpy as np\n",
    "import pandas as pd\n",
    "import os\n",
    "import dtreeviz\n",
    "\n",
    "import seaborn as sns\n",
    "import matplotlib.pyplot as plt\n",
    "import scipy as sc\n",
    "\n",
    "from sklearn import tree\n",
    "from sklearn.model_selection import train_test_split, StratifiedKFold, KFold, RandomizedSearchCV\n",
    "from sklearn.metrics import precision_score, recall_score, accuracy_score,f1_score, make_scorer\n",
    "from sklearn.metrics import confusion_matrix, classification_report\n",
    "\n",
    "import warnings\n",
    "warnings.simplefilter(action='ignore', category=FutureWarning)\n",
    "warnings.simplefilter(action='ignore', category=UserWarning)\n",
    "\n",
    "dsHotelsTest = pd.read_csv('hotels_test.csv')\n",
    "dsHotelsTestCopy = dsHotelsTest.copy()\n",
    "dsCHP1 = pd.read_csv('dsHotelCHP1.csv')\n",
    "dsCHP1Copy = dsCHP1.copy()"
   ]
  },
  {
   "cell_type": "markdown",
   "metadata": {},
   "source": [
    "# Feature Engeneering (Transfomraciones)"
   ]
  },
  {
   "cell_type": "code",
   "execution_count": 86,
   "metadata": {},
   "outputs": [
    {
     "name": "stdout",
     "output_type": "stream",
     "text": [
      "<class 'pandas.core.frame.DataFrame'>\n",
      "RangeIndex: 53944 entries, 0 to 53943\n",
      "Data columns (total 30 columns):\n",
      " #   Column                          Non-Null Count  Dtype  \n",
      "---  ------                          --------------  -----  \n",
      " 0   hotel                           53944 non-null  object \n",
      " 1   lead_time                       53944 non-null  int64  \n",
      " 2   arrival_date_year               53944 non-null  int64  \n",
      " 3   arrival_date_month              53944 non-null  object \n",
      " 4   arrival_date_week_number        53944 non-null  int64  \n",
      " 5   arrival_date_day_of_month       53944 non-null  int64  \n",
      " 6   stays_in_weekend_nights         53944 non-null  int64  \n",
      " 7   stays_in_week_nights            53944 non-null  int64  \n",
      " 8   adults                          53944 non-null  int64  \n",
      " 9   children                        53944 non-null  float64\n",
      " 10  babies                          53944 non-null  int64  \n",
      " 11  meal                            53944 non-null  object \n",
      " 12  country                         53944 non-null  object \n",
      " 13  market_segment                  53944 non-null  object \n",
      " 14  distribution_channel            53944 non-null  object \n",
      " 15  is_repeated_guest               53944 non-null  int64  \n",
      " 16  previous_cancellations          53944 non-null  int64  \n",
      " 17  previous_bookings_not_canceled  53944 non-null  int64  \n",
      " 18  reserved_room_type              53944 non-null  object \n",
      " 19  assigned_room_type              53944 non-null  object \n",
      " 20  booking_changes                 53944 non-null  int64  \n",
      " 21  deposit_type                    53944 non-null  object \n",
      " 22  agent                           53944 non-null  float64\n",
      " 23  days_in_waiting_list            53944 non-null  int64  \n",
      " 24  customer_type                   53944 non-null  object \n",
      " 25  adr                             53944 non-null  float64\n",
      " 26  required_car_parking_spaces     53944 non-null  int64  \n",
      " 27  total_of_special_requests       53944 non-null  int64  \n",
      " 28  id                              53944 non-null  object \n",
      " 29  is_canceled                     53944 non-null  int64  \n",
      "dtypes: float64(3), int64(16), object(11)\n",
      "memory usage: 12.3+ MB\n"
     ]
    }
   ],
   "source": [
    "dsCHP1Copy.info()"
   ]
  },
  {
   "cell_type": "code",
   "execution_count": 87,
   "metadata": {},
   "outputs": [
    {
     "name": "stdout",
     "output_type": "stream",
     "text": [
      "<class 'pandas.core.frame.DataFrame'>\n",
      "RangeIndex: 26535 entries, 0 to 26534\n",
      "Data columns (total 31 columns):\n",
      " #   Column                          Non-Null Count  Dtype  \n",
      "---  ------                          --------------  -----  \n",
      " 0   hotel                           26535 non-null  object \n",
      " 1   lead_time                       26535 non-null  int64  \n",
      " 2   arrival_date_year               26535 non-null  int64  \n",
      " 3   arrival_date_month              26535 non-null  object \n",
      " 4   arrival_date_week_number        26535 non-null  int64  \n",
      " 5   arrival_date_day_of_month       26535 non-null  int64  \n",
      " 6   stays_in_weekend_nights         26535 non-null  int64  \n",
      " 7   stays_in_week_nights            26535 non-null  int64  \n",
      " 8   adults                          26535 non-null  int64  \n",
      " 9   children                        26535 non-null  float64\n",
      " 10  babies                          26535 non-null  int64  \n",
      " 11  meal                            26535 non-null  object \n",
      " 12  country                         26440 non-null  object \n",
      " 13  market_segment                  26535 non-null  object \n",
      " 14  distribution_channel            26535 non-null  object \n",
      " 15  is_repeated_guest               26535 non-null  int64  \n",
      " 16  previous_cancellations          26535 non-null  int64  \n",
      " 17  previous_bookings_not_canceled  26535 non-null  int64  \n",
      " 18  reserved_room_type              26535 non-null  object \n",
      " 19  assigned_room_type              26535 non-null  object \n",
      " 20  booking_changes                 26535 non-null  int64  \n",
      " 21  deposit_type                    26535 non-null  object \n",
      " 22  agent                           23172 non-null  float64\n",
      " 23  company                         1317 non-null   float64\n",
      " 24  days_in_waiting_list            26535 non-null  int64  \n",
      " 25  customer_type                   26535 non-null  object \n",
      " 26  adr                             26535 non-null  float64\n",
      " 27  required_car_parking_spaces     26535 non-null  int64  \n",
      " 28  total_of_special_requests       26535 non-null  int64  \n",
      " 29  reservation_status_date         26535 non-null  object \n",
      " 30  id                              26535 non-null  object \n",
      "dtypes: float64(4), int64(15), object(12)\n",
      "memory usage: 6.3+ MB\n"
     ]
    }
   ],
   "source": [
    "dsHotelsTestCopy.info()"
   ]
  },
  {
   "cell_type": "markdown",
   "metadata": {},
   "source": [
    "## Transformacion de atributos categoricos\n",
    "Aquellos atributos categoricos que tienen demasiados valores unicos como 'country', vamos a reemplazarlo con un nuevo campo que simplemente tenga los 10 valores mas frecuentes (incluyendo el valor de Otros).\n",
    "Aplicamos One Hot Encoding a dichas variables"
   ]
  },
  {
   "cell_type": "markdown",
   "metadata": {},
   "source": [
    "### Para la variable 'country'"
   ]
  },
  {
   "cell_type": "code",
   "execution_count": 88,
   "metadata": {},
   "outputs": [],
   "source": [
    "dsCHP1Copy['country'] = dsCHP1Copy['country'].where(        #Lo hacemos para el dataframe preprocesado en train\n",
    "dsCHP1Copy['country'].isin(dsCHP1Copy['country'].value_counts().nlargest(10).index), 'Others')\n",
    "\n",
    "dsHotelsTestCopy['country'] =dsHotelsTestCopy['country'].where(        #Lo hacemos para test\n",
    "dsHotelsTestCopy['country'].isin(dsHotelsTestCopy['country'].value_counts().nlargest(10).index), 'Others')"
   ]
  },
  {
   "cell_type": "markdown",
   "metadata": {},
   "source": [
    "### Para la variable 'agent'"
   ]
  },
  {
   "cell_type": "code",
   "execution_count": 89,
   "metadata": {},
   "outputs": [],
   "source": [
    "dsCHP1Copy['agent'] = dsCHP1Copy['agent'].where(                #Lo hacemos para el dataframe preprocesado en train\n",
    "dsCHP1Copy['agent'].isin(dsCHP1Copy['agent'].value_counts().nlargest(10).index), 'Others')\n",
    "\n",
    "dsHotelsTestCopy['agent'] =dsHotelsTestCopy['agent'].where(        #Lo hacemos para test\n",
    "dsHotelsTestCopy['agent'].isin(dsHotelsTestCopy['agent'].value_counts().nlargest(10).index), 'Others')"
   ]
  },
  {
   "cell_type": "markdown",
   "metadata": {},
   "source": [
    "### Drops de columns\n",
    "Dropeamos la columna id de ambos dataframes, ya que no aportan nada al analisis. Ademas sacamos la columna reservation_status_date del test ya que no esta en el train y es un error"
   ]
  },
  {
   "cell_type": "code",
   "execution_count": 90,
   "metadata": {},
   "outputs": [],
   "source": [
    "dsCHP1Copy =  dsCHP1Copy.drop('id', axis=1)"
   ]
  },
  {
   "cell_type": "code",
   "execution_count": 91,
   "metadata": {},
   "outputs": [],
   "source": [
    "dsHotelsTestCopy = dsHotelsTestCopy.drop('id', axis=1)\n",
    "dsHotelsTestCopy = dsHotelsTestCopy.drop('reservation_status_date', axis=1)"
   ]
  },
  {
   "cell_type": "markdown",
   "metadata": {},
   "source": [
    "### One Hot Encoding"
   ]
  },
  {
   "cell_type": "code",
   "execution_count": 92,
   "metadata": {},
   "outputs": [],
   "source": [
    "ds_variables_categoricas = dsCHP1Copy.select_dtypes(include=['object'])\n",
    "dsCHP1Copy = pd.get_dummies(dsCHP1Copy, columns=ds_variables_categoricas.columns.to_list(), drop_first=True)\n",
    "dsHotelsTestCopy = pd.get_dummies(dsHotelsTestCopy, columns=ds_variables_categoricas.columns.to_list(), drop_first=True)\n",
    "dsCHP1Copy['id'] = dsCHP1['id']"
   ]
  },
  {
   "cell_type": "code",
   "execution_count": 93,
   "metadata": {},
   "outputs": [
    {
     "data": {
      "text/plain": [
       "(26535, 87)"
      ]
     },
     "execution_count": 93,
     "metadata": {},
     "output_type": "execute_result"
    }
   ],
   "source": [
    "dsHotelsTestCopy.shape"
   ]
  },
  {
   "cell_type": "code",
   "execution_count": 94,
   "metadata": {},
   "outputs": [
    {
     "data": {
      "text/plain": [
       "(53944, 85)"
      ]
     },
     "execution_count": 94,
     "metadata": {},
     "output_type": "execute_result"
    }
   ],
   "source": [
    "dsCHP1Copy.shape"
   ]
  },
  {
   "cell_type": "markdown",
   "metadata": {},
   "source": [
    "Dado que hay valores que estan en el train y que no estan en el test y viceversa busco que quedarme solo con las columnas que tengan en comun y al dataframe de train le agrego la columna target que sabemos que no esta en el test"
   ]
  },
  {
   "cell_type": "code",
   "execution_count": 95,
   "metadata": {},
   "outputs": [],
   "source": [
    "categoriasEnComun = (dsCHP1Copy.columns).intersection(dsHotelsTestCopy.columns)\n",
    "dsCHP1CopyY = dsCHP1Copy['is_canceled'].copy()\n",
    "dsHotelsTestCopy = dsHotelsTestCopy[categoriasEnComun]\n",
    "dsCHP1Copy = dsCHP1Copy[categoriasEnComun]\n",
    "dsCHP1Copy['is_canceled'] = dsCHP1CopyY"
   ]
  },
  {
   "cell_type": "markdown",
   "metadata": {},
   "source": [
    "Corroboro que ambos dataframes, test y train tengan la misma forma, es decir, las mismas columnas luego de las tranformaciones"
   ]
  },
  {
   "cell_type": "code",
   "execution_count": 96,
   "metadata": {},
   "outputs": [
    {
     "name": "stdout",
     "output_type": "stream",
     "text": [
      "Los DataFrames no tienen las mismas columnas.\n"
     ]
    }
   ],
   "source": [
    "if dsCHP1Copy.columns.tolist() == dsHotelsTestCopy.columns.tolist():\n",
    "    print(\"Los DataFrames tienen las mismas columnas.\")\n",
    "else:\n",
    "    print(\"Los DataFrames no tienen las mismas columnas.\")"
   ]
  },
  {
   "cell_type": "markdown",
   "metadata": {},
   "source": [
    "# Entrenamiento y prediccion"
   ]
  },
  {
   "cell_type": "code",
   "execution_count": 97,
   "metadata": {},
   "outputs": [],
   "source": [
    "#Creo un dataset con los features que voy a usar para clasificar\n",
    "dsCHP1CopyX = dsCHP1Copy.drop(['is_canceled'], axis='columns', inplace=False)\n",
    "\n",
    "#Creo un dataset con la variable target\n",
    "dsCHP1CopyY = dsCHP1Copy['is_canceled'].copy()\n",
    "\n",
    "#Genero un conjunto de train a partir del dataframe de train\n",
    "xTrain, xTest, yTrain, yTest = train_test_split(dsCHP1CopyX,\n",
    "                                              dsCHP1CopyY,\n",
    "                                              test_size=0.3,\n",
    "                                              random_state=243)"
   ]
  },
  {
   "cell_type": "markdown",
   "metadata": {},
   "source": [
    "## Creacion de clasificador de hiperparametros"
   ]
  },
  {
   "cell_type": "code",
   "execution_count": 98,
   "metadata": {},
   "outputs": [],
   "source": [
    "treeModel = tree.DecisionTreeClassifier(criterion='entropy',\n",
    "                                        max_depth=20,\n",
    "                                        min_samples_leaf=10)\n",
    "#Entrenamiento\n",
    "model = treeModel.fit(X= xTrain, y= yTrain)"
   ]
  },
  {
   "cell_type": "code",
   "execution_count": 99,
   "metadata": {},
   "outputs": [
    {
     "data": {
      "text/plain": [
       "array([0, 0, 1, ..., 1, 1, 0], dtype=int64)"
      ]
     },
     "execution_count": 99,
     "metadata": {},
     "output_type": "execute_result"
    }
   ],
   "source": [
    "yPredicted = model.predict(xTest)\n",
    "#Valores predichos\n",
    "yPredicted"
   ]
  },
  {
   "cell_type": "code",
   "execution_count": 100,
   "metadata": {},
   "outputs": [
    {
     "data": {
      "text/plain": [
       "array([0, 0, 1, ..., 1, 1, 1], dtype=int64)"
      ]
     },
     "execution_count": 100,
     "metadata": {},
     "output_type": "execute_result"
    }
   ],
   "source": [
    "#Valores reales\n",
    "yTest.values"
   ]
  },
  {
   "cell_type": "markdown",
   "metadata": {},
   "source": [
    "## Matriz de confusion y metricas"
   ]
  },
  {
   "cell_type": "markdown",
   "metadata": {},
   "source": [
    "### Matriz de confusion"
   ]
  },
  {
   "cell_type": "code",
   "execution_count": 101,
   "metadata": {},
   "outputs": [
    {
     "data": {
      "text/plain": [
       "Text(50.722222222222214, 0.5, 'True')"
      ]
     },
     "execution_count": 101,
     "metadata": {},
     "output_type": "execute_result"
    },
    {
     "data": {
      "image/png": "[encoded data removed]",
      "text/plain": [
       "<Figure size 640x480 with 2 Axes>"
      ]
     },
     "metadata": {},
     "output_type": "display_data"
    }
   ],
   "source": [
    "tabla = confusion_matrix(yTest, yPredicted)\n",
    "\n",
    "sns.heatmap(tabla, cmap='GnBu', annot=True, fmt='g')\n",
    "plt.xlabel('Predicted')\n",
    "plt.ylabel('True')"
   ]
  },
  {
   "cell_type": "markdown",
   "metadata": {},
   "source": [
    "### Metricas"
   ]
  },
  {
   "cell_type": "code",
   "execution_count": 102,
   "metadata": {},
   "outputs": [
    {
     "name": "stdout",
     "output_type": "stream",
     "text": [
      "Accuracy: 0.8458971824023727\n",
      "Recall: 0.8591221329607638\n",
      "Precision: 0.8517834468428951\n",
      "f1 score: 0.8554370507767216\n"
     ]
    }
   ],
   "source": [
    "#Calculo las métricas en el conjunto de evaluación\n",
    "accuracy=accuracy_score(yTest,yPredicted)\n",
    "recall=recall_score(yTest,yPredicted)\n",
    "f1=f1_score(yTest,yPredicted,)\n",
    "precision=precision_score(yTest,yPredicted)\n",
    "\n",
    "print(\"Accuracy: \"+str(accuracy))\n",
    "print(\"Recall: \"+str(recall))\n",
    "print(\"Precision: \"+str(precision))\n",
    "print(\"f1 score: \"+str(f1))"
   ]
  },
  {
   "cell_type": "markdown",
   "metadata": {},
   "source": [
    "# Primer submission a Kaggle"
   ]
  },
  {
   "cell_type": "code",
   "execution_count": 103,
   "metadata": {},
   "outputs": [],
   "source": [
    "treeModel = tree.DecisionTreeClassifier(criterion='entropy',\n",
    "                                        max_depth=20,\n",
    "                                        min_samples_leaf=10)\n",
    "#Entrenamiento\n",
    "model = treeModel.fit(X= dsCHP1CopyX, y= dsCHP1CopyY)"
   ]
  },
  {
   "cell_type": "code",
   "execution_count": 104,
   "metadata": {},
   "outputs": [
    {
     "data": {
      "text/plain": [
       "array([1, 1, 0, ..., 1, 0, 0], dtype=int64)"
      ]
     },
     "execution_count": 104,
     "metadata": {},
     "output_type": "execute_result"
    }
   ],
   "source": [
    "yPredictedKaggle = model.predict(dsHotelsTestCopy)\n",
    "#Valores predichos\n",
    "yPredictedKaggle"
   ]
  },
  {
   "cell_type": "code",
   "execution_count": 105,
   "metadata": {},
   "outputs": [],
   "source": [
    "dsKaggle = pd.DataFrame(zip(dsHotelsTest['id'], yPredictedKaggle), columns=['id', 'is_canceled'])\n",
    "dsKaggle.to_csv(\"dsKaggleMateo.csv\",index=False)"
   ]
  },
  {
   "cell_type": "markdown",
   "metadata": {},
   "source": [
    "# Segunda submission a Kaggle"
   ]
  },
  {
   "cell_type": "markdown",
   "metadata": {},
   "source": [
    "## Eleccion de hiperparametros"
   ]
  },
  {
   "cell_type": "code",
   "execution_count": 106,
   "metadata": {},
   "outputs": [
    {
     "name": "stdout",
     "output_type": "stream",
     "text": [
      "# Datos Entrenamiento: 37760\n",
      "# Datos Prueba: 16184\n",
      "% Positivos Entrenamiento: 52.105\n",
      "% Positivos Prueba: 52.107\n"
     ]
    }
   ],
   "source": [
    "dsCHP1CopyX = dsCHP1Copy.drop(['is_canceled'], axis='columns', inplace=False)\n",
    "dsCHP1CopyY = dsCHP1Copy['is_canceled'].copy()\n",
    "\n",
    "xTrain, xTest, yTrain, yTest = train_test_split(dsCHP1CopyX,\n",
    "                                                dsCHP1CopyY,\n",
    "                                                test_size=0.3,    \n",
    "                                                random_state=243,\n",
    "                                                stratify=dsCHP1CopyY)\n",
    "\n",
    "#Verifico Cantidad de Datos en cada set\n",
    "print('# Datos Entrenamiento: {}'.format(len(xTrain)))\n",
    "print('# Datos Prueba: {}'.format(len(xTest)))\n",
    "\n",
    "#Verifico como quedaron balanceados\n",
    "for split_name, split in zip(['% Positivos Entrenamiento','% Positivos Prueba'],[yTrain,yTest]):\n",
    "  print('{}: {:.3f}'.format(split_name,pd.Series(split).value_counts(normalize=True)[1]*100))"
   ]
  },
  {
   "cell_type": "markdown",
   "metadata": {},
   "source": [
    "### KFOLD CV Random Search"
   ]
  },
  {
   "cell_type": "code",
   "execution_count": 122,
   "metadata": {},
   "outputs": [],
   "source": [
    "def CV_random_search_f1_score_optimizer(nIter, nFolds, maxDepth, minSamplesLeaf):\n",
    "\n",
    "    #Conjunto de parámetros que quiero usar\n",
    "    params_grid = {'criterion':['gini','entropy'],\n",
    "               'ccp_alpha':np.linspace(0,0.05,n),\n",
    "               'max_depth':list(range(1,maxDepth)),\n",
    "               'min_samples_leaf':list(range(1, minSamplesLeaf))}\n",
    "\n",
    "    #Kfold estratificado\n",
    "    kfoldcv = StratifiedKFold(n_splits=nFolds)\n",
    "\n",
    "    #Clasificador\n",
    "    base_tree = tree.DecisionTreeClassifier()\n",
    "\n",
    "    #Metrica que quiero optimizar F1 Score\n",
    "    scorer_fn = make_scorer(f1_score)\n",
    "\n",
    "    #Random Search Cross Validation\n",
    "    randomcv = RandomizedSearchCV(estimator=base_tree,\n",
    "                              param_distributions = params_grid,\n",
    "                              scoring=scorer_fn,\n",
    "                              cv=kfoldcv,\n",
    "                              n_iter=nIter,\n",
    "                              random_state=200)\n",
    "\n",
    "    #Busco los hiperparamtros que optimizan F1 Score\n",
    "    randomcv.fit(xTrain,yTrain);\n",
    "    print(randomcv.best_params_)\n",
    "    print(randomcv.best_score_)\n",
    "    return randomcv"
   ]
  },
  {
   "cell_type": "markdown",
   "metadata": {},
   "source": [
    "Generamos iterativamente combinacion de los 4 parametros (numero de iteraciones, nFolds, maxDepth y minSamplesLeaf) para ver como se comporta random search y con que parametros se llega a un score interesante"
   ]
  },
  {
   "cell_type": "code",
   "execution_count": 112,
   "metadata": {},
   "outputs": [
    {
     "name": "stdout",
     "output_type": "stream",
     "text": [
      "20 3 10 10\n",
      "{'min_samples_leaf': 2, 'max_depth': 7, 'criterion': 'entropy', 'ccp_alpha': 0.004081632653061225}\n",
      "0.7889816449890888\n",
      "20 3 10 20\n",
      "{'min_samples_leaf': 6, 'max_depth': 6, 'criterion': 'gini', 'ccp_alpha': 0.0020408163265306124}\n",
      "0.8022564951756025\n",
      "20 3 10 30\n",
      "{'min_samples_leaf': 21, 'max_depth': 9, 'criterion': 'gini', 'ccp_alpha': 0.0030612244897959186}\n",
      "0.8047710916453114\n",
      "20 3 20 10\n",
      "{'min_samples_leaf': 2, 'max_depth': 12, 'criterion': 'gini', 'ccp_alpha': 0.0020408163265306124}\n",
      "0.8133423141768549\n",
      "20 3 20 20\n",
      "{'min_samples_leaf': 10, 'max_depth': 12, 'criterion': 'entropy', 'ccp_alpha': 0.0071428571428571435}\n",
      "0.7875896340001646\n",
      "20 3 20 30\n",
      "{'min_samples_leaf': 2, 'max_depth': 9, 'criterion': 'entropy', 'ccp_alpha': 0.0}\n",
      "0.8104832597225405\n",
      "20 3 30 10\n",
      "{'min_samples_leaf': 1, 'max_depth': 29, 'criterion': 'gini', 'ccp_alpha': 0.0030612244897959186}\n",
      "0.8047710916453114\n",
      "20 3 30 20\n",
      "{'min_samples_leaf': 6, 'max_depth': 13, 'criterion': 'entropy', 'ccp_alpha': 0.0}\n",
      "0.8483966499319341\n",
      "20 3 30 30\n",
      "{'min_samples_leaf': 26, 'max_depth': 28, 'criterion': 'entropy', 'ccp_alpha': 0.004081632653061225}\n",
      "0.8106142785246871\n",
      "20 6 10 10\n",
      "{'min_samples_leaf': 2, 'max_depth': 7, 'criterion': 'entropy', 'ccp_alpha': 0.004081632653061225}\n",
      "0.7804135843065052\n",
      "20 6 10 20\n",
      "{'min_samples_leaf': 6, 'max_depth': 6, 'criterion': 'gini', 'ccp_alpha': 0.0020408163265306124}\n",
      "0.7956424532493903\n",
      "20 6 10 30\n",
      "{'min_samples_leaf': 21, 'max_depth': 9, 'criterion': 'gini', 'ccp_alpha': 0.0030612244897959186}\n",
      "0.805169690584126\n",
      "20 6 20 10\n",
      "{'min_samples_leaf': 2, 'max_depth': 12, 'criterion': 'gini', 'ccp_alpha': 0.0020408163265306124}\n",
      "0.8186777391992291\n",
      "20 6 20 20\n",
      "{'min_samples_leaf': 10, 'max_depth': 12, 'criterion': 'entropy', 'ccp_alpha': 0.0071428571428571435}\n",
      "0.7788809336637758\n",
      "20 6 20 30\n",
      "{'min_samples_leaf': 2, 'max_depth': 9, 'criterion': 'entropy', 'ccp_alpha': 0.0}\n",
      "0.8078511513979213\n",
      "20 6 30 10\n",
      "{'min_samples_leaf': 1, 'max_depth': 29, 'criterion': 'gini', 'ccp_alpha': 0.0030612244897959186}\n",
      "0.805169690584126\n",
      "20 6 30 20\n",
      "{'min_samples_leaf': 6, 'max_depth': 13, 'criterion': 'entropy', 'ccp_alpha': 0.0}\n",
      "0.8494970116031614\n",
      "20 6 30 30\n",
      "{'min_samples_leaf': 26, 'max_depth': 28, 'criterion': 'entropy', 'ccp_alpha': 0.004081632653061225}\n",
      "0.8064586443140573\n",
      "20 9 10 10\n",
      "{'min_samples_leaf': 2, 'max_depth': 7, 'criterion': 'entropy', 'ccp_alpha': 0.004081632653061225}\n",
      "0.7845600883927955\n",
      "20 9 10 20\n",
      "{'min_samples_leaf': 6, 'max_depth': 6, 'criterion': 'gini', 'ccp_alpha': 0.0020408163265306124}\n",
      "0.8007797358272692\n",
      "20 9 10 30\n",
      "{'min_samples_leaf': 21, 'max_depth': 9, 'criterion': 'gini', 'ccp_alpha': 0.0030612244897959186}\n",
      "0.804449261743836\n",
      "20 9 20 10\n",
      "{'min_samples_leaf': 2, 'max_depth': 12, 'criterion': 'gini', 'ccp_alpha': 0.0020408163265306124}\n",
      "0.8153455401007005\n",
      "20 9 20 20\n",
      "{'min_samples_leaf': 10, 'max_depth': 12, 'criterion': 'entropy', 'ccp_alpha': 0.0071428571428571435}\n",
      "0.7832858536362685\n",
      "20 9 20 30\n",
      "{'min_samples_leaf': 2, 'max_depth': 9, 'criterion': 'entropy', 'ccp_alpha': 0.0}\n",
      "0.8114706857902868\n",
      "20 9 30 10\n",
      "{'min_samples_leaf': 1, 'max_depth': 29, 'criterion': 'gini', 'ccp_alpha': 0.0030612244897959186}\n",
      "0.804449261743836\n",
      "20 9 30 20\n",
      "{'min_samples_leaf': 6, 'max_depth': 13, 'criterion': 'entropy', 'ccp_alpha': 0.0}\n",
      "0.8522572473809071\n",
      "20 9 30 30\n",
      "{'min_samples_leaf': 17, 'max_depth': 17, 'criterion': 'gini', 'ccp_alpha': 0.0030612244897959186}\n",
      "0.804449261743836\n",
      "20 12 10 10\n",
      "{'min_samples_leaf': 2, 'max_depth': 7, 'criterion': 'entropy', 'ccp_alpha': 0.004081632653061225}\n",
      "0.7814112693250278\n",
      "20 12 10 20\n",
      "{'min_samples_leaf': 14, 'max_depth': 6, 'criterion': 'gini', 'ccp_alpha': 0.005102040816326531}\n",
      "0.7971721119914075\n",
      "20 12 10 30\n",
      "{'min_samples_leaf': 21, 'max_depth': 9, 'criterion': 'gini', 'ccp_alpha': 0.0030612244897959186}\n",
      "0.80030812950065\n",
      "20 12 20 10\n",
      "{'min_samples_leaf': 2, 'max_depth': 12, 'criterion': 'gini', 'ccp_alpha': 0.0020408163265306124}\n",
      "0.8176065654526828\n",
      "20 12 20 20\n",
      "{'min_samples_leaf': 10, 'max_depth': 12, 'criterion': 'entropy', 'ccp_alpha': 0.0071428571428571435}\n",
      "0.7788513095454795\n",
      "20 12 20 30\n",
      "{'min_samples_leaf': 2, 'max_depth': 9, 'criterion': 'entropy', 'ccp_alpha': 0.0}\n",
      "0.8103417239337544\n",
      "20 12 30 10\n",
      "{'min_samples_leaf': 1, 'max_depth': 29, 'criterion': 'gini', 'ccp_alpha': 0.0030612244897959186}\n",
      "0.80030812950065\n",
      "20 12 30 20\n",
      "{'min_samples_leaf': 6, 'max_depth': 13, 'criterion': 'entropy', 'ccp_alpha': 0.0}\n",
      "0.8520887950170827\n",
      "20 12 30 30\n",
      "{'min_samples_leaf': 26, 'max_depth': 28, 'criterion': 'entropy', 'ccp_alpha': 0.004081632653061225}\n",
      "0.8054267604495835\n",
      "40 3 10 10\n",
      "{'min_samples_leaf': 7, 'max_depth': 9, 'criterion': 'entropy', 'ccp_alpha': 0.0}\n",
      "0.8101581155512845\n",
      "40 3 10 20\n",
      "{'min_samples_leaf': 7, 'max_depth': 7, 'criterion': 'gini', 'ccp_alpha': 0.0010204081632653062}\n",
      "0.8136088892173929\n",
      "40 3 10 30\n",
      "{'min_samples_leaf': 21, 'max_depth': 9, 'criterion': 'gini', 'ccp_alpha': 0.0030612244897959186}\n",
      "0.8047710916453114\n",
      "40 3 20 10\n",
      "{'min_samples_leaf': 9, 'max_depth': 11, 'criterion': 'entropy', 'ccp_alpha': 0.0010204081632653062}\n",
      "0.83759810496754\n",
      "40 3 20 20\n",
      "{'min_samples_leaf': 4, 'max_depth': 14, 'criterion': 'entropy', 'ccp_alpha': 0.0}\n",
      "0.8497340920991908\n",
      "40 3 20 30\n",
      "{'min_samples_leaf': 20, 'max_depth': 12, 'criterion': 'gini', 'ccp_alpha': 0.0010204081632653062}\n",
      "0.8223569819122108\n",
      "40 3 30 10\n",
      "{'min_samples_leaf': 1, 'max_depth': 16, 'criterion': 'entropy', 'ccp_alpha': 0.0020408163265306124}\n",
      "0.8311454952254733\n",
      "40 3 30 20\n",
      "{'min_samples_leaf': 6, 'max_depth': 13, 'criterion': 'entropy', 'ccp_alpha': 0.0}\n",
      "0.8484175650362297\n",
      "40 3 30 30\n",
      "{'min_samples_leaf': 20, 'max_depth': 21, 'criterion': 'entropy', 'ccp_alpha': 0.0}\n",
      "0.8444458404645526\n",
      "40 6 10 10\n",
      "{'min_samples_leaf': 7, 'max_depth': 9, 'criterion': 'entropy', 'ccp_alpha': 0.0}\n",
      "0.8079738619953726\n",
      "40 6 10 20\n",
      "{'min_samples_leaf': 7, 'max_depth': 7, 'criterion': 'gini', 'ccp_alpha': 0.0010204081632653062}\n",
      "0.8093529032011961\n",
      "40 6 10 30\n",
      "{'min_samples_leaf': 21, 'max_depth': 9, 'criterion': 'gini', 'ccp_alpha': 0.0030612244897959186}\n",
      "0.805169690584126\n",
      "40 6 20 10\n",
      "{'min_samples_leaf': 9, 'max_depth': 11, 'criterion': 'entropy', 'ccp_alpha': 0.0010204081632653062}\n",
      "0.837126807074993\n",
      "40 6 20 20\n",
      "{'min_samples_leaf': 4, 'max_depth': 14, 'criterion': 'entropy', 'ccp_alpha': 0.0}\n",
      "0.8497960197602857\n",
      "40 6 20 30\n",
      "{'min_samples_leaf': 20, 'max_depth': 12, 'criterion': 'gini', 'ccp_alpha': 0.0010204081632653062}\n",
      "0.8244281978365539\n",
      "40 6 30 10\n"
     ]
    },
    {
     "ename": "KeyboardInterrupt",
     "evalue": "",
     "output_type": "error",
     "traceback": [
      "\u001b[1;31m---------------------------------------------------------------------------\u001b[0m",
      "\u001b[1;31mKeyboardInterrupt\u001b[0m                         Traceback (most recent call last)",
      "\u001b[1;32mc:\\Users\\UNITEC\\TP1OrgaDeDatos\\7506R-2C2023-GRUPO07\\ModeloArbolDeDecisionMateo.ipynb Celda 51\u001b[0m line \u001b[0;36m6\n\u001b[0;32m      <a href='vscode-notebook-cell:/c%3A/Users/UNITEC/TP1OrgaDeDatos/7506R-2C2023-GRUPO07/ModeloArbolDeDecisionMateo.ipynb#Y102sZmlsZQ%3D%3D?line=3'>4</a>\u001b[0m \u001b[39mfor\u001b[39;00m minSamplesLeaf \u001b[39min\u001b[39;00m \u001b[39mrange\u001b[39m(\u001b[39m10\u001b[39m, \u001b[39m40\u001b[39m, \u001b[39m10\u001b[39m):\n\u001b[0;32m      <a href='vscode-notebook-cell:/c%3A/Users/UNITEC/TP1OrgaDeDatos/7506R-2C2023-GRUPO07/ModeloArbolDeDecisionMateo.ipynb#Y102sZmlsZQ%3D%3D?line=4'>5</a>\u001b[0m     \u001b[39mprint\u001b[39m(nIter, nFolds ,maxDepth ,minSamplesLeaf)\n\u001b[1;32m----> <a href='vscode-notebook-cell:/c%3A/Users/UNITEC/TP1OrgaDeDatos/7506R-2C2023-GRUPO07/ModeloArbolDeDecisionMateo.ipynb#Y102sZmlsZQ%3D%3D?line=5'>6</a>\u001b[0m     CV_random_search_f1_score_optimizer(nIter, nFolds ,maxDepth ,minSamplesLeaf)\n",
      "\u001b[1;32mc:\\Users\\UNITEC\\TP1OrgaDeDatos\\7506R-2C2023-GRUPO07\\ModeloArbolDeDecisionMateo.ipynb Celda 51\u001b[0m line \u001b[0;36m2\n\u001b[0;32m     <a href='vscode-notebook-cell:/c%3A/Users/UNITEC/TP1OrgaDeDatos/7506R-2C2023-GRUPO07/ModeloArbolDeDecisionMateo.ipynb#Y102sZmlsZQ%3D%3D?line=18'>19</a>\u001b[0m randomcv \u001b[39m=\u001b[39m RandomizedSearchCV(estimator\u001b[39m=\u001b[39mbase_tree,\n\u001b[0;32m     <a href='vscode-notebook-cell:/c%3A/Users/UNITEC/TP1OrgaDeDatos/7506R-2C2023-GRUPO07/ModeloArbolDeDecisionMateo.ipynb#Y102sZmlsZQ%3D%3D?line=19'>20</a>\u001b[0m                           param_distributions \u001b[39m=\u001b[39m params_grid,\n\u001b[0;32m     <a href='vscode-notebook-cell:/c%3A/Users/UNITEC/TP1OrgaDeDatos/7506R-2C2023-GRUPO07/ModeloArbolDeDecisionMateo.ipynb#Y102sZmlsZQ%3D%3D?line=20'>21</a>\u001b[0m                           scoring\u001b[39m=\u001b[39mscorer_fn,\n\u001b[0;32m     <a href='vscode-notebook-cell:/c%3A/Users/UNITEC/TP1OrgaDeDatos/7506R-2C2023-GRUPO07/ModeloArbolDeDecisionMateo.ipynb#Y102sZmlsZQ%3D%3D?line=21'>22</a>\u001b[0m                           cv\u001b[39m=\u001b[39mkfoldcv,\n\u001b[0;32m     <a href='vscode-notebook-cell:/c%3A/Users/UNITEC/TP1OrgaDeDatos/7506R-2C2023-GRUPO07/ModeloArbolDeDecisionMateo.ipynb#Y102sZmlsZQ%3D%3D?line=22'>23</a>\u001b[0m                           n_iter\u001b[39m=\u001b[39mnIter,\n\u001b[0;32m     <a href='vscode-notebook-cell:/c%3A/Users/UNITEC/TP1OrgaDeDatos/7506R-2C2023-GRUPO07/ModeloArbolDeDecisionMateo.ipynb#Y102sZmlsZQ%3D%3D?line=23'>24</a>\u001b[0m                           random_state\u001b[39m=\u001b[39m\u001b[39m200\u001b[39m)\n\u001b[0;32m     <a href='vscode-notebook-cell:/c%3A/Users/UNITEC/TP1OrgaDeDatos/7506R-2C2023-GRUPO07/ModeloArbolDeDecisionMateo.ipynb#Y102sZmlsZQ%3D%3D?line=25'>26</a>\u001b[0m \u001b[39m#Busco los hiperparamtros que optimizan F1 Score\u001b[39;00m\n\u001b[1;32m---> <a href='vscode-notebook-cell:/c%3A/Users/UNITEC/TP1OrgaDeDatos/7506R-2C2023-GRUPO07/ModeloArbolDeDecisionMateo.ipynb#Y102sZmlsZQ%3D%3D?line=26'>27</a>\u001b[0m randomcv\u001b[39m.\u001b[39;49mfit(xTrain,yTrain);\n\u001b[0;32m     <a href='vscode-notebook-cell:/c%3A/Users/UNITEC/TP1OrgaDeDatos/7506R-2C2023-GRUPO07/ModeloArbolDeDecisionMateo.ipynb#Y102sZmlsZQ%3D%3D?line=27'>28</a>\u001b[0m \u001b[39mprint\u001b[39m(randomcv\u001b[39m.\u001b[39mbest_params_)\n\u001b[0;32m     <a href='vscode-notebook-cell:/c%3A/Users/UNITEC/TP1OrgaDeDatos/7506R-2C2023-GRUPO07/ModeloArbolDeDecisionMateo.ipynb#Y102sZmlsZQ%3D%3D?line=28'>29</a>\u001b[0m \u001b[39mprint\u001b[39m(randomcv\u001b[39m.\u001b[39mbest_score_)\n",
      "File \u001b[1;32mc:\\Users\\UNITEC\\AppData\\Local\\Programs\\Python\\Python311\\Lib\\site-packages\\sklearn\\base.py:1152\u001b[0m, in \u001b[0;36m_fit_context.<locals>.decorator.<locals>.wrapper\u001b[1;34m(estimator, *args, **kwargs)\u001b[0m\n\u001b[0;32m   1145\u001b[0m     estimator\u001b[39m.\u001b[39m_validate_params()\n\u001b[0;32m   1147\u001b[0m \u001b[39mwith\u001b[39;00m config_context(\n\u001b[0;32m   1148\u001b[0m     skip_parameter_validation\u001b[39m=\u001b[39m(\n\u001b[0;32m   1149\u001b[0m         prefer_skip_nested_validation \u001b[39mor\u001b[39;00m global_skip_validation\n\u001b[0;32m   1150\u001b[0m     )\n\u001b[0;32m   1151\u001b[0m ):\n\u001b[1;32m-> 1152\u001b[0m     \u001b[39mreturn\u001b[39;00m fit_method(estimator, \u001b[39m*\u001b[39;49margs, \u001b[39m*\u001b[39;49m\u001b[39m*\u001b[39;49mkwargs)\n",
      "File \u001b[1;32mc:\\Users\\UNITEC\\AppData\\Local\\Programs\\Python\\Python311\\Lib\\site-packages\\sklearn\\model_selection\\_search.py:898\u001b[0m, in \u001b[0;36mBaseSearchCV.fit\u001b[1;34m(self, X, y, groups, **fit_params)\u001b[0m\n\u001b[0;32m    892\u001b[0m     results \u001b[39m=\u001b[39m \u001b[39mself\u001b[39m\u001b[39m.\u001b[39m_format_results(\n\u001b[0;32m    893\u001b[0m         all_candidate_params, n_splits, all_out, all_more_results\n\u001b[0;32m    894\u001b[0m     )\n\u001b[0;32m    896\u001b[0m     \u001b[39mreturn\u001b[39;00m results\n\u001b[1;32m--> 898\u001b[0m \u001b[39mself\u001b[39;49m\u001b[39m.\u001b[39;49m_run_search(evaluate_candidates)\n\u001b[0;32m    900\u001b[0m \u001b[39m# multimetric is determined here because in the case of a callable\u001b[39;00m\n\u001b[0;32m    901\u001b[0m \u001b[39m# self.scoring the return type is only known after calling\u001b[39;00m\n\u001b[0;32m    902\u001b[0m first_test_score \u001b[39m=\u001b[39m all_out[\u001b[39m0\u001b[39m][\u001b[39m\"\u001b[39m\u001b[39mtest_scores\u001b[39m\u001b[39m\"\u001b[39m]\n",
      "File \u001b[1;32mc:\\Users\\UNITEC\\AppData\\Local\\Programs\\Python\\Python311\\Lib\\site-packages\\sklearn\\model_selection\\_search.py:1809\u001b[0m, in \u001b[0;36mRandomizedSearchCV._run_search\u001b[1;34m(self, evaluate_candidates)\u001b[0m\n\u001b[0;32m   1807\u001b[0m \u001b[39mdef\u001b[39;00m \u001b[39m_run_search\u001b[39m(\u001b[39mself\u001b[39m, evaluate_candidates):\n\u001b[0;32m   1808\u001b[0m \u001b[39m    \u001b[39m\u001b[39m\"\"\"Search n_iter candidates from param_distributions\"\"\"\u001b[39;00m\n\u001b[1;32m-> 1809\u001b[0m     evaluate_candidates(\n\u001b[0;32m   1810\u001b[0m         ParameterSampler(\n\u001b[0;32m   1811\u001b[0m             \u001b[39mself\u001b[39;49m\u001b[39m.\u001b[39;49mparam_distributions, \u001b[39mself\u001b[39;49m\u001b[39m.\u001b[39;49mn_iter, random_state\u001b[39m=\u001b[39;49m\u001b[39mself\u001b[39;49m\u001b[39m.\u001b[39;49mrandom_state\n\u001b[0;32m   1812\u001b[0m         )\n\u001b[0;32m   1813\u001b[0m     )\n",
      "File \u001b[1;32mc:\\Users\\UNITEC\\AppData\\Local\\Programs\\Python\\Python311\\Lib\\site-packages\\sklearn\\model_selection\\_search.py:845\u001b[0m, in \u001b[0;36mBaseSearchCV.fit.<locals>.evaluate_candidates\u001b[1;34m(candidate_params, cv, more_results)\u001b[0m\n\u001b[0;32m    837\u001b[0m \u001b[39mif\u001b[39;00m \u001b[39mself\u001b[39m\u001b[39m.\u001b[39mverbose \u001b[39m>\u001b[39m \u001b[39m0\u001b[39m:\n\u001b[0;32m    838\u001b[0m     \u001b[39mprint\u001b[39m(\n\u001b[0;32m    839\u001b[0m         \u001b[39m\"\u001b[39m\u001b[39mFitting \u001b[39m\u001b[39m{0}\u001b[39;00m\u001b[39m folds for each of \u001b[39m\u001b[39m{1}\u001b[39;00m\u001b[39m candidates,\u001b[39m\u001b[39m\"\u001b[39m\n\u001b[0;32m    840\u001b[0m         \u001b[39m\"\u001b[39m\u001b[39m totalling \u001b[39m\u001b[39m{2}\u001b[39;00m\u001b[39m fits\u001b[39m\u001b[39m\"\u001b[39m\u001b[39m.\u001b[39mformat(\n\u001b[0;32m    841\u001b[0m             n_splits, n_candidates, n_candidates \u001b[39m*\u001b[39m n_splits\n\u001b[0;32m    842\u001b[0m         )\n\u001b[0;32m    843\u001b[0m     )\n\u001b[1;32m--> 845\u001b[0m out \u001b[39m=\u001b[39m parallel(\n\u001b[0;32m    846\u001b[0m     delayed(_fit_and_score)(\n\u001b[0;32m    847\u001b[0m         clone(base_estimator),\n\u001b[0;32m    848\u001b[0m         X,\n\u001b[0;32m    849\u001b[0m         y,\n\u001b[0;32m    850\u001b[0m         train\u001b[39m=\u001b[39;49mtrain,\n\u001b[0;32m    851\u001b[0m         test\u001b[39m=\u001b[39;49mtest,\n\u001b[0;32m    852\u001b[0m         parameters\u001b[39m=\u001b[39;49mparameters,\n\u001b[0;32m    853\u001b[0m         split_progress\u001b[39m=\u001b[39;49m(split_idx, n_splits),\n\u001b[0;32m    854\u001b[0m         candidate_progress\u001b[39m=\u001b[39;49m(cand_idx, n_candidates),\n\u001b[0;32m    855\u001b[0m         \u001b[39m*\u001b[39;49m\u001b[39m*\u001b[39;49mfit_and_score_kwargs,\n\u001b[0;32m    856\u001b[0m     )\n\u001b[0;32m    857\u001b[0m     \u001b[39mfor\u001b[39;49;00m (cand_idx, parameters), (split_idx, (train, test)) \u001b[39min\u001b[39;49;00m product(\n\u001b[0;32m    858\u001b[0m         \u001b[39menumerate\u001b[39;49m(candidate_params), \u001b[39menumerate\u001b[39;49m(cv\u001b[39m.\u001b[39;49msplit(X, y, groups))\n\u001b[0;32m    859\u001b[0m     )\n\u001b[0;32m    860\u001b[0m )\n\u001b[0;32m    862\u001b[0m \u001b[39mif\u001b[39;00m \u001b[39mlen\u001b[39m(out) \u001b[39m<\u001b[39m \u001b[39m1\u001b[39m:\n\u001b[0;32m    863\u001b[0m     \u001b[39mraise\u001b[39;00m \u001b[39mValueError\u001b[39;00m(\n\u001b[0;32m    864\u001b[0m         \u001b[39m\"\u001b[39m\u001b[39mNo fits were performed. \u001b[39m\u001b[39m\"\u001b[39m\n\u001b[0;32m    865\u001b[0m         \u001b[39m\"\u001b[39m\u001b[39mWas the CV iterator empty? \u001b[39m\u001b[39m\"\u001b[39m\n\u001b[0;32m    866\u001b[0m         \u001b[39m\"\u001b[39m\u001b[39mWere there no candidates?\u001b[39m\u001b[39m\"\u001b[39m\n\u001b[0;32m    867\u001b[0m     )\n",
      "File \u001b[1;32mc:\\Users\\UNITEC\\AppData\\Local\\Programs\\Python\\Python311\\Lib\\site-packages\\sklearn\\utils\\parallel.py:65\u001b[0m, in \u001b[0;36mParallel.__call__\u001b[1;34m(self, iterable)\u001b[0m\n\u001b[0;32m     60\u001b[0m config \u001b[39m=\u001b[39m get_config()\n\u001b[0;32m     61\u001b[0m iterable_with_config \u001b[39m=\u001b[39m (\n\u001b[0;32m     62\u001b[0m     (_with_config(delayed_func, config), args, kwargs)\n\u001b[0;32m     63\u001b[0m     \u001b[39mfor\u001b[39;00m delayed_func, args, kwargs \u001b[39min\u001b[39;00m iterable\n\u001b[0;32m     64\u001b[0m )\n\u001b[1;32m---> 65\u001b[0m \u001b[39mreturn\u001b[39;00m \u001b[39msuper\u001b[39;49m()\u001b[39m.\u001b[39;49m\u001b[39m__call__\u001b[39;49m(iterable_with_config)\n",
      "File \u001b[1;32mc:\\Users\\UNITEC\\AppData\\Local\\Programs\\Python\\Python311\\Lib\\site-packages\\joblib\\parallel.py:1863\u001b[0m, in \u001b[0;36mParallel.__call__\u001b[1;34m(self, iterable)\u001b[0m\n\u001b[0;32m   1861\u001b[0m     output \u001b[39m=\u001b[39m \u001b[39mself\u001b[39m\u001b[39m.\u001b[39m_get_sequential_output(iterable)\n\u001b[0;32m   1862\u001b[0m     \u001b[39mnext\u001b[39m(output)\n\u001b[1;32m-> 1863\u001b[0m     \u001b[39mreturn\u001b[39;00m output \u001b[39mif\u001b[39;00m \u001b[39mself\u001b[39m\u001b[39m.\u001b[39mreturn_generator \u001b[39melse\u001b[39;00m \u001b[39mlist\u001b[39m(output)\n\u001b[0;32m   1865\u001b[0m \u001b[39m# Let's create an ID that uniquely identifies the current call. If the\u001b[39;00m\n\u001b[0;32m   1866\u001b[0m \u001b[39m# call is interrupted early and that the same instance is immediately\u001b[39;00m\n\u001b[0;32m   1867\u001b[0m \u001b[39m# re-used, this id will be used to prevent workers that were\u001b[39;00m\n\u001b[0;32m   1868\u001b[0m \u001b[39m# concurrently finalizing a task from the previous call to run the\u001b[39;00m\n\u001b[0;32m   1869\u001b[0m \u001b[39m# callback.\u001b[39;00m\n\u001b[0;32m   1870\u001b[0m \u001b[39mwith\u001b[39;00m \u001b[39mself\u001b[39m\u001b[39m.\u001b[39m_lock:\n",
      "File \u001b[1;32mc:\\Users\\UNITEC\\AppData\\Local\\Programs\\Python\\Python311\\Lib\\site-packages\\joblib\\parallel.py:1792\u001b[0m, in \u001b[0;36mParallel._get_sequential_output\u001b[1;34m(self, iterable)\u001b[0m\n\u001b[0;32m   1790\u001b[0m \u001b[39mself\u001b[39m\u001b[39m.\u001b[39mn_dispatched_batches \u001b[39m+\u001b[39m\u001b[39m=\u001b[39m \u001b[39m1\u001b[39m\n\u001b[0;32m   1791\u001b[0m \u001b[39mself\u001b[39m\u001b[39m.\u001b[39mn_dispatched_tasks \u001b[39m+\u001b[39m\u001b[39m=\u001b[39m \u001b[39m1\u001b[39m\n\u001b[1;32m-> 1792\u001b[0m res \u001b[39m=\u001b[39m func(\u001b[39m*\u001b[39;49margs, \u001b[39m*\u001b[39;49m\u001b[39m*\u001b[39;49mkwargs)\n\u001b[0;32m   1793\u001b[0m \u001b[39mself\u001b[39m\u001b[39m.\u001b[39mn_completed_tasks \u001b[39m+\u001b[39m\u001b[39m=\u001b[39m \u001b[39m1\u001b[39m\n\u001b[0;32m   1794\u001b[0m \u001b[39mself\u001b[39m\u001b[39m.\u001b[39mprint_progress()\n",
      "File \u001b[1;32mc:\\Users\\UNITEC\\AppData\\Local\\Programs\\Python\\Python311\\Lib\\site-packages\\sklearn\\utils\\parallel.py:127\u001b[0m, in \u001b[0;36m_FuncWrapper.__call__\u001b[1;34m(self, *args, **kwargs)\u001b[0m\n\u001b[0;32m    125\u001b[0m     config \u001b[39m=\u001b[39m {}\n\u001b[0;32m    126\u001b[0m \u001b[39mwith\u001b[39;00m config_context(\u001b[39m*\u001b[39m\u001b[39m*\u001b[39mconfig):\n\u001b[1;32m--> 127\u001b[0m     \u001b[39mreturn\u001b[39;00m \u001b[39mself\u001b[39;49m\u001b[39m.\u001b[39;49mfunction(\u001b[39m*\u001b[39;49margs, \u001b[39m*\u001b[39;49m\u001b[39m*\u001b[39;49mkwargs)\n",
      "File \u001b[1;32mc:\\Users\\UNITEC\\AppData\\Local\\Programs\\Python\\Python311\\Lib\\site-packages\\sklearn\\model_selection\\_validation.py:729\u001b[0m, in \u001b[0;36m_fit_and_score\u001b[1;34m(estimator, X, y, scorer, train, test, verbose, parameters, fit_params, return_train_score, return_parameters, return_n_test_samples, return_times, return_estimator, split_progress, candidate_progress, error_score)\u001b[0m\n\u001b[0;32m    727\u001b[0m         estimator\u001b[39m.\u001b[39mfit(X_train, \u001b[39m*\u001b[39m\u001b[39m*\u001b[39mfit_params)\n\u001b[0;32m    728\u001b[0m     \u001b[39melse\u001b[39;00m:\n\u001b[1;32m--> 729\u001b[0m         estimator\u001b[39m.\u001b[39;49mfit(X_train, y_train, \u001b[39m*\u001b[39;49m\u001b[39m*\u001b[39;49mfit_params)\n\u001b[0;32m    731\u001b[0m \u001b[39mexcept\u001b[39;00m \u001b[39mException\u001b[39;00m:\n\u001b[0;32m    732\u001b[0m     \u001b[39m# Note fit time as time until error\u001b[39;00m\n\u001b[0;32m    733\u001b[0m     fit_time \u001b[39m=\u001b[39m time\u001b[39m.\u001b[39mtime() \u001b[39m-\u001b[39m start_time\n",
      "File \u001b[1;32mc:\\Users\\UNITEC\\AppData\\Local\\Programs\\Python\\Python311\\Lib\\site-packages\\sklearn\\base.py:1152\u001b[0m, in \u001b[0;36m_fit_context.<locals>.decorator.<locals>.wrapper\u001b[1;34m(estimator, *args, **kwargs)\u001b[0m\n\u001b[0;32m   1145\u001b[0m     estimator\u001b[39m.\u001b[39m_validate_params()\n\u001b[0;32m   1147\u001b[0m \u001b[39mwith\u001b[39;00m config_context(\n\u001b[0;32m   1148\u001b[0m     skip_parameter_validation\u001b[39m=\u001b[39m(\n\u001b[0;32m   1149\u001b[0m         prefer_skip_nested_validation \u001b[39mor\u001b[39;00m global_skip_validation\n\u001b[0;32m   1150\u001b[0m     )\n\u001b[0;32m   1151\u001b[0m ):\n\u001b[1;32m-> 1152\u001b[0m     \u001b[39mreturn\u001b[39;00m fit_method(estimator, \u001b[39m*\u001b[39;49margs, \u001b[39m*\u001b[39;49m\u001b[39m*\u001b[39;49mkwargs)\n",
      "File \u001b[1;32mc:\\Users\\UNITEC\\AppData\\Local\\Programs\\Python\\Python311\\Lib\\site-packages\\sklearn\\tree\\_classes.py:959\u001b[0m, in \u001b[0;36mDecisionTreeClassifier.fit\u001b[1;34m(self, X, y, sample_weight, check_input)\u001b[0m\n\u001b[0;32m    928\u001b[0m \u001b[39m@_fit_context\u001b[39m(prefer_skip_nested_validation\u001b[39m=\u001b[39m\u001b[39mTrue\u001b[39;00m)\n\u001b[0;32m    929\u001b[0m \u001b[39mdef\u001b[39;00m \u001b[39mfit\u001b[39m(\u001b[39mself\u001b[39m, X, y, sample_weight\u001b[39m=\u001b[39m\u001b[39mNone\u001b[39;00m, check_input\u001b[39m=\u001b[39m\u001b[39mTrue\u001b[39;00m):\n\u001b[0;32m    930\u001b[0m \u001b[39m    \u001b[39m\u001b[39m\"\"\"Build a decision tree classifier from the training set (X, y).\u001b[39;00m\n\u001b[0;32m    931\u001b[0m \n\u001b[0;32m    932\u001b[0m \u001b[39m    Parameters\u001b[39;00m\n\u001b[1;32m   (...)\u001b[0m\n\u001b[0;32m    956\u001b[0m \u001b[39m        Fitted estimator.\u001b[39;00m\n\u001b[0;32m    957\u001b[0m \u001b[39m    \"\"\"\u001b[39;00m\n\u001b[1;32m--> 959\u001b[0m     \u001b[39msuper\u001b[39;49m()\u001b[39m.\u001b[39;49m_fit(\n\u001b[0;32m    960\u001b[0m         X,\n\u001b[0;32m    961\u001b[0m         y,\n\u001b[0;32m    962\u001b[0m         sample_weight\u001b[39m=\u001b[39;49msample_weight,\n\u001b[0;32m    963\u001b[0m         check_input\u001b[39m=\u001b[39;49mcheck_input,\n\u001b[0;32m    964\u001b[0m     )\n\u001b[0;32m    965\u001b[0m     \u001b[39mreturn\u001b[39;00m \u001b[39mself\u001b[39m\n",
      "File \u001b[1;32mc:\\Users\\UNITEC\\AppData\\Local\\Programs\\Python\\Python311\\Lib\\site-packages\\sklearn\\tree\\_classes.py:443\u001b[0m, in \u001b[0;36mBaseDecisionTree._fit\u001b[1;34m(self, X, y, sample_weight, check_input, missing_values_in_feature_mask)\u001b[0m\n\u001b[0;32m    432\u001b[0m \u001b[39melse\u001b[39;00m:\n\u001b[0;32m    433\u001b[0m     builder \u001b[39m=\u001b[39m BestFirstTreeBuilder(\n\u001b[0;32m    434\u001b[0m         splitter,\n\u001b[0;32m    435\u001b[0m         min_samples_split,\n\u001b[1;32m   (...)\u001b[0m\n\u001b[0;32m    440\u001b[0m         \u001b[39mself\u001b[39m\u001b[39m.\u001b[39mmin_impurity_decrease,\n\u001b[0;32m    441\u001b[0m     )\n\u001b[1;32m--> 443\u001b[0m builder\u001b[39m.\u001b[39;49mbuild(\u001b[39mself\u001b[39;49m\u001b[39m.\u001b[39;49mtree_, X, y, sample_weight, missing_values_in_feature_mask)\n\u001b[0;32m    445\u001b[0m \u001b[39mif\u001b[39;00m \u001b[39mself\u001b[39m\u001b[39m.\u001b[39mn_outputs_ \u001b[39m==\u001b[39m \u001b[39m1\u001b[39m \u001b[39mand\u001b[39;00m is_classifier(\u001b[39mself\u001b[39m):\n\u001b[0;32m    446\u001b[0m     \u001b[39mself\u001b[39m\u001b[39m.\u001b[39mn_classes_ \u001b[39m=\u001b[39m \u001b[39mself\u001b[39m\u001b[39m.\u001b[39mn_classes_[\u001b[39m0\u001b[39m]\n",
      "\u001b[1;31mKeyboardInterrupt\u001b[0m: "
     ]
    }
   ],
   "source": [
    "for nIter in range(20, 40, 20):\n",
    "    for nFolds in range(3, 6, 3):\n",
    "        for maxDepth in range(10, 40, 10):\n",
    "            for minSamplesLeaf in range(10, 40, 10):\n",
    "                print(nIter, nFolds ,maxDepth ,minSamplesLeaf)\n",
    "                CV_random_search_f1_score_optimizer(nIter, nFolds ,maxDepth ,minSamplesLeaf)"
   ]
  },
  {
   "cell_type": "markdown",
   "metadata": {},
   "source": [
    "De toda esta cantidad de muestras podemos ver algunos parametros que tuvieron un score interesante, entre ellos esta por ejemplo:\n",
    "(40, 3 ,20, 20),\n",
    "(40, 3 ,30, 20)\n",
    "(40 ,3 ,30 ,30)\n",
    "(40, 6 ,20 ,20)"
   ]
  },
  {
   "cell_type": "code",
   "execution_count": 113,
   "metadata": {},
   "outputs": [
    {
     "name": "stdout",
     "output_type": "stream",
     "text": [
      "{'min_samples_leaf': 4, 'max_depth': 14, 'criterion': 'entropy', 'ccp_alpha': 0.0}\n",
      "0.849780621412819\n"
     ]
    }
   ],
   "source": [
    "CV_random_search_f1_score_optimizer(40,6,20,20)"
   ]
  },
  {
   "cell_type": "code",
   "execution_count": 117,
   "metadata": {},
   "outputs": [
    {
     "name": "stdout",
     "output_type": "stream",
     "text": [
      "{'min_samples_leaf': 4, 'max_depth': 14, 'criterion': 'entropy', 'ccp_alpha': 0.0}\n",
      "0.8538538457044856\n"
     ]
    }
   ],
   "source": [
    "CV_random_search_f1_score_optimizer(40,9,20,20)"
   ]
  },
  {
   "cell_type": "markdown",
   "metadata": {},
   "source": [
    "## Prediccion y Evaluacion del modelo con mejores hiperparametros"
   ]
  },
  {
   "cell_type": "code",
   "execution_count": 128,
   "metadata": {},
   "outputs": [
    {
     "name": "stdout",
     "output_type": "stream",
     "text": [
      "{'min_samples_leaf': 4, 'max_depth': 14, 'criterion': 'entropy', 'ccp_alpha': 0.0}\n",
      "0.8539151359913272\n"
     ]
    },
    {
     "data": {
      "text/html": [
       "<style>#sk-container-id-3 {color: black;}#sk-container-id-3 pre{padding: 0;}#sk-container-id-3 div.sk-toggleable {background-color: white;}#sk-container-id-3 label.sk-toggleable__label {cursor: pointer;display: block;width: 100%;margin-bottom: 0;padding: 0.3em;box-sizing: border-box;text-align: center;}#sk-container-id-3 label.sk-toggleable__label-arrow:before {content: \"▸\";float: left;margin-right: 0.25em;color: #696969;}#sk-container-id-3 label.sk-toggleable__label-arrow:hover:before {color: black;}#sk-container-id-3 div.sk-estimator:hover label.sk-toggleable__label-arrow:before {color: black;}#sk-container-id-3 div.sk-toggleable__content {max-height: 0;max-width: 0;overflow: hidden;text-align: left;background-color: #f0f8ff;}#sk-container-id-3 div.sk-toggleable__content pre {margin: 0.2em;color: black;border-radius: 0.25em;background-color: #f0f8ff;}#sk-container-id-3 input.sk-toggleable__control:checked~div.sk-toggleable__content {max-height: 200px;max-width: 100%;overflow: auto;}#sk-container-id-3 input.sk-toggleable__control:checked~label.sk-toggleable__label-arrow:before {content: \"▾\";}#sk-container-id-3 div.sk-estimator input.sk-toggleable__control:checked~label.sk-toggleable__label {background-color: #d4ebff;}#sk-container-id-3 div.sk-label input.sk-toggleable__control:checked~label.sk-toggleable__label {background-color: #d4ebff;}#sk-container-id-3 input.sk-hidden--visually {border: 0;clip: rect(1px 1px 1px 1px);clip: rect(1px, 1px, 1px, 1px);height: 1px;margin: -1px;overflow: hidden;padding: 0;position: absolute;width: 1px;}#sk-container-id-3 div.sk-estimator {font-family: monospace;background-color: #f0f8ff;border: 1px dotted black;border-radius: 0.25em;box-sizing: border-box;margin-bottom: 0.5em;}#sk-container-id-3 div.sk-estimator:hover {background-color: #d4ebff;}#sk-container-id-3 div.sk-parallel-item::after {content: \"\";width: 100%;border-bottom: 1px solid gray;flex-grow: 1;}#sk-container-id-3 div.sk-label:hover label.sk-toggleable__label {background-color: #d4ebff;}#sk-container-id-3 div.sk-serial::before {content: \"\";position: absolute;border-left: 1px solid gray;box-sizing: border-box;top: 0;bottom: 0;left: 50%;z-index: 0;}#sk-container-id-3 div.sk-serial {display: flex;flex-direction: column;align-items: center;background-color: white;padding-right: 0.2em;padding-left: 0.2em;position: relative;}#sk-container-id-3 div.sk-item {position: relative;z-index: 1;}#sk-container-id-3 div.sk-parallel {display: flex;align-items: stretch;justify-content: center;background-color: white;position: relative;}#sk-container-id-3 div.sk-item::before, #sk-container-id-3 div.sk-parallel-item::before {content: \"\";position: absolute;border-left: 1px solid gray;box-sizing: border-box;top: 0;bottom: 0;left: 50%;z-index: -1;}#sk-container-id-3 div.sk-parallel-item {display: flex;flex-direction: column;z-index: 1;position: relative;background-color: white;}#sk-container-id-3 div.sk-parallel-item:first-child::after {align-self: flex-end;width: 50%;}#sk-container-id-3 div.sk-parallel-item:last-child::after {align-self: flex-start;width: 50%;}#sk-container-id-3 div.sk-parallel-item:only-child::after {width: 0;}#sk-container-id-3 div.sk-dashed-wrapped {border: 1px dashed gray;margin: 0 0.4em 0.5em 0.4em;box-sizing: border-box;padding-bottom: 0.4em;background-color: white;}#sk-container-id-3 div.sk-label label {font-family: monospace;font-weight: bold;display: inline-block;line-height: 1.2em;}#sk-container-id-3 div.sk-label-container {text-align: center;}#sk-container-id-3 div.sk-container {/* jupyter's `normalize.less` sets `[hidden] { display: none; }` but bootstrap.min.css set `[hidden] { display: none !important; }` so we also need the `!important` here to be able to override the default hidden behavior on the sphinx rendered scikit-learn.org. See: https://github.com/scikit-learn/scikit-learn/issues/21755 */display: inline-block !important;position: relative;}#sk-container-id-3 div.sk-text-repr-fallback {display: none;}</style><div id=\"sk-container-id-3\" class=\"sk-top-container\"><div class=\"sk-text-repr-fallback\"><pre>DecisionTreeClassifier(criterion=&#x27;entropy&#x27;, max_depth=14, min_samples_leaf=4)</pre><b>In a Jupyter environment, please rerun this cell to show the HTML representation or trust the notebook. <br />On GitHub, the HTML representation is unable to render, please try loading this page with nbviewer.org.</b></div><div class=\"sk-container\" hidden><div class=\"sk-item\"><div class=\"sk-estimator sk-toggleable\"><input class=\"sk-toggleable__control sk-hidden--visually\" id=\"sk-estimator-id-5\" type=\"checkbox\" checked><label for=\"sk-estimator-id-5\" class=\"sk-toggleable__label sk-toggleable__label-arrow\">DecisionTreeClassifier</label><div class=\"sk-toggleable__content\"><pre>DecisionTreeClassifier(criterion=&#x27;entropy&#x27;, max_depth=14, min_samples_leaf=4)</pre></div></div></div></div></div>"
      ],
      "text/plain": [
       "DecisionTreeClassifier(criterion='entropy', max_depth=14, min_samples_leaf=4)"
      ]
     },
     "execution_count": 128,
     "metadata": {},
     "output_type": "execute_result"
    }
   ],
   "source": [
    "bestParams = CV_random_search_f1_score_optimizer(40,9,20,20).best_params_\n",
    "arbol=tree.DecisionTreeClassifier().set_params(**bestParams)\n",
    "arbol.fit(xTrain, yTrain)"
   ]
  },
  {
   "cell_type": "code",
   "execution_count": 130,
   "metadata": {},
   "outputs": [
    {
     "name": "stdout",
     "output_type": "stream",
     "text": [
      "F1-Score: 0.8560981098109811\n"
     ]
    },
    {
     "data": {
      "text/plain": [
       "Text(50.722222222222214, 0.5, 'True')"
      ]
     },
     "execution_count": 130,
     "metadata": {},
     "output_type": "execute_result"
    },
    {
     "data": {
      "image/png": "[encoded data removed]",
      "text/plain": [
       "<Figure size 640x480 with 2 Axes>"
      ]
     },
     "metadata": {},
     "output_type": "display_data"
    }
   ],
   "source": [
    "#Hago predicción sobre el set de evaluacion\n",
    "yPred= arbol.predict(xTest)\n",
    "\n",
    "#Arbol Reporte y Matriz de Confusion\n",
    "#print(classification_report(y_test,y_pred))\n",
    "print('F1-Score: {}'.format(f1_score(yTest, yPred, average='binary'))) #binary considera la clase positiva por defecto 1\n",
    "\n",
    "cm = confusion_matrix(yTest,yPred)\n",
    "sns.heatmap(cm, cmap='Blues',annot=True,fmt='g')\n",
    "plt.xlabel('Predicted')\n",
    "plt.ylabel('True')"
   ]
  },
  {
   "cell_type": "markdown",
   "metadata": {},
   "source": [
    "## Prediccion con hotels_test.csv"
   ]
  },
  {
   "cell_type": "code",
   "execution_count": 131,
   "metadata": {},
   "outputs": [
    {
     "name": "stdout",
     "output_type": "stream",
     "text": [
      "{'min_samples_leaf': 4, 'max_depth': 14, 'criterion': 'entropy', 'ccp_alpha': 0.0}\n",
      "0.8535858809644581\n"
     ]
    },
    {
     "data": {
      "text/plain": [
       "array([1, 1, 0, ..., 1, 1, 0], dtype=int64)"
      ]
     },
     "execution_count": 131,
     "metadata": {},
     "output_type": "execute_result"
    }
   ],
   "source": [
    "treeModel = tree.DecisionTreeClassifier(**CV_random_search_f1_score_optimizer(40,9,20,20).best_params_)\n",
    "#Entrenamiento\n",
    "model = treeModel.fit(X= dsCHP1CopyX, y= dsCHP1CopyY)\n",
    "yPredictedKaggle = model.predict(dsHotelsTestCopy)\n",
    "#Valores predichos\n",
    "yPredictedKaggle"
   ]
  },
  {
   "cell_type": "code",
   "execution_count": 132,
   "metadata": {},
   "outputs": [],
   "source": [
    "dsKaggle = pd.DataFrame(zip(dsHotelsTest['id'], yPredictedKaggle), columns=['id', 'is_canceled'])\n",
    "dsKaggle.to_csv(\"dsKaggleConHiperparametros.csv\",index=False)"
   ]
  }
 ],
 "metadata": {
  "kernelspec": {
   "display_name": "Python 3",
   "language": "python",
   "name": "python3"
  },
  "language_info": {
   "codemirror_mode": {
    "name": "ipython",
    "version": 3
   },
   "file_extension": ".py",
   "mimetype": "text/x-python",
   "name": "python",
   "nbconvert_exporter": "python",
   "pygments_lexer": "ipython3",
   "version": "3.11.3"
  },
  "orig_nbformat": 4
 },
 "nbformat": 4,
 "nbformat_minor": 2
}
