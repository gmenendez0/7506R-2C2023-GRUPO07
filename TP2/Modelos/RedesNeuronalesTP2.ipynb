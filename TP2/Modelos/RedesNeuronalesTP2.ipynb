{
  "nbformat": 4,
  "nbformat_minor": 0,
  "metadata": {
    "colab": {
      "provenance": [],
      "authorship_tag": "ABX9TyPTzs6FN6jwaHGHWzJQnhrz",
      "include_colab_link": true
    },
    "kernelspec": {
      "name": "python3",
      "display_name": "Python 3"
    },
    "language_info": {
      "name": "python"
    }
  },
  "cells": [
    {
      "cell_type": "markdown",
      "metadata": {
        "id": "view-in-github",
        "colab_type": "text"
      },
      "source": [
        "<a href=\"https://colab.research.google.com/github/gmenendez0/7506R-2C2023-GRUPO07/blob/main/TP2/Modelos/RedesNeuronalesTP2.ipynb\" target=\"_parent\"><img src=\"https://colab.research.google.com/assets/colab-badge.svg\" alt=\"Open In Colab\"/></a>"
      ]
    },
    {
      "cell_type": "code",
      "source": [
        "import pandas as pd\n",
        "import numpy as np\n",
        "import seaborn as sns\n",
        "import matplotlib.pyplot as plt\n",
        "from google.colab import drive\n",
        "import joblib\n",
        "\n",
        "#modelos y métricas\n",
        "from sklearn.model_selection import train_test_split, StratifiedKFold, KFold,RandomizedSearchCV\n",
        "from sklearn.metrics import precision_score, recall_score, accuracy_score,f1_score, make_scorer#, precision_recall_curve, roc_curve,\n",
        "from sklearn.metrics import confusion_matrix, classification_report\n",
        "#preprocesamiento\n",
        "from sklearn.preprocessing import MinMaxScaler\n",
        "from sklearn.feature_extraction.text import CountVectorizer, TfidfTransformer\n",
        "\n",
        "from sklearn.pipeline import make_pipeline\n",
        "from sklearn.metrics import confusion_matrix, accuracy_score\n",
        "from sklearn.feature_extraction.text import TfidfVectorizer\n",
        "from sklearn.model_selection import GridSearchCV\n",
        "\n",
        "from sklearn.tree import export_text\n",
        "\n",
        "import nltk\n",
        "from nltk import tokenize\n",
        "# Descargamos las stopwords\n",
        "nltk.download('stopwords')\n",
        "nltk.download('punkt')\n",
        "from nltk.corpus import stopwords\n",
        "\n",
        "# Importamos el interfaz SnowballStemmer que tiene versión en Español para las derivaciones de palabras\n",
        "from nltk.stem import SnowballStemmer\n",
        "\n",
        "import tensorflow as tf\n",
        "from tensorflow import keras\n",
        "from sklearn.preprocessing import StandardScaler\n",
        "from keras.models import Sequential\n",
        "from keras.layers import Dense\n",
        "from sklearn.preprocessing import MaxAbsScaler\n",
        "import scipy\n",
        "from sklearn.pipeline import Pipeline\n",
        "from sklearn.preprocessing import FunctionTransformer"
      ],
      "metadata": {
        "colab": {
          "base_uri": "https://localhost:8080/"
        },
        "id": "Hvx06cohLtda",
        "outputId": "74c1d1f1-4a35-4ccf-f18d-7fdca2210d3b"
      },
      "execution_count": 1,
      "outputs": [
        {
          "output_type": "stream",
          "name": "stderr",
          "text": [
            "[nltk_data] Downloading package stopwords to /root/nltk_data...\n",
            "[nltk_data]   Unzipping corpora/stopwords.zip.\n",
            "[nltk_data] Downloading package punkt to /root/nltk_data...\n",
            "[nltk_data]   Unzipping tokenizers/punkt.zip.\n"
          ]
        }
      ]
    },
    {
      "cell_type": "code",
      "execution_count": 2,
      "metadata": {
        "id": "YIBQYDrCLDv6"
      },
      "outputs": [],
      "source": [
        "dsTrain = pd.read_csv('train.csv')\n",
        "dsTest = pd.read_csv('test.csv')\n",
        "dsTrainCopy = dsTrain.copy()\n",
        "dsTestCopy = dsTest.copy()"
      ]
    },
    {
      "cell_type": "code",
      "source": [
        "dsTest = pd.read_csv('test.csv')"
      ],
      "metadata": {
        "id": "nr8p30kWsV5c"
      },
      "execution_count": 3,
      "outputs": []
    },
    {
      "cell_type": "markdown",
      "source": [
        "# Preprocesamiento"
      ],
      "metadata": {
        "id": "EZ1IjCLEOLYK"
      }
    },
    {
      "cell_type": "markdown",
      "source": [
        "Hacemos que el setimiento sea 1 si es positivo y 0 si es negativo para poder correr los modelos, ademas cambiamos el label de 'sentimiento' a 'label'"
      ],
      "metadata": {
        "id": "qxZP47FaOXE6"
      }
    },
    {
      "cell_type": "code",
      "source": [
        "dsTrainCopy['label'] = (dsTrainCopy['sentimiento']=='positivo').astype(int)\n",
        "dsTrainCopy.drop('sentimiento', axis=1, inplace=True)\n",
        "dsTrainCopy.head()\n"
      ],
      "metadata": {
        "colab": {
          "base_uri": "https://localhost:8080/",
          "height": 206
        },
        "id": "ZQYVvxRMOWuq",
        "outputId": "789f45d0-ade0-4d3d-8856-1ecffd72536b"
      },
      "execution_count": 4,
      "outputs": [
        {
          "output_type": "execute_result",
          "data": {
            "text/plain": [
              "   ID                                          review_es  label\n",
              "0   0  Uno de los otros críticos ha mencionado que de...      1\n",
              "1   1  Una pequeña pequeña producción.La técnica de f...      1\n",
              "2   2  Pensé que esta era una manera maravillosa de p...      1\n",
              "3   3  Básicamente, hay una familia donde un niño peq...      0\n",
              "4   4  El \"amor en el tiempo\" de Petter Mattei es una...      1"
            ],
            "text/html": [
              "\n",
              "  <div id=\"df-9143d460-bf72-440f-9e4e-8dc1608d73ff\" class=\"colab-df-container\">\n",
              "    <div>\n",
              "<style scoped>\n",
              "    .dataframe tbody tr th:only-of-type {\n",
              "        vertical-align: middle;\n",
              "    }\n",
              "\n",
              "    .dataframe tbody tr th {\n",
              "        vertical-align: top;\n",
              "    }\n",
              "\n",
              "    .dataframe thead th {\n",
              "        text-align: right;\n",
              "    }\n",
              "</style>\n",
              "<table border=\"1\" class=\"dataframe\">\n",
              "  <thead>\n",
              "    <tr style=\"text-align: right;\">\n",
              "      <th></th>\n",
              "      <th>ID</th>\n",
              "      <th>review_es</th>\n",
              "      <th>label</th>\n",
              "    </tr>\n",
              "  </thead>\n",
              "  <tbody>\n",
              "    <tr>\n",
              "      <th>0</th>\n",
              "      <td>0</td>\n",
              "      <td>Uno de los otros críticos ha mencionado que de...</td>\n",
              "      <td>1</td>\n",
              "    </tr>\n",
              "    <tr>\n",
              "      <th>1</th>\n",
              "      <td>1</td>\n",
              "      <td>Una pequeña pequeña producción.La técnica de f...</td>\n",
              "      <td>1</td>\n",
              "    </tr>\n",
              "    <tr>\n",
              "      <th>2</th>\n",
              "      <td>2</td>\n",
              "      <td>Pensé que esta era una manera maravillosa de p...</td>\n",
              "      <td>1</td>\n",
              "    </tr>\n",
              "    <tr>\n",
              "      <th>3</th>\n",
              "      <td>3</td>\n",
              "      <td>Básicamente, hay una familia donde un niño peq...</td>\n",
              "      <td>0</td>\n",
              "    </tr>\n",
              "    <tr>\n",
              "      <th>4</th>\n",
              "      <td>4</td>\n",
              "      <td>El \"amor en el tiempo\" de Petter Mattei es una...</td>\n",
              "      <td>1</td>\n",
              "    </tr>\n",
              "  </tbody>\n",
              "</table>\n",
              "</div>\n",
              "    <div class=\"colab-df-buttons\">\n",
              "\n",
              "  <div class=\"colab-df-container\">\n",
              "    <button class=\"colab-df-convert\" onclick=\"convertToInteractive('df-9143d460-bf72-440f-9e4e-8dc1608d73ff')\"\n",
              "            title=\"Convert this dataframe to an interactive table.\"\n",
              "            style=\"display:none;\">\n",
              "\n",
              "  <svg xmlns=\"http://www.w3.org/2000/svg\" height=\"24px\" viewBox=\"0 -960 960 960\">\n",
              "    <path d=\"M120-120v-720h720v720H120Zm60-500h600v-160H180v160Zm220 220h160v-160H400v160Zm0 220h160v-160H400v160ZM180-400h160v-160H180v160Zm440 0h160v-160H620v160ZM180-180h160v-160H180v160Zm440 0h160v-160H620v160Z\"/>\n",
              "  </svg>\n",
              "    </button>\n",
              "\n",
              "  <style>\n",
              "    .colab-df-container {\n",
              "      display:flex;\n",
              "      gap: 12px;\n",
              "    }\n",
              "\n",
              "    .colab-df-convert {\n",
              "      background-color: #E8F0FE;\n",
              "      border: none;\n",
              "      border-radius: 50%;\n",
              "      cursor: pointer;\n",
              "      display: none;\n",
              "      fill: #1967D2;\n",
              "      height: 32px;\n",
              "      padding: 0 0 0 0;\n",
              "      width: 32px;\n",
              "    }\n",
              "\n",
              "    .colab-df-convert:hover {\n",
              "      background-color: #E2EBFA;\n",
              "      box-shadow: 0px 1px 2px rgba(60, 64, 67, 0.3), 0px 1px 3px 1px rgba(60, 64, 67, 0.15);\n",
              "      fill: #174EA6;\n",
              "    }\n",
              "\n",
              "    .colab-df-buttons div {\n",
              "      margin-bottom: 4px;\n",
              "    }\n",
              "\n",
              "    [theme=dark] .colab-df-convert {\n",
              "      background-color: #3B4455;\n",
              "      fill: #D2E3FC;\n",
              "    }\n",
              "\n",
              "    [theme=dark] .colab-df-convert:hover {\n",
              "      background-color: #434B5C;\n",
              "      box-shadow: 0px 1px 3px 1px rgba(0, 0, 0, 0.15);\n",
              "      filter: drop-shadow(0px 1px 2px rgba(0, 0, 0, 0.3));\n",
              "      fill: #FFFFFF;\n",
              "    }\n",
              "  </style>\n",
              "\n",
              "    <script>\n",
              "      const buttonEl =\n",
              "        document.querySelector('#df-9143d460-bf72-440f-9e4e-8dc1608d73ff button.colab-df-convert');\n",
              "      buttonEl.style.display =\n",
              "        google.colab.kernel.accessAllowed ? 'block' : 'none';\n",
              "\n",
              "      async function convertToInteractive(key) {\n",
              "        const element = document.querySelector('#df-9143d460-bf72-440f-9e4e-8dc1608d73ff');\n",
              "        const dataTable =\n",
              "          await google.colab.kernel.invokeFunction('convertToInteractive',\n",
              "                                                    [key], {});\n",
              "        if (!dataTable) return;\n",
              "\n",
              "        const docLinkHtml = 'Like what you see? Visit the ' +\n",
              "          '<a target=\"_blank\" href=https://colab.research.google.com/notebooks/data_table.ipynb>data table notebook</a>'\n",
              "          + ' to learn more about interactive tables.';\n",
              "        element.innerHTML = '';\n",
              "        dataTable['output_type'] = 'display_data';\n",
              "        await google.colab.output.renderOutput(dataTable, element);\n",
              "        const docLink = document.createElement('div');\n",
              "        docLink.innerHTML = docLinkHtml;\n",
              "        element.appendChild(docLink);\n",
              "      }\n",
              "    </script>\n",
              "  </div>\n",
              "\n",
              "\n",
              "<div id=\"df-8630ec0c-6893-408d-967a-dc1a40774762\">\n",
              "  <button class=\"colab-df-quickchart\" onclick=\"quickchart('df-8630ec0c-6893-408d-967a-dc1a40774762')\"\n",
              "            title=\"Suggest charts\"\n",
              "            style=\"display:none;\">\n",
              "\n",
              "<svg xmlns=\"http://www.w3.org/2000/svg\" height=\"24px\"viewBox=\"0 0 24 24\"\n",
              "     width=\"24px\">\n",
              "    <g>\n",
              "        <path d=\"M19 3H5c-1.1 0-2 .9-2 2v14c0 1.1.9 2 2 2h14c1.1 0 2-.9 2-2V5c0-1.1-.9-2-2-2zM9 17H7v-7h2v7zm4 0h-2V7h2v10zm4 0h-2v-4h2v4z\"/>\n",
              "    </g>\n",
              "</svg>\n",
              "  </button>\n",
              "\n",
              "<style>\n",
              "  .colab-df-quickchart {\n",
              "      --bg-color: #E8F0FE;\n",
              "      --fill-color: #1967D2;\n",
              "      --hover-bg-color: #E2EBFA;\n",
              "      --hover-fill-color: #174EA6;\n",
              "      --disabled-fill-color: #AAA;\n",
              "      --disabled-bg-color: #DDD;\n",
              "  }\n",
              "\n",
              "  [theme=dark] .colab-df-quickchart {\n",
              "      --bg-color: #3B4455;\n",
              "      --fill-color: #D2E3FC;\n",
              "      --hover-bg-color: #434B5C;\n",
              "      --hover-fill-color: #FFFFFF;\n",
              "      --disabled-bg-color: #3B4455;\n",
              "      --disabled-fill-color: #666;\n",
              "  }\n",
              "\n",
              "  .colab-df-quickchart {\n",
              "    background-color: var(--bg-color);\n",
              "    border: none;\n",
              "    border-radius: 50%;\n",
              "    cursor: pointer;\n",
              "    display: none;\n",
              "    fill: var(--fill-color);\n",
              "    height: 32px;\n",
              "    padding: 0;\n",
              "    width: 32px;\n",
              "  }\n",
              "\n",
              "  .colab-df-quickchart:hover {\n",
              "    background-color: var(--hover-bg-color);\n",
              "    box-shadow: 0 1px 2px rgba(60, 64, 67, 0.3), 0 1px 3px 1px rgba(60, 64, 67, 0.15);\n",
              "    fill: var(--button-hover-fill-color);\n",
              "  }\n",
              "\n",
              "  .colab-df-quickchart-complete:disabled,\n",
              "  .colab-df-quickchart-complete:disabled:hover {\n",
              "    background-color: var(--disabled-bg-color);\n",
              "    fill: var(--disabled-fill-color);\n",
              "    box-shadow: none;\n",
              "  }\n",
              "\n",
              "  .colab-df-spinner {\n",
              "    border: 2px solid var(--fill-color);\n",
              "    border-color: transparent;\n",
              "    border-bottom-color: var(--fill-color);\n",
              "    animation:\n",
              "      spin 1s steps(1) infinite;\n",
              "  }\n",
              "\n",
              "  @keyframes spin {\n",
              "    0% {\n",
              "      border-color: transparent;\n",
              "      border-bottom-color: var(--fill-color);\n",
              "      border-left-color: var(--fill-color);\n",
              "    }\n",
              "    20% {\n",
              "      border-color: transparent;\n",
              "      border-left-color: var(--fill-color);\n",
              "      border-top-color: var(--fill-color);\n",
              "    }\n",
              "    30% {\n",
              "      border-color: transparent;\n",
              "      border-left-color: var(--fill-color);\n",
              "      border-top-color: var(--fill-color);\n",
              "      border-right-color: var(--fill-color);\n",
              "    }\n",
              "    40% {\n",
              "      border-color: transparent;\n",
              "      border-right-color: var(--fill-color);\n",
              "      border-top-color: var(--fill-color);\n",
              "    }\n",
              "    60% {\n",
              "      border-color: transparent;\n",
              "      border-right-color: var(--fill-color);\n",
              "    }\n",
              "    80% {\n",
              "      border-color: transparent;\n",
              "      border-right-color: var(--fill-color);\n",
              "      border-bottom-color: var(--fill-color);\n",
              "    }\n",
              "    90% {\n",
              "      border-color: transparent;\n",
              "      border-bottom-color: var(--fill-color);\n",
              "    }\n",
              "  }\n",
              "</style>\n",
              "\n",
              "  <script>\n",
              "    async function quickchart(key) {\n",
              "      const quickchartButtonEl =\n",
              "        document.querySelector('#' + key + ' button');\n",
              "      quickchartButtonEl.disabled = true;  // To prevent multiple clicks.\n",
              "      quickchartButtonEl.classList.add('colab-df-spinner');\n",
              "      try {\n",
              "        const charts = await google.colab.kernel.invokeFunction(\n",
              "            'suggestCharts', [key], {});\n",
              "      } catch (error) {\n",
              "        console.error('Error during call to suggestCharts:', error);\n",
              "      }\n",
              "      quickchartButtonEl.classList.remove('colab-df-spinner');\n",
              "      quickchartButtonEl.classList.add('colab-df-quickchart-complete');\n",
              "    }\n",
              "    (() => {\n",
              "      let quickchartButtonEl =\n",
              "        document.querySelector('#df-8630ec0c-6893-408d-967a-dc1a40774762 button');\n",
              "      quickchartButtonEl.style.display =\n",
              "        google.colab.kernel.accessAllowed ? 'block' : 'none';\n",
              "    })();\n",
              "  </script>\n",
              "</div>\n",
              "    </div>\n",
              "  </div>\n"
            ]
          },
          "metadata": {},
          "execution_count": 4
        }
      ]
    },
    {
      "cell_type": "markdown",
      "source": [
        "Mostramos los stopwords que hay en ingles"
      ],
      "metadata": {
        "id": "TOlL5_8yOuUK"
      }
    },
    {
      "cell_type": "code",
      "source": [
        "stop_words_sp = set(stopwords.words('english'))\n",
        "print(stop_words_sp)"
      ],
      "metadata": {
        "colab": {
          "base_uri": "https://localhost:8080/"
        },
        "id": "k9TQfGIvOtsU",
        "outputId": "f40635a1-804d-48ed-924b-91e573ef1c1e"
      },
      "execution_count": 5,
      "outputs": [
        {
          "output_type": "stream",
          "name": "stdout",
          "text": [
            "{'against', \"mightn't\", 'myself', 'yourselves', 'd', 'below', \"you'll\", 'and', 'because', 'or', 'before', 'if', 'this', \"shouldn't\", 'these', 'do', 'having', 'needn', \"she's\", 'nor', 'hers', 'should', 'only', 'theirs', 'who', 'all', 'both', 'other', 'had', 'again', 'wouldn', 'y', 'she', 'of', \"hadn't\", 'each', \"that'll\", 'ours', 'now', \"mustn't\", \"you've\", 'will', 't', 're', 'from', 'too', 'by', 'over', 'while', 'above', 'during', \"should've\", 'the', 'mustn', 'which', 'me', 'those', 'some', 'doesn', 'can', 'few', 'we', 'o', 'into', \"wouldn't\", 'i', 's', 'was', 'there', 'more', \"haven't\", 'mightn', \"won't\", 'in', 'with', 'so', 'won', 'not', 'haven', 'a', 'weren', \"aren't\", 'down', 'be', 'until', 'our', 'ma', 'just', 'is', 'ourselves', 'were', 'hadn', 'them', \"don't\", \"couldn't\", 'himself', 'themselves', 'why', 'when', 'shouldn', \"you'd\", 'wasn', 'yourself', 'does', 'their', 'most', 'his', 'at', 'her', 'they', 'have', 'after', 'further', 'through', 'an', 've', 'doing', 'aren', 'shan', 'about', 'itself', 'has', 'once', 'my', 'than', 'am', 'herself', 'you', \"doesn't\", 'isn', 'ain', 'are', 'him', 'm', \"needn't\", \"you're\", 'out', 'yours', 'any', 'between', 'll', 'up', 'on', 'for', \"it's\", 'as', 'then', 'been', 'how', 'under', 'don', 'its', 'hasn', 'that', 'what', 'very', 'where', 'here', 'but', 'couldn', 'to', 'whom', 'off', \"didn't\", \"shan't\", 'it', 'own', 'did', \"wasn't\", \"isn't\", 'no', 'same', \"weren't\", 'your', 'being', \"hasn't\", 'such', 'he', 'didn'}\n"
          ]
        }
      ]
    },
    {
      "cell_type": "markdown",
      "source": [
        "Mostramos los stopwords que hay en español"
      ],
      "metadata": {
        "id": "3gjappJaO4tj"
      }
    },
    {
      "cell_type": "code",
      "source": [
        "stop_words_sp = set(stopwords.words('spanish'))\n",
        "print(stop_words_sp)"
      ],
      "metadata": {
        "colab": {
          "base_uri": "https://localhost:8080/"
        },
        "id": "_OyRsHSkO7Gz",
        "outputId": "8b39a17b-0595-4bfb-ba80-c111269558d2"
      },
      "execution_count": 6,
      "outputs": [
        {
          "output_type": "stream",
          "name": "stdout",
          "text": [
            "{'hubieron', 'habíamos', 'vuestro', 'sobre', 'estoy', 'tenido', 'cual', 'estuvieras', 'sentid', 'algunas', 'tendré', 'y', 'al', 'todos', 'siente', 'mi', 'estuviste', 'hay', 'fueseis', 'tuvimos', 'nosotras', 'tendremos', 'este', 'estado', 'estuvieran', 'sentidos', 'e', 'fueras', 'me', 'mis', 'estén', 'estaba', 'será', 'ese', 'se', 'habidas', 'como', 'estarías', 'fui', 'tenías', 'fuerais', 'habrían', 'había', 'somos', 'un', 'estad', 'eso', 'algunos', 'han', 'hayan', 'son', 'tendría', 'entre', 'donde', 'sean', 'esos', 'sí', 'seamos', 'era', 'fueron', 'habido', 'que', 'fueses', 'ella', 'habida', 'seremos', 'teniendo', 'tuyo', 'ni', 'estáis', 'tienen', 'uno', 'están', 'éramos', 'tiene', 'hubierais', 'eran', 'suyas', 'tenidas', 'mucho', 'con', 'tenga', 'estuviera', 'hubiéramos', 'estuvieseis', 'estás', 'estuvo', 'estabas', 'os', 'de', 'fuesen', 'está', 'estarían', 'fuese', 'algo', 'habían', 'tuyos', 'nuestras', 'sus', 'seréis', 'estuve', 'esto', 'poco', 'tenía', 'vuestra', 'por', 'serían', 'tuvieron', 'qué', 'estadas', 'estarás', 'para', 'ellas', 'tendrían', 'tuviesen', 'hayáis', 'pero', 'serás', 'erais', 'estéis', 'tendríais', 'hayas', 'míos', 'haya', 'antes', 'seríais', 'teníamos', 'tendrá', 'tenían', 'teníais', 'estaremos', 'muy', 'fuiste', 'la', 'seríamos', 'tendríamos', 'sentidas', 'tenéis', 'habrás', 'vuestras', 'tu', 'habíais', 'nos', 'serán', 'contra', 'estuvieses', 'tuvieran', 'hemos', 'estuviese', 'esas', 'cuando', 'una', 'estará', 'estuvisteis', 'tuvo', 'ya', 'estamos', 'fuimos', 'serías', 'habríais', 'vosotros', 'su', 'estar', 'los', 'habidos', 'nuestra', 'porque', 'sería', 'fuéramos', 'tendrás', 'sea', 'unos', 'habéis', 'mía', 'habría', 'esta', 'habré', 'habréis', 'fuera', 'hubimos', 'tuvisteis', 'estada', 'tuve', 'fuésemos', 'nosotros', 'muchos', 'estés', 'estos', 'sin', 'tendrías', 'habrías', 'tuvieseis', 'nuestros', 'hubiésemos', 'tendréis', 'vuestros', 'tendrán', 'estarán', 'tuvieses', 'suyo', 'habiendo', 'te', 'tened', 'las', 'suya', 'hubieran', 'le', 'estuviesen', 'hubiesen', 'estemos', 'estuviésemos', 'yo', 'has', 'estuviéramos', 'tengo', 'todo', 'tuviste', 'habrán', 'sentida', 'estuvieron', 'él', 'el', 'también', 'desde', 'sentido', 'tuvieras', 'estaban', 'hubiese', 'estando', 'habías', 'esté', 'tus', 'ti', 'otra', 'no', 'tengáis', 'eras', 'hubisteis', 'tuya', 'es', 'seáis', 'fue', 'esa', 'tenidos', 'más', 'hubieseis', 'tuyas', 'sintiendo', 'hayamos', 'nuestro', 'durante', 'tengas', 'tuviésemos', 'del', 'seas', 'hubieras', 'nada', 'seré', 'ha', 'otras', 'estaríais', 'tienes', 'fuisteis', 'tenemos', 'estaré', 'tengan', 'estabais', 'hube', 'otro', 'o', 'otros', 'estaríamos', 'ante', 'hubiera', 'hubiste', 'habríamos', 'estados', 'tengamos', 'tú', 'hubo', 'a', 'habremos', 'hubieses', 'tuviera', 'estuvierais', 'quien', 'mío', 'estaréis', 'eres', 'lo', 'tuviese', 'hasta', 'estuvimos', 'sois', 'fueran', 'tuviéramos', 'quienes', 'habrá', 'estábamos', 'les', 'mí', 'mías', 'en', 'ellos', 'vosotras', 'estaría', 'soy', 'tuvierais', 'suyos', 'estas', 'tenida', 'tanto', 'he'}\n"
          ]
        }
      ]
    },
    {
      "cell_type": "markdown",
      "source": [
        "Hay varias palabras en español que tienen acentos, por ende se los vamos a sacar"
      ],
      "metadata": {
        "id": "GY7ocmSYPHma"
      }
    },
    {
      "cell_type": "code",
      "source": [
        "import re\n",
        "def quitar_acentos(texto):\n",
        "    reemplazar = (\n",
        "        (\"á\", \"a\"),\n",
        "        (\"é\", \"e\"),\n",
        "        (\"í\", \"i\"),\n",
        "        (\"ó\", \"o\"),\n",
        "        (\"ú\", \"u\"),\n",
        "    )\n",
        "    for a, b in reemplazar:\n",
        "        texto = texto.replace(a, b).replace(a.upper(), b.upper())\n",
        "    return texto\n",
        "\n",
        "stemmer = SnowballStemmer(\"spanish\")\n",
        "def tokenize(text):\n",
        "    text = re.sub('[^a-z0-9ñ ]', '', text)\n",
        "    tokens = nltk.word_tokenize(text)\n",
        "    stems = []\n",
        "    for item in tokens:\n",
        "        stems.append(stemmer.stem(item))\n",
        "    return stems"
      ],
      "metadata": {
        "id": "iRwNh2k4PHOq"
      },
      "execution_count": 7,
      "outputs": []
    },
    {
      "cell_type": "markdown",
      "source": [
        "# Vectorizacion"
      ],
      "metadata": {
        "id": "vWHgKNfFMLJ7"
      }
    },
    {
      "cell_type": "code",
      "source": [
        "vecTrain = TfidfVectorizer()\n",
        "vecTrain.fit_transform(dsTrainCopy.review_es)\n",
        "vecTrain.get_feature_names_out().size"
      ],
      "metadata": {
        "colab": {
          "base_uri": "https://localhost:8080/"
        },
        "id": "qWV7viDMMKlS",
        "outputId": "51c78923-0c87-4afe-ac4e-2ddd9f4c4a1f"
      },
      "execution_count": 8,
      "outputs": [
        {
          "output_type": "execute_result",
          "data": {
            "text/plain": [
              "175853"
            ]
          },
          "metadata": {},
          "execution_count": 8
        }
      ]
    },
    {
      "cell_type": "code",
      "source": [
        "vecTest = TfidfVectorizer()\n",
        "vecTest.fit_transform(dsTestCopy.review_es)\n",
        "vecTest.get_feature_names_out().size"
      ],
      "metadata": {
        "colab": {
          "base_uri": "https://localhost:8080/"
        },
        "id": "sWcA1RMms1wn",
        "outputId": "1d8afbe5-c4c5-4365-f7fc-8b4e2f89c335"
      },
      "execution_count": 9,
      "outputs": [
        {
          "output_type": "execute_result",
          "data": {
            "text/plain": [
              "57358"
            ]
          },
          "metadata": {},
          "execution_count": 9
        }
      ]
    },
    {
      "cell_type": "markdown",
      "source": [
        "Dado que hay mucha cantidad de features, vamos a buscar reducir la cantidad de manera de no consumir mucho recursos computacionales"
      ],
      "metadata": {
        "id": "8JWiDILFNIXj"
      }
    },
    {
      "cell_type": "markdown",
      "source": [
        "## Features 1000"
      ],
      "metadata": {
        "id": "X-JLTdVZ5Yoh"
      }
    },
    {
      "cell_type": "code",
      "source": [
        "vecTrain = TfidfVectorizer(max_features = 1000)\n",
        "vecTrain.fit_transform(dsTrainCopy.review_es)\n",
        "vecTrain.get_feature_names_out()"
      ],
      "metadata": {
        "colab": {
          "base_uri": "https://localhost:8080/"
        },
        "id": "rc4xR_6BNTDX",
        "outputId": "76e96447-7333-4d72-d509-2ea0abb6908c"
      },
      "execution_count": 10,
      "outputs": [
        {
          "output_type": "execute_result",
          "data": {
            "text/plain": [
              "array(['10', '20', '30', '70', '80', '90', 'about', 'absolutamente',\n",
              "       'absoluto', 'aburrida', 'aburrido', 'acción', 'acerca', 'actor',\n",
              "       'actores', 'actriz', 'actuaciones', 'actuación', 'actuando',\n",
              "       'actuar', 'acuerdo', 'además', 'adolescente', 'adolescentes',\n",
              "       'after', 'agradable', 'agua', 'ahora', 'ahí', 'al', 'algo',\n",
              "       'alguien', 'alguna', 'algunas', 'algunos', 'algún', 'all', 'allá',\n",
              "       'allí', 'alrededor', 'also', 'alta', 'alto', 'ambos', 'amigo',\n",
              "       'amigos', 'amor', 'an', 'and', 'animación', 'anterior', 'antes',\n",
              "       'aparece', 'aparentemente', 'aparte', 'apenas', 'apertura',\n",
              "       'apoyo', 'aproximadamente', 'aquellos', 'aquí', 'are', 'arte',\n",
              "       'as', 'asesinato', 'asesino', 'aspecto', 'así', 'at', 'atención',\n",
              "       'audiencia', 'aunque', 'ayuda', 'año', 'años', 'aún', 'bad',\n",
              "       'baile', 'bajo', 'banda', 'bastante', 'basura', 'be', 'because',\n",
              "       'been', 'belleza', 'bien', 'blanco', 'brillante', 'broma', 'buen',\n",
              "       'buena', 'buenas', 'bueno', 'buenos', 'buscando', 'but', 'by',\n",
              "       'básicamente', 'cabeza', 'cada', 'calidad', 'calificación',\n",
              "       'cambio', 'camino', 'can', 'canciones', 'canción', 'cantidad',\n",
              "       'cara', 'carrera', 'carácter', 'casa', 'casi', 'caso', 'cerca',\n",
              "       'chica', 'chicas', 'chico', 'chicos', 'chistes', 'ciencia',\n",
              "       'ciertamente', 'cierto', 'cinco', 'cine', 'cineastas',\n",
              "       'cinematografía', 'ciudad', 'claramente', 'claro', 'clase',\n",
              "       'clásico', 'comedia', 'comentario', 'comentarios', 'comenzó',\n",
              "       'comienza', 'comienzo', 'como', 'comparación', 'compañero',\n",
              "       'completa', 'completamente', 'completo', 'con', 'conjunto',\n",
              "       'conocido', 'contra', 'contrario', 'convierte', 'convincente',\n",
              "       'convirtió', 'copia', 'corazón', 'corta', 'cosa', 'cosas', 'cree',\n",
              "       'creer', 'creo', 'creíble', 'créditos', 'cualquier', 'cualquiera',\n",
              "       'cuando', 'cuanto', 'cuatro', 'cuenta', 'cuerpo', 'cámara', 'cómo',\n",
              "       'da', 'dado', 'dan', 'dar', 'darle', 'david', 'de', 'debe',\n",
              "       'deben', 'debería', 'debido', 'debo', 'decente', 'decir',\n",
              "       'definitivamente', 'deja', 'dejar', 'dejó', 'del', 'demasiado',\n",
              "       'demás', 'dentro', 'desafortunadamente', 'desarrollo', 'desde',\n",
              "       'desempeño', 'después', 'detrás', 'dice', 'dicho', 'diciendo',\n",
              "       'diez', 'diferencia', 'diferente', 'diferentes', 'difícil', 'dijo',\n",
              "       'dinero', 'dio', 'dios', 'dirección', 'director', 'directores',\n",
              "       'disfrutar', 'disfruté', 'disney', 'disparo', 'diversión',\n",
              "       'divertida', 'divertidas', 'divertido', 'divertidos', 'diálogo',\n",
              "       'do', 'documental', 'don', 'donde', 'dos', 'doy', 'dr', 'drama',\n",
              "       'drogas', 'duda', 'durante', 'dvd', 'débil', 'década', 'día',\n",
              "       'días', 'dónde', 'edad', 'edición', 'efecto', 'efectos', 'ejemplo',\n",
              "       'el', 'elementos', 'elenco', 'ella', 'ello', 'ellos', 'embargo',\n",
              "       'emoción', 'en', 'encanta', 'encantó', 'encontrar', 'encontré',\n",
              "       'encuentra', 'encuentran', 'entender', 'entonces', 'entre',\n",
              "       'entretenido', 'entretenimiento', 'episodio', 'episodios',\n",
              "       'equipo', 'era', 'eran', 'eres', 'es', 'esa', 'esas', 'escena',\n",
              "       'escenario', 'escenas', 'escribir', 'escrito', 'escritor',\n",
              "       'escritores', 'escritura', 'escuchar', 'escuela', 'ese',\n",
              "       'esfuerzo', 'eso', 'esos', 'espacio', 'especial', 'especiales',\n",
              "       'especialmente', 'especie', 'espectador', 'espectadores',\n",
              "       'espectáculo', 'espera', 'esperaba', 'esperando', 'esperanza',\n",
              "       'esperar', 'espero', 'esposa', 'esta', 'estaba', 'estaban',\n",
              "       'estado', 'estados', 'estadounidense', 'estadounidenses',\n",
              "       'estamos', 'estar', 'estas', 'este', 'estilo', 'esto', 'estos',\n",
              "       'estoy', 'estrella', 'estrellas', 'estudio', 'está', 'están',\n",
              "       'estás', 'estúpido', 'etc', 'even', 'eventos', 'evitar', 'ex',\n",
              "       'exactamente', 'excelente', 'excelentes', 'excepto', 'experiencia',\n",
              "       'extraña', 'extraño', 'extremadamente', 'falta', 'familia',\n",
              "       'familiar', 'fan', 'fanático', 'fanáticos', 'favor', 'feliz',\n",
              "       'ficción', 'film', 'films', 'fin', 'final', 'finalmente', 'first',\n",
              "       'fondo', 'for', 'forma', 'frente', 'from', 'fue', 'fuera',\n",
              "       'fueron', 'fuerte', 'fuerza', 'funciona', 'futuro', 'fácil',\n",
              "       'fácilmente', 'gay', 'general', 'generalmente', 'genial', 'gente',\n",
              "       'george', 'get', 'giro', 'good', 'gore', 'gracias', 'gracioso',\n",
              "       'gran', 'grande', 'grandes', 'grupo', 'guerra', 'guión', 'gusta',\n",
              "       'gustan', 'gustaría', 'gustó', 'género', 'ha', 'haber', 'habla',\n",
              "       'hablando', 'hablar', 'habría', 'había', 'hace', 'hacen', 'hacer',\n",
              "       'hacerlo', 'hacia', 'haciendo', 'had', 'han', 'has', 'hasta',\n",
              "       'have', 'hay', 'haya', 'he', 'hecha', 'hecho', 'her', 'hermana',\n",
              "       'hermano', 'hermosa', 'hicieron', 'hija', 'hijo', 'hijos',\n",
              "       'hilarante', 'him', 'his', 'historia', 'historias', 'hizo',\n",
              "       'hollywood', 'hombre', 'hombres', 'hora', 'horas', 'horrible',\n",
              "       'horror', 'how', 'hoy', 'hubiera', 'hubo', 'humano', 'humor',\n",
              "       'héroe', 'idea', 'ideas', 'if', 'igual', 'imagen', 'imdb',\n",
              "       'importa', 'importante', 'impresionante', 'imágenes', 'in',\n",
              "       'incluso', 'increíble', 'increíblemente', 'infierno', 'inglés',\n",
              "       'inteligente', 'intenta', 'intento', 'interesante', 'interesantes',\n",
              "       'interés', 'into', 'ir', 'is', 'it', 'its', 'jack', 'james', 'joe',\n",
              "       'john', 'joven', 'juega', 'juego', 'jugando', 'jugar', 'jugó',\n",
              "       'junto', 'juntos', 'just', 'justo', 'jóvenes', 'la', 'lado',\n",
              "       'lanzamiento', 'larga', 'largo', 'las', 'le', 'lee', 'leer',\n",
              "       'lejos', 'les', 'leído', 'libro', 'like', 'lista', 'little',\n",
              "       'llamada', 'llamado', 'llega', 'llena', 'lleno', 'lleva', 'lo',\n",
              "       'local', 'loco', 'logra', 'los', 'lucha', 'luego', 'lugar', 'luz',\n",
              "       'línea', 'líneas', 'madre', 'maestra', 'mal', 'mala', 'malas',\n",
              "       'malo', 'malos', 'man', 'manera', 'mano', 'manos', 'mantener',\n",
              "       'mantiene', 'maravillosa', 'maravilloso', 'mata', 'matar',\n",
              "       'material', 'mayor', 'mayoría', 'me', 'media', 'medida', 'medio',\n",
              "       'mejor', 'mejores', 'menos', 'mensaje', 'mente', 'menudo',\n",
              "       'merece', 'mi', 'michael', 'miedo', 'mientras', 'mierda',\n",
              "       'minutos', 'mira', 'mirando', 'mirar', 'mis', 'misma', 'mismo',\n",
              "       'mismos', 'misterio', 'mitad', 'modos', 'molesto', 'momento',\n",
              "       'momentos', 'monstruo', 'montón', 'more', 'most', 'mostrar',\n",
              "       'movie', 'movimiento', 'much', 'mucha', 'muchas', 'mucho',\n",
              "       'muchos', 'muerte', 'muerto', 'muertos', 'muestra', 'muestran',\n",
              "       'mujer', 'mujeres', 'mundo', 'musical', 'muy', 'my', 'más',\n",
              "       'médico', 'mí', 'música', 'nada', 'nadie', 'naturaleza',\n",
              "       'necesita', 'negro', 'ni', 'ninguna', 'ninguno', 'ningún', 'nivel',\n",
              "       'niña', 'niño', 'niños', 'no', 'noche', 'nombre', 'nos',\n",
              "       'nosotros', 'not', 'novela', 'novia', 'nuestra', 'nuestro',\n",
              "       'nueva', 'nuevamente', 'nuevo', 'nunca', 'número', 'obra',\n",
              "       'observar', 'obtener', 'obtiene', 'obviamente', 'of', 'off',\n",
              "       'ofrece', 'oh', 'ojos', 'on', 'one', 'only', 'opinión',\n",
              "       'oportunidad', 'or', 'original', 'oscar', 'oscuro', 'other',\n",
              "       'otra', 'otras', 'otro', 'otros', 'out', 'padre', 'padres',\n",
              "       'palabra', 'palabras', 'pantalla', 'papel', 'par', 'para',\n",
              "       'parcela', 'parece', 'parecen', 'parecía', 'pareja', 'parte',\n",
              "       'partes', 'particular', 'particularmente', 'pasa', 'pasado',\n",
              "       'pasar', 'paul', 'país', 'película', 'películas', 'pena',\n",
              "       'pensando', 'pensar', 'pensé', 'people', 'peor', 'peores',\n",
              "       'pequeña', 'pequeño', 'pequeños', 'perder', 'perdido',\n",
              "       'perfectamente', 'perfecto', 'pero', 'perro', 'persona',\n",
              "       'personaje', 'personajes', 'personal', 'personas', 'período',\n",
              "       'pesar', 'peter', 'pieza', 'pobre', 'pocas', 'poco', 'pocos',\n",
              "       'poder', 'podría', 'podrían', 'podía', 'policía', 'pone', 'por',\n",
              "       'porque', 'posible', 'predecible', 'pregunta', 'premisa',\n",
              "       'presenta', 'presupuesto', 'primer', 'primera', 'primero',\n",
              "       'primeros', 'principal', 'principales', 'principalmente',\n",
              "       'principio', 'probablemente', 'problema', 'problemas',\n",
              "       'producción', 'programa', 'promedio', 'pronto', 'propia', 'propio',\n",
              "       'pude', 'pueda', 'puede', 'pueden', 'puedes', 'puedo', 'punto',\n",
              "       'puntos', 'puntuación', 'pérdida', 'que', 'quería', 'quien',\n",
              "       'quiere', 'quieres', 'quiero', 'quizás', 'quién', 'qué', 'razones',\n",
              "       'razón', 'real', 'reales', 'realidad', 'realista', 'really',\n",
              "       'realmente', 'recomiendo', 'recuerda', 'recuerdo', 'relaciones',\n",
              "       'relación', 'rendimiento', 'reparto', 'representación', 'respecto',\n",
              "       'resto', 'resultado', 'revisión', 'richard', 'risa', 'risas',\n",
              "       'ritmo', 'robert', 'roles', 'romance', 'rápidamente', 'rápido',\n",
              "       'sabe', 'saber', 'sabes', 'sabía', 'salir', 'sangre', 'script',\n",
              "       'se', 'sea', 'sean', 'secuela', 'secuencia', 'secuencias',\n",
              "       'secundaria', 'see', 'seguir', 'segunda', 'segundo', 'seguro',\n",
              "       'semana', 'sensación', 'sentido', 'sentir', 'sentí', 'ser',\n",
              "       'serie', 'serio', 'será', 'sería', 'sexo', 'sexual', 'she', 'show',\n",
              "       'si', 'sido', 'siempre', 'siendo', 'siente', 'siento', 'significa',\n",
              "       'sigue', 'siguiente', 'similar', 'simple', 'simplemente', 'sin',\n",
              "       'sino', 'siquiera', 'situación', 'so', 'sobre', 'sociedad', 'solo',\n",
              "       'some', 'son', 'sonido', 'sonora', 'sorprendió', 'sorpresa', 'soy',\n",
              "       'sr', 'star', 'story', 'su', 'sucede', 'sucedió', 'suena',\n",
              "       'suficiente', 'suficientemente', 'superior', 'supone', 'supongo',\n",
              "       'supuesto', 'sus', 'suspenso', 'sé', 'sí', 'tal', 'talento',\n",
              "       'también', 'tampoco', 'tan', 'tanto', 'tarde', 'te', 'teatro',\n",
              "       'televisión', 'tema', 'temporada', 'tenemos', 'tener', 'tenga',\n",
              "       'tengo', 'tenido', 'tenía', 'tenían', 'termina', 'terrible',\n",
              "       'terror', 'than', 'that', 'the', 'their', 'them', 'then', 'there',\n",
              "       'they', 'this', 'thriller', 'ti', 'tiempo', 'tiempos', 'tienda',\n",
              "       'tiene', 'tienen', 'tienes', 'tierra', 'time', 'tipo', 'to',\n",
              "       'toda', 'todas', 'todavía', 'todo', 'todos', 'tom', 'toma',\n",
              "       'tomar', 'tonto', 'total', 'totalmente', 'trabajar', 'trabajo',\n",
              "       'trama', 'trata', 'tratando', 'través', 'tres', 'triste', 'tu',\n",
              "       'tuve', 'tuvo', 'tv', 'two', 'título', 'un', 'una', 'unidos',\n",
              "       'uno', 'unos', 'up', 'usa', 'usar', 'uso', 'usted', 'va', 'vale',\n",
              "       'valor', 'vamos', 'van', 'varias', 'varios', 've', 'vea', 'veces',\n",
              "       'vemos', 'ven', 'veo', 'ver', 'verdad', 'verdadera',\n",
              "       'verdaderamente', 'verdadero', 'verlo', 'versión', 'very', 'ves',\n",
              "       'vez', 'vi', 'viaje', 'vida', 'vidas', 'video', 'viejo', 'viendo',\n",
              "       'viene', 'violencia', 'visión', 'vista', 'visto', 'vivir', 'vivo',\n",
              "       'volver', 'voy', 'voz', 'vuelta', 'vuelve', 'was', 'we', 'well',\n",
              "       'were', 'what', 'when', 'which', 'who', 'will', 'william', 'with',\n",
              "       'would', 'ya', 'yo', 'york', 'you', 'él', 'éxito', 'última',\n",
              "       'último', 'últimos', 'única', 'único'], dtype=object)"
            ]
          },
          "metadata": {},
          "execution_count": 10
        }
      ]
    },
    {
      "cell_type": "code",
      "source": [
        "vecTrain.get_feature_names_out().size"
      ],
      "metadata": {
        "colab": {
          "base_uri": "https://localhost:8080/"
        },
        "id": "XHyhfPIxPh4a",
        "outputId": "858e5918-22b6-4a55-8fce-7e16c831bb01"
      },
      "execution_count": 11,
      "outputs": [
        {
          "output_type": "execute_result",
          "data": {
            "text/plain": [
              "1000"
            ]
          },
          "metadata": {},
          "execution_count": 11
        }
      ]
    },
    {
      "cell_type": "markdown",
      "source": [
        "* Hay varias stop_words tanto en español como en ingles que sabemos que no tienen mucho valor,\n",
        "* Hay muchas palabras con tilde, esto puede hacer que en algunos casos en el que se llegue a escribir sin tilde no se considere ese features\n",
        "* Hay palabras \"repetidas\" por ejemplo 'trabajar', 'trabajo' estas dos palabras deberian tener el mismo valor. Esto se puede llegar a arreglar mediante stemming(cortar palabras) o lemmatization(buscar la palabra origen)\n",
        "\n"
      ],
      "metadata": {
        "id": "WBHMtmmzPdCr"
      }
    },
    {
      "cell_type": "code",
      "source": [
        "stop_words = stopwords.words(\"english\") + stopwords.words(\"spanish\")\n",
        "stop_words = [quitar_acentos(word) for word in stop_words]\n",
        "print(stop_words)"
      ],
      "metadata": {
        "colab": {
          "base_uri": "https://localhost:8080/"
        },
        "id": "ZXTko7SeQKFb",
        "outputId": "b41788bf-5c5b-432c-d179-f98129c92b39"
      },
      "execution_count": 12,
      "outputs": [
        {
          "output_type": "stream",
          "name": "stdout",
          "text": [
            "['i', 'me', 'my', 'myself', 'we', 'our', 'ours', 'ourselves', 'you', \"you're\", \"you've\", \"you'll\", \"you'd\", 'your', 'yours', 'yourself', 'yourselves', 'he', 'him', 'his', 'himself', 'she', \"she's\", 'her', 'hers', 'herself', 'it', \"it's\", 'its', 'itself', 'they', 'them', 'their', 'theirs', 'themselves', 'what', 'which', 'who', 'whom', 'this', 'that', \"that'll\", 'these', 'those', 'am', 'is', 'are', 'was', 'were', 'be', 'been', 'being', 'have', 'has', 'had', 'having', 'do', 'does', 'did', 'doing', 'a', 'an', 'the', 'and', 'but', 'if', 'or', 'because', 'as', 'until', 'while', 'of', 'at', 'by', 'for', 'with', 'about', 'against', 'between', 'into', 'through', 'during', 'before', 'after', 'above', 'below', 'to', 'from', 'up', 'down', 'in', 'out', 'on', 'off', 'over', 'under', 'again', 'further', 'then', 'once', 'here', 'there', 'when', 'where', 'why', 'how', 'all', 'any', 'both', 'each', 'few', 'more', 'most', 'other', 'some', 'such', 'no', 'nor', 'not', 'only', 'own', 'same', 'so', 'than', 'too', 'very', 's', 't', 'can', 'will', 'just', 'don', \"don't\", 'should', \"should've\", 'now', 'd', 'll', 'm', 'o', 're', 've', 'y', 'ain', 'aren', \"aren't\", 'couldn', \"couldn't\", 'didn', \"didn't\", 'doesn', \"doesn't\", 'hadn', \"hadn't\", 'hasn', \"hasn't\", 'haven', \"haven't\", 'isn', \"isn't\", 'ma', 'mightn', \"mightn't\", 'mustn', \"mustn't\", 'needn', \"needn't\", 'shan', \"shan't\", 'shouldn', \"shouldn't\", 'wasn', \"wasn't\", 'weren', \"weren't\", 'won', \"won't\", 'wouldn', \"wouldn't\", 'de', 'la', 'que', 'el', 'en', 'y', 'a', 'los', 'del', 'se', 'las', 'por', 'un', 'para', 'con', 'no', 'una', 'su', 'al', 'lo', 'como', 'mas', 'pero', 'sus', 'le', 'ya', 'o', 'este', 'si', 'porque', 'esta', 'entre', 'cuando', 'muy', 'sin', 'sobre', 'tambien', 'me', 'hasta', 'hay', 'donde', 'quien', 'desde', 'todo', 'nos', 'durante', 'todos', 'uno', 'les', 'ni', 'contra', 'otros', 'ese', 'eso', 'ante', 'ellos', 'e', 'esto', 'mi', 'antes', 'algunos', 'que', 'unos', 'yo', 'otro', 'otras', 'otra', 'el', 'tanto', 'esa', 'estos', 'mucho', 'quienes', 'nada', 'muchos', 'cual', 'poco', 'ella', 'estar', 'estas', 'algunas', 'algo', 'nosotros', 'mi', 'mis', 'tu', 'te', 'ti', 'tu', 'tus', 'ellas', 'nosotras', 'vosotros', 'vosotras', 'os', 'mio', 'mia', 'mios', 'mias', 'tuyo', 'tuya', 'tuyos', 'tuyas', 'suyo', 'suya', 'suyos', 'suyas', 'nuestro', 'nuestra', 'nuestros', 'nuestras', 'vuestro', 'vuestra', 'vuestros', 'vuestras', 'esos', 'esas', 'estoy', 'estas', 'esta', 'estamos', 'estais', 'estan', 'este', 'estes', 'estemos', 'esteis', 'esten', 'estare', 'estaras', 'estara', 'estaremos', 'estareis', 'estaran', 'estaria', 'estarias', 'estariamos', 'estariais', 'estarian', 'estaba', 'estabas', 'estabamos', 'estabais', 'estaban', 'estuve', 'estuviste', 'estuvo', 'estuvimos', 'estuvisteis', 'estuvieron', 'estuviera', 'estuvieras', 'estuvieramos', 'estuvierais', 'estuvieran', 'estuviese', 'estuvieses', 'estuviesemos', 'estuvieseis', 'estuviesen', 'estando', 'estado', 'estada', 'estados', 'estadas', 'estad', 'he', 'has', 'ha', 'hemos', 'habeis', 'han', 'haya', 'hayas', 'hayamos', 'hayais', 'hayan', 'habre', 'habras', 'habra', 'habremos', 'habreis', 'habran', 'habria', 'habrias', 'habriamos', 'habriais', 'habrian', 'habia', 'habias', 'habiamos', 'habiais', 'habian', 'hube', 'hubiste', 'hubo', 'hubimos', 'hubisteis', 'hubieron', 'hubiera', 'hubieras', 'hubieramos', 'hubierais', 'hubieran', 'hubiese', 'hubieses', 'hubiesemos', 'hubieseis', 'hubiesen', 'habiendo', 'habido', 'habida', 'habidos', 'habidas', 'soy', 'eres', 'es', 'somos', 'sois', 'son', 'sea', 'seas', 'seamos', 'seais', 'sean', 'sere', 'seras', 'sera', 'seremos', 'sereis', 'seran', 'seria', 'serias', 'seriamos', 'seriais', 'serian', 'era', 'eras', 'eramos', 'erais', 'eran', 'fui', 'fuiste', 'fue', 'fuimos', 'fuisteis', 'fueron', 'fuera', 'fueras', 'fueramos', 'fuerais', 'fueran', 'fuese', 'fueses', 'fuesemos', 'fueseis', 'fuesen', 'sintiendo', 'sentido', 'sentida', 'sentidos', 'sentidas', 'siente', 'sentid', 'tengo', 'tienes', 'tiene', 'tenemos', 'teneis', 'tienen', 'tenga', 'tengas', 'tengamos', 'tengais', 'tengan', 'tendre', 'tendras', 'tendra', 'tendremos', 'tendreis', 'tendran', 'tendria', 'tendrias', 'tendriamos', 'tendriais', 'tendrian', 'tenia', 'tenias', 'teniamos', 'teniais', 'tenian', 'tuve', 'tuviste', 'tuvo', 'tuvimos', 'tuvisteis', 'tuvieron', 'tuviera', 'tuvieras', 'tuvieramos', 'tuvierais', 'tuvieran', 'tuviese', 'tuvieses', 'tuviesemos', 'tuvieseis', 'tuviesen', 'teniendo', 'tenido', 'tenida', 'tenidos', 'tenidas', 'tened']\n"
          ]
        }
      ]
    },
    {
      "cell_type": "code",
      "source": [
        "vecTrain = TfidfVectorizer(max_features = 1000, stop_words=stop_words, strip_accents=\"unicode\")\n",
        "X = vecTrain.fit_transform(dsTrainCopy.review_es)\n",
        "vecTrain.get_feature_names_out()"
      ],
      "metadata": {
        "colab": {
          "base_uri": "https://localhost:8080/"
        },
        "id": "aQ_AJtsVQNzi",
        "outputId": "e6c1eef5-6548-47f2-b871-f2bded2c0d21"
      },
      "execution_count": 13,
      "outputs": [
        {
          "output_type": "execute_result",
          "data": {
            "text/plain": [
              "array(['10', '100', '15', '20', '30', '50', '70', '80', '90',\n",
              "       'absolutamente', 'absoluto', 'aburrida', 'aburrido', 'acaba',\n",
              "       'acabo', 'accidente', 'accion', 'acerca', 'actor', 'actores',\n",
              "       'actriz', 'actuacion', 'actuaciones', 'actuando', 'actuar',\n",
              "       'acuerdo', 'adelante', 'ademas', 'adolescente', 'adolescentes',\n",
              "       'adultos', 'agradable', 'agua', 'ahi', 'ahora', 'aire', 'alguien',\n",
              "       'algun', 'alguna', 'alla', 'alli', 'alrededor', 'also', 'alta',\n",
              "       'altamente', 'alto', 'ambos', 'america', 'amigo', 'amigos', 'amo',\n",
              "       'amor', 'animacion', 'animales', 'ano', 'anos', 'anterior',\n",
              "       'anteriores', 'antigua', 'antiguo', 'aparece', 'aparentemente',\n",
              "       'aparte', 'apenas', 'apertura', 'apoyo', 'aproximadamente',\n",
              "       'aquellos', 'aqui', 'armas', 'arte', 'asesinato', 'asesino', 'asi',\n",
              "       'aspecto', 'aspectos', 'asunto', 'atencion', 'audiencia', 'aun',\n",
              "       'aunque', 'auto', 'automovil', 'ayuda', 'bad', 'baile', 'baja',\n",
              "       'bajo', 'banda', 'basa', 'basicamente', 'bastante', 'basura',\n",
              "       'batalla', 'bebe', 'belleza', 'ben', 'bien', 'big', 'bill',\n",
              "       'blanco', 'brillante', 'broma', 'buen', 'buena', 'buenas', 'bueno',\n",
              "       'buenos', 'buscando', 'cabeza', 'cabo', 'cada', 'cae', 'caja',\n",
              "       'calidad', 'calificacion', 'camara', 'cambio', 'camino', 'campo',\n",
              "       'cancion', 'canciones', 'cantidad', 'cara', 'caracter',\n",
              "       'caracteres', 'carrera', 'casa', 'casi', 'caso', 'cerca',\n",
              "       'cerebro', 'character', 'characters', 'chica', 'chicas', 'chico',\n",
              "       'chicos', 'chistes', 'ciencia', 'ciertamente', 'cierto', 'cinco',\n",
              "       'cine', 'cineastas', 'cinematografia', 'ciudad', 'claramente',\n",
              "       'claro', 'clase', 'clasico', 'cliche', 'color', 'comedia',\n",
              "       'comedias', 'comentario', 'comentarios', 'comenzar', 'comenzo',\n",
              "       'comienza', 'comienzo', 'companero', 'compania', 'comparacion',\n",
              "       'completa', 'completamente', 'completo', 'concepto', 'conclusion',\n",
              "       'conjunto', 'conocido', 'contrario', 'control', 'convierte',\n",
              "       'convincente', 'convirtio', 'copia', 'corazon', 'corta', 'corto',\n",
              "       'cosa', 'cosas', 'could', 'crear', 'credito', 'creditos', 'cree',\n",
              "       'creer', 'creible', 'creo', 'crimen', 'cuales', 'cualquier',\n",
              "       'cualquiera', 'cuanto', 'cuatro', 'cuenta', 'cuerpo', 'da', 'dado',\n",
              "       'dan', 'dar', 'darle', 'david', 'debajo', 'debe', 'deben',\n",
              "       'deberia', 'deberian', 'debido', 'debil', 'debo', 'decada',\n",
              "       'decente', 'decide', 'decir', 'definitivamente', 'deja', 'dejar',\n",
              "       'dejo', 'demas', 'demasiado', 'demonios', 'dentro',\n",
              "       'desafortunadamente', 'desagradable', 'desarrollo', 'desastre',\n",
              "       'desempeno', 'deseo', 'desnudez', 'despues', 'detalles', 'detras',\n",
              "       'di', 'dia', 'dialogo', 'dias', 'dice', 'dicen', 'dicho',\n",
              "       'diciendo', 'diez', 'diferencia', 'diferente', 'diferentes',\n",
              "       'dificil', 'dijo', 'dinero', 'dio', 'dios', 'direccion',\n",
              "       'directamente', 'director', 'directores', 'dirigido', 'disfrutar',\n",
              "       'disfrute', 'disney', 'disparo', 'diversion', 'divertida',\n",
              "       'divertidas', 'divertido', 'divertidos', 'documental', 'dolor',\n",
              "       'dos', 'doy', 'dr', 'drama', 'drogas', 'duda', 'duro', 'dvd',\n",
              "       'edad', 'edicion', 'efecto', 'efectos', 'ejemplo', 'ejercito',\n",
              "       'elementos', 'elenco', 'ello', 'embargo', 'emocion', 'emocional',\n",
              "       'emocionante', 'emociones', 'encanta', 'encanto', 'encima',\n",
              "       'encontrar', 'encontre', 'encuentra', 'encuentran', 'enfoque',\n",
              "       'entender', 'entiendo', 'entonces', 'entretenida', 'entretenido',\n",
              "       'entretenimiento', 'episodio', 'episodios', 'epoca', 'equipo',\n",
              "       'error', 'escena', 'escenario', 'escenas', 'escribir', 'escrito',\n",
              "       'escritor', 'escritores', 'escritura', 'escuchar', 'escuela',\n",
              "       'esfuerzo', 'espacio', 'especial', 'especiales', 'especialmente',\n",
              "       'especie', 'espectaculo', 'espectador', 'espectadores',\n",
              "       'espeluznante', 'espera', 'esperaba', 'esperando', 'esperanza',\n",
              "       'esperar', 'espero', 'espiritu', 'esposa', 'esposo',\n",
              "       'estadounidense', 'estadounidenses', 'estilo', 'estrella',\n",
              "       'estrellas', 'estudio', 'estupida', 'estupido', 'etc', 'even',\n",
              "       'eventos', 'evitar', 'ex', 'exactamente', 'excelente',\n",
              "       'excelentes', 'excepcion', 'excepto', 'exito', 'experiencia',\n",
              "       'extrana', 'extrano', 'extremadamente', 'facil', 'facilmente',\n",
              "       'falla', 'falta', 'familia', 'familiar', 'fan', 'fanatico',\n",
              "       'fanaticos', 'fantasia', 'favor', 'favorito', 'feliz', 'festival',\n",
              "       'ficcion', 'fiesta', 'film', 'films', 'fin', 'final', 'finales',\n",
              "       'finalmente', 'first', 'fondo', 'forma', 'fotografia', 'frente',\n",
              "       'fuerte', 'fuerza', 'funciona', 'futuro', 'gay', 'general',\n",
              "       'generalmente', 'genero', 'genial', 'gente', 'george', 'get',\n",
              "       'giro', 'giros', 'golpe', 'good', 'gore', 'gracias', 'gracioso',\n",
              "       'grado', 'gran', 'grande', 'grandes', 'great', 'grupo', 'guerra',\n",
              "       'guion', 'gusta', 'gustan', 'gustaria', 'gusto', 'haber',\n",
              "       'haberse', 'habitacion', 'habla', 'hablando', 'hablar', 'hace',\n",
              "       'hacen', 'hacer', 'hacerlo', 'hacia', 'haciendo', 'hara', 'hecha',\n",
              "       'hecho', 'hechos', 'hermana', 'hermano', 'hermanos', 'hermosa',\n",
              "       'hermoso', 'heroe', 'hice', 'hicieron', 'hija', 'hijo', 'hijos',\n",
              "       'hilarante', 'historia', 'historias', 'hizo', 'hollywood',\n",
              "       'hombre', 'hombres', 'hora', 'horas', 'horrible', 'horribles',\n",
              "       'horror', 'hoy', 'humana', 'humano', 'humanos', 'humor', 'idea',\n",
              "       'ideas', 'ido', 'igual', 'imagen', 'imagenes', 'imdb', 'importa',\n",
              "       'importante', 'impresion', 'impresionante', 'incluso', 'increible',\n",
              "       'increiblemente', 'infierno', 'ingles', 'inteligente', 'intenta',\n",
              "       'intentan', 'intento', 'interes', 'interesante', 'interesantes',\n",
              "       'ir', 'isla', 'jack', 'james', 'jane', 'jefe', 'joe', 'john',\n",
              "       'jones', 'joven', 'jovenes', 'juega', 'juego', 'jugado', 'jugando',\n",
              "       'jugar', 'jugo', 'junto', 'juntos', 'justo', 'lado',\n",
              "       'lamentablemente', 'lanzamiento', 'larga', 'largo', 'lee', 'leer',\n",
              "       'leido', 'lejos', 'lento', 'libro', 'libros', 'life',\n",
              "       'ligeramente', 'like', 'linea', 'lineas', 'lista', 'little',\n",
              "       'llama', 'llamada', 'llamado', 'llega', 'llegar', 'llena', 'lleno',\n",
              "       'lleva', 'local', 'loco', 'logra', 'logro', 'love', 'lucha',\n",
              "       'luego', 'lugar', 'lugares', 'luz', 'made', 'madera', 'madre',\n",
              "       'maestra', 'maestro', 'make', 'mal', 'mala', 'malas', 'malo',\n",
              "       'malos', 'man', 'manera', 'mano', 'manos', 'mantener', 'mantiene',\n",
              "       'many', 'maravillosa', 'maravilloso', 'marca', 'marido', 'mata',\n",
              "       'matar', 'material', 'mayor', 'mayoria', 'media', 'medico',\n",
              "       'medida', 'medio', 'mejor', 'mejores', 'mencionar', 'menor',\n",
              "       'menos', 'mensaje', 'mente', 'menudo', 'merece', 'mezcla',\n",
              "       'michael', 'miedo', 'miembros', 'mientras', 'mierda', 'minutos',\n",
              "       'mira', 'mirada', 'mirando', 'mirar', 'misma', 'mismo', 'mismos',\n",
              "       'misterio', 'mitad', 'modos', 'molesto', 'momento', 'momentos',\n",
              "       'monstruo', 'monton', 'mostrar', 'movie', 'movimiento', 'much',\n",
              "       'mucha', 'muchas', 'muerte', 'muerto', 'muertos', 'muestra',\n",
              "       'muestran', 'mujer', 'mujeres', 'mundial', 'mundo', 'musica',\n",
              "       'musical', 'nadie', 'naturaleza', 'necesita', 'negro', 'never',\n",
              "       'nina', 'ningun', 'ninguna', 'ninguno', 'nino', 'ninos', 'nivel',\n",
              "       'noche', 'nombre', 'nota', 'novela', 'novia', 'nueva',\n",
              "       'nuevamente', 'nuevo', 'numero', 'nunca', 'obra', 'observar',\n",
              "       'obtener', 'obtiene', 'obviamente', 'obvio', 'odio', 'ofrece',\n",
              "       'oh', 'ojos', 'ok', 'one', 'opinion', 'oportunidad', 'original',\n",
              "       'oscar', 'oscuro', 'padre', 'padres', 'pais', 'palabra',\n",
              "       'palabras', 'pantalla', 'papel', 'par', 'parcela', 'parece',\n",
              "       'parecen', 'parecia', 'parecian', 'pareja', 'parte', 'partes',\n",
              "       'particular', 'particularmente', 'pasa', 'pasado', 'pasar', 'paso',\n",
              "       'paul', 'pelicula', 'peliculas', 'pena', 'pensando', 'pensar',\n",
              "       'pense', 'people', 'peor', 'peores', 'pequena', 'pequeno',\n",
              "       'pequenos', 'perder', 'perdida', 'perdido', 'perfecta',\n",
              "       'perfectamente', 'perfecto', 'periodo', 'permite', 'perro',\n",
              "       'persona', 'personaje', 'personajes', 'personal', 'personas',\n",
              "       'pesar', 'peter', 'pierde', 'pieza', 'pobre', 'pocas', 'pocos',\n",
              "       'podemos', 'poder', 'podia', 'podria', 'podrian', 'policia',\n",
              "       'pone', 'poner', 'posible', 'posiblemente', 'practicamente',\n",
              "       'predecible', 'pregunta', 'preguntas', 'premisa', 'presenta',\n",
              "       'presupuesto', 'primer', 'primera', 'primero', 'primeros',\n",
              "       'principal', 'principales', 'principalmente', 'principio',\n",
              "       'principios', 'probable', 'probablemente', 'problema', 'problemas',\n",
              "       'produccion', 'productores', 'profundidad', 'programa', 'promedio',\n",
              "       'pronto', 'propia', 'propio', 'proyecto', 'publico', 'pude',\n",
              "       'pueda', 'puede', 'pueden', 'puedes', 'puedo', 'punto', 'puntos',\n",
              "       'puntuacion', 'queria', 'quiere', 'quieres', 'quiero', 'quizas',\n",
              "       'rapidamente', 'rapido', 'rara', 'razon', 'razones', 'real',\n",
              "       'reales', 'realidad', 'realista', 'really', 'realmente',\n",
              "       'recientemente', 'recomendaria', 'recomiendo', 'recordar',\n",
              "       'recuerda', 'recuerdo', 'red', 'reir', 'relacion', 'relaciones',\n",
              "       'rendimiento', 'reparto', 'representacion', 'respecto', 'resto',\n",
              "       'resulta', 'resultado', 'revision', 'rey', 'richard', 'ridiculo',\n",
              "       'risa', 'risas', 'ritmo', 'robert', 'rock', 'roles', 'romance',\n",
              "       'ropa', 'sabe', 'saber', 'sabes', 'sabia', 'sale', 'salio',\n",
              "       'salir', 'salvar', 'sam', 'sangre', 'scene', 'scott', 'script',\n",
              "       'secuela', 'secuencia', 'secuencias', 'secundaria', 'see',\n",
              "       'seguir', 'segunda', 'segundo', 'seguro', 'semana', 'sensacion',\n",
              "       'senti', 'sentir', 'ser', 'serie', 'series', 'serio', 'sexo',\n",
              "       'sexual', 'sexuales', 'show', 'sido', 'siempre', 'siendo',\n",
              "       'siento', 'siglo', 'significa', 'sigue', 'siguiente', 'similar',\n",
              "       'simple', 'simplemente', 'sino', 'siquiera', 'situacion',\n",
              "       'situaciones', 'sociedad', 'sola', 'solo', 'sonido', 'sonora',\n",
              "       'sorprendente', 'sorprendentemente', 'sorprendio', 'sorpresa',\n",
              "       'spoilers', 'sr', 'sra', 'star', 'story', 'sucede', 'sucedio',\n",
              "       'suena', 'sueno', 'suerte', 'suficiente', 'suficientemente',\n",
              "       'super', 'superior', 'supone', 'supongo', 'supuesto', 'suspenso',\n",
              "       'tal', 'talento', 'tales', 'tampoco', 'tan', 'tantas', 'tantos',\n",
              "       'tarde', 'teatro', 'television', 'tema', 'temas', 'temporada',\n",
              "       'tener', 'tension', 'termina', 'terminar', 'termino', 'terrible',\n",
              "       'terror', 'thriller', 'tiempo', 'tiempos', 'tienda', 'tierra',\n",
              "       'time', 'tipo', 'tipos', 'titulo', 'toda', 'todas', 'todavia',\n",
              "       'tom', 'toma', 'tomar', 'tomo', 'tono', 'tonta', 'tonto', 'total',\n",
              "       'totalmente', 'trabajar', 'trabajo', 'trama', 'trata', 'tratando',\n",
              "       'tratar', 'traves', 'tres', 'tripulacion', 'triste', 'tv', 'two',\n",
              "       'ultima', 'ultimo', 'ultimos', 'unas', 'unica', 'unico', 'unidos',\n",
              "       'usa', 'usar', 'uso', 'usted', 'va', 'vale', 'valor', 'valores',\n",
              "       'vamos', 'van', 'varias', 'varios', 'vea', 'veces', 'vemos', 'ven',\n",
              "       'veo', 'ver', 'verdad', 'verdadera', 'verdaderamente', 'verdadero',\n",
              "       'verlo', 'version', 'ves', 'vez', 'vi', 'viaje', 'vida', 'vidas',\n",
              "       'video', 'viejo', 'viendo', 'viene', 'villano', 'vio', 'violencia',\n",
              "       'vision', 'vista', 'visto', 'vive', 'vivir', 'vivo', 'volver',\n",
              "       'voy', 'voz', 'vuelta', 'vuelve', 'way', 'well', 'william',\n",
              "       'would', 'york', 'young'], dtype=object)"
            ]
          },
          "metadata": {},
          "execution_count": 13
        }
      ]
    },
    {
      "cell_type": "markdown",
      "source": [
        "## Stemmer"
      ],
      "metadata": {
        "id": "I0YIvU3o6eGB"
      }
    },
    {
      "cell_type": "markdown",
      "source": [
        "Vamos a utilizar un stemmer porque es mas rapido aunque no necesariamente sea lo mejor porque al cortarlas dos palabras con el mismo significado pueden seguir siendo distintas"
      ],
      "metadata": {
        "id": "LV2_mb6S6j7Z"
      }
    },
    {
      "cell_type": "code",
      "source": [
        "stemmer = SnowballStemmer(\"spanish\")\n",
        "def tokenize(text):\n",
        "    text = re.sub('[^a-z0-9ñ ]', '', text) #aplico esto para evitar que el stemmer tome cosas como ¿hol\n",
        "    tokens = nltk.word_tokenize(text)\n",
        "    stems = []\n",
        "    for item in tokens:\n",
        "        stems.append(stemmer.stem(item))\n",
        "    return stems"
      ],
      "metadata": {
        "id": "9q1vNJx6RaVO"
      },
      "execution_count": 14,
      "outputs": []
    },
    {
      "cell_type": "code",
      "source": [
        "stop_words = stopwords.words(\"english\") + stopwords.words(\"spanish\")\n",
        "stop_words = [quitar_acentos(word) for word in stop_words]\n",
        "vecTrain = TfidfVectorizer(max_features = 1000,tokenizer=tokenize, stop_words=stop_words, strip_accents=\"unicode\")\n",
        "X = vecTrain.fit_transform(dsTrainCopy.review_es)\n",
        "vecTrain.get_feature_names_out()"
      ],
      "metadata": {
        "colab": {
          "base_uri": "https://localhost:8080/"
        },
        "id": "Jtc1EVKtRvRS",
        "outputId": "b1e8247d-ab84-4ee9-957d-9d7f038717c7"
      },
      "execution_count": 15,
      "outputs": [
        {
          "output_type": "stream",
          "name": "stderr",
          "text": [
            "/usr/local/lib/python3.10/dist-packages/sklearn/feature_extraction/text.py:528: UserWarning: The parameter 'token_pattern' will not be used since 'tokenizer' is not None'\n",
            "  warnings.warn(\n",
            "/usr/local/lib/python3.10/dist-packages/sklearn/feature_extraction/text.py:409: UserWarning: Your stop_words may be inconsistent with your preprocessing. Tokenizing the stop words generated tokens ['abov', 'algun', 'arent', 'becaus', 'befor', 'betw', 'com', 'contr', 'couldnt', 'cuand', 'desd', 'didnt', 'doesnt', 'dond', 'dont', 'durant', 'eram', 'estab', 'estam', 'estand', 'estari', 'estem', 'estuv', 'estuvier', 'estuvies', 'fuer', 'fues', 'fuim', 'fuist', 'furth', 'hab', 'habi', 'habr', 'habri', 'hadnt', 'hasnt', 'hast', 'hav', 'havent', 'hem', 'hub', 'hubier', 'hubies', 'isnt', 'mightnt', 'mor', 'much', 'mustnt', 'nad', 'neednt', 'nosotr', 'nuestr', 'ourselv', 'par', 'per', 'poc', 'porqu', 'qui', 'sam', 'seam', 'sent', 'ser', 'seri', 'shant', 'shes', 'shouldnt', 'shouldv', 'sient', 'sint', 'sobr', 'som', 'suy', 'tambi', 'tant', 'ten', 'tendr', 'tendri', 'teng', 'teni', 'thatll', 'themselv', 'ther', 'thes', 'thos', 'tien', 'tod', 'tuv', 'tuvier', 'tuvies', 'tuy', 'vosotr', 'vuestr', 'wasnt', 'wer', 'werent', 'wher', 'whil', 'wont', 'wouldnt', 'youd', 'youll', 'yourselv', 'youv'] not in stop_words.\n",
            "  warnings.warn(\n"
          ]
        },
        {
          "output_type": "execute_result",
          "data": {
            "text/plain": [
              "array(['1', '10', '12', '2', '20', '3', '30', '4', '5', '70', '80', '90',\n",
              "       'abandon', 'abiert', 'absolut', 'aburr', 'acab', 'accion', 'acent',\n",
              "       'acept', 'acerc', 'actor', 'actriz', 'actu', 'actuacion', 'actual',\n",
              "       'acuerd', 'adapt', 'adecu', 'adem', 'admit', 'adolescent', 'adult',\n",
              "       'afirm', 'agrad', 'agreg', 'agu', 'ahi', 'ahor', 'air', 'ajust',\n",
              "       'alegr', 'alej', 'algui', 'algun', 'alla', 'alli', 'alquil',\n",
              "       'alrededor', 'also', 'alta', 'alto', 'amant', 'ambos', 'amenaz',\n",
              "       'amer', 'amig', 'amor', 'angel', 'anim', 'animal', 'ano', 'anos',\n",
              "       'anterior', 'antigu', 'apag', 'aparec', 'aparent', 'apart', 'apen',\n",
              "       'apertur', 'apoy', 'apreci', 'aprend', 'aproxim', 'aquell', 'aqui',\n",
              "       'arrastr', 'arte', 'artist', 'asesin', 'asesinat', 'asi', 'aspect',\n",
              "       'asunt', 'asust', 'atencion', 'aterr', 'atmosfer', 'atract',\n",
              "       'atrap', 'audienci', 'aun', 'aunqu', 'automovil', 'aventur',\n",
              "       'ayud', 'b', 'bad', 'bail', 'baj', 'band', 'barat', 'bas', 'basic',\n",
              "       'bastant', 'basur', 'batall', 'beb', 'becaus', 'bell', 'bellez',\n",
              "       'bien', 'blanc', 'bonit', 'bord', 'brill', 'brillant', 'britan',\n",
              "       'brom', 'buen', 'busc', 'cabez', 'cad', 'calid', 'calient',\n",
              "       'calif', 'call', 'cam', 'cambi', 'camin', 'camp', 'cancion',\n",
              "       'cant', 'cantid', 'capac', 'captur', 'car', 'caract',\n",
              "       'caracterist', 'carg', 'caricatur', 'carrer', 'cas', 'casi',\n",
              "       'caus', 'centr', 'cerc', 'cerebr', 'charact', 'charl', 'chic',\n",
              "       'chist', 'cienci', 'cientif', 'ciert', 'cin', 'cinc', 'cineast',\n",
              "       'cinematograf', 'cinematografi', 'ciud', 'clar', 'clas', 'clasic',\n",
              "       'clich', 'color', 'com', 'combin', 'comedi', 'comentari', 'comenz',\n",
              "       'comic', 'comienz', 'companer', 'compar', 'complet', 'comport',\n",
              "       'compr', 'comun', 'concept', 'conduc', 'conjunt', 'conoc',\n",
              "       'consider', 'constant', 'constru', 'cont', 'continu', 'contr',\n",
              "       'contrari', 'control', 'convert', 'conviert', 'convincent',\n",
              "       'convirti', 'copi', 'corazon', 'corr', 'correct', 'cort', 'cos',\n",
              "       'cost', 'cre', 'crec', 'credit', 'creibl', 'criatur', 'crim',\n",
              "       'critic', 'cualqu', 'cualqui', 'cuand', 'cuant', 'cuatr', 'cuent',\n",
              "       'cuerp', 'cuid', 'culp', 'cultur', 'cuy', 'da', 'dad', 'dam',\n",
              "       'dan', 'dar', 'darl', 'dav', 'deb', 'deberi', 'debil', 'dec',\n",
              "       'decent', 'decepcion', 'decid', 'definit', 'dej', 'dem', 'demasi',\n",
              "       'demoni', 'demostr', 'dentr', 'derech', 'des', 'desafortun',\n",
              "       'desagrad', 'desarroll', 'desastr', 'describ', 'descubr', 'desd',\n",
              "       'dese', 'desempen', 'desesper', 'desnud', 'desperdici', 'despu',\n",
              "       'destac', 'destin', 'destru', 'detall', 'detr', 'di', 'dia',\n",
              "       'dialog', 'dias', 'dibuj', 'dic', 'dich', 'diez', 'diferent',\n",
              "       'dificil', 'dig', 'dij', 'diner', 'dio', 'dios', 'direccion',\n",
              "       'direct', 'director', 'dirig', 'disen', 'disfrut', 'disney',\n",
              "       'dispar', 'diversion', 'divert', 'documental', 'dolor', 'dond',\n",
              "       'dos', 'doy', 'dr', 'dram', 'dramat', 'drog', 'dud', 'dulc', 'dur',\n",
              "       'durant', 'dvd', 'edad', 'edicion', 'efect', 'ejecut', 'ejempl',\n",
              "       'eleg', 'element', 'elenc', 'ello', 'embarg', 'emocion',\n",
              "       'emocional', 'enamor', 'encant', 'encontr', 'encuentr', 'enferm',\n",
              "       'enfrent', 'engan', 'enorm', 'entend', 'entiend', 'entonc',\n",
              "       'entreg', 'entreten', 'envi', 'episodi', 'equip', 'equivoc',\n",
              "       'error', 'escap', 'escen', 'escenari', 'escrib', 'escrit',\n",
              "       'escritor', 'escritur', 'escuch', 'escuel', 'esfuerz', 'espaci',\n",
              "       'especi', 'especial', 'espect', 'espectacul', 'espeluzn', 'esper',\n",
              "       'espos', 'estab', 'establec', 'estadounidens', 'estam',\n",
              "       'estereotip', 'estil', 'estrell', 'estudi', 'estup', 'estuv',\n",
              "       'etc', 'even', 'event', 'evit', 'ex', 'exact', 'excelent',\n",
              "       'except', 'exist', 'exit', 'experient', 'experiment', 'explic',\n",
              "       'explot', 'extran', 'extrem', 'fabric', 'facil', 'fall', 'fals',\n",
              "       'falt', 'famili', 'famos', 'fan', 'fanat', 'fantasi', 'fantasm',\n",
              "       'fantast', 'fascin', 'favor', 'favorit', 'feliz', 'femenin',\n",
              "       'ficcion', 'fiest', 'figur', 'film', 'films', 'fin', 'final',\n",
              "       'first', 'fond', 'form', 'fot', 'fotografi', 'franc', 'frent',\n",
              "       'fresc', 'fri', 'fuer', 'fuert', 'fuerz', 'funcion', 'futur',\n",
              "       'gan', 'gat', 'gay', 'gener', 'general', 'genial', 'gent', 'georg',\n",
              "       'get', 'gir', 'golp', 'golpe', 'good', 'gor', 'graci', 'gracios',\n",
              "       'grad', 'gran', 'grand', 'great', 'grit', 'grup', 'guerr', 'guion',\n",
              "       'gust', 'gustari', 'hab', 'habi', 'habil', 'habit', 'habitual',\n",
              "       'habl', 'habri', 'hac', 'haci', 'hag', 'har', 'hari', 'hast',\n",
              "       'hav', 'hech', 'herman', 'hermos', 'hero', 'hic', 'hij', 'hilar',\n",
              "       'histor', 'histori', 'hiz', 'hollywood', 'hombr', 'honest', 'hor',\n",
              "       'horribl', 'horror', 'hoy', 'hub', 'human', 'humor', 'ide',\n",
              "       'ignor', 'igual', 'ilumin', 'imag', 'imagen', 'imagin', 'imdb',\n",
              "       'impact', 'import', 'impresion', 'inclu', 'inclus', 'increibl',\n",
              "       'indi', 'infiern', 'inform', 'ingeni', 'ingles', 'inmediat',\n",
              "       'inocent', 'inspir', 'inteligent', 'intens', 'intent', 'inter',\n",
              "       'interes', 'interpret', 'investig', 'involucr', 'ir', 'isla',\n",
              "       'jack', 'jam', 'jan', 'jef', 'joe', 'john', 'jon', 'jov', 'joven',\n",
              "       'jueg', 'jug', 'jugador', 'juli', 'junt', 'lad', 'lament', 'lanz',\n",
              "       'lanzamient', 'larg', 'lee', 'leer', 'leid', 'lej', 'lent',\n",
              "       'levant', 'liber', 'libr', 'liger', 'lik', 'limit', 'lin', 'lind',\n",
              "       'line', 'list', 'littl', 'llam', 'lleg', 'llen', 'llev', 'llor',\n",
              "       'loc', 'local', 'logr', 'lov', 'luch', 'lueg', 'lug', 'luz', 'mad',\n",
              "       'mader', 'madr', 'maestr', 'mak', 'mal', 'malv', 'man', 'maner',\n",
              "       'manten', 'mantien', 'mar', 'maravill', 'marc', 'mat', 'material',\n",
              "       'mayor', 'mayori', 'med', 'medi', 'medic', 'mejor', 'memor', 'men',\n",
              "       'mencion', 'menor', 'mensaj', 'ment', 'mental', 'menud', 'merec',\n",
              "       'mes', 'mezcl', 'michael', 'mied', 'miembr', 'mientr', 'mierd',\n",
              "       'mil', 'millon', 'minut', 'mir', 'mism', 'misteri', 'mit', 'mod',\n",
              "       'modern', 'molest', 'moment', 'monstru', 'monton', 'mor', 'moral',\n",
              "       'mostr', 'motiv', 'mov', 'movi', 'movimient', 'much', 'muer',\n",
              "       'muert', 'muestr', 'muev', 'muj', 'mujer', 'mund', 'mundial',\n",
              "       'music', 'musical', 'nad', 'nadi', 'natural', 'naturalez',\n",
              "       'necesari', 'necesit', 'negoci', 'negr', 'nev', 'nin', 'ningun',\n",
              "       'nivel', 'noch', 'nombr', 'normal', 'nosotr', 'notabl', 'novel',\n",
              "       'novi', 'nuestr', 'nuev', 'numer', 'nunc', 'objet', 'oblig',\n",
              "       'obra', 'observ', 'obten', 'obtien', 'obtuv', 'obvi', 'occidental',\n",
              "       'ocup', 'odi', 'ofrec', 'oh', 'ojos', 'olvid', 'one', 'oper',\n",
              "       'opinion', 'oportun', 'original', 'oscar', 'oscur', 'padr', 'pag',\n",
              "       'pais', 'paisaj', 'palabr', 'pantall', 'papel', 'par', 'parcel',\n",
              "       'parec', 'pareci', 'parej', 'part', 'particul', 'particular',\n",
              "       'pas', 'paul', 'pelicul', 'peligr', 'pen', 'pens', 'pensamient',\n",
              "       'peopl', 'peor', 'pequen', 'per', 'perd', 'perdi', 'perfect',\n",
              "       'period', 'permit', 'perr', 'person', 'personaj', 'personal',\n",
              "       'pes', 'pet', 'piens', 'pierd', 'piez', 'pist', 'plac', 'plan',\n",
              "       'play', 'pobr', 'poc', 'pod', 'poder', 'podi', 'podri', 'polici',\n",
              "       'polit', 'pon', 'porqu', 'posibl', 'posit', 'posterior',\n",
              "       'potencial', 'practic', 'predec', 'pregunt', 'premi', 'premis',\n",
              "       'preocup', 'presenci', 'present', 'prest', 'presupuest', 'prim',\n",
              "       'primer', 'principal', 'principi', 'probabl', 'problem', 'produc',\n",
              "       'produccion', 'productor', 'profund', 'program', 'promedi',\n",
              "       'pront', 'propi', 'proporcion', 'protagoniz', 'proxim', 'proyect',\n",
              "       'prueb', 'public', 'pud', 'pued', 'puert', 'punt', 'puntuacion',\n",
              "       'pur', 'pus', 'qued', 'quer', 'queri', 'qui', 'quier', 'quit',\n",
              "       'quiz', 'rap', 'rapid', 'rar', 'razon', 'real', 'realid',\n",
              "       'realist', 'realiz', 'really', 'realment', 'recib', 'recient',\n",
              "       'recom', 'recomend', 'record', 'recuerd', 'red', 'refier',\n",
              "       'regres', 'rein', 'reir', 'relacion', 'rendimient', 'repart',\n",
              "       'represent', 'respect', 'respet', 'respuest', 'rest', 'result',\n",
              "       'resum', 'retrat', 'reun', 'revel', 'revis', 'revision', 'ric',\n",
              "       'richard', 'ridicul', 'ris', 'ritm', 'rob', 'robert', 'rod', 'rol',\n",
              "       'romanc', 'romant', 'romp', 'sab', 'sabi', 'sac', 'sal', 'sali',\n",
              "       'salt', 'salv', 'sam', 'sangr', 'scen', 'script', 'secret',\n",
              "       'secuel', 'secuenci', 'secundari', 'see', 'segu', 'segund',\n",
              "       'segur', 'seman', 'senal', 'senor', 'sensacion', 'sent', 'senti',\n",
              "       'sentimient', 'ser', 'seri', 'sex', 'sexual', 'show', 'sid',\n",
              "       'siempr', 'siend', 'sient', 'sig', 'sigl', 'signif', 'signific',\n",
              "       'siguient', 'silenci', 'simil', 'simpl', 'simplement', 'siqu',\n",
              "       'situacion', 'sobr', 'social', 'socied', 'sol', 'sold', 'som',\n",
              "       'sonor', 'sorprend', 'sorprendent', 'sorprendi', 'sorpres',\n",
              "       'sospech', 'sr', 'star', 'stev', 'story', 'suced', 'sucedi',\n",
              "       'suen', 'suficient', 'sup', 'super', 'superior', 'supon', 'supong',\n",
              "       'supuest', 'suspens', 'tak', 'tal', 'talent', 'tambi', 'tampoc',\n",
              "       'tan', 'tant', 'tard', 'teatr', 'tecnic', 'television', 'tem',\n",
              "       'tempor', 'tempran', 'ten', 'teng', 'teni', 'tension', 'termin',\n",
              "       'terribl', 'terror', 'ther', 'thrill', 'tiemp', 'tien', 'tiend',\n",
              "       'tierr', 'tim', 'tip', 'tipic', 'tir', 'titul', 'toc', 'tod',\n",
              "       'todavi', 'tom', 'ton', 'tont', 'total', 'tra', 'trabaj', 'traj',\n",
              "       'tram', 'trat', 'trav', 'tres', 'tripul', 'trist', 'truc', 'tuv',\n",
              "       'tv', 'two', 'ubic', 'ultim', 'unas', 'unic', 'unid', 'usa',\n",
              "       'usar', 'uso', 'usted', 'utiliz', 'va', 'val', 'valor', 'vam',\n",
              "       'vampir', 'van', 'vari', 'vea', 'vec', 'vem', 'ven', 'veo', 'ver',\n",
              "       'verd', 'verdader', 'verl', 'version', 'ves', 'vez', 'vi', 'viaj',\n",
              "       'victim', 'vid', 'vide', 'viej', 'vien', 'viend', 'villan', 'vin',\n",
              "       'vio', 'violenci', 'vision', 'visit', 'vist', 'visual', 'viv',\n",
              "       'volv', 'voy', 'voz', 'vuelt', 'vuelv', 'way', 'well', 'wer',\n",
              "       'william', 'would', 'york', 'zombi'], dtype=object)"
            ]
          },
          "metadata": {},
          "execution_count": 15
        }
      ]
    },
    {
      "cell_type": "markdown",
      "source": [
        "No podemos vectorizar dejanado todos los features ya que no nos alcanza la cantidad de RAM, entonces a partir de esto hicimos unas pruebas para determinar cual es la mejor cantidad de features. Pero resumiendo cuando probamos los modelos con 1000 features, los resultados fueron mejores en Kaggle probablemente porque overfiteamos menos con menor cantidad de features"
      ],
      "metadata": {
        "id": "ZmYNXkXgEk4a"
      }
    },
    {
      "cell_type": "markdown",
      "source": [
        "# Conjuntos de entrenamiento"
      ],
      "metadata": {
        "id": "8kfIFuJ9SzWC"
      }
    },
    {
      "cell_type": "code",
      "source": [
        "stop_words = stopwords.words(\"english\") + stopwords.words(\"spanish\")\n",
        "stop_words = [quitar_acentos(word) for word in stop_words]\n",
        "vecTrain = TfidfVectorizer(max_features = 1000,tokenizer=tokenize, stop_words=stop_words, strip_accents=\"unicode\")\n",
        "X = vecTrain.fit_transform(dsTrainCopy.review_es)\n",
        "X = X.toarray()"
      ],
      "metadata": {
        "id": "Xck_xeVpUpID"
      },
      "execution_count": 16,
      "outputs": []
    },
    {
      "cell_type": "code",
      "source": [
        "X_train, X_test, y_train, y_test = train_test_split(X,dsTrainCopy.label,test_size=0.2,random_state=25,shuffle=True,stratify=dsTrainCopy.label)\n",
        "#Verifico Cantidad de Datos en cada set\n",
        "print('# Datos Entrenamiento: {}'.format(len(X_train)))\n",
        "print('# Datos Prueba: {}'.format(len(X_test)))\n",
        "\n",
        "#Verifico como quedaron balanceados\n",
        "for split_name, split in zip(['% Positivos Entrenamiento','% Positivos Prueba'],[y_train,y_test]):\n",
        "  print('{}: {:.3f}'.format(split_name,pd.Series(split).value_counts(normalize=True)[1]*100))\n"
      ],
      "metadata": {
        "id": "438JMT0gSwfq",
        "colab": {
          "base_uri": "https://localhost:8080/"
        },
        "outputId": "a7c9c813-443b-4f36-a08e-cda747ffe0ed"
      },
      "execution_count": 17,
      "outputs": [
        {
          "output_type": "stream",
          "name": "stdout",
          "text": [
            "# Datos Entrenamiento: 40000\n",
            "# Datos Prueba: 10000\n",
            "% Positivos Entrenamiento: 50.000\n",
            "% Positivos Prueba: 50.000\n"
          ]
        }
      ]
    },
    {
      "cell_type": "code",
      "source": [
        "def metricas(y_pred,y_test):\n",
        "  print(\"El accuracy es: {}\\n\".format(accuracy_score(y_test,y_pred)))\n",
        "  print(\"El f1 es: {}\\n\".format(f1_score(y_test,y_pred)))\n",
        "  print(\"El recall es: {}\\n\".format(recall_score(y_test,y_pred)))\n",
        "  print(\"La precision es: {}\\n\\n\".format(precision_score(y_test,y_pred)))\n",
        "  print(classification_report(y_test,y_pred))"
      ],
      "metadata": {
        "id": "YostIP5WUZTi"
      },
      "execution_count": 18,
      "outputs": []
    },
    {
      "cell_type": "code",
      "source": [
        "def resultados(model,umbral=0.4):\n",
        "  y_pred = model.predict(X_test)\n",
        "  y_pred = np.where(y_pred>umbral,1,0)\n",
        "  metricas(y_test,y_pred)\n",
        "  ds_validacion=pd.DataFrame(y_pred,y_test).reset_index()\n",
        "  ds_validacion.columns=['y_pred','y_real']\n",
        "\n",
        "  tabla=pd.crosstab(ds_validacion.y_pred, ds_validacion.y_real)\n",
        "  rf=sns.heatmap(tabla,annot=True, cmap = 'Blues')"
      ],
      "metadata": {
        "id": "V0DEIecDXCBb"
      },
      "execution_count": 19,
      "outputs": []
    },
    {
      "cell_type": "code",
      "source": [
        "def print_grid_results(grid_result):\n",
        "  print(\"Best: %f using %s\" % (grid_result.best_score_, grid_result.best_params_))\n",
        "  means = grid_result.cv_results_['mean_test_score']\n",
        "  stds = grid_result.cv_results_['std_test_score']\n",
        "  params = grid_result.cv_results_['params']\n",
        "  for mean, stdev, param in zip(means, stds, params):\n",
        "    print(\"%f (%f) with: %r\" % (mean, stdev, param))"
      ],
      "metadata": {
        "id": "Egq_iAAMXGxD"
      },
      "execution_count": null,
      "outputs": []
    },
    {
      "cell_type": "markdown",
      "source": [
        "# Redes Neuronales"
      ],
      "metadata": {
        "id": "FkjsLfaoXR5G"
      }
    },
    {
      "cell_type": "markdown",
      "source": [
        "Red simples"
      ],
      "metadata": {
        "id": "IeSkWmjwXU3E"
      }
    },
    {
      "cell_type": "code",
      "source": [
        "d_in = X_train.shape[1]\n",
        "modelo= keras.Sequential([\n",
        "keras.layers.Dense(500,input_shape=(d_in,), activation='relu'),\n",
        "keras.layers.Dense(1, activation='sigmoid')])\n",
        "\n",
        "modelo.compile(\n",
        "  loss='binary_crossentropy',\n",
        "  # metricas para ir calculando en cada iteracion o batch\n",
        "  metrics=['accuracy'],\n",
        ")\n",
        "\n",
        "red = modelo.fit(X_train,y_train,verbose=False)"
      ],
      "metadata": {
        "id": "7E865fcLXT6r"
      },
      "execution_count": null,
      "outputs": []
    },
    {
      "cell_type": "code",
      "source": [
        "resultados(modelo)"
      ],
      "metadata": {
        "colab": {
          "base_uri": "https://localhost:8080/",
          "height": 780
        },
        "id": "MLC6-c3AYGlr",
        "outputId": "4239f020-0b12-41ad-ed89-fb4348e95227"
      },
      "execution_count": null,
      "outputs": [
        {
          "output_type": "stream",
          "name": "stdout",
          "text": [
            "313/313 [==============================] - 1s 3ms/step\n",
            "El accuracy es: 0.8289\n",
            "\n",
            "El f1 es: 0.8417645426801071\n",
            "\n",
            "El recall es: 0.782900395664889\n",
            "\n",
            "La precision es: 0.9102\n",
            "\n",
            "\n",
            "              precision    recall  f1-score   support\n",
            "\n",
            "           0       0.75      0.89      0.81      4187\n",
            "           1       0.91      0.78      0.84      5813\n",
            "\n",
            "    accuracy                           0.83     10000\n",
            "   macro avg       0.83      0.84      0.83     10000\n",
            "weighted avg       0.84      0.83      0.83     10000\n",
            "\n"
          ]
        },
        {
          "output_type": "display_data",
          "data": {
            "text/plain": [
              "<Figure size 640x480 with 2 Axes>"
            ],
            "image/png": "[encoded data removed]"
          },
          "metadata": {}
        }
      ]
    },
    {
      "cell_type": "markdown",
      "source": [
        "# Red Neuronal Grid"
      ],
      "metadata": {
        "id": "GchDUUe6ZIwK"
      }
    },
    {
      "cell_type": "code",
      "source": [
        "d_in = X_train.shape[1]\n",
        "def create_model():\n",
        "    modelo= keras.Sequential([\n",
        "    keras.layers.Dense((d_in/2),input_shape=(d_in,), activation='relu'),\n",
        "    keras.layers.Dense(1, activation='sigmoid')])\n",
        "\n",
        "    modelo.compile(\n",
        "      optimizer=\"adam\",\n",
        "      loss='binary_crossentropy',\n",
        "      # metricas para ir calculando en cada iteracion o batch\n",
        "      metrics=['accuracy'],\n",
        "    )\n",
        "\n",
        "    return modelo"
      ],
      "metadata": {
        "id": "OPi8186QZF4b"
      },
      "execution_count": null,
      "outputs": []
    },
    {
      "cell_type": "code",
      "source": [
        "!pip install scikeras"
      ],
      "metadata": {
        "colab": {
          "base_uri": "https://localhost:8080/"
        },
        "id": "dru4ubChZlKr",
        "outputId": "bacf67c1-9430-4b2e-8f7a-5a7fffc00bdb"
      },
      "execution_count": null,
      "outputs": [
        {
          "output_type": "stream",
          "name": "stdout",
          "text": [
            "Requirement already satisfied: scikeras in /usr/local/lib/python3.10/dist-packages (0.12.0)\n",
            "Requirement already satisfied: packaging>=0.21 in /usr/local/lib/python3.10/dist-packages (from scikeras) (23.2)\n",
            "Requirement already satisfied: scikit-learn>=1.0.0 in /usr/local/lib/python3.10/dist-packages (from scikeras) (1.2.2)\n",
            "Requirement already satisfied: numpy>=1.17.3 in /usr/local/lib/python3.10/dist-packages (from scikit-learn>=1.0.0->scikeras) (1.23.5)\n",
            "Requirement already satisfied: scipy>=1.3.2 in /usr/local/lib/python3.10/dist-packages (from scikit-learn>=1.0.0->scikeras) (1.11.4)\n",
            "Requirement already satisfied: joblib>=1.1.1 in /usr/local/lib/python3.10/dist-packages (from scikit-learn>=1.0.0->scikeras) (1.3.2)\n",
            "Requirement already satisfied: threadpoolctl>=2.0.0 in /usr/local/lib/python3.10/dist-packages (from scikit-learn>=1.0.0->scikeras) (3.2.0)\n"
          ]
        }
      ]
    },
    {
      "cell_type": "code",
      "source": [
        "from scikeras.wrappers import KerasClassifier"
      ],
      "metadata": {
        "id": "zSV3Grl1Zpm8"
      },
      "execution_count": null,
      "outputs": []
    },
    {
      "cell_type": "code",
      "source": [
        "param_grid = {\n",
        "    'epochs': [20],\n",
        "    'batch_size' : [16,32,64],\n",
        "    'callbacks' : [tf.keras.callbacks.EarlyStopping(\"accuracy\",patience=5)]\n",
        "}\n",
        "\n",
        "print(param_grid)\n",
        "modelo_cv = KerasClassifier(build_fn=create_model)\n",
        "grid = GridSearchCV(estimator=modelo_cv, param_grid=param_grid,n_jobs=-1,cv=4)\n",
        "grid_result = grid.fit(X_train, y_train)"
      ],
      "metadata": {
        "colab": {
          "base_uri": "https://localhost:8080/"
        },
        "id": "nY9qcP2JZQb6",
        "outputId": "1d6eaf26-9c25-4931-99b3-b3e52bf670ac"
      },
      "execution_count": null,
      "outputs": [
        {
          "output_type": "stream",
          "name": "stdout",
          "text": [
            "{'epochs': [20], 'batch_size': [16, 32, 64], 'callbacks': [<keras.src.callbacks.EarlyStopping object at 0x7b671e7ce2f0>]}\n"
          ]
        },
        {
          "output_type": "stream",
          "name": "stderr",
          "text": [
            "/usr/local/lib/python3.10/dist-packages/scikeras/wrappers.py:915: UserWarning: ``build_fn`` will be renamed to ``model`` in a future release, at which point use of ``build_fn`` will raise an Error instead.\n",
            "  X, y = self._initialize(X, y)\n"
          ]
        },
        {
          "output_type": "stream",
          "name": "stdout",
          "text": [
            "Epoch 1/20\n",
            "625/625 [==============================] - 8s 11ms/step - loss: 0.3902 - accuracy: 0.8265\n",
            "Epoch 2/20\n",
            "625/625 [==============================] - 8s 13ms/step - loss: 0.3453 - accuracy: 0.8443\n",
            "Epoch 3/20\n",
            "625/625 [==============================] - 7s 11ms/step - loss: 0.3341 - accuracy: 0.8492\n",
            "Epoch 4/20\n",
            "625/625 [==============================] - 8s 12ms/step - loss: 0.3192 - accuracy: 0.8589\n",
            "Epoch 5/20\n",
            "625/625 [==============================] - 7s 12ms/step - loss: 0.2971 - accuracy: 0.8718\n",
            "Epoch 6/20\n",
            "625/625 [==============================] - 8s 12ms/step - loss: 0.2668 - accuracy: 0.8899\n",
            "Epoch 7/20\n",
            "625/625 [==============================] - 7s 11ms/step - loss: 0.2267 - accuracy: 0.9139\n",
            "Epoch 8/20\n",
            "625/625 [==============================] - 7s 11ms/step - loss: 0.1790 - accuracy: 0.9419\n",
            "Epoch 9/20\n",
            "625/625 [==============================] - 7s 12ms/step - loss: 0.1285 - accuracy: 0.9675\n",
            "Epoch 10/20\n",
            "625/625 [==============================] - 7s 11ms/step - loss: 0.0836 - accuracy: 0.9856\n",
            "Epoch 11/20\n",
            "625/625 [==============================] - 8s 12ms/step - loss: 0.0507 - accuracy: 0.9945\n",
            "Epoch 12/20\n",
            "625/625 [==============================] - 6s 10ms/step - loss: 0.0297 - accuracy: 0.9982\n",
            "Epoch 13/20\n",
            "625/625 [==============================] - 8s 13ms/step - loss: 0.0173 - accuracy: 0.9992\n",
            "Epoch 14/20\n",
            "625/625 [==============================] - 6s 10ms/step - loss: 0.0106 - accuracy: 0.9997\n",
            "Epoch 15/20\n",
            "625/625 [==============================] - 9s 14ms/step - loss: 0.0068 - accuracy: 0.9999\n",
            "Epoch 16/20\n",
            "625/625 [==============================] - 6s 10ms/step - loss: 0.0043 - accuracy: 1.0000\n",
            "Epoch 17/20\n",
            "625/625 [==============================] - 8s 13ms/step - loss: 0.0029 - accuracy: 1.0000\n",
            "Epoch 18/20\n",
            "625/625 [==============================] - 6s 10ms/step - loss: 0.0020 - accuracy: 1.0000\n",
            "Epoch 19/20\n",
            "625/625 [==============================] - 8s 13ms/step - loss: 0.0013 - accuracy: 1.0000\n",
            "Epoch 20/20\n",
            "625/625 [==============================] - 6s 10ms/step - loss: 9.0002e-04 - accuracy: 1.0000\n"
          ]
        }
      ]
    },
    {
      "cell_type": "markdown",
      "source": [
        "Podemos ver que a partir de 10 epochs la red empieza a overfittear"
      ],
      "metadata": {
        "id": "G84YYjz1fZSA"
      }
    },
    {
      "cell_type": "code",
      "source": [
        "print_grid_results(grid_result)"
      ],
      "metadata": {
        "colab": {
          "base_uri": "https://localhost:8080/"
        },
        "id": "yceTH2tWeUq8",
        "outputId": "ba2a5134-6d42-4204-f947-50852e4ce4e2"
      },
      "execution_count": null,
      "outputs": [
        {
          "output_type": "stream",
          "name": "stdout",
          "text": [
            "Best: 0.844575 using {'batch_size': 64, 'callbacks': <keras.src.callbacks.EarlyStopping object at 0x7b671e7ce2f0>, 'epochs': 20}\n",
            "0.841375 (0.001998) with: {'batch_size': 16, 'callbacks': <keras.src.callbacks.EarlyStopping object at 0x7b671e7ce2f0>, 'epochs': 20}\n",
            "0.843975 (0.002063) with: {'batch_size': 32, 'callbacks': <keras.src.callbacks.EarlyStopping object at 0x7b671e7ce2f0>, 'epochs': 20}\n",
            "0.844575 (0.002720) with: {'batch_size': 64, 'callbacks': <keras.src.callbacks.EarlyStopping object at 0x7b671e7ce2f0>, 'epochs': 20}\n"
          ]
        }
      ]
    },
    {
      "cell_type": "code",
      "source": [
        "best_estimator = grid_result.best_estimator_"
      ],
      "metadata": {
        "id": "xCQayfWLuWwA"
      },
      "execution_count": null,
      "outputs": []
    },
    {
      "cell_type": "code",
      "source": [
        "resultados(best_estimator)"
      ],
      "metadata": {
        "colab": {
          "base_uri": "https://localhost:8080/",
          "height": 780
        },
        "id": "PFnMUw_PvKGd",
        "outputId": "49c63b2e-e416-488f-ee99-d22244f08262"
      },
      "execution_count": null,
      "outputs": [
        {
          "output_type": "stream",
          "name": "stdout",
          "text": [
            "157/157 [==============================] - 2s 9ms/step\n",
            "El accuracy es: 0.8492\n",
            "\n",
            "El f1 es: 0.8513406940063091\n",
            "\n",
            "El recall es: 0.8394245723172629\n",
            "\n",
            "La precision es: 0.8636\n",
            "\n",
            "\n",
            "              precision    recall  f1-score   support\n",
            "\n",
            "           0       0.83      0.86      0.85      4856\n",
            "           1       0.86      0.84      0.85      5144\n",
            "\n",
            "    accuracy                           0.85     10000\n",
            "   macro avg       0.85      0.85      0.85     10000\n",
            "weighted avg       0.85      0.85      0.85     10000\n",
            "\n"
          ]
        },
        {
          "output_type": "display_data",
          "data": {
            "text/plain": [
              "<Figure size 640x480 with 2 Axes>"
            ],
            "image/png": "[encoded data removed]"
          },
          "metadata": {}
        }
      ]
    },
    {
      "cell_type": "code",
      "source": [
        "joblib.dump(best_estimator, 'red_grid.joblib')"
      ],
      "metadata": {
        "colab": {
          "base_uri": "https://localhost:8080/"
        },
        "id": "ecKHzGJo8t4x",
        "outputId": "38413c89-9a8c-4509-be09-050759a32888"
      },
      "execution_count": null,
      "outputs": [
        {
          "output_type": "execute_result",
          "data": {
            "text/plain": [
              "['red_grid.joblib']"
            ]
          },
          "metadata": {},
          "execution_count": 114
        }
      ]
    },
    {
      "cell_type": "markdown",
      "source": [
        "# Red Neuronal 1"
      ],
      "metadata": {
        "id": "jUa5MDX98Ppx"
      }
    },
    {
      "cell_type": "code",
      "source": [
        "d_in = X_train.shape[1]\n",
        "modelo1= keras.Sequential([\n",
        "keras.layers.Dense(d_in,input_shape=(d_in,), activation='relu'),\n",
        "keras.layers.Dropout(0.2),\n",
        "keras.layers.Dense(1, activation='sigmoid')])\n",
        "\n",
        "modelo1.compile(\n",
        "  loss='binary_crossentropy',\n",
        "  # metricas para ir calculando en cada iteracion o batch\n",
        "  metrics=['accuracy'],\n",
        ")\n",
        "\n",
        "red=modelo1.fit(X_train,y_train, epochs=10)"
      ],
      "metadata": {
        "colab": {
          "base_uri": "https://localhost:8080/"
        },
        "id": "smWlGEVP8Mma",
        "outputId": "d3e14e50-ecfa-4e66-f5d0-8ed28c54b359"
      },
      "execution_count": null,
      "outputs": [
        {
          "output_type": "stream",
          "name": "stdout",
          "text": [
            "Epoch 1/10\n",
            "1250/1250 [==============================] - 20s 15ms/step - loss: 0.3903 - accuracy: 0.8253\n",
            "Epoch 2/10\n",
            "1250/1250 [==============================] - 33s 26ms/step - loss: 0.3447 - accuracy: 0.8476\n",
            "Epoch 3/10\n",
            "1250/1250 [==============================] - 22s 17ms/step - loss: 0.3290 - accuracy: 0.8533\n",
            "Epoch 4/10\n",
            "1250/1250 [==============================] - 26s 21ms/step - loss: 0.3094 - accuracy: 0.8655\n",
            "Epoch 5/10\n",
            "1250/1250 [==============================] - 29s 23ms/step - loss: 0.2844 - accuracy: 0.8825\n",
            "Epoch 6/10\n",
            "1250/1250 [==============================] - 20s 16ms/step - loss: 0.2496 - accuracy: 0.9037\n",
            "Epoch 7/10\n",
            "1250/1250 [==============================] - 22s 18ms/step - loss: 0.2067 - accuracy: 0.9278\n",
            "Epoch 8/10\n",
            "1250/1250 [==============================] - 31s 25ms/step - loss: 0.1587 - accuracy: 0.9517\n",
            "Epoch 9/10\n",
            "1250/1250 [==============================] - 24s 20ms/step - loss: 0.1113 - accuracy: 0.9714\n",
            "Epoch 10/10\n",
            "1250/1250 [==============================] - 18s 14ms/step - loss: 0.0723 - accuracy: 0.9835\n"
          ]
        }
      ]
    },
    {
      "cell_type": "code",
      "source": [
        "resultados(modelo1)"
      ],
      "metadata": {
        "colab": {
          "base_uri": "https://localhost:8080/",
          "height": 780
        },
        "id": "ughomuw6-fX1",
        "outputId": "9aed6784-844b-46bd-cbd3-9477b778168a"
      },
      "execution_count": null,
      "outputs": [
        {
          "output_type": "stream",
          "name": "stdout",
          "text": [
            "313/313 [==============================] - 1s 4ms/step\n",
            "El accuracy es: 0.8402\n",
            "\n",
            "El f1 es: 0.8465232424126009\n",
            "\n",
            "El recall es: 0.8143015521064302\n",
            "\n",
            "La precision es: 0.8814\n",
            "\n",
            "\n",
            "              precision    recall  f1-score   support\n",
            "\n",
            "           0       0.80      0.87      0.83      4588\n",
            "           1       0.88      0.81      0.85      5412\n",
            "\n",
            "    accuracy                           0.84     10000\n",
            "   macro avg       0.84      0.84      0.84     10000\n",
            "weighted avg       0.84      0.84      0.84     10000\n",
            "\n"
          ]
        },
        {
          "output_type": "display_data",
          "data": {
            "text/plain": [
              "<Figure size 640x480 with 2 Axes>"
            ],
            "image/png": "[encoded data removed]"
          },
          "metadata": {}
        }
      ]
    },
    {
      "cell_type": "code",
      "source": [
        "joblib.dump(modelo1, 'red_grid1.joblib')"
      ],
      "metadata": {
        "colab": {
          "base_uri": "https://localhost:8080/"
        },
        "id": "XZIjObru-iMj",
        "outputId": "b002a820-b064-4d95-ceb0-080d25ab7f5f"
      },
      "execution_count": null,
      "outputs": [
        {
          "output_type": "execute_result",
          "data": {
            "text/plain": [
              "['red_grid1.joblib']"
            ]
          },
          "metadata": {},
          "execution_count": 132
        }
      ]
    },
    {
      "cell_type": "markdown",
      "source": [
        "# Red Neuronal 2"
      ],
      "metadata": {
        "id": "lSnHHJ_M_N1t"
      }
    },
    {
      "cell_type": "code",
      "source": [
        "d_in = X_train.shape[1]\n",
        "modelo2= keras.Sequential([\n",
        "keras.layers.Dense(d_in,input_shape=(d_in,), activation='relu'),\n",
        "keras.layers.Dropout(0.2),\n",
        "keras.layers.Dense(1, activation='sigmoid')])\n",
        "\n",
        "modelo2.compile(\n",
        "  loss='binary_crossentropy',\n",
        "  # metricas para ir calculando en cada iteracion o batch\n",
        "  metrics=['accuracy'],\n",
        ")\n",
        "\n",
        "red=modelo2.fit(X_train,y_train, epochs=10)"
      ],
      "metadata": {
        "colab": {
          "base_uri": "https://localhost:8080/"
        },
        "id": "wxm3HbHq_SiH",
        "outputId": "e8bdc895-18ab-4915-a77f-fc6caa76d1c6"
      },
      "execution_count": null,
      "outputs": [
        {
          "output_type": "stream",
          "name": "stdout",
          "text": [
            "Epoch 1/10\n",
            "1250/1250 [==============================] - 25s 17ms/step - loss: 0.3908 - accuracy: 0.8247\n",
            "Epoch 2/10\n",
            "1250/1250 [==============================] - 18s 14ms/step - loss: 0.3444 - accuracy: 0.8463\n",
            "Epoch 3/10\n",
            "1250/1250 [==============================] - 18s 14ms/step - loss: 0.3283 - accuracy: 0.8548\n",
            "Epoch 4/10\n",
            "1250/1250 [==============================] - 18s 15ms/step - loss: 0.3080 - accuracy: 0.8658\n",
            "Epoch 5/10\n",
            "1250/1250 [==============================] - 20s 16ms/step - loss: 0.2815 - accuracy: 0.8847\n",
            "Epoch 6/10\n",
            "1250/1250 [==============================] - 22s 18ms/step - loss: 0.2459 - accuracy: 0.9068\n",
            "Epoch 7/10\n",
            "1250/1250 [==============================] - 24s 19ms/step - loss: 0.2019 - accuracy: 0.9312\n",
            "Epoch 8/10\n",
            "1250/1250 [==============================] - 18s 15ms/step - loss: 0.1542 - accuracy: 0.9536\n",
            "Epoch 9/10\n",
            "1250/1250 [==============================] - 30s 24ms/step - loss: 0.1078 - accuracy: 0.9721\n",
            "Epoch 10/10\n",
            "1250/1250 [==============================] - 23s 18ms/step - loss: 0.0700 - accuracy: 0.9845\n"
          ]
        }
      ]
    },
    {
      "cell_type": "code",
      "source": [
        "resultados(modelo2)"
      ],
      "metadata": {
        "colab": {
          "base_uri": "https://localhost:8080/",
          "height": 780
        },
        "id": "ObB3XZrbAwGl",
        "outputId": "e454b1d6-c9d1-4c8a-cb3d-7cb71daa5f6f"
      },
      "execution_count": null,
      "outputs": [
        {
          "output_type": "stream",
          "name": "stdout",
          "text": [
            "313/313 [==============================] - 2s 5ms/step\n",
            "El accuracy es: 0.8379\n",
            "\n",
            "El f1 es: 0.8346761856195819\n",
            "\n",
            "El recall es: 0.8516129032258064\n",
            "\n",
            "La precision es: 0.8184\n",
            "\n",
            "\n",
            "              precision    recall  f1-score   support\n",
            "\n",
            "           0       0.86      0.83      0.84      5195\n",
            "           1       0.82      0.85      0.83      4805\n",
            "\n",
            "    accuracy                           0.84     10000\n",
            "   macro avg       0.84      0.84      0.84     10000\n",
            "weighted avg       0.84      0.84      0.84     10000\n",
            "\n"
          ]
        },
        {
          "output_type": "display_data",
          "data": {
            "text/plain": [
              "<Figure size 640x480 with 2 Axes>"
            ],
            "image/png": "[encoded data removed]"
          },
          "metadata": {}
        }
      ]
    },
    {
      "cell_type": "code",
      "source": [
        "joblib.dump(modelo2, 'red_grid2.joblib')"
      ],
      "metadata": {
        "colab": {
          "base_uri": "https://localhost:8080/"
        },
        "id": "fu0XoeEJBQg1",
        "outputId": "7a58b363-56b8-4c53-838e-00c9485ff1b2"
      },
      "execution_count": null,
      "outputs": [
        {
          "output_type": "stream",
          "name": "stderr",
          "text": [
            "WARNING:tensorflow:Detecting that an object or model or tf.train.Checkpoint is being deleted with unrestored values. See the following logs for the specific values in question. To silence these warnings, use `status.expect_partial()`. See https://www.tensorflow.org/api_docs/python/tf/train/Checkpoint#restorefor details about the status object returned by the restore function.\n",
            "WARNING:tensorflow:Value in checkpoint could not be found in the restored object: (root).keras_api.metrics.0.total\n",
            "WARNING:tensorflow:Value in checkpoint could not be found in the restored object: (root).keras_api.metrics.0.count\n",
            "WARNING:tensorflow:Value in checkpoint could not be found in the restored object: (root).keras_api.metrics.1.total\n",
            "WARNING:tensorflow:Value in checkpoint could not be found in the restored object: (root).keras_api.metrics.1.count\n",
            "WARNING:tensorflow:Detecting that an object or model or tf.train.Checkpoint is being deleted with unrestored values. See the following logs for the specific values in question. To silence these warnings, use `status.expect_partial()`. See https://www.tensorflow.org/api_docs/python/tf/train/Checkpoint#restorefor details about the status object returned by the restore function.\n",
            "WARNING:tensorflow:Value in checkpoint could not be found in the restored object: (root).keras_api.metrics.0.total\n",
            "WARNING:tensorflow:Value in checkpoint could not be found in the restored object: (root).keras_api.metrics.0.count\n",
            "WARNING:tensorflow:Value in checkpoint could not be found in the restored object: (root).keras_api.metrics.1.total\n",
            "WARNING:tensorflow:Value in checkpoint could not be found in the restored object: (root).keras_api.metrics.1.count\n",
            "WARNING:tensorflow:Detecting that an object or model or tf.train.Checkpoint is being deleted with unrestored values. See the following logs for the specific values in question. To silence these warnings, use `status.expect_partial()`. See https://www.tensorflow.org/api_docs/python/tf/train/Checkpoint#restorefor details about the status object returned by the restore function.\n",
            "WARNING:tensorflow:Value in checkpoint could not be found in the restored object: (root).keras_api.metrics.0.total\n",
            "WARNING:tensorflow:Value in checkpoint could not be found in the restored object: (root).keras_api.metrics.0.count\n",
            "WARNING:tensorflow:Value in checkpoint could not be found in the restored object: (root).keras_api.metrics.1.total\n",
            "WARNING:tensorflow:Value in checkpoint could not be found in the restored object: (root).keras_api.metrics.1.count\n",
            "WARNING:tensorflow:Detecting that an object or model or tf.train.Checkpoint is being deleted with unrestored values. See the following logs for the specific values in question. To silence these warnings, use `status.expect_partial()`. See https://www.tensorflow.org/api_docs/python/tf/train/Checkpoint#restorefor details about the status object returned by the restore function.\n",
            "WARNING:tensorflow:Value in checkpoint could not be found in the restored object: (root).keras_api.metrics.0.total\n",
            "WARNING:tensorflow:Value in checkpoint could not be found in the restored object: (root).keras_api.metrics.0.count\n",
            "WARNING:tensorflow:Value in checkpoint could not be found in the restored object: (root).keras_api.metrics.1.total\n",
            "WARNING:tensorflow:Value in checkpoint could not be found in the restored object: (root).keras_api.metrics.1.count\n",
            "WARNING:tensorflow:Detecting that an object or model or tf.train.Checkpoint is being deleted with unrestored values. See the following logs for the specific values in question. To silence these warnings, use `status.expect_partial()`. See https://www.tensorflow.org/api_docs/python/tf/train/Checkpoint#restorefor details about the status object returned by the restore function.\n",
            "WARNING:tensorflow:Value in checkpoint could not be found in the restored object: (root).keras_api.metrics.0.total\n",
            "WARNING:tensorflow:Value in checkpoint could not be found in the restored object: (root).keras_api.metrics.0.count\n",
            "WARNING:tensorflow:Value in checkpoint could not be found in the restored object: (root).keras_api.metrics.1.total\n",
            "WARNING:tensorflow:Value in checkpoint could not be found in the restored object: (root).keras_api.metrics.1.count\n"
          ]
        },
        {
          "output_type": "execute_result",
          "data": {
            "text/plain": [
              "['red_grid2.joblib']"
            ]
          },
          "metadata": {},
          "execution_count": 135
        }
      ]
    },
    {
      "cell_type": "markdown",
      "source": [
        "# Red Neuronal 3"
      ],
      "metadata": {
        "id": "caRDdz5pB482"
      }
    },
    {
      "cell_type": "code",
      "source": [
        "d_in = X_train.shape[1]\n",
        "modelo3= keras.Sequential([\n",
        "keras.layers.Dropout(0.2, input_shape=(d_in,)),\n",
        "keras.layers.Dense(d_in, activation='relu'),\n",
        "keras.layers.Dense(1, activation='sigmoid')])\n",
        "\n",
        "modelo3.compile(\n",
        "  loss='binary_crossentropy',\n",
        "  # metricas para ir calculando en cada iteracion o batch\n",
        "  metrics=['accuracy'],\n",
        ")\n",
        "\n",
        "red=modelo3.fit(X_train,y_train,epochs=10)"
      ],
      "metadata": {
        "colab": {
          "base_uri": "https://localhost:8080/"
        },
        "id": "woB9IRGmB98M",
        "outputId": "bb6911c7-63c6-43c7-8bde-9b827d3fe5dc"
      },
      "execution_count": null,
      "outputs": [
        {
          "output_type": "stream",
          "name": "stdout",
          "text": [
            "Epoch 1/10\n",
            "1250/1250 [==============================] - 19s 15ms/step - loss: 0.4224 - accuracy: 0.8077\n",
            "Epoch 2/10\n",
            "1250/1250 [==============================] - 18s 14ms/step - loss: 0.3794 - accuracy: 0.8259\n",
            "Epoch 3/10\n",
            "1250/1250 [==============================] - 18s 14ms/step - loss: 0.3736 - accuracy: 0.8287\n",
            "Epoch 4/10\n",
            "1250/1250 [==============================] - 19s 15ms/step - loss: 0.3570 - accuracy: 0.8403\n",
            "Epoch 5/10\n",
            "1250/1250 [==============================] - 18s 14ms/step - loss: 0.3446 - accuracy: 0.8487\n",
            "Epoch 6/10\n",
            "1250/1250 [==============================] - 17s 14ms/step - loss: 0.3275 - accuracy: 0.8587\n",
            "Epoch 7/10\n",
            "1250/1250 [==============================] - 18s 14ms/step - loss: 0.3055 - accuracy: 0.8734\n",
            "Epoch 8/10\n",
            "1250/1250 [==============================] - 18s 14ms/step - loss: 0.2842 - accuracy: 0.8874\n",
            "Epoch 9/10\n",
            "1250/1250 [==============================] - 17s 14ms/step - loss: 0.2593 - accuracy: 0.9019\n",
            "Epoch 10/10\n",
            "1250/1250 [==============================] - 18s 14ms/step - loss: 0.2306 - accuracy: 0.9166\n"
          ]
        }
      ]
    },
    {
      "cell_type": "code",
      "source": [
        "resultados(modelo3)"
      ],
      "metadata": {
        "colab": {
          "base_uri": "https://localhost:8080/",
          "height": 780
        },
        "id": "Qyb1hb3RDrPQ",
        "outputId": "5685ed0c-5269-4198-bdaa-8fe22851ae56"
      },
      "execution_count": null,
      "outputs": [
        {
          "output_type": "stream",
          "name": "stdout",
          "text": [
            "313/313 [==============================] - 2s 5ms/step\n",
            "El accuracy es: 0.8368\n",
            "\n",
            "El f1 es: 0.8480446927374303\n",
            "\n",
            "El recall es: 0.7933797909407666\n",
            "\n",
            "La precision es: 0.9108\n",
            "\n",
            "\n",
            "              precision    recall  f1-score   support\n",
            "\n",
            "           0       0.76      0.90      0.82      4260\n",
            "           1       0.91      0.79      0.85      5740\n",
            "\n",
            "    accuracy                           0.84     10000\n",
            "   macro avg       0.84      0.84      0.84     10000\n",
            "weighted avg       0.85      0.84      0.84     10000\n",
            "\n"
          ]
        },
        {
          "output_type": "display_data",
          "data": {
            "text/plain": [
              "<Figure size 640x480 with 2 Axes>"
            ],
            "image/png": "[encoded data removed]"
          },
          "metadata": {}
        }
      ]
    },
    {
      "cell_type": "code",
      "source": [
        "joblib.dump(modelo3, 'red_grid3.joblib')"
      ],
      "metadata": {
        "colab": {
          "base_uri": "https://localhost:8080/"
        },
        "id": "08zSeGgkDtCk",
        "outputId": "085db95c-0e0a-4ba0-db78-509a1c67c755"
      },
      "execution_count": null,
      "outputs": [
        {
          "output_type": "execute_result",
          "data": {
            "text/plain": [
              "['red_grid3.joblib']"
            ]
          },
          "metadata": {},
          "execution_count": 138
        }
      ]
    },
    {
      "cell_type": "markdown",
      "source": [
        "#Red Neuronal 4"
      ],
      "metadata": {
        "id": "-43C06qSD2C9"
      }
    },
    {
      "cell_type": "code",
      "source": [
        "d_in = X_train.shape[1]\n",
        "modelo4= keras.Sequential([\n",
        "keras.layers.Dense(d_in, activation='relu'),\n",
        "keras.layers.Dense((d_in/2), activation='relu'),\n",
        "keras.layers.Dense(1, activation='sigmoid')])\n",
        "\n",
        "modelo4.compile(\n",
        "  loss='binary_crossentropy',\n",
        "  # metricas para ir calculando en cada iteracion o batch\n",
        "  metrics=['accuracy'],\n",
        ")\n",
        "\n",
        "red=modelo4.fit(X_train,y_train,epochs=5)"
      ],
      "metadata": {
        "colab": {
          "base_uri": "https://localhost:8080/"
        },
        "id": "vBJv3mHGDwXz",
        "outputId": "48d5cc2c-48c6-450f-f872-beb0d05696a8"
      },
      "execution_count": null,
      "outputs": [
        {
          "output_type": "stream",
          "name": "stdout",
          "text": [
            "Epoch 1/5\n",
            "1250/1250 [==============================] - 26s 20ms/step - loss: 0.3845 - accuracy: 0.8230\n",
            "Epoch 2/5\n",
            "1250/1250 [==============================] - 26s 21ms/step - loss: 0.3344 - accuracy: 0.8520\n",
            "Epoch 3/5\n",
            "1250/1250 [==============================] - 27s 21ms/step - loss: 0.2922 - accuracy: 0.8765\n",
            "Epoch 4/5\n",
            "1250/1250 [==============================] - 25s 20ms/step - loss: 0.2125 - accuracy: 0.9185\n",
            "Epoch 5/5\n",
            "1250/1250 [==============================] - 26s 21ms/step - loss: 0.1127 - accuracy: 0.9628\n"
          ]
        }
      ]
    },
    {
      "cell_type": "code",
      "source": [
        "resultados(modelo4)"
      ],
      "metadata": {
        "colab": {
          "base_uri": "https://localhost:8080/",
          "height": 780
        },
        "id": "Vl3alQlKD_FG",
        "outputId": "a166c80f-4a12-4bac-bd08-656cee06518f"
      },
      "execution_count": null,
      "outputs": [
        {
          "output_type": "stream",
          "name": "stdout",
          "text": [
            "313/313 [==============================] - 2s 6ms/step\n",
            "El accuracy es: 0.8352\n",
            "\n",
            "El f1 es: 0.8425978987583572\n",
            "\n",
            "El recall es: 0.8063985374771481\n",
            "\n",
            "La precision es: 0.8822\n",
            "\n",
            "\n",
            "              precision    recall  f1-score   support\n",
            "\n",
            "           0       0.79      0.87      0.83      4530\n",
            "           1       0.88      0.81      0.84      5470\n",
            "\n",
            "    accuracy                           0.84     10000\n",
            "   macro avg       0.84      0.84      0.83     10000\n",
            "weighted avg       0.84      0.84      0.84     10000\n",
            "\n"
          ]
        },
        {
          "output_type": "display_data",
          "data": {
            "text/plain": [
              "<Figure size 640x480 with 2 Axes>"
            ],
            "image/png": "[encoded data removed]"
          },
          "metadata": {}
        }
      ]
    },
    {
      "cell_type": "code",
      "source": [
        "joblib.dump(modelo4, 'red_grid4.joblib')"
      ],
      "metadata": {
        "colab": {
          "base_uri": "https://localhost:8080/"
        },
        "id": "lLxizqUGECK9",
        "outputId": "5d0b91ee-a8b0-4601-9fa6-2032f5e0ecec"
      },
      "execution_count": null,
      "outputs": [
        {
          "output_type": "execute_result",
          "data": {
            "text/plain": [
              "['red_grid4.joblib']"
            ]
          },
          "metadata": {},
          "execution_count": 141
        }
      ]
    },
    {
      "cell_type": "markdown",
      "source": [
        "#Red Neuronal 5"
      ],
      "metadata": {
        "id": "8CJUtIqBEL-c"
      }
    },
    {
      "cell_type": "code",
      "source": [
        "d_in = X_train.shape[1]\n",
        "modelo5= keras.Sequential([\n",
        "keras.layers.Dense((d_in/2), activation='relu'),\n",
        "keras.layers.Dense(1, activation='sigmoid')])\n",
        "\n",
        "modelo5.compile(\n",
        "  optimizer=\"adam\",\n",
        "  loss='binary_crossentropy',\n",
        "  # metricas para ir calculando en cada iteracion o batch\n",
        "  metrics=['accuracy'],\n",
        ")\n",
        "\n",
        "red=modelo5.fit(X_train,y_train,epochs=5)"
      ],
      "metadata": {
        "colab": {
          "base_uri": "https://localhost:8080/"
        },
        "id": "msFOJNnyEKZF",
        "outputId": "91e41914-b36b-4410-fab9-646962a16423"
      },
      "execution_count": 20,
      "outputs": [
        {
          "output_type": "stream",
          "name": "stdout",
          "text": [
            "Epoch 1/5\n",
            "1250/1250 [==============================] - 14s 11ms/step - loss: 0.3830 - accuracy: 0.8278\n",
            "Epoch 2/5\n",
            "1250/1250 [==============================] - 13s 10ms/step - loss: 0.3428 - accuracy: 0.8452\n",
            "Epoch 3/5\n",
            "1250/1250 [==============================] - 13s 10ms/step - loss: 0.3230 - accuracy: 0.8566\n",
            "Epoch 4/5\n",
            "1250/1250 [==============================] - 11s 9ms/step - loss: 0.2893 - accuracy: 0.8772\n",
            "Epoch 5/5\n",
            "1250/1250 [==============================] - 11s 9ms/step - loss: 0.2401 - accuracy: 0.9064\n"
          ]
        }
      ]
    },
    {
      "cell_type": "code",
      "source": [
        "resultados(modelo5)"
      ],
      "metadata": {
        "colab": {
          "base_uri": "https://localhost:8080/",
          "height": 780
        },
        "id": "rgExgEyfETvM",
        "outputId": "829ecc2b-e1e0-4959-bfa9-d2e903d1ad91"
      },
      "execution_count": 21,
      "outputs": [
        {
          "output_type": "stream",
          "name": "stdout",
          "text": [
            "313/313 [==============================] - 1s 3ms/step\n",
            "El accuracy es: 0.8402\n",
            "\n",
            "El f1 es: 0.8462574562247451\n",
            "\n",
            "El recall es: 0.8153503893214683\n",
            "\n",
            "La precision es: 0.8796\n",
            "\n",
            "\n",
            "              precision    recall  f1-score   support\n",
            "\n",
            "           0       0.80      0.87      0.83      4606\n",
            "           1       0.88      0.82      0.85      5394\n",
            "\n",
            "    accuracy                           0.84     10000\n",
            "   macro avg       0.84      0.84      0.84     10000\n",
            "weighted avg       0.84      0.84      0.84     10000\n",
            "\n"
          ]
        },
        {
          "output_type": "display_data",
          "data": {
            "text/plain": [
              "<Figure size 640x480 with 2 Axes>"
            ],
            "image/png": "[encoded data removed]"
          },
          "metadata": {}
        }
      ]
    },
    {
      "cell_type": "code",
      "source": [
        "joblib.dump(modelo5, 'red_grid5.joblib')"
      ],
      "metadata": {
        "colab": {
          "base_uri": "https://localhost:8080/"
        },
        "id": "-azmYhY6EV5E",
        "outputId": "6248b14b-a231-4788-b0b2-6be2602c9d0a"
      },
      "execution_count": 22,
      "outputs": [
        {
          "output_type": "execute_result",
          "data": {
            "text/plain": [
              "['red_grid5.joblib']"
            ]
          },
          "metadata": {},
          "execution_count": 22
        }
      ]
    },
    {
      "cell_type": "markdown",
      "source": [
        "Subimos el umbral"
      ],
      "metadata": {
        "id": "4tawMRirFBqs"
      }
    },
    {
      "cell_type": "code",
      "source": [
        "resultados(modelo5,0.45)"
      ],
      "metadata": {
        "colab": {
          "base_uri": "https://localhost:8080/",
          "height": 780
        },
        "id": "5ptzvdekFAuh",
        "outputId": "8ff5ca67-ca2d-49c5-f330-97a5819fd35c"
      },
      "execution_count": 23,
      "outputs": [
        {
          "output_type": "stream",
          "name": "stdout",
          "text": [
            "313/313 [==============================] - 1s 4ms/step\n",
            "El accuracy es: 0.8456\n",
            "\n",
            "El f1 es: 0.848151062155783\n",
            "\n",
            "El recall es: 0.8343653250773994\n",
            "\n",
            "La precision es: 0.8624\n",
            "\n",
            "\n",
            "              precision    recall  f1-score   support\n",
            "\n",
            "           0       0.83      0.86      0.84      4832\n",
            "           1       0.86      0.83      0.85      5168\n",
            "\n",
            "    accuracy                           0.85     10000\n",
            "   macro avg       0.85      0.85      0.85     10000\n",
            "weighted avg       0.85      0.85      0.85     10000\n",
            "\n"
          ]
        },
        {
          "output_type": "display_data",
          "data": {
            "text/plain": [
              "<Figure size 640x480 with 2 Axes>"
            ],
            "image/png": "[encoded data removed]"
          },
          "metadata": {}
        }
      ]
    },
    {
      "cell_type": "code",
      "source": [
        "resultados(modelo5,0.5)"
      ],
      "metadata": {
        "colab": {
          "base_uri": "https://localhost:8080/",
          "height": 780
        },
        "id": "jTQc0UosFN_5",
        "outputId": "b9b55c6c-5fa2-4aaf-fd23-eedd39fd88b2"
      },
      "execution_count": 24,
      "outputs": [
        {
          "output_type": "stream",
          "name": "stdout",
          "text": [
            "313/313 [==============================] - 1s 3ms/step\n",
            "El accuracy es: 0.8444\n",
            "\n",
            "El f1 es: 0.8438378161380972\n",
            "\n",
            "El recall es: 0.846897663174859\n",
            "\n",
            "La precision es: 0.8408\n",
            "\n",
            "\n",
            "              precision    recall  f1-score   support\n",
            "\n",
            "           0       0.85      0.84      0.84      5036\n",
            "           1       0.84      0.85      0.84      4964\n",
            "\n",
            "    accuracy                           0.84     10000\n",
            "   macro avg       0.84      0.84      0.84     10000\n",
            "weighted avg       0.84      0.84      0.84     10000\n",
            "\n"
          ]
        },
        {
          "output_type": "display_data",
          "data": {
            "text/plain": [
              "<Figure size 640x480 with 2 Axes>"
            ],
            "image/png": "[encoded data removed]"
          },
          "metadata": {}
        }
      ]
    },
    {
      "cell_type": "code",
      "source": [
        "joblib.dump(modelo5, 'red_final.joblib')"
      ],
      "metadata": {
        "colab": {
          "base_uri": "https://localhost:8080/"
        },
        "id": "DBYMf-JOFTx7",
        "outputId": "b2a9632d-9bc5-4111-b0b3-aada01971841"
      },
      "execution_count": 25,
      "outputs": [
        {
          "output_type": "execute_result",
          "data": {
            "text/plain": [
              "['red_final.joblib']"
            ]
          },
          "metadata": {},
          "execution_count": 25
        }
      ]
    },
    {
      "cell_type": "markdown",
      "source": [
        "# Submission 1"
      ],
      "metadata": {
        "id": "hatqzAexnm5K"
      }
    },
    {
      "cell_type": "code",
      "source": [
        "modelo = joblib.load('red_grid.joblib')\n",
        "\n",
        "red=modelo.fit(X_train,y_train, epochs=10)"
      ],
      "metadata": {
        "colab": {
          "base_uri": "https://localhost:8080/"
        },
        "id": "KpYbdMnJo1Gi",
        "outputId": "77bd331c-ee2b-48ba-c557-f2da1f5b0638"
      },
      "execution_count": null,
      "outputs": [
        {
          "output_type": "stream",
          "name": "stderr",
          "text": [
            "/usr/local/lib/python3.10/dist-packages/scikeras/wrappers.py:915: UserWarning: ``build_fn`` will be renamed to ``model`` in a future release, at which point use of ``build_fn`` will raise an Error instead.\n",
            "  X, y = self._initialize(X, y)\n"
          ]
        },
        {
          "output_type": "stream",
          "name": "stdout",
          "text": [
            "Epoch 1/10\n",
            "625/625 [==============================] - 8s 11ms/step - loss: 0.3891 - accuracy: 0.8265\n",
            "Epoch 2/10\n",
            "625/625 [==============================] - 8s 12ms/step - loss: 0.3452 - accuracy: 0.8463\n",
            "Epoch 3/10\n",
            "625/625 [==============================] - 6s 10ms/step - loss: 0.3343 - accuracy: 0.8500\n",
            "Epoch 4/10\n",
            "625/625 [==============================] - 8s 12ms/step - loss: 0.3191 - accuracy: 0.8590\n",
            "Epoch 5/10\n",
            "625/625 [==============================] - 6s 10ms/step - loss: 0.2979 - accuracy: 0.8713\n",
            "Epoch 6/10\n",
            "625/625 [==============================] - 8s 13ms/step - loss: 0.2679 - accuracy: 0.8897\n",
            "Epoch 7/10\n",
            "625/625 [==============================] - 6s 10ms/step - loss: 0.2285 - accuracy: 0.9139\n",
            "Epoch 8/10\n",
            "625/625 [==============================] - 8s 13ms/step - loss: 0.1790 - accuracy: 0.9413\n",
            "Epoch 9/10\n",
            "625/625 [==============================] - 6s 10ms/step - loss: 0.1273 - accuracy: 0.9673\n",
            "Epoch 10/10\n",
            "625/625 [==============================] - 7s 11ms/step - loss: 0.0824 - accuracy: 0.9850\n"
          ]
        }
      ]
    },
    {
      "cell_type": "code",
      "source": [
        "X_TEST = vecTest.transform(dsTestCopy.review_es)\n",
        "X_TEST = X_TEST.toarray()"
      ],
      "metadata": {
        "id": "sd_YrsMxsz4s"
      },
      "execution_count": null,
      "outputs": []
    },
    {
      "cell_type": "code",
      "source": [
        "X_TEST = vecTest.transform(dsTestCopy.review_es)\n",
        "X_TEST = X_TEST.toarray()"
      ],
      "metadata": {
        "id": "RrzXW2JDWdSG"
      },
      "execution_count": null,
      "outputs": []
    },
    {
      "cell_type": "code",
      "source": [
        "y_pred = modelo.predict(X_TEST)\n",
        "y_pred"
      ],
      "metadata": {
        "colab": {
          "base_uri": "https://localhost:8080/"
        },
        "id": "TmdPKIXYtWC0",
        "outputId": "4cbacf57-800f-4cbe-d828-42a4eccd521e"
      },
      "execution_count": null,
      "outputs": [
        {
          "output_type": "stream",
          "name": "stdout",
          "text": [
            "269/269 [==============================] - 1s 5ms/step\n"
          ]
        },
        {
          "output_type": "execute_result",
          "data": {
            "text/plain": [
              "array([[1.7237193e-07],\n",
              "       [8.9536989e-01],\n",
              "       [1.0244196e-02],\n",
              "       ...,\n",
              "       [3.7590417e-01],\n",
              "       [1.2459115e-03],\n",
              "       [5.8843967e-02]], dtype=float32)"
            ]
          },
          "metadata": {},
          "execution_count": 70
        }
      ]
    },
    {
      "cell_type": "code",
      "source": [
        "y_pred = np.where(y_pred>0.45,1,0)\n",
        "y_pred = y_pred.flatten()\n",
        "y_pred"
      ],
      "metadata": {
        "colab": {
          "base_uri": "https://localhost:8080/"
        },
        "id": "m85dDdsYtBcC",
        "outputId": "dc9af359-2d08-48fc-aab6-98d790377d20"
      },
      "execution_count": null,
      "outputs": [
        {
          "output_type": "execute_result",
          "data": {
            "text/plain": [
              "array([0, 1, 0, ..., 0, 0, 0])"
            ]
          },
          "metadata": {},
          "execution_count": 71
        }
      ]
    },
    {
      "cell_type": "code",
      "source": [
        "df_submission = pd.DataFrame({'id': dsTestCopy['ID'], 'Sentimiento': y_pred})\n",
        "df_submission"
      ],
      "metadata": {
        "colab": {
          "base_uri": "https://localhost:8080/",
          "height": 424
        },
        "id": "_mmXH1bStC0y",
        "outputId": "7cce1795-8bc3-4d46-8619-1cd88683cee6"
      },
      "execution_count": null,
      "outputs": [
        {
          "output_type": "execute_result",
          "data": {
            "text/plain": [
              "         id  Sentimiento\n",
              "0     60000            0\n",
              "1     60001            1\n",
              "2     60002            0\n",
              "3     60003            0\n",
              "4     60004            0\n",
              "...     ...          ...\n",
              "8594  68594            1\n",
              "8595  68595            0\n",
              "8596  68596            0\n",
              "8597  68597            0\n",
              "8598  68598            0\n",
              "\n",
              "[8599 rows x 2 columns]"
            ],
            "text/html": [
              "\n",
              "  <div id=\"df-5c973f88-2a08-4e0d-b1f6-e0a6381426ec\" class=\"colab-df-container\">\n",
              "    <div>\n",
              "<style scoped>\n",
              "    .dataframe tbody tr th:only-of-type {\n",
              "        vertical-align: middle;\n",
              "    }\n",
              "\n",
              "    .dataframe tbody tr th {\n",
              "        vertical-align: top;\n",
              "    }\n",
              "\n",
              "    .dataframe thead th {\n",
              "        text-align: right;\n",
              "    }\n",
              "</style>\n",
              "<table border=\"1\" class=\"dataframe\">\n",
              "  <thead>\n",
              "    <tr style=\"text-align: right;\">\n",
              "      <th></th>\n",
              "      <th>id</th>\n",
              "      <th>Sentimiento</th>\n",
              "    </tr>\n",
              "  </thead>\n",
              "  <tbody>\n",
              "    <tr>\n",
              "      <th>0</th>\n",
              "      <td>60000</td>\n",
              "      <td>0</td>\n",
              "    </tr>\n",
              "    <tr>\n",
              "      <th>1</th>\n",
              "      <td>60001</td>\n",
              "      <td>1</td>\n",
              "    </tr>\n",
              "    <tr>\n",
              "      <th>2</th>\n",
              "      <td>60002</td>\n",
              "      <td>0</td>\n",
              "    </tr>\n",
              "    <tr>\n",
              "      <th>3</th>\n",
              "      <td>60003</td>\n",
              "      <td>0</td>\n",
              "    </tr>\n",
              "    <tr>\n",
              "      <th>4</th>\n",
              "      <td>60004</td>\n",
              "      <td>0</td>\n",
              "    </tr>\n",
              "    <tr>\n",
              "      <th>...</th>\n",
              "      <td>...</td>\n",
              "      <td>...</td>\n",
              "    </tr>\n",
              "    <tr>\n",
              "      <th>8594</th>\n",
              "      <td>68594</td>\n",
              "      <td>1</td>\n",
              "    </tr>\n",
              "    <tr>\n",
              "      <th>8595</th>\n",
              "      <td>68595</td>\n",
              "      <td>0</td>\n",
              "    </tr>\n",
              "    <tr>\n",
              "      <th>8596</th>\n",
              "      <td>68596</td>\n",
              "      <td>0</td>\n",
              "    </tr>\n",
              "    <tr>\n",
              "      <th>8597</th>\n",
              "      <td>68597</td>\n",
              "      <td>0</td>\n",
              "    </tr>\n",
              "    <tr>\n",
              "      <th>8598</th>\n",
              "      <td>68598</td>\n",
              "      <td>0</td>\n",
              "    </tr>\n",
              "  </tbody>\n",
              "</table>\n",
              "<p>8599 rows × 2 columns</p>\n",
              "</div>\n",
              "    <div class=\"colab-df-buttons\">\n",
              "\n",
              "  <div class=\"colab-df-container\">\n",
              "    <button class=\"colab-df-convert\" onclick=\"convertToInteractive('df-5c973f88-2a08-4e0d-b1f6-e0a6381426ec')\"\n",
              "            title=\"Convert this dataframe to an interactive table.\"\n",
              "            style=\"display:none;\">\n",
              "\n",
              "  <svg xmlns=\"http://www.w3.org/2000/svg\" height=\"24px\" viewBox=\"0 -960 960 960\">\n",
              "    <path d=\"M120-120v-720h720v720H120Zm60-500h600v-160H180v160Zm220 220h160v-160H400v160Zm0 220h160v-160H400v160ZM180-400h160v-160H180v160Zm440 0h160v-160H620v160ZM180-180h160v-160H180v160Zm440 0h160v-160H620v160Z\"/>\n",
              "  </svg>\n",
              "    </button>\n",
              "\n",
              "  <style>\n",
              "    .colab-df-container {\n",
              "      display:flex;\n",
              "      gap: 12px;\n",
              "    }\n",
              "\n",
              "    .colab-df-convert {\n",
              "      background-color: #E8F0FE;\n",
              "      border: none;\n",
              "      border-radius: 50%;\n",
              "      cursor: pointer;\n",
              "      display: none;\n",
              "      fill: #1967D2;\n",
              "      height: 32px;\n",
              "      padding: 0 0 0 0;\n",
              "      width: 32px;\n",
              "    }\n",
              "\n",
              "    .colab-df-convert:hover {\n",
              "      background-color: #E2EBFA;\n",
              "      box-shadow: 0px 1px 2px rgba(60, 64, 67, 0.3), 0px 1px 3px 1px rgba(60, 64, 67, 0.15);\n",
              "      fill: #174EA6;\n",
              "    }\n",
              "\n",
              "    .colab-df-buttons div {\n",
              "      margin-bottom: 4px;\n",
              "    }\n",
              "\n",
              "    [theme=dark] .colab-df-convert {\n",
              "      background-color: #3B4455;\n",
              "      fill: #D2E3FC;\n",
              "    }\n",
              "\n",
              "    [theme=dark] .colab-df-convert:hover {\n",
              "      background-color: #434B5C;\n",
              "      box-shadow: 0px 1px 3px 1px rgba(0, 0, 0, 0.15);\n",
              "      filter: drop-shadow(0px 1px 2px rgba(0, 0, 0, 0.3));\n",
              "      fill: #FFFFFF;\n",
              "    }\n",
              "  </style>\n",
              "\n",
              "    <script>\n",
              "      const buttonEl =\n",
              "        document.querySelector('#df-5c973f88-2a08-4e0d-b1f6-e0a6381426ec button.colab-df-convert');\n",
              "      buttonEl.style.display =\n",
              "        google.colab.kernel.accessAllowed ? 'block' : 'none';\n",
              "\n",
              "      async function convertToInteractive(key) {\n",
              "        const element = document.querySelector('#df-5c973f88-2a08-4e0d-b1f6-e0a6381426ec');\n",
              "        const dataTable =\n",
              "          await google.colab.kernel.invokeFunction('convertToInteractive',\n",
              "                                                    [key], {});\n",
              "        if (!dataTable) return;\n",
              "\n",
              "        const docLinkHtml = 'Like what you see? Visit the ' +\n",
              "          '<a target=\"_blank\" href=https://colab.research.google.com/notebooks/data_table.ipynb>data table notebook</a>'\n",
              "          + ' to learn more about interactive tables.';\n",
              "        element.innerHTML = '';\n",
              "        dataTable['output_type'] = 'display_data';\n",
              "        await google.colab.output.renderOutput(dataTable, element);\n",
              "        const docLink = document.createElement('div');\n",
              "        docLink.innerHTML = docLinkHtml;\n",
              "        element.appendChild(docLink);\n",
              "      }\n",
              "    </script>\n",
              "  </div>\n",
              "\n",
              "\n",
              "<div id=\"df-4881f76b-37cb-410e-b56b-0344d9788e2e\">\n",
              "  <button class=\"colab-df-quickchart\" onclick=\"quickchart('df-4881f76b-37cb-410e-b56b-0344d9788e2e')\"\n",
              "            title=\"Suggest charts\"\n",
              "            style=\"display:none;\">\n",
              "\n",
              "<svg xmlns=\"http://www.w3.org/2000/svg\" height=\"24px\"viewBox=\"0 0 24 24\"\n",
              "     width=\"24px\">\n",
              "    <g>\n",
              "        <path d=\"M19 3H5c-1.1 0-2 .9-2 2v14c0 1.1.9 2 2 2h14c1.1 0 2-.9 2-2V5c0-1.1-.9-2-2-2zM9 17H7v-7h2v7zm4 0h-2V7h2v10zm4 0h-2v-4h2v4z\"/>\n",
              "    </g>\n",
              "</svg>\n",
              "  </button>\n",
              "\n",
              "<style>\n",
              "  .colab-df-quickchart {\n",
              "      --bg-color: #E8F0FE;\n",
              "      --fill-color: #1967D2;\n",
              "      --hover-bg-color: #E2EBFA;\n",
              "      --hover-fill-color: #174EA6;\n",
              "      --disabled-fill-color: #AAA;\n",
              "      --disabled-bg-color: #DDD;\n",
              "  }\n",
              "\n",
              "  [theme=dark] .colab-df-quickchart {\n",
              "      --bg-color: #3B4455;\n",
              "      --fill-color: #D2E3FC;\n",
              "      --hover-bg-color: #434B5C;\n",
              "      --hover-fill-color: #FFFFFF;\n",
              "      --disabled-bg-color: #3B4455;\n",
              "      --disabled-fill-color: #666;\n",
              "  }\n",
              "\n",
              "  .colab-df-quickchart {\n",
              "    background-color: var(--bg-color);\n",
              "    border: none;\n",
              "    border-radius: 50%;\n",
              "    cursor: pointer;\n",
              "    display: none;\n",
              "    fill: var(--fill-color);\n",
              "    height: 32px;\n",
              "    padding: 0;\n",
              "    width: 32px;\n",
              "  }\n",
              "\n",
              "  .colab-df-quickchart:hover {\n",
              "    background-color: var(--hover-bg-color);\n",
              "    box-shadow: 0 1px 2px rgba(60, 64, 67, 0.3), 0 1px 3px 1px rgba(60, 64, 67, 0.15);\n",
              "    fill: var(--button-hover-fill-color);\n",
              "  }\n",
              "\n",
              "  .colab-df-quickchart-complete:disabled,\n",
              "  .colab-df-quickchart-complete:disabled:hover {\n",
              "    background-color: var(--disabled-bg-color);\n",
              "    fill: var(--disabled-fill-color);\n",
              "    box-shadow: none;\n",
              "  }\n",
              "\n",
              "  .colab-df-spinner {\n",
              "    border: 2px solid var(--fill-color);\n",
              "    border-color: transparent;\n",
              "    border-bottom-color: var(--fill-color);\n",
              "    animation:\n",
              "      spin 1s steps(1) infinite;\n",
              "  }\n",
              "\n",
              "  @keyframes spin {\n",
              "    0% {\n",
              "      border-color: transparent;\n",
              "      border-bottom-color: var(--fill-color);\n",
              "      border-left-color: var(--fill-color);\n",
              "    }\n",
              "    20% {\n",
              "      border-color: transparent;\n",
              "      border-left-color: var(--fill-color);\n",
              "      border-top-color: var(--fill-color);\n",
              "    }\n",
              "    30% {\n",
              "      border-color: transparent;\n",
              "      border-left-color: var(--fill-color);\n",
              "      border-top-color: var(--fill-color);\n",
              "      border-right-color: var(--fill-color);\n",
              "    }\n",
              "    40% {\n",
              "      border-color: transparent;\n",
              "      border-right-color: var(--fill-color);\n",
              "      border-top-color: var(--fill-color);\n",
              "    }\n",
              "    60% {\n",
              "      border-color: transparent;\n",
              "      border-right-color: var(--fill-color);\n",
              "    }\n",
              "    80% {\n",
              "      border-color: transparent;\n",
              "      border-right-color: var(--fill-color);\n",
              "      border-bottom-color: var(--fill-color);\n",
              "    }\n",
              "    90% {\n",
              "      border-color: transparent;\n",
              "      border-bottom-color: var(--fill-color);\n",
              "    }\n",
              "  }\n",
              "</style>\n",
              "\n",
              "  <script>\n",
              "    async function quickchart(key) {\n",
              "      const quickchartButtonEl =\n",
              "        document.querySelector('#' + key + ' button');\n",
              "      quickchartButtonEl.disabled = true;  // To prevent multiple clicks.\n",
              "      quickchartButtonEl.classList.add('colab-df-spinner');\n",
              "      try {\n",
              "        const charts = await google.colab.kernel.invokeFunction(\n",
              "            'suggestCharts', [key], {});\n",
              "      } catch (error) {\n",
              "        console.error('Error during call to suggestCharts:', error);\n",
              "      }\n",
              "      quickchartButtonEl.classList.remove('colab-df-spinner');\n",
              "      quickchartButtonEl.classList.add('colab-df-quickchart-complete');\n",
              "    }\n",
              "    (() => {\n",
              "      let quickchartButtonEl =\n",
              "        document.querySelector('#df-4881f76b-37cb-410e-b56b-0344d9788e2e button');\n",
              "      quickchartButtonEl.style.display =\n",
              "        google.colab.kernel.accessAllowed ? 'block' : 'none';\n",
              "    })();\n",
              "  </script>\n",
              "</div>\n",
              "    </div>\n",
              "  </div>\n"
            ]
          },
          "metadata": {},
          "execution_count": 72
        }
      ]
    },
    {
      "cell_type": "code",
      "source": [
        "df_submission.loc[df_submission['Sentimiento'] == 1, 'Sentimiento'] = 'positivo'\n",
        "df_submission.loc[df_submission['Sentimiento'] == 0, 'Sentimiento'] = 'negativo'\n",
        "df_submission"
      ],
      "metadata": {
        "colab": {
          "base_uri": "https://localhost:8080/",
          "height": 424
        },
        "id": "uOljPMuvthtc",
        "outputId": "164e4b94-b721-4bc8-8918-393c5bd61d4a"
      },
      "execution_count": null,
      "outputs": [
        {
          "output_type": "execute_result",
          "data": {
            "text/plain": [
              "         id Sentimiento\n",
              "0     60000    negativo\n",
              "1     60001    positivo\n",
              "2     60002    negativo\n",
              "3     60003    negativo\n",
              "4     60004    negativo\n",
              "...     ...         ...\n",
              "8594  68594    positivo\n",
              "8595  68595    negativo\n",
              "8596  68596    negativo\n",
              "8597  68597    negativo\n",
              "8598  68598    negativo\n",
              "\n",
              "[8599 rows x 2 columns]"
            ],
            "text/html": [
              "\n",
              "  <div id=\"df-ae81bc2c-5c07-4290-bbc4-9c8e3a959c24\" class=\"colab-df-container\">\n",
              "    <div>\n",
              "<style scoped>\n",
              "    .dataframe tbody tr th:only-of-type {\n",
              "        vertical-align: middle;\n",
              "    }\n",
              "\n",
              "    .dataframe tbody tr th {\n",
              "        vertical-align: top;\n",
              "    }\n",
              "\n",
              "    .dataframe thead th {\n",
              "        text-align: right;\n",
              "    }\n",
              "</style>\n",
              "<table border=\"1\" class=\"dataframe\">\n",
              "  <thead>\n",
              "    <tr style=\"text-align: right;\">\n",
              "      <th></th>\n",
              "      <th>id</th>\n",
              "      <th>Sentimiento</th>\n",
              "    </tr>\n",
              "  </thead>\n",
              "  <tbody>\n",
              "    <tr>\n",
              "      <th>0</th>\n",
              "      <td>60000</td>\n",
              "      <td>negativo</td>\n",
              "    </tr>\n",
              "    <tr>\n",
              "      <th>1</th>\n",
              "      <td>60001</td>\n",
              "      <td>positivo</td>\n",
              "    </tr>\n",
              "    <tr>\n",
              "      <th>2</th>\n",
              "      <td>60002</td>\n",
              "      <td>negativo</td>\n",
              "    </tr>\n",
              "    <tr>\n",
              "      <th>3</th>\n",
              "      <td>60003</td>\n",
              "      <td>negativo</td>\n",
              "    </tr>\n",
              "    <tr>\n",
              "      <th>4</th>\n",
              "      <td>60004</td>\n",
              "      <td>negativo</td>\n",
              "    </tr>\n",
              "    <tr>\n",
              "      <th>...</th>\n",
              "      <td>...</td>\n",
              "      <td>...</td>\n",
              "    </tr>\n",
              "    <tr>\n",
              "      <th>8594</th>\n",
              "      <td>68594</td>\n",
              "      <td>positivo</td>\n",
              "    </tr>\n",
              "    <tr>\n",
              "      <th>8595</th>\n",
              "      <td>68595</td>\n",
              "      <td>negativo</td>\n",
              "    </tr>\n",
              "    <tr>\n",
              "      <th>8596</th>\n",
              "      <td>68596</td>\n",
              "      <td>negativo</td>\n",
              "    </tr>\n",
              "    <tr>\n",
              "      <th>8597</th>\n",
              "      <td>68597</td>\n",
              "      <td>negativo</td>\n",
              "    </tr>\n",
              "    <tr>\n",
              "      <th>8598</th>\n",
              "      <td>68598</td>\n",
              "      <td>negativo</td>\n",
              "    </tr>\n",
              "  </tbody>\n",
              "</table>\n",
              "<p>8599 rows × 2 columns</p>\n",
              "</div>\n",
              "    <div class=\"colab-df-buttons\">\n",
              "\n",
              "  <div class=\"colab-df-container\">\n",
              "    <button class=\"colab-df-convert\" onclick=\"convertToInteractive('df-ae81bc2c-5c07-4290-bbc4-9c8e3a959c24')\"\n",
              "            title=\"Convert this dataframe to an interactive table.\"\n",
              "            style=\"display:none;\">\n",
              "\n",
              "  <svg xmlns=\"http://www.w3.org/2000/svg\" height=\"24px\" viewBox=\"0 -960 960 960\">\n",
              "    <path d=\"M120-120v-720h720v720H120Zm60-500h600v-160H180v160Zm220 220h160v-160H400v160Zm0 220h160v-160H400v160ZM180-400h160v-160H180v160Zm440 0h160v-160H620v160ZM180-180h160v-160H180v160Zm440 0h160v-160H620v160Z\"/>\n",
              "  </svg>\n",
              "    </button>\n",
              "\n",
              "  <style>\n",
              "    .colab-df-container {\n",
              "      display:flex;\n",
              "      gap: 12px;\n",
              "    }\n",
              "\n",
              "    .colab-df-convert {\n",
              "      background-color: #E8F0FE;\n",
              "      border: none;\n",
              "      border-radius: 50%;\n",
              "      cursor: pointer;\n",
              "      display: none;\n",
              "      fill: #1967D2;\n",
              "      height: 32px;\n",
              "      padding: 0 0 0 0;\n",
              "      width: 32px;\n",
              "    }\n",
              "\n",
              "    .colab-df-convert:hover {\n",
              "      background-color: #E2EBFA;\n",
              "      box-shadow: 0px 1px 2px rgba(60, 64, 67, 0.3), 0px 1px 3px 1px rgba(60, 64, 67, 0.15);\n",
              "      fill: #174EA6;\n",
              "    }\n",
              "\n",
              "    .colab-df-buttons div {\n",
              "      margin-bottom: 4px;\n",
              "    }\n",
              "\n",
              "    [theme=dark] .colab-df-convert {\n",
              "      background-color: #3B4455;\n",
              "      fill: #D2E3FC;\n",
              "    }\n",
              "\n",
              "    [theme=dark] .colab-df-convert:hover {\n",
              "      background-color: #434B5C;\n",
              "      box-shadow: 0px 1px 3px 1px rgba(0, 0, 0, 0.15);\n",
              "      filter: drop-shadow(0px 1px 2px rgba(0, 0, 0, 0.3));\n",
              "      fill: #FFFFFF;\n",
              "    }\n",
              "  </style>\n",
              "\n",
              "    <script>\n",
              "      const buttonEl =\n",
              "        document.querySelector('#df-ae81bc2c-5c07-4290-bbc4-9c8e3a959c24 button.colab-df-convert');\n",
              "      buttonEl.style.display =\n",
              "        google.colab.kernel.accessAllowed ? 'block' : 'none';\n",
              "\n",
              "      async function convertToInteractive(key) {\n",
              "        const element = document.querySelector('#df-ae81bc2c-5c07-4290-bbc4-9c8e3a959c24');\n",
              "        const dataTable =\n",
              "          await google.colab.kernel.invokeFunction('convertToInteractive',\n",
              "                                                    [key], {});\n",
              "        if (!dataTable) return;\n",
              "\n",
              "        const docLinkHtml = 'Like what you see? Visit the ' +\n",
              "          '<a target=\"_blank\" href=https://colab.research.google.com/notebooks/data_table.ipynb>data table notebook</a>'\n",
              "          + ' to learn more about interactive tables.';\n",
              "        element.innerHTML = '';\n",
              "        dataTable['output_type'] = 'display_data';\n",
              "        await google.colab.output.renderOutput(dataTable, element);\n",
              "        const docLink = document.createElement('div');\n",
              "        docLink.innerHTML = docLinkHtml;\n",
              "        element.appendChild(docLink);\n",
              "      }\n",
              "    </script>\n",
              "  </div>\n",
              "\n",
              "\n",
              "<div id=\"df-4fca91a6-5994-4b26-bc24-476839bdba2a\">\n",
              "  <button class=\"colab-df-quickchart\" onclick=\"quickchart('df-4fca91a6-5994-4b26-bc24-476839bdba2a')\"\n",
              "            title=\"Suggest charts\"\n",
              "            style=\"display:none;\">\n",
              "\n",
              "<svg xmlns=\"http://www.w3.org/2000/svg\" height=\"24px\"viewBox=\"0 0 24 24\"\n",
              "     width=\"24px\">\n",
              "    <g>\n",
              "        <path d=\"M19 3H5c-1.1 0-2 .9-2 2v14c0 1.1.9 2 2 2h14c1.1 0 2-.9 2-2V5c0-1.1-.9-2-2-2zM9 17H7v-7h2v7zm4 0h-2V7h2v10zm4 0h-2v-4h2v4z\"/>\n",
              "    </g>\n",
              "</svg>\n",
              "  </button>\n",
              "\n",
              "<style>\n",
              "  .colab-df-quickchart {\n",
              "      --bg-color: #E8F0FE;\n",
              "      --fill-color: #1967D2;\n",
              "      --hover-bg-color: #E2EBFA;\n",
              "      --hover-fill-color: #174EA6;\n",
              "      --disabled-fill-color: #AAA;\n",
              "      --disabled-bg-color: #DDD;\n",
              "  }\n",
              "\n",
              "  [theme=dark] .colab-df-quickchart {\n",
              "      --bg-color: #3B4455;\n",
              "      --fill-color: #D2E3FC;\n",
              "      --hover-bg-color: #434B5C;\n",
              "      --hover-fill-color: #FFFFFF;\n",
              "      --disabled-bg-color: #3B4455;\n",
              "      --disabled-fill-color: #666;\n",
              "  }\n",
              "\n",
              "  .colab-df-quickchart {\n",
              "    background-color: var(--bg-color);\n",
              "    border: none;\n",
              "    border-radius: 50%;\n",
              "    cursor: pointer;\n",
              "    display: none;\n",
              "    fill: var(--fill-color);\n",
              "    height: 32px;\n",
              "    padding: 0;\n",
              "    width: 32px;\n",
              "  }\n",
              "\n",
              "  .colab-df-quickchart:hover {\n",
              "    background-color: var(--hover-bg-color);\n",
              "    box-shadow: 0 1px 2px rgba(60, 64, 67, 0.3), 0 1px 3px 1px rgba(60, 64, 67, 0.15);\n",
              "    fill: var(--button-hover-fill-color);\n",
              "  }\n",
              "\n",
              "  .colab-df-quickchart-complete:disabled,\n",
              "  .colab-df-quickchart-complete:disabled:hover {\n",
              "    background-color: var(--disabled-bg-color);\n",
              "    fill: var(--disabled-fill-color);\n",
              "    box-shadow: none;\n",
              "  }\n",
              "\n",
              "  .colab-df-spinner {\n",
              "    border: 2px solid var(--fill-color);\n",
              "    border-color: transparent;\n",
              "    border-bottom-color: var(--fill-color);\n",
              "    animation:\n",
              "      spin 1s steps(1) infinite;\n",
              "  }\n",
              "\n",
              "  @keyframes spin {\n",
              "    0% {\n",
              "      border-color: transparent;\n",
              "      border-bottom-color: var(--fill-color);\n",
              "      border-left-color: var(--fill-color);\n",
              "    }\n",
              "    20% {\n",
              "      border-color: transparent;\n",
              "      border-left-color: var(--fill-color);\n",
              "      border-top-color: var(--fill-color);\n",
              "    }\n",
              "    30% {\n",
              "      border-color: transparent;\n",
              "      border-left-color: var(--fill-color);\n",
              "      border-top-color: var(--fill-color);\n",
              "      border-right-color: var(--fill-color);\n",
              "    }\n",
              "    40% {\n",
              "      border-color: transparent;\n",
              "      border-right-color: var(--fill-color);\n",
              "      border-top-color: var(--fill-color);\n",
              "    }\n",
              "    60% {\n",
              "      border-color: transparent;\n",
              "      border-right-color: var(--fill-color);\n",
              "    }\n",
              "    80% {\n",
              "      border-color: transparent;\n",
              "      border-right-color: var(--fill-color);\n",
              "      border-bottom-color: var(--fill-color);\n",
              "    }\n",
              "    90% {\n",
              "      border-color: transparent;\n",
              "      border-bottom-color: var(--fill-color);\n",
              "    }\n",
              "  }\n",
              "</style>\n",
              "\n",
              "  <script>\n",
              "    async function quickchart(key) {\n",
              "      const quickchartButtonEl =\n",
              "        document.querySelector('#' + key + ' button');\n",
              "      quickchartButtonEl.disabled = true;  // To prevent multiple clicks.\n",
              "      quickchartButtonEl.classList.add('colab-df-spinner');\n",
              "      try {\n",
              "        const charts = await google.colab.kernel.invokeFunction(\n",
              "            'suggestCharts', [key], {});\n",
              "      } catch (error) {\n",
              "        console.error('Error during call to suggestCharts:', error);\n",
              "      }\n",
              "      quickchartButtonEl.classList.remove('colab-df-spinner');\n",
              "      quickchartButtonEl.classList.add('colab-df-quickchart-complete');\n",
              "    }\n",
              "    (() => {\n",
              "      let quickchartButtonEl =\n",
              "        document.querySelector('#df-4fca91a6-5994-4b26-bc24-476839bdba2a button');\n",
              "      quickchartButtonEl.style.display =\n",
              "        google.colab.kernel.accessAllowed ? 'block' : 'none';\n",
              "    })();\n",
              "  </script>\n",
              "</div>\n",
              "    </div>\n",
              "  </div>\n"
            ]
          },
          "metadata": {},
          "execution_count": 73
        }
      ]
    },
    {
      "cell_type": "code",
      "source": [
        "df_submission.to_csv(\"dsTP2RNSub1.csv\",index=False)"
      ],
      "metadata": {
        "id": "63odnCJetzHU"
      },
      "execution_count": null,
      "outputs": []
    },
    {
      "cell_type": "markdown",
      "source": [
        "# Submission 2"
      ],
      "metadata": {
        "id": "doyO6NpCvH1E"
      }
    },
    {
      "cell_type": "code",
      "source": [
        "xDsTrainS2 = X.copy()\n",
        "yTrainS2 = dsTrainCopy['label']"
      ],
      "metadata": {
        "id": "JbPshuZ_vRbD"
      },
      "execution_count": null,
      "outputs": []
    },
    {
      "cell_type": "code",
      "source": [
        "d_in = xDsTrainS2.shape[1]\n",
        "modelo= keras.Sequential([\n",
        "keras.layers.Dense((d_in/2), activation='relu'),\n",
        "keras.layers.Dense(1, activation='sigmoid')])\n",
        "\n",
        "modelo.compile(\n",
        "  optimizer=\"adam\",\n",
        "  loss='binary_crossentropy',\n",
        "  # metricas para ir calculando en cada iteracion o batch\n",
        "  metrics=['accuracy'],\n",
        ")\n",
        "\n",
        "red=modelo.fit(xDsTrainS2,yTrainS2,epochs=5)"
      ],
      "metadata": {
        "colab": {
          "base_uri": "https://localhost:8080/"
        },
        "id": "vo-sGn4WvKQF",
        "outputId": "b85efbf1-441a-4afa-d700-f97fff89f156"
      },
      "execution_count": null,
      "outputs": [
        {
          "output_type": "stream",
          "name": "stdout",
          "text": [
            "Epoch 1/5\n",
            "1563/1563 [==============================] - 19s 11ms/step - loss: 0.3763 - accuracy: 0.8320\n",
            "Epoch 2/5\n",
            "1563/1563 [==============================] - 15s 10ms/step - loss: 0.3409 - accuracy: 0.8463\n",
            "Epoch 3/5\n",
            "1563/1563 [==============================] - 15s 9ms/step - loss: 0.3194 - accuracy: 0.8593\n",
            "Epoch 4/5\n",
            "1563/1563 [==============================] - 15s 10ms/step - loss: 0.2838 - accuracy: 0.8816\n",
            "Epoch 5/5\n",
            "1563/1563 [==============================] - 16s 10ms/step - loss: 0.2291 - accuracy: 0.9141\n"
          ]
        }
      ]
    },
    {
      "cell_type": "code",
      "source": [
        "X_TEST = vecTest.transform(dsTestCopy.review_es)\n",
        "X_TEST = X_TEST.toarray()"
      ],
      "metadata": {
        "id": "vgCc9rUmyjEe"
      },
      "execution_count": null,
      "outputs": []
    },
    {
      "cell_type": "code",
      "source": [
        "y_pred = modelo.predict(X_TEST)\n",
        "y_pred"
      ],
      "metadata": {
        "colab": {
          "base_uri": "https://localhost:8080/"
        },
        "outputId": "a24753f4-c372-40ee-ede4-9bf2e777b5b5",
        "id": "0_N13fEnyjEf"
      },
      "execution_count": null,
      "outputs": [
        {
          "output_type": "stream",
          "name": "stdout",
          "text": [
            "269/269 [==============================] - 1s 3ms/step\n"
          ]
        },
        {
          "output_type": "execute_result",
          "data": {
            "text/plain": [
              "array([[0.02045584],\n",
              "       [0.49281943],\n",
              "       [0.02746232],\n",
              "       ...,\n",
              "       [0.31019786],\n",
              "       [0.00700497],\n",
              "       [0.07141757]], dtype=float32)"
            ]
          },
          "metadata": {},
          "execution_count": 59
        }
      ]
    },
    {
      "cell_type": "code",
      "source": [
        "y_pred = np.where(y_pred>0.45,1,0)\n",
        "y_pred = y_pred.flatten()\n",
        "y_pred"
      ],
      "metadata": {
        "colab": {
          "base_uri": "https://localhost:8080/"
        },
        "outputId": "3f0df7b7-d6c0-4303-a81c-78f36f889f7a",
        "id": "nmXjTEfbyjEf"
      },
      "execution_count": null,
      "outputs": [
        {
          "output_type": "execute_result",
          "data": {
            "text/plain": [
              "array([0, 1, 0, ..., 0, 0, 0])"
            ]
          },
          "metadata": {},
          "execution_count": 60
        }
      ]
    },
    {
      "cell_type": "code",
      "source": [
        "df_submission = pd.DataFrame({'id': dsTestCopy['ID'], 'Sentimiento': y_pred})\n",
        "df_submission"
      ],
      "metadata": {
        "colab": {
          "base_uri": "https://localhost:8080/",
          "height": 424
        },
        "outputId": "58372193-19f2-4930-9576-d98a236ca9a1",
        "id": "ZimniPVwyjEg"
      },
      "execution_count": null,
      "outputs": [
        {
          "output_type": "execute_result",
          "data": {
            "text/plain": [
              "         id  Sentimiento\n",
              "0     60000            0\n",
              "1     60001            1\n",
              "2     60002            0\n",
              "3     60003            0\n",
              "4     60004            0\n",
              "...     ...          ...\n",
              "8594  68594            1\n",
              "8595  68595            0\n",
              "8596  68596            0\n",
              "8597  68597            0\n",
              "8598  68598            0\n",
              "\n",
              "[8599 rows x 2 columns]"
            ],
            "text/html": [
              "\n",
              "  <div id=\"df-89bbacfb-b3be-4bac-9291-8860b62c0f59\" class=\"colab-df-container\">\n",
              "    <div>\n",
              "<style scoped>\n",
              "    .dataframe tbody tr th:only-of-type {\n",
              "        vertical-align: middle;\n",
              "    }\n",
              "\n",
              "    .dataframe tbody tr th {\n",
              "        vertical-align: top;\n",
              "    }\n",
              "\n",
              "    .dataframe thead th {\n",
              "        text-align: right;\n",
              "    }\n",
              "</style>\n",
              "<table border=\"1\" class=\"dataframe\">\n",
              "  <thead>\n",
              "    <tr style=\"text-align: right;\">\n",
              "      <th></th>\n",
              "      <th>id</th>\n",
              "      <th>Sentimiento</th>\n",
              "    </tr>\n",
              "  </thead>\n",
              "  <tbody>\n",
              "    <tr>\n",
              "      <th>0</th>\n",
              "      <td>60000</td>\n",
              "      <td>0</td>\n",
              "    </tr>\n",
              "    <tr>\n",
              "      <th>1</th>\n",
              "      <td>60001</td>\n",
              "      <td>1</td>\n",
              "    </tr>\n",
              "    <tr>\n",
              "      <th>2</th>\n",
              "      <td>60002</td>\n",
              "      <td>0</td>\n",
              "    </tr>\n",
              "    <tr>\n",
              "      <th>3</th>\n",
              "      <td>60003</td>\n",
              "      <td>0</td>\n",
              "    </tr>\n",
              "    <tr>\n",
              "      <th>4</th>\n",
              "      <td>60004</td>\n",
              "      <td>0</td>\n",
              "    </tr>\n",
              "    <tr>\n",
              "      <th>...</th>\n",
              "      <td>...</td>\n",
              "      <td>...</td>\n",
              "    </tr>\n",
              "    <tr>\n",
              "      <th>8594</th>\n",
              "      <td>68594</td>\n",
              "      <td>1</td>\n",
              "    </tr>\n",
              "    <tr>\n",
              "      <th>8595</th>\n",
              "      <td>68595</td>\n",
              "      <td>0</td>\n",
              "    </tr>\n",
              "    <tr>\n",
              "      <th>8596</th>\n",
              "      <td>68596</td>\n",
              "      <td>0</td>\n",
              "    </tr>\n",
              "    <tr>\n",
              "      <th>8597</th>\n",
              "      <td>68597</td>\n",
              "      <td>0</td>\n",
              "    </tr>\n",
              "    <tr>\n",
              "      <th>8598</th>\n",
              "      <td>68598</td>\n",
              "      <td>0</td>\n",
              "    </tr>\n",
              "  </tbody>\n",
              "</table>\n",
              "<p>8599 rows × 2 columns</p>\n",
              "</div>\n",
              "    <div class=\"colab-df-buttons\">\n",
              "\n",
              "  <div class=\"colab-df-container\">\n",
              "    <button class=\"colab-df-convert\" onclick=\"convertToInteractive('df-89bbacfb-b3be-4bac-9291-8860b62c0f59')\"\n",
              "            title=\"Convert this dataframe to an interactive table.\"\n",
              "            style=\"display:none;\">\n",
              "\n",
              "  <svg xmlns=\"http://www.w3.org/2000/svg\" height=\"24px\" viewBox=\"0 -960 960 960\">\n",
              "    <path d=\"M120-120v-720h720v720H120Zm60-500h600v-160H180v160Zm220 220h160v-160H400v160Zm0 220h160v-160H400v160ZM180-400h160v-160H180v160Zm440 0h160v-160H620v160ZM180-180h160v-160H180v160Zm440 0h160v-160H620v160Z\"/>\n",
              "  </svg>\n",
              "    </button>\n",
              "\n",
              "  <style>\n",
              "    .colab-df-container {\n",
              "      display:flex;\n",
              "      gap: 12px;\n",
              "    }\n",
              "\n",
              "    .colab-df-convert {\n",
              "      background-color: #E8F0FE;\n",
              "      border: none;\n",
              "      border-radius: 50%;\n",
              "      cursor: pointer;\n",
              "      display: none;\n",
              "      fill: #1967D2;\n",
              "      height: 32px;\n",
              "      padding: 0 0 0 0;\n",
              "      width: 32px;\n",
              "    }\n",
              "\n",
              "    .colab-df-convert:hover {\n",
              "      background-color: #E2EBFA;\n",
              "      box-shadow: 0px 1px 2px rgba(60, 64, 67, 0.3), 0px 1px 3px 1px rgba(60, 64, 67, 0.15);\n",
              "      fill: #174EA6;\n",
              "    }\n",
              "\n",
              "    .colab-df-buttons div {\n",
              "      margin-bottom: 4px;\n",
              "    }\n",
              "\n",
              "    [theme=dark] .colab-df-convert {\n",
              "      background-color: #3B4455;\n",
              "      fill: #D2E3FC;\n",
              "    }\n",
              "\n",
              "    [theme=dark] .colab-df-convert:hover {\n",
              "      background-color: #434B5C;\n",
              "      box-shadow: 0px 1px 3px 1px rgba(0, 0, 0, 0.15);\n",
              "      filter: drop-shadow(0px 1px 2px rgba(0, 0, 0, 0.3));\n",
              "      fill: #FFFFFF;\n",
              "    }\n",
              "  </style>\n",
              "\n",
              "    <script>\n",
              "      const buttonEl =\n",
              "        document.querySelector('#df-89bbacfb-b3be-4bac-9291-8860b62c0f59 button.colab-df-convert');\n",
              "      buttonEl.style.display =\n",
              "        google.colab.kernel.accessAllowed ? 'block' : 'none';\n",
              "\n",
              "      async function convertToInteractive(key) {\n",
              "        const element = document.querySelector('#df-89bbacfb-b3be-4bac-9291-8860b62c0f59');\n",
              "        const dataTable =\n",
              "          await google.colab.kernel.invokeFunction('convertToInteractive',\n",
              "                                                    [key], {});\n",
              "        if (!dataTable) return;\n",
              "\n",
              "        const docLinkHtml = 'Like what you see? Visit the ' +\n",
              "          '<a target=\"_blank\" href=https://colab.research.google.com/notebooks/data_table.ipynb>data table notebook</a>'\n",
              "          + ' to learn more about interactive tables.';\n",
              "        element.innerHTML = '';\n",
              "        dataTable['output_type'] = 'display_data';\n",
              "        await google.colab.output.renderOutput(dataTable, element);\n",
              "        const docLink = document.createElement('div');\n",
              "        docLink.innerHTML = docLinkHtml;\n",
              "        element.appendChild(docLink);\n",
              "      }\n",
              "    </script>\n",
              "  </div>\n",
              "\n",
              "\n",
              "<div id=\"df-a18cacb9-6afa-47fe-ae16-52a1ae1b7183\">\n",
              "  <button class=\"colab-df-quickchart\" onclick=\"quickchart('df-a18cacb9-6afa-47fe-ae16-52a1ae1b7183')\"\n",
              "            title=\"Suggest charts\"\n",
              "            style=\"display:none;\">\n",
              "\n",
              "<svg xmlns=\"http://www.w3.org/2000/svg\" height=\"24px\"viewBox=\"0 0 24 24\"\n",
              "     width=\"24px\">\n",
              "    <g>\n",
              "        <path d=\"M19 3H5c-1.1 0-2 .9-2 2v14c0 1.1.9 2 2 2h14c1.1 0 2-.9 2-2V5c0-1.1-.9-2-2-2zM9 17H7v-7h2v7zm4 0h-2V7h2v10zm4 0h-2v-4h2v4z\"/>\n",
              "    </g>\n",
              "</svg>\n",
              "  </button>\n",
              "\n",
              "<style>\n",
              "  .colab-df-quickchart {\n",
              "      --bg-color: #E8F0FE;\n",
              "      --fill-color: #1967D2;\n",
              "      --hover-bg-color: #E2EBFA;\n",
              "      --hover-fill-color: #174EA6;\n",
              "      --disabled-fill-color: #AAA;\n",
              "      --disabled-bg-color: #DDD;\n",
              "  }\n",
              "\n",
              "  [theme=dark] .colab-df-quickchart {\n",
              "      --bg-color: #3B4455;\n",
              "      --fill-color: #D2E3FC;\n",
              "      --hover-bg-color: #434B5C;\n",
              "      --hover-fill-color: #FFFFFF;\n",
              "      --disabled-bg-color: #3B4455;\n",
              "      --disabled-fill-color: #666;\n",
              "  }\n",
              "\n",
              "  .colab-df-quickchart {\n",
              "    background-color: var(--bg-color);\n",
              "    border: none;\n",
              "    border-radius: 50%;\n",
              "    cursor: pointer;\n",
              "    display: none;\n",
              "    fill: var(--fill-color);\n",
              "    height: 32px;\n",
              "    padding: 0;\n",
              "    width: 32px;\n",
              "  }\n",
              "\n",
              "  .colab-df-quickchart:hover {\n",
              "    background-color: var(--hover-bg-color);\n",
              "    box-shadow: 0 1px 2px rgba(60, 64, 67, 0.3), 0 1px 3px 1px rgba(60, 64, 67, 0.15);\n",
              "    fill: var(--button-hover-fill-color);\n",
              "  }\n",
              "\n",
              "  .colab-df-quickchart-complete:disabled,\n",
              "  .colab-df-quickchart-complete:disabled:hover {\n",
              "    background-color: var(--disabled-bg-color);\n",
              "    fill: var(--disabled-fill-color);\n",
              "    box-shadow: none;\n",
              "  }\n",
              "\n",
              "  .colab-df-spinner {\n",
              "    border: 2px solid var(--fill-color);\n",
              "    border-color: transparent;\n",
              "    border-bottom-color: var(--fill-color);\n",
              "    animation:\n",
              "      spin 1s steps(1) infinite;\n",
              "  }\n",
              "\n",
              "  @keyframes spin {\n",
              "    0% {\n",
              "      border-color: transparent;\n",
              "      border-bottom-color: var(--fill-color);\n",
              "      border-left-color: var(--fill-color);\n",
              "    }\n",
              "    20% {\n",
              "      border-color: transparent;\n",
              "      border-left-color: var(--fill-color);\n",
              "      border-top-color: var(--fill-color);\n",
              "    }\n",
              "    30% {\n",
              "      border-color: transparent;\n",
              "      border-left-color: var(--fill-color);\n",
              "      border-top-color: var(--fill-color);\n",
              "      border-right-color: var(--fill-color);\n",
              "    }\n",
              "    40% {\n",
              "      border-color: transparent;\n",
              "      border-right-color: var(--fill-color);\n",
              "      border-top-color: var(--fill-color);\n",
              "    }\n",
              "    60% {\n",
              "      border-color: transparent;\n",
              "      border-right-color: var(--fill-color);\n",
              "    }\n",
              "    80% {\n",
              "      border-color: transparent;\n",
              "      border-right-color: var(--fill-color);\n",
              "      border-bottom-color: var(--fill-color);\n",
              "    }\n",
              "    90% {\n",
              "      border-color: transparent;\n",
              "      border-bottom-color: var(--fill-color);\n",
              "    }\n",
              "  }\n",
              "</style>\n",
              "\n",
              "  <script>\n",
              "    async function quickchart(key) {\n",
              "      const quickchartButtonEl =\n",
              "        document.querySelector('#' + key + ' button');\n",
              "      quickchartButtonEl.disabled = true;  // To prevent multiple clicks.\n",
              "      quickchartButtonEl.classList.add('colab-df-spinner');\n",
              "      try {\n",
              "        const charts = await google.colab.kernel.invokeFunction(\n",
              "            'suggestCharts', [key], {});\n",
              "      } catch (error) {\n",
              "        console.error('Error during call to suggestCharts:', error);\n",
              "      }\n",
              "      quickchartButtonEl.classList.remove('colab-df-spinner');\n",
              "      quickchartButtonEl.classList.add('colab-df-quickchart-complete');\n",
              "    }\n",
              "    (() => {\n",
              "      let quickchartButtonEl =\n",
              "        document.querySelector('#df-a18cacb9-6afa-47fe-ae16-52a1ae1b7183 button');\n",
              "      quickchartButtonEl.style.display =\n",
              "        google.colab.kernel.accessAllowed ? 'block' : 'none';\n",
              "    })();\n",
              "  </script>\n",
              "</div>\n",
              "    </div>\n",
              "  </div>\n"
            ]
          },
          "metadata": {},
          "execution_count": 61
        }
      ]
    },
    {
      "cell_type": "code",
      "source": [
        "df_submission.loc[df_submission['Sentimiento'] == 1, 'Sentimiento'] = 'positivo'\n",
        "df_submission.loc[df_submission['Sentimiento'] == 0, 'Sentimiento'] = 'negativo'\n",
        "df_submission"
      ],
      "metadata": {
        "colab": {
          "base_uri": "https://localhost:8080/",
          "height": 424
        },
        "outputId": "6b3bb29b-4503-41aa-821b-4db201db8a90",
        "id": "pdNM16lZyjEg"
      },
      "execution_count": null,
      "outputs": [
        {
          "output_type": "execute_result",
          "data": {
            "text/plain": [
              "         id Sentimiento\n",
              "0     60000    negativo\n",
              "1     60001    positivo\n",
              "2     60002    negativo\n",
              "3     60003    negativo\n",
              "4     60004    negativo\n",
              "...     ...         ...\n",
              "8594  68594    positivo\n",
              "8595  68595    negativo\n",
              "8596  68596    negativo\n",
              "8597  68597    negativo\n",
              "8598  68598    negativo\n",
              "\n",
              "[8599 rows x 2 columns]"
            ],
            "text/html": [
              "\n",
              "  <div id=\"df-b780bf9c-1db6-44c5-9e35-2fbefe62684a\" class=\"colab-df-container\">\n",
              "    <div>\n",
              "<style scoped>\n",
              "    .dataframe tbody tr th:only-of-type {\n",
              "        vertical-align: middle;\n",
              "    }\n",
              "\n",
              "    .dataframe tbody tr th {\n",
              "        vertical-align: top;\n",
              "    }\n",
              "\n",
              "    .dataframe thead th {\n",
              "        text-align: right;\n",
              "    }\n",
              "</style>\n",
              "<table border=\"1\" class=\"dataframe\">\n",
              "  <thead>\n",
              "    <tr style=\"text-align: right;\">\n",
              "      <th></th>\n",
              "      <th>id</th>\n",
              "      <th>Sentimiento</th>\n",
              "    </tr>\n",
              "  </thead>\n",
              "  <tbody>\n",
              "    <tr>\n",
              "      <th>0</th>\n",
              "      <td>60000</td>\n",
              "      <td>negativo</td>\n",
              "    </tr>\n",
              "    <tr>\n",
              "      <th>1</th>\n",
              "      <td>60001</td>\n",
              "      <td>positivo</td>\n",
              "    </tr>\n",
              "    <tr>\n",
              "      <th>2</th>\n",
              "      <td>60002</td>\n",
              "      <td>negativo</td>\n",
              "    </tr>\n",
              "    <tr>\n",
              "      <th>3</th>\n",
              "      <td>60003</td>\n",
              "      <td>negativo</td>\n",
              "    </tr>\n",
              "    <tr>\n",
              "      <th>4</th>\n",
              "      <td>60004</td>\n",
              "      <td>negativo</td>\n",
              "    </tr>\n",
              "    <tr>\n",
              "      <th>...</th>\n",
              "      <td>...</td>\n",
              "      <td>...</td>\n",
              "    </tr>\n",
              "    <tr>\n",
              "      <th>8594</th>\n",
              "      <td>68594</td>\n",
              "      <td>positivo</td>\n",
              "    </tr>\n",
              "    <tr>\n",
              "      <th>8595</th>\n",
              "      <td>68595</td>\n",
              "      <td>negativo</td>\n",
              "    </tr>\n",
              "    <tr>\n",
              "      <th>8596</th>\n",
              "      <td>68596</td>\n",
              "      <td>negativo</td>\n",
              "    </tr>\n",
              "    <tr>\n",
              "      <th>8597</th>\n",
              "      <td>68597</td>\n",
              "      <td>negativo</td>\n",
              "    </tr>\n",
              "    <tr>\n",
              "      <th>8598</th>\n",
              "      <td>68598</td>\n",
              "      <td>negativo</td>\n",
              "    </tr>\n",
              "  </tbody>\n",
              "</table>\n",
              "<p>8599 rows × 2 columns</p>\n",
              "</div>\n",
              "    <div class=\"colab-df-buttons\">\n",
              "\n",
              "  <div class=\"colab-df-container\">\n",
              "    <button class=\"colab-df-convert\" onclick=\"convertToInteractive('df-b780bf9c-1db6-44c5-9e35-2fbefe62684a')\"\n",
              "            title=\"Convert this dataframe to an interactive table.\"\n",
              "            style=\"display:none;\">\n",
              "\n",
              "  <svg xmlns=\"http://www.w3.org/2000/svg\" height=\"24px\" viewBox=\"0 -960 960 960\">\n",
              "    <path d=\"M120-120v-720h720v720H120Zm60-500h600v-160H180v160Zm220 220h160v-160H400v160Zm0 220h160v-160H400v160ZM180-400h160v-160H180v160Zm440 0h160v-160H620v160ZM180-180h160v-160H180v160Zm440 0h160v-160H620v160Z\"/>\n",
              "  </svg>\n",
              "    </button>\n",
              "\n",
              "  <style>\n",
              "    .colab-df-container {\n",
              "      display:flex;\n",
              "      gap: 12px;\n",
              "    }\n",
              "\n",
              "    .colab-df-convert {\n",
              "      background-color: #E8F0FE;\n",
              "      border: none;\n",
              "      border-radius: 50%;\n",
              "      cursor: pointer;\n",
              "      display: none;\n",
              "      fill: #1967D2;\n",
              "      height: 32px;\n",
              "      padding: 0 0 0 0;\n",
              "      width: 32px;\n",
              "    }\n",
              "\n",
              "    .colab-df-convert:hover {\n",
              "      background-color: #E2EBFA;\n",
              "      box-shadow: 0px 1px 2px rgba(60, 64, 67, 0.3), 0px 1px 3px 1px rgba(60, 64, 67, 0.15);\n",
              "      fill: #174EA6;\n",
              "    }\n",
              "\n",
              "    .colab-df-buttons div {\n",
              "      margin-bottom: 4px;\n",
              "    }\n",
              "\n",
              "    [theme=dark] .colab-df-convert {\n",
              "      background-color: #3B4455;\n",
              "      fill: #D2E3FC;\n",
              "    }\n",
              "\n",
              "    [theme=dark] .colab-df-convert:hover {\n",
              "      background-color: #434B5C;\n",
              "      box-shadow: 0px 1px 3px 1px rgba(0, 0, 0, 0.15);\n",
              "      filter: drop-shadow(0px 1px 2px rgba(0, 0, 0, 0.3));\n",
              "      fill: #FFFFFF;\n",
              "    }\n",
              "  </style>\n",
              "\n",
              "    <script>\n",
              "      const buttonEl =\n",
              "        document.querySelector('#df-b780bf9c-1db6-44c5-9e35-2fbefe62684a button.colab-df-convert');\n",
              "      buttonEl.style.display =\n",
              "        google.colab.kernel.accessAllowed ? 'block' : 'none';\n",
              "\n",
              "      async function convertToInteractive(key) {\n",
              "        const element = document.querySelector('#df-b780bf9c-1db6-44c5-9e35-2fbefe62684a');\n",
              "        const dataTable =\n",
              "          await google.colab.kernel.invokeFunction('convertToInteractive',\n",
              "                                                    [key], {});\n",
              "        if (!dataTable) return;\n",
              "\n",
              "        const docLinkHtml = 'Like what you see? Visit the ' +\n",
              "          '<a target=\"_blank\" href=https://colab.research.google.com/notebooks/data_table.ipynb>data table notebook</a>'\n",
              "          + ' to learn more about interactive tables.';\n",
              "        element.innerHTML = '';\n",
              "        dataTable['output_type'] = 'display_data';\n",
              "        await google.colab.output.renderOutput(dataTable, element);\n",
              "        const docLink = document.createElement('div');\n",
              "        docLink.innerHTML = docLinkHtml;\n",
              "        element.appendChild(docLink);\n",
              "      }\n",
              "    </script>\n",
              "  </div>\n",
              "\n",
              "\n",
              "<div id=\"df-04eecdcb-85ea-4eb4-a59f-1d4c81085a8b\">\n",
              "  <button class=\"colab-df-quickchart\" onclick=\"quickchart('df-04eecdcb-85ea-4eb4-a59f-1d4c81085a8b')\"\n",
              "            title=\"Suggest charts\"\n",
              "            style=\"display:none;\">\n",
              "\n",
              "<svg xmlns=\"http://www.w3.org/2000/svg\" height=\"24px\"viewBox=\"0 0 24 24\"\n",
              "     width=\"24px\">\n",
              "    <g>\n",
              "        <path d=\"M19 3H5c-1.1 0-2 .9-2 2v14c0 1.1.9 2 2 2h14c1.1 0 2-.9 2-2V5c0-1.1-.9-2-2-2zM9 17H7v-7h2v7zm4 0h-2V7h2v10zm4 0h-2v-4h2v4z\"/>\n",
              "    </g>\n",
              "</svg>\n",
              "  </button>\n",
              "\n",
              "<style>\n",
              "  .colab-df-quickchart {\n",
              "      --bg-color: #E8F0FE;\n",
              "      --fill-color: #1967D2;\n",
              "      --hover-bg-color: #E2EBFA;\n",
              "      --hover-fill-color: #174EA6;\n",
              "      --disabled-fill-color: #AAA;\n",
              "      --disabled-bg-color: #DDD;\n",
              "  }\n",
              "\n",
              "  [theme=dark] .colab-df-quickchart {\n",
              "      --bg-color: #3B4455;\n",
              "      --fill-color: #D2E3FC;\n",
              "      --hover-bg-color: #434B5C;\n",
              "      --hover-fill-color: #FFFFFF;\n",
              "      --disabled-bg-color: #3B4455;\n",
              "      --disabled-fill-color: #666;\n",
              "  }\n",
              "\n",
              "  .colab-df-quickchart {\n",
              "    background-color: var(--bg-color);\n",
              "    border: none;\n",
              "    border-radius: 50%;\n",
              "    cursor: pointer;\n",
              "    display: none;\n",
              "    fill: var(--fill-color);\n",
              "    height: 32px;\n",
              "    padding: 0;\n",
              "    width: 32px;\n",
              "  }\n",
              "\n",
              "  .colab-df-quickchart:hover {\n",
              "    background-color: var(--hover-bg-color);\n",
              "    box-shadow: 0 1px 2px rgba(60, 64, 67, 0.3), 0 1px 3px 1px rgba(60, 64, 67, 0.15);\n",
              "    fill: var(--button-hover-fill-color);\n",
              "  }\n",
              "\n",
              "  .colab-df-quickchart-complete:disabled,\n",
              "  .colab-df-quickchart-complete:disabled:hover {\n",
              "    background-color: var(--disabled-bg-color);\n",
              "    fill: var(--disabled-fill-color);\n",
              "    box-shadow: none;\n",
              "  }\n",
              "\n",
              "  .colab-df-spinner {\n",
              "    border: 2px solid var(--fill-color);\n",
              "    border-color: transparent;\n",
              "    border-bottom-color: var(--fill-color);\n",
              "    animation:\n",
              "      spin 1s steps(1) infinite;\n",
              "  }\n",
              "\n",
              "  @keyframes spin {\n",
              "    0% {\n",
              "      border-color: transparent;\n",
              "      border-bottom-color: var(--fill-color);\n",
              "      border-left-color: var(--fill-color);\n",
              "    }\n",
              "    20% {\n",
              "      border-color: transparent;\n",
              "      border-left-color: var(--fill-color);\n",
              "      border-top-color: var(--fill-color);\n",
              "    }\n",
              "    30% {\n",
              "      border-color: transparent;\n",
              "      border-left-color: var(--fill-color);\n",
              "      border-top-color: var(--fill-color);\n",
              "      border-right-color: var(--fill-color);\n",
              "    }\n",
              "    40% {\n",
              "      border-color: transparent;\n",
              "      border-right-color: var(--fill-color);\n",
              "      border-top-color: var(--fill-color);\n",
              "    }\n",
              "    60% {\n",
              "      border-color: transparent;\n",
              "      border-right-color: var(--fill-color);\n",
              "    }\n",
              "    80% {\n",
              "      border-color: transparent;\n",
              "      border-right-color: var(--fill-color);\n",
              "      border-bottom-color: var(--fill-color);\n",
              "    }\n",
              "    90% {\n",
              "      border-color: transparent;\n",
              "      border-bottom-color: var(--fill-color);\n",
              "    }\n",
              "  }\n",
              "</style>\n",
              "\n",
              "  <script>\n",
              "    async function quickchart(key) {\n",
              "      const quickchartButtonEl =\n",
              "        document.querySelector('#' + key + ' button');\n",
              "      quickchartButtonEl.disabled = true;  // To prevent multiple clicks.\n",
              "      quickchartButtonEl.classList.add('colab-df-spinner');\n",
              "      try {\n",
              "        const charts = await google.colab.kernel.invokeFunction(\n",
              "            'suggestCharts', [key], {});\n",
              "      } catch (error) {\n",
              "        console.error('Error during call to suggestCharts:', error);\n",
              "      }\n",
              "      quickchartButtonEl.classList.remove('colab-df-spinner');\n",
              "      quickchartButtonEl.classList.add('colab-df-quickchart-complete');\n",
              "    }\n",
              "    (() => {\n",
              "      let quickchartButtonEl =\n",
              "        document.querySelector('#df-04eecdcb-85ea-4eb4-a59f-1d4c81085a8b button');\n",
              "      quickchartButtonEl.style.display =\n",
              "        google.colab.kernel.accessAllowed ? 'block' : 'none';\n",
              "    })();\n",
              "  </script>\n",
              "</div>\n",
              "    </div>\n",
              "  </div>\n"
            ]
          },
          "metadata": {},
          "execution_count": 62
        }
      ]
    },
    {
      "cell_type": "code",
      "source": [
        "df_submission.to_csv(\"dsTP2RNSub2.csv\",index=False)"
      ],
      "metadata": {
        "id": "kiUMPlbsyjEg"
      },
      "execution_count": null,
      "outputs": []
    },
    {
      "cell_type": "markdown",
      "source": [
        "# Submission 3\n",
        "\n"
      ],
      "metadata": {
        "id": "df5AvoCYHEc8"
      }
    },
    {
      "cell_type": "code",
      "source": [
        "modelo = joblib.load('red_grid3.joblib')\n",
        "\n",
        "red=modelo.fit(X_train,y_train, epochs=10)"
      ],
      "metadata": {
        "colab": {
          "base_uri": "https://localhost:8080/"
        },
        "outputId": "c1f2faa8-7cbe-48db-96e4-508d61176fe3",
        "id": "8hDvyBaOQfsO"
      },
      "execution_count": null,
      "outputs": [
        {
          "output_type": "stream",
          "name": "stdout",
          "text": [
            "Epoch 1/10\n",
            "1250/1250 [==============================] - 20s 16ms/step - loss: 0.0435 - accuracy: 0.9912\n",
            "Epoch 2/10\n",
            "1250/1250 [==============================] - 26s 20ms/step - loss: 0.0266 - accuracy: 0.9948\n",
            "Epoch 3/10\n",
            "1250/1250 [==============================] - 18s 15ms/step - loss: 0.0164 - accuracy: 0.9972\n",
            "Epoch 4/10\n",
            "1250/1250 [==============================] - 18s 14ms/step - loss: 0.0106 - accuracy: 0.9982\n",
            "Epoch 5/10\n",
            "1250/1250 [==============================] - 19s 15ms/step - loss: 0.0072 - accuracy: 0.9988\n",
            "Epoch 6/10\n",
            "1250/1250 [==============================] - 21s 17ms/step - loss: 0.0050 - accuracy: 0.9993\n",
            "Epoch 7/10\n",
            "1250/1250 [==============================] - 18s 15ms/step - loss: 0.0037 - accuracy: 0.9997\n",
            "Epoch 8/10\n",
            "1250/1250 [==============================] - 19s 15ms/step - loss: 0.0029 - accuracy: 0.9996\n",
            "Epoch 9/10\n",
            "1250/1250 [==============================] - 19s 16ms/step - loss: 0.0023 - accuracy: 0.9998\n",
            "Epoch 10/10\n",
            "1250/1250 [==============================] - 18s 15ms/step - loss: 0.0018 - accuracy: 0.9999\n"
          ]
        }
      ]
    },
    {
      "cell_type": "code",
      "source": [
        "X_TEST = vecTest.transform(dsTestCopy.review_es)\n",
        "X_TEST = X_TEST.toarray()"
      ],
      "metadata": {
        "id": "fZJRgg8-QfsX"
      },
      "execution_count": null,
      "outputs": []
    },
    {
      "cell_type": "code",
      "source": [
        "y_pred = modelo.predict(X_TEST)\n",
        "y_pred"
      ],
      "metadata": {
        "colab": {
          "base_uri": "https://localhost:8080/"
        },
        "outputId": "ce805438-41b7-44b8-8a92-9a4c53646e4d",
        "id": "9p3x--Q9QfsY"
      },
      "execution_count": null,
      "outputs": [
        {
          "output_type": "stream",
          "name": "stdout",
          "text": [
            "269/269 [==============================] - 1s 5ms/step\n"
          ]
        },
        {
          "output_type": "execute_result",
          "data": {
            "text/plain": [
              "array([[1.11326864e-10],\n",
              "       [9.87762570e-01],\n",
              "       [1.23800349e-03],\n",
              "       ...,\n",
              "       [9.75058615e-01],\n",
              "       [1.01716760e-05],\n",
              "       [4.30465415e-02]], dtype=float32)"
            ]
          },
          "metadata": {},
          "execution_count": 155
        }
      ]
    },
    {
      "cell_type": "code",
      "source": [
        "y_pred = np.where(y_pred>0.45,1,0)\n",
        "y_pred = y_pred.flatten()\n",
        "y_pred"
      ],
      "metadata": {
        "colab": {
          "base_uri": "https://localhost:8080/"
        },
        "outputId": "b22b2e93-c333-4317-bf53-f6f9972e7657",
        "id": "wALabBSMQfsY"
      },
      "execution_count": null,
      "outputs": [
        {
          "output_type": "execute_result",
          "data": {
            "text/plain": [
              "array([0, 1, 0, ..., 1, 0, 0])"
            ]
          },
          "metadata": {},
          "execution_count": 156
        }
      ]
    },
    {
      "cell_type": "code",
      "source": [
        "df_submission = pd.DataFrame({'id': dsTestCopy['ID'], 'Sentimiento': y_pred})\n",
        "df_submission"
      ],
      "metadata": {
        "colab": {
          "base_uri": "https://localhost:8080/",
          "height": 424
        },
        "outputId": "fd9af715-7f50-4ef9-e032-67aa4989e505",
        "id": "-5zjrD0JQfsZ"
      },
      "execution_count": null,
      "outputs": [
        {
          "output_type": "execute_result",
          "data": {
            "text/plain": [
              "         id  Sentimiento\n",
              "0     60000            0\n",
              "1     60001            1\n",
              "2     60002            0\n",
              "3     60003            1\n",
              "4     60004            0\n",
              "...     ...          ...\n",
              "8594  68594            1\n",
              "8595  68595            0\n",
              "8596  68596            1\n",
              "8597  68597            0\n",
              "8598  68598            0\n",
              "\n",
              "[8599 rows x 2 columns]"
            ],
            "text/html": [
              "\n",
              "  <div id=\"df-d6a60f52-9fd0-42b8-b58e-b580a6f9c98e\" class=\"colab-df-container\">\n",
              "    <div>\n",
              "<style scoped>\n",
              "    .dataframe tbody tr th:only-of-type {\n",
              "        vertical-align: middle;\n",
              "    }\n",
              "\n",
              "    .dataframe tbody tr th {\n",
              "        vertical-align: top;\n",
              "    }\n",
              "\n",
              "    .dataframe thead th {\n",
              "        text-align: right;\n",
              "    }\n",
              "</style>\n",
              "<table border=\"1\" class=\"dataframe\">\n",
              "  <thead>\n",
              "    <tr style=\"text-align: right;\">\n",
              "      <th></th>\n",
              "      <th>id</th>\n",
              "      <th>Sentimiento</th>\n",
              "    </tr>\n",
              "  </thead>\n",
              "  <tbody>\n",
              "    <tr>\n",
              "      <th>0</th>\n",
              "      <td>60000</td>\n",
              "      <td>0</td>\n",
              "    </tr>\n",
              "    <tr>\n",
              "      <th>1</th>\n",
              "      <td>60001</td>\n",
              "      <td>1</td>\n",
              "    </tr>\n",
              "    <tr>\n",
              "      <th>2</th>\n",
              "      <td>60002</td>\n",
              "      <td>0</td>\n",
              "    </tr>\n",
              "    <tr>\n",
              "      <th>3</th>\n",
              "      <td>60003</td>\n",
              "      <td>1</td>\n",
              "    </tr>\n",
              "    <tr>\n",
              "      <th>4</th>\n",
              "      <td>60004</td>\n",
              "      <td>0</td>\n",
              "    </tr>\n",
              "    <tr>\n",
              "      <th>...</th>\n",
              "      <td>...</td>\n",
              "      <td>...</td>\n",
              "    </tr>\n",
              "    <tr>\n",
              "      <th>8594</th>\n",
              "      <td>68594</td>\n",
              "      <td>1</td>\n",
              "    </tr>\n",
              "    <tr>\n",
              "      <th>8595</th>\n",
              "      <td>68595</td>\n",
              "      <td>0</td>\n",
              "    </tr>\n",
              "    <tr>\n",
              "      <th>8596</th>\n",
              "      <td>68596</td>\n",
              "      <td>1</td>\n",
              "    </tr>\n",
              "    <tr>\n",
              "      <th>8597</th>\n",
              "      <td>68597</td>\n",
              "      <td>0</td>\n",
              "    </tr>\n",
              "    <tr>\n",
              "      <th>8598</th>\n",
              "      <td>68598</td>\n",
              "      <td>0</td>\n",
              "    </tr>\n",
              "  </tbody>\n",
              "</table>\n",
              "<p>8599 rows × 2 columns</p>\n",
              "</div>\n",
              "    <div class=\"colab-df-buttons\">\n",
              "\n",
              "  <div class=\"colab-df-container\">\n",
              "    <button class=\"colab-df-convert\" onclick=\"convertToInteractive('df-d6a60f52-9fd0-42b8-b58e-b580a6f9c98e')\"\n",
              "            title=\"Convert this dataframe to an interactive table.\"\n",
              "            style=\"display:none;\">\n",
              "\n",
              "  <svg xmlns=\"http://www.w3.org/2000/svg\" height=\"24px\" viewBox=\"0 -960 960 960\">\n",
              "    <path d=\"M120-120v-720h720v720H120Zm60-500h600v-160H180v160Zm220 220h160v-160H400v160Zm0 220h160v-160H400v160ZM180-400h160v-160H180v160Zm440 0h160v-160H620v160ZM180-180h160v-160H180v160Zm440 0h160v-160H620v160Z\"/>\n",
              "  </svg>\n",
              "    </button>\n",
              "\n",
              "  <style>\n",
              "    .colab-df-container {\n",
              "      display:flex;\n",
              "      gap: 12px;\n",
              "    }\n",
              "\n",
              "    .colab-df-convert {\n",
              "      background-color: #E8F0FE;\n",
              "      border: none;\n",
              "      border-radius: 50%;\n",
              "      cursor: pointer;\n",
              "      display: none;\n",
              "      fill: #1967D2;\n",
              "      height: 32px;\n",
              "      padding: 0 0 0 0;\n",
              "      width: 32px;\n",
              "    }\n",
              "\n",
              "    .colab-df-convert:hover {\n",
              "      background-color: #E2EBFA;\n",
              "      box-shadow: 0px 1px 2px rgba(60, 64, 67, 0.3), 0px 1px 3px 1px rgba(60, 64, 67, 0.15);\n",
              "      fill: #174EA6;\n",
              "    }\n",
              "\n",
              "    .colab-df-buttons div {\n",
              "      margin-bottom: 4px;\n",
              "    }\n",
              "\n",
              "    [theme=dark] .colab-df-convert {\n",
              "      background-color: #3B4455;\n",
              "      fill: #D2E3FC;\n",
              "    }\n",
              "\n",
              "    [theme=dark] .colab-df-convert:hover {\n",
              "      background-color: #434B5C;\n",
              "      box-shadow: 0px 1px 3px 1px rgba(0, 0, 0, 0.15);\n",
              "      filter: drop-shadow(0px 1px 2px rgba(0, 0, 0, 0.3));\n",
              "      fill: #FFFFFF;\n",
              "    }\n",
              "  </style>\n",
              "\n",
              "    <script>\n",
              "      const buttonEl =\n",
              "        document.querySelector('#df-d6a60f52-9fd0-42b8-b58e-b580a6f9c98e button.colab-df-convert');\n",
              "      buttonEl.style.display =\n",
              "        google.colab.kernel.accessAllowed ? 'block' : 'none';\n",
              "\n",
              "      async function convertToInteractive(key) {\n",
              "        const element = document.querySelector('#df-d6a60f52-9fd0-42b8-b58e-b580a6f9c98e');\n",
              "        const dataTable =\n",
              "          await google.colab.kernel.invokeFunction('convertToInteractive',\n",
              "                                                    [key], {});\n",
              "        if (!dataTable) return;\n",
              "\n",
              "        const docLinkHtml = 'Like what you see? Visit the ' +\n",
              "          '<a target=\"_blank\" href=https://colab.research.google.com/notebooks/data_table.ipynb>data table notebook</a>'\n",
              "          + ' to learn more about interactive tables.';\n",
              "        element.innerHTML = '';\n",
              "        dataTable['output_type'] = 'display_data';\n",
              "        await google.colab.output.renderOutput(dataTable, element);\n",
              "        const docLink = document.createElement('div');\n",
              "        docLink.innerHTML = docLinkHtml;\n",
              "        element.appendChild(docLink);\n",
              "      }\n",
              "    </script>\n",
              "  </div>\n",
              "\n",
              "\n",
              "<div id=\"df-0dfda5fc-3fe9-49a9-8db8-8e7c6e6d09d5\">\n",
              "  <button class=\"colab-df-quickchart\" onclick=\"quickchart('df-0dfda5fc-3fe9-49a9-8db8-8e7c6e6d09d5')\"\n",
              "            title=\"Suggest charts\"\n",
              "            style=\"display:none;\">\n",
              "\n",
              "<svg xmlns=\"http://www.w3.org/2000/svg\" height=\"24px\"viewBox=\"0 0 24 24\"\n",
              "     width=\"24px\">\n",
              "    <g>\n",
              "        <path d=\"M19 3H5c-1.1 0-2 .9-2 2v14c0 1.1.9 2 2 2h14c1.1 0 2-.9 2-2V5c0-1.1-.9-2-2-2zM9 17H7v-7h2v7zm4 0h-2V7h2v10zm4 0h-2v-4h2v4z\"/>\n",
              "    </g>\n",
              "</svg>\n",
              "  </button>\n",
              "\n",
              "<style>\n",
              "  .colab-df-quickchart {\n",
              "      --bg-color: #E8F0FE;\n",
              "      --fill-color: #1967D2;\n",
              "      --hover-bg-color: #E2EBFA;\n",
              "      --hover-fill-color: #174EA6;\n",
              "      --disabled-fill-color: #AAA;\n",
              "      --disabled-bg-color: #DDD;\n",
              "  }\n",
              "\n",
              "  [theme=dark] .colab-df-quickchart {\n",
              "      --bg-color: #3B4455;\n",
              "      --fill-color: #D2E3FC;\n",
              "      --hover-bg-color: #434B5C;\n",
              "      --hover-fill-color: #FFFFFF;\n",
              "      --disabled-bg-color: #3B4455;\n",
              "      --disabled-fill-color: #666;\n",
              "  }\n",
              "\n",
              "  .colab-df-quickchart {\n",
              "    background-color: var(--bg-color);\n",
              "    border: none;\n",
              "    border-radius: 50%;\n",
              "    cursor: pointer;\n",
              "    display: none;\n",
              "    fill: var(--fill-color);\n",
              "    height: 32px;\n",
              "    padding: 0;\n",
              "    width: 32px;\n",
              "  }\n",
              "\n",
              "  .colab-df-quickchart:hover {\n",
              "    background-color: var(--hover-bg-color);\n",
              "    box-shadow: 0 1px 2px rgba(60, 64, 67, 0.3), 0 1px 3px 1px rgba(60, 64, 67, 0.15);\n",
              "    fill: var(--button-hover-fill-color);\n",
              "  }\n",
              "\n",
              "  .colab-df-quickchart-complete:disabled,\n",
              "  .colab-df-quickchart-complete:disabled:hover {\n",
              "    background-color: var(--disabled-bg-color);\n",
              "    fill: var(--disabled-fill-color);\n",
              "    box-shadow: none;\n",
              "  }\n",
              "\n",
              "  .colab-df-spinner {\n",
              "    border: 2px solid var(--fill-color);\n",
              "    border-color: transparent;\n",
              "    border-bottom-color: var(--fill-color);\n",
              "    animation:\n",
              "      spin 1s steps(1) infinite;\n",
              "  }\n",
              "\n",
              "  @keyframes spin {\n",
              "    0% {\n",
              "      border-color: transparent;\n",
              "      border-bottom-color: var(--fill-color);\n",
              "      border-left-color: var(--fill-color);\n",
              "    }\n",
              "    20% {\n",
              "      border-color: transparent;\n",
              "      border-left-color: var(--fill-color);\n",
              "      border-top-color: var(--fill-color);\n",
              "    }\n",
              "    30% {\n",
              "      border-color: transparent;\n",
              "      border-left-color: var(--fill-color);\n",
              "      border-top-color: var(--fill-color);\n",
              "      border-right-color: var(--fill-color);\n",
              "    }\n",
              "    40% {\n",
              "      border-color: transparent;\n",
              "      border-right-color: var(--fill-color);\n",
              "      border-top-color: var(--fill-color);\n",
              "    }\n",
              "    60% {\n",
              "      border-color: transparent;\n",
              "      border-right-color: var(--fill-color);\n",
              "    }\n",
              "    80% {\n",
              "      border-color: transparent;\n",
              "      border-right-color: var(--fill-color);\n",
              "      border-bottom-color: var(--fill-color);\n",
              "    }\n",
              "    90% {\n",
              "      border-color: transparent;\n",
              "      border-bottom-color: var(--fill-color);\n",
              "    }\n",
              "  }\n",
              "</style>\n",
              "\n",
              "  <script>\n",
              "    async function quickchart(key) {\n",
              "      const quickchartButtonEl =\n",
              "        document.querySelector('#' + key + ' button');\n",
              "      quickchartButtonEl.disabled = true;  // To prevent multiple clicks.\n",
              "      quickchartButtonEl.classList.add('colab-df-spinner');\n",
              "      try {\n",
              "        const charts = await google.colab.kernel.invokeFunction(\n",
              "            'suggestCharts', [key], {});\n",
              "      } catch (error) {\n",
              "        console.error('Error during call to suggestCharts:', error);\n",
              "      }\n",
              "      quickchartButtonEl.classList.remove('colab-df-spinner');\n",
              "      quickchartButtonEl.classList.add('colab-df-quickchart-complete');\n",
              "    }\n",
              "    (() => {\n",
              "      let quickchartButtonEl =\n",
              "        document.querySelector('#df-0dfda5fc-3fe9-49a9-8db8-8e7c6e6d09d5 button');\n",
              "      quickchartButtonEl.style.display =\n",
              "        google.colab.kernel.accessAllowed ? 'block' : 'none';\n",
              "    })();\n",
              "  </script>\n",
              "</div>\n",
              "    </div>\n",
              "  </div>\n"
            ]
          },
          "metadata": {},
          "execution_count": 157
        }
      ]
    },
    {
      "cell_type": "code",
      "source": [
        "df_submission.loc[df_submission['Sentimiento'] == 1, 'Sentimiento'] = 'positivo'\n",
        "df_submission.loc[df_submission['Sentimiento'] == 0, 'Sentimiento'] = 'negativo'\n",
        "df_submission"
      ],
      "metadata": {
        "colab": {
          "base_uri": "https://localhost:8080/",
          "height": 424
        },
        "outputId": "9e6e2bed-c517-487a-a542-e532c9fac154",
        "id": "c231huHkQfsZ"
      },
      "execution_count": null,
      "outputs": [
        {
          "output_type": "execute_result",
          "data": {
            "text/plain": [
              "         id Sentimiento\n",
              "0     60000    negativo\n",
              "1     60001    positivo\n",
              "2     60002    negativo\n",
              "3     60003    positivo\n",
              "4     60004    negativo\n",
              "...     ...         ...\n",
              "8594  68594    positivo\n",
              "8595  68595    negativo\n",
              "8596  68596    positivo\n",
              "8597  68597    negativo\n",
              "8598  68598    negativo\n",
              "\n",
              "[8599 rows x 2 columns]"
            ],
            "text/html": [
              "\n",
              "  <div id=\"df-130a66c1-a13b-41dd-b25c-ab5c9339e356\" class=\"colab-df-container\">\n",
              "    <div>\n",
              "<style scoped>\n",
              "    .dataframe tbody tr th:only-of-type {\n",
              "        vertical-align: middle;\n",
              "    }\n",
              "\n",
              "    .dataframe tbody tr th {\n",
              "        vertical-align: top;\n",
              "    }\n",
              "\n",
              "    .dataframe thead th {\n",
              "        text-align: right;\n",
              "    }\n",
              "</style>\n",
              "<table border=\"1\" class=\"dataframe\">\n",
              "  <thead>\n",
              "    <tr style=\"text-align: right;\">\n",
              "      <th></th>\n",
              "      <th>id</th>\n",
              "      <th>Sentimiento</th>\n",
              "    </tr>\n",
              "  </thead>\n",
              "  <tbody>\n",
              "    <tr>\n",
              "      <th>0</th>\n",
              "      <td>60000</td>\n",
              "      <td>negativo</td>\n",
              "    </tr>\n",
              "    <tr>\n",
              "      <th>1</th>\n",
              "      <td>60001</td>\n",
              "      <td>positivo</td>\n",
              "    </tr>\n",
              "    <tr>\n",
              "      <th>2</th>\n",
              "      <td>60002</td>\n",
              "      <td>negativo</td>\n",
              "    </tr>\n",
              "    <tr>\n",
              "      <th>3</th>\n",
              "      <td>60003</td>\n",
              "      <td>positivo</td>\n",
              "    </tr>\n",
              "    <tr>\n",
              "      <th>4</th>\n",
              "      <td>60004</td>\n",
              "      <td>negativo</td>\n",
              "    </tr>\n",
              "    <tr>\n",
              "      <th>...</th>\n",
              "      <td>...</td>\n",
              "      <td>...</td>\n",
              "    </tr>\n",
              "    <tr>\n",
              "      <th>8594</th>\n",
              "      <td>68594</td>\n",
              "      <td>positivo</td>\n",
              "    </tr>\n",
              "    <tr>\n",
              "      <th>8595</th>\n",
              "      <td>68595</td>\n",
              "      <td>negativo</td>\n",
              "    </tr>\n",
              "    <tr>\n",
              "      <th>8596</th>\n",
              "      <td>68596</td>\n",
              "      <td>positivo</td>\n",
              "    </tr>\n",
              "    <tr>\n",
              "      <th>8597</th>\n",
              "      <td>68597</td>\n",
              "      <td>negativo</td>\n",
              "    </tr>\n",
              "    <tr>\n",
              "      <th>8598</th>\n",
              "      <td>68598</td>\n",
              "      <td>negativo</td>\n",
              "    </tr>\n",
              "  </tbody>\n",
              "</table>\n",
              "<p>8599 rows × 2 columns</p>\n",
              "</div>\n",
              "    <div class=\"colab-df-buttons\">\n",
              "\n",
              "  <div class=\"colab-df-container\">\n",
              "    <button class=\"colab-df-convert\" onclick=\"convertToInteractive('df-130a66c1-a13b-41dd-b25c-ab5c9339e356')\"\n",
              "            title=\"Convert this dataframe to an interactive table.\"\n",
              "            style=\"display:none;\">\n",
              "\n",
              "  <svg xmlns=\"http://www.w3.org/2000/svg\" height=\"24px\" viewBox=\"0 -960 960 960\">\n",
              "    <path d=\"M120-120v-720h720v720H120Zm60-500h600v-160H180v160Zm220 220h160v-160H400v160Zm0 220h160v-160H400v160ZM180-400h160v-160H180v160Zm440 0h160v-160H620v160ZM180-180h160v-160H180v160Zm440 0h160v-160H620v160Z\"/>\n",
              "  </svg>\n",
              "    </button>\n",
              "\n",
              "  <style>\n",
              "    .colab-df-container {\n",
              "      display:flex;\n",
              "      gap: 12px;\n",
              "    }\n",
              "\n",
              "    .colab-df-convert {\n",
              "      background-color: #E8F0FE;\n",
              "      border: none;\n",
              "      border-radius: 50%;\n",
              "      cursor: pointer;\n",
              "      display: none;\n",
              "      fill: #1967D2;\n",
              "      height: 32px;\n",
              "      padding: 0 0 0 0;\n",
              "      width: 32px;\n",
              "    }\n",
              "\n",
              "    .colab-df-convert:hover {\n",
              "      background-color: #E2EBFA;\n",
              "      box-shadow: 0px 1px 2px rgba(60, 64, 67, 0.3), 0px 1px 3px 1px rgba(60, 64, 67, 0.15);\n",
              "      fill: #174EA6;\n",
              "    }\n",
              "\n",
              "    .colab-df-buttons div {\n",
              "      margin-bottom: 4px;\n",
              "    }\n",
              "\n",
              "    [theme=dark] .colab-df-convert {\n",
              "      background-color: #3B4455;\n",
              "      fill: #D2E3FC;\n",
              "    }\n",
              "\n",
              "    [theme=dark] .colab-df-convert:hover {\n",
              "      background-color: #434B5C;\n",
              "      box-shadow: 0px 1px 3px 1px rgba(0, 0, 0, 0.15);\n",
              "      filter: drop-shadow(0px 1px 2px rgba(0, 0, 0, 0.3));\n",
              "      fill: #FFFFFF;\n",
              "    }\n",
              "  </style>\n",
              "\n",
              "    <script>\n",
              "      const buttonEl =\n",
              "        document.querySelector('#df-130a66c1-a13b-41dd-b25c-ab5c9339e356 button.colab-df-convert');\n",
              "      buttonEl.style.display =\n",
              "        google.colab.kernel.accessAllowed ? 'block' : 'none';\n",
              "\n",
              "      async function convertToInteractive(key) {\n",
              "        const element = document.querySelector('#df-130a66c1-a13b-41dd-b25c-ab5c9339e356');\n",
              "        const dataTable =\n",
              "          await google.colab.kernel.invokeFunction('convertToInteractive',\n",
              "                                                    [key], {});\n",
              "        if (!dataTable) return;\n",
              "\n",
              "        const docLinkHtml = 'Like what you see? Visit the ' +\n",
              "          '<a target=\"_blank\" href=https://colab.research.google.com/notebooks/data_table.ipynb>data table notebook</a>'\n",
              "          + ' to learn more about interactive tables.';\n",
              "        element.innerHTML = '';\n",
              "        dataTable['output_type'] = 'display_data';\n",
              "        await google.colab.output.renderOutput(dataTable, element);\n",
              "        const docLink = document.createElement('div');\n",
              "        docLink.innerHTML = docLinkHtml;\n",
              "        element.appendChild(docLink);\n",
              "      }\n",
              "    </script>\n",
              "  </div>\n",
              "\n",
              "\n",
              "<div id=\"df-3e671f8b-de4b-4d28-9d41-809aa44e0bf9\">\n",
              "  <button class=\"colab-df-quickchart\" onclick=\"quickchart('df-3e671f8b-de4b-4d28-9d41-809aa44e0bf9')\"\n",
              "            title=\"Suggest charts\"\n",
              "            style=\"display:none;\">\n",
              "\n",
              "<svg xmlns=\"http://www.w3.org/2000/svg\" height=\"24px\"viewBox=\"0 0 24 24\"\n",
              "     width=\"24px\">\n",
              "    <g>\n",
              "        <path d=\"M19 3H5c-1.1 0-2 .9-2 2v14c0 1.1.9 2 2 2h14c1.1 0 2-.9 2-2V5c0-1.1-.9-2-2-2zM9 17H7v-7h2v7zm4 0h-2V7h2v10zm4 0h-2v-4h2v4z\"/>\n",
              "    </g>\n",
              "</svg>\n",
              "  </button>\n",
              "\n",
              "<style>\n",
              "  .colab-df-quickchart {\n",
              "      --bg-color: #E8F0FE;\n",
              "      --fill-color: #1967D2;\n",
              "      --hover-bg-color: #E2EBFA;\n",
              "      --hover-fill-color: #174EA6;\n",
              "      --disabled-fill-color: #AAA;\n",
              "      --disabled-bg-color: #DDD;\n",
              "  }\n",
              "\n",
              "  [theme=dark] .colab-df-quickchart {\n",
              "      --bg-color: #3B4455;\n",
              "      --fill-color: #D2E3FC;\n",
              "      --hover-bg-color: #434B5C;\n",
              "      --hover-fill-color: #FFFFFF;\n",
              "      --disabled-bg-color: #3B4455;\n",
              "      --disabled-fill-color: #666;\n",
              "  }\n",
              "\n",
              "  .colab-df-quickchart {\n",
              "    background-color: var(--bg-color);\n",
              "    border: none;\n",
              "    border-radius: 50%;\n",
              "    cursor: pointer;\n",
              "    display: none;\n",
              "    fill: var(--fill-color);\n",
              "    height: 32px;\n",
              "    padding: 0;\n",
              "    width: 32px;\n",
              "  }\n",
              "\n",
              "  .colab-df-quickchart:hover {\n",
              "    background-color: var(--hover-bg-color);\n",
              "    box-shadow: 0 1px 2px rgba(60, 64, 67, 0.3), 0 1px 3px 1px rgba(60, 64, 67, 0.15);\n",
              "    fill: var(--button-hover-fill-color);\n",
              "  }\n",
              "\n",
              "  .colab-df-quickchart-complete:disabled,\n",
              "  .colab-df-quickchart-complete:disabled:hover {\n",
              "    background-color: var(--disabled-bg-color);\n",
              "    fill: var(--disabled-fill-color);\n",
              "    box-shadow: none;\n",
              "  }\n",
              "\n",
              "  .colab-df-spinner {\n",
              "    border: 2px solid var(--fill-color);\n",
              "    border-color: transparent;\n",
              "    border-bottom-color: var(--fill-color);\n",
              "    animation:\n",
              "      spin 1s steps(1) infinite;\n",
              "  }\n",
              "\n",
              "  @keyframes spin {\n",
              "    0% {\n",
              "      border-color: transparent;\n",
              "      border-bottom-color: var(--fill-color);\n",
              "      border-left-color: var(--fill-color);\n",
              "    }\n",
              "    20% {\n",
              "      border-color: transparent;\n",
              "      border-left-color: var(--fill-color);\n",
              "      border-top-color: var(--fill-color);\n",
              "    }\n",
              "    30% {\n",
              "      border-color: transparent;\n",
              "      border-left-color: var(--fill-color);\n",
              "      border-top-color: var(--fill-color);\n",
              "      border-right-color: var(--fill-color);\n",
              "    }\n",
              "    40% {\n",
              "      border-color: transparent;\n",
              "      border-right-color: var(--fill-color);\n",
              "      border-top-color: var(--fill-color);\n",
              "    }\n",
              "    60% {\n",
              "      border-color: transparent;\n",
              "      border-right-color: var(--fill-color);\n",
              "    }\n",
              "    80% {\n",
              "      border-color: transparent;\n",
              "      border-right-color: var(--fill-color);\n",
              "      border-bottom-color: var(--fill-color);\n",
              "    }\n",
              "    90% {\n",
              "      border-color: transparent;\n",
              "      border-bottom-color: var(--fill-color);\n",
              "    }\n",
              "  }\n",
              "</style>\n",
              "\n",
              "  <script>\n",
              "    async function quickchart(key) {\n",
              "      const quickchartButtonEl =\n",
              "        document.querySelector('#' + key + ' button');\n",
              "      quickchartButtonEl.disabled = true;  // To prevent multiple clicks.\n",
              "      quickchartButtonEl.classList.add('colab-df-spinner');\n",
              "      try {\n",
              "        const charts = await google.colab.kernel.invokeFunction(\n",
              "            'suggestCharts', [key], {});\n",
              "      } catch (error) {\n",
              "        console.error('Error during call to suggestCharts:', error);\n",
              "      }\n",
              "      quickchartButtonEl.classList.remove('colab-df-spinner');\n",
              "      quickchartButtonEl.classList.add('colab-df-quickchart-complete');\n",
              "    }\n",
              "    (() => {\n",
              "      let quickchartButtonEl =\n",
              "        document.querySelector('#df-3e671f8b-de4b-4d28-9d41-809aa44e0bf9 button');\n",
              "      quickchartButtonEl.style.display =\n",
              "        google.colab.kernel.accessAllowed ? 'block' : 'none';\n",
              "    })();\n",
              "  </script>\n",
              "</div>\n",
              "    </div>\n",
              "  </div>\n"
            ]
          },
          "metadata": {},
          "execution_count": 158
        }
      ]
    },
    {
      "cell_type": "code",
      "source": [
        "df_submission.to_csv(\"dsTP2RNSub3.csv\",index=False)"
      ],
      "metadata": {
        "id": "MfS-xE2hQfsZ"
      },
      "execution_count": null,
      "outputs": []
    },
    {
      "cell_type": "markdown",
      "source": [
        "#Submission 4"
      ],
      "metadata": {
        "id": "3iUdHVIV20no"
      }
    },
    {
      "cell_type": "code",
      "source": [
        "modelo = joblib.load('red_final.joblib')\n",
        "\n",
        "red=modelo.fit(X_train,y_train, epochs=5)"
      ],
      "metadata": {
        "colab": {
          "base_uri": "https://localhost:8080/"
        },
        "outputId": "0a615beb-5dcc-469c-c829-979994ac5a33",
        "id": "vo36iBPU7oIC"
      },
      "execution_count": 27,
      "outputs": [
        {
          "output_type": "stream",
          "name": "stdout",
          "text": [
            "Epoch 1/5\n",
            "1250/1250 [==============================] - 13s 10ms/step - loss: 0.1776 - accuracy: 0.9421\n",
            "Epoch 2/5\n",
            "1250/1250 [==============================] - 12s 10ms/step - loss: 0.1129 - accuracy: 0.9721\n",
            "Epoch 3/5\n",
            "1250/1250 [==============================] - 12s 10ms/step - loss: 0.0600 - accuracy: 0.9910\n",
            "Epoch 4/5\n",
            "1250/1250 [==============================] - 13s 10ms/step - loss: 0.0278 - accuracy: 0.9975\n",
            "Epoch 5/5\n",
            "1250/1250 [==============================] - 12s 10ms/step - loss: 0.0127 - accuracy: 0.9995\n"
          ]
        }
      ]
    },
    {
      "cell_type": "code",
      "source": [
        "X_TEST = vecTest.transform(dsTestCopy.review_es)\n",
        "X_TEST = X_TEST.toarray()"
      ],
      "metadata": {
        "id": "FzWfXOe57oIE"
      },
      "execution_count": 28,
      "outputs": []
    },
    {
      "cell_type": "code",
      "source": [
        "y_pred = modelo.predict(X_TEST)\n",
        "y_pred"
      ],
      "metadata": {
        "colab": {
          "base_uri": "https://localhost:8080/",
          "height": 651
        },
        "outputId": "3011060f-cbf0-478a-9d13-70ec78f7921f",
        "id": "KhHsaK_Y7oIG"
      },
      "execution_count": 29,
      "outputs": [
        {
          "output_type": "error",
          "ename": "ValueError",
          "evalue": "ignored",
          "traceback": [
            "\u001b[0;31m---------------------------------------------------------------------------\u001b[0m",
            "\u001b[0;31mValueError\u001b[0m                                Traceback (most recent call last)",
            "\u001b[0;32m<ipython-input-29-6a434cc19400>\u001b[0m in \u001b[0;36m<cell line: 1>\u001b[0;34m()\u001b[0m\n\u001b[0;32m----> 1\u001b[0;31m \u001b[0my_pred\u001b[0m \u001b[0;34m=\u001b[0m \u001b[0mmodelo\u001b[0m\u001b[0;34m.\u001b[0m\u001b[0mpredict\u001b[0m\u001b[0;34m(\u001b[0m\u001b[0mX_TEST\u001b[0m\u001b[0;34m)\u001b[0m\u001b[0;34m\u001b[0m\u001b[0;34m\u001b[0m\u001b[0m\n\u001b[0m\u001b[1;32m      2\u001b[0m \u001b[0my_pred\u001b[0m\u001b[0;34m\u001b[0m\u001b[0;34m\u001b[0m\u001b[0m\n",
            "\u001b[0;32m/usr/local/lib/python3.10/dist-packages/keras/src/utils/traceback_utils.py\u001b[0m in \u001b[0;36merror_handler\u001b[0;34m(*args, **kwargs)\u001b[0m\n\u001b[1;32m     68\u001b[0m             \u001b[0;31m# To get the full stack trace, call:\u001b[0m\u001b[0;34m\u001b[0m\u001b[0;34m\u001b[0m\u001b[0m\n\u001b[1;32m     69\u001b[0m             \u001b[0;31m# `tf.debugging.disable_traceback_filtering()`\u001b[0m\u001b[0;34m\u001b[0m\u001b[0;34m\u001b[0m\u001b[0m\n\u001b[0;32m---> 70\u001b[0;31m             \u001b[0;32mraise\u001b[0m \u001b[0me\u001b[0m\u001b[0;34m.\u001b[0m\u001b[0mwith_traceback\u001b[0m\u001b[0;34m(\u001b[0m\u001b[0mfiltered_tb\u001b[0m\u001b[0;34m)\u001b[0m \u001b[0;32mfrom\u001b[0m \u001b[0;32mNone\u001b[0m\u001b[0;34m\u001b[0m\u001b[0;34m\u001b[0m\u001b[0m\n\u001b[0m\u001b[1;32m     71\u001b[0m         \u001b[0;32mfinally\u001b[0m\u001b[0;34m:\u001b[0m\u001b[0;34m\u001b[0m\u001b[0;34m\u001b[0m\u001b[0m\n\u001b[1;32m     72\u001b[0m             \u001b[0;32mdel\u001b[0m \u001b[0mfiltered_tb\u001b[0m\u001b[0;34m\u001b[0m\u001b[0;34m\u001b[0m\u001b[0m\n",
            "\u001b[0;32m/usr/local/lib/python3.10/dist-packages/keras/src/engine/training.py\u001b[0m in \u001b[0;36mtf__predict_function\u001b[0;34m(iterator)\u001b[0m\n\u001b[1;32m     13\u001b[0m                 \u001b[0;32mtry\u001b[0m\u001b[0;34m:\u001b[0m\u001b[0;34m\u001b[0m\u001b[0;34m\u001b[0m\u001b[0m\n\u001b[1;32m     14\u001b[0m                     \u001b[0mdo_return\u001b[0m \u001b[0;34m=\u001b[0m \u001b[0;32mTrue\u001b[0m\u001b[0;34m\u001b[0m\u001b[0;34m\u001b[0m\u001b[0m\n\u001b[0;32m---> 15\u001b[0;31m                     \u001b[0mretval_\u001b[0m \u001b[0;34m=\u001b[0m \u001b[0mag__\u001b[0m\u001b[0;34m.\u001b[0m\u001b[0mconverted_call\u001b[0m\u001b[0;34m(\u001b[0m\u001b[0mag__\u001b[0m\u001b[0;34m.\u001b[0m\u001b[0mld\u001b[0m\u001b[0;34m(\u001b[0m\u001b[0mstep_function\u001b[0m\u001b[0;34m)\u001b[0m\u001b[0;34m,\u001b[0m \u001b[0;34m(\u001b[0m\u001b[0mag__\u001b[0m\u001b[0;34m.\u001b[0m\u001b[0mld\u001b[0m\u001b[0;34m(\u001b[0m\u001b[0mself\u001b[0m\u001b[0;34m)\u001b[0m\u001b[0;34m,\u001b[0m \u001b[0mag__\u001b[0m\u001b[0;34m.\u001b[0m\u001b[0mld\u001b[0m\u001b[0;34m(\u001b[0m\u001b[0miterator\u001b[0m\u001b[0;34m)\u001b[0m\u001b[0;34m)\u001b[0m\u001b[0;34m,\u001b[0m \u001b[0;32mNone\u001b[0m\u001b[0;34m,\u001b[0m \u001b[0mfscope\u001b[0m\u001b[0;34m)\u001b[0m\u001b[0;34m\u001b[0m\u001b[0;34m\u001b[0m\u001b[0m\n\u001b[0m\u001b[1;32m     16\u001b[0m                 \u001b[0;32mexcept\u001b[0m\u001b[0;34m:\u001b[0m\u001b[0;34m\u001b[0m\u001b[0;34m\u001b[0m\u001b[0m\n\u001b[1;32m     17\u001b[0m                     \u001b[0mdo_return\u001b[0m \u001b[0;34m=\u001b[0m \u001b[0;32mFalse\u001b[0m\u001b[0;34m\u001b[0m\u001b[0;34m\u001b[0m\u001b[0m\n",
            "\u001b[0;31mValueError\u001b[0m: in user code:\n\n    File \"/usr/local/lib/python3.10/dist-packages/keras/src/engine/training.py\", line 2416, in predict_function  *\n        return step_function(self, iterator)\n    File \"/usr/local/lib/python3.10/dist-packages/keras/src/engine/training.py\", line 2401, in step_function  **\n        outputs = model.distribute_strategy.run(run_step, args=(data,))\n    File \"/usr/local/lib/python3.10/dist-packages/keras/src/engine/training.py\", line 2389, in run_step  **\n        outputs = model.predict_step(data)\n    File \"/usr/local/lib/python3.10/dist-packages/keras/src/engine/training.py\", line 2357, in predict_step\n        return self(x, training=False)\n    File \"/usr/local/lib/python3.10/dist-packages/keras/src/utils/traceback_utils.py\", line 70, in error_handler\n        raise e.with_traceback(filtered_tb) from None\n    File \"/usr/local/lib/python3.10/dist-packages/keras/src/engine/input_spec.py\", line 298, in assert_input_compatibility\n        raise ValueError(\n\n    ValueError: Input 0 of layer \"sequential\" is incompatible with the layer: expected shape=(None, 1000), found shape=(None, 57358)\n"
          ]
        }
      ]
    },
    {
      "cell_type": "code",
      "source": [
        "y_pred = np.where(y_pred>0.45,1,0)\n",
        "y_pred = y_pred.flatten()\n",
        "y_pred"
      ],
      "metadata": {
        "id": "rIGZg6TI7oIH"
      },
      "execution_count": null,
      "outputs": []
    },
    {
      "cell_type": "code",
      "source": [
        "df_submission = pd.DataFrame({'id': dsTestCopy['ID'], 'Sentimiento': y_pred})\n",
        "df_submission"
      ],
      "metadata": {
        "id": "kppJ6Vvy7oII"
      },
      "execution_count": null,
      "outputs": []
    },
    {
      "cell_type": "code",
      "source": [
        "df_submission.loc[df_submission['Sentimiento'] == 1, 'Sentimiento'] = 'positivo'\n",
        "df_submission.loc[df_submission['Sentimiento'] == 0, 'Sentimiento'] = 'negativo'\n",
        "df_submission"
      ],
      "metadata": {
        "id": "WBFIZXr27oII"
      },
      "execution_count": null,
      "outputs": []
    },
    {
      "cell_type": "code",
      "source": [
        "df_submission.to_csv(\"dsTP2RNSub4.csv\",index=False)"
      ],
      "metadata": {
        "id": "B6YNobDw7oII"
      },
      "execution_count": null,
      "outputs": []
    }
  ]
}