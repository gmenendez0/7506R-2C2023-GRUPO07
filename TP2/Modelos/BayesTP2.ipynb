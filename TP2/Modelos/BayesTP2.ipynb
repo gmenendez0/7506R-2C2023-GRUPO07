{
  "nbformat": 4,
  "nbformat_minor": 0,
  "metadata": {
    "colab": {
      "provenance": []
    },
    "kernelspec": {
      "name": "python3",
      "display_name": "Python 3"
    },
    "language_info": {
      "name": "python"
    }
  },
  "cells": [
    {
      "cell_type": "markdown",
      "source": [
        "# 1. Importamos librerias"
      ],
      "metadata": {
        "id": "oSQVCC00FetL"
      }
    },
    {
      "cell_type": "code",
      "execution_count": 22,
      "metadata": {
        "id": "apaHVZh6FcUb",
        "colab": {
          "base_uri": "https://localhost:8080/"
        },
        "outputId": "b2fd115b-9915-478f-e9d7-5e123a99c404"
      },
      "outputs": [
        {
          "output_type": "stream",
          "name": "stderr",
          "text": [
            "[nltk_data] Downloading package stopwords to /root/nltk_data...\n",
            "[nltk_data]   Package stopwords is already up-to-date!\n",
            "[nltk_data] Downloading package punkt to /root/nltk_data...\n",
            "[nltk_data]   Package punkt is already up-to-date!\n"
          ]
        }
      ],
      "source": [
        "import pandas as pd\n",
        "import numpy as np\n",
        "from sklearn.model_selection import train_test_split\n",
        "from sklearn.feature_extraction.text import CountVectorizer, TfidfVectorizer\n",
        "from sklearn.naive_bayes import MultinomialNB\n",
        "from sklearn.pipeline import make_pipeline\n",
        "from sklearn.metrics import confusion_matrix, accuracy_score, precision_score, f1_score\n",
        "from sklearn import metrics\n",
        "from sklearn.model_selection import GridSearchCV\n",
        "import pandas as pd\n",
        "import numpy as np\n",
        "import seaborn as sns\n",
        "import joblib\n",
        "import nltk\n",
        "from nltk import tokenize\n",
        "nltk.download('stopwords')\n",
        "nltk.download('punkt')\n",
        "from nltk.corpus import stopwords\n",
        "import re\n",
        "from sklearn.feature_extraction.text import TfidfVectorizer"
      ]
    },
    {
      "cell_type": "markdown",
      "source": [
        "# 2. Importamos dataSet"
      ],
      "metadata": {
        "id": "-LqCqQ0VFpnY"
      }
    },
    {
      "cell_type": "code",
      "source": [
        "df = pd.read_csv(\"train.csv\")\n",
        "df_test = pd.read_csv(\"test.csv\")\n",
        "\n",
        "df_trabajo_train = df.copy()\n",
        "df_trabajo_test = df_test.copy()\n",
        "\n",
        "df_trabajo_train"
      ],
      "metadata": {
        "colab": {
          "base_uri": "https://localhost:8080/",
          "height": 424
        },
        "id": "veu7Ro-IFsM9",
        "outputId": "c1d943ae-0e8e-4ce8-f419-659f2a8f5a56"
      },
      "execution_count": 23,
      "outputs": [
        {
          "output_type": "execute_result",
          "data": {
            "text/plain": [
              "          ID                                          review_es sentimiento\n",
              "0          0  Uno de los otros críticos ha mencionado que de...    positivo\n",
              "1          1  Una pequeña pequeña producción.La técnica de f...    positivo\n",
              "2          2  Pensé que esta era una manera maravillosa de p...    positivo\n",
              "3          3  Básicamente, hay una familia donde un niño peq...    negativo\n",
              "4          4  El \"amor en el tiempo\" de Petter Mattei es una...    positivo\n",
              "...      ...                                                ...         ...\n",
              "49995  49995  Pensé que esta película hizo un buen trabajo a...    positivo\n",
              "49996  49996  Mala parcela, mal diálogo, mala actuación, dir...    negativo\n",
              "49997  49997  Soy católica enseñada en escuelas primarias pa...    negativo\n",
              "49998  49998  Voy a tener que estar en desacuerdo con el com...    negativo\n",
              "49999  49999  Nadie espera que las películas de Star Trek se...    negativo\n",
              "\n",
              "[50000 rows x 3 columns]"
            ],
            "text/html": [
              "\n",
              "  <div id=\"df-1dd0f435-f6d3-4d25-a706-0e98e75e9096\" class=\"colab-df-container\">\n",
              "    <div>\n",
              "<style scoped>\n",
              "    .dataframe tbody tr th:only-of-type {\n",
              "        vertical-align: middle;\n",
              "    }\n",
              "\n",
              "    .dataframe tbody tr th {\n",
              "        vertical-align: top;\n",
              "    }\n",
              "\n",
              "    .dataframe thead th {\n",
              "        text-align: right;\n",
              "    }\n",
              "</style>\n",
              "<table border=\"1\" class=\"dataframe\">\n",
              "  <thead>\n",
              "    <tr style=\"text-align: right;\">\n",
              "      <th></th>\n",
              "      <th>ID</th>\n",
              "      <th>review_es</th>\n",
              "      <th>sentimiento</th>\n",
              "    </tr>\n",
              "  </thead>\n",
              "  <tbody>\n",
              "    <tr>\n",
              "      <th>0</th>\n",
              "      <td>0</td>\n",
              "      <td>Uno de los otros críticos ha mencionado que de...</td>\n",
              "      <td>positivo</td>\n",
              "    </tr>\n",
              "    <tr>\n",
              "      <th>1</th>\n",
              "      <td>1</td>\n",
              "      <td>Una pequeña pequeña producción.La técnica de f...</td>\n",
              "      <td>positivo</td>\n",
              "    </tr>\n",
              "    <tr>\n",
              "      <th>2</th>\n",
              "      <td>2</td>\n",
              "      <td>Pensé que esta era una manera maravillosa de p...</td>\n",
              "      <td>positivo</td>\n",
              "    </tr>\n",
              "    <tr>\n",
              "      <th>3</th>\n",
              "      <td>3</td>\n",
              "      <td>Básicamente, hay una familia donde un niño peq...</td>\n",
              "      <td>negativo</td>\n",
              "    </tr>\n",
              "    <tr>\n",
              "      <th>4</th>\n",
              "      <td>4</td>\n",
              "      <td>El \"amor en el tiempo\" de Petter Mattei es una...</td>\n",
              "      <td>positivo</td>\n",
              "    </tr>\n",
              "    <tr>\n",
              "      <th>...</th>\n",
              "      <td>...</td>\n",
              "      <td>...</td>\n",
              "      <td>...</td>\n",
              "    </tr>\n",
              "    <tr>\n",
              "      <th>49995</th>\n",
              "      <td>49995</td>\n",
              "      <td>Pensé que esta película hizo un buen trabajo a...</td>\n",
              "      <td>positivo</td>\n",
              "    </tr>\n",
              "    <tr>\n",
              "      <th>49996</th>\n",
              "      <td>49996</td>\n",
              "      <td>Mala parcela, mal diálogo, mala actuación, dir...</td>\n",
              "      <td>negativo</td>\n",
              "    </tr>\n",
              "    <tr>\n",
              "      <th>49997</th>\n",
              "      <td>49997</td>\n",
              "      <td>Soy católica enseñada en escuelas primarias pa...</td>\n",
              "      <td>negativo</td>\n",
              "    </tr>\n",
              "    <tr>\n",
              "      <th>49998</th>\n",
              "      <td>49998</td>\n",
              "      <td>Voy a tener que estar en desacuerdo con el com...</td>\n",
              "      <td>negativo</td>\n",
              "    </tr>\n",
              "    <tr>\n",
              "      <th>49999</th>\n",
              "      <td>49999</td>\n",
              "      <td>Nadie espera que las películas de Star Trek se...</td>\n",
              "      <td>negativo</td>\n",
              "    </tr>\n",
              "  </tbody>\n",
              "</table>\n",
              "<p>50000 rows × 3 columns</p>\n",
              "</div>\n",
              "    <div class=\"colab-df-buttons\">\n",
              "\n",
              "  <div class=\"colab-df-container\">\n",
              "    <button class=\"colab-df-convert\" onclick=\"convertToInteractive('df-1dd0f435-f6d3-4d25-a706-0e98e75e9096')\"\n",
              "            title=\"Convert this dataframe to an interactive table.\"\n",
              "            style=\"display:none;\">\n",
              "\n",
              "  <svg xmlns=\"http://www.w3.org/2000/svg\" height=\"24px\" viewBox=\"0 -960 960 960\">\n",
              "    <path d=\"M120-120v-720h720v720H120Zm60-500h600v-160H180v160Zm220 220h160v-160H400v160Zm0 220h160v-160H400v160ZM180-400h160v-160H180v160Zm440 0h160v-160H620v160ZM180-180h160v-160H180v160Zm440 0h160v-160H620v160Z\"/>\n",
              "  </svg>\n",
              "    </button>\n",
              "\n",
              "  <style>\n",
              "    .colab-df-container {\n",
              "      display:flex;\n",
              "      gap: 12px;\n",
              "    }\n",
              "\n",
              "    .colab-df-convert {\n",
              "      background-color: #E8F0FE;\n",
              "      border: none;\n",
              "      border-radius: 50%;\n",
              "      cursor: pointer;\n",
              "      display: none;\n",
              "      fill: #1967D2;\n",
              "      height: 32px;\n",
              "      padding: 0 0 0 0;\n",
              "      width: 32px;\n",
              "    }\n",
              "\n",
              "    .colab-df-convert:hover {\n",
              "      background-color: #E2EBFA;\n",
              "      box-shadow: 0px 1px 2px rgba(60, 64, 67, 0.3), 0px 1px 3px 1px rgba(60, 64, 67, 0.15);\n",
              "      fill: #174EA6;\n",
              "    }\n",
              "\n",
              "    .colab-df-buttons div {\n",
              "      margin-bottom: 4px;\n",
              "    }\n",
              "\n",
              "    [theme=dark] .colab-df-convert {\n",
              "      background-color: #3B4455;\n",
              "      fill: #D2E3FC;\n",
              "    }\n",
              "\n",
              "    [theme=dark] .colab-df-convert:hover {\n",
              "      background-color: #434B5C;\n",
              "      box-shadow: 0px 1px 3px 1px rgba(0, 0, 0, 0.15);\n",
              "      filter: drop-shadow(0px 1px 2px rgba(0, 0, 0, 0.3));\n",
              "      fill: #FFFFFF;\n",
              "    }\n",
              "  </style>\n",
              "\n",
              "    <script>\n",
              "      const buttonEl =\n",
              "        document.querySelector('#df-1dd0f435-f6d3-4d25-a706-0e98e75e9096 button.colab-df-convert');\n",
              "      buttonEl.style.display =\n",
              "        google.colab.kernel.accessAllowed ? 'block' : 'none';\n",
              "\n",
              "      async function convertToInteractive(key) {\n",
              "        const element = document.querySelector('#df-1dd0f435-f6d3-4d25-a706-0e98e75e9096');\n",
              "        const dataTable =\n",
              "          await google.colab.kernel.invokeFunction('convertToInteractive',\n",
              "                                                    [key], {});\n",
              "        if (!dataTable) return;\n",
              "\n",
              "        const docLinkHtml = 'Like what you see? Visit the ' +\n",
              "          '<a target=\"_blank\" href=https://colab.research.google.com/notebooks/data_table.ipynb>data table notebook</a>'\n",
              "          + ' to learn more about interactive tables.';\n",
              "        element.innerHTML = '';\n",
              "        dataTable['output_type'] = 'display_data';\n",
              "        await google.colab.output.renderOutput(dataTable, element);\n",
              "        const docLink = document.createElement('div');\n",
              "        docLink.innerHTML = docLinkHtml;\n",
              "        element.appendChild(docLink);\n",
              "      }\n",
              "    </script>\n",
              "  </div>\n",
              "\n",
              "\n",
              "<div id=\"df-e6de8827-994b-46db-8cfc-dc55411208ea\">\n",
              "  <button class=\"colab-df-quickchart\" onclick=\"quickchart('df-e6de8827-994b-46db-8cfc-dc55411208ea')\"\n",
              "            title=\"Suggest charts\"\n",
              "            style=\"display:none;\">\n",
              "\n",
              "<svg xmlns=\"http://www.w3.org/2000/svg\" height=\"24px\"viewBox=\"0 0 24 24\"\n",
              "     width=\"24px\">\n",
              "    <g>\n",
              "        <path d=\"M19 3H5c-1.1 0-2 .9-2 2v14c0 1.1.9 2 2 2h14c1.1 0 2-.9 2-2V5c0-1.1-.9-2-2-2zM9 17H7v-7h2v7zm4 0h-2V7h2v10zm4 0h-2v-4h2v4z\"/>\n",
              "    </g>\n",
              "</svg>\n",
              "  </button>\n",
              "\n",
              "<style>\n",
              "  .colab-df-quickchart {\n",
              "      --bg-color: #E8F0FE;\n",
              "      --fill-color: #1967D2;\n",
              "      --hover-bg-color: #E2EBFA;\n",
              "      --hover-fill-color: #174EA6;\n",
              "      --disabled-fill-color: #AAA;\n",
              "      --disabled-bg-color: #DDD;\n",
              "  }\n",
              "\n",
              "  [theme=dark] .colab-df-quickchart {\n",
              "      --bg-color: #3B4455;\n",
              "      --fill-color: #D2E3FC;\n",
              "      --hover-bg-color: #434B5C;\n",
              "      --hover-fill-color: #FFFFFF;\n",
              "      --disabled-bg-color: #3B4455;\n",
              "      --disabled-fill-color: #666;\n",
              "  }\n",
              "\n",
              "  .colab-df-quickchart {\n",
              "    background-color: var(--bg-color);\n",
              "    border: none;\n",
              "    border-radius: 50%;\n",
              "    cursor: pointer;\n",
              "    display: none;\n",
              "    fill: var(--fill-color);\n",
              "    height: 32px;\n",
              "    padding: 0;\n",
              "    width: 32px;\n",
              "  }\n",
              "\n",
              "  .colab-df-quickchart:hover {\n",
              "    background-color: var(--hover-bg-color);\n",
              "    box-shadow: 0 1px 2px rgba(60, 64, 67, 0.3), 0 1px 3px 1px rgba(60, 64, 67, 0.15);\n",
              "    fill: var(--button-hover-fill-color);\n",
              "  }\n",
              "\n",
              "  .colab-df-quickchart-complete:disabled,\n",
              "  .colab-df-quickchart-complete:disabled:hover {\n",
              "    background-color: var(--disabled-bg-color);\n",
              "    fill: var(--disabled-fill-color);\n",
              "    box-shadow: none;\n",
              "  }\n",
              "\n",
              "  .colab-df-spinner {\n",
              "    border: 2px solid var(--fill-color);\n",
              "    border-color: transparent;\n",
              "    border-bottom-color: var(--fill-color);\n",
              "    animation:\n",
              "      spin 1s steps(1) infinite;\n",
              "  }\n",
              "\n",
              "  @keyframes spin {\n",
              "    0% {\n",
              "      border-color: transparent;\n",
              "      border-bottom-color: var(--fill-color);\n",
              "      border-left-color: var(--fill-color);\n",
              "    }\n",
              "    20% {\n",
              "      border-color: transparent;\n",
              "      border-left-color: var(--fill-color);\n",
              "      border-top-color: var(--fill-color);\n",
              "    }\n",
              "    30% {\n",
              "      border-color: transparent;\n",
              "      border-left-color: var(--fill-color);\n",
              "      border-top-color: var(--fill-color);\n",
              "      border-right-color: var(--fill-color);\n",
              "    }\n",
              "    40% {\n",
              "      border-color: transparent;\n",
              "      border-right-color: var(--fill-color);\n",
              "      border-top-color: var(--fill-color);\n",
              "    }\n",
              "    60% {\n",
              "      border-color: transparent;\n",
              "      border-right-color: var(--fill-color);\n",
              "    }\n",
              "    80% {\n",
              "      border-color: transparent;\n",
              "      border-right-color: var(--fill-color);\n",
              "      border-bottom-color: var(--fill-color);\n",
              "    }\n",
              "    90% {\n",
              "      border-color: transparent;\n",
              "      border-bottom-color: var(--fill-color);\n",
              "    }\n",
              "  }\n",
              "</style>\n",
              "\n",
              "  <script>\n",
              "    async function quickchart(key) {\n",
              "      const quickchartButtonEl =\n",
              "        document.querySelector('#' + key + ' button');\n",
              "      quickchartButtonEl.disabled = true;  // To prevent multiple clicks.\n",
              "      quickchartButtonEl.classList.add('colab-df-spinner');\n",
              "      try {\n",
              "        const charts = await google.colab.kernel.invokeFunction(\n",
              "            'suggestCharts', [key], {});\n",
              "      } catch (error) {\n",
              "        console.error('Error during call to suggestCharts:', error);\n",
              "      }\n",
              "      quickchartButtonEl.classList.remove('colab-df-spinner');\n",
              "      quickchartButtonEl.classList.add('colab-df-quickchart-complete');\n",
              "    }\n",
              "    (() => {\n",
              "      let quickchartButtonEl =\n",
              "        document.querySelector('#df-e6de8827-994b-46db-8cfc-dc55411208ea button');\n",
              "      quickchartButtonEl.style.display =\n",
              "        google.colab.kernel.accessAllowed ? 'block' : 'none';\n",
              "    })();\n",
              "  </script>\n",
              "</div>\n",
              "    </div>\n",
              "  </div>\n"
            ]
          },
          "metadata": {},
          "execution_count": 23
        }
      ]
    },
    {
      "cell_type": "markdown",
      "source": [
        "# Preprocesamiento"
      ],
      "metadata": {
        "id": "m-rFU8CLdKTI"
      }
    },
    {
      "cell_type": "markdown",
      "source": [
        "## Definimos una funcion para quitar letras con tildes"
      ],
      "metadata": {
        "id": "KrPDIhFmdd9C"
      }
    },
    {
      "cell_type": "code",
      "source": [
        "def remove_tildes(text):\n",
        "    remove = ((\"á\", \"a\"),(\"é\", \"e\"),(\"í\", \"i\"),(\"ó\", \"o\"),(\"ú\", \"u\"))\n",
        "\n",
        "    for a, b in remove:\n",
        "        text = text.replace(a, b).replace(a.upper(), b.upper())\n",
        "    return text"
      ],
      "metadata": {
        "id": "_VobvzPXdgnk"
      },
      "execution_count": 24,
      "outputs": []
    },
    {
      "cell_type": "markdown",
      "source": [
        "## Stop words\n",
        "- Usaremos stopWords tanto en español como en ingles y les haremos un procesamiento para quitar las tildes."
      ],
      "metadata": {
        "id": "HtJqYjRQgo39"
      }
    },
    {
      "cell_type": "code",
      "source": [
        "# Por recomendacion generales de la comunidad, quitaremos las tildes de las stop words.\n",
        "stop_words = stopwords.words(\"english\") + stopwords.words(\"spanish\")\n",
        "stop_words = [remove_tildes(word) for word in stop_words]"
      ],
      "metadata": {
        "id": "fzMnNU9UdLVA"
      },
      "execution_count": 25,
      "outputs": []
    },
    {
      "cell_type": "markdown",
      "source": [
        "## Vectorizacion\n",
        "Para vectorizar utilizaremos TfidfVectorizer ya que por indicaciones de la catedra y pruebas del equipo suele ofrecer una mejora en el rendimiento.\n",
        "\n",
        "### Parametros de TfidfVectorizer:\n",
        "1.   **max_features:** Este parámetro especifica el número máximo de características (términos o palabras) que se deben extraer y tener en cuenta. Por ejemplo, en 2000, significa que solo se considerarán las 2000 palabras más frecuentes en el conjunto de documentos. Probamos con utilizar diversos valores en este campo, (1000, 2500, 5000) y el mejor resultado lo conseguimos dejandolo con valores default.\n",
        "\n",
        "2.   **stop_words:** Este parámetro se utiliza para especificar una lista de palabras comunes que se deben omitir durante el proceso de vectorización. Las palabras \"stop words\" suelen ser palabras muy comunes en un idioma (como \"the\", \"and\", \"is\", etc.) que no aportan mucha información sobre el contenido del texto y pueden ser eliminadas para mejorar la eficiencia y la relevancia del análisis.\n",
        "\n",
        "3. **strip_accents:** Este parámetro indica si se deben eliminar o reemplazar acentos y diacríticos durante el preprocesamiento del texto."
      ],
      "metadata": {
        "id": "5UxT0g1QfGsw"
      }
    },
    {
      "cell_type": "code",
      "source": [
        "vectorizer = TfidfVectorizer(stop_words = stop_words, strip_accents = \"unicode\")"
      ],
      "metadata": {
        "id": "eWSW6yyOfH-d"
      },
      "execution_count": 26,
      "outputs": []
    },
    {
      "cell_type": "markdown",
      "source": [
        "# 3. Dividir conjunto train y test"
      ],
      "metadata": {
        "id": "hVZLtVH6F73C"
      }
    },
    {
      "cell_type": "code",
      "source": [
        "x_train, x_test, y_train, y_test = train_test_split(df_trabajo_train.review_es, df_trabajo_train.sentimiento, test_size = 0.30, random_state = 25, shuffle = True)"
      ],
      "metadata": {
        "id": "kAeQkUKsF-93"
      },
      "execution_count": 27,
      "outputs": []
    },
    {
      "cell_type": "markdown",
      "source": [
        "# 4. Instancio, entreno y testeo modelos\n",
        "\n",
        "Se entrenaran modelos Naive Bayes Multinomial utilizando una tokenizacion con el *vectorizer* creado anteriormente."
      ],
      "metadata": {
        "id": "EDpnYqHfHV1G"
      }
    },
    {
      "cell_type": "code",
      "source": [
        "model_tfid = make_pipeline(vectorizer, MultinomialNB())\n",
        "\n",
        "model_tfid.fit(x_train, y_train)\n",
        "\n",
        "model_tfid_prediction = model_tfid.predict(x_test)"
      ],
      "metadata": {
        "id": "WPErV4GwHZ-d"
      },
      "execution_count": 28,
      "outputs": []
    },
    {
      "cell_type": "markdown",
      "source": [
        "# 5. Evaluo y visualizo resultados"
      ],
      "metadata": {
        "id": "uGX2HhbLKWhc"
      }
    },
    {
      "cell_type": "code",
      "source": [
        "print(\"Matrix de confusion de TFID:\")\n",
        "print(confusion_matrix(y_test, model_tfid_prediction))\n",
        "\n",
        "print()\n",
        "\n",
        "print(\"TFID Metrics:\")\n",
        "print(metrics.classification_report(y_test, model_tfid_prediction))\n"
      ],
      "metadata": {
        "colab": {
          "base_uri": "https://localhost:8080/"
        },
        "id": "hjEqCEmAKZSz",
        "outputId": "05662603-9dad-42ba-c947-c2a3690ffe03"
      },
      "execution_count": 29,
      "outputs": [
        {
          "output_type": "stream",
          "name": "stdout",
          "text": [
            "Matrix de confusion de TFID:\n",
            "[[6516 1083]\n",
            " [1074 6327]]\n",
            "\n",
            "TFID Metrics:\n",
            "              precision    recall  f1-score   support\n",
            "\n",
            "    negativo       0.86      0.86      0.86      7599\n",
            "    positivo       0.85      0.85      0.85      7401\n",
            "\n",
            "    accuracy                           0.86     15000\n",
            "   macro avg       0.86      0.86      0.86     15000\n",
            "weighted avg       0.86      0.86      0.86     15000\n",
            "\n"
          ]
        }
      ]
    },
    {
      "cell_type": "markdown",
      "source": [
        "Tal y como preveimos, TFI es superior."
      ],
      "metadata": {
        "id": "StmEOo-9WJhe"
      }
    },
    {
      "cell_type": "markdown",
      "source": [
        "# 5.1 Busqueda de los mejores hiperparametros"
      ],
      "metadata": {
        "id": "OU0_xu6VPwPR"
      }
    },
    {
      "cell_type": "code",
      "source": [
        "parameters = {\n",
        "    'tfidfvectorizer__ngram_range': [(1, 1), (1, 2), (2, 2)],\n",
        "    'multinomialnb__alpha': [0.1, 0.5, 1.0],\n",
        "}\n",
        "\n",
        "optimized = make_pipeline(vectorizer, MultinomialNB())\n",
        "\n",
        "grid_search = GridSearchCV(optimized, parameters, cv=5, n_jobs=-1)\n",
        "\n",
        "grid_search.fit(x_train, y_train)\n",
        "\n",
        "# Imprimir los mejores parámetros encontrados\n",
        "print(\"Mejores parámetros encontrados:\")\n",
        "print(grid_search.best_params_)\n",
        "\n",
        "# Evaluar el rendimiento accuracy en el conjunto de prueba\n",
        "accuracy = grid_search.score(x_test, y_test)\n",
        "print(f\"Precisión en el conjunto de prueba: {accuracy}\")\n",
        "\n",
        "best_model = grid_search.best_estimator_"
      ],
      "metadata": {
        "colab": {
          "base_uri": "https://localhost:8080/"
        },
        "id": "Xpw4xSneP1i2",
        "outputId": "33f4e7a4-09ff-4fc5-cc50-0401d2b40388"
      },
      "execution_count": 43,
      "outputs": [
        {
          "output_type": "stream",
          "name": "stdout",
          "text": [
            "Mejores parámetros encontrados:\n",
            "{'multinomialnb__alpha': 0.1, 'tfidfvectorizer__ngram_range': (1, 2)}\n",
            "Precisión en el conjunto de prueba: 0.8838\n"
          ]
        }
      ]
    },
    {
      "cell_type": "markdown",
      "source": [
        "# 6. Pasamos a evaluar con el conjunto test real"
      ],
      "metadata": {
        "id": "3kEtX9SeYt8G"
      }
    },
    {
      "cell_type": "code",
      "source": [
        "dft = pd.read_csv(\"test.csv\")\n",
        "ds_test = dft.copy()\n",
        "\n",
        "ds_test_ID = ds_test.ID\n",
        "ds_test_for_predict = ds_test.review_es\n",
        "\n",
        "test_prediction = best_model.predict(ds_test_for_predict)\n",
        "\n",
        "ds_submission = pd.DataFrame({'ID': ds_test['ID'], 'sentimiento': test_prediction})\n",
        "ds_submission.to_csv('./prediccion_final.csv', index=False)\n",
        "\n",
        "joblib.dump(best_model, 'bayes_entrenado.joblib')"
      ],
      "metadata": {
        "id": "TKifdZw_Y0Gr",
        "colab": {
          "base_uri": "https://localhost:8080/"
        },
        "outputId": "481783cf-097f-4321-e0e6-77b8e8b0af98"
      },
      "execution_count": 44,
      "outputs": [
        {
          "output_type": "execute_result",
          "data": {
            "text/plain": [
              "['bayes_entrenado.joblib']"
            ]
          },
          "metadata": {},
          "execution_count": 44
        }
      ]
    }
  ]
}