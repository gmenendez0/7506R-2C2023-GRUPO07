{
  "nbformat": 4,
  "nbformat_minor": 0,
  "metadata": {
    "colab": {
      "provenance": []
    },
    "kernelspec": {
      "name": "python3",
      "display_name": "Python 3"
    },
    "language_info": {
      "name": "python"
    }
  },
  "cells": [
    {
      "cell_type": "markdown",
      "source": [
        "# 1. Importamos librerias"
      ],
      "metadata": {
        "id": "oSQVCC00FetL"
      }
    },
    {
      "cell_type": "code",
      "execution_count": 1,
      "metadata": {
        "id": "apaHVZh6FcUb",
        "colab": {
          "base_uri": "https://localhost:8080/"
        },
        "outputId": "85ddaba2-fd4b-4a40-a591-8449c0b216b8"
      },
      "outputs": [
        {
          "output_type": "stream",
          "name": "stderr",
          "text": [
            "[nltk_data] Downloading package stopwords to /root/nltk_data...\n",
            "[nltk_data]   Unzipping corpora/stopwords.zip.\n",
            "[nltk_data] Downloading package punkt to /root/nltk_data...\n",
            "[nltk_data]   Unzipping tokenizers/punkt.zip.\n"
          ]
        }
      ],
      "source": [
        "import pandas as pd\n",
        "import numpy as np\n",
        "from sklearn.model_selection import train_test_split\n",
        "from sklearn.feature_extraction.text import CountVectorizer, TfidfVectorizer\n",
        "from sklearn.naive_bayes import MultinomialNB\n",
        "from sklearn.pipeline import make_pipeline\n",
        "from sklearn.metrics import confusion_matrix, accuracy_score, precision_score, f1_score\n",
        "from sklearn import metrics\n",
        "from sklearn.model_selection import GridSearchCV\n",
        "import pandas as pd\n",
        "import numpy as np\n",
        "import seaborn as sns\n",
        "import joblib\n",
        "import nltk\n",
        "from nltk import tokenize\n",
        "nltk.download('stopwords')\n",
        "nltk.download('punkt')\n",
        "from nltk.corpus import stopwords\n",
        "import re\n",
        "from sklearn.feature_extraction.text import TfidfVectorizer\n",
        "import xgboost as xgb\n",
        "import pandas as pd\n",
        "import numpy as np\n",
        "\n",
        "import sklearn as sk\n",
        "\n",
        "import seaborn as sns\n",
        "import matplotlib.pyplot as plt\n",
        "from six import StringIO\n",
        "import pydotplus\n",
        "from IPython.display import Image\n",
        "\n",
        "from sklearn.tree import export_graphviz\n",
        "\n",
        "from sklearn.model_selection import train_test_split\n",
        "from sklearn.model_selection import StratifiedKFold, KFold,RandomizedSearchCV\n",
        "from sklearn.metrics import confusion_matrix, classification_report\n",
        "from sklearn.metrics import roc_auc_score\n",
        "from sklearn.model_selection import GridSearchCV, RandomizedSearchCV, train_test_split"
      ]
    },
    {
      "cell_type": "markdown",
      "source": [
        "# 2. Importamos dataSet"
      ],
      "metadata": {
        "id": "-LqCqQ0VFpnY"
      }
    },
    {
      "cell_type": "code",
      "source": [
        "df = pd.read_csv(\"train.csv\")\n",
        "df_test = pd.read_csv(\"test.csv\")\n",
        "\n",
        "df_trabajo_train = df.copy()\n",
        "df_trabajo_test = df_test.copy()\n",
        "\n",
        "df_trabajo_train"
      ],
      "metadata": {
        "colab": {
          "base_uri": "https://localhost:8080/",
          "height": 423
        },
        "id": "veu7Ro-IFsM9",
        "outputId": "52f5adcf-3dd8-4c82-c241-04ab204d6e22"
      },
      "execution_count": 2,
      "outputs": [
        {
          "output_type": "execute_result",
          "data": {
            "text/plain": [
              "          ID                                          review_es sentimiento\n",
              "0          0  Uno de los otros críticos ha mencionado que de...    positivo\n",
              "1          1  Una pequeña pequeña producción.La técnica de f...    positivo\n",
              "2          2  Pensé que esta era una manera maravillosa de p...    positivo\n",
              "3          3  Básicamente, hay una familia donde un niño peq...    negativo\n",
              "4          4  El \"amor en el tiempo\" de Petter Mattei es una...    positivo\n",
              "...      ...                                                ...         ...\n",
              "49995  49995  Pensé que esta película hizo un buen trabajo a...    positivo\n",
              "49996  49996  Mala parcela, mal diálogo, mala actuación, dir...    negativo\n",
              "49997  49997  Soy católica enseñada en escuelas primarias pa...    negativo\n",
              "49998  49998  Voy a tener que estar en desacuerdo con el com...    negativo\n",
              "49999  49999  Nadie espera que las películas de Star Trek se...    negativo\n",
              "\n",
              "[50000 rows x 3 columns]"
            ],
            "text/html": [
              "\n",
              "  <div id=\"df-3ed76138-c940-4b14-876a-d4c4f1abc561\" class=\"colab-df-container\">\n",
              "    <div>\n",
              "<style scoped>\n",
              "    .dataframe tbody tr th:only-of-type {\n",
              "        vertical-align: middle;\n",
              "    }\n",
              "\n",
              "    .dataframe tbody tr th {\n",
              "        vertical-align: top;\n",
              "    }\n",
              "\n",
              "    .dataframe thead th {\n",
              "        text-align: right;\n",
              "    }\n",
              "</style>\n",
              "<table border=\"1\" class=\"dataframe\">\n",
              "  <thead>\n",
              "    <tr style=\"text-align: right;\">\n",
              "      <th></th>\n",
              "      <th>ID</th>\n",
              "      <th>review_es</th>\n",
              "      <th>sentimiento</th>\n",
              "    </tr>\n",
              "  </thead>\n",
              "  <tbody>\n",
              "    <tr>\n",
              "      <th>0</th>\n",
              "      <td>0</td>\n",
              "      <td>Uno de los otros críticos ha mencionado que de...</td>\n",
              "      <td>positivo</td>\n",
              "    </tr>\n",
              "    <tr>\n",
              "      <th>1</th>\n",
              "      <td>1</td>\n",
              "      <td>Una pequeña pequeña producción.La técnica de f...</td>\n",
              "      <td>positivo</td>\n",
              "    </tr>\n",
              "    <tr>\n",
              "      <th>2</th>\n",
              "      <td>2</td>\n",
              "      <td>Pensé que esta era una manera maravillosa de p...</td>\n",
              "      <td>positivo</td>\n",
              "    </tr>\n",
              "    <tr>\n",
              "      <th>3</th>\n",
              "      <td>3</td>\n",
              "      <td>Básicamente, hay una familia donde un niño peq...</td>\n",
              "      <td>negativo</td>\n",
              "    </tr>\n",
              "    <tr>\n",
              "      <th>4</th>\n",
              "      <td>4</td>\n",
              "      <td>El \"amor en el tiempo\" de Petter Mattei es una...</td>\n",
              "      <td>positivo</td>\n",
              "    </tr>\n",
              "    <tr>\n",
              "      <th>...</th>\n",
              "      <td>...</td>\n",
              "      <td>...</td>\n",
              "      <td>...</td>\n",
              "    </tr>\n",
              "    <tr>\n",
              "      <th>49995</th>\n",
              "      <td>49995</td>\n",
              "      <td>Pensé que esta película hizo un buen trabajo a...</td>\n",
              "      <td>positivo</td>\n",
              "    </tr>\n",
              "    <tr>\n",
              "      <th>49996</th>\n",
              "      <td>49996</td>\n",
              "      <td>Mala parcela, mal diálogo, mala actuación, dir...</td>\n",
              "      <td>negativo</td>\n",
              "    </tr>\n",
              "    <tr>\n",
              "      <th>49997</th>\n",
              "      <td>49997</td>\n",
              "      <td>Soy católica enseñada en escuelas primarias pa...</td>\n",
              "      <td>negativo</td>\n",
              "    </tr>\n",
              "    <tr>\n",
              "      <th>49998</th>\n",
              "      <td>49998</td>\n",
              "      <td>Voy a tener que estar en desacuerdo con el com...</td>\n",
              "      <td>negativo</td>\n",
              "    </tr>\n",
              "    <tr>\n",
              "      <th>49999</th>\n",
              "      <td>49999</td>\n",
              "      <td>Nadie espera que las películas de Star Trek se...</td>\n",
              "      <td>negativo</td>\n",
              "    </tr>\n",
              "  </tbody>\n",
              "</table>\n",
              "<p>50000 rows × 3 columns</p>\n",
              "</div>\n",
              "    <div class=\"colab-df-buttons\">\n",
              "\n",
              "  <div class=\"colab-df-container\">\n",
              "    <button class=\"colab-df-convert\" onclick=\"convertToInteractive('df-3ed76138-c940-4b14-876a-d4c4f1abc561')\"\n",
              "            title=\"Convert this dataframe to an interactive table.\"\n",
              "            style=\"display:none;\">\n",
              "\n",
              "  <svg xmlns=\"http://www.w3.org/2000/svg\" height=\"24px\" viewBox=\"0 -960 960 960\">\n",
              "    <path d=\"M120-120v-720h720v720H120Zm60-500h600v-160H180v160Zm220 220h160v-160H400v160Zm0 220h160v-160H400v160ZM180-400h160v-160H180v160Zm440 0h160v-160H620v160ZM180-180h160v-160H180v160Zm440 0h160v-160H620v160Z\"/>\n",
              "  </svg>\n",
              "    </button>\n",
              "\n",
              "  <style>\n",
              "    .colab-df-container {\n",
              "      display:flex;\n",
              "      gap: 12px;\n",
              "    }\n",
              "\n",
              "    .colab-df-convert {\n",
              "      background-color: #E8F0FE;\n",
              "      border: none;\n",
              "      border-radius: 50%;\n",
              "      cursor: pointer;\n",
              "      display: none;\n",
              "      fill: #1967D2;\n",
              "      height: 32px;\n",
              "      padding: 0 0 0 0;\n",
              "      width: 32px;\n",
              "    }\n",
              "\n",
              "    .colab-df-convert:hover {\n",
              "      background-color: #E2EBFA;\n",
              "      box-shadow: 0px 1px 2px rgba(60, 64, 67, 0.3), 0px 1px 3px 1px rgba(60, 64, 67, 0.15);\n",
              "      fill: #174EA6;\n",
              "    }\n",
              "\n",
              "    .colab-df-buttons div {\n",
              "      margin-bottom: 4px;\n",
              "    }\n",
              "\n",
              "    [theme=dark] .colab-df-convert {\n",
              "      background-color: #3B4455;\n",
              "      fill: #D2E3FC;\n",
              "    }\n",
              "\n",
              "    [theme=dark] .colab-df-convert:hover {\n",
              "      background-color: #434B5C;\n",
              "      box-shadow: 0px 1px 3px 1px rgba(0, 0, 0, 0.15);\n",
              "      filter: drop-shadow(0px 1px 2px rgba(0, 0, 0, 0.3));\n",
              "      fill: #FFFFFF;\n",
              "    }\n",
              "  </style>\n",
              "\n",
              "    <script>\n",
              "      const buttonEl =\n",
              "        document.querySelector('#df-3ed76138-c940-4b14-876a-d4c4f1abc561 button.colab-df-convert');\n",
              "      buttonEl.style.display =\n",
              "        google.colab.kernel.accessAllowed ? 'block' : 'none';\n",
              "\n",
              "      async function convertToInteractive(key) {\n",
              "        const element = document.querySelector('#df-3ed76138-c940-4b14-876a-d4c4f1abc561');\n",
              "        const dataTable =\n",
              "          await google.colab.kernel.invokeFunction('convertToInteractive',\n",
              "                                                    [key], {});\n",
              "        if (!dataTable) return;\n",
              "\n",
              "        const docLinkHtml = 'Like what you see? Visit the ' +\n",
              "          '<a target=\"_blank\" href=https://colab.research.google.com/notebooks/data_table.ipynb>data table notebook</a>'\n",
              "          + ' to learn more about interactive tables.';\n",
              "        element.innerHTML = '';\n",
              "        dataTable['output_type'] = 'display_data';\n",
              "        await google.colab.output.renderOutput(dataTable, element);\n",
              "        const docLink = document.createElement('div');\n",
              "        docLink.innerHTML = docLinkHtml;\n",
              "        element.appendChild(docLink);\n",
              "      }\n",
              "    </script>\n",
              "  </div>\n",
              "\n",
              "\n",
              "<div id=\"df-09997e41-182c-4dfa-a47f-65dbc4f9ec56\">\n",
              "  <button class=\"colab-df-quickchart\" onclick=\"quickchart('df-09997e41-182c-4dfa-a47f-65dbc4f9ec56')\"\n",
              "            title=\"Suggest charts\"\n",
              "            style=\"display:none;\">\n",
              "\n",
              "<svg xmlns=\"http://www.w3.org/2000/svg\" height=\"24px\"viewBox=\"0 0 24 24\"\n",
              "     width=\"24px\">\n",
              "    <g>\n",
              "        <path d=\"M19 3H5c-1.1 0-2 .9-2 2v14c0 1.1.9 2 2 2h14c1.1 0 2-.9 2-2V5c0-1.1-.9-2-2-2zM9 17H7v-7h2v7zm4 0h-2V7h2v10zm4 0h-2v-4h2v4z\"/>\n",
              "    </g>\n",
              "</svg>\n",
              "  </button>\n",
              "\n",
              "<style>\n",
              "  .colab-df-quickchart {\n",
              "      --bg-color: #E8F0FE;\n",
              "      --fill-color: #1967D2;\n",
              "      --hover-bg-color: #E2EBFA;\n",
              "      --hover-fill-color: #174EA6;\n",
              "      --disabled-fill-color: #AAA;\n",
              "      --disabled-bg-color: #DDD;\n",
              "  }\n",
              "\n",
              "  [theme=dark] .colab-df-quickchart {\n",
              "      --bg-color: #3B4455;\n",
              "      --fill-color: #D2E3FC;\n",
              "      --hover-bg-color: #434B5C;\n",
              "      --hover-fill-color: #FFFFFF;\n",
              "      --disabled-bg-color: #3B4455;\n",
              "      --disabled-fill-color: #666;\n",
              "  }\n",
              "\n",
              "  .colab-df-quickchart {\n",
              "    background-color: var(--bg-color);\n",
              "    border: none;\n",
              "    border-radius: 50%;\n",
              "    cursor: pointer;\n",
              "    display: none;\n",
              "    fill: var(--fill-color);\n",
              "    height: 32px;\n",
              "    padding: 0;\n",
              "    width: 32px;\n",
              "  }\n",
              "\n",
              "  .colab-df-quickchart:hover {\n",
              "    background-color: var(--hover-bg-color);\n",
              "    box-shadow: 0 1px 2px rgba(60, 64, 67, 0.3), 0 1px 3px 1px rgba(60, 64, 67, 0.15);\n",
              "    fill: var(--button-hover-fill-color);\n",
              "  }\n",
              "\n",
              "  .colab-df-quickchart-complete:disabled,\n",
              "  .colab-df-quickchart-complete:disabled:hover {\n",
              "    background-color: var(--disabled-bg-color);\n",
              "    fill: var(--disabled-fill-color);\n",
              "    box-shadow: none;\n",
              "  }\n",
              "\n",
              "  .colab-df-spinner {\n",
              "    border: 2px solid var(--fill-color);\n",
              "    border-color: transparent;\n",
              "    border-bottom-color: var(--fill-color);\n",
              "    animation:\n",
              "      spin 1s steps(1) infinite;\n",
              "  }\n",
              "\n",
              "  @keyframes spin {\n",
              "    0% {\n",
              "      border-color: transparent;\n",
              "      border-bottom-color: var(--fill-color);\n",
              "      border-left-color: var(--fill-color);\n",
              "    }\n",
              "    20% {\n",
              "      border-color: transparent;\n",
              "      border-left-color: var(--fill-color);\n",
              "      border-top-color: var(--fill-color);\n",
              "    }\n",
              "    30% {\n",
              "      border-color: transparent;\n",
              "      border-left-color: var(--fill-color);\n",
              "      border-top-color: var(--fill-color);\n",
              "      border-right-color: var(--fill-color);\n",
              "    }\n",
              "    40% {\n",
              "      border-color: transparent;\n",
              "      border-right-color: var(--fill-color);\n",
              "      border-top-color: var(--fill-color);\n",
              "    }\n",
              "    60% {\n",
              "      border-color: transparent;\n",
              "      border-right-color: var(--fill-color);\n",
              "    }\n",
              "    80% {\n",
              "      border-color: transparent;\n",
              "      border-right-color: var(--fill-color);\n",
              "      border-bottom-color: var(--fill-color);\n",
              "    }\n",
              "    90% {\n",
              "      border-color: transparent;\n",
              "      border-bottom-color: var(--fill-color);\n",
              "    }\n",
              "  }\n",
              "</style>\n",
              "\n",
              "  <script>\n",
              "    async function quickchart(key) {\n",
              "      const quickchartButtonEl =\n",
              "        document.querySelector('#' + key + ' button');\n",
              "      quickchartButtonEl.disabled = true;  // To prevent multiple clicks.\n",
              "      quickchartButtonEl.classList.add('colab-df-spinner');\n",
              "      try {\n",
              "        const charts = await google.colab.kernel.invokeFunction(\n",
              "            'suggestCharts', [key], {});\n",
              "      } catch (error) {\n",
              "        console.error('Error during call to suggestCharts:', error);\n",
              "      }\n",
              "      quickchartButtonEl.classList.remove('colab-df-spinner');\n",
              "      quickchartButtonEl.classList.add('colab-df-quickchart-complete');\n",
              "    }\n",
              "    (() => {\n",
              "      let quickchartButtonEl =\n",
              "        document.querySelector('#df-09997e41-182c-4dfa-a47f-65dbc4f9ec56 button');\n",
              "      quickchartButtonEl.style.display =\n",
              "        google.colab.kernel.accessAllowed ? 'block' : 'none';\n",
              "    })();\n",
              "  </script>\n",
              "</div>\n",
              "    </div>\n",
              "  </div>\n"
            ]
          },
          "metadata": {},
          "execution_count": 2
        }
      ]
    },
    {
      "cell_type": "markdown",
      "source": [
        "# Preprocesamiento"
      ],
      "metadata": {
        "id": "m-rFU8CLdKTI"
      }
    },
    {
      "cell_type": "markdown",
      "source": [
        "## Definimos una funcion para quitar letras con tildes"
      ],
      "metadata": {
        "id": "KrPDIhFmdd9C"
      }
    },
    {
      "cell_type": "code",
      "source": [
        "def remove_tildes(text):\n",
        "    remove = ((\"á\", \"a\"),(\"é\", \"e\"),(\"í\", \"i\"),(\"ó\", \"o\"),(\"ú\", \"u\"))\n",
        "\n",
        "    for a, b in remove:\n",
        "        text = text.replace(a, b).replace(a.upper(), b.upper())\n",
        "    return text"
      ],
      "metadata": {
        "id": "_VobvzPXdgnk"
      },
      "execution_count": 3,
      "outputs": []
    },
    {
      "cell_type": "markdown",
      "source": [
        "## Stop words\n",
        "- Usaremos stopWords tanto en español como en ingles y les haremos un procesamiento para quitar las tildes."
      ],
      "metadata": {
        "id": "HtJqYjRQgo39"
      }
    },
    {
      "cell_type": "code",
      "source": [
        "# Por recomendacion generales de la comunidad, quitaremos las tildes de las stop words.\n",
        "stop_words = stopwords.words(\"english\") + stopwords.words(\"spanish\")\n",
        "stop_words = [remove_tildes(word) for word in stop_words]"
      ],
      "metadata": {
        "id": "fzMnNU9UdLVA"
      },
      "execution_count": 4,
      "outputs": []
    },
    {
      "cell_type": "markdown",
      "source": [
        "## Vectorizacion\n",
        "Para vectorizar utilizaremos TfidfVectorizer ya que por indicaciones de la catedra y pruebas del equipo suele ofrecer una mejora en el rendimiento.\n",
        "\n",
        "### Parametros de TfidfVectorizer:\n",
        "1.   **max_features:** Este parámetro especifica el número máximo de características (términos o palabras) que se deben extraer y tener en cuenta. Por ejemplo, en 2000, significa que solo se considerarán las 2000 palabras más frecuentes en el conjunto de documentos. Probamos con utilizar diversos valores en este campo, (1000, 2500, 5000) y el mejor resultado lo conseguimos dejandolo con valores default.\n",
        "\n",
        "2.   **stop_words:** Este parámetro se utiliza para especificar una lista de palabras comunes que se deben omitir durante el proceso de vectorización. Las palabras \"stop words\" suelen ser palabras muy comunes en un idioma (como \"the\", \"and\", \"is\", etc.) que no aportan mucha información sobre el contenido del texto y pueden ser eliminadas para mejorar la eficiencia y la relevancia del análisis.\n",
        "\n",
        "3. **strip_accents:** Este parámetro indica si se deben eliminar o reemplazar acentos y diacríticos durante el preprocesamiento del texto."
      ],
      "metadata": {
        "id": "5UxT0g1QfGsw"
      }
    },
    {
      "cell_type": "code",
      "source": [
        "vectorizer = TfidfVectorizer(stop_words = stop_words, strip_accents = \"unicode\")"
      ],
      "metadata": {
        "id": "eWSW6yyOfH-d"
      },
      "execution_count": 5,
      "outputs": []
    },
    {
      "cell_type": "markdown",
      "source": [
        "# 3. Dividir conjunto train y test"
      ],
      "metadata": {
        "id": "hVZLtVH6F73C"
      }
    },
    {
      "cell_type": "code",
      "source": [
        "df_trabajo_train['sentimiento'] = df_trabajo_train['sentimiento'].map({'positivo': 1, 'negativo': 0})\n",
        "x_train, x_test, y_train, y_test = train_test_split(df_trabajo_train.review_es, df_trabajo_train.sentimiento, test_size = 0.30, random_state = 25, shuffle = True)"
      ],
      "metadata": {
        "id": "kAeQkUKsF-93"
      },
      "execution_count": 6,
      "outputs": []
    },
    {
      "cell_type": "markdown",
      "source": [
        "# 4. Instancio, entreno y testeo modelos\n",
        "\n",
        "Se entrenaran modelos Naive Bayes Multinomial utilizando una tokenizacion con el *vectorizer* creado anteriormente."
      ],
      "metadata": {
        "id": "EDpnYqHfHV1G"
      }
    },
    {
      "cell_type": "code",
      "source": [
        "model_tfid = make_pipeline(vectorizer, xgb.XGBClassifier(random_state=0, n_estimators=100))\n",
        "\n",
        "model_tfid.fit(x_train, y_train)\n",
        "\n",
        "model_tfid_prediction = model_tfid.predict(x_test)"
      ],
      "metadata": {
        "id": "WPErV4GwHZ-d"
      },
      "execution_count": 7,
      "outputs": []
    },
    {
      "cell_type": "markdown",
      "source": [
        "# 5. Evaluo y visualizo resultados"
      ],
      "metadata": {
        "id": "uGX2HhbLKWhc"
      }
    },
    {
      "cell_type": "code",
      "source": [
        "print(\"Matrix de confusion de TFID:\")\n",
        "print(confusion_matrix(y_test, model_tfid_prediction))\n",
        "\n",
        "print()\n",
        "\n",
        "print(\"TFID Metrics:\")\n",
        "print(metrics.classification_report(y_test, model_tfid_prediction))\n"
      ],
      "metadata": {
        "colab": {
          "base_uri": "https://localhost:8080/"
        },
        "id": "hjEqCEmAKZSz",
        "outputId": "2b370130-e1d3-4069-fd47-039c5bed8c87"
      },
      "execution_count": 8,
      "outputs": [
        {
          "output_type": "stream",
          "name": "stdout",
          "text": [
            "Matrix de confusion de TFID:\n",
            "[[6158 1441]\n",
            " [1012 6389]]\n",
            "\n",
            "TFID Metrics:\n",
            "              precision    recall  f1-score   support\n",
            "\n",
            "           0       0.86      0.81      0.83      7599\n",
            "           1       0.82      0.86      0.84      7401\n",
            "\n",
            "    accuracy                           0.84     15000\n",
            "   macro avg       0.84      0.84      0.84     15000\n",
            "weighted avg       0.84      0.84      0.84     15000\n",
            "\n"
          ]
        }
      ]
    },
    {
      "cell_type": "markdown",
      "source": [
        "Tal y como preveimos, TFI es superior."
      ],
      "metadata": {
        "id": "StmEOo-9WJhe"
      }
    },
    {
      "cell_type": "markdown",
      "source": [
        "# 5.1 Busqueda de los mejores hiperparametros"
      ],
      "metadata": {
        "id": "OU0_xu6VPwPR"
      }
    },
    {
      "cell_type": "code",
      "source": [
        "parameters = {\n",
        "}\n",
        "\n",
        "# Los siguientes parametros fueron especialmente seleccionados ya que fueron los mas optimos al momento de optimizar los datos en otro cuaderno. En aquel cuaderno se realizo el mismo procesamiento de datos, pero en lugar\n",
        "# de utilizar un pipeline, se realizo la vectorizacion previo a la separacion de conjuntos de tests y train. Sin embargo, haciendo la vectorizacion de esa manera se reciben peores resultados, asi que se decidio utilizar\n",
        "# el pipeline y los parametros optimizados del modelo entrenado en la otra notebook.\n",
        "\n",
        "# Sin embargo al intentar hacer optimizacion de hiperparametros con el pipeline tira error, no se porque. Asi que la mejor solucion fue esta.\n",
        "optimized = make_pipeline(vectorizer, xgb.XGBClassifier(random_state=0, subsample = 0.8, n_estimators = 300, min_child_weight = 1, max_depth = 4, learning_rate = 0.2, colsample_bytree = 1.0))\n",
        "\n",
        "grid_search = GridSearchCV(optimized, parameters, cv=5, n_jobs=-1)\n",
        "\n",
        "grid_search.fit(x_train, y_train)\n",
        "\n",
        "# Imprimir los mejores parámetros encontrados\n",
        "print(\"Mejores parámetros encontrados:\")\n",
        "print(grid_search.best_params_)\n",
        "\n",
        "# Evaluar el rendimiento accuracy en el conjunto de prueba\n",
        "accuracy = grid_search.score(x_test, y_test)\n",
        "print(f\"Precisión en el conjunto de prueba: {accuracy}\")\n",
        "\n",
        "best_model = grid_search.best_estimator_"
      ],
      "metadata": {
        "colab": {
          "base_uri": "https://localhost:8080/"
        },
        "id": "Xpw4xSneP1i2",
        "outputId": "70bc7c82-e930-459b-8ce7-10eb5054afd0"
      },
      "execution_count": 9,
      "outputs": [
        {
          "output_type": "stream",
          "name": "stdout",
          "text": [
            "Mejores parámetros encontrados:\n",
            "{}\n",
            "Precisión en el conjunto de prueba: 0.8497333333333333\n"
          ]
        }
      ]
    },
    {
      "cell_type": "markdown",
      "source": [
        "# Analisis de resultados"
      ],
      "metadata": {
        "id": "rlBvqlf1FTW8"
      }
    },
    {
      "cell_type": "code",
      "source": [
        "predict_best_model = best_model.predict(x_test)\n",
        "\n",
        "#Evaluacion y visualizacion de resultados\n",
        "print(\"Matrix de confusion:\")\n",
        "print(confusion_matrix(y_test, predict_best_model))\n",
        "\n",
        "print()\n",
        "\n",
        "print(\"Metrics:\")\n",
        "print(metrics.classification_report(y_test, predict_best_model))"
      ],
      "metadata": {
        "colab": {
          "base_uri": "https://localhost:8080/"
        },
        "id": "RaCna5YnFVhh",
        "outputId": "c23f0e9f-daf7-49bc-dbb0-19f42b7e0b35"
      },
      "execution_count": 10,
      "outputs": [
        {
          "output_type": "stream",
          "name": "stdout",
          "text": [
            "Matrix de confusion:\n",
            "[[6286 1313]\n",
            " [ 941 6460]]\n",
            "\n",
            "Metrics:\n",
            "              precision    recall  f1-score   support\n",
            "\n",
            "           0       0.87      0.83      0.85      7599\n",
            "           1       0.83      0.87      0.85      7401\n",
            "\n",
            "    accuracy                           0.85     15000\n",
            "   macro avg       0.85      0.85      0.85     15000\n",
            "weighted avg       0.85      0.85      0.85     15000\n",
            "\n"
          ]
        }
      ]
    },
    {
      "cell_type": "markdown",
      "source": [
        "# 6. Pasamos a evaluar con el conjunto test real"
      ],
      "metadata": {
        "id": "3kEtX9SeYt8G"
      }
    },
    {
      "cell_type": "code",
      "source": [
        "dft = pd.read_csv(\"test.csv\")\n",
        "ds_test = dft.copy()\n",
        "\n",
        "ds_test_ID = ds_test.ID\n",
        "ds_test_for_predict = ds_test.review_es\n",
        "\n",
        "test_prediction = best_model.predict(ds_test_for_predict)\n",
        "test_prediction = np.where(test_prediction == 1, 'positivo', 'negativo')\n",
        "\n",
        "ds_submission = pd.DataFrame({'ID': ds_test['ID'], 'sentimiento': test_prediction})\n",
        "ds_submission.to_csv('./prediccion_final.csv', index=False)\n",
        "\n",
        "joblib.dump(best_model, 'xg_boost_entrenado.joblib')"
      ],
      "metadata": {
        "id": "TKifdZw_Y0Gr",
        "colab": {
          "base_uri": "https://localhost:8080/"
        },
        "outputId": "eee3a95b-1304-4f1d-c151-4dc33e01e3fd"
      },
      "execution_count": 12,
      "outputs": [
        {
          "output_type": "execute_result",
          "data": {
            "text/plain": [
              "['xg_boost_entrenado.joblib']"
            ]
          },
          "metadata": {},
          "execution_count": 12
        }
      ]
    }
  ]
}