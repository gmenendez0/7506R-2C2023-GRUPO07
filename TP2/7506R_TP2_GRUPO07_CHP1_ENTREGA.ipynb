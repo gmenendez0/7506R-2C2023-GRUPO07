{
  "nbformat": 4,
  "nbformat_minor": 0,
  "metadata": {
    "colab": {
      "provenance": [],
      "collapsed_sections": [
        "5LFdZ0tey-RI"
      ]
    },
    "kernelspec": {
      "name": "python3",
      "display_name": "Python 3"
    },
    "language_info": {
      "name": "python"
    }
  },
  "cells": [
    {
      "cell_type": "markdown",
      "source": [
        "#Imports y definiciones"
      ],
      "metadata": {
        "id": "2Tn5a0vEGtPK"
      }
    },
    {
      "cell_type": "code",
      "execution_count": 1,
      "metadata": {
        "colab": {
          "base_uri": "https://localhost:8080/"
        },
        "id": "7pLo9jXwF3Vd",
        "outputId": "3f2e9358-8260-4480-efc6-ded958edfab8"
      },
      "outputs": [
        {
          "output_type": "stream",
          "name": "stdout",
          "text": [
            "Collecting dtreeviz\n",
            "  Downloading dtreeviz-2.2.2-py3-none-any.whl (91 kB)\n",
            "\u001b[?25l     \u001b[90m━━━━━━━━━━━━━━━━━━━━━━━━━━━━━━━━━━━━━━━━\u001b[0m \u001b[32m0.0/91.8 kB\u001b[0m \u001b[31m?\u001b[0m eta \u001b[36m-:--:--\u001b[0m\r\u001b[2K     \u001b[91m━━━━━━━━━━━━━━━━━━━━━━━━━━━━━━━━━━━\u001b[0m\u001b[91m╸\u001b[0m\u001b[90m━━━━\u001b[0m \u001b[32m81.9/91.8 kB\u001b[0m \u001b[31m2.4 MB/s\u001b[0m eta \u001b[36m0:00:01\u001b[0m\r\u001b[2K     \u001b[90m━━━━━━━━━━━━━━━━━━━━━━━━━━━━━━━━━━━━━━━━\u001b[0m \u001b[32m91.8/91.8 kB\u001b[0m \u001b[31m2.2 MB/s\u001b[0m eta \u001b[36m0:00:00\u001b[0m\n",
            "\u001b[?25hRequirement already satisfied: graphviz>=0.9 in /usr/local/lib/python3.10/dist-packages (from dtreeviz) (0.20.1)\n",
            "Requirement already satisfied: pandas in /usr/local/lib/python3.10/dist-packages (from dtreeviz) (1.5.3)\n",
            "Requirement already satisfied: numpy in /usr/local/lib/python3.10/dist-packages (from dtreeviz) (1.23.5)\n",
            "Requirement already satisfied: scikit-learn in /usr/local/lib/python3.10/dist-packages (from dtreeviz) (1.2.2)\n",
            "Requirement already satisfied: matplotlib in /usr/local/lib/python3.10/dist-packages (from dtreeviz) (3.7.1)\n",
            "Requirement already satisfied: colour in /usr/local/lib/python3.10/dist-packages (from dtreeviz) (0.1.5)\n",
            "Requirement already satisfied: pytest in /usr/local/lib/python3.10/dist-packages (from dtreeviz) (7.4.3)\n",
            "Requirement already satisfied: contourpy>=1.0.1 in /usr/local/lib/python3.10/dist-packages (from matplotlib->dtreeviz) (1.2.0)\n",
            "Requirement already satisfied: cycler>=0.10 in /usr/local/lib/python3.10/dist-packages (from matplotlib->dtreeviz) (0.12.1)\n",
            "Requirement already satisfied: fonttools>=4.22.0 in /usr/local/lib/python3.10/dist-packages (from matplotlib->dtreeviz) (4.44.3)\n",
            "Requirement already satisfied: kiwisolver>=1.0.1 in /usr/local/lib/python3.10/dist-packages (from matplotlib->dtreeviz) (1.4.5)\n",
            "Requirement already satisfied: packaging>=20.0 in /usr/local/lib/python3.10/dist-packages (from matplotlib->dtreeviz) (23.2)\n",
            "Requirement already satisfied: pillow>=6.2.0 in /usr/local/lib/python3.10/dist-packages (from matplotlib->dtreeviz) (9.4.0)\n",
            "Requirement already satisfied: pyparsing>=2.3.1 in /usr/local/lib/python3.10/dist-packages (from matplotlib->dtreeviz) (3.1.1)\n",
            "Requirement already satisfied: python-dateutil>=2.7 in /usr/local/lib/python3.10/dist-packages (from matplotlib->dtreeviz) (2.8.2)\n",
            "Requirement already satisfied: pytz>=2020.1 in /usr/local/lib/python3.10/dist-packages (from pandas->dtreeviz) (2023.3.post1)\n",
            "Requirement already satisfied: iniconfig in /usr/local/lib/python3.10/dist-packages (from pytest->dtreeviz) (2.0.0)\n",
            "Requirement already satisfied: pluggy<2.0,>=0.12 in /usr/local/lib/python3.10/dist-packages (from pytest->dtreeviz) (1.3.0)\n",
            "Requirement already satisfied: exceptiongroup>=1.0.0rc8 in /usr/local/lib/python3.10/dist-packages (from pytest->dtreeviz) (1.1.3)\n",
            "Requirement already satisfied: tomli>=1.0.0 in /usr/local/lib/python3.10/dist-packages (from pytest->dtreeviz) (2.0.1)\n",
            "Requirement already satisfied: scipy>=1.3.2 in /usr/local/lib/python3.10/dist-packages (from scikit-learn->dtreeviz) (1.11.3)\n",
            "Requirement already satisfied: joblib>=1.1.1 in /usr/local/lib/python3.10/dist-packages (from scikit-learn->dtreeviz) (1.3.2)\n",
            "Requirement already satisfied: threadpoolctl>=2.0.0 in /usr/local/lib/python3.10/dist-packages (from scikit-learn->dtreeviz) (3.2.0)\n",
            "Requirement already satisfied: six>=1.5 in /usr/local/lib/python3.10/dist-packages (from python-dateutil>=2.7->matplotlib->dtreeviz) (1.16.0)\n",
            "Installing collected packages: dtreeviz\n",
            "Successfully installed dtreeviz-2.2.2\n"
          ]
        },
        {
          "output_type": "stream",
          "name": "stderr",
          "text": [
            "[nltk_data] Downloading package stopwords to /root/nltk_data...\n",
            "[nltk_data]   Unzipping corpora/stopwords.zip.\n",
            "[nltk_data] Downloading package punkt to /root/nltk_data...\n",
            "[nltk_data]   Unzipping tokenizers/punkt.zip.\n"
          ]
        }
      ],
      "source": [
        "import sklearn as sk\n",
        "import pandas as pd\n",
        "import numpy as np\n",
        "import joblib\n",
        "#Visualización\n",
        "import matplotlib.pyplot as plt\n",
        "import seaborn as sns\n",
        "\n",
        "#modelos y métricas\n",
        "from sklearn.model_selection import train_test_split\n",
        "from sklearn.metrics import precision_score, recall_score, accuracy_score,f1_score,make_scorer\n",
        "from sklearn.metrics import confusion_matrix, classification_report\n",
        "from sklearn.datasets import make_classification\n",
        "from sklearn.model_selection import StratifiedKFold, KFold,RandomizedSearchCV,GridSearchCV,cross_validate\n",
        "# pre-procesamiento\n",
        "from sklearn.feature_extraction.text import CountVectorizer, TfidfVectorizer\n",
        "from sklearn.naive_bayes import MultinomialNB\n",
        "from sklearn.pipeline import make_pipeline\n",
        "#xgboost\n",
        "import xgboost as xgb\n",
        "#ensambles hibridos\n",
        "from sklearn.ensemble import StackingClassifier, VotingClassifier\n",
        "from sklearn.linear_model import LogisticRegressionCV\n",
        "\n",
        "#RFC\n",
        "!pip install 'dtreeviz'\n",
        "import dtreeviz.trees as dtreeviz\n",
        "from sklearn import tree\n",
        "from sklearn.ensemble import RandomForestClassifier\n",
        "from sklearn.metrics import precision_recall_curve, roc_curve, recall_score, accuracy_score,f1_score\n",
        "#\n",
        "import numpy as np\n",
        "import seaborn as sns\n",
        "import joblib\n",
        "import nltk\n",
        "from nltk import tokenize\n",
        "nltk.download('stopwords')\n",
        "nltk.download('punkt')\n",
        "from nltk.corpus import stopwords\n",
        "import re\n",
        "\n",
        "from six import StringIO\n",
        "import pydotplus\n",
        "from IPython.display import Image\n",
        "\n",
        "from sklearn.tree import export_graphviz\n",
        "#configuración warnings\n",
        "import warnings\n",
        "warnings.simplefilter(action='ignore', category=FutureWarning)\n",
        "warnings.simplefilter(action='ignore', category=UserWarning)"
      ]
    },
    {
      "cell_type": "code",
      "source": [
        "def mostrar_metricas(y_pred,y_test):\n",
        "\n",
        "  print(classification_report(y_test,y_pred))\n",
        "\n",
        "  cm = confusion_matrix(y_test,y_pred)\n",
        "  sns.heatmap(cm, cmap='Blues',annot=True,fmt='g')\n",
        "  plt.xlabel('Predicted')\n",
        "  plt.ylabel('True')"
      ],
      "metadata": {
        "id": "fJJ7y-itG0Xr"
      },
      "execution_count": 2,
      "outputs": []
    },
    {
      "cell_type": "markdown",
      "source": [
        "#Preprocesamiento"
      ],
      "metadata": {
        "id": "ep-CYa_oHH2F"
      }
    },
    {
      "cell_type": "code",
      "source": [
        "# Cargamos el ds train y test\n",
        "dsReviewTest = pd.read_csv(\"test.csv\")\n",
        "dsReviewTestCopy = dsReviewTest.copy()\n",
        "\n",
        "df = pd.read_csv(\"train.csv\")\n",
        "ds_trabajo = df.copy()\n",
        "# Semilla\n",
        "SEED = 7"
      ],
      "metadata": {
        "id": "2CGxe_CXG4HE"
      },
      "execution_count": 3,
      "outputs": []
    },
    {
      "cell_type": "code",
      "source": [
        "ds_trabajo.info()"
      ],
      "metadata": {
        "colab": {
          "base_uri": "https://localhost:8080/"
        },
        "id": "4STY0y-uHV4U",
        "outputId": "c2c83af5-4154-463a-d939-265c60d5aa67"
      },
      "execution_count": 4,
      "outputs": [
        {
          "output_type": "stream",
          "name": "stdout",
          "text": [
            "<class 'pandas.core.frame.DataFrame'>\n",
            "RangeIndex: 50000 entries, 0 to 49999\n",
            "Data columns (total 3 columns):\n",
            " #   Column       Non-Null Count  Dtype \n",
            "---  ------       --------------  ----- \n",
            " 0   ID           50000 non-null  int64 \n",
            " 1   review_es    50000 non-null  object\n",
            " 2   sentimiento  50000 non-null  object\n",
            "dtypes: int64(1), object(2)\n",
            "memory usage: 1.1+ MB\n"
          ]
        }
      ]
    },
    {
      "cell_type": "code",
      "source": [
        "ds_trabajo.sentimiento.value_counts()"
      ],
      "metadata": {
        "colab": {
          "base_uri": "https://localhost:8080/"
        },
        "id": "oq8O4Z7Bpuwc",
        "outputId": "19243852-a2cb-4799-841a-e3f5a640e092"
      },
      "execution_count": 5,
      "outputs": [
        {
          "output_type": "execute_result",
          "data": {
            "text/plain": [
              "positivo    25000\n",
              "negativo    25000\n",
              "Name: sentimiento, dtype: int64"
            ]
          },
          "metadata": {},
          "execution_count": 5
        }
      ]
    },
    {
      "cell_type": "code",
      "source": [
        "#TODO elimar resenas que no estan en espanol(?)"
      ],
      "metadata": {
        "id": "9qI8hyf8SmuY"
      },
      "execution_count": 6,
      "outputs": []
    },
    {
      "cell_type": "markdown",
      "source": [
        "## Definimos una funcion para quitar letras con tildes"
      ],
      "metadata": {
        "id": "KrPDIhFmdd9C"
      }
    },
    {
      "cell_type": "code",
      "source": [
        "def remove_tildes(text):\n",
        "    remove = ((\"á\", \"a\"),(\"é\", \"e\"),(\"í\", \"i\"),(\"ó\", \"o\"),(\"ú\", \"u\"))\n",
        "\n",
        "    for a, b in remove:\n",
        "        text = text.replace(a, b).replace(a.upper(), b.upper())\n",
        "    return text"
      ],
      "metadata": {
        "id": "_VobvzPXdgnk"
      },
      "execution_count": 7,
      "outputs": []
    },
    {
      "cell_type": "markdown",
      "source": [
        "## Stop words\n",
        "- Usaremos stopWords tanto en español como en ingles y les haremos un procesamiento para quitar las tildes."
      ],
      "metadata": {
        "id": "HtJqYjRQgo39"
      }
    },
    {
      "cell_type": "code",
      "source": [
        "# Por recomendacion generales de la comunidad, quitaremos las tildes de las stop words.\n",
        "stop_words = stopwords.words(\"english\") + stopwords.words(\"spanish\")\n",
        "stop_words = [remove_tildes(word) for word in stop_words]"
      ],
      "metadata": {
        "id": "fzMnNU9UdLVA"
      },
      "execution_count": 8,
      "outputs": []
    },
    {
      "cell_type": "markdown",
      "source": [
        "## Vectorizacion\n",
        "Para vectorizar utilizaremos TfidfVectorizer ya que por indicaciones de la catedra y pruebas del equipo suele ofrecer una mejora en el rendimiento.\n",
        "\n",
        "### Parametros de TfidfVectorizer:\n",
        "1.   **max_features:** Este parámetro especifica el número máximo de características (términos o palabras) que se deben extraer y tener en cuenta. Por ejemplo, en 2000, significa que solo se considerarán las 2000 palabras más frecuentes en el conjunto de documentos. Probamos con utilizar diversos valores en este campo, (1000, 2500, 5000) y el mejor resultado lo conseguimos dejandolo con valores default.\n",
        "\n",
        "2.   **stop_words:** Este parámetro se utiliza para especificar una lista de palabras comunes que se deben omitir durante el proceso de vectorización. Las palabras \"stop words\" suelen ser palabras muy comunes en un idioma (como \"the\", \"and\", \"is\", etc.) que no aportan mucha información sobre el contenido del texto y pueden ser eliminadas para mejorar la eficiencia y la relevancia del análisis.\n",
        "\n",
        "3. **strip_accents:** Este parámetro indica si se deben eliminar o reemplazar acentos y diacríticos durante el preprocesamiento del texto."
      ],
      "metadata": {
        "id": "5UxT0g1QfGsw"
      }
    },
    {
      "cell_type": "code",
      "source": [
        "vectorizer = TfidfVectorizer(stop_words = stop_words, strip_accents = \"unicode\")"
      ],
      "metadata": {
        "id": "eWSW6yyOfH-d"
      },
      "execution_count": 9,
      "outputs": []
    },
    {
      "cell_type": "code",
      "source": [
        "# mapeamos las etiquetas positivo, negativo a 1 y 0\n",
        "ds_trabajo['sentimiento'] = ds_trabajo['sentimiento'].map({'positivo': 1, 'negativo': 0})"
      ],
      "metadata": {
        "id": "ktLC5bozhKGR"
      },
      "execution_count": 10,
      "outputs": []
    },
    {
      "cell_type": "code",
      "source": [
        "#Genero los conjuntos de train y de test\n",
        "# target = 'sentimiento'\n",
        "# ds_trabajo_x = ds_trabajo.drop([target,'ID'], axis='columns', inplace=False)\n",
        "# ds_trabajo_y = ds_trabajo[target].copy()\n",
        "\n",
        "x_train, x_test, y_train, y_test = train_test_split(ds_trabajo.review_es,\n",
        "                              ds_trabajo.sentimiento,\n",
        "                              test_size = 0.2,\n",
        "                              random_state = 7,\n",
        "                              shuffle =True\n",
        "                              )"
      ],
      "metadata": {
        "id": "Ewl2I9OfSxUa"
      },
      "execution_count": 11,
      "outputs": []
    },
    {
      "cell_type": "markdown",
      "source": [
        "#Bayes Naive"
      ],
      "metadata": {
        "id": "2qJ81Dd6y4mE"
      }
    },
    {
      "cell_type": "markdown",
      "source": [
        "## Instancio, entreno y testeo modelos\n",
        "\n",
        "Se entrenaran modelos Naive Bayes Multinomial y previamente se utilizaran los metodos Bag of Words e Inverse document frequency para evaluar que procesamiento de los datos conviene mas. A priori tendria que ser mas conveniente usar IDF."
      ],
      "metadata": {
        "id": "5LFdZ0tey-RI"
      }
    },
    {
      "cell_type": "code",
      "source": [
        "model_tfid = make_pipeline(TfidfVectorizer(), MultinomialNB())\n",
        "model_CV = make_pipeline(CountVectorizer(), MultinomialNB())\n",
        "\n",
        "model_tfid.fit(x_train, y_train)\n",
        "model_CV.fit(x_train, y_train)\n",
        "\n",
        "model_tfid_prediction = model_tfid.predict(x_test)\n",
        "model_CV_prediction = model_CV.predict(x_test)"
      ],
      "metadata": {
        "id": "7nI2BsvBy-RI"
      },
      "execution_count": 104,
      "outputs": []
    },
    {
      "cell_type": "markdown",
      "source": [
        "## Evaluo y visualizo resultados"
      ],
      "metadata": {
        "id": "MZaoCaxLy-RI"
      }
    },
    {
      "cell_type": "code",
      "source": [
        "print(\"TFID:\")\n",
        "mostrar_metricas(model_tfid_prediction, y_test)"
      ],
      "metadata": {
        "colab": {
          "base_uri": "https://localhost:8080/",
          "height": 630
        },
        "outputId": "be31471b-43dc-4426-cc9c-f8af969f5afb",
        "id": "hZhs6jeLy-RJ"
      },
      "execution_count": 105,
      "outputs": [
        {
          "output_type": "stream",
          "name": "stdout",
          "text": [
            "TFID:\n",
            "              precision    recall  f1-score   support\n",
            "\n",
            "           0       0.84      0.87      0.86      4985\n",
            "           1       0.87      0.84      0.85      5015\n",
            "\n",
            "    accuracy                           0.85     10000\n",
            "   macro avg       0.86      0.85      0.85     10000\n",
            "weighted avg       0.86      0.85      0.85     10000\n",
            "\n"
          ]
        },
        {
          "output_type": "display_data",
          "data": {
            "text/plain": [
              "<Figure size 640x480 with 2 Axes>"
            ],
            "image/png": "[encoded data removed]"
          },
          "metadata": {}
        }
      ]
    },
    {
      "cell_type": "code",
      "source": [
        "print(\"CV\")\n",
        "mostrar_metricas(model_CV_prediction,y_test)"
      ],
      "metadata": {
        "colab": {
          "base_uri": "https://localhost:8080/",
          "height": 630
        },
        "id": "k4u7PgEk2jJc",
        "outputId": "c34f6a0e-1cd3-4694-8784-5b23c80eef8c"
      },
      "execution_count": 106,
      "outputs": [
        {
          "output_type": "stream",
          "name": "stdout",
          "text": [
            "CV\n",
            "              precision    recall  f1-score   support\n",
            "\n",
            "           0       0.81      0.88      0.84      4985\n",
            "           1       0.87      0.80      0.83      5015\n",
            "\n",
            "    accuracy                           0.84     10000\n",
            "   macro avg       0.84      0.84      0.84     10000\n",
            "weighted avg       0.84      0.84      0.84     10000\n",
            "\n"
          ]
        },
        {
          "output_type": "display_data",
          "data": {
            "text/plain": [
              "<Figure size 640x480 with 2 Axes>"
            ],
            "image/png": "[encoded data removed]"
          },
          "metadata": {}
        }
      ]
    },
    {
      "cell_type": "markdown",
      "source": [
        "Tal y como preveimos, TFI es superior."
      ],
      "metadata": {
        "id": "6OIOgdAky-RJ"
      }
    },
    {
      "cell_type": "markdown",
      "source": [
        "## Busqueda de los mejores hiperparametros usando TfidfVectorizer"
      ],
      "metadata": {
        "id": "zgOpwJRNy-RJ"
      }
    },
    {
      "cell_type": "code",
      "source": [
        "\n",
        "parameters = {\n",
        "    'tfidfvectorizer__ngram_range': [(1, 1), (1, 2), (2, 2)],\n",
        "    'multinomialnb__alpha': [0.1, 0.5, 1.0],\n",
        "}\n",
        "\n",
        "optimized = make_pipeline(vectorizer, MultinomialNB())\n",
        "\n",
        "grid_search = GridSearchCV(optimized, parameters, cv=5, n_jobs=-1, scoring=f1_score)\n",
        "\n",
        "grid_search.fit(x_train, y_train)\n",
        "\n",
        "# Imprimir los mejores parámetros encontrados\n",
        "print(\"Mejores parámetros encontrados:\")\n",
        "print(grid_search.best_params_)\n",
        "\n",
        "best_model = grid_search.best_estimator_"
      ],
      "metadata": {
        "colab": {
          "base_uri": "https://localhost:8080/"
        },
        "outputId": "e6ad6b0b-091a-4252-9966-efc64409da5d",
        "id": "wuF1fLtLy-RJ"
      },
      "execution_count": 107,
      "outputs": [
        {
          "output_type": "stream",
          "name": "stdout",
          "text": [
            "Mejores parámetros encontrados:\n",
            "{'multinomialnb__alpha': 0.1, 'tfidfvectorizer__ngram_range': (1, 1)}\n"
          ]
        }
      ]
    },
    {
      "cell_type": "code",
      "source": [
        "#Exportamos\n",
        "joblib.dump(best_model, 'nb.joblib')"
      ],
      "metadata": {
        "colab": {
          "base_uri": "https://localhost:8080/"
        },
        "id": "hc8HtYUd2-Yg",
        "outputId": "9cd2ca8a-e1fe-4b39-f8f5-f2d744c11bba"
      },
      "execution_count": 108,
      "outputs": [
        {
          "output_type": "execute_result",
          "data": {
            "text/plain": [
              "['nb.joblib']"
            ]
          },
          "metadata": {},
          "execution_count": 108
        }
      ]
    },
    {
      "cell_type": "code",
      "source": [
        "best_model = joblib.load('nb.joblib')"
      ],
      "metadata": {
        "id": "7XmAS5U8T8dA"
      },
      "execution_count": 109,
      "outputs": []
    },
    {
      "cell_type": "code",
      "source": [
        "#evaluamos conjunto de test\n",
        "y_pred = best_model.predict(x_test)\n",
        "#mostramos resultados\n",
        "mostrar_metricas(y_pred, y_test)"
      ],
      "metadata": {
        "colab": {
          "base_uri": "https://localhost:8080/",
          "height": 612
        },
        "id": "AjgFILjhUD-W",
        "outputId": "f41a4676-2bcc-49dd-8dab-32d4457016f7"
      },
      "execution_count": 110,
      "outputs": [
        {
          "output_type": "stream",
          "name": "stdout",
          "text": [
            "              precision    recall  f1-score   support\n",
            "\n",
            "           0       0.85      0.86      0.86      4985\n",
            "           1       0.86      0.85      0.86      5015\n",
            "\n",
            "    accuracy                           0.86     10000\n",
            "   macro avg       0.86      0.86      0.86     10000\n",
            "weighted avg       0.86      0.86      0.86     10000\n",
            "\n"
          ]
        },
        {
          "output_type": "display_data",
          "data": {
            "text/plain": [
              "<Figure size 640x480 with 2 Axes>"
            ],
            "image/png": "[encoded data removed]"
          },
          "metadata": {}
        }
      ]
    },
    {
      "cell_type": "markdown",
      "source": [
        "## Pasamos a evaluar con el conjunto test real"
      ],
      "metadata": {
        "id": "6s4jIfLIy-RJ"
      }
    },
    {
      "cell_type": "code",
      "source": [
        "#prediccion contra el ds_test y guardamos submission\n",
        "y_pred = best_model.predict(dsReviewTestCopy.review_es)\n",
        "ds_submission = pd.DataFrame({'ID': dsReviewTest['ID'], 'sentimiento' : y_pred})\n",
        "df_submission['sentimiento'] = df_submission['sentimiento'].map({1: 'positivo', 0: 'negativo'})\n",
        "ds_submission.to_csv('nb.csv', index=False)\n",
        "ds_submission.head()"
      ],
      "metadata": {
        "colab": {
          "base_uri": "https://localhost:8080/",
          "height": 206
        },
        "id": "-_OGnzwqy-RK",
        "outputId": "4c06f76c-0268-4b8d-9e9b-6d1fc202918a"
      },
      "execution_count": 111,
      "outputs": [
        {
          "output_type": "execute_result",
          "data": {
            "text/plain": [
              "      ID  sentimiento\n",
              "0  60000            0\n",
              "1  60001            0\n",
              "2  60002            0\n",
              "3  60003            1\n",
              "4  60004            0"
            ],
            "text/html": [
              "\n",
              "  <div id=\"df-9cc8e9d6-3ece-4c4b-bb74-35e525b8f5f1\" class=\"colab-df-container\">\n",
              "    <div>\n",
              "<style scoped>\n",
              "    .dataframe tbody tr th:only-of-type {\n",
              "        vertical-align: middle;\n",
              "    }\n",
              "\n",
              "    .dataframe tbody tr th {\n",
              "        vertical-align: top;\n",
              "    }\n",
              "\n",
              "    .dataframe thead th {\n",
              "        text-align: right;\n",
              "    }\n",
              "</style>\n",
              "<table border=\"1\" class=\"dataframe\">\n",
              "  <thead>\n",
              "    <tr style=\"text-align: right;\">\n",
              "      <th></th>\n",
              "      <th>ID</th>\n",
              "      <th>sentimiento</th>\n",
              "    </tr>\n",
              "  </thead>\n",
              "  <tbody>\n",
              "    <tr>\n",
              "      <th>0</th>\n",
              "      <td>60000</td>\n",
              "      <td>0</td>\n",
              "    </tr>\n",
              "    <tr>\n",
              "      <th>1</th>\n",
              "      <td>60001</td>\n",
              "      <td>0</td>\n",
              "    </tr>\n",
              "    <tr>\n",
              "      <th>2</th>\n",
              "      <td>60002</td>\n",
              "      <td>0</td>\n",
              "    </tr>\n",
              "    <tr>\n",
              "      <th>3</th>\n",
              "      <td>60003</td>\n",
              "      <td>1</td>\n",
              "    </tr>\n",
              "    <tr>\n",
              "      <th>4</th>\n",
              "      <td>60004</td>\n",
              "      <td>0</td>\n",
              "    </tr>\n",
              "  </tbody>\n",
              "</table>\n",
              "</div>\n",
              "    <div class=\"colab-df-buttons\">\n",
              "\n",
              "  <div class=\"colab-df-container\">\n",
              "    <button class=\"colab-df-convert\" onclick=\"convertToInteractive('df-9cc8e9d6-3ece-4c4b-bb74-35e525b8f5f1')\"\n",
              "            title=\"Convert this dataframe to an interactive table.\"\n",
              "            style=\"display:none;\">\n",
              "\n",
              "  <svg xmlns=\"http://www.w3.org/2000/svg\" height=\"24px\" viewBox=\"0 -960 960 960\">\n",
              "    <path d=\"M120-120v-720h720v720H120Zm60-500h600v-160H180v160Zm220 220h160v-160H400v160Zm0 220h160v-160H400v160ZM180-400h160v-160H180v160Zm440 0h160v-160H620v160ZM180-180h160v-160H180v160Zm440 0h160v-160H620v160Z\"/>\n",
              "  </svg>\n",
              "    </button>\n",
              "\n",
              "  <style>\n",
              "    .colab-df-container {\n",
              "      display:flex;\n",
              "      gap: 12px;\n",
              "    }\n",
              "\n",
              "    .colab-df-convert {\n",
              "      background-color: #E8F0FE;\n",
              "      border: none;\n",
              "      border-radius: 50%;\n",
              "      cursor: pointer;\n",
              "      display: none;\n",
              "      fill: #1967D2;\n",
              "      height: 32px;\n",
              "      padding: 0 0 0 0;\n",
              "      width: 32px;\n",
              "    }\n",
              "\n",
              "    .colab-df-convert:hover {\n",
              "      background-color: #E2EBFA;\n",
              "      box-shadow: 0px 1px 2px rgba(60, 64, 67, 0.3), 0px 1px 3px 1px rgba(60, 64, 67, 0.15);\n",
              "      fill: #174EA6;\n",
              "    }\n",
              "\n",
              "    .colab-df-buttons div {\n",
              "      margin-bottom: 4px;\n",
              "    }\n",
              "\n",
              "    [theme=dark] .colab-df-convert {\n",
              "      background-color: #3B4455;\n",
              "      fill: #D2E3FC;\n",
              "    }\n",
              "\n",
              "    [theme=dark] .colab-df-convert:hover {\n",
              "      background-color: #434B5C;\n",
              "      box-shadow: 0px 1px 3px 1px rgba(0, 0, 0, 0.15);\n",
              "      filter: drop-shadow(0px 1px 2px rgba(0, 0, 0, 0.3));\n",
              "      fill: #FFFFFF;\n",
              "    }\n",
              "  </style>\n",
              "\n",
              "    <script>\n",
              "      const buttonEl =\n",
              "        document.querySelector('#df-9cc8e9d6-3ece-4c4b-bb74-35e525b8f5f1 button.colab-df-convert');\n",
              "      buttonEl.style.display =\n",
              "        google.colab.kernel.accessAllowed ? 'block' : 'none';\n",
              "\n",
              "      async function convertToInteractive(key) {\n",
              "        const element = document.querySelector('#df-9cc8e9d6-3ece-4c4b-bb74-35e525b8f5f1');\n",
              "        const dataTable =\n",
              "          await google.colab.kernel.invokeFunction('convertToInteractive',\n",
              "                                                    [key], {});\n",
              "        if (!dataTable) return;\n",
              "\n",
              "        const docLinkHtml = 'Like what you see? Visit the ' +\n",
              "          '<a target=\"_blank\" href=https://colab.research.google.com/notebooks/data_table.ipynb>data table notebook</a>'\n",
              "          + ' to learn more about interactive tables.';\n",
              "        element.innerHTML = '';\n",
              "        dataTable['output_type'] = 'display_data';\n",
              "        await google.colab.output.renderOutput(dataTable, element);\n",
              "        const docLink = document.createElement('div');\n",
              "        docLink.innerHTML = docLinkHtml;\n",
              "        element.appendChild(docLink);\n",
              "      }\n",
              "    </script>\n",
              "  </div>\n",
              "\n",
              "\n",
              "<div id=\"df-2b6d7c62-fd4e-46a2-9e5e-86295f639bf0\">\n",
              "  <button class=\"colab-df-quickchart\" onclick=\"quickchart('df-2b6d7c62-fd4e-46a2-9e5e-86295f639bf0')\"\n",
              "            title=\"Suggest charts\"\n",
              "            style=\"display:none;\">\n",
              "\n",
              "<svg xmlns=\"http://www.w3.org/2000/svg\" height=\"24px\"viewBox=\"0 0 24 24\"\n",
              "     width=\"24px\">\n",
              "    <g>\n",
              "        <path d=\"M19 3H5c-1.1 0-2 .9-2 2v14c0 1.1.9 2 2 2h14c1.1 0 2-.9 2-2V5c0-1.1-.9-2-2-2zM9 17H7v-7h2v7zm4 0h-2V7h2v10zm4 0h-2v-4h2v4z\"/>\n",
              "    </g>\n",
              "</svg>\n",
              "  </button>\n",
              "\n",
              "<style>\n",
              "  .colab-df-quickchart {\n",
              "      --bg-color: #E8F0FE;\n",
              "      --fill-color: #1967D2;\n",
              "      --hover-bg-color: #E2EBFA;\n",
              "      --hover-fill-color: #174EA6;\n",
              "      --disabled-fill-color: #AAA;\n",
              "      --disabled-bg-color: #DDD;\n",
              "  }\n",
              "\n",
              "  [theme=dark] .colab-df-quickchart {\n",
              "      --bg-color: #3B4455;\n",
              "      --fill-color: #D2E3FC;\n",
              "      --hover-bg-color: #434B5C;\n",
              "      --hover-fill-color: #FFFFFF;\n",
              "      --disabled-bg-color: #3B4455;\n",
              "      --disabled-fill-color: #666;\n",
              "  }\n",
              "\n",
              "  .colab-df-quickchart {\n",
              "    background-color: var(--bg-color);\n",
              "    border: none;\n",
              "    border-radius: 50%;\n",
              "    cursor: pointer;\n",
              "    display: none;\n",
              "    fill: var(--fill-color);\n",
              "    height: 32px;\n",
              "    padding: 0;\n",
              "    width: 32px;\n",
              "  }\n",
              "\n",
              "  .colab-df-quickchart:hover {\n",
              "    background-color: var(--hover-bg-color);\n",
              "    box-shadow: 0 1px 2px rgba(60, 64, 67, 0.3), 0 1px 3px 1px rgba(60, 64, 67, 0.15);\n",
              "    fill: var(--button-hover-fill-color);\n",
              "  }\n",
              "\n",
              "  .colab-df-quickchart-complete:disabled,\n",
              "  .colab-df-quickchart-complete:disabled:hover {\n",
              "    background-color: var(--disabled-bg-color);\n",
              "    fill: var(--disabled-fill-color);\n",
              "    box-shadow: none;\n",
              "  }\n",
              "\n",
              "  .colab-df-spinner {\n",
              "    border: 2px solid var(--fill-color);\n",
              "    border-color: transparent;\n",
              "    border-bottom-color: var(--fill-color);\n",
              "    animation:\n",
              "      spin 1s steps(1) infinite;\n",
              "  }\n",
              "\n",
              "  @keyframes spin {\n",
              "    0% {\n",
              "      border-color: transparent;\n",
              "      border-bottom-color: var(--fill-color);\n",
              "      border-left-color: var(--fill-color);\n",
              "    }\n",
              "    20% {\n",
              "      border-color: transparent;\n",
              "      border-left-color: var(--fill-color);\n",
              "      border-top-color: var(--fill-color);\n",
              "    }\n",
              "    30% {\n",
              "      border-color: transparent;\n",
              "      border-left-color: var(--fill-color);\n",
              "      border-top-color: var(--fill-color);\n",
              "      border-right-color: var(--fill-color);\n",
              "    }\n",
              "    40% {\n",
              "      border-color: transparent;\n",
              "      border-right-color: var(--fill-color);\n",
              "      border-top-color: var(--fill-color);\n",
              "    }\n",
              "    60% {\n",
              "      border-color: transparent;\n",
              "      border-right-color: var(--fill-color);\n",
              "    }\n",
              "    80% {\n",
              "      border-color: transparent;\n",
              "      border-right-color: var(--fill-color);\n",
              "      border-bottom-color: var(--fill-color);\n",
              "    }\n",
              "    90% {\n",
              "      border-color: transparent;\n",
              "      border-bottom-color: var(--fill-color);\n",
              "    }\n",
              "  }\n",
              "</style>\n",
              "\n",
              "  <script>\n",
              "    async function quickchart(key) {\n",
              "      const quickchartButtonEl =\n",
              "        document.querySelector('#' + key + ' button');\n",
              "      quickchartButtonEl.disabled = true;  // To prevent multiple clicks.\n",
              "      quickchartButtonEl.classList.add('colab-df-spinner');\n",
              "      try {\n",
              "        const charts = await google.colab.kernel.invokeFunction(\n",
              "            'suggestCharts', [key], {});\n",
              "      } catch (error) {\n",
              "        console.error('Error during call to suggestCharts:', error);\n",
              "      }\n",
              "      quickchartButtonEl.classList.remove('colab-df-spinner');\n",
              "      quickchartButtonEl.classList.add('colab-df-quickchart-complete');\n",
              "    }\n",
              "    (() => {\n",
              "      let quickchartButtonEl =\n",
              "        document.querySelector('#df-2b6d7c62-fd4e-46a2-9e5e-86295f639bf0 button');\n",
              "      quickchartButtonEl.style.display =\n",
              "        google.colab.kernel.accessAllowed ? 'block' : 'none';\n",
              "    })();\n",
              "  </script>\n",
              "</div>\n",
              "    </div>\n",
              "  </div>\n"
            ]
          },
          "metadata": {},
          "execution_count": 111
        }
      ]
    },
    {
      "cell_type": "markdown",
      "source": [
        "#RandomForest"
      ],
      "metadata": {
        "id": "Qd1l02jHSBDG"
      }
    },
    {
      "cell_type": "code",
      "source": [
        "print(\"x_train shape:\", x_train.shape)\n",
        "print(\"y_train shape:\", y_train.shape)"
      ],
      "metadata": {
        "colab": {
          "base_uri": "https://localhost:8080/"
        },
        "id": "-eno4RQjZrEf",
        "outputId": "48a767b2-edd7-479e-ac92-cfb73c28b2d0"
      },
      "execution_count": 112,
      "outputs": [
        {
          "output_type": "stream",
          "name": "stdout",
          "text": [
            "x_train shape: (40000,)\n",
            "y_train shape: (40000,)\n"
          ]
        }
      ]
    },
    {
      "cell_type": "code",
      "execution_count": 113,
      "metadata": {
        "id": "nItAUDzGa7n0",
        "colab": {
          "base_uri": "https://localhost:8080/",
          "height": 125
        },
        "outputId": "6aee74fc-0dfe-4874-e351-e0c458f2a947"
      },
      "outputs": [
        {
          "output_type": "execute_result",
          "data": {
            "text/plain": [
              "Pipeline(steps=[('tfidfvectorizer',\n",
              "                 TfidfVectorizer(stop_words=['i', 'me', 'my', 'myself', 'we',\n",
              "                                             'our', 'ours', 'ourselves', 'you',\n",
              "                                             \"you're\", \"you've\", \"you'll\",\n",
              "                                             \"you'd\", 'your', 'yours',\n",
              "                                             'yourself', 'yourselves', 'he',\n",
              "                                             'him', 'his', 'himself', 'she',\n",
              "                                             \"she's\", 'her', 'hers', 'herself',\n",
              "                                             'it', \"it's\", 'its', 'itself', ...],\n",
              "                                 strip_accents='unicode')),\n",
              "                ('randomforestclassifier',\n",
              "                 RandomForestClassifier(class_weight='balanced',\n",
              "                                        criterion='entropy',\n",
              "                                        max_features='auto', min_samples_leaf=5,\n",
              "                                        min_samples_split=5, n_estimators=30,\n",
              "                                        n_jobs=-1, random_state=7))])"
            ],
            "text/html": [
              "<style>#sk-container-id-3 {color: black;background-color: white;}#sk-container-id-3 pre{padding: 0;}#sk-container-id-3 div.sk-toggleable {background-color: white;}#sk-container-id-3 label.sk-toggleable__label {cursor: pointer;display: block;width: 100%;margin-bottom: 0;padding: 0.3em;box-sizing: border-box;text-align: center;}#sk-container-id-3 label.sk-toggleable__label-arrow:before {content: \"▸\";float: left;margin-right: 0.25em;color: #696969;}#sk-container-id-3 label.sk-toggleable__label-arrow:hover:before {color: black;}#sk-container-id-3 div.sk-estimator:hover label.sk-toggleable__label-arrow:before {color: black;}#sk-container-id-3 div.sk-toggleable__content {max-height: 0;max-width: 0;overflow: hidden;text-align: left;background-color: #f0f8ff;}#sk-container-id-3 div.sk-toggleable__content pre {margin: 0.2em;color: black;border-radius: 0.25em;background-color: #f0f8ff;}#sk-container-id-3 input.sk-toggleable__control:checked~div.sk-toggleable__content {max-height: 200px;max-width: 100%;overflow: auto;}#sk-container-id-3 input.sk-toggleable__control:checked~label.sk-toggleable__label-arrow:before {content: \"▾\";}#sk-container-id-3 div.sk-estimator input.sk-toggleable__control:checked~label.sk-toggleable__label {background-color: #d4ebff;}#sk-container-id-3 div.sk-label input.sk-toggleable__control:checked~label.sk-toggleable__label {background-color: #d4ebff;}#sk-container-id-3 input.sk-hidden--visually {border: 0;clip: rect(1px 1px 1px 1px);clip: rect(1px, 1px, 1px, 1px);height: 1px;margin: -1px;overflow: hidden;padding: 0;position: absolute;width: 1px;}#sk-container-id-3 div.sk-estimator {font-family: monospace;background-color: #f0f8ff;border: 1px dotted black;border-radius: 0.25em;box-sizing: border-box;margin-bottom: 0.5em;}#sk-container-id-3 div.sk-estimator:hover {background-color: #d4ebff;}#sk-container-id-3 div.sk-parallel-item::after {content: \"\";width: 100%;border-bottom: 1px solid gray;flex-grow: 1;}#sk-container-id-3 div.sk-label:hover label.sk-toggleable__label {background-color: #d4ebff;}#sk-container-id-3 div.sk-serial::before {content: \"\";position: absolute;border-left: 1px solid gray;box-sizing: border-box;top: 0;bottom: 0;left: 50%;z-index: 0;}#sk-container-id-3 div.sk-serial {display: flex;flex-direction: column;align-items: center;background-color: white;padding-right: 0.2em;padding-left: 0.2em;position: relative;}#sk-container-id-3 div.sk-item {position: relative;z-index: 1;}#sk-container-id-3 div.sk-parallel {display: flex;align-items: stretch;justify-content: center;background-color: white;position: relative;}#sk-container-id-3 div.sk-item::before, #sk-container-id-3 div.sk-parallel-item::before {content: \"\";position: absolute;border-left: 1px solid gray;box-sizing: border-box;top: 0;bottom: 0;left: 50%;z-index: -1;}#sk-container-id-3 div.sk-parallel-item {display: flex;flex-direction: column;z-index: 1;position: relative;background-color: white;}#sk-container-id-3 div.sk-parallel-item:first-child::after {align-self: flex-end;width: 50%;}#sk-container-id-3 div.sk-parallel-item:last-child::after {align-self: flex-start;width: 50%;}#sk-container-id-3 div.sk-parallel-item:only-child::after {width: 0;}#sk-container-id-3 div.sk-dashed-wrapped {border: 1px dashed gray;margin: 0 0.4em 0.5em 0.4em;box-sizing: border-box;padding-bottom: 0.4em;background-color: white;}#sk-container-id-3 div.sk-label label {font-family: monospace;font-weight: bold;display: inline-block;line-height: 1.2em;}#sk-container-id-3 div.sk-label-container {text-align: center;}#sk-container-id-3 div.sk-container {/* jupyter's `normalize.less` sets `[hidden] { display: none; }` but bootstrap.min.css set `[hidden] { display: none !important; }` so we also need the `!important` here to be able to override the default hidden behavior on the sphinx rendered scikit-learn.org. See: https://github.com/scikit-learn/scikit-learn/issues/21755 */display: inline-block !important;position: relative;}#sk-container-id-3 div.sk-text-repr-fallback {display: none;}</style><div id=\"sk-container-id-3\" class=\"sk-top-container\"><div class=\"sk-text-repr-fallback\"><pre>Pipeline(steps=[(&#x27;tfidfvectorizer&#x27;,\n",
              "                 TfidfVectorizer(stop_words=[&#x27;i&#x27;, &#x27;me&#x27;, &#x27;my&#x27;, &#x27;myself&#x27;, &#x27;we&#x27;,\n",
              "                                             &#x27;our&#x27;, &#x27;ours&#x27;, &#x27;ourselves&#x27;, &#x27;you&#x27;,\n",
              "                                             &quot;you&#x27;re&quot;, &quot;you&#x27;ve&quot;, &quot;you&#x27;ll&quot;,\n",
              "                                             &quot;you&#x27;d&quot;, &#x27;your&#x27;, &#x27;yours&#x27;,\n",
              "                                             &#x27;yourself&#x27;, &#x27;yourselves&#x27;, &#x27;he&#x27;,\n",
              "                                             &#x27;him&#x27;, &#x27;his&#x27;, &#x27;himself&#x27;, &#x27;she&#x27;,\n",
              "                                             &quot;she&#x27;s&quot;, &#x27;her&#x27;, &#x27;hers&#x27;, &#x27;herself&#x27;,\n",
              "                                             &#x27;it&#x27;, &quot;it&#x27;s&quot;, &#x27;its&#x27;, &#x27;itself&#x27;, ...],\n",
              "                                 strip_accents=&#x27;unicode&#x27;)),\n",
              "                (&#x27;randomforestclassifier&#x27;,\n",
              "                 RandomForestClassifier(class_weight=&#x27;balanced&#x27;,\n",
              "                                        criterion=&#x27;entropy&#x27;,\n",
              "                                        max_features=&#x27;auto&#x27;, min_samples_leaf=5,\n",
              "                                        min_samples_split=5, n_estimators=30,\n",
              "                                        n_jobs=-1, random_state=7))])</pre><b>In a Jupyter environment, please rerun this cell to show the HTML representation or trust the notebook. <br />On GitHub, the HTML representation is unable to render, please try loading this page with nbviewer.org.</b></div><div class=\"sk-container\" hidden><div class=\"sk-item sk-dashed-wrapped\"><div class=\"sk-label-container\"><div class=\"sk-label sk-toggleable\"><input class=\"sk-toggleable__control sk-hidden--visually\" id=\"sk-estimator-id-11\" type=\"checkbox\" ><label for=\"sk-estimator-id-11\" class=\"sk-toggleable__label sk-toggleable__label-arrow\">Pipeline</label><div class=\"sk-toggleable__content\"><pre>Pipeline(steps=[(&#x27;tfidfvectorizer&#x27;,\n",
              "                 TfidfVectorizer(stop_words=[&#x27;i&#x27;, &#x27;me&#x27;, &#x27;my&#x27;, &#x27;myself&#x27;, &#x27;we&#x27;,\n",
              "                                             &#x27;our&#x27;, &#x27;ours&#x27;, &#x27;ourselves&#x27;, &#x27;you&#x27;,\n",
              "                                             &quot;you&#x27;re&quot;, &quot;you&#x27;ve&quot;, &quot;you&#x27;ll&quot;,\n",
              "                                             &quot;you&#x27;d&quot;, &#x27;your&#x27;, &#x27;yours&#x27;,\n",
              "                                             &#x27;yourself&#x27;, &#x27;yourselves&#x27;, &#x27;he&#x27;,\n",
              "                                             &#x27;him&#x27;, &#x27;his&#x27;, &#x27;himself&#x27;, &#x27;she&#x27;,\n",
              "                                             &quot;she&#x27;s&quot;, &#x27;her&#x27;, &#x27;hers&#x27;, &#x27;herself&#x27;,\n",
              "                                             &#x27;it&#x27;, &quot;it&#x27;s&quot;, &#x27;its&#x27;, &#x27;itself&#x27;, ...],\n",
              "                                 strip_accents=&#x27;unicode&#x27;)),\n",
              "                (&#x27;randomforestclassifier&#x27;,\n",
              "                 RandomForestClassifier(class_weight=&#x27;balanced&#x27;,\n",
              "                                        criterion=&#x27;entropy&#x27;,\n",
              "                                        max_features=&#x27;auto&#x27;, min_samples_leaf=5,\n",
              "                                        min_samples_split=5, n_estimators=30,\n",
              "                                        n_jobs=-1, random_state=7))])</pre></div></div></div><div class=\"sk-serial\"><div class=\"sk-item\"><div class=\"sk-estimator sk-toggleable\"><input class=\"sk-toggleable__control sk-hidden--visually\" id=\"sk-estimator-id-12\" type=\"checkbox\" ><label for=\"sk-estimator-id-12\" class=\"sk-toggleable__label sk-toggleable__label-arrow\">TfidfVectorizer</label><div class=\"sk-toggleable__content\"><pre>TfidfVectorizer(stop_words=[&#x27;i&#x27;, &#x27;me&#x27;, &#x27;my&#x27;, &#x27;myself&#x27;, &#x27;we&#x27;, &#x27;our&#x27;, &#x27;ours&#x27;,\n",
              "                            &#x27;ourselves&#x27;, &#x27;you&#x27;, &quot;you&#x27;re&quot;, &quot;you&#x27;ve&quot;, &quot;you&#x27;ll&quot;,\n",
              "                            &quot;you&#x27;d&quot;, &#x27;your&#x27;, &#x27;yours&#x27;, &#x27;yourself&#x27;, &#x27;yourselves&#x27;,\n",
              "                            &#x27;he&#x27;, &#x27;him&#x27;, &#x27;his&#x27;, &#x27;himself&#x27;, &#x27;she&#x27;, &quot;she&#x27;s&quot;,\n",
              "                            &#x27;her&#x27;, &#x27;hers&#x27;, &#x27;herself&#x27;, &#x27;it&#x27;, &quot;it&#x27;s&quot;, &#x27;its&#x27;,\n",
              "                            &#x27;itself&#x27;, ...],\n",
              "                strip_accents=&#x27;unicode&#x27;)</pre></div></div></div><div class=\"sk-item\"><div class=\"sk-estimator sk-toggleable\"><input class=\"sk-toggleable__control sk-hidden--visually\" id=\"sk-estimator-id-13\" type=\"checkbox\" ><label for=\"sk-estimator-id-13\" class=\"sk-toggleable__label sk-toggleable__label-arrow\">RandomForestClassifier</label><div class=\"sk-toggleable__content\"><pre>RandomForestClassifier(class_weight=&#x27;balanced&#x27;, criterion=&#x27;entropy&#x27;,\n",
              "                       max_features=&#x27;auto&#x27;, min_samples_leaf=5,\n",
              "                       min_samples_split=5, n_estimators=30, n_jobs=-1,\n",
              "                       random_state=7)</pre></div></div></div></div></div></div></div>"
            ]
          },
          "metadata": {},
          "execution_count": 113
        }
      ],
      "source": [
        "#Creamos un clasificador con hiperparámetros arbitrarios\n",
        "rfc_no_optimizado = RandomForestClassifier(max_features='auto',\n",
        "                        criterion=\"entropy\",\n",
        "                        min_samples_leaf=5,\n",
        "                        min_samples_split=5,\n",
        "                        n_estimators=30,\n",
        "                        random_state=7,\n",
        "                        class_weight=\"balanced\",\n",
        "                        n_jobs=-1,)\n",
        "#Entrenamos el modelo\n",
        "model = make_pipeline(vectorizer, rfc_no_optimizado)\n",
        "model.fit(x_train, y_train)"
      ]
    },
    {
      "cell_type": "code",
      "execution_count": 114,
      "metadata": {
        "colab": {
          "base_uri": "https://localhost:8080/",
          "height": 612
        },
        "id": "J595CjHdcESU",
        "outputId": "910e4849-0548-476f-febc-2cf40b577f39"
      },
      "outputs": [
        {
          "output_type": "stream",
          "name": "stdout",
          "text": [
            "              precision    recall  f1-score   support\n",
            "\n",
            "           0       0.83      0.84      0.83      4985\n",
            "           1       0.83      0.82      0.83      5015\n",
            "\n",
            "    accuracy                           0.83     10000\n",
            "   macro avg       0.83      0.83      0.83     10000\n",
            "weighted avg       0.83      0.83      0.83     10000\n",
            "\n"
          ]
        },
        {
          "output_type": "display_data",
          "data": {
            "text/plain": [
              "<Figure size 640x480 with 2 Axes>"
            ],
            "image/png": "[encoded data removed]"
          },
          "metadata": {}
        }
      ],
      "source": [
        "#Realizamos una predicción sobre el set de test\n",
        "y_pred_rfc_no_optimo = model.predict(x_test)\n",
        "#grafico matriz de confusion y metricas\n",
        "mostrar_metricas(y_pred_rfc_no_optimo,y_test)"
      ]
    },
    {
      "cell_type": "code",
      "execution_count": 115,
      "metadata": {
        "colab": {
          "base_uri": "https://localhost:8080/"
        },
        "id": "MLFBgZWLdWk-",
        "outputId": "d9cc7b58-ebe5-4c1f-9907-b98eaaf38a52"
      },
      "outputs": [
        {
          "output_type": "execute_result",
          "data": {
            "text/plain": [
              "['rfc_no_optimizado.joblib']"
            ]
          },
          "metadata": {},
          "execution_count": 115
        }
      ],
      "source": [
        "#Exportamos\n",
        "joblib.dump(rfc_no_optimizado, 'rfc_no_optimizado.joblib')"
      ]
    },
    {
      "cell_type": "code",
      "execution_count": 116,
      "metadata": {
        "id": "uVoDD0w8fm3X"
      },
      "outputs": [],
      "source": [
        "#pruebo contra el ds test y lo exporto\n",
        "y_pred = model.predict(dsReviewTest.review_es)\n",
        "ds_submission = pd.DataFrame({'ID': dsReviewTest['ID'], 'sentimiento': y_pred})\n",
        "df_submission['sentimiento'] = df_submission['sentimiento'].map({1: 'positivo', 0: 'negativo'})\n",
        "ds_submission.to_csv('./rfc_no_optimizado.csv', index=False)"
      ]
    },
    {
      "cell_type": "markdown",
      "metadata": {
        "id": "Mc80-LUGXhQ4"
      },
      "source": [
        "##Optimizamos hiperparametros con GridSearch CV"
      ]
    },
    {
      "cell_type": "code",
      "source": [
        "rf_cv = RandomForestClassifier(max_features='auto', random_state=7, n_jobs=-1,class_weight=\"balanced\")\n",
        "kfoldcv = StratifiedKFold(n_splits=5)\n",
        "scorer_fn = make_scorer(f1_score)\n",
        "param_grid = { \"randomforestclassifier__criterion\" : [\"gini\", \"entropy\"],\n",
        "          \"randomforestclassifier__min_samples_leaf\" : [1, 2, 5],\n",
        "          \"randomforestclassifier__min_samples_split\" : [2, 4, 10],\n",
        "          \"randomforestclassifier__n_estimators\": [ 30, 40, 50 ] }\n",
        "\n",
        "model = make_pipeline(vectorizer, rf_cv)\n",
        "#Probamos entrenando sólo con 1 métrica\n",
        "gs = GridSearchCV(estimator=model,\n",
        "                  param_grid=param_grid,\n",
        "                  scoring = scorer_fn,\n",
        "                  cv=kfoldcv,\n",
        "                  n_jobs=-1)\n",
        "gs_fit = gs.fit(X = x_train, y = y_train)"
      ],
      "metadata": {
        "id": "nk-MR1PrMO7k"
      },
      "execution_count": 13,
      "outputs": []
    },
    {
      "cell_type": "code",
      "execution_count": 14,
      "metadata": {
        "id": "kOlBC472aKo2",
        "colab": {
          "base_uri": "https://localhost:8080/"
        },
        "outputId": "2e35b522-ece5-4355-97df-f077b5582912"
      },
      "outputs": [
        {
          "output_type": "execute_result",
          "data": {
            "text/plain": [
              "{'randomforestclassifier__criterion': 'gini',\n",
              " 'randomforestclassifier__min_samples_leaf': 2,\n",
              " 'randomforestclassifier__min_samples_split': 2,\n",
              " 'randomforestclassifier__n_estimators': 40}"
            ]
          },
          "metadata": {},
          "execution_count": 14
        }
      ],
      "source": [
        "#mostramos la mejor config de hiperparametros\n",
        "gs_fit.best_params_"
      ]
    },
    {
      "cell_type": "code",
      "execution_count": 15,
      "metadata": {
        "id": "7O0KSlAOaKo2",
        "colab": {
          "base_uri": "https://localhost:8080/"
        },
        "outputId": "631e2601-4515-41ce-a163-5e9e6002c85a"
      },
      "outputs": [
        {
          "output_type": "stream",
          "name": "stdout",
          "text": [
            "f1_score en entrenamiento con cv: 0.8255532221148364\n"
          ]
        }
      ],
      "source": [
        "#el mejor f1_score\n",
        "print(\"f1_score en entrenamiento con cv: \"+str(gs_fit.best_score_))"
      ]
    },
    {
      "cell_type": "code",
      "execution_count": 16,
      "metadata": {
        "id": "_vohtslaaKo3",
        "colab": {
          "base_uri": "https://localhost:8080/",
          "height": 612
        },
        "outputId": "d6eb3477-dd8a-43c1-8d90-a11bc4ba62e3"
      },
      "outputs": [
        {
          "output_type": "stream",
          "name": "stdout",
          "text": [
            "              precision    recall  f1-score   support\n",
            "\n",
            "           0       0.83      0.84      0.84      4985\n",
            "           1       0.84      0.83      0.83      5015\n",
            "\n",
            "    accuracy                           0.83     10000\n",
            "   macro avg       0.83      0.83      0.83     10000\n",
            "weighted avg       0.83      0.83      0.83     10000\n",
            "\n"
          ]
        },
        {
          "output_type": "display_data",
          "data": {
            "text/plain": [
              "<Figure size 640x480 with 2 Axes>"
            ],
            "image/png": "[encoded data removed]"
          },
          "metadata": {}
        }
      ],
      "source": [
        "#Obtenemos el mejor modelo\n",
        "rf_cv_best = gs_fit.best_estimator_\n",
        "#exportamos\n",
        "joblib.dump( rf_cv_best, 'random_forest_optimizado_f1_score.joblib')\n",
        "#Predicción grafico y metricas\n",
        "y_pred_rf_cv_best = rf_cv_best.predict(x_test)\n",
        "\n",
        "mostrar_metricas(y_pred_rf_cv_best,y_test)\n"
      ]
    },
    {
      "cell_type": "code",
      "execution_count": 19,
      "metadata": {
        "id": "K0Bd5y4oqHsm",
        "colab": {
          "base_uri": "https://localhost:8080/",
          "height": 206
        },
        "outputId": "62632dc4-0115-4e5e-c061-77e461324afb"
      },
      "outputs": [
        {
          "output_type": "execute_result",
          "data": {
            "text/plain": [
              "      ID sentimiento\n",
              "0  60000    negativo\n",
              "1  60001    negativo\n",
              "2  60002    negativo\n",
              "3  60003    negativo\n",
              "4  60004    positivo"
            ],
            "text/html": [
              "\n",
              "  <div id=\"df-cc5bdf7a-6653-41b2-8051-343da4551504\" class=\"colab-df-container\">\n",
              "    <div>\n",
              "<style scoped>\n",
              "    .dataframe tbody tr th:only-of-type {\n",
              "        vertical-align: middle;\n",
              "    }\n",
              "\n",
              "    .dataframe tbody tr th {\n",
              "        vertical-align: top;\n",
              "    }\n",
              "\n",
              "    .dataframe thead th {\n",
              "        text-align: right;\n",
              "    }\n",
              "</style>\n",
              "<table border=\"1\" class=\"dataframe\">\n",
              "  <thead>\n",
              "    <tr style=\"text-align: right;\">\n",
              "      <th></th>\n",
              "      <th>ID</th>\n",
              "      <th>sentimiento</th>\n",
              "    </tr>\n",
              "  </thead>\n",
              "  <tbody>\n",
              "    <tr>\n",
              "      <th>0</th>\n",
              "      <td>60000</td>\n",
              "      <td>negativo</td>\n",
              "    </tr>\n",
              "    <tr>\n",
              "      <th>1</th>\n",
              "      <td>60001</td>\n",
              "      <td>negativo</td>\n",
              "    </tr>\n",
              "    <tr>\n",
              "      <th>2</th>\n",
              "      <td>60002</td>\n",
              "      <td>negativo</td>\n",
              "    </tr>\n",
              "    <tr>\n",
              "      <th>3</th>\n",
              "      <td>60003</td>\n",
              "      <td>negativo</td>\n",
              "    </tr>\n",
              "    <tr>\n",
              "      <th>4</th>\n",
              "      <td>60004</td>\n",
              "      <td>positivo</td>\n",
              "    </tr>\n",
              "  </tbody>\n",
              "</table>\n",
              "</div>\n",
              "    <div class=\"colab-df-buttons\">\n",
              "\n",
              "  <div class=\"colab-df-container\">\n",
              "    <button class=\"colab-df-convert\" onclick=\"convertToInteractive('df-cc5bdf7a-6653-41b2-8051-343da4551504')\"\n",
              "            title=\"Convert this dataframe to an interactive table.\"\n",
              "            style=\"display:none;\">\n",
              "\n",
              "  <svg xmlns=\"http://www.w3.org/2000/svg\" height=\"24px\" viewBox=\"0 -960 960 960\">\n",
              "    <path d=\"M120-120v-720h720v720H120Zm60-500h600v-160H180v160Zm220 220h160v-160H400v160Zm0 220h160v-160H400v160ZM180-400h160v-160H180v160Zm440 0h160v-160H620v160ZM180-180h160v-160H180v160Zm440 0h160v-160H620v160Z\"/>\n",
              "  </svg>\n",
              "    </button>\n",
              "\n",
              "  <style>\n",
              "    .colab-df-container {\n",
              "      display:flex;\n",
              "      gap: 12px;\n",
              "    }\n",
              "\n",
              "    .colab-df-convert {\n",
              "      background-color: #E8F0FE;\n",
              "      border: none;\n",
              "      border-radius: 50%;\n",
              "      cursor: pointer;\n",
              "      display: none;\n",
              "      fill: #1967D2;\n",
              "      height: 32px;\n",
              "      padding: 0 0 0 0;\n",
              "      width: 32px;\n",
              "    }\n",
              "\n",
              "    .colab-df-convert:hover {\n",
              "      background-color: #E2EBFA;\n",
              "      box-shadow: 0px 1px 2px rgba(60, 64, 67, 0.3), 0px 1px 3px 1px rgba(60, 64, 67, 0.15);\n",
              "      fill: #174EA6;\n",
              "    }\n",
              "\n",
              "    .colab-df-buttons div {\n",
              "      margin-bottom: 4px;\n",
              "    }\n",
              "\n",
              "    [theme=dark] .colab-df-convert {\n",
              "      background-color: #3B4455;\n",
              "      fill: #D2E3FC;\n",
              "    }\n",
              "\n",
              "    [theme=dark] .colab-df-convert:hover {\n",
              "      background-color: #434B5C;\n",
              "      box-shadow: 0px 1px 3px 1px rgba(0, 0, 0, 0.15);\n",
              "      filter: drop-shadow(0px 1px 2px rgba(0, 0, 0, 0.3));\n",
              "      fill: #FFFFFF;\n",
              "    }\n",
              "  </style>\n",
              "\n",
              "    <script>\n",
              "      const buttonEl =\n",
              "        document.querySelector('#df-cc5bdf7a-6653-41b2-8051-343da4551504 button.colab-df-convert');\n",
              "      buttonEl.style.display =\n",
              "        google.colab.kernel.accessAllowed ? 'block' : 'none';\n",
              "\n",
              "      async function convertToInteractive(key) {\n",
              "        const element = document.querySelector('#df-cc5bdf7a-6653-41b2-8051-343da4551504');\n",
              "        const dataTable =\n",
              "          await google.colab.kernel.invokeFunction('convertToInteractive',\n",
              "                                                    [key], {});\n",
              "        if (!dataTable) return;\n",
              "\n",
              "        const docLinkHtml = 'Like what you see? Visit the ' +\n",
              "          '<a target=\"_blank\" href=https://colab.research.google.com/notebooks/data_table.ipynb>data table notebook</a>'\n",
              "          + ' to learn more about interactive tables.';\n",
              "        element.innerHTML = '';\n",
              "        dataTable['output_type'] = 'display_data';\n",
              "        await google.colab.output.renderOutput(dataTable, element);\n",
              "        const docLink = document.createElement('div');\n",
              "        docLink.innerHTML = docLinkHtml;\n",
              "        element.appendChild(docLink);\n",
              "      }\n",
              "    </script>\n",
              "  </div>\n",
              "\n",
              "\n",
              "<div id=\"df-f5317d22-7c3c-42f8-8cff-3c629f7bad40\">\n",
              "  <button class=\"colab-df-quickchart\" onclick=\"quickchart('df-f5317d22-7c3c-42f8-8cff-3c629f7bad40')\"\n",
              "            title=\"Suggest charts\"\n",
              "            style=\"display:none;\">\n",
              "\n",
              "<svg xmlns=\"http://www.w3.org/2000/svg\" height=\"24px\"viewBox=\"0 0 24 24\"\n",
              "     width=\"24px\">\n",
              "    <g>\n",
              "        <path d=\"M19 3H5c-1.1 0-2 .9-2 2v14c0 1.1.9 2 2 2h14c1.1 0 2-.9 2-2V5c0-1.1-.9-2-2-2zM9 17H7v-7h2v7zm4 0h-2V7h2v10zm4 0h-2v-4h2v4z\"/>\n",
              "    </g>\n",
              "</svg>\n",
              "  </button>\n",
              "\n",
              "<style>\n",
              "  .colab-df-quickchart {\n",
              "      --bg-color: #E8F0FE;\n",
              "      --fill-color: #1967D2;\n",
              "      --hover-bg-color: #E2EBFA;\n",
              "      --hover-fill-color: #174EA6;\n",
              "      --disabled-fill-color: #AAA;\n",
              "      --disabled-bg-color: #DDD;\n",
              "  }\n",
              "\n",
              "  [theme=dark] .colab-df-quickchart {\n",
              "      --bg-color: #3B4455;\n",
              "      --fill-color: #D2E3FC;\n",
              "      --hover-bg-color: #434B5C;\n",
              "      --hover-fill-color: #FFFFFF;\n",
              "      --disabled-bg-color: #3B4455;\n",
              "      --disabled-fill-color: #666;\n",
              "  }\n",
              "\n",
              "  .colab-df-quickchart {\n",
              "    background-color: var(--bg-color);\n",
              "    border: none;\n",
              "    border-radius: 50%;\n",
              "    cursor: pointer;\n",
              "    display: none;\n",
              "    fill: var(--fill-color);\n",
              "    height: 32px;\n",
              "    padding: 0;\n",
              "    width: 32px;\n",
              "  }\n",
              "\n",
              "  .colab-df-quickchart:hover {\n",
              "    background-color: var(--hover-bg-color);\n",
              "    box-shadow: 0 1px 2px rgba(60, 64, 67, 0.3), 0 1px 3px 1px rgba(60, 64, 67, 0.15);\n",
              "    fill: var(--button-hover-fill-color);\n",
              "  }\n",
              "\n",
              "  .colab-df-quickchart-complete:disabled,\n",
              "  .colab-df-quickchart-complete:disabled:hover {\n",
              "    background-color: var(--disabled-bg-color);\n",
              "    fill: var(--disabled-fill-color);\n",
              "    box-shadow: none;\n",
              "  }\n",
              "\n",
              "  .colab-df-spinner {\n",
              "    border: 2px solid var(--fill-color);\n",
              "    border-color: transparent;\n",
              "    border-bottom-color: var(--fill-color);\n",
              "    animation:\n",
              "      spin 1s steps(1) infinite;\n",
              "  }\n",
              "\n",
              "  @keyframes spin {\n",
              "    0% {\n",
              "      border-color: transparent;\n",
              "      border-bottom-color: var(--fill-color);\n",
              "      border-left-color: var(--fill-color);\n",
              "    }\n",
              "    20% {\n",
              "      border-color: transparent;\n",
              "      border-left-color: var(--fill-color);\n",
              "      border-top-color: var(--fill-color);\n",
              "    }\n",
              "    30% {\n",
              "      border-color: transparent;\n",
              "      border-left-color: var(--fill-color);\n",
              "      border-top-color: var(--fill-color);\n",
              "      border-right-color: var(--fill-color);\n",
              "    }\n",
              "    40% {\n",
              "      border-color: transparent;\n",
              "      border-right-color: var(--fill-color);\n",
              "      border-top-color: var(--fill-color);\n",
              "    }\n",
              "    60% {\n",
              "      border-color: transparent;\n",
              "      border-right-color: var(--fill-color);\n",
              "    }\n",
              "    80% {\n",
              "      border-color: transparent;\n",
              "      border-right-color: var(--fill-color);\n",
              "      border-bottom-color: var(--fill-color);\n",
              "    }\n",
              "    90% {\n",
              "      border-color: transparent;\n",
              "      border-bottom-color: var(--fill-color);\n",
              "    }\n",
              "  }\n",
              "</style>\n",
              "\n",
              "  <script>\n",
              "    async function quickchart(key) {\n",
              "      const quickchartButtonEl =\n",
              "        document.querySelector('#' + key + ' button');\n",
              "      quickchartButtonEl.disabled = true;  // To prevent multiple clicks.\n",
              "      quickchartButtonEl.classList.add('colab-df-spinner');\n",
              "      try {\n",
              "        const charts = await google.colab.kernel.invokeFunction(\n",
              "            'suggestCharts', [key], {});\n",
              "      } catch (error) {\n",
              "        console.error('Error during call to suggestCharts:', error);\n",
              "      }\n",
              "      quickchartButtonEl.classList.remove('colab-df-spinner');\n",
              "      quickchartButtonEl.classList.add('colab-df-quickchart-complete');\n",
              "    }\n",
              "    (() => {\n",
              "      let quickchartButtonEl =\n",
              "        document.querySelector('#df-f5317d22-7c3c-42f8-8cff-3c629f7bad40 button');\n",
              "      quickchartButtonEl.style.display =\n",
              "        google.colab.kernel.accessAllowed ? 'block' : 'none';\n",
              "    })();\n",
              "  </script>\n",
              "</div>\n",
              "    </div>\n",
              "  </div>\n"
            ]
          },
          "metadata": {},
          "execution_count": 19
        }
      ],
      "source": [
        "#prediccion contra el ds_test y guardamos submission\n",
        "y_pred = rf_cv_best.predict(dsReviewTestCopy.review_es)\n",
        "ds_submission = pd.DataFrame({'ID': dsReviewTest['ID'], 'sentimiento' : y_pred})\n",
        "ds_submission['sentimiento'] = ds_submission['sentimiento'].map({1: 'positivo', 0: 'negativo'})\n",
        "ds_submission.to_csv('./rfc_optimizado_f1_score_10_folds.csv', index=False)\n",
        "ds_submission.head()"
      ]
    },
    {
      "cell_type": "markdown",
      "source": [
        "#XGBoost"
      ],
      "metadata": {
        "id": "bDEK6VXJxI58"
      }
    },
    {
      "cell_type": "markdown",
      "source": [
        "## Instancio, entreno y testeo modelos\n",
        "\n",
        "Se entrenaran modelos Naive Bayes Multinomial utilizando una tokenizacion con el *vectorizer* creado anteriormente."
      ],
      "metadata": {
        "id": "EDpnYqHfHV1G"
      }
    },
    {
      "cell_type": "code",
      "source": [
        "model_tfid = make_pipeline(vectorizer, xgb.XGBClassifier(random_state=7, n_estimators=100))\n",
        "\n",
        "model_tfid.fit(x_train, y_train)\n",
        "\n",
        "model_tfid_prediction = model_tfid.predict(x_test)"
      ],
      "metadata": {
        "id": "WPErV4GwHZ-d"
      },
      "execution_count": 37,
      "outputs": []
    },
    {
      "cell_type": "markdown",
      "source": [
        "## Evaluo y visualizo resultados"
      ],
      "metadata": {
        "id": "uGX2HhbLKWhc"
      }
    },
    {
      "cell_type": "code",
      "source": [
        "# mostramos resultados\n",
        "mostrar_metricas(model_tfid_prediction, y_test)"
      ],
      "metadata": {
        "colab": {
          "base_uri": "https://localhost:8080/",
          "height": 612
        },
        "id": "hjEqCEmAKZSz",
        "outputId": "f6ef3101-4bf9-475a-ea0e-f10b97e6a708"
      },
      "execution_count": 38,
      "outputs": [
        {
          "output_type": "stream",
          "name": "stdout",
          "text": [
            "              precision    recall  f1-score   support\n",
            "\n",
            "           0       0.85      0.82      0.83      4985\n",
            "           1       0.83      0.86      0.84      5015\n",
            "\n",
            "    accuracy                           0.84     10000\n",
            "   macro avg       0.84      0.84      0.84     10000\n",
            "weighted avg       0.84      0.84      0.84     10000\n",
            "\n"
          ]
        },
        {
          "output_type": "display_data",
          "data": {
            "text/plain": [
              "<Figure size 640x480 with 2 Axes>"
            ],
            "image/png": "[encoded data removed]"
          },
          "metadata": {}
        }
      ]
    },
    {
      "cell_type": "markdown",
      "source": [
        "##Busqueda de los mejores hiperparametros"
      ],
      "metadata": {
        "id": "OU0_xu6VPwPR"
      }
    },
    {
      "cell_type": "code",
      "source": [
        "parameters = {\n",
        "}\n",
        "\n",
        "# Los siguientes parametros fueron especialmente seleccionados ya que fueron los mas optimos al momento de optimizar los datos en otro cuaderno. En aquel cuaderno se realizo el mismo procesamiento de datos, pero en lugar\n",
        "# de utilizar un pipeline, se realizo la vectorizacion previo a la separacion de conjuntos de tests y train. Sin embargo, haciendo la vectorizacion de esa manera se reciben peores resultados, asi que se decidio utilizar\n",
        "# el pipeline y los parametros optimizados del modelo entrenado en la otra notebook.\n",
        "\n",
        "# Sin embargo al intentar hacer optimizacion de hiperparametros con el pipeline tira error, no se porque. Asi que la mejor solucion fue esta.\n",
        "optimized = make_pipeline(vectorizer, xgb.XGBClassifier(random_state=0,\n",
        "                              subsample = 0.8,\n",
        "                            n_estimators = 300,\n",
        "                            min_child_weight = 1,\n",
        "                            max_depth = 4,\n",
        "                          learning_rate = 0.2,\n",
        "                        colsample_bytree = 1.0))\n",
        "\n",
        "grid_search = GridSearchCV(optimized, parameters, cv=5, n_jobs=-1)\n",
        "\n",
        "grid_search.fit(x_train, y_train)\n",
        "\n",
        "# Imprimir los mejores parámetros encontrados\n",
        "print(\"Mejores parámetros encontrados:\")\n",
        "print(grid_search.best_params_)\n",
        "\n",
        "# Evaluar el rendimiento accuracy en el conjunto de prueba\n",
        "accuracy = grid_search.score(x_test, y_test)\n",
        "print(f\"Precisión en el conjunto de prueba: {accuracy}\")\n",
        "\n",
        "best_model = grid_search.best_estimator_"
      ],
      "metadata": {
        "colab": {
          "base_uri": "https://localhost:8080/"
        },
        "id": "Xpw4xSneP1i2",
        "outputId": "cdef9db1-7567-4536-abd8-8a73efafa670"
      },
      "execution_count": 40,
      "outputs": [
        {
          "output_type": "stream",
          "name": "stdout",
          "text": [
            "Mejores parámetros encontrados:\n",
            "{}\n",
            "Precisión en el conjunto de prueba: 0.8559\n"
          ]
        }
      ]
    },
    {
      "cell_type": "code",
      "source": [
        "#Exportamos\n",
        "joblib.dump(best_model, 'xgboost.joblib')"
      ],
      "metadata": {
        "colab": {
          "base_uri": "https://localhost:8080/"
        },
        "id": "VQRBJUql1xfu",
        "outputId": "3506ace4-0b79-4abf-a57a-cf50e449297e"
      },
      "execution_count": 47,
      "outputs": [
        {
          "output_type": "execute_result",
          "data": {
            "text/plain": [
              "['xgboost.joblib']"
            ]
          },
          "metadata": {},
          "execution_count": 47
        }
      ]
    },
    {
      "cell_type": "markdown",
      "source": [
        "## Analisis de resultados"
      ],
      "metadata": {
        "id": "rlBvqlf1FTW8"
      }
    },
    {
      "cell_type": "code",
      "source": [
        "best_model = joblib.load('xgb.joblib')"
      ],
      "metadata": {
        "id": "10ohYuxIHciz"
      },
      "execution_count": 71,
      "outputs": []
    },
    {
      "cell_type": "code",
      "source": [
        "predict_best_model = best_model.predict(x_test)\n",
        "\n",
        "# mostramos resultados\n",
        "mostrar_metricas(predict_best_model, y_test)"
      ],
      "metadata": {
        "colab": {
          "base_uri": "https://localhost:8080/",
          "height": 612
        },
        "id": "RaCna5YnFVhh",
        "outputId": "6356818e-24e5-41e5-c533-62f0dc50b545"
      },
      "execution_count": 72,
      "outputs": [
        {
          "output_type": "stream",
          "name": "stdout",
          "text": [
            "              precision    recall  f1-score   support\n",
            "\n",
            "           0       0.87      0.84      0.85      4985\n",
            "           1       0.84      0.87      0.86      5015\n",
            "\n",
            "    accuracy                           0.86     10000\n",
            "   macro avg       0.86      0.86      0.86     10000\n",
            "weighted avg       0.86      0.86      0.86     10000\n",
            "\n"
          ]
        },
        {
          "output_type": "display_data",
          "data": {
            "text/plain": [
              "<Figure size 640x480 with 2 Axes>"
            ],
            "image/png": "[encoded data removed]"
          },
          "metadata": {}
        }
      ]
    },
    {
      "cell_type": "markdown",
      "source": [
        "## Pasamos a evaluar con el conjunto test real"
      ],
      "metadata": {
        "id": "3kEtX9SeYt8G"
      }
    },
    {
      "cell_type": "code",
      "source": [
        "y_pred = best_model.predict(dsReviewTest.review_es)\n",
        "df_submission = pd.DataFrame({'id': dsReviewTestCopy['ID'], 'sentimiento': y_pred})\n",
        "df_submission['sentimiento'] = df_submission['sentimiento'].map({1: 'positivo', 0: 'negativo'})\n",
        "df_submission.to_csv('xgboost_fix.csv', index=False)"
      ],
      "metadata": {
        "id": "TKifdZw_Y0Gr"
      },
      "execution_count": 73,
      "outputs": []
    },
    {
      "cell_type": "markdown",
      "source": [
        "# Red neuronal"
      ],
      "metadata": {
        "id": "t66_Os71Iv-j"
      }
    },
    {
      "cell_type": "markdown",
      "source": [
        "#Ensamble"
      ],
      "metadata": {
        "id": "Jd-sRFsxw30C"
      }
    },
    {
      "cell_type": "markdown",
      "source": [
        "La idea del ensambles es utilizar varios predictores debiles con el proposito de construir uno que en conjunto funcione mejor, aprovechando los modelos que entrenamos previamente armamos un ensamble de tipo Voting con XGBoost, RandomForest y Bayes Naive."
      ],
      "metadata": {
        "id": "6vv_uz8Z4rTU"
      }
    },
    {
      "cell_type": "code",
      "source": [
        "nb = joblib.load(\"nb.joblib\")\n",
        "xgb = joblib.load(\"xgb.joblib\")\n",
        "rf = joblib.load(\"rfc.joblib\")\n",
        "\n",
        "ensamble = VotingClassifier(estimators = [\n",
        "    ('nb', nb),\n",
        "    ('xgb', xgb),\n",
        "    ('rf', rf)\n",
        "])\n",
        "ensamble.fit(x_train, y_train)\n",
        "\n",
        "\n",
        "#TODO probar si mejora con cross validation"
      ],
      "metadata": {
        "colab": {
          "base_uri": "https://localhost:8080/",
          "height": 143
        },
        "id": "gRHf5VtVx1qF",
        "outputId": "11fe86a6-d9af-4c91-b4ac-29176e3005de"
      },
      "execution_count": 20,
      "outputs": [
        {
          "output_type": "execute_result",
          "data": {
            "text/plain": [
              "VotingClassifier(estimators=[('nb',\n",
              "                              Pipeline(steps=[('tfidfvectorizer',\n",
              "                                               TfidfVectorizer(stop_words=['i',\n",
              "                                                                           'me',\n",
              "                                                                           'my',\n",
              "                                                                           'myself',\n",
              "                                                                           'we',\n",
              "                                                                           'our',\n",
              "                                                                           'ours',\n",
              "                                                                           'ourselves',\n",
              "                                                                           'you',\n",
              "                                                                           \"you're\",\n",
              "                                                                           \"you've\",\n",
              "                                                                           \"you'll\",\n",
              "                                                                           \"you'd\",\n",
              "                                                                           'your',\n",
              "                                                                           'yours',\n",
              "                                                                           'yourself',\n",
              "                                                                           'yourselves',\n",
              "                                                                           'he',\n",
              "                                                                           'him',\n",
              "                                                                           'his',\n",
              "                                                                           'himself',\n",
              "                                                                           'she',\n",
              "                                                                           \"she's\",\n",
              "                                                                           'her',\n",
              "                                                                           'hers',\n",
              "                                                                           'herself',\n",
              "                                                                           'it',\n",
              "                                                                           \"it's\",\n",
              "                                                                           'its',\n",
              "                                                                           'itself', ...],\n",
              "                                                               strip_accents='unicode'...\n",
              "                                                                           \"you're\",\n",
              "                                                                           \"you've\",\n",
              "                                                                           \"you'll\",\n",
              "                                                                           \"you'd\",\n",
              "                                                                           'your',\n",
              "                                                                           'yours',\n",
              "                                                                           'yourself',\n",
              "                                                                           'yourselves',\n",
              "                                                                           'he',\n",
              "                                                                           'him',\n",
              "                                                                           'his',\n",
              "                                                                           'himself',\n",
              "                                                                           'she',\n",
              "                                                                           \"she's\",\n",
              "                                                                           'her',\n",
              "                                                                           'hers',\n",
              "                                                                           'herself',\n",
              "                                                                           'it',\n",
              "                                                                           \"it's\",\n",
              "                                                                           'its',\n",
              "                                                                           'itself', ...],\n",
              "                                                               strip_accents='unicode')),\n",
              "                                              ('randomforestclassifier',\n",
              "                                               RandomForestClassifier(class_weight='balanced',\n",
              "                                                                      max_features='auto',\n",
              "                                                                      min_samples_leaf=2,\n",
              "                                                                      n_estimators=40,\n",
              "                                                                      n_jobs=-1,\n",
              "                                                                      random_state=7))]))])"
            ],
            "text/html": [
              "<style>#sk-container-id-1 {color: black;background-color: white;}#sk-container-id-1 pre{padding: 0;}#sk-container-id-1 div.sk-toggleable {background-color: white;}#sk-container-id-1 label.sk-toggleable__label {cursor: pointer;display: block;width: 100%;margin-bottom: 0;padding: 0.3em;box-sizing: border-box;text-align: center;}#sk-container-id-1 label.sk-toggleable__label-arrow:before {content: \"▸\";float: left;margin-right: 0.25em;color: #696969;}#sk-container-id-1 label.sk-toggleable__label-arrow:hover:before {color: black;}#sk-container-id-1 div.sk-estimator:hover label.sk-toggleable__label-arrow:before {color: black;}#sk-container-id-1 div.sk-toggleable__content {max-height: 0;max-width: 0;overflow: hidden;text-align: left;background-color: #f0f8ff;}#sk-container-id-1 div.sk-toggleable__content pre {margin: 0.2em;color: black;border-radius: 0.25em;background-color: #f0f8ff;}#sk-container-id-1 input.sk-toggleable__control:checked~div.sk-toggleable__content {max-height: 200px;max-width: 100%;overflow: auto;}#sk-container-id-1 input.sk-toggleable__control:checked~label.sk-toggleable__label-arrow:before {content: \"▾\";}#sk-container-id-1 div.sk-estimator input.sk-toggleable__control:checked~label.sk-toggleable__label {background-color: #d4ebff;}#sk-container-id-1 div.sk-label input.sk-toggleable__control:checked~label.sk-toggleable__label {background-color: #d4ebff;}#sk-container-id-1 input.sk-hidden--visually {border: 0;clip: rect(1px 1px 1px 1px);clip: rect(1px, 1px, 1px, 1px);height: 1px;margin: -1px;overflow: hidden;padding: 0;position: absolute;width: 1px;}#sk-container-id-1 div.sk-estimator {font-family: monospace;background-color: #f0f8ff;border: 1px dotted black;border-radius: 0.25em;box-sizing: border-box;margin-bottom: 0.5em;}#sk-container-id-1 div.sk-estimator:hover {background-color: #d4ebff;}#sk-container-id-1 div.sk-parallel-item::after {content: \"\";width: 100%;border-bottom: 1px solid gray;flex-grow: 1;}#sk-container-id-1 div.sk-label:hover label.sk-toggleable__label {background-color: #d4ebff;}#sk-container-id-1 div.sk-serial::before {content: \"\";position: absolute;border-left: 1px solid gray;box-sizing: border-box;top: 0;bottom: 0;left: 50%;z-index: 0;}#sk-container-id-1 div.sk-serial {display: flex;flex-direction: column;align-items: center;background-color: white;padding-right: 0.2em;padding-left: 0.2em;position: relative;}#sk-container-id-1 div.sk-item {position: relative;z-index: 1;}#sk-container-id-1 div.sk-parallel {display: flex;align-items: stretch;justify-content: center;background-color: white;position: relative;}#sk-container-id-1 div.sk-item::before, #sk-container-id-1 div.sk-parallel-item::before {content: \"\";position: absolute;border-left: 1px solid gray;box-sizing: border-box;top: 0;bottom: 0;left: 50%;z-index: -1;}#sk-container-id-1 div.sk-parallel-item {display: flex;flex-direction: column;z-index: 1;position: relative;background-color: white;}#sk-container-id-1 div.sk-parallel-item:first-child::after {align-self: flex-end;width: 50%;}#sk-container-id-1 div.sk-parallel-item:last-child::after {align-self: flex-start;width: 50%;}#sk-container-id-1 div.sk-parallel-item:only-child::after {width: 0;}#sk-container-id-1 div.sk-dashed-wrapped {border: 1px dashed gray;margin: 0 0.4em 0.5em 0.4em;box-sizing: border-box;padding-bottom: 0.4em;background-color: white;}#sk-container-id-1 div.sk-label label {font-family: monospace;font-weight: bold;display: inline-block;line-height: 1.2em;}#sk-container-id-1 div.sk-label-container {text-align: center;}#sk-container-id-1 div.sk-container {/* jupyter's `normalize.less` sets `[hidden] { display: none; }` but bootstrap.min.css set `[hidden] { display: none !important; }` so we also need the `!important` here to be able to override the default hidden behavior on the sphinx rendered scikit-learn.org. See: https://github.com/scikit-learn/scikit-learn/issues/21755 */display: inline-block !important;position: relative;}#sk-container-id-1 div.sk-text-repr-fallback {display: none;}</style><div id=\"sk-container-id-1\" class=\"sk-top-container\"><div class=\"sk-text-repr-fallback\"><pre>VotingClassifier(estimators=[(&#x27;nb&#x27;,\n",
              "                              Pipeline(steps=[(&#x27;tfidfvectorizer&#x27;,\n",
              "                                               TfidfVectorizer(stop_words=[&#x27;i&#x27;,\n",
              "                                                                           &#x27;me&#x27;,\n",
              "                                                                           &#x27;my&#x27;,\n",
              "                                                                           &#x27;myself&#x27;,\n",
              "                                                                           &#x27;we&#x27;,\n",
              "                                                                           &#x27;our&#x27;,\n",
              "                                                                           &#x27;ours&#x27;,\n",
              "                                                                           &#x27;ourselves&#x27;,\n",
              "                                                                           &#x27;you&#x27;,\n",
              "                                                                           &quot;you&#x27;re&quot;,\n",
              "                                                                           &quot;you&#x27;ve&quot;,\n",
              "                                                                           &quot;you&#x27;ll&quot;,\n",
              "                                                                           &quot;you&#x27;d&quot;,\n",
              "                                                                           &#x27;your&#x27;,\n",
              "                                                                           &#x27;yours&#x27;,\n",
              "                                                                           &#x27;yourself&#x27;,\n",
              "                                                                           &#x27;yourselves&#x27;,\n",
              "                                                                           &#x27;he&#x27;,\n",
              "                                                                           &#x27;him&#x27;,\n",
              "                                                                           &#x27;his&#x27;,\n",
              "                                                                           &#x27;himself&#x27;,\n",
              "                                                                           &#x27;she&#x27;,\n",
              "                                                                           &quot;she&#x27;s&quot;,\n",
              "                                                                           &#x27;her&#x27;,\n",
              "                                                                           &#x27;hers&#x27;,\n",
              "                                                                           &#x27;herself&#x27;,\n",
              "                                                                           &#x27;it&#x27;,\n",
              "                                                                           &quot;it&#x27;s&quot;,\n",
              "                                                                           &#x27;its&#x27;,\n",
              "                                                                           &#x27;itself&#x27;, ...],\n",
              "                                                               strip_accents=&#x27;unicode&#x27;...\n",
              "                                                                           &quot;you&#x27;re&quot;,\n",
              "                                                                           &quot;you&#x27;ve&quot;,\n",
              "                                                                           &quot;you&#x27;ll&quot;,\n",
              "                                                                           &quot;you&#x27;d&quot;,\n",
              "                                                                           &#x27;your&#x27;,\n",
              "                                                                           &#x27;yours&#x27;,\n",
              "                                                                           &#x27;yourself&#x27;,\n",
              "                                                                           &#x27;yourselves&#x27;,\n",
              "                                                                           &#x27;he&#x27;,\n",
              "                                                                           &#x27;him&#x27;,\n",
              "                                                                           &#x27;his&#x27;,\n",
              "                                                                           &#x27;himself&#x27;,\n",
              "                                                                           &#x27;she&#x27;,\n",
              "                                                                           &quot;she&#x27;s&quot;,\n",
              "                                                                           &#x27;her&#x27;,\n",
              "                                                                           &#x27;hers&#x27;,\n",
              "                                                                           &#x27;herself&#x27;,\n",
              "                                                                           &#x27;it&#x27;,\n",
              "                                                                           &quot;it&#x27;s&quot;,\n",
              "                                                                           &#x27;its&#x27;,\n",
              "                                                                           &#x27;itself&#x27;, ...],\n",
              "                                                               strip_accents=&#x27;unicode&#x27;)),\n",
              "                                              (&#x27;randomforestclassifier&#x27;,\n",
              "                                               RandomForestClassifier(class_weight=&#x27;balanced&#x27;,\n",
              "                                                                      max_features=&#x27;auto&#x27;,\n",
              "                                                                      min_samples_leaf=2,\n",
              "                                                                      n_estimators=40,\n",
              "                                                                      n_jobs=-1,\n",
              "                                                                      random_state=7))]))])</pre><b>In a Jupyter environment, please rerun this cell to show the HTML representation or trust the notebook. <br />On GitHub, the HTML representation is unable to render, please try loading this page with nbviewer.org.</b></div><div class=\"sk-container\" hidden><div class=\"sk-item sk-dashed-wrapped\"><div class=\"sk-label-container\"><div class=\"sk-label sk-toggleable\"><input class=\"sk-toggleable__control sk-hidden--visually\" id=\"sk-estimator-id-1\" type=\"checkbox\" ><label for=\"sk-estimator-id-1\" class=\"sk-toggleable__label sk-toggleable__label-arrow\">VotingClassifier</label><div class=\"sk-toggleable__content\"><pre>VotingClassifier(estimators=[(&#x27;nb&#x27;,\n",
              "                              Pipeline(steps=[(&#x27;tfidfvectorizer&#x27;,\n",
              "                                               TfidfVectorizer(stop_words=[&#x27;i&#x27;,\n",
              "                                                                           &#x27;me&#x27;,\n",
              "                                                                           &#x27;my&#x27;,\n",
              "                                                                           &#x27;myself&#x27;,\n",
              "                                                                           &#x27;we&#x27;,\n",
              "                                                                           &#x27;our&#x27;,\n",
              "                                                                           &#x27;ours&#x27;,\n",
              "                                                                           &#x27;ourselves&#x27;,\n",
              "                                                                           &#x27;you&#x27;,\n",
              "                                                                           &quot;you&#x27;re&quot;,\n",
              "                                                                           &quot;you&#x27;ve&quot;,\n",
              "                                                                           &quot;you&#x27;ll&quot;,\n",
              "                                                                           &quot;you&#x27;d&quot;,\n",
              "                                                                           &#x27;your&#x27;,\n",
              "                                                                           &#x27;yours&#x27;,\n",
              "                                                                           &#x27;yourself&#x27;,\n",
              "                                                                           &#x27;yourselves&#x27;,\n",
              "                                                                           &#x27;he&#x27;,\n",
              "                                                                           &#x27;him&#x27;,\n",
              "                                                                           &#x27;his&#x27;,\n",
              "                                                                           &#x27;himself&#x27;,\n",
              "                                                                           &#x27;she&#x27;,\n",
              "                                                                           &quot;she&#x27;s&quot;,\n",
              "                                                                           &#x27;her&#x27;,\n",
              "                                                                           &#x27;hers&#x27;,\n",
              "                                                                           &#x27;herself&#x27;,\n",
              "                                                                           &#x27;it&#x27;,\n",
              "                                                                           &quot;it&#x27;s&quot;,\n",
              "                                                                           &#x27;its&#x27;,\n",
              "                                                                           &#x27;itself&#x27;, ...],\n",
              "                                                               strip_accents=&#x27;unicode&#x27;...\n",
              "                                                                           &quot;you&#x27;re&quot;,\n",
              "                                                                           &quot;you&#x27;ve&quot;,\n",
              "                                                                           &quot;you&#x27;ll&quot;,\n",
              "                                                                           &quot;you&#x27;d&quot;,\n",
              "                                                                           &#x27;your&#x27;,\n",
              "                                                                           &#x27;yours&#x27;,\n",
              "                                                                           &#x27;yourself&#x27;,\n",
              "                                                                           &#x27;yourselves&#x27;,\n",
              "                                                                           &#x27;he&#x27;,\n",
              "                                                                           &#x27;him&#x27;,\n",
              "                                                                           &#x27;his&#x27;,\n",
              "                                                                           &#x27;himself&#x27;,\n",
              "                                                                           &#x27;she&#x27;,\n",
              "                                                                           &quot;she&#x27;s&quot;,\n",
              "                                                                           &#x27;her&#x27;,\n",
              "                                                                           &#x27;hers&#x27;,\n",
              "                                                                           &#x27;herself&#x27;,\n",
              "                                                                           &#x27;it&#x27;,\n",
              "                                                                           &quot;it&#x27;s&quot;,\n",
              "                                                                           &#x27;its&#x27;,\n",
              "                                                                           &#x27;itself&#x27;, ...],\n",
              "                                                               strip_accents=&#x27;unicode&#x27;)),\n",
              "                                              (&#x27;randomforestclassifier&#x27;,\n",
              "                                               RandomForestClassifier(class_weight=&#x27;balanced&#x27;,\n",
              "                                                                      max_features=&#x27;auto&#x27;,\n",
              "                                                                      min_samples_leaf=2,\n",
              "                                                                      n_estimators=40,\n",
              "                                                                      n_jobs=-1,\n",
              "                                                                      random_state=7))]))])</pre></div></div></div><div class=\"sk-parallel\"><div class=\"sk-parallel-item\"><div class=\"sk-item\"><div class=\"sk-label-container\"><div class=\"sk-label sk-toggleable\"><label>nb</label></div></div><div class=\"sk-serial\"><div class=\"sk-item\"><div class=\"sk-serial\"><div class=\"sk-item\"><div class=\"sk-estimator sk-toggleable\"><input class=\"sk-toggleable__control sk-hidden--visually\" id=\"sk-estimator-id-2\" type=\"checkbox\" ><label for=\"sk-estimator-id-2\" class=\"sk-toggleable__label sk-toggleable__label-arrow\">TfidfVectorizer</label><div class=\"sk-toggleable__content\"><pre>TfidfVectorizer(stop_words=[&#x27;i&#x27;, &#x27;me&#x27;, &#x27;my&#x27;, &#x27;myself&#x27;, &#x27;we&#x27;, &#x27;our&#x27;, &#x27;ours&#x27;,\n",
              "                            &#x27;ourselves&#x27;, &#x27;you&#x27;, &quot;you&#x27;re&quot;, &quot;you&#x27;ve&quot;, &quot;you&#x27;ll&quot;,\n",
              "                            &quot;you&#x27;d&quot;, &#x27;your&#x27;, &#x27;yours&#x27;, &#x27;yourself&#x27;, &#x27;yourselves&#x27;,\n",
              "                            &#x27;he&#x27;, &#x27;him&#x27;, &#x27;his&#x27;, &#x27;himself&#x27;, &#x27;she&#x27;, &quot;she&#x27;s&quot;,\n",
              "                            &#x27;her&#x27;, &#x27;hers&#x27;, &#x27;herself&#x27;, &#x27;it&#x27;, &quot;it&#x27;s&quot;, &#x27;its&#x27;,\n",
              "                            &#x27;itself&#x27;, ...],\n",
              "                strip_accents=&#x27;unicode&#x27;)</pre></div></div></div><div class=\"sk-item\"><div class=\"sk-estimator sk-toggleable\"><input class=\"sk-toggleable__control sk-hidden--visually\" id=\"sk-estimator-id-3\" type=\"checkbox\" ><label for=\"sk-estimator-id-3\" class=\"sk-toggleable__label sk-toggleable__label-arrow\">MultinomialNB</label><div class=\"sk-toggleable__content\"><pre>MultinomialNB(alpha=0.1)</pre></div></div></div></div></div></div></div></div><div class=\"sk-parallel-item\"><div class=\"sk-item\"><div class=\"sk-label-container\"><div class=\"sk-label sk-toggleable\"><label>xgb</label></div></div><div class=\"sk-serial\"><div class=\"sk-item\"><div class=\"sk-serial\"><div class=\"sk-item\"><div class=\"sk-estimator sk-toggleable\"><input class=\"sk-toggleable__control sk-hidden--visually\" id=\"sk-estimator-id-4\" type=\"checkbox\" ><label for=\"sk-estimator-id-4\" class=\"sk-toggleable__label sk-toggleable__label-arrow\">TfidfVectorizer</label><div class=\"sk-toggleable__content\"><pre>TfidfVectorizer(stop_words=[&#x27;i&#x27;, &#x27;me&#x27;, &#x27;my&#x27;, &#x27;myself&#x27;, &#x27;we&#x27;, &#x27;our&#x27;, &#x27;ours&#x27;,\n",
              "                            &#x27;ourselves&#x27;, &#x27;you&#x27;, &quot;you&#x27;re&quot;, &quot;you&#x27;ve&quot;, &quot;you&#x27;ll&quot;,\n",
              "                            &quot;you&#x27;d&quot;, &#x27;your&#x27;, &#x27;yours&#x27;, &#x27;yourself&#x27;, &#x27;yourselves&#x27;,\n",
              "                            &#x27;he&#x27;, &#x27;him&#x27;, &#x27;his&#x27;, &#x27;himself&#x27;, &#x27;she&#x27;, &quot;she&#x27;s&quot;,\n",
              "                            &#x27;her&#x27;, &#x27;hers&#x27;, &#x27;herself&#x27;, &#x27;it&#x27;, &quot;it&#x27;s&quot;, &#x27;its&#x27;,\n",
              "                            &#x27;itself&#x27;, ...],\n",
              "                strip_accents=&#x27;unicode&#x27;)</pre></div></div></div><div class=\"sk-item\"><div class=\"sk-estimator sk-toggleable\"><input class=\"sk-toggleable__control sk-hidden--visually\" id=\"sk-estimator-id-5\" type=\"checkbox\" ><label for=\"sk-estimator-id-5\" class=\"sk-toggleable__label sk-toggleable__label-arrow\">XGBClassifier</label><div class=\"sk-toggleable__content\"><pre>XGBClassifier(base_score=None, booster=None, callbacks=None,\n",
              "              colsample_bylevel=None, colsample_bynode=None,\n",
              "              colsample_bytree=1.0, device=None, early_stopping_rounds=None,\n",
              "              enable_categorical=False, eval_metric=None, feature_types=None,\n",
              "              gamma=None, grow_policy=None, importance_type=None,\n",
              "              interaction_constraints=None, learning_rate=0.2, max_bin=None,\n",
              "              max_cat_threshold=None, max_cat_to_onehot=None,\n",
              "              max_delta_step=None, max_depth=4, max_leaves=None,\n",
              "              min_child_weight=1, missing=nan, monotone_constraints=None,\n",
              "              multi_strategy=None, n_estimators=300, n_jobs=None,\n",
              "              num_parallel_tree=None, random_state=0, ...)</pre></div></div></div></div></div></div></div></div><div class=\"sk-parallel-item\"><div class=\"sk-item\"><div class=\"sk-label-container\"><div class=\"sk-label sk-toggleable\"><label>rf</label></div></div><div class=\"sk-serial\"><div class=\"sk-item\"><div class=\"sk-serial\"><div class=\"sk-item\"><div class=\"sk-estimator sk-toggleable\"><input class=\"sk-toggleable__control sk-hidden--visually\" id=\"sk-estimator-id-6\" type=\"checkbox\" ><label for=\"sk-estimator-id-6\" class=\"sk-toggleable__label sk-toggleable__label-arrow\">TfidfVectorizer</label><div class=\"sk-toggleable__content\"><pre>TfidfVectorizer(stop_words=[&#x27;i&#x27;, &#x27;me&#x27;, &#x27;my&#x27;, &#x27;myself&#x27;, &#x27;we&#x27;, &#x27;our&#x27;, &#x27;ours&#x27;,\n",
              "                            &#x27;ourselves&#x27;, &#x27;you&#x27;, &quot;you&#x27;re&quot;, &quot;you&#x27;ve&quot;, &quot;you&#x27;ll&quot;,\n",
              "                            &quot;you&#x27;d&quot;, &#x27;your&#x27;, &#x27;yours&#x27;, &#x27;yourself&#x27;, &#x27;yourselves&#x27;,\n",
              "                            &#x27;he&#x27;, &#x27;him&#x27;, &#x27;his&#x27;, &#x27;himself&#x27;, &#x27;she&#x27;, &quot;she&#x27;s&quot;,\n",
              "                            &#x27;her&#x27;, &#x27;hers&#x27;, &#x27;herself&#x27;, &#x27;it&#x27;, &quot;it&#x27;s&quot;, &#x27;its&#x27;,\n",
              "                            &#x27;itself&#x27;, ...],\n",
              "                strip_accents=&#x27;unicode&#x27;)</pre></div></div></div><div class=\"sk-item\"><div class=\"sk-estimator sk-toggleable\"><input class=\"sk-toggleable__control sk-hidden--visually\" id=\"sk-estimator-id-7\" type=\"checkbox\" ><label for=\"sk-estimator-id-7\" class=\"sk-toggleable__label sk-toggleable__label-arrow\">RandomForestClassifier</label><div class=\"sk-toggleable__content\"><pre>RandomForestClassifier(class_weight=&#x27;balanced&#x27;, max_features=&#x27;auto&#x27;,\n",
              "                       min_samples_leaf=2, n_estimators=40, n_jobs=-1,\n",
              "                       random_state=7)</pre></div></div></div></div></div></div></div></div></div></div></div></div>"
            ]
          },
          "metadata": {},
          "execution_count": 20
        }
      ]
    },
    {
      "cell_type": "code",
      "source": [
        "#evaluamos con el conjunto de prueba\n",
        "predict_best_model = ensamble.predict(x_test)\n",
        "\n",
        "# mostramos resultados\n",
        "mostrar_metricas(predict_best_model, y_test)"
      ],
      "metadata": {
        "colab": {
          "base_uri": "https://localhost:8080/",
          "height": 612
        },
        "id": "JL0cspwW-ye7",
        "outputId": "9bb9936d-f820-41b1-ca09-4ccdcd144f13"
      },
      "execution_count": 21,
      "outputs": [
        {
          "output_type": "stream",
          "name": "stdout",
          "text": [
            "              precision    recall  f1-score   support\n",
            "\n",
            "           0       0.87      0.86      0.87      4985\n",
            "           1       0.86      0.88      0.87      5015\n",
            "\n",
            "    accuracy                           0.87     10000\n",
            "   macro avg       0.87      0.87      0.87     10000\n",
            "weighted avg       0.87      0.87      0.87     10000\n",
            "\n"
          ]
        },
        {
          "output_type": "display_data",
          "data": {
            "text/plain": [
              "<Figure size 640x480 with 2 Axes>"
            ],
            "image/png": "[encoded data removed]"
          },
          "metadata": {}
        }
      ]
    },
    {
      "cell_type": "code",
      "source": [
        "#Exportamos\n",
        "joblib.dump(ensamble, 'voting.joblib')"
      ],
      "metadata": {
        "colab": {
          "base_uri": "https://localhost:8080/"
        },
        "id": "9edcQ-r7-89G",
        "outputId": "a2308785-eab5-4365-e083-3c05ee36470d"
      },
      "execution_count": 22,
      "outputs": [
        {
          "output_type": "execute_result",
          "data": {
            "text/plain": [
              "['voting.joblib']"
            ]
          },
          "metadata": {},
          "execution_count": 22
        }
      ]
    },
    {
      "cell_type": "markdown",
      "source": [
        "##Evaluamos con el dsTest"
      ],
      "metadata": {
        "id": "06Urh65X3-ps"
      }
    },
    {
      "cell_type": "code",
      "source": [
        "y_pred = ensamble.predict(dsReviewTest.review_es)\n",
        "df_submission = pd.DataFrame({'id': dsReviewTestCopy['ID'], 'sentimiento': y_pred})\n",
        "df_submission['sentimiento'] = df_submission['sentimiento'].map({1: 'positivo', 0: 'negativo'})\n",
        "df_submission.to_csv('voting_fix.csv', index=False)"
      ],
      "metadata": {
        "id": "y7dIFz_x4Eta"
      },
      "execution_count": 23,
      "outputs": []
    }
  ]
}