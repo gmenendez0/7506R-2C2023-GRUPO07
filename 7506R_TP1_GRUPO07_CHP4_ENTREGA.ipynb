{
  "cells": [
    {
      "cell_type": "markdown",
      "metadata": {
        "id": "view-in-github",
        "colab_type": "text"
      },
      "source": [
        "<a href=\"https://colab.research.google.com/github/gmenendez0/7506R-2C2023-GRUPO07/blob/main/7506R_TP1_GRUPO07_CHP4_ENTREGA.ipynb\" target=\"_parent\"><img src=\"https://colab.research.google.com/assets/colab-badge.svg\" alt=\"Open In Colab\"/></a>"
      ]
    },
    {
      "cell_type": "code",
      "execution_count": 5,
      "metadata": {
        "id": "La669L9X7IP6"
      },
      "outputs": [],
      "source": [
        "import matplotlib.pyplot as plt\n",
        "import seaborn as sns\n",
        "\n",
        "import pandas as pd\n",
        "import numpy as np\n",
        "\n",
        "from sklearn.metrics import f1_score,  recall_score, precision_score, accuracy_score\n",
        "from sklearn.preprocessing import StandardScaler\n",
        "from sklearn.model_selection import train_test_split\n",
        "from sklearn.metrics import confusion_matrix,classification_report\n",
        "\n",
        "import tensorflow as tf\n",
        "from tensorflow import keras\n",
        "# from keras.utils.vis_utils import plot_model\n",
        "# import visualkeras\n",
        "\n",
        "np.random.seed(1)\n",
        "tf.random.set_seed(1)\n",
        "\n",
        "import warnings\n",
        "warnings.filterwarnings(\"ignore\", category=DeprecationWarning)"
      ]
    },
    {
      "cell_type": "code",
      "execution_count": 6,
      "metadata": {
        "id": "D4ND7oxF85dS"
      },
      "outputs": [],
      "source": [
        "dsTrain = pd.read_csv('dsCHPUltimo.csv')\n",
        "dsTest = pd.read_csv('dsCHPTestUltimo.csv')\n",
        "dsTrainCopy = dsTrain.copy()\n",
        "dsTestCopy = dsTest.copy()\n",
        "dsHotelTest = pd.read_csv('hotels_test.csv')"
      ]
    },
    {
      "cell_type": "code",
      "execution_count": 7,
      "metadata": {
        "colab": {
          "base_uri": "https://localhost:8080/",
          "height": 617
        },
        "id": "C2qpwSgArTw7",
        "outputId": "4f176f3d-5b4d-47c0-85b0-074ea86042aa"
      },
      "outputs": [
        {
          "output_type": "execute_result",
          "data": {
            "text/plain": [
              "              hotel  lead_time  arrival_date_year  arrival_date_month  \\\n",
              "0        City Hotel         49               2016                   9   \n",
              "1      Resort Hotel          4               2015                  10   \n",
              "2        City Hotel         25               2016                  10   \n",
              "3        City Hotel         26               2016                  12   \n",
              "4        City Hotel        104               2017                   3   \n",
              "...             ...        ...                ...                 ...   \n",
              "60409  Resort Hotel         24               2017                   1   \n",
              "60410    City Hotel          0               2016                   9   \n",
              "60411    City Hotel         10               2017                   5   \n",
              "60412  Resort Hotel        143               2015                  10   \n",
              "60413    City Hotel         57               2016                   4   \n",
              "\n",
              "       arrival_date_day_of_month  stays_in_weekend_nights  \\\n",
              "0                              5                        1   \n",
              "1                             31                        0   \n",
              "2                             13                        0   \n",
              "3                             12                        2   \n",
              "4                             19                        2   \n",
              "...                          ...                      ...   \n",
              "60409                         27                        0   \n",
              "60410                          2                        0   \n",
              "60411                          8                        1   \n",
              "60412                         10                        2   \n",
              "60413                         17                        2   \n",
              "\n",
              "       stays_in_week_nights  adults  children  babies  ... booking_changes  \\\n",
              "0                         2       1         0       0  ...               0   \n",
              "1                         1       2         0       0  ...               0   \n",
              "2                         1       2         2       0  ...               0   \n",
              "3                         5       2         0       0  ...               0   \n",
              "4                         5       2         0       0  ...               0   \n",
              "...                     ...     ...       ...     ...  ...             ...   \n",
              "60409                     2       2         0       0  ...               0   \n",
              "60410                     1       1         0       0  ...               0   \n",
              "60411                     2       1         0       0  ...               0   \n",
              "60412                     5       2         0       0  ...               0   \n",
              "60413                     5       2         0       0  ...               1   \n",
              "\n",
              "      deposit_type   agent days_in_waiting_list    customer_type     adr  \\\n",
              "0       No Deposit       A                    0        Transient  115.50   \n",
              "1       No Deposit       B                    0        Transient   42.00   \n",
              "2       No Deposit       A                    0        Transient  229.00   \n",
              "3       Non Refund  Others                    0        Transient   75.00   \n",
              "4       No Deposit  Others                    0  Transient-Party   75.00   \n",
              "...            ...     ...                  ...              ...     ...   \n",
              "60409   No Deposit       F                    0        Transient   48.00   \n",
              "60410   No Deposit       B                    0        Transient  149.00   \n",
              "60411   No Deposit       B                    0        Transient   95.00   \n",
              "60412   Non Refund  Others                    0        Transient   36.05   \n",
              "60413   No Deposit       A                    0        Transient  143.29   \n",
              "\n",
              "       required_car_parking_spaces total_of_special_requests  \\\n",
              "0                                0                         1   \n",
              "1                                1                         0   \n",
              "2                                0                         2   \n",
              "3                                0                         0   \n",
              "4                                0                         1   \n",
              "...                            ...                       ...   \n",
              "60409                            0                         1   \n",
              "60410                            0                         0   \n",
              "60411                            0                         0   \n",
              "60412                            0                         0   \n",
              "60413                            0                         0   \n",
              "\n",
              "      high_season_month  is_canceled  \n",
              "0                     0            1  \n",
              "1                     1            0  \n",
              "2                     1            0  \n",
              "3                     0            1  \n",
              "4                     0            0  \n",
              "...                 ...          ...  \n",
              "60409                 0            1  \n",
              "60410                 0            0  \n",
              "60411                 1            0  \n",
              "60412                 1            1  \n",
              "60413                 1            1  \n",
              "\n",
              "[60414 rows x 29 columns]"
            ],
            "text/html": [
              "\n",
              "  <div id=\"df-e242a7d6-d723-41e5-b3dc-770ab7c926ad\" class=\"colab-df-container\">\n",
              "    <div>\n",
              "<style scoped>\n",
              "    .dataframe tbody tr th:only-of-type {\n",
              "        vertical-align: middle;\n",
              "    }\n",
              "\n",
              "    .dataframe tbody tr th {\n",
              "        vertical-align: top;\n",
              "    }\n",
              "\n",
              "    .dataframe thead th {\n",
              "        text-align: right;\n",
              "    }\n",
              "</style>\n",
              "<table border=\"1\" class=\"dataframe\">\n",
              "  <thead>\n",
              "    <tr style=\"text-align: right;\">\n",
              "      <th></th>\n",
              "      <th>hotel</th>\n",
              "      <th>lead_time</th>\n",
              "      <th>arrival_date_year</th>\n",
              "      <th>arrival_date_month</th>\n",
              "      <th>arrival_date_day_of_month</th>\n",
              "      <th>stays_in_weekend_nights</th>\n",
              "      <th>stays_in_week_nights</th>\n",
              "      <th>adults</th>\n",
              "      <th>children</th>\n",
              "      <th>babies</th>\n",
              "      <th>...</th>\n",
              "      <th>booking_changes</th>\n",
              "      <th>deposit_type</th>\n",
              "      <th>agent</th>\n",
              "      <th>days_in_waiting_list</th>\n",
              "      <th>customer_type</th>\n",
              "      <th>adr</th>\n",
              "      <th>required_car_parking_spaces</th>\n",
              "      <th>total_of_special_requests</th>\n",
              "      <th>high_season_month</th>\n",
              "      <th>is_canceled</th>\n",
              "    </tr>\n",
              "  </thead>\n",
              "  <tbody>\n",
              "    <tr>\n",
              "      <th>0</th>\n",
              "      <td>City Hotel</td>\n",
              "      <td>49</td>\n",
              "      <td>2016</td>\n",
              "      <td>9</td>\n",
              "      <td>5</td>\n",
              "      <td>1</td>\n",
              "      <td>2</td>\n",
              "      <td>1</td>\n",
              "      <td>0</td>\n",
              "      <td>0</td>\n",
              "      <td>...</td>\n",
              "      <td>0</td>\n",
              "      <td>No Deposit</td>\n",
              "      <td>A</td>\n",
              "      <td>0</td>\n",
              "      <td>Transient</td>\n",
              "      <td>115.50</td>\n",
              "      <td>0</td>\n",
              "      <td>1</td>\n",
              "      <td>0</td>\n",
              "      <td>1</td>\n",
              "    </tr>\n",
              "    <tr>\n",
              "      <th>1</th>\n",
              "      <td>Resort Hotel</td>\n",
              "      <td>4</td>\n",
              "      <td>2015</td>\n",
              "      <td>10</td>\n",
              "      <td>31</td>\n",
              "      <td>0</td>\n",
              "      <td>1</td>\n",
              "      <td>2</td>\n",
              "      <td>0</td>\n",
              "      <td>0</td>\n",
              "      <td>...</td>\n",
              "      <td>0</td>\n",
              "      <td>No Deposit</td>\n",
              "      <td>B</td>\n",
              "      <td>0</td>\n",
              "      <td>Transient</td>\n",
              "      <td>42.00</td>\n",
              "      <td>1</td>\n",
              "      <td>0</td>\n",
              "      <td>1</td>\n",
              "      <td>0</td>\n",
              "    </tr>\n",
              "    <tr>\n",
              "      <th>2</th>\n",
              "      <td>City Hotel</td>\n",
              "      <td>25</td>\n",
              "      <td>2016</td>\n",
              "      <td>10</td>\n",
              "      <td>13</td>\n",
              "      <td>0</td>\n",
              "      <td>1</td>\n",
              "      <td>2</td>\n",
              "      <td>2</td>\n",
              "      <td>0</td>\n",
              "      <td>...</td>\n",
              "      <td>0</td>\n",
              "      <td>No Deposit</td>\n",
              "      <td>A</td>\n",
              "      <td>0</td>\n",
              "      <td>Transient</td>\n",
              "      <td>229.00</td>\n",
              "      <td>0</td>\n",
              "      <td>2</td>\n",
              "      <td>1</td>\n",
              "      <td>0</td>\n",
              "    </tr>\n",
              "    <tr>\n",
              "      <th>3</th>\n",
              "      <td>City Hotel</td>\n",
              "      <td>26</td>\n",
              "      <td>2016</td>\n",
              "      <td>12</td>\n",
              "      <td>12</td>\n",
              "      <td>2</td>\n",
              "      <td>5</td>\n",
              "      <td>2</td>\n",
              "      <td>0</td>\n",
              "      <td>0</td>\n",
              "      <td>...</td>\n",
              "      <td>0</td>\n",
              "      <td>Non Refund</td>\n",
              "      <td>Others</td>\n",
              "      <td>0</td>\n",
              "      <td>Transient</td>\n",
              "      <td>75.00</td>\n",
              "      <td>0</td>\n",
              "      <td>0</td>\n",
              "      <td>0</td>\n",
              "      <td>1</td>\n",
              "    </tr>\n",
              "    <tr>\n",
              "      <th>4</th>\n",
              "      <td>City Hotel</td>\n",
              "      <td>104</td>\n",
              "      <td>2017</td>\n",
              "      <td>3</td>\n",
              "      <td>19</td>\n",
              "      <td>2</td>\n",
              "      <td>5</td>\n",
              "      <td>2</td>\n",
              "      <td>0</td>\n",
              "      <td>0</td>\n",
              "      <td>...</td>\n",
              "      <td>0</td>\n",
              "      <td>No Deposit</td>\n",
              "      <td>Others</td>\n",
              "      <td>0</td>\n",
              "      <td>Transient-Party</td>\n",
              "      <td>75.00</td>\n",
              "      <td>0</td>\n",
              "      <td>1</td>\n",
              "      <td>0</td>\n",
              "      <td>0</td>\n",
              "    </tr>\n",
              "    <tr>\n",
              "      <th>...</th>\n",
              "      <td>...</td>\n",
              "      <td>...</td>\n",
              "      <td>...</td>\n",
              "      <td>...</td>\n",
              "      <td>...</td>\n",
              "      <td>...</td>\n",
              "      <td>...</td>\n",
              "      <td>...</td>\n",
              "      <td>...</td>\n",
              "      <td>...</td>\n",
              "      <td>...</td>\n",
              "      <td>...</td>\n",
              "      <td>...</td>\n",
              "      <td>...</td>\n",
              "      <td>...</td>\n",
              "      <td>...</td>\n",
              "      <td>...</td>\n",
              "      <td>...</td>\n",
              "      <td>...</td>\n",
              "      <td>...</td>\n",
              "      <td>...</td>\n",
              "    </tr>\n",
              "    <tr>\n",
              "      <th>60409</th>\n",
              "      <td>Resort Hotel</td>\n",
              "      <td>24</td>\n",
              "      <td>2017</td>\n",
              "      <td>1</td>\n",
              "      <td>27</td>\n",
              "      <td>0</td>\n",
              "      <td>2</td>\n",
              "      <td>2</td>\n",
              "      <td>0</td>\n",
              "      <td>0</td>\n",
              "      <td>...</td>\n",
              "      <td>0</td>\n",
              "      <td>No Deposit</td>\n",
              "      <td>F</td>\n",
              "      <td>0</td>\n",
              "      <td>Transient</td>\n",
              "      <td>48.00</td>\n",
              "      <td>0</td>\n",
              "      <td>1</td>\n",
              "      <td>0</td>\n",
              "      <td>1</td>\n",
              "    </tr>\n",
              "    <tr>\n",
              "      <th>60410</th>\n",
              "      <td>City Hotel</td>\n",
              "      <td>0</td>\n",
              "      <td>2016</td>\n",
              "      <td>9</td>\n",
              "      <td>2</td>\n",
              "      <td>0</td>\n",
              "      <td>1</td>\n",
              "      <td>1</td>\n",
              "      <td>0</td>\n",
              "      <td>0</td>\n",
              "      <td>...</td>\n",
              "      <td>0</td>\n",
              "      <td>No Deposit</td>\n",
              "      <td>B</td>\n",
              "      <td>0</td>\n",
              "      <td>Transient</td>\n",
              "      <td>149.00</td>\n",
              "      <td>0</td>\n",
              "      <td>0</td>\n",
              "      <td>0</td>\n",
              "      <td>0</td>\n",
              "    </tr>\n",
              "    <tr>\n",
              "      <th>60411</th>\n",
              "      <td>City Hotel</td>\n",
              "      <td>10</td>\n",
              "      <td>2017</td>\n",
              "      <td>5</td>\n",
              "      <td>8</td>\n",
              "      <td>1</td>\n",
              "      <td>2</td>\n",
              "      <td>1</td>\n",
              "      <td>0</td>\n",
              "      <td>0</td>\n",
              "      <td>...</td>\n",
              "      <td>0</td>\n",
              "      <td>No Deposit</td>\n",
              "      <td>B</td>\n",
              "      <td>0</td>\n",
              "      <td>Transient</td>\n",
              "      <td>95.00</td>\n",
              "      <td>0</td>\n",
              "      <td>0</td>\n",
              "      <td>1</td>\n",
              "      <td>0</td>\n",
              "    </tr>\n",
              "    <tr>\n",
              "      <th>60412</th>\n",
              "      <td>Resort Hotel</td>\n",
              "      <td>143</td>\n",
              "      <td>2015</td>\n",
              "      <td>10</td>\n",
              "      <td>10</td>\n",
              "      <td>2</td>\n",
              "      <td>5</td>\n",
              "      <td>2</td>\n",
              "      <td>0</td>\n",
              "      <td>0</td>\n",
              "      <td>...</td>\n",
              "      <td>0</td>\n",
              "      <td>Non Refund</td>\n",
              "      <td>Others</td>\n",
              "      <td>0</td>\n",
              "      <td>Transient</td>\n",
              "      <td>36.05</td>\n",
              "      <td>0</td>\n",
              "      <td>0</td>\n",
              "      <td>1</td>\n",
              "      <td>1</td>\n",
              "    </tr>\n",
              "    <tr>\n",
              "      <th>60413</th>\n",
              "      <td>City Hotel</td>\n",
              "      <td>57</td>\n",
              "      <td>2016</td>\n",
              "      <td>4</td>\n",
              "      <td>17</td>\n",
              "      <td>2</td>\n",
              "      <td>5</td>\n",
              "      <td>2</td>\n",
              "      <td>0</td>\n",
              "      <td>0</td>\n",
              "      <td>...</td>\n",
              "      <td>1</td>\n",
              "      <td>No Deposit</td>\n",
              "      <td>A</td>\n",
              "      <td>0</td>\n",
              "      <td>Transient</td>\n",
              "      <td>143.29</td>\n",
              "      <td>0</td>\n",
              "      <td>0</td>\n",
              "      <td>1</td>\n",
              "      <td>1</td>\n",
              "    </tr>\n",
              "  </tbody>\n",
              "</table>\n",
              "<p>60414 rows × 29 columns</p>\n",
              "</div>\n",
              "    <div class=\"colab-df-buttons\">\n",
              "\n",
              "  <div class=\"colab-df-container\">\n",
              "    <button class=\"colab-df-convert\" onclick=\"convertToInteractive('df-e242a7d6-d723-41e5-b3dc-770ab7c926ad')\"\n",
              "            title=\"Convert this dataframe to an interactive table.\"\n",
              "            style=\"display:none;\">\n",
              "\n",
              "  <svg xmlns=\"http://www.w3.org/2000/svg\" height=\"24px\" viewBox=\"0 -960 960 960\">\n",
              "    <path d=\"M120-120v-720h720v720H120Zm60-500h600v-160H180v160Zm220 220h160v-160H400v160Zm0 220h160v-160H400v160ZM180-400h160v-160H180v160Zm440 0h160v-160H620v160ZM180-180h160v-160H180v160Zm440 0h160v-160H620v160Z\"/>\n",
              "  </svg>\n",
              "    </button>\n",
              "\n",
              "  <style>\n",
              "    .colab-df-container {\n",
              "      display:flex;\n",
              "      gap: 12px;\n",
              "    }\n",
              "\n",
              "    .colab-df-convert {\n",
              "      background-color: #E8F0FE;\n",
              "      border: none;\n",
              "      border-radius: 50%;\n",
              "      cursor: pointer;\n",
              "      display: none;\n",
              "      fill: #1967D2;\n",
              "      height: 32px;\n",
              "      padding: 0 0 0 0;\n",
              "      width: 32px;\n",
              "    }\n",
              "\n",
              "    .colab-df-convert:hover {\n",
              "      background-color: #E2EBFA;\n",
              "      box-shadow: 0px 1px 2px rgba(60, 64, 67, 0.3), 0px 1px 3px 1px rgba(60, 64, 67, 0.15);\n",
              "      fill: #174EA6;\n",
              "    }\n",
              "\n",
              "    .colab-df-buttons div {\n",
              "      margin-bottom: 4px;\n",
              "    }\n",
              "\n",
              "    [theme=dark] .colab-df-convert {\n",
              "      background-color: #3B4455;\n",
              "      fill: #D2E3FC;\n",
              "    }\n",
              "\n",
              "    [theme=dark] .colab-df-convert:hover {\n",
              "      background-color: #434B5C;\n",
              "      box-shadow: 0px 1px 3px 1px rgba(0, 0, 0, 0.15);\n",
              "      filter: drop-shadow(0px 1px 2px rgba(0, 0, 0, 0.3));\n",
              "      fill: #FFFFFF;\n",
              "    }\n",
              "  </style>\n",
              "\n",
              "    <script>\n",
              "      const buttonEl =\n",
              "        document.querySelector('#df-e242a7d6-d723-41e5-b3dc-770ab7c926ad button.colab-df-convert');\n",
              "      buttonEl.style.display =\n",
              "        google.colab.kernel.accessAllowed ? 'block' : 'none';\n",
              "\n",
              "      async function convertToInteractive(key) {\n",
              "        const element = document.querySelector('#df-e242a7d6-d723-41e5-b3dc-770ab7c926ad');\n",
              "        const dataTable =\n",
              "          await google.colab.kernel.invokeFunction('convertToInteractive',\n",
              "                                                    [key], {});\n",
              "        if (!dataTable) return;\n",
              "\n",
              "        const docLinkHtml = 'Like what you see? Visit the ' +\n",
              "          '<a target=\"_blank\" href=https://colab.research.google.com/notebooks/data_table.ipynb>data table notebook</a>'\n",
              "          + ' to learn more about interactive tables.';\n",
              "        element.innerHTML = '';\n",
              "        dataTable['output_type'] = 'display_data';\n",
              "        await google.colab.output.renderOutput(dataTable, element);\n",
              "        const docLink = document.createElement('div');\n",
              "        docLink.innerHTML = docLinkHtml;\n",
              "        element.appendChild(docLink);\n",
              "      }\n",
              "    </script>\n",
              "  </div>\n",
              "\n",
              "\n",
              "<div id=\"df-a11b0837-d850-40e3-a96e-33796c698d60\">\n",
              "  <button class=\"colab-df-quickchart\" onclick=\"quickchart('df-a11b0837-d850-40e3-a96e-33796c698d60')\"\n",
              "            title=\"Suggest charts.\"\n",
              "            style=\"display:none;\">\n",
              "\n",
              "<svg xmlns=\"http://www.w3.org/2000/svg\" height=\"24px\"viewBox=\"0 0 24 24\"\n",
              "     width=\"24px\">\n",
              "    <g>\n",
              "        <path d=\"M19 3H5c-1.1 0-2 .9-2 2v14c0 1.1.9 2 2 2h14c1.1 0 2-.9 2-2V5c0-1.1-.9-2-2-2zM9 17H7v-7h2v7zm4 0h-2V7h2v10zm4 0h-2v-4h2v4z\"/>\n",
              "    </g>\n",
              "</svg>\n",
              "  </button>\n",
              "\n",
              "<style>\n",
              "  .colab-df-quickchart {\n",
              "      --bg-color: #E8F0FE;\n",
              "      --fill-color: #1967D2;\n",
              "      --hover-bg-color: #E2EBFA;\n",
              "      --hover-fill-color: #174EA6;\n",
              "      --disabled-fill-color: #AAA;\n",
              "      --disabled-bg-color: #DDD;\n",
              "  }\n",
              "\n",
              "  [theme=dark] .colab-df-quickchart {\n",
              "      --bg-color: #3B4455;\n",
              "      --fill-color: #D2E3FC;\n",
              "      --hover-bg-color: #434B5C;\n",
              "      --hover-fill-color: #FFFFFF;\n",
              "      --disabled-bg-color: #3B4455;\n",
              "      --disabled-fill-color: #666;\n",
              "  }\n",
              "\n",
              "  .colab-df-quickchart {\n",
              "    background-color: var(--bg-color);\n",
              "    border: none;\n",
              "    border-radius: 50%;\n",
              "    cursor: pointer;\n",
              "    display: none;\n",
              "    fill: var(--fill-color);\n",
              "    height: 32px;\n",
              "    padding: 0;\n",
              "    width: 32px;\n",
              "  }\n",
              "\n",
              "  .colab-df-quickchart:hover {\n",
              "    background-color: var(--hover-bg-color);\n",
              "    box-shadow: 0 1px 2px rgba(60, 64, 67, 0.3), 0 1px 3px 1px rgba(60, 64, 67, 0.15);\n",
              "    fill: var(--button-hover-fill-color);\n",
              "  }\n",
              "\n",
              "  .colab-df-quickchart-complete:disabled,\n",
              "  .colab-df-quickchart-complete:disabled:hover {\n",
              "    background-color: var(--disabled-bg-color);\n",
              "    fill: var(--disabled-fill-color);\n",
              "    box-shadow: none;\n",
              "  }\n",
              "\n",
              "  .colab-df-spinner {\n",
              "    border: 2px solid var(--fill-color);\n",
              "    border-color: transparent;\n",
              "    border-bottom-color: var(--fill-color);\n",
              "    animation:\n",
              "      spin 1s steps(1) infinite;\n",
              "  }\n",
              "\n",
              "  @keyframes spin {\n",
              "    0% {\n",
              "      border-color: transparent;\n",
              "      border-bottom-color: var(--fill-color);\n",
              "      border-left-color: var(--fill-color);\n",
              "    }\n",
              "    20% {\n",
              "      border-color: transparent;\n",
              "      border-left-color: var(--fill-color);\n",
              "      border-top-color: var(--fill-color);\n",
              "    }\n",
              "    30% {\n",
              "      border-color: transparent;\n",
              "      border-left-color: var(--fill-color);\n",
              "      border-top-color: var(--fill-color);\n",
              "      border-right-color: var(--fill-color);\n",
              "    }\n",
              "    40% {\n",
              "      border-color: transparent;\n",
              "      border-right-color: var(--fill-color);\n",
              "      border-top-color: var(--fill-color);\n",
              "    }\n",
              "    60% {\n",
              "      border-color: transparent;\n",
              "      border-right-color: var(--fill-color);\n",
              "    }\n",
              "    80% {\n",
              "      border-color: transparent;\n",
              "      border-right-color: var(--fill-color);\n",
              "      border-bottom-color: var(--fill-color);\n",
              "    }\n",
              "    90% {\n",
              "      border-color: transparent;\n",
              "      border-bottom-color: var(--fill-color);\n",
              "    }\n",
              "  }\n",
              "</style>\n",
              "\n",
              "  <script>\n",
              "    async function quickchart(key) {\n",
              "      const quickchartButtonEl =\n",
              "        document.querySelector('#' + key + ' button');\n",
              "      quickchartButtonEl.disabled = true;  // To prevent multiple clicks.\n",
              "      quickchartButtonEl.classList.add('colab-df-spinner');\n",
              "      try {\n",
              "        const charts = await google.colab.kernel.invokeFunction(\n",
              "            'suggestCharts', [key], {});\n",
              "      } catch (error) {\n",
              "        console.error('Error during call to suggestCharts:', error);\n",
              "      }\n",
              "      quickchartButtonEl.classList.remove('colab-df-spinner');\n",
              "      quickchartButtonEl.classList.add('colab-df-quickchart-complete');\n",
              "    }\n",
              "    (() => {\n",
              "      let quickchartButtonEl =\n",
              "        document.querySelector('#df-a11b0837-d850-40e3-a96e-33796c698d60 button');\n",
              "      quickchartButtonEl.style.display =\n",
              "        google.colab.kernel.accessAllowed ? 'block' : 'none';\n",
              "    })();\n",
              "  </script>\n",
              "</div>\n",
              "    </div>\n",
              "  </div>\n"
            ]
          },
          "metadata": {},
          "execution_count": 7
        }
      ],
      "source": [
        "dsTrain"
      ]
    },
    {
      "cell_type": "code",
      "execution_count": 8,
      "metadata": {
        "colab": {
          "base_uri": "https://localhost:8080/",
          "height": 617
        },
        "id": "Dmz07RG1Mrpy",
        "outputId": "c652e198-e0c4-4145-9ca8-6a85206c0784"
      },
      "outputs": [
        {
          "output_type": "execute_result",
          "data": {
            "text/plain": [
              "              hotel  lead_time  arrival_date_year  arrival_date_month  \\\n",
              "0        City Hotel        277               2016                  11   \n",
              "1        City Hotel        286               2016                   5   \n",
              "2        City Hotel          0               2016                   8   \n",
              "3      Resort Hotel        196               2016                  10   \n",
              "4      Resort Hotel        232               2016                  11   \n",
              "...             ...        ...                ...                 ...   \n",
              "26530    City Hotel         31               2017                   4   \n",
              "26531    City Hotel        130               2016                   9   \n",
              "26532  Resort Hotel         45               2016                   8   \n",
              "26533    City Hotel        164               2017                   8   \n",
              "26534  Resort Hotel        136               2016                   3   \n",
              "\n",
              "       arrival_date_week_number  arrival_date_day_of_month  \\\n",
              "0                            46                          7   \n",
              "1                            20                         11   \n",
              "2                            35                         23   \n",
              "3                            44                         29   \n",
              "4                            48                         26   \n",
              "...                         ...                        ...   \n",
              "26530                        16                         21   \n",
              "26531                        36                          3   \n",
              "26532                        35                         22   \n",
              "26533                        32                         10   \n",
              "26534                        13                         24   \n",
              "\n",
              "       stays_in_weekend_nights  stays_in_week_nights  adults  children  ...  \\\n",
              "0                            1                     2       2         0  ...   \n",
              "1                            0                     4       2         0  ...   \n",
              "2                            0                     1       3         0  ...   \n",
              "3                            2                     5       2         2  ...   \n",
              "4                            2                     1       2         0  ...   \n",
              "...                        ...                   ...     ...       ...  ...   \n",
              "26530                        2                     3       2         0  ...   \n",
              "26531                        2                     1       2         0  ...   \n",
              "26532                        1                     1       2         0  ...   \n",
              "26533                        2                     4       2         0  ...   \n",
              "26534                        0                     3       2         0  ...   \n",
              "\n",
              "       assigned_room_type booking_changes deposit_type   agent  \\\n",
              "0                       A               0   Non Refund       B   \n",
              "1                       A               0   No Deposit  Others   \n",
              "2                       D               0   No Deposit       B   \n",
              "3                       G               0   No Deposit       F   \n",
              "4                       A               0   Non Refund  Others   \n",
              "...                   ...             ...          ...     ...   \n",
              "26530                   A               0   No Deposit  Others   \n",
              "26531                   A               0   No Deposit  Others   \n",
              "26532                   A               0   No Deposit       F   \n",
              "26533                   A               0   No Deposit  Others   \n",
              "26534                   A               0   No Deposit  Others   \n",
              "\n",
              "      days_in_waiting_list    customer_type     adr  \\\n",
              "0                        0        Transient  100.00   \n",
              "1                      176  Transient-Party  101.00   \n",
              "2                        0        Transient  225.00   \n",
              "3                        0        Transient   96.00   \n",
              "4                        0        Transient   30.00   \n",
              "...                    ...              ...     ...   \n",
              "26530                    0  Transient-Party   85.00   \n",
              "26531                    0        Transient   80.75   \n",
              "26532                    0        Transient  231.00   \n",
              "26533                    0        Transient   80.10   \n",
              "26534                    0  Transient-Party   84.00   \n",
              "\n",
              "       required_car_parking_spaces total_of_special_requests high_season_month  \n",
              "0                                0                         0                 0  \n",
              "1                                0                         0                 1  \n",
              "2                                0                         2                 1  \n",
              "3                                0                         0                 1  \n",
              "4                                0                         0                 0  \n",
              "...                            ...                       ...               ...  \n",
              "26530                            0                         0                 1  \n",
              "26531                            0                         0                 0  \n",
              "26532                            0                         0                 1  \n",
              "26533                            0                         0                 1  \n",
              "26534                            0                         0                 0  \n",
              "\n",
              "[26535 rows x 29 columns]"
            ],
            "text/html": [
              "\n",
              "  <div id=\"df-f3ce16c2-b577-4a8f-907f-a6335d5e98f6\" class=\"colab-df-container\">\n",
              "    <div>\n",
              "<style scoped>\n",
              "    .dataframe tbody tr th:only-of-type {\n",
              "        vertical-align: middle;\n",
              "    }\n",
              "\n",
              "    .dataframe tbody tr th {\n",
              "        vertical-align: top;\n",
              "    }\n",
              "\n",
              "    .dataframe thead th {\n",
              "        text-align: right;\n",
              "    }\n",
              "</style>\n",
              "<table border=\"1\" class=\"dataframe\">\n",
              "  <thead>\n",
              "    <tr style=\"text-align: right;\">\n",
              "      <th></th>\n",
              "      <th>hotel</th>\n",
              "      <th>lead_time</th>\n",
              "      <th>arrival_date_year</th>\n",
              "      <th>arrival_date_month</th>\n",
              "      <th>arrival_date_week_number</th>\n",
              "      <th>arrival_date_day_of_month</th>\n",
              "      <th>stays_in_weekend_nights</th>\n",
              "      <th>stays_in_week_nights</th>\n",
              "      <th>adults</th>\n",
              "      <th>children</th>\n",
              "      <th>...</th>\n",
              "      <th>assigned_room_type</th>\n",
              "      <th>booking_changes</th>\n",
              "      <th>deposit_type</th>\n",
              "      <th>agent</th>\n",
              "      <th>days_in_waiting_list</th>\n",
              "      <th>customer_type</th>\n",
              "      <th>adr</th>\n",
              "      <th>required_car_parking_spaces</th>\n",
              "      <th>total_of_special_requests</th>\n",
              "      <th>high_season_month</th>\n",
              "    </tr>\n",
              "  </thead>\n",
              "  <tbody>\n",
              "    <tr>\n",
              "      <th>0</th>\n",
              "      <td>City Hotel</td>\n",
              "      <td>277</td>\n",
              "      <td>2016</td>\n",
              "      <td>11</td>\n",
              "      <td>46</td>\n",
              "      <td>7</td>\n",
              "      <td>1</td>\n",
              "      <td>2</td>\n",
              "      <td>2</td>\n",
              "      <td>0</td>\n",
              "      <td>...</td>\n",
              "      <td>A</td>\n",
              "      <td>0</td>\n",
              "      <td>Non Refund</td>\n",
              "      <td>B</td>\n",
              "      <td>0</td>\n",
              "      <td>Transient</td>\n",
              "      <td>100.00</td>\n",
              "      <td>0</td>\n",
              "      <td>0</td>\n",
              "      <td>0</td>\n",
              "    </tr>\n",
              "    <tr>\n",
              "      <th>1</th>\n",
              "      <td>City Hotel</td>\n",
              "      <td>286</td>\n",
              "      <td>2016</td>\n",
              "      <td>5</td>\n",
              "      <td>20</td>\n",
              "      <td>11</td>\n",
              "      <td>0</td>\n",
              "      <td>4</td>\n",
              "      <td>2</td>\n",
              "      <td>0</td>\n",
              "      <td>...</td>\n",
              "      <td>A</td>\n",
              "      <td>0</td>\n",
              "      <td>No Deposit</td>\n",
              "      <td>Others</td>\n",
              "      <td>176</td>\n",
              "      <td>Transient-Party</td>\n",
              "      <td>101.00</td>\n",
              "      <td>0</td>\n",
              "      <td>0</td>\n",
              "      <td>1</td>\n",
              "    </tr>\n",
              "    <tr>\n",
              "      <th>2</th>\n",
              "      <td>City Hotel</td>\n",
              "      <td>0</td>\n",
              "      <td>2016</td>\n",
              "      <td>8</td>\n",
              "      <td>35</td>\n",
              "      <td>23</td>\n",
              "      <td>0</td>\n",
              "      <td>1</td>\n",
              "      <td>3</td>\n",
              "      <td>0</td>\n",
              "      <td>...</td>\n",
              "      <td>D</td>\n",
              "      <td>0</td>\n",
              "      <td>No Deposit</td>\n",
              "      <td>B</td>\n",
              "      <td>0</td>\n",
              "      <td>Transient</td>\n",
              "      <td>225.00</td>\n",
              "      <td>0</td>\n",
              "      <td>2</td>\n",
              "      <td>1</td>\n",
              "    </tr>\n",
              "    <tr>\n",
              "      <th>3</th>\n",
              "      <td>Resort Hotel</td>\n",
              "      <td>196</td>\n",
              "      <td>2016</td>\n",
              "      <td>10</td>\n",
              "      <td>44</td>\n",
              "      <td>29</td>\n",
              "      <td>2</td>\n",
              "      <td>5</td>\n",
              "      <td>2</td>\n",
              "      <td>2</td>\n",
              "      <td>...</td>\n",
              "      <td>G</td>\n",
              "      <td>0</td>\n",
              "      <td>No Deposit</td>\n",
              "      <td>F</td>\n",
              "      <td>0</td>\n",
              "      <td>Transient</td>\n",
              "      <td>96.00</td>\n",
              "      <td>0</td>\n",
              "      <td>0</td>\n",
              "      <td>1</td>\n",
              "    </tr>\n",
              "    <tr>\n",
              "      <th>4</th>\n",
              "      <td>Resort Hotel</td>\n",
              "      <td>232</td>\n",
              "      <td>2016</td>\n",
              "      <td>11</td>\n",
              "      <td>48</td>\n",
              "      <td>26</td>\n",
              "      <td>2</td>\n",
              "      <td>1</td>\n",
              "      <td>2</td>\n",
              "      <td>0</td>\n",
              "      <td>...</td>\n",
              "      <td>A</td>\n",
              "      <td>0</td>\n",
              "      <td>Non Refund</td>\n",
              "      <td>Others</td>\n",
              "      <td>0</td>\n",
              "      <td>Transient</td>\n",
              "      <td>30.00</td>\n",
              "      <td>0</td>\n",
              "      <td>0</td>\n",
              "      <td>0</td>\n",
              "    </tr>\n",
              "    <tr>\n",
              "      <th>...</th>\n",
              "      <td>...</td>\n",
              "      <td>...</td>\n",
              "      <td>...</td>\n",
              "      <td>...</td>\n",
              "      <td>...</td>\n",
              "      <td>...</td>\n",
              "      <td>...</td>\n",
              "      <td>...</td>\n",
              "      <td>...</td>\n",
              "      <td>...</td>\n",
              "      <td>...</td>\n",
              "      <td>...</td>\n",
              "      <td>...</td>\n",
              "      <td>...</td>\n",
              "      <td>...</td>\n",
              "      <td>...</td>\n",
              "      <td>...</td>\n",
              "      <td>...</td>\n",
              "      <td>...</td>\n",
              "      <td>...</td>\n",
              "      <td>...</td>\n",
              "    </tr>\n",
              "    <tr>\n",
              "      <th>26530</th>\n",
              "      <td>City Hotel</td>\n",
              "      <td>31</td>\n",
              "      <td>2017</td>\n",
              "      <td>4</td>\n",
              "      <td>16</td>\n",
              "      <td>21</td>\n",
              "      <td>2</td>\n",
              "      <td>3</td>\n",
              "      <td>2</td>\n",
              "      <td>0</td>\n",
              "      <td>...</td>\n",
              "      <td>A</td>\n",
              "      <td>0</td>\n",
              "      <td>No Deposit</td>\n",
              "      <td>Others</td>\n",
              "      <td>0</td>\n",
              "      <td>Transient-Party</td>\n",
              "      <td>85.00</td>\n",
              "      <td>0</td>\n",
              "      <td>0</td>\n",
              "      <td>1</td>\n",
              "    </tr>\n",
              "    <tr>\n",
              "      <th>26531</th>\n",
              "      <td>City Hotel</td>\n",
              "      <td>130</td>\n",
              "      <td>2016</td>\n",
              "      <td>9</td>\n",
              "      <td>36</td>\n",
              "      <td>3</td>\n",
              "      <td>2</td>\n",
              "      <td>1</td>\n",
              "      <td>2</td>\n",
              "      <td>0</td>\n",
              "      <td>...</td>\n",
              "      <td>A</td>\n",
              "      <td>0</td>\n",
              "      <td>No Deposit</td>\n",
              "      <td>Others</td>\n",
              "      <td>0</td>\n",
              "      <td>Transient</td>\n",
              "      <td>80.75</td>\n",
              "      <td>0</td>\n",
              "      <td>0</td>\n",
              "      <td>0</td>\n",
              "    </tr>\n",
              "    <tr>\n",
              "      <th>26532</th>\n",
              "      <td>Resort Hotel</td>\n",
              "      <td>45</td>\n",
              "      <td>2016</td>\n",
              "      <td>8</td>\n",
              "      <td>35</td>\n",
              "      <td>22</td>\n",
              "      <td>1</td>\n",
              "      <td>1</td>\n",
              "      <td>2</td>\n",
              "      <td>0</td>\n",
              "      <td>...</td>\n",
              "      <td>A</td>\n",
              "      <td>0</td>\n",
              "      <td>No Deposit</td>\n",
              "      <td>F</td>\n",
              "      <td>0</td>\n",
              "      <td>Transient</td>\n",
              "      <td>231.00</td>\n",
              "      <td>0</td>\n",
              "      <td>0</td>\n",
              "      <td>1</td>\n",
              "    </tr>\n",
              "    <tr>\n",
              "      <th>26533</th>\n",
              "      <td>City Hotel</td>\n",
              "      <td>164</td>\n",
              "      <td>2017</td>\n",
              "      <td>8</td>\n",
              "      <td>32</td>\n",
              "      <td>10</td>\n",
              "      <td>2</td>\n",
              "      <td>4</td>\n",
              "      <td>2</td>\n",
              "      <td>0</td>\n",
              "      <td>...</td>\n",
              "      <td>A</td>\n",
              "      <td>0</td>\n",
              "      <td>No Deposit</td>\n",
              "      <td>Others</td>\n",
              "      <td>0</td>\n",
              "      <td>Transient</td>\n",
              "      <td>80.10</td>\n",
              "      <td>0</td>\n",
              "      <td>0</td>\n",
              "      <td>1</td>\n",
              "    </tr>\n",
              "    <tr>\n",
              "      <th>26534</th>\n",
              "      <td>Resort Hotel</td>\n",
              "      <td>136</td>\n",
              "      <td>2016</td>\n",
              "      <td>3</td>\n",
              "      <td>13</td>\n",
              "      <td>24</td>\n",
              "      <td>0</td>\n",
              "      <td>3</td>\n",
              "      <td>2</td>\n",
              "      <td>0</td>\n",
              "      <td>...</td>\n",
              "      <td>A</td>\n",
              "      <td>0</td>\n",
              "      <td>No Deposit</td>\n",
              "      <td>Others</td>\n",
              "      <td>0</td>\n",
              "      <td>Transient-Party</td>\n",
              "      <td>84.00</td>\n",
              "      <td>0</td>\n",
              "      <td>0</td>\n",
              "      <td>0</td>\n",
              "    </tr>\n",
              "  </tbody>\n",
              "</table>\n",
              "<p>26535 rows × 29 columns</p>\n",
              "</div>\n",
              "    <div class=\"colab-df-buttons\">\n",
              "\n",
              "  <div class=\"colab-df-container\">\n",
              "    <button class=\"colab-df-convert\" onclick=\"convertToInteractive('df-f3ce16c2-b577-4a8f-907f-a6335d5e98f6')\"\n",
              "            title=\"Convert this dataframe to an interactive table.\"\n",
              "            style=\"display:none;\">\n",
              "\n",
              "  <svg xmlns=\"http://www.w3.org/2000/svg\" height=\"24px\" viewBox=\"0 -960 960 960\">\n",
              "    <path d=\"M120-120v-720h720v720H120Zm60-500h600v-160H180v160Zm220 220h160v-160H400v160Zm0 220h160v-160H400v160ZM180-400h160v-160H180v160Zm440 0h160v-160H620v160ZM180-180h160v-160H180v160Zm440 0h160v-160H620v160Z\"/>\n",
              "  </svg>\n",
              "    </button>\n",
              "\n",
              "  <style>\n",
              "    .colab-df-container {\n",
              "      display:flex;\n",
              "      gap: 12px;\n",
              "    }\n",
              "\n",
              "    .colab-df-convert {\n",
              "      background-color: #E8F0FE;\n",
              "      border: none;\n",
              "      border-radius: 50%;\n",
              "      cursor: pointer;\n",
              "      display: none;\n",
              "      fill: #1967D2;\n",
              "      height: 32px;\n",
              "      padding: 0 0 0 0;\n",
              "      width: 32px;\n",
              "    }\n",
              "\n",
              "    .colab-df-convert:hover {\n",
              "      background-color: #E2EBFA;\n",
              "      box-shadow: 0px 1px 2px rgba(60, 64, 67, 0.3), 0px 1px 3px 1px rgba(60, 64, 67, 0.15);\n",
              "      fill: #174EA6;\n",
              "    }\n",
              "\n",
              "    .colab-df-buttons div {\n",
              "      margin-bottom: 4px;\n",
              "    }\n",
              "\n",
              "    [theme=dark] .colab-df-convert {\n",
              "      background-color: #3B4455;\n",
              "      fill: #D2E3FC;\n",
              "    }\n",
              "\n",
              "    [theme=dark] .colab-df-convert:hover {\n",
              "      background-color: #434B5C;\n",
              "      box-shadow: 0px 1px 3px 1px rgba(0, 0, 0, 0.15);\n",
              "      filter: drop-shadow(0px 1px 2px rgba(0, 0, 0, 0.3));\n",
              "      fill: #FFFFFF;\n",
              "    }\n",
              "  </style>\n",
              "\n",
              "    <script>\n",
              "      const buttonEl =\n",
              "        document.querySelector('#df-f3ce16c2-b577-4a8f-907f-a6335d5e98f6 button.colab-df-convert');\n",
              "      buttonEl.style.display =\n",
              "        google.colab.kernel.accessAllowed ? 'block' : 'none';\n",
              "\n",
              "      async function convertToInteractive(key) {\n",
              "        const element = document.querySelector('#df-f3ce16c2-b577-4a8f-907f-a6335d5e98f6');\n",
              "        const dataTable =\n",
              "          await google.colab.kernel.invokeFunction('convertToInteractive',\n",
              "                                                    [key], {});\n",
              "        if (!dataTable) return;\n",
              "\n",
              "        const docLinkHtml = 'Like what you see? Visit the ' +\n",
              "          '<a target=\"_blank\" href=https://colab.research.google.com/notebooks/data_table.ipynb>data table notebook</a>'\n",
              "          + ' to learn more about interactive tables.';\n",
              "        element.innerHTML = '';\n",
              "        dataTable['output_type'] = 'display_data';\n",
              "        await google.colab.output.renderOutput(dataTable, element);\n",
              "        const docLink = document.createElement('div');\n",
              "        docLink.innerHTML = docLinkHtml;\n",
              "        element.appendChild(docLink);\n",
              "      }\n",
              "    </script>\n",
              "  </div>\n",
              "\n",
              "\n",
              "<div id=\"df-1480f0d4-9dba-4928-9cf9-32e83158ea5d\">\n",
              "  <button class=\"colab-df-quickchart\" onclick=\"quickchart('df-1480f0d4-9dba-4928-9cf9-32e83158ea5d')\"\n",
              "            title=\"Suggest charts.\"\n",
              "            style=\"display:none;\">\n",
              "\n",
              "<svg xmlns=\"http://www.w3.org/2000/svg\" height=\"24px\"viewBox=\"0 0 24 24\"\n",
              "     width=\"24px\">\n",
              "    <g>\n",
              "        <path d=\"M19 3H5c-1.1 0-2 .9-2 2v14c0 1.1.9 2 2 2h14c1.1 0 2-.9 2-2V5c0-1.1-.9-2-2-2zM9 17H7v-7h2v7zm4 0h-2V7h2v10zm4 0h-2v-4h2v4z\"/>\n",
              "    </g>\n",
              "</svg>\n",
              "  </button>\n",
              "\n",
              "<style>\n",
              "  .colab-df-quickchart {\n",
              "      --bg-color: #E8F0FE;\n",
              "      --fill-color: #1967D2;\n",
              "      --hover-bg-color: #E2EBFA;\n",
              "      --hover-fill-color: #174EA6;\n",
              "      --disabled-fill-color: #AAA;\n",
              "      --disabled-bg-color: #DDD;\n",
              "  }\n",
              "\n",
              "  [theme=dark] .colab-df-quickchart {\n",
              "      --bg-color: #3B4455;\n",
              "      --fill-color: #D2E3FC;\n",
              "      --hover-bg-color: #434B5C;\n",
              "      --hover-fill-color: #FFFFFF;\n",
              "      --disabled-bg-color: #3B4455;\n",
              "      --disabled-fill-color: #666;\n",
              "  }\n",
              "\n",
              "  .colab-df-quickchart {\n",
              "    background-color: var(--bg-color);\n",
              "    border: none;\n",
              "    border-radius: 50%;\n",
              "    cursor: pointer;\n",
              "    display: none;\n",
              "    fill: var(--fill-color);\n",
              "    height: 32px;\n",
              "    padding: 0;\n",
              "    width: 32px;\n",
              "  }\n",
              "\n",
              "  .colab-df-quickchart:hover {\n",
              "    background-color: var(--hover-bg-color);\n",
              "    box-shadow: 0 1px 2px rgba(60, 64, 67, 0.3), 0 1px 3px 1px rgba(60, 64, 67, 0.15);\n",
              "    fill: var(--button-hover-fill-color);\n",
              "  }\n",
              "\n",
              "  .colab-df-quickchart-complete:disabled,\n",
              "  .colab-df-quickchart-complete:disabled:hover {\n",
              "    background-color: var(--disabled-bg-color);\n",
              "    fill: var(--disabled-fill-color);\n",
              "    box-shadow: none;\n",
              "  }\n",
              "\n",
              "  .colab-df-spinner {\n",
              "    border: 2px solid var(--fill-color);\n",
              "    border-color: transparent;\n",
              "    border-bottom-color: var(--fill-color);\n",
              "    animation:\n",
              "      spin 1s steps(1) infinite;\n",
              "  }\n",
              "\n",
              "  @keyframes spin {\n",
              "    0% {\n",
              "      border-color: transparent;\n",
              "      border-bottom-color: var(--fill-color);\n",
              "      border-left-color: var(--fill-color);\n",
              "    }\n",
              "    20% {\n",
              "      border-color: transparent;\n",
              "      border-left-color: var(--fill-color);\n",
              "      border-top-color: var(--fill-color);\n",
              "    }\n",
              "    30% {\n",
              "      border-color: transparent;\n",
              "      border-left-color: var(--fill-color);\n",
              "      border-top-color: var(--fill-color);\n",
              "      border-right-color: var(--fill-color);\n",
              "    }\n",
              "    40% {\n",
              "      border-color: transparent;\n",
              "      border-right-color: var(--fill-color);\n",
              "      border-top-color: var(--fill-color);\n",
              "    }\n",
              "    60% {\n",
              "      border-color: transparent;\n",
              "      border-right-color: var(--fill-color);\n",
              "    }\n",
              "    80% {\n",
              "      border-color: transparent;\n",
              "      border-right-color: var(--fill-color);\n",
              "      border-bottom-color: var(--fill-color);\n",
              "    }\n",
              "    90% {\n",
              "      border-color: transparent;\n",
              "      border-bottom-color: var(--fill-color);\n",
              "    }\n",
              "  }\n",
              "</style>\n",
              "\n",
              "  <script>\n",
              "    async function quickchart(key) {\n",
              "      const quickchartButtonEl =\n",
              "        document.querySelector('#' + key + ' button');\n",
              "      quickchartButtonEl.disabled = true;  // To prevent multiple clicks.\n",
              "      quickchartButtonEl.classList.add('colab-df-spinner');\n",
              "      try {\n",
              "        const charts = await google.colab.kernel.invokeFunction(\n",
              "            'suggestCharts', [key], {});\n",
              "      } catch (error) {\n",
              "        console.error('Error during call to suggestCharts:', error);\n",
              "      }\n",
              "      quickchartButtonEl.classList.remove('colab-df-spinner');\n",
              "      quickchartButtonEl.classList.add('colab-df-quickchart-complete');\n",
              "    }\n",
              "    (() => {\n",
              "      let quickchartButtonEl =\n",
              "        document.querySelector('#df-1480f0d4-9dba-4928-9cf9-32e83158ea5d button');\n",
              "      quickchartButtonEl.style.display =\n",
              "        google.colab.kernel.accessAllowed ? 'block' : 'none';\n",
              "    })();\n",
              "  </script>\n",
              "</div>\n",
              "    </div>\n",
              "  </div>\n"
            ]
          },
          "metadata": {},
          "execution_count": 8
        }
      ],
      "source": [
        "dsTest"
      ]
    },
    {
      "cell_type": "markdown",
      "metadata": {
        "id": "mhItKGCZ_UY0"
      },
      "source": [
        "# Split del dataframe en Train y Test"
      ]
    },
    {
      "cell_type": "code",
      "execution_count": 9,
      "metadata": {
        "id": "EmkgT6Ox_T88"
      },
      "outputs": [],
      "source": [
        "XdsTrain= dsTrainCopy.drop(['is_canceled'], axis='columns', inplace=False)\n",
        "ydsTrain = dsTrainCopy['is_canceled'].copy()"
      ]
    },
    {
      "cell_type": "code",
      "execution_count": 10,
      "metadata": {
        "id": "9w6wj7O9ZgAC"
      },
      "outputs": [],
      "source": [
        "XTrain, XTest, yTrain, yTest = train_test_split(XdsTrain,\n",
        "                                              ydsTrain,\n",
        "                                              test_size=0.3,\n",
        "                                              random_state=243)"
      ]
    },
    {
      "cell_type": "code",
      "execution_count": 11,
      "metadata": {
        "colab": {
          "base_uri": "https://localhost:8080/"
        },
        "id": "M2kK29w9oRnx",
        "outputId": "162e21ec-3212-45da-8f27-c256d35e215c"
      },
      "outputs": [
        {
          "output_type": "execute_result",
          "data": {
            "text/plain": [
              "Others    12049\n",
              "A         11679\n",
              "F          5107\n",
              "B          5076\n",
              "K          3016\n",
              "X          1191\n",
              "l          1136\n",
              "u          1097\n",
              "H           891\n",
              "           525\n",
              "N           522\n",
              "Name: agent, dtype: int64"
            ]
          },
          "metadata": {},
          "execution_count": 11
        }
      ],
      "source": [
        "XTrain.agent.value_counts()"
      ]
    },
    {
      "cell_type": "code",
      "execution_count": 12,
      "metadata": {
        "id": "Wzw1mp3e9tFy"
      },
      "outputs": [],
      "source": [
        "sscaler=StandardScaler()\n",
        "variablesNumericas = [\"lead_time\", \"arrival_date_year\", \"arrival_date_day_of_month\",\n",
        "                          \"stays_in_weekend_nights\", \"stays_in_week_nights\", \"adults\", \"children\", \"babies\",\n",
        "                          \"previous_cancellations\", \"previous_bookings_not_canceled\",\"adr\",\n",
        "                          \"booking_changes\", \"days_in_waiting_list\", \"required_car_parking_spaces\", \"total_of_special_requests\"]\n",
        "XTrainStd = XTrain.copy()\n",
        "XTestStd = XTest.copy()\n",
        "dsTestStd = dsTestCopy.copy()"
      ]
    },
    {
      "cell_type": "code",
      "execution_count": 13,
      "metadata": {
        "id": "KzHglZOp0loc"
      },
      "outputs": [],
      "source": [
        "dsTestStd = dsTestCopy.copy()"
      ]
    },
    {
      "cell_type": "markdown",
      "metadata": {
        "id": "HcbPnsaR-9D7"
      },
      "source": [
        "# Feature Engeenering"
      ]
    },
    {
      "cell_type": "markdown",
      "metadata": {
        "id": "n8BY2-QyYtYo"
      },
      "source": [
        "## Standarizacion de variables"
      ]
    },
    {
      "cell_type": "code",
      "execution_count": 14,
      "metadata": {
        "colab": {
          "base_uri": "https://localhost:8080/"
        },
        "id": "G3NJB5J8R9wg",
        "outputId": "f879d12f-2e2e-47a3-d1c2-3fa351911688"
      },
      "outputs": [
        {
          "output_type": "execute_result",
          "data": {
            "text/plain": [
              "['lead_time',\n",
              " 'arrival_date_year',\n",
              " 'arrival_date_day_of_month',\n",
              " 'stays_in_weekend_nights',\n",
              " 'stays_in_week_nights',\n",
              " 'adults',\n",
              " 'children',\n",
              " 'babies',\n",
              " 'previous_cancellations',\n",
              " 'previous_bookings_not_canceled',\n",
              " 'adr',\n",
              " 'booking_changes',\n",
              " 'days_in_waiting_list',\n",
              " 'required_car_parking_spaces',\n",
              " 'total_of_special_requests']"
            ]
          },
          "metadata": {},
          "execution_count": 14
        }
      ],
      "source": [
        "variablesNumericas"
      ]
    },
    {
      "cell_type": "code",
      "execution_count": 15,
      "metadata": {
        "id": "5Zt1QRMWak57"
      },
      "outputs": [],
      "source": [
        "XTrainStd[variablesNumericas]= sscaler.fit_transform(pd.DataFrame(XTrain[variablesNumericas]))\n",
        "XTestStd[variablesNumericas]= sscaler.fit_transform(pd.DataFrame(XTest[variablesNumericas]))"
      ]
    },
    {
      "cell_type": "code",
      "execution_count": 16,
      "metadata": {
        "colab": {
          "base_uri": "https://localhost:8080/",
          "height": 617
        },
        "id": "67__PgJu1Mr0",
        "outputId": "6b88baf6-c4cc-4449-b2e7-7e000cd4a0f0"
      },
      "outputs": [
        {
          "output_type": "execute_result",
          "data": {
            "text/plain": [
              "              hotel  lead_time  arrival_date_year  arrival_date_month  \\\n",
              "41323    City Hotel  -1.015419          -0.221954                   2   \n",
              "57406    City Hotel   0.015611          -0.221954                   3   \n",
              "3412     City Hotel  -0.120051          -0.221954                   9   \n",
              "53923    City Hotel  -0.382330          -0.221954                   4   \n",
              "53000    City Hotel  -0.246668           1.194405                   8   \n",
              "...             ...        ...                ...                 ...   \n",
              "30377  Resort Hotel   0.277891          -0.221954                   7   \n",
              "47578    City Hotel   0.630612           1.194405                   6   \n",
              "41074    City Hotel  -0.563213          -0.221954                  12   \n",
              "11033    City Hotel  -0.961154          -0.221954                  10   \n",
              "38775  Resort Hotel  -0.771228           1.194405                   8   \n",
              "\n",
              "       arrival_date_day_of_month  stays_in_weekend_nights  \\\n",
              "41323                   1.383582                 1.090671   \n",
              "57406                   0.249690                -0.946446   \n",
              "3412                    1.383582                -0.946446   \n",
              "53923                   0.930025                 1.090671   \n",
              "53000                  -0.884202                -0.946446   \n",
              "...                          ...                      ...   \n",
              "30377                   0.022912                 1.090671   \n",
              "47578                  -0.884202                -0.946446   \n",
              "41074                  -1.451148                -0.946446   \n",
              "11033                  -1.110980                -0.946446   \n",
              "38775                   1.270193                 1.090671   \n",
              "\n",
              "       stays_in_week_nights    adults  children    babies  ...  \\\n",
              "41323             -0.827215 -1.864512 -0.254977 -0.081494  ...   \n",
              "57406             -0.283187  0.281547 -0.254977 -0.081494  ...   \n",
              "3412               0.804869  0.281547 -0.254977 -0.081494  ...   \n",
              "53923             -0.827215  0.281547 -0.254977 -0.081494  ...   \n",
              "53000             -0.283187  0.281547 -0.254977 -0.081494  ...   \n",
              "...                     ...       ...       ...       ...  ...   \n",
              "30377              1.348897  0.281547 -0.254977 -0.081494  ...   \n",
              "47578             -0.283187 -1.864512 -0.254977 -0.081494  ...   \n",
              "41074             -0.827215  0.281547 -0.254977 -0.081494  ...   \n",
              "11033             -0.827215 -1.864512 -0.254977 -0.081494  ...   \n",
              "38775             -0.827215  0.281547 -0.254977 -0.081494  ...   \n",
              "\n",
              "      assigned_room_type booking_changes deposit_type   agent  \\\n",
              "41323                  A       -0.326965   No Deposit  Others   \n",
              "57406                  A       -0.326965   No Deposit       K   \n",
              "3412                   A       -0.326965   No Deposit  Others   \n",
              "53923                  D       -0.326965   No Deposit       A   \n",
              "53000                  A       -0.326965   No Deposit       A   \n",
              "...                  ...             ...          ...     ...   \n",
              "30377                  E       -0.326965   No Deposit  Others   \n",
              "47578                  A       -0.326965   Non Refund  Others   \n",
              "41074                  B       -0.326965   No Deposit       X   \n",
              "11033                  A       -0.326965   No Deposit  Others   \n",
              "38775                  A       -0.326965   No Deposit       F   \n",
              "\n",
              "       days_in_waiting_list    customer_type       adr  \\\n",
              "41323             -0.154175  Transient-Party -0.965340   \n",
              "57406             -0.154175  Transient-Party -0.297761   \n",
              "3412              -0.154175  Transient-Party  0.814872   \n",
              "53923             -0.154175  Transient-Party  0.209600   \n",
              "53000             -0.154175        Transient  0.926135   \n",
              "...                     ...              ...       ...   \n",
              "30377             -0.154175        Transient  0.928360   \n",
              "47578             -0.154175        Transient  0.369819   \n",
              "41074             -0.154175        Transient -0.538089   \n",
              "11033             -0.154175  Transient-Party  0.481082   \n",
              "38775             -0.154175        Transient  2.239041   \n",
              "\n",
              "      required_car_parking_spaces total_of_special_requests  high_season_month  \n",
              "41323                   -0.227853                 -0.675374                  0  \n",
              "57406                   -0.227853                 -0.675374                  0  \n",
              "3412                    -0.227853                  0.620434                  0  \n",
              "53923                   -0.227853                 -0.675374                  1  \n",
              "53000                   -0.227853                  1.916242                  1  \n",
              "...                           ...                       ...                ...  \n",
              "30377                   -0.227853                 -0.675374                  1  \n",
              "47578                   -0.227853                 -0.675374                  1  \n",
              "41074                   -0.227853                  0.620434                  0  \n",
              "11033                   -0.227853                 -0.675374                  1  \n",
              "38775                    4.349659                  1.916242                  1  \n",
              "\n",
              "[42289 rows x 28 columns]"
            ],
            "text/html": [
              "\n",
              "  <div id=\"df-93f816f1-b43a-4644-90d6-11f74a583d1a\" class=\"colab-df-container\">\n",
              "    <div>\n",
              "<style scoped>\n",
              "    .dataframe tbody tr th:only-of-type {\n",
              "        vertical-align: middle;\n",
              "    }\n",
              "\n",
              "    .dataframe tbody tr th {\n",
              "        vertical-align: top;\n",
              "    }\n",
              "\n",
              "    .dataframe thead th {\n",
              "        text-align: right;\n",
              "    }\n",
              "</style>\n",
              "<table border=\"1\" class=\"dataframe\">\n",
              "  <thead>\n",
              "    <tr style=\"text-align: right;\">\n",
              "      <th></th>\n",
              "      <th>hotel</th>\n",
              "      <th>lead_time</th>\n",
              "      <th>arrival_date_year</th>\n",
              "      <th>arrival_date_month</th>\n",
              "      <th>arrival_date_day_of_month</th>\n",
              "      <th>stays_in_weekend_nights</th>\n",
              "      <th>stays_in_week_nights</th>\n",
              "      <th>adults</th>\n",
              "      <th>children</th>\n",
              "      <th>babies</th>\n",
              "      <th>...</th>\n",
              "      <th>assigned_room_type</th>\n",
              "      <th>booking_changes</th>\n",
              "      <th>deposit_type</th>\n",
              "      <th>agent</th>\n",
              "      <th>days_in_waiting_list</th>\n",
              "      <th>customer_type</th>\n",
              "      <th>adr</th>\n",
              "      <th>required_car_parking_spaces</th>\n",
              "      <th>total_of_special_requests</th>\n",
              "      <th>high_season_month</th>\n",
              "    </tr>\n",
              "  </thead>\n",
              "  <tbody>\n",
              "    <tr>\n",
              "      <th>41323</th>\n",
              "      <td>City Hotel</td>\n",
              "      <td>-1.015419</td>\n",
              "      <td>-0.221954</td>\n",
              "      <td>2</td>\n",
              "      <td>1.383582</td>\n",
              "      <td>1.090671</td>\n",
              "      <td>-0.827215</td>\n",
              "      <td>-1.864512</td>\n",
              "      <td>-0.254977</td>\n",
              "      <td>-0.081494</td>\n",
              "      <td>...</td>\n",
              "      <td>A</td>\n",
              "      <td>-0.326965</td>\n",
              "      <td>No Deposit</td>\n",
              "      <td>Others</td>\n",
              "      <td>-0.154175</td>\n",
              "      <td>Transient-Party</td>\n",
              "      <td>-0.965340</td>\n",
              "      <td>-0.227853</td>\n",
              "      <td>-0.675374</td>\n",
              "      <td>0</td>\n",
              "    </tr>\n",
              "    <tr>\n",
              "      <th>57406</th>\n",
              "      <td>City Hotel</td>\n",
              "      <td>0.015611</td>\n",
              "      <td>-0.221954</td>\n",
              "      <td>3</td>\n",
              "      <td>0.249690</td>\n",
              "      <td>-0.946446</td>\n",
              "      <td>-0.283187</td>\n",
              "      <td>0.281547</td>\n",
              "      <td>-0.254977</td>\n",
              "      <td>-0.081494</td>\n",
              "      <td>...</td>\n",
              "      <td>A</td>\n",
              "      <td>-0.326965</td>\n",
              "      <td>No Deposit</td>\n",
              "      <td>K</td>\n",
              "      <td>-0.154175</td>\n",
              "      <td>Transient-Party</td>\n",
              "      <td>-0.297761</td>\n",
              "      <td>-0.227853</td>\n",
              "      <td>-0.675374</td>\n",
              "      <td>0</td>\n",
              "    </tr>\n",
              "    <tr>\n",
              "      <th>3412</th>\n",
              "      <td>City Hotel</td>\n",
              "      <td>-0.120051</td>\n",
              "      <td>-0.221954</td>\n",
              "      <td>9</td>\n",
              "      <td>1.383582</td>\n",
              "      <td>-0.946446</td>\n",
              "      <td>0.804869</td>\n",
              "      <td>0.281547</td>\n",
              "      <td>-0.254977</td>\n",
              "      <td>-0.081494</td>\n",
              "      <td>...</td>\n",
              "      <td>A</td>\n",
              "      <td>-0.326965</td>\n",
              "      <td>No Deposit</td>\n",
              "      <td>Others</td>\n",
              "      <td>-0.154175</td>\n",
              "      <td>Transient-Party</td>\n",
              "      <td>0.814872</td>\n",
              "      <td>-0.227853</td>\n",
              "      <td>0.620434</td>\n",
              "      <td>0</td>\n",
              "    </tr>\n",
              "    <tr>\n",
              "      <th>53923</th>\n",
              "      <td>City Hotel</td>\n",
              "      <td>-0.382330</td>\n",
              "      <td>-0.221954</td>\n",
              "      <td>4</td>\n",
              "      <td>0.930025</td>\n",
              "      <td>1.090671</td>\n",
              "      <td>-0.827215</td>\n",
              "      <td>0.281547</td>\n",
              "      <td>-0.254977</td>\n",
              "      <td>-0.081494</td>\n",
              "      <td>...</td>\n",
              "      <td>D</td>\n",
              "      <td>-0.326965</td>\n",
              "      <td>No Deposit</td>\n",
              "      <td>A</td>\n",
              "      <td>-0.154175</td>\n",
              "      <td>Transient-Party</td>\n",
              "      <td>0.209600</td>\n",
              "      <td>-0.227853</td>\n",
              "      <td>-0.675374</td>\n",
              "      <td>1</td>\n",
              "    </tr>\n",
              "    <tr>\n",
              "      <th>53000</th>\n",
              "      <td>City Hotel</td>\n",
              "      <td>-0.246668</td>\n",
              "      <td>1.194405</td>\n",
              "      <td>8</td>\n",
              "      <td>-0.884202</td>\n",
              "      <td>-0.946446</td>\n",
              "      <td>-0.283187</td>\n",
              "      <td>0.281547</td>\n",
              "      <td>-0.254977</td>\n",
              "      <td>-0.081494</td>\n",
              "      <td>...</td>\n",
              "      <td>A</td>\n",
              "      <td>-0.326965</td>\n",
              "      <td>No Deposit</td>\n",
              "      <td>A</td>\n",
              "      <td>-0.154175</td>\n",
              "      <td>Transient</td>\n",
              "      <td>0.926135</td>\n",
              "      <td>-0.227853</td>\n",
              "      <td>1.916242</td>\n",
              "      <td>1</td>\n",
              "    </tr>\n",
              "    <tr>\n",
              "      <th>...</th>\n",
              "      <td>...</td>\n",
              "      <td>...</td>\n",
              "      <td>...</td>\n",
              "      <td>...</td>\n",
              "      <td>...</td>\n",
              "      <td>...</td>\n",
              "      <td>...</td>\n",
              "      <td>...</td>\n",
              "      <td>...</td>\n",
              "      <td>...</td>\n",
              "      <td>...</td>\n",
              "      <td>...</td>\n",
              "      <td>...</td>\n",
              "      <td>...</td>\n",
              "      <td>...</td>\n",
              "      <td>...</td>\n",
              "      <td>...</td>\n",
              "      <td>...</td>\n",
              "      <td>...</td>\n",
              "      <td>...</td>\n",
              "      <td>...</td>\n",
              "    </tr>\n",
              "    <tr>\n",
              "      <th>30377</th>\n",
              "      <td>Resort Hotel</td>\n",
              "      <td>0.277891</td>\n",
              "      <td>-0.221954</td>\n",
              "      <td>7</td>\n",
              "      <td>0.022912</td>\n",
              "      <td>1.090671</td>\n",
              "      <td>1.348897</td>\n",
              "      <td>0.281547</td>\n",
              "      <td>-0.254977</td>\n",
              "      <td>-0.081494</td>\n",
              "      <td>...</td>\n",
              "      <td>E</td>\n",
              "      <td>-0.326965</td>\n",
              "      <td>No Deposit</td>\n",
              "      <td>Others</td>\n",
              "      <td>-0.154175</td>\n",
              "      <td>Transient</td>\n",
              "      <td>0.928360</td>\n",
              "      <td>-0.227853</td>\n",
              "      <td>-0.675374</td>\n",
              "      <td>1</td>\n",
              "    </tr>\n",
              "    <tr>\n",
              "      <th>47578</th>\n",
              "      <td>City Hotel</td>\n",
              "      <td>0.630612</td>\n",
              "      <td>1.194405</td>\n",
              "      <td>6</td>\n",
              "      <td>-0.884202</td>\n",
              "      <td>-0.946446</td>\n",
              "      <td>-0.283187</td>\n",
              "      <td>-1.864512</td>\n",
              "      <td>-0.254977</td>\n",
              "      <td>-0.081494</td>\n",
              "      <td>...</td>\n",
              "      <td>A</td>\n",
              "      <td>-0.326965</td>\n",
              "      <td>Non Refund</td>\n",
              "      <td>Others</td>\n",
              "      <td>-0.154175</td>\n",
              "      <td>Transient</td>\n",
              "      <td>0.369819</td>\n",
              "      <td>-0.227853</td>\n",
              "      <td>-0.675374</td>\n",
              "      <td>1</td>\n",
              "    </tr>\n",
              "    <tr>\n",
              "      <th>41074</th>\n",
              "      <td>City Hotel</td>\n",
              "      <td>-0.563213</td>\n",
              "      <td>-0.221954</td>\n",
              "      <td>12</td>\n",
              "      <td>-1.451148</td>\n",
              "      <td>-0.946446</td>\n",
              "      <td>-0.827215</td>\n",
              "      <td>0.281547</td>\n",
              "      <td>-0.254977</td>\n",
              "      <td>-0.081494</td>\n",
              "      <td>...</td>\n",
              "      <td>B</td>\n",
              "      <td>-0.326965</td>\n",
              "      <td>No Deposit</td>\n",
              "      <td>X</td>\n",
              "      <td>-0.154175</td>\n",
              "      <td>Transient</td>\n",
              "      <td>-0.538089</td>\n",
              "      <td>-0.227853</td>\n",
              "      <td>0.620434</td>\n",
              "      <td>0</td>\n",
              "    </tr>\n",
              "    <tr>\n",
              "      <th>11033</th>\n",
              "      <td>City Hotel</td>\n",
              "      <td>-0.961154</td>\n",
              "      <td>-0.221954</td>\n",
              "      <td>10</td>\n",
              "      <td>-1.110980</td>\n",
              "      <td>-0.946446</td>\n",
              "      <td>-0.827215</td>\n",
              "      <td>-1.864512</td>\n",
              "      <td>-0.254977</td>\n",
              "      <td>-0.081494</td>\n",
              "      <td>...</td>\n",
              "      <td>A</td>\n",
              "      <td>-0.326965</td>\n",
              "      <td>No Deposit</td>\n",
              "      <td>Others</td>\n",
              "      <td>-0.154175</td>\n",
              "      <td>Transient-Party</td>\n",
              "      <td>0.481082</td>\n",
              "      <td>-0.227853</td>\n",
              "      <td>-0.675374</td>\n",
              "      <td>1</td>\n",
              "    </tr>\n",
              "    <tr>\n",
              "      <th>38775</th>\n",
              "      <td>Resort Hotel</td>\n",
              "      <td>-0.771228</td>\n",
              "      <td>1.194405</td>\n",
              "      <td>8</td>\n",
              "      <td>1.270193</td>\n",
              "      <td>1.090671</td>\n",
              "      <td>-0.827215</td>\n",
              "      <td>0.281547</td>\n",
              "      <td>-0.254977</td>\n",
              "      <td>-0.081494</td>\n",
              "      <td>...</td>\n",
              "      <td>A</td>\n",
              "      <td>-0.326965</td>\n",
              "      <td>No Deposit</td>\n",
              "      <td>F</td>\n",
              "      <td>-0.154175</td>\n",
              "      <td>Transient</td>\n",
              "      <td>2.239041</td>\n",
              "      <td>4.349659</td>\n",
              "      <td>1.916242</td>\n",
              "      <td>1</td>\n",
              "    </tr>\n",
              "  </tbody>\n",
              "</table>\n",
              "<p>42289 rows × 28 columns</p>\n",
              "</div>\n",
              "    <div class=\"colab-df-buttons\">\n",
              "\n",
              "  <div class=\"colab-df-container\">\n",
              "    <button class=\"colab-df-convert\" onclick=\"convertToInteractive('df-93f816f1-b43a-4644-90d6-11f74a583d1a')\"\n",
              "            title=\"Convert this dataframe to an interactive table.\"\n",
              "            style=\"display:none;\">\n",
              "\n",
              "  <svg xmlns=\"http://www.w3.org/2000/svg\" height=\"24px\" viewBox=\"0 -960 960 960\">\n",
              "    <path d=\"M120-120v-720h720v720H120Zm60-500h600v-160H180v160Zm220 220h160v-160H400v160Zm0 220h160v-160H400v160ZM180-400h160v-160H180v160Zm440 0h160v-160H620v160ZM180-180h160v-160H180v160Zm440 0h160v-160H620v160Z\"/>\n",
              "  </svg>\n",
              "    </button>\n",
              "\n",
              "  <style>\n",
              "    .colab-df-container {\n",
              "      display:flex;\n",
              "      gap: 12px;\n",
              "    }\n",
              "\n",
              "    .colab-df-convert {\n",
              "      background-color: #E8F0FE;\n",
              "      border: none;\n",
              "      border-radius: 50%;\n",
              "      cursor: pointer;\n",
              "      display: none;\n",
              "      fill: #1967D2;\n",
              "      height: 32px;\n",
              "      padding: 0 0 0 0;\n",
              "      width: 32px;\n",
              "    }\n",
              "\n",
              "    .colab-df-convert:hover {\n",
              "      background-color: #E2EBFA;\n",
              "      box-shadow: 0px 1px 2px rgba(60, 64, 67, 0.3), 0px 1px 3px 1px rgba(60, 64, 67, 0.15);\n",
              "      fill: #174EA6;\n",
              "    }\n",
              "\n",
              "    .colab-df-buttons div {\n",
              "      margin-bottom: 4px;\n",
              "    }\n",
              "\n",
              "    [theme=dark] .colab-df-convert {\n",
              "      background-color: #3B4455;\n",
              "      fill: #D2E3FC;\n",
              "    }\n",
              "\n",
              "    [theme=dark] .colab-df-convert:hover {\n",
              "      background-color: #434B5C;\n",
              "      box-shadow: 0px 1px 3px 1px rgba(0, 0, 0, 0.15);\n",
              "      filter: drop-shadow(0px 1px 2px rgba(0, 0, 0, 0.3));\n",
              "      fill: #FFFFFF;\n",
              "    }\n",
              "  </style>\n",
              "\n",
              "    <script>\n",
              "      const buttonEl =\n",
              "        document.querySelector('#df-93f816f1-b43a-4644-90d6-11f74a583d1a button.colab-df-convert');\n",
              "      buttonEl.style.display =\n",
              "        google.colab.kernel.accessAllowed ? 'block' : 'none';\n",
              "\n",
              "      async function convertToInteractive(key) {\n",
              "        const element = document.querySelector('#df-93f816f1-b43a-4644-90d6-11f74a583d1a');\n",
              "        const dataTable =\n",
              "          await google.colab.kernel.invokeFunction('convertToInteractive',\n",
              "                                                    [key], {});\n",
              "        if (!dataTable) return;\n",
              "\n",
              "        const docLinkHtml = 'Like what you see? Visit the ' +\n",
              "          '<a target=\"_blank\" href=https://colab.research.google.com/notebooks/data_table.ipynb>data table notebook</a>'\n",
              "          + ' to learn more about interactive tables.';\n",
              "        element.innerHTML = '';\n",
              "        dataTable['output_type'] = 'display_data';\n",
              "        await google.colab.output.renderOutput(dataTable, element);\n",
              "        const docLink = document.createElement('div');\n",
              "        docLink.innerHTML = docLinkHtml;\n",
              "        element.appendChild(docLink);\n",
              "      }\n",
              "    </script>\n",
              "  </div>\n",
              "\n",
              "\n",
              "<div id=\"df-0047a112-f8a5-40ed-9678-ef4bae95fa21\">\n",
              "  <button class=\"colab-df-quickchart\" onclick=\"quickchart('df-0047a112-f8a5-40ed-9678-ef4bae95fa21')\"\n",
              "            title=\"Suggest charts.\"\n",
              "            style=\"display:none;\">\n",
              "\n",
              "<svg xmlns=\"http://www.w3.org/2000/svg\" height=\"24px\"viewBox=\"0 0 24 24\"\n",
              "     width=\"24px\">\n",
              "    <g>\n",
              "        <path d=\"M19 3H5c-1.1 0-2 .9-2 2v14c0 1.1.9 2 2 2h14c1.1 0 2-.9 2-2V5c0-1.1-.9-2-2-2zM9 17H7v-7h2v7zm4 0h-2V7h2v10zm4 0h-2v-4h2v4z\"/>\n",
              "    </g>\n",
              "</svg>\n",
              "  </button>\n",
              "\n",
              "<style>\n",
              "  .colab-df-quickchart {\n",
              "      --bg-color: #E8F0FE;\n",
              "      --fill-color: #1967D2;\n",
              "      --hover-bg-color: #E2EBFA;\n",
              "      --hover-fill-color: #174EA6;\n",
              "      --disabled-fill-color: #AAA;\n",
              "      --disabled-bg-color: #DDD;\n",
              "  }\n",
              "\n",
              "  [theme=dark] .colab-df-quickchart {\n",
              "      --bg-color: #3B4455;\n",
              "      --fill-color: #D2E3FC;\n",
              "      --hover-bg-color: #434B5C;\n",
              "      --hover-fill-color: #FFFFFF;\n",
              "      --disabled-bg-color: #3B4455;\n",
              "      --disabled-fill-color: #666;\n",
              "  }\n",
              "\n",
              "  .colab-df-quickchart {\n",
              "    background-color: var(--bg-color);\n",
              "    border: none;\n",
              "    border-radius: 50%;\n",
              "    cursor: pointer;\n",
              "    display: none;\n",
              "    fill: var(--fill-color);\n",
              "    height: 32px;\n",
              "    padding: 0;\n",
              "    width: 32px;\n",
              "  }\n",
              "\n",
              "  .colab-df-quickchart:hover {\n",
              "    background-color: var(--hover-bg-color);\n",
              "    box-shadow: 0 1px 2px rgba(60, 64, 67, 0.3), 0 1px 3px 1px rgba(60, 64, 67, 0.15);\n",
              "    fill: var(--button-hover-fill-color);\n",
              "  }\n",
              "\n",
              "  .colab-df-quickchart-complete:disabled,\n",
              "  .colab-df-quickchart-complete:disabled:hover {\n",
              "    background-color: var(--disabled-bg-color);\n",
              "    fill: var(--disabled-fill-color);\n",
              "    box-shadow: none;\n",
              "  }\n",
              "\n",
              "  .colab-df-spinner {\n",
              "    border: 2px solid var(--fill-color);\n",
              "    border-color: transparent;\n",
              "    border-bottom-color: var(--fill-color);\n",
              "    animation:\n",
              "      spin 1s steps(1) infinite;\n",
              "  }\n",
              "\n",
              "  @keyframes spin {\n",
              "    0% {\n",
              "      border-color: transparent;\n",
              "      border-bottom-color: var(--fill-color);\n",
              "      border-left-color: var(--fill-color);\n",
              "    }\n",
              "    20% {\n",
              "      border-color: transparent;\n",
              "      border-left-color: var(--fill-color);\n",
              "      border-top-color: var(--fill-color);\n",
              "    }\n",
              "    30% {\n",
              "      border-color: transparent;\n",
              "      border-left-color: var(--fill-color);\n",
              "      border-top-color: var(--fill-color);\n",
              "      border-right-color: var(--fill-color);\n",
              "    }\n",
              "    40% {\n",
              "      border-color: transparent;\n",
              "      border-right-color: var(--fill-color);\n",
              "      border-top-color: var(--fill-color);\n",
              "    }\n",
              "    60% {\n",
              "      border-color: transparent;\n",
              "      border-right-color: var(--fill-color);\n",
              "    }\n",
              "    80% {\n",
              "      border-color: transparent;\n",
              "      border-right-color: var(--fill-color);\n",
              "      border-bottom-color: var(--fill-color);\n",
              "    }\n",
              "    90% {\n",
              "      border-color: transparent;\n",
              "      border-bottom-color: var(--fill-color);\n",
              "    }\n",
              "  }\n",
              "</style>\n",
              "\n",
              "  <script>\n",
              "    async function quickchart(key) {\n",
              "      const quickchartButtonEl =\n",
              "        document.querySelector('#' + key + ' button');\n",
              "      quickchartButtonEl.disabled = true;  // To prevent multiple clicks.\n",
              "      quickchartButtonEl.classList.add('colab-df-spinner');\n",
              "      try {\n",
              "        const charts = await google.colab.kernel.invokeFunction(\n",
              "            'suggestCharts', [key], {});\n",
              "      } catch (error) {\n",
              "        console.error('Error during call to suggestCharts:', error);\n",
              "      }\n",
              "      quickchartButtonEl.classList.remove('colab-df-spinner');\n",
              "      quickchartButtonEl.classList.add('colab-df-quickchart-complete');\n",
              "    }\n",
              "    (() => {\n",
              "      let quickchartButtonEl =\n",
              "        document.querySelector('#df-0047a112-f8a5-40ed-9678-ef4bae95fa21 button');\n",
              "      quickchartButtonEl.style.display =\n",
              "        google.colab.kernel.accessAllowed ? 'block' : 'none';\n",
              "    })();\n",
              "  </script>\n",
              "</div>\n",
              "    </div>\n",
              "  </div>\n"
            ]
          },
          "metadata": {},
          "execution_count": 16
        }
      ],
      "source": [
        "XTrainStd"
      ]
    },
    {
      "cell_type": "markdown",
      "metadata": {
        "id": "lgDrT1JF0Tq8"
      },
      "source": [
        "Standarizacion de test"
      ]
    },
    {
      "cell_type": "code",
      "execution_count": 17,
      "metadata": {
        "id": "Kt3SAaMG0ai0"
      },
      "outputs": [],
      "source": [
        "dsTestStd[variablesNumericas] = sscaler.fit_transform(pd.DataFrame(dsTestStd[variablesNumericas]))"
      ]
    },
    {
      "cell_type": "code",
      "execution_count": 18,
      "metadata": {
        "colab": {
          "base_uri": "https://localhost:8080/"
        },
        "id": "8v-58NQ6cGgV",
        "outputId": "57b7bb72-1565-464c-cbe4-40ca9f6491b7"
      },
      "outputs": [
        {
          "output_type": "execute_result",
          "data": {
            "text/plain": [
              "Others    12049\n",
              "A         11679\n",
              "F          5107\n",
              "B          5076\n",
              "K          3016\n",
              "X          1191\n",
              "l          1136\n",
              "u          1097\n",
              "H           891\n",
              "           525\n",
              "N           522\n",
              "Name: agent, dtype: int64"
            ]
          },
          "metadata": {},
          "execution_count": 18
        }
      ],
      "source": [
        "XTrainStd['agent'].value_counts()"
      ]
    },
    {
      "cell_type": "code",
      "execution_count": 19,
      "metadata": {
        "colab": {
          "base_uri": "https://localhost:8080/"
        },
        "id": "mrd8aoFffhPb",
        "outputId": "9c060dfc-c0c5-4ff9-c425-c9006ce91e91"
      },
      "outputs": [
        {
          "output_type": "execute_result",
          "data": {
            "text/plain": [
              "A         5160\n",
              "Others    5082\n",
              "B         2206\n",
              "F         2107\n",
              "K         1313\n",
              "X          482\n",
              "l          469\n",
              "u          453\n",
              "H          408\n",
              "          236\n",
              "N          209\n",
              "Name: agent, dtype: int64"
            ]
          },
          "metadata": {},
          "execution_count": 19
        }
      ],
      "source": [
        "XTestStd['agent'].value_counts()"
      ]
    },
    {
      "cell_type": "markdown",
      "metadata": {
        "id": "6V69cNeIg0jA"
      },
      "source": [
        "## One Hot Encoding"
      ]
    },
    {
      "cell_type": "code",
      "execution_count": 20,
      "metadata": {
        "colab": {
          "base_uri": "https://localhost:8080/",
          "height": 617
        },
        "id": "UlRtxDPXgJvt",
        "outputId": "bcd318d8-d6d0-4d5e-b4ed-27930b6bc3cb"
      },
      "outputs": [
        {
          "output_type": "execute_result",
          "data": {
            "text/plain": [
              "              hotel meal country market_segment distribution_channel  \\\n",
              "0        City Hotel   BB     USA      Online TA                TA/TO   \n",
              "1      Resort Hotel   BB     PRT         Groups               Direct   \n",
              "2        City Hotel   BB  Others      Online TA                TA/TO   \n",
              "3        City Hotel   BB     PRT         Groups                TA/TO   \n",
              "4        City Hotel   BB     FRA  Offline TA/TO                TA/TO   \n",
              "...             ...  ...     ...            ...                  ...   \n",
              "60409  Resort Hotel   BB     ESP      Online TA                TA/TO   \n",
              "60410    City Hotel   SC     FRA      Online TA                TA/TO   \n",
              "60411    City Hotel   BB     FRA       Aviation            Corporate   \n",
              "60412  Resort Hotel   BB     PRT         Groups                TA/TO   \n",
              "60413    City Hotel   HB  Others      Online TA                TA/TO   \n",
              "\n",
              "      reserved_room_type assigned_room_type deposit_type   agent  \\\n",
              "0                      D                  D   No Deposit       A   \n",
              "1                      A                  A   No Deposit       B   \n",
              "2                      F                  F   No Deposit       A   \n",
              "3                      A                  A   Non Refund  Others   \n",
              "4                      A                  A   No Deposit  Others   \n",
              "...                  ...                ...          ...     ...   \n",
              "60409                  A                  D   No Deposit       F   \n",
              "60410                  A                  A   No Deposit       B   \n",
              "60411                  A                  A   No Deposit       B   \n",
              "60412                  A                  A   Non Refund  Others   \n",
              "60413                  D                  D   No Deposit       A   \n",
              "\n",
              "         customer_type  \n",
              "0            Transient  \n",
              "1            Transient  \n",
              "2            Transient  \n",
              "3            Transient  \n",
              "4      Transient-Party  \n",
              "...                ...  \n",
              "60409        Transient  \n",
              "60410        Transient  \n",
              "60411        Transient  \n",
              "60412        Transient  \n",
              "60413        Transient  \n",
              "\n",
              "[60414 rows x 10 columns]"
            ],
            "text/html": [
              "\n",
              "  <div id=\"df-380daf83-4f3a-4d3d-8548-56295a9873f9\" class=\"colab-df-container\">\n",
              "    <div>\n",
              "<style scoped>\n",
              "    .dataframe tbody tr th:only-of-type {\n",
              "        vertical-align: middle;\n",
              "    }\n",
              "\n",
              "    .dataframe tbody tr th {\n",
              "        vertical-align: top;\n",
              "    }\n",
              "\n",
              "    .dataframe thead th {\n",
              "        text-align: right;\n",
              "    }\n",
              "</style>\n",
              "<table border=\"1\" class=\"dataframe\">\n",
              "  <thead>\n",
              "    <tr style=\"text-align: right;\">\n",
              "      <th></th>\n",
              "      <th>hotel</th>\n",
              "      <th>meal</th>\n",
              "      <th>country</th>\n",
              "      <th>market_segment</th>\n",
              "      <th>distribution_channel</th>\n",
              "      <th>reserved_room_type</th>\n",
              "      <th>assigned_room_type</th>\n",
              "      <th>deposit_type</th>\n",
              "      <th>agent</th>\n",
              "      <th>customer_type</th>\n",
              "    </tr>\n",
              "  </thead>\n",
              "  <tbody>\n",
              "    <tr>\n",
              "      <th>0</th>\n",
              "      <td>City Hotel</td>\n",
              "      <td>BB</td>\n",
              "      <td>USA</td>\n",
              "      <td>Online TA</td>\n",
              "      <td>TA/TO</td>\n",
              "      <td>D</td>\n",
              "      <td>D</td>\n",
              "      <td>No Deposit</td>\n",
              "      <td>A</td>\n",
              "      <td>Transient</td>\n",
              "    </tr>\n",
              "    <tr>\n",
              "      <th>1</th>\n",
              "      <td>Resort Hotel</td>\n",
              "      <td>BB</td>\n",
              "      <td>PRT</td>\n",
              "      <td>Groups</td>\n",
              "      <td>Direct</td>\n",
              "      <td>A</td>\n",
              "      <td>A</td>\n",
              "      <td>No Deposit</td>\n",
              "      <td>B</td>\n",
              "      <td>Transient</td>\n",
              "    </tr>\n",
              "    <tr>\n",
              "      <th>2</th>\n",
              "      <td>City Hotel</td>\n",
              "      <td>BB</td>\n",
              "      <td>Others</td>\n",
              "      <td>Online TA</td>\n",
              "      <td>TA/TO</td>\n",
              "      <td>F</td>\n",
              "      <td>F</td>\n",
              "      <td>No Deposit</td>\n",
              "      <td>A</td>\n",
              "      <td>Transient</td>\n",
              "    </tr>\n",
              "    <tr>\n",
              "      <th>3</th>\n",
              "      <td>City Hotel</td>\n",
              "      <td>BB</td>\n",
              "      <td>PRT</td>\n",
              "      <td>Groups</td>\n",
              "      <td>TA/TO</td>\n",
              "      <td>A</td>\n",
              "      <td>A</td>\n",
              "      <td>Non Refund</td>\n",
              "      <td>Others</td>\n",
              "      <td>Transient</td>\n",
              "    </tr>\n",
              "    <tr>\n",
              "      <th>4</th>\n",
              "      <td>City Hotel</td>\n",
              "      <td>BB</td>\n",
              "      <td>FRA</td>\n",
              "      <td>Offline TA/TO</td>\n",
              "      <td>TA/TO</td>\n",
              "      <td>A</td>\n",
              "      <td>A</td>\n",
              "      <td>No Deposit</td>\n",
              "      <td>Others</td>\n",
              "      <td>Transient-Party</td>\n",
              "    </tr>\n",
              "    <tr>\n",
              "      <th>...</th>\n",
              "      <td>...</td>\n",
              "      <td>...</td>\n",
              "      <td>...</td>\n",
              "      <td>...</td>\n",
              "      <td>...</td>\n",
              "      <td>...</td>\n",
              "      <td>...</td>\n",
              "      <td>...</td>\n",
              "      <td>...</td>\n",
              "      <td>...</td>\n",
              "    </tr>\n",
              "    <tr>\n",
              "      <th>60409</th>\n",
              "      <td>Resort Hotel</td>\n",
              "      <td>BB</td>\n",
              "      <td>ESP</td>\n",
              "      <td>Online TA</td>\n",
              "      <td>TA/TO</td>\n",
              "      <td>A</td>\n",
              "      <td>D</td>\n",
              "      <td>No Deposit</td>\n",
              "      <td>F</td>\n",
              "      <td>Transient</td>\n",
              "    </tr>\n",
              "    <tr>\n",
              "      <th>60410</th>\n",
              "      <td>City Hotel</td>\n",
              "      <td>SC</td>\n",
              "      <td>FRA</td>\n",
              "      <td>Online TA</td>\n",
              "      <td>TA/TO</td>\n",
              "      <td>A</td>\n",
              "      <td>A</td>\n",
              "      <td>No Deposit</td>\n",
              "      <td>B</td>\n",
              "      <td>Transient</td>\n",
              "    </tr>\n",
              "    <tr>\n",
              "      <th>60411</th>\n",
              "      <td>City Hotel</td>\n",
              "      <td>BB</td>\n",
              "      <td>FRA</td>\n",
              "      <td>Aviation</td>\n",
              "      <td>Corporate</td>\n",
              "      <td>A</td>\n",
              "      <td>A</td>\n",
              "      <td>No Deposit</td>\n",
              "      <td>B</td>\n",
              "      <td>Transient</td>\n",
              "    </tr>\n",
              "    <tr>\n",
              "      <th>60412</th>\n",
              "      <td>Resort Hotel</td>\n",
              "      <td>BB</td>\n",
              "      <td>PRT</td>\n",
              "      <td>Groups</td>\n",
              "      <td>TA/TO</td>\n",
              "      <td>A</td>\n",
              "      <td>A</td>\n",
              "      <td>Non Refund</td>\n",
              "      <td>Others</td>\n",
              "      <td>Transient</td>\n",
              "    </tr>\n",
              "    <tr>\n",
              "      <th>60413</th>\n",
              "      <td>City Hotel</td>\n",
              "      <td>HB</td>\n",
              "      <td>Others</td>\n",
              "      <td>Online TA</td>\n",
              "      <td>TA/TO</td>\n",
              "      <td>D</td>\n",
              "      <td>D</td>\n",
              "      <td>No Deposit</td>\n",
              "      <td>A</td>\n",
              "      <td>Transient</td>\n",
              "    </tr>\n",
              "  </tbody>\n",
              "</table>\n",
              "<p>60414 rows × 10 columns</p>\n",
              "</div>\n",
              "    <div class=\"colab-df-buttons\">\n",
              "\n",
              "  <div class=\"colab-df-container\">\n",
              "    <button class=\"colab-df-convert\" onclick=\"convertToInteractive('df-380daf83-4f3a-4d3d-8548-56295a9873f9')\"\n",
              "            title=\"Convert this dataframe to an interactive table.\"\n",
              "            style=\"display:none;\">\n",
              "\n",
              "  <svg xmlns=\"http://www.w3.org/2000/svg\" height=\"24px\" viewBox=\"0 -960 960 960\">\n",
              "    <path d=\"M120-120v-720h720v720H120Zm60-500h600v-160H180v160Zm220 220h160v-160H400v160Zm0 220h160v-160H400v160ZM180-400h160v-160H180v160Zm440 0h160v-160H620v160ZM180-180h160v-160H180v160Zm440 0h160v-160H620v160Z\"/>\n",
              "  </svg>\n",
              "    </button>\n",
              "\n",
              "  <style>\n",
              "    .colab-df-container {\n",
              "      display:flex;\n",
              "      gap: 12px;\n",
              "    }\n",
              "\n",
              "    .colab-df-convert {\n",
              "      background-color: #E8F0FE;\n",
              "      border: none;\n",
              "      border-radius: 50%;\n",
              "      cursor: pointer;\n",
              "      display: none;\n",
              "      fill: #1967D2;\n",
              "      height: 32px;\n",
              "      padding: 0 0 0 0;\n",
              "      width: 32px;\n",
              "    }\n",
              "\n",
              "    .colab-df-convert:hover {\n",
              "      background-color: #E2EBFA;\n",
              "      box-shadow: 0px 1px 2px rgba(60, 64, 67, 0.3), 0px 1px 3px 1px rgba(60, 64, 67, 0.15);\n",
              "      fill: #174EA6;\n",
              "    }\n",
              "\n",
              "    .colab-df-buttons div {\n",
              "      margin-bottom: 4px;\n",
              "    }\n",
              "\n",
              "    [theme=dark] .colab-df-convert {\n",
              "      background-color: #3B4455;\n",
              "      fill: #D2E3FC;\n",
              "    }\n",
              "\n",
              "    [theme=dark] .colab-df-convert:hover {\n",
              "      background-color: #434B5C;\n",
              "      box-shadow: 0px 1px 3px 1px rgba(0, 0, 0, 0.15);\n",
              "      filter: drop-shadow(0px 1px 2px rgba(0, 0, 0, 0.3));\n",
              "      fill: #FFFFFF;\n",
              "    }\n",
              "  </style>\n",
              "\n",
              "    <script>\n",
              "      const buttonEl =\n",
              "        document.querySelector('#df-380daf83-4f3a-4d3d-8548-56295a9873f9 button.colab-df-convert');\n",
              "      buttonEl.style.display =\n",
              "        google.colab.kernel.accessAllowed ? 'block' : 'none';\n",
              "\n",
              "      async function convertToInteractive(key) {\n",
              "        const element = document.querySelector('#df-380daf83-4f3a-4d3d-8548-56295a9873f9');\n",
              "        const dataTable =\n",
              "          await google.colab.kernel.invokeFunction('convertToInteractive',\n",
              "                                                    [key], {});\n",
              "        if (!dataTable) return;\n",
              "\n",
              "        const docLinkHtml = 'Like what you see? Visit the ' +\n",
              "          '<a target=\"_blank\" href=https://colab.research.google.com/notebooks/data_table.ipynb>data table notebook</a>'\n",
              "          + ' to learn more about interactive tables.';\n",
              "        element.innerHTML = '';\n",
              "        dataTable['output_type'] = 'display_data';\n",
              "        await google.colab.output.renderOutput(dataTable, element);\n",
              "        const docLink = document.createElement('div');\n",
              "        docLink.innerHTML = docLinkHtml;\n",
              "        element.appendChild(docLink);\n",
              "      }\n",
              "    </script>\n",
              "  </div>\n",
              "\n",
              "\n",
              "<div id=\"df-d1a978c4-51c1-44d4-aac7-1efe45a45533\">\n",
              "  <button class=\"colab-df-quickchart\" onclick=\"quickchart('df-d1a978c4-51c1-44d4-aac7-1efe45a45533')\"\n",
              "            title=\"Suggest charts.\"\n",
              "            style=\"display:none;\">\n",
              "\n",
              "<svg xmlns=\"http://www.w3.org/2000/svg\" height=\"24px\"viewBox=\"0 0 24 24\"\n",
              "     width=\"24px\">\n",
              "    <g>\n",
              "        <path d=\"M19 3H5c-1.1 0-2 .9-2 2v14c0 1.1.9 2 2 2h14c1.1 0 2-.9 2-2V5c0-1.1-.9-2-2-2zM9 17H7v-7h2v7zm4 0h-2V7h2v10zm4 0h-2v-4h2v4z\"/>\n",
              "    </g>\n",
              "</svg>\n",
              "  </button>\n",
              "\n",
              "<style>\n",
              "  .colab-df-quickchart {\n",
              "      --bg-color: #E8F0FE;\n",
              "      --fill-color: #1967D2;\n",
              "      --hover-bg-color: #E2EBFA;\n",
              "      --hover-fill-color: #174EA6;\n",
              "      --disabled-fill-color: #AAA;\n",
              "      --disabled-bg-color: #DDD;\n",
              "  }\n",
              "\n",
              "  [theme=dark] .colab-df-quickchart {\n",
              "      --bg-color: #3B4455;\n",
              "      --fill-color: #D2E3FC;\n",
              "      --hover-bg-color: #434B5C;\n",
              "      --hover-fill-color: #FFFFFF;\n",
              "      --disabled-bg-color: #3B4455;\n",
              "      --disabled-fill-color: #666;\n",
              "  }\n",
              "\n",
              "  .colab-df-quickchart {\n",
              "    background-color: var(--bg-color);\n",
              "    border: none;\n",
              "    border-radius: 50%;\n",
              "    cursor: pointer;\n",
              "    display: none;\n",
              "    fill: var(--fill-color);\n",
              "    height: 32px;\n",
              "    padding: 0;\n",
              "    width: 32px;\n",
              "  }\n",
              "\n",
              "  .colab-df-quickchart:hover {\n",
              "    background-color: var(--hover-bg-color);\n",
              "    box-shadow: 0 1px 2px rgba(60, 64, 67, 0.3), 0 1px 3px 1px rgba(60, 64, 67, 0.15);\n",
              "    fill: var(--button-hover-fill-color);\n",
              "  }\n",
              "\n",
              "  .colab-df-quickchart-complete:disabled,\n",
              "  .colab-df-quickchart-complete:disabled:hover {\n",
              "    background-color: var(--disabled-bg-color);\n",
              "    fill: var(--disabled-fill-color);\n",
              "    box-shadow: none;\n",
              "  }\n",
              "\n",
              "  .colab-df-spinner {\n",
              "    border: 2px solid var(--fill-color);\n",
              "    border-color: transparent;\n",
              "    border-bottom-color: var(--fill-color);\n",
              "    animation:\n",
              "      spin 1s steps(1) infinite;\n",
              "  }\n",
              "\n",
              "  @keyframes spin {\n",
              "    0% {\n",
              "      border-color: transparent;\n",
              "      border-bottom-color: var(--fill-color);\n",
              "      border-left-color: var(--fill-color);\n",
              "    }\n",
              "    20% {\n",
              "      border-color: transparent;\n",
              "      border-left-color: var(--fill-color);\n",
              "      border-top-color: var(--fill-color);\n",
              "    }\n",
              "    30% {\n",
              "      border-color: transparent;\n",
              "      border-left-color: var(--fill-color);\n",
              "      border-top-color: var(--fill-color);\n",
              "      border-right-color: var(--fill-color);\n",
              "    }\n",
              "    40% {\n",
              "      border-color: transparent;\n",
              "      border-right-color: var(--fill-color);\n",
              "      border-top-color: var(--fill-color);\n",
              "    }\n",
              "    60% {\n",
              "      border-color: transparent;\n",
              "      border-right-color: var(--fill-color);\n",
              "    }\n",
              "    80% {\n",
              "      border-color: transparent;\n",
              "      border-right-color: var(--fill-color);\n",
              "      border-bottom-color: var(--fill-color);\n",
              "    }\n",
              "    90% {\n",
              "      border-color: transparent;\n",
              "      border-bottom-color: var(--fill-color);\n",
              "    }\n",
              "  }\n",
              "</style>\n",
              "\n",
              "  <script>\n",
              "    async function quickchart(key) {\n",
              "      const quickchartButtonEl =\n",
              "        document.querySelector('#' + key + ' button');\n",
              "      quickchartButtonEl.disabled = true;  // To prevent multiple clicks.\n",
              "      quickchartButtonEl.classList.add('colab-df-spinner');\n",
              "      try {\n",
              "        const charts = await google.colab.kernel.invokeFunction(\n",
              "            'suggestCharts', [key], {});\n",
              "      } catch (error) {\n",
              "        console.error('Error during call to suggestCharts:', error);\n",
              "      }\n",
              "      quickchartButtonEl.classList.remove('colab-df-spinner');\n",
              "      quickchartButtonEl.classList.add('colab-df-quickchart-complete');\n",
              "    }\n",
              "    (() => {\n",
              "      let quickchartButtonEl =\n",
              "        document.querySelector('#df-d1a978c4-51c1-44d4-aac7-1efe45a45533 button');\n",
              "      quickchartButtonEl.style.display =\n",
              "        google.colab.kernel.accessAllowed ? 'block' : 'none';\n",
              "    })();\n",
              "  </script>\n",
              "</div>\n",
              "    </div>\n",
              "  </div>\n"
            ]
          },
          "metadata": {},
          "execution_count": 20
        }
      ],
      "source": [
        "columnasCategoricas = dsTrain.select_dtypes(include=['object'])\n",
        "columnasCategoricas"
      ]
    },
    {
      "cell_type": "code",
      "execution_count": 21,
      "metadata": {
        "id": "xoiTYuv1kWYs"
      },
      "outputs": [],
      "source": [
        "XTrainStdOHE = pd.get_dummies(XTrainStd, columns=columnasCategoricas.columns.to_list(), drop_first=True)\n",
        "XTestStdOHE = pd.get_dummies(XTestStd, columns=columnasCategoricas.columns.to_list(), drop_first=True)\n",
        "columnasInterseccion = set(XTrainStdOHE.columns).intersection(XTestStdOHE.columns)\n",
        "XTrainStdOHE  = XTrainStdOHE[list(columnasInterseccion)]\n",
        "XTestStdOHE = XTestStdOHE[list(columnasInterseccion)]"
      ]
    },
    {
      "cell_type": "code",
      "execution_count": 22,
      "metadata": {
        "colab": {
          "base_uri": "https://localhost:8080/",
          "height": 461
        },
        "id": "Ad80lhrDpBEE",
        "outputId": "fc5dfe44-f5ca-48f0-eabe-7ea399446a02"
      },
      "outputs": [
        {
          "output_type": "execute_result",
          "data": {
            "text/plain": [
              "       high_season_month  assigned_room_type_G  \\\n",
              "41323                  0                     0   \n",
              "57406                  0                     0   \n",
              "3412                   0                     0   \n",
              "53923                  1                     0   \n",
              "53000                  1                     0   \n",
              "...                  ...                   ...   \n",
              "30377                  1                     0   \n",
              "47578                  1                     0   \n",
              "41074                  0                     0   \n",
              "11033                  1                     0   \n",
              "38775                  1                     0   \n",
              "\n",
              "       previous_bookings_not_canceled  hotel_Resort Hotel  \\\n",
              "41323                       -0.076356                   0   \n",
              "57406                       -0.076356                   0   \n",
              "3412                        -0.076356                   0   \n",
              "53923                       -0.076356                   0   \n",
              "53000                       -0.076356                   0   \n",
              "...                               ...                 ...   \n",
              "30377                       -0.076356                   1   \n",
              "47578                       -0.076356                   0   \n",
              "41074                       -0.076356                   0   \n",
              "11033                       -0.076356                   0   \n",
              "38775                       -0.076356                   1   \n",
              "\n",
              "       reserved_room_type_H  agent_l  meal_HB  distribution_channel_GDS  \\\n",
              "41323                     0        0        0                         0   \n",
              "57406                     0        0        1                         0   \n",
              "3412                      0        0        1                         0   \n",
              "53923                     0        0        0                         0   \n",
              "53000                     0        0        0                         0   \n",
              "...                     ...      ...      ...                       ...   \n",
              "30377                     0        0        1                         0   \n",
              "47578                     0        0        0                         0   \n",
              "41074                     0        0        0                         0   \n",
              "11033                     0        0        0                         0   \n",
              "38775                     0        0        0                         0   \n",
              "\n",
              "       stays_in_weekend_nights  market_segment_Corporate  ...  \\\n",
              "41323                 1.090671                         0  ...   \n",
              "57406                -0.946446                         0  ...   \n",
              "3412                 -0.946446                         0  ...   \n",
              "53923                 1.090671                         0  ...   \n",
              "53000                -0.946446                         0  ...   \n",
              "...                        ...                       ...  ...   \n",
              "30377                 1.090671                         0  ...   \n",
              "47578                -0.946446                         0  ...   \n",
              "41074                -0.946446                         0  ...   \n",
              "11033                -0.946446                         0  ...   \n",
              "38775                 1.090671                         0  ...   \n",
              "\n",
              "       assigned_room_type_F    babies  agent_X  total_of_special_requests  \\\n",
              "41323                     0 -0.081494        0                  -0.675374   \n",
              "57406                     0 -0.081494        0                  -0.675374   \n",
              "3412                      0 -0.081494        0                   0.620434   \n",
              "53923                     0 -0.081494        0                  -0.675374   \n",
              "53000                     0 -0.081494        0                   1.916242   \n",
              "...                     ...       ...      ...                        ...   \n",
              "30377                     0 -0.081494        0                  -0.675374   \n",
              "47578                     0 -0.081494        0                  -0.675374   \n",
              "41074                     0 -0.081494        1                   0.620434   \n",
              "11033                     0 -0.081494        0                  -0.675374   \n",
              "38775                     0 -0.081494        0                   1.916242   \n",
              "\n",
              "       country_GBR  distribution_channel_TA/TO  lead_time  \\\n",
              "41323            0                           1  -1.015419   \n",
              "57406            0                           1   0.015611   \n",
              "3412             0                           1  -0.120051   \n",
              "53923            0                           1  -0.382330   \n",
              "53000            0                           1  -0.246668   \n",
              "...            ...                         ...        ...   \n",
              "30377            0                           1   0.277891   \n",
              "47578            0                           1   0.630612   \n",
              "41074            0                           0  -0.563213   \n",
              "11033            0                           1  -0.961154   \n",
              "38775            0                           1  -0.771228   \n",
              "\n",
              "       required_car_parking_spaces  agent_u  market_segment_Online TA  \n",
              "41323                    -0.227853        0                         0  \n",
              "57406                    -0.227853        0                         0  \n",
              "3412                     -0.227853        0                         0  \n",
              "53923                    -0.227853        0                         1  \n",
              "53000                    -0.227853        0                         1  \n",
              "...                            ...      ...                       ...  \n",
              "30377                    -0.227853        0                         0  \n",
              "47578                    -0.227853        0                         0  \n",
              "41074                    -0.227853        0                         0  \n",
              "11033                    -0.227853        0                         0  \n",
              "38775                     4.349659        0                         1  \n",
              "\n",
              "[42289 rows x 73 columns]"
            ],
            "text/html": [
              "\n",
              "  <div id=\"df-e71ef462-024b-473b-9585-0436623f3af9\" class=\"colab-df-container\">\n",
              "    <div>\n",
              "<style scoped>\n",
              "    .dataframe tbody tr th:only-of-type {\n",
              "        vertical-align: middle;\n",
              "    }\n",
              "\n",
              "    .dataframe tbody tr th {\n",
              "        vertical-align: top;\n",
              "    }\n",
              "\n",
              "    .dataframe thead th {\n",
              "        text-align: right;\n",
              "    }\n",
              "</style>\n",
              "<table border=\"1\" class=\"dataframe\">\n",
              "  <thead>\n",
              "    <tr style=\"text-align: right;\">\n",
              "      <th></th>\n",
              "      <th>high_season_month</th>\n",
              "      <th>assigned_room_type_G</th>\n",
              "      <th>previous_bookings_not_canceled</th>\n",
              "      <th>hotel_Resort Hotel</th>\n",
              "      <th>reserved_room_type_H</th>\n",
              "      <th>agent_l</th>\n",
              "      <th>meal_HB</th>\n",
              "      <th>distribution_channel_GDS</th>\n",
              "      <th>stays_in_weekend_nights</th>\n",
              "      <th>market_segment_Corporate</th>\n",
              "      <th>...</th>\n",
              "      <th>assigned_room_type_F</th>\n",
              "      <th>babies</th>\n",
              "      <th>agent_X</th>\n",
              "      <th>total_of_special_requests</th>\n",
              "      <th>country_GBR</th>\n",
              "      <th>distribution_channel_TA/TO</th>\n",
              "      <th>lead_time</th>\n",
              "      <th>required_car_parking_spaces</th>\n",
              "      <th>agent_u</th>\n",
              "      <th>market_segment_Online TA</th>\n",
              "    </tr>\n",
              "  </thead>\n",
              "  <tbody>\n",
              "    <tr>\n",
              "      <th>41323</th>\n",
              "      <td>0</td>\n",
              "      <td>0</td>\n",
              "      <td>-0.076356</td>\n",
              "      <td>0</td>\n",
              "      <td>0</td>\n",
              "      <td>0</td>\n",
              "      <td>0</td>\n",
              "      <td>0</td>\n",
              "      <td>1.090671</td>\n",
              "      <td>0</td>\n",
              "      <td>...</td>\n",
              "      <td>0</td>\n",
              "      <td>-0.081494</td>\n",
              "      <td>0</td>\n",
              "      <td>-0.675374</td>\n",
              "      <td>0</td>\n",
              "      <td>1</td>\n",
              "      <td>-1.015419</td>\n",
              "      <td>-0.227853</td>\n",
              "      <td>0</td>\n",
              "      <td>0</td>\n",
              "    </tr>\n",
              "    <tr>\n",
              "      <th>57406</th>\n",
              "      <td>0</td>\n",
              "      <td>0</td>\n",
              "      <td>-0.076356</td>\n",
              "      <td>0</td>\n",
              "      <td>0</td>\n",
              "      <td>0</td>\n",
              "      <td>1</td>\n",
              "      <td>0</td>\n",
              "      <td>-0.946446</td>\n",
              "      <td>0</td>\n",
              "      <td>...</td>\n",
              "      <td>0</td>\n",
              "      <td>-0.081494</td>\n",
              "      <td>0</td>\n",
              "      <td>-0.675374</td>\n",
              "      <td>0</td>\n",
              "      <td>1</td>\n",
              "      <td>0.015611</td>\n",
              "      <td>-0.227853</td>\n",
              "      <td>0</td>\n",
              "      <td>0</td>\n",
              "    </tr>\n",
              "    <tr>\n",
              "      <th>3412</th>\n",
              "      <td>0</td>\n",
              "      <td>0</td>\n",
              "      <td>-0.076356</td>\n",
              "      <td>0</td>\n",
              "      <td>0</td>\n",
              "      <td>0</td>\n",
              "      <td>1</td>\n",
              "      <td>0</td>\n",
              "      <td>-0.946446</td>\n",
              "      <td>0</td>\n",
              "      <td>...</td>\n",
              "      <td>0</td>\n",
              "      <td>-0.081494</td>\n",
              "      <td>0</td>\n",
              "      <td>0.620434</td>\n",
              "      <td>0</td>\n",
              "      <td>1</td>\n",
              "      <td>-0.120051</td>\n",
              "      <td>-0.227853</td>\n",
              "      <td>0</td>\n",
              "      <td>0</td>\n",
              "    </tr>\n",
              "    <tr>\n",
              "      <th>53923</th>\n",
              "      <td>1</td>\n",
              "      <td>0</td>\n",
              "      <td>-0.076356</td>\n",
              "      <td>0</td>\n",
              "      <td>0</td>\n",
              "      <td>0</td>\n",
              "      <td>0</td>\n",
              "      <td>0</td>\n",
              "      <td>1.090671</td>\n",
              "      <td>0</td>\n",
              "      <td>...</td>\n",
              "      <td>0</td>\n",
              "      <td>-0.081494</td>\n",
              "      <td>0</td>\n",
              "      <td>-0.675374</td>\n",
              "      <td>0</td>\n",
              "      <td>1</td>\n",
              "      <td>-0.382330</td>\n",
              "      <td>-0.227853</td>\n",
              "      <td>0</td>\n",
              "      <td>1</td>\n",
              "    </tr>\n",
              "    <tr>\n",
              "      <th>53000</th>\n",
              "      <td>1</td>\n",
              "      <td>0</td>\n",
              "      <td>-0.076356</td>\n",
              "      <td>0</td>\n",
              "      <td>0</td>\n",
              "      <td>0</td>\n",
              "      <td>0</td>\n",
              "      <td>0</td>\n",
              "      <td>-0.946446</td>\n",
              "      <td>0</td>\n",
              "      <td>...</td>\n",
              "      <td>0</td>\n",
              "      <td>-0.081494</td>\n",
              "      <td>0</td>\n",
              "      <td>1.916242</td>\n",
              "      <td>0</td>\n",
              "      <td>1</td>\n",
              "      <td>-0.246668</td>\n",
              "      <td>-0.227853</td>\n",
              "      <td>0</td>\n",
              "      <td>1</td>\n",
              "    </tr>\n",
              "    <tr>\n",
              "      <th>...</th>\n",
              "      <td>...</td>\n",
              "      <td>...</td>\n",
              "      <td>...</td>\n",
              "      <td>...</td>\n",
              "      <td>...</td>\n",
              "      <td>...</td>\n",
              "      <td>...</td>\n",
              "      <td>...</td>\n",
              "      <td>...</td>\n",
              "      <td>...</td>\n",
              "      <td>...</td>\n",
              "      <td>...</td>\n",
              "      <td>...</td>\n",
              "      <td>...</td>\n",
              "      <td>...</td>\n",
              "      <td>...</td>\n",
              "      <td>...</td>\n",
              "      <td>...</td>\n",
              "      <td>...</td>\n",
              "      <td>...</td>\n",
              "      <td>...</td>\n",
              "    </tr>\n",
              "    <tr>\n",
              "      <th>30377</th>\n",
              "      <td>1</td>\n",
              "      <td>0</td>\n",
              "      <td>-0.076356</td>\n",
              "      <td>1</td>\n",
              "      <td>0</td>\n",
              "      <td>0</td>\n",
              "      <td>1</td>\n",
              "      <td>0</td>\n",
              "      <td>1.090671</td>\n",
              "      <td>0</td>\n",
              "      <td>...</td>\n",
              "      <td>0</td>\n",
              "      <td>-0.081494</td>\n",
              "      <td>0</td>\n",
              "      <td>-0.675374</td>\n",
              "      <td>0</td>\n",
              "      <td>1</td>\n",
              "      <td>0.277891</td>\n",
              "      <td>-0.227853</td>\n",
              "      <td>0</td>\n",
              "      <td>0</td>\n",
              "    </tr>\n",
              "    <tr>\n",
              "      <th>47578</th>\n",
              "      <td>1</td>\n",
              "      <td>0</td>\n",
              "      <td>-0.076356</td>\n",
              "      <td>0</td>\n",
              "      <td>0</td>\n",
              "      <td>0</td>\n",
              "      <td>0</td>\n",
              "      <td>0</td>\n",
              "      <td>-0.946446</td>\n",
              "      <td>0</td>\n",
              "      <td>...</td>\n",
              "      <td>0</td>\n",
              "      <td>-0.081494</td>\n",
              "      <td>0</td>\n",
              "      <td>-0.675374</td>\n",
              "      <td>0</td>\n",
              "      <td>1</td>\n",
              "      <td>0.630612</td>\n",
              "      <td>-0.227853</td>\n",
              "      <td>0</td>\n",
              "      <td>0</td>\n",
              "    </tr>\n",
              "    <tr>\n",
              "      <th>41074</th>\n",
              "      <td>0</td>\n",
              "      <td>0</td>\n",
              "      <td>-0.076356</td>\n",
              "      <td>0</td>\n",
              "      <td>0</td>\n",
              "      <td>0</td>\n",
              "      <td>0</td>\n",
              "      <td>0</td>\n",
              "      <td>-0.946446</td>\n",
              "      <td>0</td>\n",
              "      <td>...</td>\n",
              "      <td>0</td>\n",
              "      <td>-0.081494</td>\n",
              "      <td>1</td>\n",
              "      <td>0.620434</td>\n",
              "      <td>0</td>\n",
              "      <td>0</td>\n",
              "      <td>-0.563213</td>\n",
              "      <td>-0.227853</td>\n",
              "      <td>0</td>\n",
              "      <td>0</td>\n",
              "    </tr>\n",
              "    <tr>\n",
              "      <th>11033</th>\n",
              "      <td>1</td>\n",
              "      <td>0</td>\n",
              "      <td>-0.076356</td>\n",
              "      <td>0</td>\n",
              "      <td>0</td>\n",
              "      <td>0</td>\n",
              "      <td>0</td>\n",
              "      <td>0</td>\n",
              "      <td>-0.946446</td>\n",
              "      <td>0</td>\n",
              "      <td>...</td>\n",
              "      <td>0</td>\n",
              "      <td>-0.081494</td>\n",
              "      <td>0</td>\n",
              "      <td>-0.675374</td>\n",
              "      <td>0</td>\n",
              "      <td>1</td>\n",
              "      <td>-0.961154</td>\n",
              "      <td>-0.227853</td>\n",
              "      <td>0</td>\n",
              "      <td>0</td>\n",
              "    </tr>\n",
              "    <tr>\n",
              "      <th>38775</th>\n",
              "      <td>1</td>\n",
              "      <td>0</td>\n",
              "      <td>-0.076356</td>\n",
              "      <td>1</td>\n",
              "      <td>0</td>\n",
              "      <td>0</td>\n",
              "      <td>0</td>\n",
              "      <td>0</td>\n",
              "      <td>1.090671</td>\n",
              "      <td>0</td>\n",
              "      <td>...</td>\n",
              "      <td>0</td>\n",
              "      <td>-0.081494</td>\n",
              "      <td>0</td>\n",
              "      <td>1.916242</td>\n",
              "      <td>0</td>\n",
              "      <td>1</td>\n",
              "      <td>-0.771228</td>\n",
              "      <td>4.349659</td>\n",
              "      <td>0</td>\n",
              "      <td>1</td>\n",
              "    </tr>\n",
              "  </tbody>\n",
              "</table>\n",
              "<p>42289 rows × 73 columns</p>\n",
              "</div>\n",
              "    <div class=\"colab-df-buttons\">\n",
              "\n",
              "  <div class=\"colab-df-container\">\n",
              "    <button class=\"colab-df-convert\" onclick=\"convertToInteractive('df-e71ef462-024b-473b-9585-0436623f3af9')\"\n",
              "            title=\"Convert this dataframe to an interactive table.\"\n",
              "            style=\"display:none;\">\n",
              "\n",
              "  <svg xmlns=\"http://www.w3.org/2000/svg\" height=\"24px\" viewBox=\"0 -960 960 960\">\n",
              "    <path d=\"M120-120v-720h720v720H120Zm60-500h600v-160H180v160Zm220 220h160v-160H400v160Zm0 220h160v-160H400v160ZM180-400h160v-160H180v160Zm440 0h160v-160H620v160ZM180-180h160v-160H180v160Zm440 0h160v-160H620v160Z\"/>\n",
              "  </svg>\n",
              "    </button>\n",
              "\n",
              "  <style>\n",
              "    .colab-df-container {\n",
              "      display:flex;\n",
              "      gap: 12px;\n",
              "    }\n",
              "\n",
              "    .colab-df-convert {\n",
              "      background-color: #E8F0FE;\n",
              "      border: none;\n",
              "      border-radius: 50%;\n",
              "      cursor: pointer;\n",
              "      display: none;\n",
              "      fill: #1967D2;\n",
              "      height: 32px;\n",
              "      padding: 0 0 0 0;\n",
              "      width: 32px;\n",
              "    }\n",
              "\n",
              "    .colab-df-convert:hover {\n",
              "      background-color: #E2EBFA;\n",
              "      box-shadow: 0px 1px 2px rgba(60, 64, 67, 0.3), 0px 1px 3px 1px rgba(60, 64, 67, 0.15);\n",
              "      fill: #174EA6;\n",
              "    }\n",
              "\n",
              "    .colab-df-buttons div {\n",
              "      margin-bottom: 4px;\n",
              "    }\n",
              "\n",
              "    [theme=dark] .colab-df-convert {\n",
              "      background-color: #3B4455;\n",
              "      fill: #D2E3FC;\n",
              "    }\n",
              "\n",
              "    [theme=dark] .colab-df-convert:hover {\n",
              "      background-color: #434B5C;\n",
              "      box-shadow: 0px 1px 3px 1px rgba(0, 0, 0, 0.15);\n",
              "      filter: drop-shadow(0px 1px 2px rgba(0, 0, 0, 0.3));\n",
              "      fill: #FFFFFF;\n",
              "    }\n",
              "  </style>\n",
              "\n",
              "    <script>\n",
              "      const buttonEl =\n",
              "        document.querySelector('#df-e71ef462-024b-473b-9585-0436623f3af9 button.colab-df-convert');\n",
              "      buttonEl.style.display =\n",
              "        google.colab.kernel.accessAllowed ? 'block' : 'none';\n",
              "\n",
              "      async function convertToInteractive(key) {\n",
              "        const element = document.querySelector('#df-e71ef462-024b-473b-9585-0436623f3af9');\n",
              "        const dataTable =\n",
              "          await google.colab.kernel.invokeFunction('convertToInteractive',\n",
              "                                                    [key], {});\n",
              "        if (!dataTable) return;\n",
              "\n",
              "        const docLinkHtml = 'Like what you see? Visit the ' +\n",
              "          '<a target=\"_blank\" href=https://colab.research.google.com/notebooks/data_table.ipynb>data table notebook</a>'\n",
              "          + ' to learn more about interactive tables.';\n",
              "        element.innerHTML = '';\n",
              "        dataTable['output_type'] = 'display_data';\n",
              "        await google.colab.output.renderOutput(dataTable, element);\n",
              "        const docLink = document.createElement('div');\n",
              "        docLink.innerHTML = docLinkHtml;\n",
              "        element.appendChild(docLink);\n",
              "      }\n",
              "    </script>\n",
              "  </div>\n",
              "\n",
              "\n",
              "<div id=\"df-4015dcbe-f2e8-4cef-8507-a2330aabb4f9\">\n",
              "  <button class=\"colab-df-quickchart\" onclick=\"quickchart('df-4015dcbe-f2e8-4cef-8507-a2330aabb4f9')\"\n",
              "            title=\"Suggest charts.\"\n",
              "            style=\"display:none;\">\n",
              "\n",
              "<svg xmlns=\"http://www.w3.org/2000/svg\" height=\"24px\"viewBox=\"0 0 24 24\"\n",
              "     width=\"24px\">\n",
              "    <g>\n",
              "        <path d=\"M19 3H5c-1.1 0-2 .9-2 2v14c0 1.1.9 2 2 2h14c1.1 0 2-.9 2-2V5c0-1.1-.9-2-2-2zM9 17H7v-7h2v7zm4 0h-2V7h2v10zm4 0h-2v-4h2v4z\"/>\n",
              "    </g>\n",
              "</svg>\n",
              "  </button>\n",
              "\n",
              "<style>\n",
              "  .colab-df-quickchart {\n",
              "      --bg-color: #E8F0FE;\n",
              "      --fill-color: #1967D2;\n",
              "      --hover-bg-color: #E2EBFA;\n",
              "      --hover-fill-color: #174EA6;\n",
              "      --disabled-fill-color: #AAA;\n",
              "      --disabled-bg-color: #DDD;\n",
              "  }\n",
              "\n",
              "  [theme=dark] .colab-df-quickchart {\n",
              "      --bg-color: #3B4455;\n",
              "      --fill-color: #D2E3FC;\n",
              "      --hover-bg-color: #434B5C;\n",
              "      --hover-fill-color: #FFFFFF;\n",
              "      --disabled-bg-color: #3B4455;\n",
              "      --disabled-fill-color: #666;\n",
              "  }\n",
              "\n",
              "  .colab-df-quickchart {\n",
              "    background-color: var(--bg-color);\n",
              "    border: none;\n",
              "    border-radius: 50%;\n",
              "    cursor: pointer;\n",
              "    display: none;\n",
              "    fill: var(--fill-color);\n",
              "    height: 32px;\n",
              "    padding: 0;\n",
              "    width: 32px;\n",
              "  }\n",
              "\n",
              "  .colab-df-quickchart:hover {\n",
              "    background-color: var(--hover-bg-color);\n",
              "    box-shadow: 0 1px 2px rgba(60, 64, 67, 0.3), 0 1px 3px 1px rgba(60, 64, 67, 0.15);\n",
              "    fill: var(--button-hover-fill-color);\n",
              "  }\n",
              "\n",
              "  .colab-df-quickchart-complete:disabled,\n",
              "  .colab-df-quickchart-complete:disabled:hover {\n",
              "    background-color: var(--disabled-bg-color);\n",
              "    fill: var(--disabled-fill-color);\n",
              "    box-shadow: none;\n",
              "  }\n",
              "\n",
              "  .colab-df-spinner {\n",
              "    border: 2px solid var(--fill-color);\n",
              "    border-color: transparent;\n",
              "    border-bottom-color: var(--fill-color);\n",
              "    animation:\n",
              "      spin 1s steps(1) infinite;\n",
              "  }\n",
              "\n",
              "  @keyframes spin {\n",
              "    0% {\n",
              "      border-color: transparent;\n",
              "      border-bottom-color: var(--fill-color);\n",
              "      border-left-color: var(--fill-color);\n",
              "    }\n",
              "    20% {\n",
              "      border-color: transparent;\n",
              "      border-left-color: var(--fill-color);\n",
              "      border-top-color: var(--fill-color);\n",
              "    }\n",
              "    30% {\n",
              "      border-color: transparent;\n",
              "      border-left-color: var(--fill-color);\n",
              "      border-top-color: var(--fill-color);\n",
              "      border-right-color: var(--fill-color);\n",
              "    }\n",
              "    40% {\n",
              "      border-color: transparent;\n",
              "      border-right-color: var(--fill-color);\n",
              "      border-top-color: var(--fill-color);\n",
              "    }\n",
              "    60% {\n",
              "      border-color: transparent;\n",
              "      border-right-color: var(--fill-color);\n",
              "    }\n",
              "    80% {\n",
              "      border-color: transparent;\n",
              "      border-right-color: var(--fill-color);\n",
              "      border-bottom-color: var(--fill-color);\n",
              "    }\n",
              "    90% {\n",
              "      border-color: transparent;\n",
              "      border-bottom-color: var(--fill-color);\n",
              "    }\n",
              "  }\n",
              "</style>\n",
              "\n",
              "  <script>\n",
              "    async function quickchart(key) {\n",
              "      const quickchartButtonEl =\n",
              "        document.querySelector('#' + key + ' button');\n",
              "      quickchartButtonEl.disabled = true;  // To prevent multiple clicks.\n",
              "      quickchartButtonEl.classList.add('colab-df-spinner');\n",
              "      try {\n",
              "        const charts = await google.colab.kernel.invokeFunction(\n",
              "            'suggestCharts', [key], {});\n",
              "      } catch (error) {\n",
              "        console.error('Error during call to suggestCharts:', error);\n",
              "      }\n",
              "      quickchartButtonEl.classList.remove('colab-df-spinner');\n",
              "      quickchartButtonEl.classList.add('colab-df-quickchart-complete');\n",
              "    }\n",
              "    (() => {\n",
              "      let quickchartButtonEl =\n",
              "        document.querySelector('#df-4015dcbe-f2e8-4cef-8507-a2330aabb4f9 button');\n",
              "      quickchartButtonEl.style.display =\n",
              "        google.colab.kernel.accessAllowed ? 'block' : 'none';\n",
              "    })();\n",
              "  </script>\n",
              "</div>\n",
              "    </div>\n",
              "  </div>\n"
            ]
          },
          "metadata": {},
          "execution_count": 22
        }
      ],
      "source": [
        "XTrainStdOHE"
      ]
    },
    {
      "cell_type": "code",
      "execution_count": 23,
      "metadata": {
        "colab": {
          "base_uri": "https://localhost:8080/",
          "height": 461
        },
        "id": "I0mdhl6-pSQC",
        "outputId": "fc4d4128-0884-4dd2-cd72-153e17796a5e"
      },
      "outputs": [
        {
          "output_type": "execute_result",
          "data": {
            "text/plain": [
              "       high_season_month  assigned_room_type_G  \\\n",
              "30445                  0                     0   \n",
              "1792                   0                     0   \n",
              "52152                  1                     0   \n",
              "1833                   1                     0   \n",
              "22205                  1                     0   \n",
              "...                  ...                   ...   \n",
              "17234                  0                     0   \n",
              "6978                   1                     0   \n",
              "18620                  1                     0   \n",
              "46969                  1                     0   \n",
              "24447                  1                     0   \n",
              "\n",
              "       previous_bookings_not_canceled  hotel_Resort Hotel  \\\n",
              "30445                       -0.073959                   0   \n",
              "1792                        -0.073959                   0   \n",
              "52152                       -0.073959                   0   \n",
              "1833                        -0.073959                   0   \n",
              "22205                       -0.073959                   1   \n",
              "...                               ...                 ...   \n",
              "17234                       -0.073959                   0   \n",
              "6978                        -0.073959                   0   \n",
              "18620                       -0.073959                   0   \n",
              "46969                       -0.073959                   1   \n",
              "24447                       -0.073959                   0   \n",
              "\n",
              "       reserved_room_type_H  agent_l  meal_HB  distribution_channel_GDS  \\\n",
              "30445                     0        0        0                         0   \n",
              "1792                      0        0        0                         0   \n",
              "52152                     0        0        0                         0   \n",
              "1833                      0        0        0                         0   \n",
              "22205                     0        0        0                         0   \n",
              "...                     ...      ...      ...                       ...   \n",
              "17234                     0        0        0                         0   \n",
              "6978                      0        0        0                         0   \n",
              "18620                     0        0        0                         0   \n",
              "46969                     0        0        0                         0   \n",
              "24447                     0        0        0                         0   \n",
              "\n",
              "       stays_in_weekend_nights  market_segment_Corporate  ...  \\\n",
              "30445                -0.946972                         0  ...   \n",
              "1792                 -0.946972                         0  ...   \n",
              "52152                 0.065228                         0  ...   \n",
              "1833                 -0.946972                         0  ...   \n",
              "22205                -0.946972                         0  ...   \n",
              "...                        ...                       ...  ...   \n",
              "17234                -0.946972                         0  ...   \n",
              "6978                  1.077427                         0  ...   \n",
              "18620                -0.946972                         0  ...   \n",
              "46969                -0.946972                         0  ...   \n",
              "24447                 1.077427                         0  ...   \n",
              "\n",
              "       assigned_room_type_F    babies  agent_X  total_of_special_requests  \\\n",
              "30445                     0 -0.083668        0                  -0.672846   \n",
              "1792                      0 -0.083668        0                  -0.672846   \n",
              "52152                     0 -0.083668        0                  -0.672846   \n",
              "1833                      1 -0.083668        0                  -0.672846   \n",
              "22205                     0 -0.083668        0                  -0.672846   \n",
              "...                     ...       ...      ...                        ...   \n",
              "17234                     0 -0.083668        0                  -0.672846   \n",
              "6978                      0 -0.083668        0                  -0.672846   \n",
              "18620                     0 -0.083668        0                  -0.672846   \n",
              "46969                     0 -0.083668        0                   0.620128   \n",
              "24447                     0 -0.083668        1                  -0.672846   \n",
              "\n",
              "       country_GBR  distribution_channel_TA/TO  lead_time  \\\n",
              "30445            0                           1   0.185983   \n",
              "1792             0                           1  -0.729435   \n",
              "52152            0                           1   0.131602   \n",
              "1833             0                           1   1.056084   \n",
              "22205            0                           1  -0.058732   \n",
              "...            ...                         ...        ...   \n",
              "17234            0                           1  -0.412211   \n",
              "6978             0                           1   0.222238   \n",
              "18620            0                           1   0.104412   \n",
              "46969            1                           1  -0.910706   \n",
              "24447            0                           0  -0.901642   \n",
              "\n",
              "       required_car_parking_spaces  agent_u  market_segment_Online TA  \n",
              "30445                    -0.214881        0                         0  \n",
              "1792                     -0.214881        0                         1  \n",
              "52152                    -0.214881        0                         1  \n",
              "1833                     -0.214881        0                         1  \n",
              "22205                    -0.214881        0                         1  \n",
              "...                            ...      ...                       ...  \n",
              "17234                    -0.214881        0                         0  \n",
              "6978                     -0.214881        0                         1  \n",
              "18620                    -0.214881        0                         0  \n",
              "46969                    -0.214881        0                         1  \n",
              "24447                    -0.214881        0                         0  \n",
              "\n",
              "[18125 rows x 73 columns]"
            ],
            "text/html": [
              "\n",
              "  <div id=\"df-637efbae-0a4d-4b6a-9558-2d692d0465bd\" class=\"colab-df-container\">\n",
              "    <div>\n",
              "<style scoped>\n",
              "    .dataframe tbody tr th:only-of-type {\n",
              "        vertical-align: middle;\n",
              "    }\n",
              "\n",
              "    .dataframe tbody tr th {\n",
              "        vertical-align: top;\n",
              "    }\n",
              "\n",
              "    .dataframe thead th {\n",
              "        text-align: right;\n",
              "    }\n",
              "</style>\n",
              "<table border=\"1\" class=\"dataframe\">\n",
              "  <thead>\n",
              "    <tr style=\"text-align: right;\">\n",
              "      <th></th>\n",
              "      <th>high_season_month</th>\n",
              "      <th>assigned_room_type_G</th>\n",
              "      <th>previous_bookings_not_canceled</th>\n",
              "      <th>hotel_Resort Hotel</th>\n",
              "      <th>reserved_room_type_H</th>\n",
              "      <th>agent_l</th>\n",
              "      <th>meal_HB</th>\n",
              "      <th>distribution_channel_GDS</th>\n",
              "      <th>stays_in_weekend_nights</th>\n",
              "      <th>market_segment_Corporate</th>\n",
              "      <th>...</th>\n",
              "      <th>assigned_room_type_F</th>\n",
              "      <th>babies</th>\n",
              "      <th>agent_X</th>\n",
              "      <th>total_of_special_requests</th>\n",
              "      <th>country_GBR</th>\n",
              "      <th>distribution_channel_TA/TO</th>\n",
              "      <th>lead_time</th>\n",
              "      <th>required_car_parking_spaces</th>\n",
              "      <th>agent_u</th>\n",
              "      <th>market_segment_Online TA</th>\n",
              "    </tr>\n",
              "  </thead>\n",
              "  <tbody>\n",
              "    <tr>\n",
              "      <th>30445</th>\n",
              "      <td>0</td>\n",
              "      <td>0</td>\n",
              "      <td>-0.073959</td>\n",
              "      <td>0</td>\n",
              "      <td>0</td>\n",
              "      <td>0</td>\n",
              "      <td>0</td>\n",
              "      <td>0</td>\n",
              "      <td>-0.946972</td>\n",
              "      <td>0</td>\n",
              "      <td>...</td>\n",
              "      <td>0</td>\n",
              "      <td>-0.083668</td>\n",
              "      <td>0</td>\n",
              "      <td>-0.672846</td>\n",
              "      <td>0</td>\n",
              "      <td>1</td>\n",
              "      <td>0.185983</td>\n",
              "      <td>-0.214881</td>\n",
              "      <td>0</td>\n",
              "      <td>0</td>\n",
              "    </tr>\n",
              "    <tr>\n",
              "      <th>1792</th>\n",
              "      <td>0</td>\n",
              "      <td>0</td>\n",
              "      <td>-0.073959</td>\n",
              "      <td>0</td>\n",
              "      <td>0</td>\n",
              "      <td>0</td>\n",
              "      <td>0</td>\n",
              "      <td>0</td>\n",
              "      <td>-0.946972</td>\n",
              "      <td>0</td>\n",
              "      <td>...</td>\n",
              "      <td>0</td>\n",
              "      <td>-0.083668</td>\n",
              "      <td>0</td>\n",
              "      <td>-0.672846</td>\n",
              "      <td>0</td>\n",
              "      <td>1</td>\n",
              "      <td>-0.729435</td>\n",
              "      <td>-0.214881</td>\n",
              "      <td>0</td>\n",
              "      <td>1</td>\n",
              "    </tr>\n",
              "    <tr>\n",
              "      <th>52152</th>\n",
              "      <td>1</td>\n",
              "      <td>0</td>\n",
              "      <td>-0.073959</td>\n",
              "      <td>0</td>\n",
              "      <td>0</td>\n",
              "      <td>0</td>\n",
              "      <td>0</td>\n",
              "      <td>0</td>\n",
              "      <td>0.065228</td>\n",
              "      <td>0</td>\n",
              "      <td>...</td>\n",
              "      <td>0</td>\n",
              "      <td>-0.083668</td>\n",
              "      <td>0</td>\n",
              "      <td>-0.672846</td>\n",
              "      <td>0</td>\n",
              "      <td>1</td>\n",
              "      <td>0.131602</td>\n",
              "      <td>-0.214881</td>\n",
              "      <td>0</td>\n",
              "      <td>1</td>\n",
              "    </tr>\n",
              "    <tr>\n",
              "      <th>1833</th>\n",
              "      <td>1</td>\n",
              "      <td>0</td>\n",
              "      <td>-0.073959</td>\n",
              "      <td>0</td>\n",
              "      <td>0</td>\n",
              "      <td>0</td>\n",
              "      <td>0</td>\n",
              "      <td>0</td>\n",
              "      <td>-0.946972</td>\n",
              "      <td>0</td>\n",
              "      <td>...</td>\n",
              "      <td>1</td>\n",
              "      <td>-0.083668</td>\n",
              "      <td>0</td>\n",
              "      <td>-0.672846</td>\n",
              "      <td>0</td>\n",
              "      <td>1</td>\n",
              "      <td>1.056084</td>\n",
              "      <td>-0.214881</td>\n",
              "      <td>0</td>\n",
              "      <td>1</td>\n",
              "    </tr>\n",
              "    <tr>\n",
              "      <th>22205</th>\n",
              "      <td>1</td>\n",
              "      <td>0</td>\n",
              "      <td>-0.073959</td>\n",
              "      <td>1</td>\n",
              "      <td>0</td>\n",
              "      <td>0</td>\n",
              "      <td>0</td>\n",
              "      <td>0</td>\n",
              "      <td>-0.946972</td>\n",
              "      <td>0</td>\n",
              "      <td>...</td>\n",
              "      <td>0</td>\n",
              "      <td>-0.083668</td>\n",
              "      <td>0</td>\n",
              "      <td>-0.672846</td>\n",
              "      <td>0</td>\n",
              "      <td>1</td>\n",
              "      <td>-0.058732</td>\n",
              "      <td>-0.214881</td>\n",
              "      <td>0</td>\n",
              "      <td>1</td>\n",
              "    </tr>\n",
              "    <tr>\n",
              "      <th>...</th>\n",
              "      <td>...</td>\n",
              "      <td>...</td>\n",
              "      <td>...</td>\n",
              "      <td>...</td>\n",
              "      <td>...</td>\n",
              "      <td>...</td>\n",
              "      <td>...</td>\n",
              "      <td>...</td>\n",
              "      <td>...</td>\n",
              "      <td>...</td>\n",
              "      <td>...</td>\n",
              "      <td>...</td>\n",
              "      <td>...</td>\n",
              "      <td>...</td>\n",
              "      <td>...</td>\n",
              "      <td>...</td>\n",
              "      <td>...</td>\n",
              "      <td>...</td>\n",
              "      <td>...</td>\n",
              "      <td>...</td>\n",
              "      <td>...</td>\n",
              "    </tr>\n",
              "    <tr>\n",
              "      <th>17234</th>\n",
              "      <td>0</td>\n",
              "      <td>0</td>\n",
              "      <td>-0.073959</td>\n",
              "      <td>0</td>\n",
              "      <td>0</td>\n",
              "      <td>0</td>\n",
              "      <td>0</td>\n",
              "      <td>0</td>\n",
              "      <td>-0.946972</td>\n",
              "      <td>0</td>\n",
              "      <td>...</td>\n",
              "      <td>0</td>\n",
              "      <td>-0.083668</td>\n",
              "      <td>0</td>\n",
              "      <td>-0.672846</td>\n",
              "      <td>0</td>\n",
              "      <td>1</td>\n",
              "      <td>-0.412211</td>\n",
              "      <td>-0.214881</td>\n",
              "      <td>0</td>\n",
              "      <td>0</td>\n",
              "    </tr>\n",
              "    <tr>\n",
              "      <th>6978</th>\n",
              "      <td>1</td>\n",
              "      <td>0</td>\n",
              "      <td>-0.073959</td>\n",
              "      <td>0</td>\n",
              "      <td>0</td>\n",
              "      <td>0</td>\n",
              "      <td>0</td>\n",
              "      <td>0</td>\n",
              "      <td>1.077427</td>\n",
              "      <td>0</td>\n",
              "      <td>...</td>\n",
              "      <td>0</td>\n",
              "      <td>-0.083668</td>\n",
              "      <td>0</td>\n",
              "      <td>-0.672846</td>\n",
              "      <td>0</td>\n",
              "      <td>1</td>\n",
              "      <td>0.222238</td>\n",
              "      <td>-0.214881</td>\n",
              "      <td>0</td>\n",
              "      <td>1</td>\n",
              "    </tr>\n",
              "    <tr>\n",
              "      <th>18620</th>\n",
              "      <td>1</td>\n",
              "      <td>0</td>\n",
              "      <td>-0.073959</td>\n",
              "      <td>0</td>\n",
              "      <td>0</td>\n",
              "      <td>0</td>\n",
              "      <td>0</td>\n",
              "      <td>0</td>\n",
              "      <td>-0.946972</td>\n",
              "      <td>0</td>\n",
              "      <td>...</td>\n",
              "      <td>0</td>\n",
              "      <td>-0.083668</td>\n",
              "      <td>0</td>\n",
              "      <td>-0.672846</td>\n",
              "      <td>0</td>\n",
              "      <td>1</td>\n",
              "      <td>0.104412</td>\n",
              "      <td>-0.214881</td>\n",
              "      <td>0</td>\n",
              "      <td>0</td>\n",
              "    </tr>\n",
              "    <tr>\n",
              "      <th>46969</th>\n",
              "      <td>1</td>\n",
              "      <td>0</td>\n",
              "      <td>-0.073959</td>\n",
              "      <td>1</td>\n",
              "      <td>0</td>\n",
              "      <td>0</td>\n",
              "      <td>0</td>\n",
              "      <td>0</td>\n",
              "      <td>-0.946972</td>\n",
              "      <td>0</td>\n",
              "      <td>...</td>\n",
              "      <td>0</td>\n",
              "      <td>-0.083668</td>\n",
              "      <td>0</td>\n",
              "      <td>0.620128</td>\n",
              "      <td>1</td>\n",
              "      <td>1</td>\n",
              "      <td>-0.910706</td>\n",
              "      <td>-0.214881</td>\n",
              "      <td>0</td>\n",
              "      <td>1</td>\n",
              "    </tr>\n",
              "    <tr>\n",
              "      <th>24447</th>\n",
              "      <td>1</td>\n",
              "      <td>0</td>\n",
              "      <td>-0.073959</td>\n",
              "      <td>0</td>\n",
              "      <td>0</td>\n",
              "      <td>0</td>\n",
              "      <td>0</td>\n",
              "      <td>0</td>\n",
              "      <td>1.077427</td>\n",
              "      <td>0</td>\n",
              "      <td>...</td>\n",
              "      <td>0</td>\n",
              "      <td>-0.083668</td>\n",
              "      <td>1</td>\n",
              "      <td>-0.672846</td>\n",
              "      <td>0</td>\n",
              "      <td>0</td>\n",
              "      <td>-0.901642</td>\n",
              "      <td>-0.214881</td>\n",
              "      <td>0</td>\n",
              "      <td>0</td>\n",
              "    </tr>\n",
              "  </tbody>\n",
              "</table>\n",
              "<p>18125 rows × 73 columns</p>\n",
              "</div>\n",
              "    <div class=\"colab-df-buttons\">\n",
              "\n",
              "  <div class=\"colab-df-container\">\n",
              "    <button class=\"colab-df-convert\" onclick=\"convertToInteractive('df-637efbae-0a4d-4b6a-9558-2d692d0465bd')\"\n",
              "            title=\"Convert this dataframe to an interactive table.\"\n",
              "            style=\"display:none;\">\n",
              "\n",
              "  <svg xmlns=\"http://www.w3.org/2000/svg\" height=\"24px\" viewBox=\"0 -960 960 960\">\n",
              "    <path d=\"M120-120v-720h720v720H120Zm60-500h600v-160H180v160Zm220 220h160v-160H400v160Zm0 220h160v-160H400v160ZM180-400h160v-160H180v160Zm440 0h160v-160H620v160ZM180-180h160v-160H180v160Zm440 0h160v-160H620v160Z\"/>\n",
              "  </svg>\n",
              "    </button>\n",
              "\n",
              "  <style>\n",
              "    .colab-df-container {\n",
              "      display:flex;\n",
              "      gap: 12px;\n",
              "    }\n",
              "\n",
              "    .colab-df-convert {\n",
              "      background-color: #E8F0FE;\n",
              "      border: none;\n",
              "      border-radius: 50%;\n",
              "      cursor: pointer;\n",
              "      display: none;\n",
              "      fill: #1967D2;\n",
              "      height: 32px;\n",
              "      padding: 0 0 0 0;\n",
              "      width: 32px;\n",
              "    }\n",
              "\n",
              "    .colab-df-convert:hover {\n",
              "      background-color: #E2EBFA;\n",
              "      box-shadow: 0px 1px 2px rgba(60, 64, 67, 0.3), 0px 1px 3px 1px rgba(60, 64, 67, 0.15);\n",
              "      fill: #174EA6;\n",
              "    }\n",
              "\n",
              "    .colab-df-buttons div {\n",
              "      margin-bottom: 4px;\n",
              "    }\n",
              "\n",
              "    [theme=dark] .colab-df-convert {\n",
              "      background-color: #3B4455;\n",
              "      fill: #D2E3FC;\n",
              "    }\n",
              "\n",
              "    [theme=dark] .colab-df-convert:hover {\n",
              "      background-color: #434B5C;\n",
              "      box-shadow: 0px 1px 3px 1px rgba(0, 0, 0, 0.15);\n",
              "      filter: drop-shadow(0px 1px 2px rgba(0, 0, 0, 0.3));\n",
              "      fill: #FFFFFF;\n",
              "    }\n",
              "  </style>\n",
              "\n",
              "    <script>\n",
              "      const buttonEl =\n",
              "        document.querySelector('#df-637efbae-0a4d-4b6a-9558-2d692d0465bd button.colab-df-convert');\n",
              "      buttonEl.style.display =\n",
              "        google.colab.kernel.accessAllowed ? 'block' : 'none';\n",
              "\n",
              "      async function convertToInteractive(key) {\n",
              "        const element = document.querySelector('#df-637efbae-0a4d-4b6a-9558-2d692d0465bd');\n",
              "        const dataTable =\n",
              "          await google.colab.kernel.invokeFunction('convertToInteractive',\n",
              "                                                    [key], {});\n",
              "        if (!dataTable) return;\n",
              "\n",
              "        const docLinkHtml = 'Like what you see? Visit the ' +\n",
              "          '<a target=\"_blank\" href=https://colab.research.google.com/notebooks/data_table.ipynb>data table notebook</a>'\n",
              "          + ' to learn more about interactive tables.';\n",
              "        element.innerHTML = '';\n",
              "        dataTable['output_type'] = 'display_data';\n",
              "        await google.colab.output.renderOutput(dataTable, element);\n",
              "        const docLink = document.createElement('div');\n",
              "        docLink.innerHTML = docLinkHtml;\n",
              "        element.appendChild(docLink);\n",
              "      }\n",
              "    </script>\n",
              "  </div>\n",
              "\n",
              "\n",
              "<div id=\"df-600c25e5-f38e-4f33-b53b-19992f92143b\">\n",
              "  <button class=\"colab-df-quickchart\" onclick=\"quickchart('df-600c25e5-f38e-4f33-b53b-19992f92143b')\"\n",
              "            title=\"Suggest charts.\"\n",
              "            style=\"display:none;\">\n",
              "\n",
              "<svg xmlns=\"http://www.w3.org/2000/svg\" height=\"24px\"viewBox=\"0 0 24 24\"\n",
              "     width=\"24px\">\n",
              "    <g>\n",
              "        <path d=\"M19 3H5c-1.1 0-2 .9-2 2v14c0 1.1.9 2 2 2h14c1.1 0 2-.9 2-2V5c0-1.1-.9-2-2-2zM9 17H7v-7h2v7zm4 0h-2V7h2v10zm4 0h-2v-4h2v4z\"/>\n",
              "    </g>\n",
              "</svg>\n",
              "  </button>\n",
              "\n",
              "<style>\n",
              "  .colab-df-quickchart {\n",
              "      --bg-color: #E8F0FE;\n",
              "      --fill-color: #1967D2;\n",
              "      --hover-bg-color: #E2EBFA;\n",
              "      --hover-fill-color: #174EA6;\n",
              "      --disabled-fill-color: #AAA;\n",
              "      --disabled-bg-color: #DDD;\n",
              "  }\n",
              "\n",
              "  [theme=dark] .colab-df-quickchart {\n",
              "      --bg-color: #3B4455;\n",
              "      --fill-color: #D2E3FC;\n",
              "      --hover-bg-color: #434B5C;\n",
              "      --hover-fill-color: #FFFFFF;\n",
              "      --disabled-bg-color: #3B4455;\n",
              "      --disabled-fill-color: #666;\n",
              "  }\n",
              "\n",
              "  .colab-df-quickchart {\n",
              "    background-color: var(--bg-color);\n",
              "    border: none;\n",
              "    border-radius: 50%;\n",
              "    cursor: pointer;\n",
              "    display: none;\n",
              "    fill: var(--fill-color);\n",
              "    height: 32px;\n",
              "    padding: 0;\n",
              "    width: 32px;\n",
              "  }\n",
              "\n",
              "  .colab-df-quickchart:hover {\n",
              "    background-color: var(--hover-bg-color);\n",
              "    box-shadow: 0 1px 2px rgba(60, 64, 67, 0.3), 0 1px 3px 1px rgba(60, 64, 67, 0.15);\n",
              "    fill: var(--button-hover-fill-color);\n",
              "  }\n",
              "\n",
              "  .colab-df-quickchart-complete:disabled,\n",
              "  .colab-df-quickchart-complete:disabled:hover {\n",
              "    background-color: var(--disabled-bg-color);\n",
              "    fill: var(--disabled-fill-color);\n",
              "    box-shadow: none;\n",
              "  }\n",
              "\n",
              "  .colab-df-spinner {\n",
              "    border: 2px solid var(--fill-color);\n",
              "    border-color: transparent;\n",
              "    border-bottom-color: var(--fill-color);\n",
              "    animation:\n",
              "      spin 1s steps(1) infinite;\n",
              "  }\n",
              "\n",
              "  @keyframes spin {\n",
              "    0% {\n",
              "      border-color: transparent;\n",
              "      border-bottom-color: var(--fill-color);\n",
              "      border-left-color: var(--fill-color);\n",
              "    }\n",
              "    20% {\n",
              "      border-color: transparent;\n",
              "      border-left-color: var(--fill-color);\n",
              "      border-top-color: var(--fill-color);\n",
              "    }\n",
              "    30% {\n",
              "      border-color: transparent;\n",
              "      border-left-color: var(--fill-color);\n",
              "      border-top-color: var(--fill-color);\n",
              "      border-right-color: var(--fill-color);\n",
              "    }\n",
              "    40% {\n",
              "      border-color: transparent;\n",
              "      border-right-color: var(--fill-color);\n",
              "      border-top-color: var(--fill-color);\n",
              "    }\n",
              "    60% {\n",
              "      border-color: transparent;\n",
              "      border-right-color: var(--fill-color);\n",
              "    }\n",
              "    80% {\n",
              "      border-color: transparent;\n",
              "      border-right-color: var(--fill-color);\n",
              "      border-bottom-color: var(--fill-color);\n",
              "    }\n",
              "    90% {\n",
              "      border-color: transparent;\n",
              "      border-bottom-color: var(--fill-color);\n",
              "    }\n",
              "  }\n",
              "</style>\n",
              "\n",
              "  <script>\n",
              "    async function quickchart(key) {\n",
              "      const quickchartButtonEl =\n",
              "        document.querySelector('#' + key + ' button');\n",
              "      quickchartButtonEl.disabled = true;  // To prevent multiple clicks.\n",
              "      quickchartButtonEl.classList.add('colab-df-spinner');\n",
              "      try {\n",
              "        const charts = await google.colab.kernel.invokeFunction(\n",
              "            'suggestCharts', [key], {});\n",
              "      } catch (error) {\n",
              "        console.error('Error during call to suggestCharts:', error);\n",
              "      }\n",
              "      quickchartButtonEl.classList.remove('colab-df-spinner');\n",
              "      quickchartButtonEl.classList.add('colab-df-quickchart-complete');\n",
              "    }\n",
              "    (() => {\n",
              "      let quickchartButtonEl =\n",
              "        document.querySelector('#df-600c25e5-f38e-4f33-b53b-19992f92143b button');\n",
              "      quickchartButtonEl.style.display =\n",
              "        google.colab.kernel.accessAllowed ? 'block' : 'none';\n",
              "    })();\n",
              "  </script>\n",
              "</div>\n",
              "    </div>\n",
              "  </div>\n"
            ]
          },
          "metadata": {},
          "execution_count": 23
        }
      ],
      "source": [
        "XTestStdOHE"
      ]
    },
    {
      "cell_type": "markdown",
      "metadata": {
        "id": "GenVdZ21qtW0"
      },
      "source": [
        "# Modelo 1"
      ]
    },
    {
      "cell_type": "code",
      "execution_count": 24,
      "metadata": {
        "id": "pXidjlJXqyi3"
      },
      "outputs": [],
      "source": [
        "input_dim = len(XTrainStdOHE.columns)\n",
        "num_classes = len(np.unique(yTrain))"
      ]
    },
    {
      "cell_type": "code",
      "execution_count": 25,
      "metadata": {
        "colab": {
          "base_uri": "https://localhost:8080/"
        },
        "id": "XdPP_gN1gFzv",
        "outputId": "6f6b7dbc-a5cd-41dd-cd9c-8e0c882d1c00"
      },
      "outputs": [
        {
          "output_type": "execute_result",
          "data": {
            "text/plain": [
              "2"
            ]
          },
          "metadata": {},
          "execution_count": 25
        }
      ],
      "source": [
        "num_classes"
      ]
    },
    {
      "cell_type": "code",
      "execution_count": 26,
      "metadata": {
        "id": "8W38aAC3pzz1"
      },
      "outputs": [],
      "source": [
        "model = keras.Sequential()\n",
        "model.add(keras.layers.Dense(128, activation='relu', input_shape=(input_dim,)))\n",
        "model.add(keras.layers.Dense(64, activation='relu'))\n",
        "model.add(keras.layers.Dense(1, activation='sigmoid'))"
      ]
    },
    {
      "cell_type": "code",
      "execution_count": 27,
      "metadata": {
        "colab": {
          "base_uri": "https://localhost:8080/"
        },
        "id": "2yvRHbRcgaMP",
        "outputId": "d7fb2924-3a3a-4063-fa0e-d388c72a3721"
      },
      "outputs": [
        {
          "output_type": "stream",
          "name": "stdout",
          "text": [
            "Model: \"sequential\"\n",
            "_________________________________________________________________\n",
            " Layer (type)                Output Shape              Param #   \n",
            "=================================================================\n",
            " dense (Dense)               (None, 128)               9472      \n",
            "                                                                 \n",
            " dense_1 (Dense)             (None, 64)                8256      \n",
            "                                                                 \n",
            " dense_2 (Dense)             (None, 1)                 65        \n",
            "                                                                 \n",
            "=================================================================\n",
            "Total params: 17793 (69.50 KB)\n",
            "Trainable params: 17793 (69.50 KB)\n",
            "Non-trainable params: 0 (0.00 Byte)\n",
            "_________________________________________________________________\n"
          ]
        }
      ],
      "source": [
        "model.summary()"
      ]
    },
    {
      "cell_type": "markdown",
      "metadata": {
        "id": "hNFeXJ5brmLq"
      },
      "source": [
        "## Compile"
      ]
    },
    {
      "cell_type": "code",
      "execution_count": 28,
      "metadata": {
        "id": "f0ATcxUyp6XU"
      },
      "outputs": [],
      "source": [
        "model.compile(  optimizer=keras.optimizers.SGD(learning_rate=0.01),\n",
        "  loss='binary_crossentropy',\n",
        "  # metricas para ir calculando en cada iteracion o batch\n",
        "  metrics=['AUC'],)"
      ]
    },
    {
      "cell_type": "markdown",
      "metadata": {
        "id": "I9mtOzKhrgbF"
      },
      "source": [
        "## Fit"
      ]
    },
    {
      "cell_type": "code",
      "execution_count": 29,
      "metadata": {
        "colab": {
          "base_uri": "https://localhost:8080/"
        },
        "id": "NqBUnSWkrf5-",
        "outputId": "2ee1031a-22d4-4469-e5f0-aed003acb9b6"
      },
      "outputs": [
        {
          "output_type": "execute_result",
          "data": {
            "text/plain": [
              "<keras.src.callbacks.History at 0x786313ac0f70>"
            ]
          },
          "metadata": {},
          "execution_count": 29
        }
      ],
      "source": [
        "model.fit(XTrainStdOHE, yTrain, epochs=10, batch_size=32, verbose=0)"
      ]
    },
    {
      "cell_type": "code",
      "execution_count": 30,
      "metadata": {
        "colab": {
          "base_uri": "https://localhost:8080/"
        },
        "id": "uncAUEbyjaBN",
        "outputId": "71cf8c77-e494-446f-d53b-7dcfc7d81e1d"
      },
      "outputs": [
        {
          "output_type": "stream",
          "name": "stdout",
          "text": [
            "567/567 [==============================] - 3s 5ms/step - loss: 0.3398 - auc: 0.9266\n",
            "Loss: 0.3397548198699951\n",
            "F1: 0.9265657663345337\n"
          ]
        }
      ],
      "source": [
        "score = model.evaluate(XTestStdOHE, yTest)\n",
        "print('Loss:', score[0])\n",
        "print('F1:', score[1])"
      ]
    },
    {
      "cell_type": "code",
      "execution_count": 31,
      "metadata": {
        "colab": {
          "base_uri": "https://localhost:8080/",
          "height": 641
        },
        "id": "wUtiQcjdl03M",
        "outputId": "dce131f7-4479-4dea-84fe-0438c9584405"
      },
      "outputs": [
        {
          "output_type": "stream",
          "name": "stdout",
          "text": [
            "567/567 [==============================] - 2s 2ms/step\n",
            "              precision    recall  f1-score   support\n",
            "\n",
            "           0       0.86      0.80      0.83      8875\n",
            "           1       0.82      0.87      0.85      9250\n",
            "\n",
            "    accuracy                           0.84     18125\n",
            "   macro avg       0.84      0.84      0.84     18125\n",
            "weighted avg       0.84      0.84      0.84     18125\n",
            "\n"
          ]
        },
        {
          "output_type": "execute_result",
          "data": {
            "text/plain": [
              "Text(50.722222222222214, 0.5, 'True')"
            ]
          },
          "metadata": {},
          "execution_count": 31
        },
        {
          "output_type": "display_data",
          "data": {
            "text/plain": [
              "<Figure size 640x480 with 2 Axes>"
            ],
            "image/png": "[encoded data removed]"
          },
          "metadata": {}
        }
      ],
      "source": [
        "yPredict = model.predict(XTestStdOHE)\n",
        "yPredictBinary = (yPredict> 0.5).astype(int).flatten()\n",
        "print(classification_report(yTest,yPredictBinary))\n",
        "\n",
        "cm = confusion_matrix(yTest,yPredictBinary )\n",
        "sns.heatmap(cm, cmap='Blues',annot=True,fmt='g')\n",
        "plt.xlabel('Predicted')\n",
        "plt.ylabel('True')"
      ]
    },
    {
      "cell_type": "markdown",
      "metadata": {
        "id": "ztUW7EofR15A"
      },
      "source": [
        "# Modelo 2"
      ]
    },
    {
      "cell_type": "code",
      "execution_count": 68,
      "metadata": {
        "id": "i9EjeM2LoWc3"
      },
      "outputs": [],
      "source": [
        "input_dim = len(XTrainStdOHE.columns)\n",
        "num_classes = len(np.unique(yTrain))"
      ]
    },
    {
      "cell_type": "code",
      "execution_count": 69,
      "metadata": {
        "colab": {
          "base_uri": "https://localhost:8080/"
        },
        "outputId": "75b48f39-0c50-403e-c186-a5bf43a19fa9",
        "id": "GtFPHaDDoWc4"
      },
      "outputs": [
        {
          "output_type": "execute_result",
          "data": {
            "text/plain": [
              "2"
            ]
          },
          "metadata": {},
          "execution_count": 69
        }
      ],
      "source": [
        "num_classes"
      ]
    },
    {
      "cell_type": "code",
      "execution_count": 116,
      "metadata": {
        "id": "hFSP7zxYoWc4"
      },
      "outputs": [],
      "source": [
        "modelTrain2 = keras.Sequential()\n",
        "modelTrain2.add(keras.layers.Dense(150, activation='relu', input_shape=(input_dim,)))\n",
        "modelTrain2.add(keras.layers.Dense(100, activation='relu'))\n",
        "modelTrain2.add(keras.layers.Dense(50, activation='relu'))\n",
        "modelTrain2.add(keras.layers.Dense(1, activation='sigmoid'))"
      ]
    },
    {
      "cell_type": "code",
      "execution_count": 118,
      "metadata": {
        "colab": {
          "base_uri": "https://localhost:8080/"
        },
        "outputId": "15f5816c-d4e2-4958-a28e-76d754785c20",
        "id": "tG4CmSoLoWc4"
      },
      "outputs": [
        {
          "output_type": "stream",
          "name": "stdout",
          "text": [
            "Model: \"sequential_5\"\n",
            "_________________________________________________________________\n",
            " Layer (type)                Output Shape              Param #   \n",
            "=================================================================\n",
            " dense_16 (Dense)            (None, 150)               11100     \n",
            "                                                                 \n",
            " dense_17 (Dense)            (None, 100)               15100     \n",
            "                                                                 \n",
            " dense_18 (Dense)            (None, 50)                5050      \n",
            "                                                                 \n",
            " dense_19 (Dense)            (None, 1)                 51        \n",
            "                                                                 \n",
            "=================================================================\n",
            "Total params: 31301 (122.27 KB)\n",
            "Trainable params: 31301 (122.27 KB)\n",
            "Non-trainable params: 0 (0.00 Byte)\n",
            "_________________________________________________________________\n"
          ]
        }
      ],
      "source": [
        "modelTrain2.summary()"
      ]
    },
    {
      "cell_type": "markdown",
      "metadata": {
        "id": "jFcQf0q3oWc4"
      },
      "source": [
        "## Compile"
      ]
    },
    {
      "cell_type": "code",
      "execution_count": 139,
      "metadata": {
        "id": "lDdR49rOoWc5"
      },
      "outputs": [],
      "source": [
        "modelTrain2.compile(  optimizer=keras.optimizers.SGD(learning_rate=0.1),\n",
        "  loss='binary_crossentropy',\n",
        "  # metricas para ir calculando en cada iteracion o batch\n",
        "  metrics=['AUC'],)"
      ]
    },
    {
      "cell_type": "markdown",
      "metadata": {
        "id": "n00tFnIeoWc5"
      },
      "source": [
        "## Fit"
      ]
    },
    {
      "cell_type": "code",
      "execution_count": 140,
      "metadata": {
        "colab": {
          "base_uri": "https://localhost:8080/"
        },
        "outputId": "1c9a57c1-1dcc-409d-b5a5-7f7dc57b5561",
        "id": "90k73fzFoWc5"
      },
      "outputs": [
        {
          "output_type": "execute_result",
          "data": {
            "text/plain": [
              "<keras.src.callbacks.History at 0x786302b4eb30>"
            ]
          },
          "metadata": {},
          "execution_count": 140
        }
      ],
      "source": [
        "modelTrain2.fit(XTrainStdOHE, yTrain, epochs=15, batch_size=50, verbose=0)"
      ]
    },
    {
      "cell_type": "code",
      "execution_count": 141,
      "metadata": {
        "colab": {
          "base_uri": "https://localhost:8080/"
        },
        "outputId": "f0b0a232-76d2-4d12-9819-13721632ac81",
        "id": "7E7ZiaZLoWc5"
      },
      "outputs": [
        {
          "output_type": "stream",
          "name": "stdout",
          "text": [
            "567/567 [==============================] - 1s 2ms/step - loss: 0.3297 - auc: 0.9414\n",
            "Loss: 0.32966408133506775\n",
            "AUC: 0.9413610696792603\n"
          ]
        }
      ],
      "source": [
        "score = modelTrain2.evaluate(XTestStdOHE, yTest)\n",
        "print('Loss:', score[0])\n",
        "print('AUC:', score[1])"
      ]
    },
    {
      "cell_type": "code",
      "execution_count": 142,
      "metadata": {
        "colab": {
          "base_uri": "https://localhost:8080/",
          "height": 640
        },
        "outputId": "51f90dd4-1e5b-46a1-8739-136f5c630bfe",
        "id": "I4QEcssQoWc5"
      },
      "outputs": [
        {
          "output_type": "stream",
          "name": "stdout",
          "text": [
            "567/567 [==============================] - 1s 2ms/step\n",
            "              precision    recall  f1-score   support\n",
            "\n",
            "           0       0.87      0.84      0.86      8875\n",
            "           1       0.85      0.88      0.87      9250\n",
            "\n",
            "    accuracy                           0.86     18125\n",
            "   macro avg       0.86      0.86      0.86     18125\n",
            "weighted avg       0.86      0.86      0.86     18125\n",
            "\n"
          ]
        },
        {
          "output_type": "execute_result",
          "data": {
            "text/plain": [
              "Text(50.722222222222214, 0.5, 'True')"
            ]
          },
          "metadata": {},
          "execution_count": 142
        },
        {
          "output_type": "display_data",
          "data": {
            "text/plain": [
              "<Figure size 640x480 with 2 Axes>"
            ],
            "image/png": "[encoded data removed]"
          },
          "metadata": {}
        }
      ],
      "source": [
        "yPredict = modelTrain2.predict(XTestStdOHE)\n",
        "yPredictBinary = (yPredict> 0.5).astype(int).flatten()\n",
        "print(classification_report(yTest,yPredictBinary))\n",
        "\n",
        "cm = confusion_matrix(yTest,yPredictBinary )\n",
        "sns.heatmap(cm, cmap='Blues',annot=True,fmt='g')\n",
        "plt.xlabel('Predicted')\n",
        "plt.ylabel('True')"
      ]
    },
    {
      "cell_type": "markdown",
      "metadata": {
        "id": "TmSJQSCC3h8W"
      },
      "source": [
        "# Modelo 3"
      ]
    },
    {
      "cell_type": "code",
      "execution_count": 185,
      "metadata": {
        "id": "ewTKOiqV3h8e"
      },
      "outputs": [],
      "source": [
        "input_dim = len(XTrainStdOHE.columns)\n",
        "num_classes = len(np.unique(yTrain))"
      ]
    },
    {
      "cell_type": "code",
      "execution_count": 186,
      "metadata": {
        "colab": {
          "base_uri": "https://localhost:8080/"
        },
        "outputId": "49060749-e2ef-43d3-eb72-4214fcf83a76",
        "id": "609drAQ93h8e"
      },
      "outputs": [
        {
          "output_type": "execute_result",
          "data": {
            "text/plain": [
              "2"
            ]
          },
          "metadata": {},
          "execution_count": 186
        }
      ],
      "source": [
        "num_classes"
      ]
    },
    {
      "cell_type": "code",
      "execution_count": 187,
      "metadata": {
        "id": "J62gwN9V3h8e"
      },
      "outputs": [],
      "source": [
        "modelTrain3 = keras.Sequential()\n",
        "modelTrain3.add(keras.layers.Dense(200, activation='relu', input_shape=(input_dim,)))\n",
        "modelTrain3.add(keras.layers.Dense(150, activation='relu'))\n",
        "modelTrain3.add(keras.layers.Dense(100, activation='relu'))\n",
        "modelTrain3.add(keras.layers.Dense(50, activation='relu'))\n",
        "modelTrain3.add(keras.layers.Dense(1, activation='sigmoid'))"
      ]
    },
    {
      "cell_type": "code",
      "execution_count": 188,
      "metadata": {
        "colab": {
          "base_uri": "https://localhost:8080/"
        },
        "outputId": "ec3c6353-5d7a-462d-cc7b-9605d7ccde00",
        "id": "P2jJNWFn3h8e"
      },
      "outputs": [
        {
          "output_type": "stream",
          "name": "stdout",
          "text": [
            "Model: \"sequential_12\"\n",
            "_________________________________________________________________\n",
            " Layer (type)                Output Shape              Param #   \n",
            "=================================================================\n",
            " dense_53 (Dense)            (None, 200)               14800     \n",
            "                                                                 \n",
            " dense_54 (Dense)            (None, 150)               30150     \n",
            "                                                                 \n",
            " dense_55 (Dense)            (None, 100)               15100     \n",
            "                                                                 \n",
            " dense_56 (Dense)            (None, 50)                5050      \n",
            "                                                                 \n",
            " dense_57 (Dense)            (None, 1)                 51        \n",
            "                                                                 \n",
            "=================================================================\n",
            "Total params: 65151 (254.50 KB)\n",
            "Trainable params: 65151 (254.50 KB)\n",
            "Non-trainable params: 0 (0.00 Byte)\n",
            "_________________________________________________________________\n"
          ]
        }
      ],
      "source": [
        "modelTrain3.summary()"
      ]
    },
    {
      "cell_type": "markdown",
      "metadata": {
        "id": "5Ttdty1w3h8f"
      },
      "source": [
        "## Compile"
      ]
    },
    {
      "cell_type": "code",
      "execution_count": 189,
      "metadata": {
        "id": "9_9qUfzF3h8f"
      },
      "outputs": [],
      "source": [
        "modelTrain3.compile(  optimizer=keras.optimizers.SGD(learning_rate=0.1),\n",
        "  loss='binary_crossentropy',\n",
        "  # metricas para ir calculando en cada iteracion o batch\n",
        "  metrics=['AUC'],)"
      ]
    },
    {
      "cell_type": "markdown",
      "metadata": {
        "id": "nyFo82yf3h8f"
      },
      "source": [
        "## Fit"
      ]
    },
    {
      "cell_type": "code",
      "execution_count": 190,
      "metadata": {
        "colab": {
          "base_uri": "https://localhost:8080/"
        },
        "outputId": "ca10bbf4-9a9a-4fa7-85d9-337738326881",
        "id": "I16cvzA23h8f"
      },
      "outputs": [
        {
          "output_type": "execute_result",
          "data": {
            "text/plain": [
              "<keras.src.callbacks.History at 0x7862e1dd5ff0>"
            ]
          },
          "metadata": {},
          "execution_count": 190
        }
      ],
      "source": [
        "modelTrain3.fit(XTrainStdOHE, yTrain, epochs=15, batch_size=50, verbose=0)"
      ]
    },
    {
      "cell_type": "code",
      "execution_count": 191,
      "metadata": {
        "colab": {
          "base_uri": "https://localhost:8080/"
        },
        "outputId": "6fedb05c-0618-4bb9-8860-4ff474f462c4",
        "id": "vFzkFH6a3h8f"
      },
      "outputs": [
        {
          "output_type": "stream",
          "name": "stdout",
          "text": [
            "567/567 [==============================] - 2s 3ms/step - loss: 0.2984 - auc: 0.9437\n",
            "Loss: 0.2984263300895691\n",
            "AUC: 0.9437228441238403\n"
          ]
        }
      ],
      "source": [
        "score = modelTrain3.evaluate(XTestStdOHE, yTest)\n",
        "print('Loss:', score[0])\n",
        "print('AUC:', score[1])"
      ]
    },
    {
      "cell_type": "code",
      "execution_count": 192,
      "metadata": {
        "colab": {
          "base_uri": "https://localhost:8080/",
          "height": 640
        },
        "outputId": "e790daa9-7ead-413c-95a9-845e53e22994",
        "id": "iFFq_ERR3h8f"
      },
      "outputs": [
        {
          "output_type": "stream",
          "name": "stdout",
          "text": [
            "567/567 [==============================] - 1s 2ms/step\n",
            "              precision    recall  f1-score   support\n",
            "\n",
            "           0       0.85      0.86      0.86      8875\n",
            "           1       0.86      0.86      0.86      9250\n",
            "\n",
            "    accuracy                           0.86     18125\n",
            "   macro avg       0.86      0.86      0.86     18125\n",
            "weighted avg       0.86      0.86      0.86     18125\n",
            "\n"
          ]
        },
        {
          "output_type": "execute_result",
          "data": {
            "text/plain": [
              "Text(50.722222222222214, 0.5, 'True')"
            ]
          },
          "metadata": {},
          "execution_count": 192
        },
        {
          "output_type": "display_data",
          "data": {
            "text/plain": [
              "<Figure size 640x480 with 2 Axes>"
            ],
            "image/png": "[encoded data removed]"
          },
          "metadata": {}
        }
      ],
      "source": [
        "yPredict = modelTrain3.predict(XTestStdOHE)\n",
        "yPredictBinary = (yPredict> 0.5).astype(int).flatten()\n",
        "print(classification_report(yTest,yPredictBinary))\n",
        "\n",
        "cm = confusion_matrix(yTest,yPredictBinary )\n",
        "sns.heatmap(cm, cmap='Blues',annot=True,fmt='g')\n",
        "plt.xlabel('Predicted')\n",
        "plt.ylabel('True')"
      ]
    },
    {
      "cell_type": "markdown",
      "source": [
        "# Modelo 4"
      ],
      "metadata": {
        "id": "nlvJE0cs42Xp"
      }
    },
    {
      "cell_type": "code",
      "execution_count": 164,
      "metadata": {
        "id": "DjJXZDxq4rgO"
      },
      "outputs": [],
      "source": [
        "input_dim = len(XTrainStdOHE.columns)\n",
        "num_classes = len(np.unique(yTrain))"
      ]
    },
    {
      "cell_type": "code",
      "execution_count": 165,
      "metadata": {
        "colab": {
          "base_uri": "https://localhost:8080/"
        },
        "outputId": "8b3b2cbc-5e7a-4e80-df15-f8794d3cdb99",
        "id": "OWoZAXzI4rgP"
      },
      "outputs": [
        {
          "output_type": "execute_result",
          "data": {
            "text/plain": [
              "2"
            ]
          },
          "metadata": {},
          "execution_count": 165
        }
      ],
      "source": [
        "num_classes"
      ]
    },
    {
      "cell_type": "code",
      "execution_count": 166,
      "metadata": {
        "id": "yI6M-34C4rgQ"
      },
      "outputs": [],
      "source": [
        "modelTrain4 = keras.Sequential()\n",
        "modelTrain4.add(keras.layers.Dense(250, activation='relu', input_shape=(input_dim,)))\n",
        "modelTrain4.add(keras.layers.Dense(200, activation='relu'))\n",
        "modelTrain4.add(keras.layers.Dense(150, activation='relu'))\n",
        "modelTrain4.add(keras.layers.Dense(100, activation='relu'))\n",
        "modelTrain4.add(keras.layers.Dense(50, activation='relu'))\n",
        "modelTrain4.add(keras.layers.Dense(1, activation='sigmoid'))"
      ]
    },
    {
      "cell_type": "code",
      "execution_count": 167,
      "metadata": {
        "colab": {
          "base_uri": "https://localhost:8080/"
        },
        "outputId": "ca793366-f3cb-4f32-887e-0cf65547368a",
        "id": "HGrwEcmZ4rgQ"
      },
      "outputs": [
        {
          "output_type": "stream",
          "name": "stdout",
          "text": [
            "Model: \"sequential_10\"\n",
            "_________________________________________________________________\n",
            " Layer (type)                Output Shape              Param #   \n",
            "=================================================================\n",
            " dense_42 (Dense)            (None, 250)               18500     \n",
            "                                                                 \n",
            " dense_43 (Dense)            (None, 200)               50200     \n",
            "                                                                 \n",
            " dense_44 (Dense)            (None, 150)               30150     \n",
            "                                                                 \n",
            " dense_45 (Dense)            (None, 100)               15100     \n",
            "                                                                 \n",
            " dense_46 (Dense)            (None, 50)                5050      \n",
            "                                                                 \n",
            " dense_47 (Dense)            (None, 1)                 51        \n",
            "                                                                 \n",
            "=================================================================\n",
            "Total params: 119051 (465.04 KB)\n",
            "Trainable params: 119051 (465.04 KB)\n",
            "Non-trainable params: 0 (0.00 Byte)\n",
            "_________________________________________________________________\n"
          ]
        }
      ],
      "source": [
        "modelTrain4.summary()"
      ]
    },
    {
      "cell_type": "markdown",
      "metadata": {
        "id": "Wa0ro4AR4rgQ"
      },
      "source": [
        "## Compile"
      ]
    },
    {
      "cell_type": "code",
      "execution_count": 172,
      "metadata": {
        "id": "932bCvy14rgQ"
      },
      "outputs": [],
      "source": [
        "modelTrain4.compile(  optimizer=keras.optimizers.SGD(learning_rate=0.15),\n",
        "  loss='binary_crossentropy',\n",
        "  # metricas para ir calculando en cada iteracion o batch\n",
        "  metrics=['AUC'],)"
      ]
    },
    {
      "cell_type": "markdown",
      "metadata": {
        "id": "CKY-SSBz4rgQ"
      },
      "source": [
        "## Fit"
      ]
    },
    {
      "cell_type": "code",
      "execution_count": 173,
      "metadata": {
        "colab": {
          "base_uri": "https://localhost:8080/"
        },
        "outputId": "9f3a2aba-1810-4f37-b986-89be7111f144",
        "id": "v8IFn7ms4rgR"
      },
      "outputs": [
        {
          "output_type": "execute_result",
          "data": {
            "text/plain": [
              "<keras.src.callbacks.History at 0x7862eeac6b30>"
            ]
          },
          "metadata": {},
          "execution_count": 173
        }
      ],
      "source": [
        "modelTrain4.fit(XTrainStdOHE, yTrain, epochs=15, batch_size=60, verbose=0)"
      ]
    },
    {
      "cell_type": "code",
      "execution_count": 174,
      "metadata": {
        "colab": {
          "base_uri": "https://localhost:8080/"
        },
        "outputId": "fe23d93f-6738-481c-d953-8037e3580b21",
        "id": "ynhJUlGM4rgR"
      },
      "outputs": [
        {
          "output_type": "stream",
          "name": "stdout",
          "text": [
            "567/567 [==============================] - 2s 3ms/step - loss: 0.2955 - auc: 0.9448\n",
            "Loss: 0.2955147325992584\n",
            "AUC: 0.9447999596595764\n"
          ]
        }
      ],
      "source": [
        "score = modelTrain4.evaluate(XTestStdOHE, yTest)\n",
        "print('Loss:', score[0])\n",
        "print('AUC:', score[1])"
      ]
    },
    {
      "cell_type": "code",
      "execution_count": 175,
      "metadata": {
        "colab": {
          "base_uri": "https://localhost:8080/",
          "height": 640
        },
        "outputId": "4a321453-55be-494e-a29f-70a71e54424c",
        "id": "9XgMiJT54rgR"
      },
      "outputs": [
        {
          "output_type": "stream",
          "name": "stdout",
          "text": [
            "567/567 [==============================] - 2s 3ms/step\n",
            "              precision    recall  f1-score   support\n",
            "\n",
            "           0       0.87      0.84      0.86      8875\n",
            "           1       0.85      0.88      0.87      9250\n",
            "\n",
            "    accuracy                           0.86     18125\n",
            "   macro avg       0.86      0.86      0.86     18125\n",
            "weighted avg       0.86      0.86      0.86     18125\n",
            "\n"
          ]
        },
        {
          "output_type": "execute_result",
          "data": {
            "text/plain": [
              "Text(50.722222222222214, 0.5, 'True')"
            ]
          },
          "metadata": {},
          "execution_count": 175
        },
        {
          "output_type": "display_data",
          "data": {
            "text/plain": [
              "<Figure size 640x480 with 2 Axes>"
            ],
            "image/png": "[encoded data removed]"
          },
          "metadata": {}
        }
      ],
      "source": [
        "yPredict = modelTrain4.predict(XTestStdOHE)\n",
        "yPredictBinary = (yPredict> 0.5).astype(int).flatten()\n",
        "print(classification_report(yTest,yPredictBinary))\n",
        "\n",
        "cm = confusion_matrix(yTest,yPredictBinary )\n",
        "sns.heatmap(cm, cmap='Blues',annot=True,fmt='g')\n",
        "plt.xlabel('Predicted')\n",
        "plt.ylabel('True')"
      ]
    },
    {
      "cell_type": "markdown",
      "source": [
        "# Modelo 5"
      ],
      "metadata": {
        "id": "4RbEYYA98-xl"
      }
    },
    {
      "cell_type": "code",
      "execution_count": 210,
      "metadata": {
        "id": "anQXhYcm8-xl"
      },
      "outputs": [],
      "source": [
        "input_dim = len(XTrainStdOHE.columns)\n",
        "num_classes = len(np.unique(yTrain))"
      ]
    },
    {
      "cell_type": "code",
      "execution_count": 211,
      "metadata": {
        "colab": {
          "base_uri": "https://localhost:8080/"
        },
        "outputId": "5e654f4d-a5bc-40ac-e78a-d3ef6b2ddca2",
        "id": "xW3BgdpQ8-xm"
      },
      "outputs": [
        {
          "output_type": "execute_result",
          "data": {
            "text/plain": [
              "2"
            ]
          },
          "metadata": {},
          "execution_count": 211
        }
      ],
      "source": [
        "num_classes"
      ]
    },
    {
      "cell_type": "code",
      "execution_count": 212,
      "metadata": {
        "id": "eCVY3zP88-xm"
      },
      "outputs": [],
      "source": [
        "modelTrain5 = keras.Sequential()\n",
        "modelTrain5.add(keras.layers.Dense(300, activation='relu', input_shape=(input_dim,)))\n",
        "modelTrain5.add(keras.layers.Dense(250, activation='relu'))\n",
        "modelTrain5.add(keras.layers.Dense(200, activation='relu'))\n",
        "modelTrain5.add(keras.layers.Dense(150, activation='relu'))\n",
        "modelTrain5.add(keras.layers.Dense(100, activation='relu'))\n",
        "modelTrain5.add(keras.layers.Dense(50, activation='relu'))\n",
        "modelTrain5.add(keras.layers.Dense(1, activation='sigmoid'))"
      ]
    },
    {
      "cell_type": "code",
      "execution_count": 213,
      "metadata": {
        "colab": {
          "base_uri": "https://localhost:8080/"
        },
        "outputId": "2a9567c8-697c-41d7-cb6c-97786b6b9574",
        "id": "eXjlk0zC8-xm"
      },
      "outputs": [
        {
          "output_type": "stream",
          "name": "stdout",
          "text": [
            "Model: \"sequential_15\"\n",
            "_________________________________________________________________\n",
            " Layer (type)                Output Shape              Param #   \n",
            "=================================================================\n",
            " dense_72 (Dense)            (None, 300)               22200     \n",
            "                                                                 \n",
            " dense_73 (Dense)            (None, 250)               75250     \n",
            "                                                                 \n",
            " dense_74 (Dense)            (None, 200)               50200     \n",
            "                                                                 \n",
            " dense_75 (Dense)            (None, 150)               30150     \n",
            "                                                                 \n",
            " dense_76 (Dense)            (None, 100)               15100     \n",
            "                                                                 \n",
            " dense_77 (Dense)            (None, 50)                5050      \n",
            "                                                                 \n",
            " dense_78 (Dense)            (None, 1)                 51        \n",
            "                                                                 \n",
            "=================================================================\n",
            "Total params: 198001 (773.44 KB)\n",
            "Trainable params: 198001 (773.44 KB)\n",
            "Non-trainable params: 0 (0.00 Byte)\n",
            "_________________________________________________________________\n"
          ]
        }
      ],
      "source": [
        "modelTrain5.summary()"
      ]
    },
    {
      "cell_type": "markdown",
      "metadata": {
        "id": "zO47pQOg8-xn"
      },
      "source": [
        "## Compile"
      ]
    },
    {
      "cell_type": "code",
      "execution_count": 214,
      "metadata": {
        "id": "1BafZkdk8-xn"
      },
      "outputs": [],
      "source": [
        "modelTrain5.compile(  optimizer=keras.optimizers.SGD(learning_rate=0.15),\n",
        "  loss='binary_crossentropy',\n",
        "  # metricas para ir calculando en cada iteracion o batch\n",
        "  metrics=['AUC'],)"
      ]
    },
    {
      "cell_type": "markdown",
      "metadata": {
        "id": "J-aPPR5-8-xn"
      },
      "source": [
        "## Fit"
      ]
    },
    {
      "cell_type": "code",
      "execution_count": 215,
      "metadata": {
        "colab": {
          "base_uri": "https://localhost:8080/"
        },
        "outputId": "cd157718-488f-4517-c38f-4bb04bc0ccc7",
        "id": "cYTuxe448-xn"
      },
      "outputs": [
        {
          "output_type": "execute_result",
          "data": {
            "text/plain": [
              "<keras.src.callbacks.History at 0x7862dcb4da20>"
            ]
          },
          "metadata": {},
          "execution_count": 215
        }
      ],
      "source": [
        "modelTrain5.fit(XTrainStdOHE, yTrain, epochs=30, batch_size=60, verbose=0)"
      ]
    },
    {
      "cell_type": "code",
      "execution_count": 216,
      "metadata": {
        "colab": {
          "base_uri": "https://localhost:8080/"
        },
        "outputId": "7ec74590-df4a-406d-a210-e1bedc0d55ad",
        "id": "ArAzRMXC8-xn"
      },
      "outputs": [
        {
          "output_type": "stream",
          "name": "stdout",
          "text": [
            "567/567 [==============================] - 2s 3ms/step - loss: 0.3233 - auc: 0.9415\n",
            "Loss: 0.3233374059200287\n",
            "AUC: 0.9414839744567871\n"
          ]
        }
      ],
      "source": [
        "score = modelTrain5.evaluate(XTestStdOHE, yTest)\n",
        "print('Loss:', score[0])\n",
        "print('AUC:', score[1])"
      ]
    },
    {
      "cell_type": "code",
      "execution_count": 217,
      "metadata": {
        "colab": {
          "base_uri": "https://localhost:8080/",
          "height": 640
        },
        "outputId": "e3ea3496-935b-472c-8955-2e8567957266",
        "id": "trWnb0qx8-xo"
      },
      "outputs": [
        {
          "output_type": "stream",
          "name": "stdout",
          "text": [
            "567/567 [==============================] - 2s 4ms/step\n",
            "              precision    recall  f1-score   support\n",
            "\n",
            "           0       0.85      0.86      0.86      8875\n",
            "           1       0.87      0.86      0.86      9250\n",
            "\n",
            "    accuracy                           0.86     18125\n",
            "   macro avg       0.86      0.86      0.86     18125\n",
            "weighted avg       0.86      0.86      0.86     18125\n",
            "\n"
          ]
        },
        {
          "output_type": "execute_result",
          "data": {
            "text/plain": [
              "Text(50.722222222222214, 0.5, 'True')"
            ]
          },
          "metadata": {},
          "execution_count": 217
        },
        {
          "output_type": "display_data",
          "data": {
            "text/plain": [
              "<Figure size 640x480 with 2 Axes>"
            ],
            "image/png": "[encoded data removed]"
          },
          "metadata": {}
        }
      ],
      "source": [
        "yPredict = modelTrain4.predict(XTestStdOHE)\n",
        "yPredictBinary = (yPredict> 0.5).astype(int).flatten()\n",
        "print(classification_report(yTest,yPredictBinary))\n",
        "\n",
        "cm = confusion_matrix(yTest,yPredictBinary )\n",
        "sns.heatmap(cm, cmap='Blues',annot=True,fmt='g')\n",
        "plt.xlabel('Predicted')\n",
        "plt.ylabel('True')"
      ]
    },
    {
      "cell_type": "markdown",
      "metadata": {
        "id": "jM4aCMsO35B3"
      },
      "source": [
        "# Submission 1 a Kaggle"
      ]
    },
    {
      "cell_type": "code",
      "execution_count": 32,
      "metadata": {
        "id": "N3nAoLy339HH"
      },
      "outputs": [],
      "source": [
        "XTrainSub1 = XdsTrain.copy()\n",
        "yTrainSub1 = ydsTrain.copy()\n",
        "dsTestSub1 = dsTest.copy()"
      ]
    },
    {
      "cell_type": "markdown",
      "metadata": {
        "id": "DMGbCwYD4klx"
      },
      "source": [
        "## Feature Engeneering"
      ]
    },
    {
      "cell_type": "markdown",
      "metadata": {
        "id": "3dFoQehK6HMe"
      },
      "source": [
        "Eliminacion de columnas innecesarias"
      ]
    },
    {
      "cell_type": "code",
      "execution_count": 33,
      "metadata": {
        "id": "dctf2Cq46GWD"
      },
      "outputs": [],
      "source": [
        "dsTestSub1 = dsTestSub1.drop('arrival_date_week_number', axis=1)"
      ]
    },
    {
      "cell_type": "code",
      "execution_count": 34,
      "metadata": {
        "id": "sezkbC_Z4466"
      },
      "outputs": [],
      "source": [
        "XTrainSub1Std = XTrainSub1.copy()\n",
        "dsTestSub1Std = dsTestSub1.copy()"
      ]
    },
    {
      "cell_type": "code",
      "execution_count": 35,
      "metadata": {
        "colab": {
          "base_uri": "https://localhost:8080/"
        },
        "id": "QOuUEy4f6JZr",
        "outputId": "554d4600-c6dc-491f-b1ac-e665cbecd27c"
      },
      "outputs": [
        {
          "output_type": "stream",
          "name": "stdout",
          "text": [
            "<class 'pandas.core.frame.DataFrame'>\n",
            "RangeIndex: 26535 entries, 0 to 26534\n",
            "Data columns (total 28 columns):\n",
            " #   Column                          Non-Null Count  Dtype  \n",
            "---  ------                          --------------  -----  \n",
            " 0   hotel                           26535 non-null  object \n",
            " 1   lead_time                       26535 non-null  int64  \n",
            " 2   arrival_date_year               26535 non-null  int64  \n",
            " 3   arrival_date_month              26535 non-null  int64  \n",
            " 4   arrival_date_day_of_month       26535 non-null  int64  \n",
            " 5   stays_in_weekend_nights         26535 non-null  int64  \n",
            " 6   stays_in_week_nights            26535 non-null  int64  \n",
            " 7   adults                          26535 non-null  int64  \n",
            " 8   children                        26535 non-null  int64  \n",
            " 9   babies                          26535 non-null  int64  \n",
            " 10  meal                            26535 non-null  object \n",
            " 11  country                         26535 non-null  object \n",
            " 12  market_segment                  26535 non-null  object \n",
            " 13  distribution_channel            26535 non-null  object \n",
            " 14  is_repeated_guest               26535 non-null  int64  \n",
            " 15  previous_cancellations          26535 non-null  int64  \n",
            " 16  previous_bookings_not_canceled  26535 non-null  int64  \n",
            " 17  reserved_room_type              26535 non-null  object \n",
            " 18  assigned_room_type              26535 non-null  object \n",
            " 19  booking_changes                 26535 non-null  int64  \n",
            " 20  deposit_type                    26535 non-null  object \n",
            " 21  agent                           26535 non-null  object \n",
            " 22  days_in_waiting_list            26535 non-null  int64  \n",
            " 23  customer_type                   26535 non-null  object \n",
            " 24  adr                             26535 non-null  float64\n",
            " 25  required_car_parking_spaces     26535 non-null  int64  \n",
            " 26  total_of_special_requests       26535 non-null  int64  \n",
            " 27  high_season_month               26535 non-null  int64  \n",
            "dtypes: float64(1), int64(17), object(10)\n",
            "memory usage: 5.7+ MB\n"
          ]
        }
      ],
      "source": [
        "dsTestSub1Std.info()"
      ]
    },
    {
      "cell_type": "markdown",
      "metadata": {
        "id": "zHrUI8wK4oRg"
      },
      "source": [
        "### Standarizacion de variables"
      ]
    },
    {
      "cell_type": "code",
      "execution_count": 36,
      "metadata": {
        "id": "387t6ghM4xep"
      },
      "outputs": [],
      "source": [
        "XTrainSub1Std[variablesNumericas]= sscaler.fit_transform(pd.DataFrame(XTrainSub1[variablesNumericas]))\n",
        "dsTestSub1Std[variablesNumericas]= sscaler.fit_transform(pd.DataFrame(dsTestSub1[variablesNumericas]))"
      ]
    },
    {
      "cell_type": "markdown",
      "metadata": {
        "id": "obBujfeW4tPh"
      },
      "source": [
        "### One Hot Encoding"
      ]
    },
    {
      "cell_type": "code",
      "execution_count": 37,
      "metadata": {
        "id": "QazFwRiI7PpV"
      },
      "outputs": [],
      "source": [
        "XTrainSub1StdOHE = pd.get_dummies(XTrainSub1Std, columns=columnasCategoricas.columns.to_list(), drop_first=True)\n",
        "dsTestSub1StdOHE = pd.get_dummies(dsTestSub1Std, columns=columnasCategoricas.columns.to_list(), drop_first=True)\n",
        "columnasInterseccion = set(XTrainSub1StdOHE.columns).intersection(dsTestSub1StdOHE.columns)\n",
        "XTrainSub1StdOHE  = XTrainSub1StdOHE[list(columnasInterseccion)]\n",
        "dsTestSub1StdOHE = dsTestSub1StdOHE[list(columnasInterseccion)]"
      ]
    },
    {
      "cell_type": "markdown",
      "metadata": {
        "id": "u6CORxgs7_gH"
      },
      "source": [
        "## Creacion del modelo"
      ]
    },
    {
      "cell_type": "code",
      "execution_count": 38,
      "metadata": {
        "id": "gC9wmzGp8N7Y"
      },
      "outputs": [],
      "source": [
        "input_dim = len(XTrainSub1StdOHE.columns)\n",
        "num_classes = len(np.unique(yTrainSub1))"
      ]
    },
    {
      "cell_type": "code",
      "execution_count": 39,
      "metadata": {
        "colab": {
          "base_uri": "https://localhost:8080/"
        },
        "id": "C2Ecn8k68N7Z",
        "outputId": "7fac15a8-03f4-4197-d614-80a640442555"
      },
      "outputs": [
        {
          "output_type": "execute_result",
          "data": {
            "text/plain": [
              "2"
            ]
          },
          "metadata": {},
          "execution_count": 39
        }
      ],
      "source": [
        "num_classes"
      ]
    },
    {
      "cell_type": "code",
      "execution_count": 40,
      "metadata": {
        "id": "IDGitrYl8N7a"
      },
      "outputs": [],
      "source": [
        "model = keras.Sequential()\n",
        "model.add(keras.layers.Dense(128, activation='relu', input_shape=(input_dim,)))\n",
        "model.add(keras.layers.Dense(64, activation='relu'))\n",
        "model.add(keras.layers.Dense(1, activation='sigmoid'))"
      ]
    },
    {
      "cell_type": "code",
      "execution_count": 41,
      "metadata": {
        "colab": {
          "base_uri": "https://localhost:8080/"
        },
        "id": "6kj18b4U8N7a",
        "outputId": "c70df1fa-d34e-4141-b2e7-e718d2e8f7f7"
      },
      "outputs": [
        {
          "output_type": "stream",
          "name": "stdout",
          "text": [
            "Model: \"sequential_1\"\n",
            "_________________________________________________________________\n",
            " Layer (type)                Output Shape              Param #   \n",
            "=================================================================\n",
            " dense_3 (Dense)             (None, 128)               9344      \n",
            "                                                                 \n",
            " dense_4 (Dense)             (None, 64)                8256      \n",
            "                                                                 \n",
            " dense_5 (Dense)             (None, 1)                 65        \n",
            "                                                                 \n",
            "=================================================================\n",
            "Total params: 17665 (69.00 KB)\n",
            "Trainable params: 17665 (69.00 KB)\n",
            "Non-trainable params: 0 (0.00 Byte)\n",
            "_________________________________________________________________\n"
          ]
        }
      ],
      "source": [
        "model.summary()"
      ]
    },
    {
      "cell_type": "markdown",
      "metadata": {
        "id": "DszSxewV8fjg"
      },
      "source": [
        "## Compile"
      ]
    },
    {
      "cell_type": "code",
      "execution_count": 42,
      "metadata": {
        "id": "A-t8JXcb8dy7"
      },
      "outputs": [],
      "source": [
        "model.compile(  optimizer=keras.optimizers.SGD(learning_rate=0.01),\n",
        "  loss='binary_crossentropy',\n",
        "  # metricas para ir calculando en cada iteracion o batch\n",
        "  metrics=['AUC'],)"
      ]
    },
    {
      "cell_type": "markdown",
      "metadata": {
        "id": "mmM4YoBG8jXQ"
      },
      "source": [
        "## Fit"
      ]
    },
    {
      "cell_type": "code",
      "execution_count": 43,
      "metadata": {
        "colab": {
          "base_uri": "https://localhost:8080/"
        },
        "id": "Iznoq6wy8dzE",
        "outputId": "6dbdb280-b22a-468b-bf20-21b5ac897add"
      },
      "outputs": [
        {
          "output_type": "execute_result",
          "data": {
            "text/plain": [
              "<keras.src.callbacks.History at 0x78630be44df0>"
            ]
          },
          "metadata": {},
          "execution_count": 43
        }
      ],
      "source": [
        "model.fit(XTrainSub1StdOHE, yTrainSub1, epochs=10, batch_size=32, verbose=0)"
      ]
    },
    {
      "cell_type": "code",
      "execution_count": 44,
      "metadata": {
        "id": "tW5z37Jy8dzF",
        "colab": {
          "base_uri": "https://localhost:8080/"
        },
        "outputId": "a1759d03-eb6a-4c52-f9a7-2371946a5e49"
      },
      "outputs": [
        {
          "output_type": "stream",
          "name": "stdout",
          "text": [
            "830/830 [==============================] - 1s 2ms/step\n"
          ]
        }
      ],
      "source": [
        "yPredict = model.predict(dsTestSub1StdOHE)"
      ]
    },
    {
      "cell_type": "code",
      "execution_count": 45,
      "metadata": {
        "id": "trdij-sj-pCa",
        "colab": {
          "base_uri": "https://localhost:8080/"
        },
        "outputId": "bef27cd8-e736-42a7-b1f0-e2fc834d03df"
      },
      "outputs": [
        {
          "output_type": "execute_result",
          "data": {
            "text/plain": [
              "array([[0.99838424],\n",
              "       [0.82348835],\n",
              "       [0.04755797],\n",
              "       ...,\n",
              "       [0.82527333],\n",
              "       [0.8275216 ],\n",
              "       [0.00558978]], dtype=float32)"
            ]
          },
          "metadata": {},
          "execution_count": 45
        }
      ],
      "source": [
        "yPredict"
      ]
    },
    {
      "cell_type": "code",
      "execution_count": 46,
      "metadata": {
        "id": "OFITgn0s_fmM"
      },
      "outputs": [],
      "source": [
        "yPredict_binary =np.where(yPredict>0.4,1,0)"
      ]
    },
    {
      "cell_type": "code",
      "execution_count": 47,
      "metadata": {
        "id": "BCPpHd7B_iV7"
      },
      "outputs": [],
      "source": [
        "yPredict_binary = yPredict_binary.flatten()"
      ]
    },
    {
      "cell_type": "code",
      "execution_count": 48,
      "metadata": {
        "id": "efT3x3VMBdFu",
        "colab": {
          "base_uri": "https://localhost:8080/"
        },
        "outputId": "32e38ae8-e8d1-4134-a537-a17847a1b295"
      },
      "outputs": [
        {
          "output_type": "execute_result",
          "data": {
            "text/plain": [
              "array([1, 1, 0, ..., 1, 1, 0])"
            ]
          },
          "metadata": {},
          "execution_count": 48
        }
      ],
      "source": [
        "yPredict_binary"
      ]
    },
    {
      "cell_type": "code",
      "execution_count": 49,
      "metadata": {
        "id": "MWtIk-eY9Qi6"
      },
      "outputs": [],
      "source": [
        "dsCHP4Sub1 = pd.DataFrame(zip(dsHotelTest['id'], yPredict_binary), columns=['id', 'is_canceled'])\n",
        "dsCHP4Sub1.to_csv(\"dsCHP4Sub2.csv\",index=False)"
      ]
    },
    {
      "cell_type": "markdown",
      "metadata": {
        "id": "__Qqwh8dYkO6"
      },
      "source": [
        "# Submission 2 a Kaggle"
      ]
    },
    {
      "cell_type": "code",
      "execution_count": 50,
      "metadata": {
        "id": "GozoM6zrYkO6"
      },
      "outputs": [],
      "source": [
        "XTrainSub2StdOHE = XTrainSub1StdOHE.copy()\n",
        "yTrainSub2 = ydsTrain.copy()\n",
        "dsTestSub2StdOHE = dsTestSub1StdOHE.copy()"
      ]
    },
    {
      "cell_type": "markdown",
      "metadata": {
        "id": "hqWHwAUhYkO9"
      },
      "source": [
        "## Creacion del modelo"
      ]
    },
    {
      "cell_type": "code",
      "execution_count": 51,
      "metadata": {
        "id": "-YSORFafYkO9"
      },
      "outputs": [],
      "source": [
        "input_dim = len(XTrainSub2StdOHE.columns)\n",
        "num_classes = len(np.unique(yTrainSub2))"
      ]
    },
    {
      "cell_type": "code",
      "execution_count": 52,
      "metadata": {
        "id": "P3XtP_ppYkO9",
        "colab": {
          "base_uri": "https://localhost:8080/"
        },
        "outputId": "65117ff0-872a-4be6-fcfe-1322c049d62c"
      },
      "outputs": [
        {
          "output_type": "execute_result",
          "data": {
            "text/plain": [
              "2"
            ]
          },
          "metadata": {},
          "execution_count": 52
        }
      ],
      "source": [
        "num_classes"
      ]
    },
    {
      "cell_type": "code",
      "execution_count": 53,
      "metadata": {
        "id": "8g5OudaRYkO-"
      },
      "outputs": [],
      "source": [
        "model2 = keras.Sequential()\n",
        "model2.add(keras.layers.Dense(128, activation='relu', input_shape=(input_dim,)))\n",
        "model2.add(keras.layers.Dense(64, activation='relu'))\n",
        "model2.add(keras.layers.Dense(1, activation='sigmoid'))"
      ]
    },
    {
      "cell_type": "code",
      "execution_count": 54,
      "metadata": {
        "id": "5uAQU1k0YkO-",
        "colab": {
          "base_uri": "https://localhost:8080/"
        },
        "outputId": "d9e14258-fc68-4b89-e85a-e03c628356ad"
      },
      "outputs": [
        {
          "output_type": "stream",
          "name": "stdout",
          "text": [
            "Model: \"sequential_2\"\n",
            "_________________________________________________________________\n",
            " Layer (type)                Output Shape              Param #   \n",
            "=================================================================\n",
            " dense_6 (Dense)             (None, 128)               9344      \n",
            "                                                                 \n",
            " dense_7 (Dense)             (None, 64)                8256      \n",
            "                                                                 \n",
            " dense_8 (Dense)             (None, 1)                 65        \n",
            "                                                                 \n",
            "=================================================================\n",
            "Total params: 17665 (69.00 KB)\n",
            "Trainable params: 17665 (69.00 KB)\n",
            "Non-trainable params: 0 (0.00 Byte)\n",
            "_________________________________________________________________\n"
          ]
        }
      ],
      "source": [
        "model2.summary()"
      ]
    },
    {
      "cell_type": "markdown",
      "metadata": {
        "id": "2hfNLx-EYkO-"
      },
      "source": [
        "## Compile"
      ]
    },
    {
      "cell_type": "code",
      "execution_count": 55,
      "metadata": {
        "id": "Dpo7mscfYkO-"
      },
      "outputs": [],
      "source": [
        "model2.compile(  optimizer=keras.optimizers.SGD(learning_rate=0.01),\n",
        "  loss='binary_crossentropy',\n",
        "  # metricas para ir calculando en cada iteracion o batch\n",
        "  metrics=['AUC'],)"
      ]
    },
    {
      "cell_type": "markdown",
      "metadata": {
        "id": "rlCWM98UYkO_"
      },
      "source": [
        "## Fit"
      ]
    },
    {
      "cell_type": "code",
      "execution_count": 56,
      "metadata": {
        "id": "MiVi_jHgYkO_",
        "colab": {
          "base_uri": "https://localhost:8080/"
        },
        "outputId": "c5643c85-eff4-497d-e34d-fa58d87f0303"
      },
      "outputs": [
        {
          "output_type": "execute_result",
          "data": {
            "text/plain": [
              "<keras.src.callbacks.History at 0x78630bdcfac0>"
            ]
          },
          "metadata": {},
          "execution_count": 56
        }
      ],
      "source": [
        "model2.fit(XTrainSub2StdOHE, yTrainSub2, epochs=10, batch_size=32, verbose=0)"
      ]
    },
    {
      "cell_type": "code",
      "execution_count": 57,
      "metadata": {
        "id": "W-DsDHk6YkO_",
        "colab": {
          "base_uri": "https://localhost:8080/"
        },
        "outputId": "a57e1c98-e0aa-40c8-8e88-ac31d768e5f6"
      },
      "outputs": [
        {
          "output_type": "stream",
          "name": "stdout",
          "text": [
            "830/830 [==============================] - 1s 2ms/step\n"
          ]
        }
      ],
      "source": [
        "yPredict = model2.predict(dsTestSub1StdOHE)"
      ]
    },
    {
      "cell_type": "code",
      "execution_count": 59,
      "metadata": {
        "id": "VOh4xRo5YkO_"
      },
      "outputs": [],
      "source": [
        "yPredict_binary =np.where(yPredict>0.5,1,0)"
      ]
    },
    {
      "cell_type": "code",
      "execution_count": 60,
      "metadata": {
        "id": "8RFSUZWYYkPA"
      },
      "outputs": [],
      "source": [
        "yPredict_binary = yPredict_binary.flatten()"
      ]
    },
    {
      "cell_type": "code",
      "execution_count": 62,
      "metadata": {
        "id": "HLsN-Jf2YkPA"
      },
      "outputs": [],
      "source": [
        "dsCHP4Sub2 = pd.DataFrame(zip(dsHotelTest['id'], yPredict_binary), columns=['id', 'is_canceled'])\n",
        "dsCHP4Sub2.to_csv(\"dsCHP4Sub2.csv\",index=False)"
      ]
    },
    {
      "cell_type": "markdown",
      "metadata": {
        "id": "ClESq1H4GL1s"
      },
      "source": [
        "# Submission 3 a Kaggle"
      ]
    },
    {
      "cell_type": "code",
      "execution_count": 228,
      "metadata": {
        "id": "dUJVZvFZGL1z"
      },
      "outputs": [],
      "source": [
        "XTrainSub3StdOHE = XTrainSub1StdOHE.copy()\n",
        "yTrainSub3 = ydsTrain.copy()\n",
        "dsTestSub3StdOHE = dsTestSub1StdOHE.copy()"
      ]
    },
    {
      "cell_type": "markdown",
      "metadata": {
        "id": "j6ZqgIJuGL10"
      },
      "source": [
        "## Creacion del modelo"
      ]
    },
    {
      "cell_type": "code",
      "execution_count": 229,
      "metadata": {
        "id": "-1RHhwsYGL10"
      },
      "outputs": [],
      "source": [
        "input_dim = len(XTrainSub3StdOHE.columns)\n",
        "num_classes = len(np.unique(yTrainSub2))"
      ]
    },
    {
      "cell_type": "code",
      "execution_count": 230,
      "metadata": {
        "colab": {
          "base_uri": "https://localhost:8080/"
        },
        "outputId": "05a7b2ed-37c4-4e7c-f2a6-8aa08e5052c3",
        "id": "5QPnhA2aGL10"
      },
      "outputs": [
        {
          "output_type": "execute_result",
          "data": {
            "text/plain": [
              "2"
            ]
          },
          "metadata": {},
          "execution_count": 230
        }
      ],
      "source": [
        "num_classes"
      ]
    },
    {
      "cell_type": "markdown",
      "source": [
        "Genero la misma arquitectura que el modelo 4, ya que fue la que menor loss me generoy ademas mas f1 score dio"
      ],
      "metadata": {
        "id": "wid24UT5HqiG"
      }
    },
    {
      "cell_type": "code",
      "execution_count": 231,
      "metadata": {
        "id": "q0sMjNXAGL10"
      },
      "outputs": [],
      "source": [
        "model3 = keras.Sequential()\n",
        "model3.add(keras.layers.Dense(250, activation='relu', input_shape=(input_dim,)))\n",
        "model3.add(keras.layers.Dense(200, activation='relu'))\n",
        "model3.add(keras.layers.Dense(150, activation='relu'))\n",
        "model3.add(keras.layers.Dense(100, activation='relu'))\n",
        "model3.add(keras.layers.Dense(50, activation='relu'))\n",
        "model3.add(keras.layers.Dense(1, activation='sigmoid'))"
      ]
    },
    {
      "cell_type": "code",
      "execution_count": 232,
      "metadata": {
        "colab": {
          "base_uri": "https://localhost:8080/"
        },
        "outputId": "bd98a9ae-48fa-49ca-9b21-a87f426db289",
        "id": "upGLGi2SGL11"
      },
      "outputs": [
        {
          "output_type": "stream",
          "name": "stdout",
          "text": [
            "Model: \"sequential_19\"\n",
            "_________________________________________________________________\n",
            " Layer (type)                Output Shape              Param #   \n",
            "=================================================================\n",
            " dense_92 (Dense)            (None, 250)               18250     \n",
            "                                                                 \n",
            " dense_93 (Dense)            (None, 200)               50200     \n",
            "                                                                 \n",
            " dense_94 (Dense)            (None, 150)               30150     \n",
            "                                                                 \n",
            " dense_95 (Dense)            (None, 100)               15100     \n",
            "                                                                 \n",
            " dense_96 (Dense)            (None, 50)                5050      \n",
            "                                                                 \n",
            " dense_97 (Dense)            (None, 1)                 51        \n",
            "                                                                 \n",
            "=================================================================\n",
            "Total params: 118801 (464.07 KB)\n",
            "Trainable params: 118801 (464.07 KB)\n",
            "Non-trainable params: 0 (0.00 Byte)\n",
            "_________________________________________________________________\n"
          ]
        }
      ],
      "source": [
        "model3.summary()"
      ]
    },
    {
      "cell_type": "markdown",
      "metadata": {
        "id": "qmHFylKGGL11"
      },
      "source": [
        "## Compile"
      ]
    },
    {
      "cell_type": "code",
      "execution_count": 233,
      "metadata": {
        "id": "G_vfP-e9GL11"
      },
      "outputs": [],
      "source": [
        "model3.compile( optimizer=keras.optimizers.SGD(learning_rate=0.15),\n",
        "  loss='binary_crossentropy',\n",
        "  # metricas para ir calculando en cada iteracion o batch\n",
        "  metrics=['AUC'],)"
      ]
    },
    {
      "cell_type": "markdown",
      "metadata": {
        "id": "M7E3kUQcGL11"
      },
      "source": [
        "## Fit"
      ]
    },
    {
      "cell_type": "code",
      "execution_count": 234,
      "metadata": {
        "colab": {
          "base_uri": "https://localhost:8080/"
        },
        "outputId": "5060998c-493c-4c58-d08c-7138bd98ad80",
        "id": "_a1foecDGL11"
      },
      "outputs": [
        {
          "output_type": "execute_result",
          "data": {
            "text/plain": [
              "<keras.src.callbacks.History at 0x7862f5d51ae0>"
            ]
          },
          "metadata": {},
          "execution_count": 234
        }
      ],
      "source": [
        "model3.fit(XTrainSub3StdOHE , yTrainSub3, epochs=15, batch_size=60, verbose=0)"
      ]
    },
    {
      "cell_type": "code",
      "execution_count": 235,
      "metadata": {
        "colab": {
          "base_uri": "https://localhost:8080/"
        },
        "outputId": "094f9384-f8a0-4a41-882f-1f8064bd4347",
        "id": "SRZ-7cA3GL12"
      },
      "outputs": [
        {
          "output_type": "stream",
          "name": "stdout",
          "text": [
            "830/830 [==============================] - 2s 2ms/step\n"
          ]
        }
      ],
      "source": [
        "yPredict = model3.predict(dsTestSub3StdOHE)"
      ]
    },
    {
      "cell_type": "code",
      "execution_count": 236,
      "metadata": {
        "id": "LglMBy9uGL12"
      },
      "outputs": [],
      "source": [
        "yPredict_binary =np.where(yPredict>0.5,1,0)"
      ]
    },
    {
      "cell_type": "code",
      "execution_count": 237,
      "metadata": {
        "id": "3CKL3id4GL12"
      },
      "outputs": [],
      "source": [
        "yPredict_binary = yPredict_binary.flatten()"
      ]
    },
    {
      "cell_type": "code",
      "execution_count": 238,
      "metadata": {
        "id": "jYw0duR3GL13"
      },
      "outputs": [],
      "source": [
        "dsCHP4Sub3 = pd.DataFrame(zip(dsHotelTest['id'], yPredict_binary), columns=['id', 'is_canceled'])\n",
        "dsCHP4Sub3.to_csv(\"dsCHP4Sub3.csv\",index=False)"
      ]
    },
    {
      "cell_type": "markdown",
      "metadata": {
        "id": "pAttDtk62syz"
      },
      "source": [
        "Vamos a buscar la mejor combinacion de parametros usando Grid Cross Validation"
      ]
    }
  ],
  "metadata": {
    "colab": {
      "provenance": [],
      "toc_visible": true,
      "authorship_tag": "ABX9TyOUdzIhs8dwjilS01PCR4Ap",
      "include_colab_link": true
    },
    "kernelspec": {
      "display_name": "Python 3",
      "name": "python3"
    },
    "language_info": {
      "name": "python"
    }
  },
  "nbformat": 4,
  "nbformat_minor": 0
}