{
 "cells": [
  {
   "cell_type": "code",
   "execution_count": 180,
   "metadata": {},
   "outputs": [],
   "source": [
    "import numpy as np\n",
    "import pandas as pd\n",
    "import os\n",
    "import dtreeviz\n",
    "\n",
    "import seaborn as sns\n",
    "import matplotlib.pyplot as plt\n",
    "import scipy as sc\n",
    "\n",
    "from sklearn import tree\n",
    "from sklearn.model_selection import train_test_split, StratifiedKFold, KFold, RandomizedSearchCV\n",
    "from sklearn.metrics import precision_score, recall_score, accuracy_score,f1_score, make_scorer\n",
    "from sklearn.metrics import confusion_matrix, classification_report\n",
    "\n",
    "import warnings\n",
    "warnings.simplefilter(action='ignore', category=FutureWarning)\n",
    "warnings.simplefilter(action='ignore', category=UserWarning)\n",
    "\n",
    "dsHotelTest = pd.read_csv('hotels_test.csv')\n",
    "dsHotelTestCopy = dsHotelTest.copy()\n",
    "dsCHP1 = pd.read_csv('dsHotelCHP1 (1).csv')\n",
    "dsCHP1Copy = dsCHP1.copy()\n",
    "dsHotelTrain = pd.read_csv('hotels_train.csv')\n"
   ]
  },
  {
   "cell_type": "markdown",
   "metadata": {},
   "source": [
    "# Feature Engeneering (Transformaciones)"
   ]
  },
  {
   "cell_type": "markdown",
   "metadata": {},
   "source": [
    "Basicamente lo que voy a hacer es realizar las mismas transformaciones que hice en train en test. Ademas voy a agregar nuevas transformaciones tanto en train como en test"
   ]
  },
  {
   "cell_type": "code",
   "execution_count": 181,
   "metadata": {},
   "outputs": [
    {
     "name": "stdout",
     "output_type": "stream",
     "text": [
      "<class 'pandas.core.frame.DataFrame'>\n",
      "RangeIndex: 60414 entries, 0 to 60413\n",
      "Data columns (total 30 columns):\n",
      " #   Column                          Non-Null Count  Dtype  \n",
      "---  ------                          --------------  -----  \n",
      " 0   hotel                           60414 non-null  object \n",
      " 1   lead_time                       60414 non-null  int64  \n",
      " 2   arrival_date_year               60414 non-null  int64  \n",
      " 3   arrival_date_month              60414 non-null  int64  \n",
      " 4   arrival_date_day_of_month       60414 non-null  int64  \n",
      " 5   stays_in_weekend_nights         60414 non-null  int64  \n",
      " 6   stays_in_week_nights            60414 non-null  int64  \n",
      " 7   adults                          60414 non-null  int64  \n",
      " 8   children                        60414 non-null  int64  \n",
      " 9   babies                          60414 non-null  int64  \n",
      " 10  meal                            60414 non-null  object \n",
      " 11  country                         60414 non-null  object \n",
      " 12  market_segment                  60414 non-null  object \n",
      " 13  distribution_channel            60414 non-null  object \n",
      " 14  is_repeated_guest               60414 non-null  int64  \n",
      " 15  previous_cancellations          60414 non-null  int64  \n",
      " 16  previous_bookings_not_canceled  60414 non-null  int64  \n",
      " 17  reserved_room_type              60414 non-null  object \n",
      " 18  assigned_room_type              60414 non-null  object \n",
      " 19  booking_changes                 60414 non-null  int64  \n",
      " 20  deposit_type                    60414 non-null  object \n",
      " 21  agent                           60414 non-null  int64  \n",
      " 22  days_in_waiting_list            60414 non-null  int64  \n",
      " 23  customer_type                   60414 non-null  object \n",
      " 24  adr                             60414 non-null  float64\n",
      " 25  required_car_parking_spaces     60414 non-null  int64  \n",
      " 26  total_of_special_requests       60414 non-null  int64  \n",
      " 27  id                              60414 non-null  object \n",
      " 28  is_canceled                     60414 non-null  int64  \n",
      " 29  high_season_month               60414 non-null  int64  \n",
      "dtypes: float64(1), int64(19), object(10)\n",
      "memory usage: 13.8+ MB\n"
     ]
    }
   ],
   "source": [
    "dsCHP1Copy.info()"
   ]
  },
  {
   "cell_type": "code",
   "execution_count": 182,
   "metadata": {},
   "outputs": [
    {
     "name": "stdout",
     "output_type": "stream",
     "text": [
      "<class 'pandas.core.frame.DataFrame'>\n",
      "RangeIndex: 26535 entries, 0 to 26534\n",
      "Data columns (total 31 columns):\n",
      " #   Column                          Non-Null Count  Dtype  \n",
      "---  ------                          --------------  -----  \n",
      " 0   hotel                           26535 non-null  object \n",
      " 1   lead_time                       26535 non-null  int64  \n",
      " 2   arrival_date_year               26535 non-null  int64  \n",
      " 3   arrival_date_month              26535 non-null  object \n",
      " 4   arrival_date_week_number        26535 non-null  int64  \n",
      " 5   arrival_date_day_of_month       26535 non-null  int64  \n",
      " 6   stays_in_weekend_nights         26535 non-null  int64  \n",
      " 7   stays_in_week_nights            26535 non-null  int64  \n",
      " 8   adults                          26535 non-null  int64  \n",
      " 9   children                        26535 non-null  float64\n",
      " 10  babies                          26535 non-null  int64  \n",
      " 11  meal                            26535 non-null  object \n",
      " 12  country                         26440 non-null  object \n",
      " 13  market_segment                  26535 non-null  object \n",
      " 14  distribution_channel            26535 non-null  object \n",
      " 15  is_repeated_guest               26535 non-null  int64  \n",
      " 16  previous_cancellations          26535 non-null  int64  \n",
      " 17  previous_bookings_not_canceled  26535 non-null  int64  \n",
      " 18  reserved_room_type              26535 non-null  object \n",
      " 19  assigned_room_type              26535 non-null  object \n",
      " 20  booking_changes                 26535 non-null  int64  \n",
      " 21  deposit_type                    26535 non-null  object \n",
      " 22  agent                           23172 non-null  float64\n",
      " 23  company                         1317 non-null   float64\n",
      " 24  days_in_waiting_list            26535 non-null  int64  \n",
      " 25  customer_type                   26535 non-null  object \n",
      " 26  adr                             26535 non-null  float64\n",
      " 27  required_car_parking_spaces     26535 non-null  int64  \n",
      " 28  total_of_special_requests       26535 non-null  int64  \n",
      " 29  reservation_status_date         26535 non-null  object \n",
      " 30  id                              26535 non-null  object \n",
      "dtypes: float64(4), int64(15), object(12)\n",
      "memory usage: 6.3+ MB\n"
     ]
    }
   ],
   "source": [
    "dsHotelTestCopy.info()"
   ]
  },
  {
   "cell_type": "markdown",
   "metadata": {},
   "source": [
    "## Transformacion de atributos categoricos\n",
    "Aquellos atributos categoricos que tienen demasiados valores unicos como 'country', vamos a reemplazarlo con un nuevo campo que simplemente tenga los 10 valores mas frecuentes (incluyendo el valor de Otros).\n",
    "Aplicamos One Hot Encoding a dichas variables"
   ]
  },
  {
   "cell_type": "code",
   "execution_count": 332,
   "metadata": {},
   "outputs": [],
   "source": [
    "meses_a_numeros = {\n",
    "    'January': 1,\n",
    "    'February': 2,\n",
    "    'March': 3,\n",
    "    'April': 4,\n",
    "    'May': 5,\n",
    "    'June': 6,\n",
    "    'July': 7,\n",
    "    'August': 8,\n",
    "    'September': 9,\n",
    "    'October': 10,\n",
    "    'November': 11,\n",
    "    'December': 12\n",
    "}\n",
    "dsHotelTestCopy['arrival_date_month'] = dsHotelTestCopy['arrival_date_month'].map(meses_a_numeros)"
   ]
  },
  {
   "cell_type": "code",
   "execution_count": 184,
   "metadata": {},
   "outputs": [],
   "source": [
    "def verificar_enteros_disfrazados(datos):\n",
    "    enteros_disfrazados = True\n",
    "    for valor in datos:\n",
    "        valor_str = str(valor)\n",
    "        partes = valor_str.split('.')\n",
    "        if len(partes) > 1 and partes[1] != '0':\n",
    "            enteros_disfrazados = False\n",
    "            break\n",
    "    if enteros_disfrazados:\n",
    "        print(\"Los valores son enteros disfrazados como flotantes.\")\n",
    "    else:\n",
    "        print(\"Los valores son flotantes genuinos.\")"
   ]
  },
  {
   "cell_type": "code",
   "execution_count": 333,
   "metadata": {},
   "outputs": [
    {
     "name": "stdout",
     "output_type": "stream",
     "text": [
      "Los valores son enteros disfrazados como flotantes.\n",
      "Los valores son enteros disfrazados como flotantes.\n",
      "<class 'pandas.core.frame.DataFrame'>\n",
      "RangeIndex: 26535 entries, 0 to 26534\n",
      "Data columns (total 30 columns):\n",
      " #   Column                          Non-Null Count  Dtype  \n",
      "---  ------                          --------------  -----  \n",
      " 0   hotel                           26535 non-null  object \n",
      " 1   lead_time                       26535 non-null  int64  \n",
      " 2   arrival_date_year               26535 non-null  int64  \n",
      " 3   arrival_date_month              0 non-null      float64\n",
      " 4   arrival_date_week_number        26535 non-null  int64  \n",
      " 5   arrival_date_day_of_month       26535 non-null  int64  \n",
      " 6   stays_in_weekend_nights         26535 non-null  int64  \n",
      " 7   stays_in_week_nights            26535 non-null  int64  \n",
      " 8   adults                          26535 non-null  int64  \n",
      " 9   children                        26535 non-null  Int64  \n",
      " 10  babies                          26535 non-null  int64  \n",
      " 11  meal                            26535 non-null  object \n",
      " 12  country                         26535 non-null  object \n",
      " 13  market_segment                  26535 non-null  object \n",
      " 14  distribution_channel            26535 non-null  object \n",
      " 15  is_repeated_guest               26535 non-null  int64  \n",
      " 16  previous_cancellations          26535 non-null  int64  \n",
      " 17  previous_bookings_not_canceled  26535 non-null  int64  \n",
      " 18  reserved_room_type              26535 non-null  object \n",
      " 19  assigned_room_type              26535 non-null  object \n",
      " 20  booking_changes                 26535 non-null  int64  \n",
      " 21  deposit_type                    26535 non-null  object \n",
      " 22  agent                           26193 non-null  object \n",
      " 23  company                         1317 non-null   Int64  \n",
      " 24  days_in_waiting_list            26535 non-null  int64  \n",
      " 25  customer_type                   26535 non-null  object \n",
      " 26  adr                             26535 non-null  float64\n",
      " 27  required_car_parking_spaces     26535 non-null  int64  \n",
      " 28  total_of_special_requests       26535 non-null  int64  \n",
      " 29  high_season_month               26535 non-null  int64  \n",
      "dtypes: Int64(2), float64(2), int64(16), object(10)\n",
      "memory usage: 6.1+ MB\n"
     ]
    }
   ],
   "source": [
    "variables_flotantes = [\"children\", \"company\"]\n",
    "\n",
    "for categoria in variables_flotantes:\n",
    "  dsHotelTestCopy[categoria].fillna(-10000, inplace=True)\n",
    "  dsHotelTestCopy[categoria] = dsHotelTestCopy[categoria].astype('Int64')\n",
    "  dsHotelTestCopy[categoria].replace(-10000, np.nan, inplace=True)\n",
    "  verificar_enteros_disfrazados(dsHotelTestCopy[categoria])\n",
    "dsHotelTestCopy.info()"
   ]
  },
  {
   "cell_type": "markdown",
   "metadata": {},
   "source": [
    "### Para la variable 'country'"
   ]
  },
  {
   "cell_type": "code",
   "execution_count": 334,
   "metadata": {},
   "outputs": [],
   "source": [
    "dsCHP1Copy['country'] = dsCHP1Copy['country'].where(        #Lo hacemos para el dataframe preprocesado en train\n",
    "dsCHP1Copy['country'].isin(dsCHP1Copy['country'].value_counts().nlargest(10).index), 'Others')\n",
    "\n",
    "dsHotelTestCopy['country'] =dsHotelTestCopy['country'].where(        #Lo hacemos para test\n",
    "dsHotelTestCopy['country'].isin(dsHotelTestCopy['country'].value_counts().nlargest(10).index), 'Others')"
   ]
  },
  {
   "cell_type": "markdown",
   "metadata": {},
   "source": [
    "### Para la variable 'agent'"
   ]
  },
  {
   "cell_type": "markdown",
   "metadata": {},
   "source": [
    "Realizo el mismo tratamiento de la variable 'agent' en el test"
   ]
  },
  {
   "cell_type": "code",
   "execution_count": 187,
   "metadata": {},
   "outputs": [
    {
     "data": {
      "text/plain": [
       "0"
      ]
     },
     "execution_count": 187,
     "metadata": {},
     "output_type": "execute_result"
    }
   ],
   "source": [
    "dsHotelTestCopy['agent'].fillna(-1, inplace=True)\n",
    "dsHotelTestCopy['agent'].isnull().sum()"
   ]
  },
  {
   "cell_type": "markdown",
   "metadata": {},
   "source": [
    "Dado que 'agent' tiene muchos valores tomo el top 10 de valores"
   ]
  },
  {
   "cell_type": "code",
   "execution_count": 188,
   "metadata": {},
   "outputs": [],
   "source": [
    "dsCHP1Copy['agent'] = dsCHP1Copy['agent'].where(                #Lo hacemos para el dataframe preprocesado en train\n",
    "dsCHP1Copy['agent'].isin(dsCHP1Copy['agent'].value_counts().nlargest(10).index), 'Others')\n",
    "\n",
    "dsHotelTestCopy['agent'] =dsHotelTestCopy['agent'].where(        #Lo hacemos para test\n",
    "dsHotelTestCopy['agent'].isin(dsHotelTestCopy['agent'].value_counts().nlargest(10).index), 'Others')"
   ]
  },
  {
   "cell_type": "code",
   "execution_count": 189,
   "metadata": {},
   "outputs": [
    {
     "data": {
      "text/plain": [
       "agent\n",
       "Others    17131\n",
       "9         16839\n",
       "-1         7282\n",
       "240        7214\n",
       "1          4329\n",
       "14         1673\n",
       "6          1605\n",
       "7          1550\n",
       "250        1299\n",
       "241         761\n",
       "3           731\n",
       "Name: count, dtype: int64"
      ]
     },
     "execution_count": 189,
     "metadata": {},
     "output_type": "execute_result"
    }
   ],
   "source": [
    "dsCHP1Copy['agent'].value_counts()"
   ]
  },
  {
   "cell_type": "markdown",
   "metadata": {},
   "source": [
    "Creo un diccionario para la variable, asignando una letra a cada valor unico del top 10"
   ]
  },
  {
   "cell_type": "code",
   "execution_count": 190,
   "metadata": {},
   "outputs": [
    {
     "name": "stdout",
     "output_type": "stream",
     "text": [
      "{9: 'A', -1: 'B', 'Others': 'C', 240: 'D', 250: 'E', 1: 'F', 3: 'G', 14: 'H', 6: 'I', 7: 'J', 241: 'K'}\n"
     ]
    }
   ],
   "source": [
    "valores_unicos = dsCHP1Copy['agent'].unique()\n",
    "diccionario = {}\n",
    "letra = 'A' \n",
    "for valor in valores_unicos:\n",
    "    diccionario[valor] = letra\n",
    "    letra = chr(ord(letra) + 1)\n",
    "dsCHP1Copy['agent'] = dsCHP1Copy['agent'].map(diccionario)\n",
    "print(diccionario)"
   ]
  },
  {
   "cell_type": "code",
   "execution_count": 191,
   "metadata": {},
   "outputs": [
    {
     "data": {
      "text/plain": [
       "agent\n",
       "Others    7495\n",
       "9.0       7324\n",
       "-1.0      3363\n",
       "240.0     2989\n",
       "1.0       1983\n",
       "6.0        717\n",
       "14.0       700\n",
       "7.0        696\n",
       "250.0      573\n",
       "3.0        353\n",
       "8.0        342\n",
       "Name: count, dtype: int64"
      ]
     },
     "execution_count": 191,
     "metadata": {},
     "output_type": "execute_result"
    }
   ],
   "source": [
    "dsHotelTestCopy['agent'].value_counts()"
   ]
  },
  {
   "cell_type": "code",
   "execution_count": 192,
   "metadata": {},
   "outputs": [
    {
     "data": {
      "text/plain": [
       "agent\n",
       "C    7495\n",
       "A    7324\n",
       "B    3363\n",
       "D    2989\n",
       "F    1983\n",
       "I     717\n",
       "H     700\n",
       "J     696\n",
       "E     573\n",
       "G     353\n",
       "Name: count, dtype: int64"
      ]
     },
     "execution_count": 192,
     "metadata": {},
     "output_type": "execute_result"
    }
   ],
   "source": [
    "dsHotelTestCopy['agent'] = dsHotelTestCopy['agent'].map(diccionario)\n",
    "dsHotelTestCopy['agent'].value_counts()"
   ]
  },
  {
   "cell_type": "markdown",
   "metadata": {},
   "source": [
    "### Agregacion de la feature high_season_month a test\n",
    "Si dicho mes tiene mas reservas que la mediana entonces tiene un 1 (es de temporada alta) y sino un 0 (es de temporada baja)"
   ]
  },
  {
   "cell_type": "code",
   "execution_count": 193,
   "metadata": {},
   "outputs": [
    {
     "data": {
      "text/plain": [
       "high_season_month\n",
       "1    16155\n",
       "0    10380\n",
       "Name: count, dtype: int64"
      ]
     },
     "execution_count": 193,
     "metadata": {},
     "output_type": "execute_result"
    }
   ],
   "source": [
    "mediana_meses = dsHotelTestCopy['arrival_date_month'].value_counts().median()\n",
    "dsHotelTestCopy['high_season_month'] = dsHotelTestCopy['arrival_date_month'].apply(lambda x: 1 if dsHotelTestCopy['arrival_date_month'].value_counts()[x] > mediana_meses else 0)\n",
    "dsHotelTestCopy['high_season_month'].value_counts()"
   ]
  },
  {
   "cell_type": "markdown",
   "metadata": {},
   "source": [
    "### Drops de columns\n",
    "Dropeamos la columna id de ambos dataframes, ya que no aportan nada al analisis. Ademas sacamos la columna reservation_status_date del test ya que no esta en el train y es un error"
   ]
  },
  {
   "cell_type": "code",
   "execution_count": 194,
   "metadata": {},
   "outputs": [],
   "source": [
    "dsCHP1Copy =  dsCHP1Copy.drop('id', axis=1)"
   ]
  },
  {
   "cell_type": "code",
   "execution_count": 195,
   "metadata": {},
   "outputs": [],
   "source": [
    "dsHotelTestCopy = dsHotelTestCopy.drop('id', axis=1)\n",
    "dsHotelTestCopy = dsHotelTestCopy.drop('reservation_status_date', axis=1)"
   ]
  },
  {
   "cell_type": "markdown",
   "metadata": {},
   "source": [
    "### Dataframes antes de aplicar One Hot Encoding"
   ]
  },
  {
   "cell_type": "code",
   "execution_count": 196,
   "metadata": {},
   "outputs": [
    {
     "name": "stdout",
     "output_type": "stream",
     "text": [
      "<class 'pandas.core.frame.DataFrame'>\n",
      "RangeIndex: 26535 entries, 0 to 26534\n",
      "Data columns (total 30 columns):\n",
      " #   Column                          Non-Null Count  Dtype  \n",
      "---  ------                          --------------  -----  \n",
      " 0   hotel                           26535 non-null  object \n",
      " 1   lead_time                       26535 non-null  int64  \n",
      " 2   arrival_date_year               26535 non-null  int64  \n",
      " 3   arrival_date_month              26535 non-null  int64  \n",
      " 4   arrival_date_week_number        26535 non-null  int64  \n",
      " 5   arrival_date_day_of_month       26535 non-null  int64  \n",
      " 6   stays_in_weekend_nights         26535 non-null  int64  \n",
      " 7   stays_in_week_nights            26535 non-null  int64  \n",
      " 8   adults                          26535 non-null  int64  \n",
      " 9   children                        26535 non-null  Int64  \n",
      " 10  babies                          26535 non-null  int64  \n",
      " 11  meal                            26535 non-null  object \n",
      " 12  country                         26535 non-null  object \n",
      " 13  market_segment                  26535 non-null  object \n",
      " 14  distribution_channel            26535 non-null  object \n",
      " 15  is_repeated_guest               26535 non-null  int64  \n",
      " 16  previous_cancellations          26535 non-null  int64  \n",
      " 17  previous_bookings_not_canceled  26535 non-null  int64  \n",
      " 18  reserved_room_type              26535 non-null  object \n",
      " 19  assigned_room_type              26535 non-null  object \n",
      " 20  booking_changes                 26535 non-null  int64  \n",
      " 21  deposit_type                    26535 non-null  object \n",
      " 22  agent                           26193 non-null  object \n",
      " 23  company                         1317 non-null   Int64  \n",
      " 24  days_in_waiting_list            26535 non-null  int64  \n",
      " 25  customer_type                   26535 non-null  object \n",
      " 26  adr                             26535 non-null  float64\n",
      " 27  required_car_parking_spaces     26535 non-null  int64  \n",
      " 28  total_of_special_requests       26535 non-null  int64  \n",
      " 29  high_season_month               26535 non-null  int64  \n",
      "dtypes: Int64(2), float64(1), int64(17), object(10)\n",
      "memory usage: 6.1+ MB\n"
     ]
    }
   ],
   "source": [
    "dsHotelTestCopy.info()"
   ]
  },
  {
   "cell_type": "code",
   "execution_count": 197,
   "metadata": {},
   "outputs": [
    {
     "name": "stdout",
     "output_type": "stream",
     "text": [
      "<class 'pandas.core.frame.DataFrame'>\n",
      "RangeIndex: 60414 entries, 0 to 60413\n",
      "Data columns (total 29 columns):\n",
      " #   Column                          Non-Null Count  Dtype  \n",
      "---  ------                          --------------  -----  \n",
      " 0   hotel                           60414 non-null  object \n",
      " 1   lead_time                       60414 non-null  int64  \n",
      " 2   arrival_date_year               60414 non-null  int64  \n",
      " 3   arrival_date_month              60414 non-null  int64  \n",
      " 4   arrival_date_day_of_month       60414 non-null  int64  \n",
      " 5   stays_in_weekend_nights         60414 non-null  int64  \n",
      " 6   stays_in_week_nights            60414 non-null  int64  \n",
      " 7   adults                          60414 non-null  int64  \n",
      " 8   children                        60414 non-null  int64  \n",
      " 9   babies                          60414 non-null  int64  \n",
      " 10  meal                            60414 non-null  object \n",
      " 11  country                         60414 non-null  object \n",
      " 12  market_segment                  60414 non-null  object \n",
      " 13  distribution_channel            60414 non-null  object \n",
      " 14  is_repeated_guest               60414 non-null  int64  \n",
      " 15  previous_cancellations          60414 non-null  int64  \n",
      " 16  previous_bookings_not_canceled  60414 non-null  int64  \n",
      " 17  reserved_room_type              60414 non-null  object \n",
      " 18  assigned_room_type              60414 non-null  object \n",
      " 19  booking_changes                 60414 non-null  int64  \n",
      " 20  deposit_type                    60414 non-null  object \n",
      " 21  agent                           60414 non-null  object \n",
      " 22  days_in_waiting_list            60414 non-null  int64  \n",
      " 23  customer_type                   60414 non-null  object \n",
      " 24  adr                             60414 non-null  float64\n",
      " 25  required_car_parking_spaces     60414 non-null  int64  \n",
      " 26  total_of_special_requests       60414 non-null  int64  \n",
      " 27  is_canceled                     60414 non-null  int64  \n",
      " 28  high_season_month               60414 non-null  int64  \n",
      "dtypes: float64(1), int64(18), object(10)\n",
      "memory usage: 13.4+ MB\n"
     ]
    }
   ],
   "source": [
    "dsCHP1Copy.info()"
   ]
  },
  {
   "cell_type": "markdown",
   "metadata": {},
   "source": [
    "### One Hot Encoding"
   ]
  },
  {
   "cell_type": "code",
   "execution_count": 308,
   "metadata": {},
   "outputs": [],
   "source": [
    "ds_variables_categoricas = dsCHP1Copy.select_dtypes(include=['object'])\n",
    "dsCHP1CopyOHE = pd.get_dummies(dsCHP1Copy, columns=ds_variables_categoricas.columns.to_list(), drop_first=True)\n",
    "dsHotelTestCopyOHE = pd.get_dummies(dsHotelTestCopy, columns=ds_variables_categoricas.columns.to_list(), drop_first=True)\n",
    "dsCHP1CopyOHE['id'] = dsCHP1['id']"
   ]
  },
  {
   "cell_type": "code",
   "execution_count": 309,
   "metadata": {},
   "outputs": [
    {
     "data": {
      "text/plain": [
       "(26535, 77)"
      ]
     },
     "execution_count": 309,
     "metadata": {},
     "output_type": "execute_result"
    }
   ],
   "source": [
    "dsHotelTestCopyOHE.shape"
   ]
  },
  {
   "cell_type": "code",
   "execution_count": 310,
   "metadata": {},
   "outputs": [
    {
     "data": {
      "text/plain": [
       "(60414, 77)"
      ]
     },
     "execution_count": 310,
     "metadata": {},
     "output_type": "execute_result"
    }
   ],
   "source": [
    "dsCHP1CopyOHE.shape"
   ]
  },
  {
   "cell_type": "markdown",
   "metadata": {},
   "source": [
    "Dado que hay valores que estan en el train y que no estan en el test y viceversa busco que quedarme solo con las columnas que tengan en comun y al dataframe de train le agrego la columna target que sabemos que no esta en el test"
   ]
  },
  {
   "cell_type": "code",
   "execution_count": 311,
   "metadata": {},
   "outputs": [],
   "source": [
    "categoriasEnComun = (dsCHP1CopyOHE.columns).intersection(dsHotelTestCopyOHE.columns)\n",
    "dsCHP1CopyY = dsCHP1CopyOHE['is_canceled'].copy()\n",
    "dsHotelTestCopyOHE= dsHotelTestCopyOHE[categoriasEnComun]\n",
    "dsCHP1CopyOHE = dsCHP1CopyOHE[categoriasEnComun]\n",
    "dsCHP1CopyOHE['is_canceled'] = dsCHP1CopyY"
   ]
  },
  {
   "cell_type": "markdown",
   "metadata": {},
   "source": [
    "Corroboro que ambos dataframes, test y train tengan la misma forma, es decir, las mismas columnas luego de las tranformaciones"
   ]
  },
  {
   "cell_type": "code",
   "execution_count": 312,
   "metadata": {},
   "outputs": [
    {
     "name": "stdout",
     "output_type": "stream",
     "text": [
      "Los DataFrames no tienen las mismas columnas.\n"
     ]
    }
   ],
   "source": [
    "if dsCHP1CopyOHE.columns.tolist() == dsHotelTestCopyOHE.columns.tolist():\n",
    "    print(\"Los DataFrames tienen las mismas columnas.\")\n",
    "else:\n",
    "    print(\"Los DataFrames no tienen las mismas columnas.\")"
   ]
  },
  {
   "cell_type": "markdown",
   "metadata": {},
   "source": [
    "# Entrenamiento y prediccion"
   ]
  },
  {
   "cell_type": "code",
   "execution_count": 212,
   "metadata": {},
   "outputs": [],
   "source": [
    "#Creo un dataset con los features que voy a usar para clasificar\n",
    "dsCHP1CopyX = dsCHP1CopyOHE.drop(['is_canceled'], axis='columns', inplace=False)\n",
    "\n",
    "#Creo un dataset con la variable target\n",
    "dsCHP1CopyY = dsCHP1CopyOHE['is_canceled'].copy()\n",
    "\n",
    "#Genero un conjunto de train a partir del dataframe de train\n",
    "xTrain, xTest, yTrain, yTest = train_test_split(dsCHP1CopyX,\n",
    "                                              dsCHP1CopyY,\n",
    "                                              test_size=0.2,\n",
    "                                              random_state=243)"
   ]
  },
  {
   "cell_type": "markdown",
   "metadata": {},
   "source": [
    "## Creacion de clasificador de hiperparametros"
   ]
  },
  {
   "cell_type": "code",
   "execution_count": 213,
   "metadata": {},
   "outputs": [],
   "source": [
    "treeModel = tree.DecisionTreeClassifier(criterion='entropy',\n",
    "                                        max_depth=20,\n",
    "                                        min_samples_leaf=10)\n",
    "#Entrenamiento\n",
    "model = treeModel.fit(X= xTrain, y= yTrain)"
   ]
  },
  {
   "cell_type": "code",
   "execution_count": 214,
   "metadata": {},
   "outputs": [
    {
     "data": {
      "text/plain": [
       "array([1, 1, 1, ..., 0, 1, 1], dtype=int64)"
      ]
     },
     "execution_count": 214,
     "metadata": {},
     "output_type": "execute_result"
    }
   ],
   "source": [
    "yPredicted = model.predict(xTest)\n",
    "#Valores predichos\n",
    "yPredicted"
   ]
  },
  {
   "cell_type": "code",
   "execution_count": 215,
   "metadata": {},
   "outputs": [
    {
     "data": {
      "text/plain": [
       "array([1, 0, 1, ..., 0, 1, 1], dtype=int64)"
      ]
     },
     "execution_count": 215,
     "metadata": {},
     "output_type": "execute_result"
    }
   ],
   "source": [
    "#Valores reales\n",
    "yTest.values"
   ]
  },
  {
   "cell_type": "markdown",
   "metadata": {},
   "source": [
    "## Matriz de confusion y metricas"
   ]
  },
  {
   "cell_type": "markdown",
   "metadata": {},
   "source": [
    "### Matriz de confusion"
   ]
  },
  {
   "cell_type": "code",
   "execution_count": 216,
   "metadata": {},
   "outputs": [
    {
     "data": {
      "text/plain": [
       "Text(50.722222222222214, 0.5, 'True')"
      ]
     },
     "execution_count": 216,
     "metadata": {},
     "output_type": "execute_result"
    },
    {
     "data": {
      "image/png": "[encoded data removed]",
      "text/plain": [
       "<Figure size 640x480 with 2 Axes>"
      ]
     },
     "metadata": {},
     "output_type": "display_data"
    }
   ],
   "source": [
    "tabla = confusion_matrix(yTest, yPredicted)\n",
    "\n",
    "sns.heatmap(tabla, cmap='GnBu', annot=True, fmt='g')\n",
    "plt.xlabel('Predicted')\n",
    "plt.ylabel('True')"
   ]
  },
  {
   "cell_type": "markdown",
   "metadata": {},
   "source": [
    "### Metricas"
   ]
  },
  {
   "cell_type": "code",
   "execution_count": 217,
   "metadata": {},
   "outputs": [
    {
     "name": "stdout",
     "output_type": "stream",
     "text": [
      "Accuracy: 0.8516924604816685\n",
      "Recall: 0.8666558913851624\n",
      "Precision: 0.8472112498024964\n",
      "f1 score: 0.8568232662192393\n"
     ]
    }
   ],
   "source": [
    "#Calculo las métricas en el conjunto de evaluación\n",
    "accuracy=accuracy_score(yTest,yPredicted)\n",
    "recall=recall_score(yTest,yPredicted)\n",
    "f1=f1_score(yTest,yPredicted,)\n",
    "precision=precision_score(yTest,yPredicted)\n",
    "\n",
    "print(\"Accuracy: \"+str(accuracy))\n",
    "print(\"Recall: \"+str(recall))\n",
    "print(\"Precision: \"+str(precision))\n",
    "print(\"f1 score: \"+str(f1))"
   ]
  },
  {
   "cell_type": "markdown",
   "metadata": {},
   "source": [
    "# Primer submission a Kaggle"
   ]
  },
  {
   "cell_type": "code",
   "execution_count": 218,
   "metadata": {},
   "outputs": [],
   "source": [
    "treeModel = tree.DecisionTreeClassifier(criterion='entropy',\n",
    "                                        max_depth=20,\n",
    "                                        min_samples_leaf=10)\n",
    "#Entrenamiento\n",
    "model = treeModel.fit(X= dsCHP1CopyX, y= dsCHP1CopyY)"
   ]
  },
  {
   "cell_type": "code",
   "execution_count": 221,
   "metadata": {},
   "outputs": [
    {
     "data": {
      "text/plain": [
       "array([1, 1, 0, ..., 1, 1, 0], dtype=int64)"
      ]
     },
     "execution_count": 221,
     "metadata": {},
     "output_type": "execute_result"
    }
   ],
   "source": [
    "yPredictedKaggle = model.predict(dsHotelTestCopyOHE)\n",
    "#Valores predichos\n",
    "yPredictedKaggle"
   ]
  },
  {
   "cell_type": "code",
   "execution_count": 222,
   "metadata": {},
   "outputs": [],
   "source": [
    "dsKaggle = pd.DataFrame(zip(dsHotelTest['id'], yPredictedKaggle), columns=['id', 'is_canceled'])\n",
    "dsKaggle.to_csv(\"dsKaggleCorrecto.csv\",index=False)"
   ]
  },
  {
   "cell_type": "markdown",
   "metadata": {},
   "source": [
    "# Segunda submission a Kaggle\n",
    "Voy a ver como se comporta el modelo al realizar algo similar en 'company' a lo que hice con la variable 'agent'"
   ]
  },
  {
   "cell_type": "markdown",
   "metadata": {},
   "source": [
    "## Feature Engeneering (segunda submission)"
   ]
  },
  {
   "cell_type": "markdown",
   "metadata": {},
   "source": [
    "### Para la variable 'company'"
   ]
  },
  {
   "cell_type": "code",
   "execution_count": 289,
   "metadata": {},
   "outputs": [],
   "source": [
    "dsCHP1CopySS = dsCHP1Copy.copy()  #Realizo una copia del dataframe luego de aplicar las transformaciones (antes de aplicar One Hot Encoding)\n",
    "dsHotelTestCopySS = dsHotelTestCopy.copy()\n",
    "dsCHP1CopySS['company'] = dsHotelTrain['company']\n",
    "dsCHP1CopySS['company'].fillna(-1, inplace=True)\n",
    "dsHotelTestCopySS['company'].fillna(-1, inplace=True)"
   ]
  },
  {
   "cell_type": "code",
   "execution_count": 290,
   "metadata": {},
   "outputs": [
    {
     "name": "stdout",
     "output_type": "stream",
     "text": [
      "<class 'pandas.core.frame.DataFrame'>\n",
      "RangeIndex: 60414 entries, 0 to 60413\n",
      "Data columns (total 30 columns):\n",
      " #   Column                          Non-Null Count  Dtype  \n",
      "---  ------                          --------------  -----  \n",
      " 0   hotel                           60414 non-null  object \n",
      " 1   lead_time                       60414 non-null  int64  \n",
      " 2   arrival_date_year               60414 non-null  int64  \n",
      " 3   arrival_date_month              60414 non-null  int64  \n",
      " 4   arrival_date_day_of_month       60414 non-null  int64  \n",
      " 5   stays_in_weekend_nights         60414 non-null  int64  \n",
      " 6   stays_in_week_nights            60414 non-null  int64  \n",
      " 7   adults                          60414 non-null  int64  \n",
      " 8   children                        60414 non-null  int64  \n",
      " 9   babies                          60414 non-null  int64  \n",
      " 10  meal                            60414 non-null  object \n",
      " 11  country                         60414 non-null  object \n",
      " 12  market_segment                  60414 non-null  object \n",
      " 13  distribution_channel            60414 non-null  object \n",
      " 14  is_repeated_guest               60414 non-null  int64  \n",
      " 15  previous_cancellations          60414 non-null  int64  \n",
      " 16  previous_bookings_not_canceled  60414 non-null  int64  \n",
      " 17  reserved_room_type              60414 non-null  object \n",
      " 18  assigned_room_type              60414 non-null  object \n",
      " 19  booking_changes                 60414 non-null  int64  \n",
      " 20  deposit_type                    60414 non-null  object \n",
      " 21  agent                           60414 non-null  object \n",
      " 22  days_in_waiting_list            60414 non-null  int64  \n",
      " 23  customer_type                   60414 non-null  object \n",
      " 24  adr                             60414 non-null  float64\n",
      " 25  required_car_parking_spaces     60414 non-null  int64  \n",
      " 26  total_of_special_requests       60414 non-null  int64  \n",
      " 27  is_canceled                     60414 non-null  int64  \n",
      " 28  high_season_month               60414 non-null  int64  \n",
      " 29  company                         60414 non-null  float64\n",
      "dtypes: float64(2), int64(18), object(10)\n",
      "memory usage: 13.8+ MB\n"
     ]
    }
   ],
   "source": [
    "dsCHP1CopySS.info()"
   ]
  },
  {
   "cell_type": "code",
   "execution_count": 282,
   "metadata": {},
   "outputs": [
    {
     "name": "stdout",
     "output_type": "stream",
     "text": [
      "<class 'pandas.core.frame.DataFrame'>\n",
      "RangeIndex: 26535 entries, 0 to 26534\n",
      "Data columns (total 30 columns):\n",
      " #   Column                          Non-Null Count  Dtype  \n",
      "---  ------                          --------------  -----  \n",
      " 0   hotel                           26535 non-null  object \n",
      " 1   lead_time                       26535 non-null  int64  \n",
      " 2   arrival_date_year               26535 non-null  int64  \n",
      " 3   arrival_date_month              26535 non-null  int64  \n",
      " 4   arrival_date_week_number        26535 non-null  int64  \n",
      " 5   arrival_date_day_of_month       26535 non-null  int64  \n",
      " 6   stays_in_weekend_nights         26535 non-null  int64  \n",
      " 7   stays_in_week_nights            26535 non-null  int64  \n",
      " 8   adults                          26535 non-null  int64  \n",
      " 9   children                        26535 non-null  Int64  \n",
      " 10  babies                          26535 non-null  int64  \n",
      " 11  meal                            26535 non-null  object \n",
      " 12  country                         26535 non-null  object \n",
      " 13  market_segment                  26535 non-null  object \n",
      " 14  distribution_channel            26535 non-null  object \n",
      " 15  is_repeated_guest               26535 non-null  int64  \n",
      " 16  previous_cancellations          26535 non-null  int64  \n",
      " 17  previous_bookings_not_canceled  26535 non-null  int64  \n",
      " 18  reserved_room_type              26535 non-null  object \n",
      " 19  assigned_room_type              26535 non-null  object \n",
      " 20  booking_changes                 26535 non-null  int64  \n",
      " 21  deposit_type                    26535 non-null  object \n",
      " 22  agent                           26193 non-null  object \n",
      " 23  company                         26535 non-null  object \n",
      " 24  days_in_waiting_list            26535 non-null  int64  \n",
      " 25  customer_type                   26535 non-null  object \n",
      " 26  adr                             26535 non-null  float64\n",
      " 27  required_car_parking_spaces     26535 non-null  int64  \n",
      " 28  total_of_special_requests       26535 non-null  int64  \n",
      " 29  high_season_month               26535 non-null  int64  \n",
      "dtypes: Int64(1), float64(1), int64(17), object(11)\n",
      "memory usage: 6.1+ MB\n"
     ]
    }
   ],
   "source": [
    "dsHotelTestCopySS.info()"
   ]
  },
  {
   "cell_type": "code",
   "execution_count": 291,
   "metadata": {},
   "outputs": [
    {
     "data": {
      "text/plain": [
       "company\n",
       "-1.0      57331\n",
       " 40.0       386\n",
       " 223.0      357\n",
       " 67.0       167\n",
       " 45.0       112\n",
       "          ...  \n",
       " 373.0        1\n",
       " 243.0        1\n",
       " 448.0        1\n",
       " 370.0        1\n",
       " 217.0        1\n",
       "Name: count, Length: 274, dtype: int64"
      ]
     },
     "execution_count": 291,
     "metadata": {},
     "output_type": "execute_result"
    }
   ],
   "source": [
    "dsCHP1CopySS['company'].value_counts()"
   ]
  },
  {
   "cell_type": "code",
   "execution_count": 269,
   "metadata": {},
   "outputs": [
    {
     "data": {
      "text/plain": [
       "company\n",
       "-1     25218\n",
       "40       183\n",
       "223      142\n",
       "67        64\n",
       "45        42\n",
       "       ...  \n",
       "142        1\n",
       "112        1\n",
       "220        1\n",
       "287        1\n",
       "380        1\n",
       "Name: count, Length: 221, dtype: Int64"
      ]
     },
     "execution_count": 269,
     "metadata": {},
     "output_type": "execute_result"
    }
   ],
   "source": [
    "dsHotelTestCopySS['company'].value_counts()"
   ]
  },
  {
   "cell_type": "markdown",
   "metadata": {},
   "source": [
    "Dado que 'company' tiene muchos valores unicos tomo el top 10"
   ]
  },
  {
   "cell_type": "code",
   "execution_count": 292,
   "metadata": {},
   "outputs": [
    {
     "name": "stdout",
     "output_type": "stream",
     "text": [
      "{-1.0: 'A', 223.0: 'B', 512.0: 'C', 218.0: 'D', 233.0: 'E', 268.0: 'F', 385.0: 'G', 88.0: 'H', 154.0: 'I', 51.0: 'J', 281.0: 'K', 202.0: 'L', 67.0: 'M', 405.0: 'N', 45.0: 'O', 329.0: 'P', 46.0: 'Q', 197.0: 'R', 137.0: 'S', 366.0: 'T', 174.0: 'U', 40.0: 'V', 144.0: 'W', 227.0: 'X', 86.0: 'Y', 159.0: 'Z', 477.0: '[', 308.0: '\\\\', 43.0: ']', 219.0: '^', 68.0: '_', 407.0: '`', 81.0: 'a', 465.0: 'b', 343.0: 'c', 466.0: 'd', 353.0: 'e', 424.0: 'f', 485.0: 'g', 38.0: 'h', 94.0: 'i', 153.0: 'j', 72.0: 'k', 20.0: 'l', 47.0: 'm', 286.0: 'n', 195.0: 'o', 358.0: 'p', 277.0: 'q', 355.0: 'r', 12.0: 's', 498.0: 't', 278.0: 'u', 62.0: 'v', 393.0: 'w', 238.0: 'x', 242.0: 'y', 143.0: 'z', 135.0: '{', 331.0: '|', 400.0: '}', 342.0: '~', 110.0: '\\x7f', 313.0: '\\x80', 78.0: '\\x81', 348.0: '\\x82', 209.0: '\\x83', 452.0: '\\x84', 99.0: '\\x85', 250.0: '\\x86', 118.0: '\\x87', 507.0: '\\x88', 397.0: '\\x89', 321.0: '\\x8a', 113.0: '\\x8b', 167.0: '\\x8c', 9.0: '\\x8d', 204.0: '\\x8e', 280.0: '\\x8f', 83.0: '\\x90', 203.0: '\\x91', 333.0: '\\x92', 365.0: '\\x93', 186.0: '\\x94', 324.0: '\\x95', 169.0: '\\x96', 496.0: '\\x97', 31.0: '\\x98', 382.0: '\\x99', 270.0: '\\x9a', 84.0: '\\x9b', 245.0: '\\x9c', 274.0: '\\x9d', 215.0: '\\x9e', 418.0: '\\x9f', 525.0: '\\xa0', 290.0: '¡', 39.0: '¢', 14.0: '£', 150.0: '¤', 251.0: '¥', 292.0: '¦', 91.0: '§', 230.0: '¨', 521.0: '©', 320.0: 'ª', 334.0: '«', 408.0: '¬', 207.0: '\\xad', 122.0: '®', 178.0: '¯', 82.0: '°', 388.0: '±', 360.0: '²', 148.0: '³', 183.0: '´', 22.0: 'µ', 435.0: '¶', 420.0: '·', 523.0: '¸', 307.0: '¹', 319.0: 'º', 49.0: '»', 421.0: '¼', 380.0: '½', 54.0: '¾', 221.0: '¿', 282.0: 'À', 48.0: 'Á', 200.0: 'Â', 126.0: 'Ã', 216.0: 'Ä', 338.0: 'Å', 379.0: 'Æ', 356.0: 'Ç', 461.0: 'È', 543.0: 'É', 220.0: 'Ê', 371.0: 'Ë', 105.0: 'Ì', 311.0: 'Í', 346.0: 'Î', 269.0: 'Ï', 168.0: 'Ð', 372.0: 'Ñ', 399.0: 'Ò', 120.0: 'Ó', 37.0: 'Ô', 115.0: 'Õ', 291.0: 'Ö', 127.0: '×', 515.0: 'Ø', 439.0: 'Ù', 73.0: 'Ú', 428.0: 'Û', 179.0: 'Ü', 383.0: 'Ý', 112.0: 'Þ', 284.0: 'ß', 297.0: 'à', 499.0: 'á', 92.0: 'â', 234.0: 'ã', 317.0: 'ä', 396.0: 'å', 103.0: 'æ', 140.0: 'ç', 409.0: 'è', 445.0: 'é', 109.0: 'ê', 240.0: 'ë', 378.0: 'ì', 271.0: 'í', 18.0: 'î', 384.0: 'ï', 59.0: 'ð', 376.0: 'ñ', 458.0: 'ò', 272.0: 'ó', 369.0: 'ô', 107.0: 'õ', 504.0: 'ö', 528.0: '÷', 377.0: 'ø', 149.0: 'ù', 490.0: 'ú', 163.0: 'û', 337.0: 'ü', 370.0: 'ý', 448.0: 'þ', 243.0: 'ÿ', 373.0: 'Ā', 450.0: 'ā', 108.0: 'Ă', 254.0: 'ă', 258.0: 'Ą', 293.0: 'ą', 53.0: 'Ć', 341.0: 'ć', 443.0: 'Ĉ', 425.0: 'ĉ', 287.0: 'Ċ', 325.0: 'ċ', 390.0: 'Č', 302.0: 'č', 364.0: 'Ď', 288.0: 'ď', 392.0: 'Đ', 130.0: 'đ', 279.0: 'Ē', 349.0: 'ē', 394.0: 'Ĕ', 323.0: 'ĕ', 367.0: 'Ė', 361.0: 'ė', 275.0: 'Ę', 305.0: 'ę', 416.0: 'Ě', 436.0: 'ě', 273.0: 'Ĝ', 263.0: 'ĝ', 212.0: 'Ğ', 357.0: 'ğ', 539.0: 'Ġ', 470.0: 'ġ', 330.0: 'Ģ', 486.0: 'ģ', 10.0: 'Ĥ', 442.0: 'ĥ', 433.0: 'Ħ', 246.0: 'ħ', 530.0: 'Ĩ', 34.0: 'ĩ', 391.0: 'Ī', 225.0: 'ī', 451.0: 'Ĭ', 192.0: 'ĭ', 362.0: 'Į', 213.0: 'į', 459.0: 'İ', 437.0: 'ı', 180.0: 'Ĳ', 255.0: 'ĳ', 42.0: 'Ĵ', 193.0: 'ĵ', 289.0: 'Ķ', 460.0: 'ķ', 403.0: 'ĸ', 395.0: 'Ĺ', 116.0: 'ĺ', 541.0: 'Ļ', 351.0: 'ļ', 481.0: 'Ľ', 93.0: 'ľ', 457.0: 'Ŀ', 350.0: 'ŀ', 368.0: 'Ł', 232.0: 'ł', 492.0: 'Ń', 85.0: 'ń', 484.0: 'Ņ', 260.0: 'ņ', 28.0: 'Ň', 426.0: 'ň', 479.0: 'ŉ', 398.0: 'Ŋ', 16.0: 'ŋ', 100.0: 'Ō', 316.0: 'ō', 312.0: 'Ŏ', 96.0: 'ŏ', 447.0: 'Ő', 104.0: 'ő', 217.0: 'Œ'}\n"
     ]
    }
   ],
   "source": [
    "valores_unicos = dsCHP1CopySS['company'].unique()\n",
    "diccionario = {}\n",
    "letra = 'A' \n",
    "for valor in valores_unicos:\n",
    "    diccionario[valor] = letra\n",
    "    letra = chr(ord(letra) + 1)\n",
    "dsCHP1CopySS['company'] = dsCHP1CopySS['company'].map(diccionario)\n",
    "dsHotelTestCopySS['company'] = dsHotelTestCopySS['company'].map(diccionario)\n",
    "print(diccionario)"
   ]
  },
  {
   "cell_type": "code",
   "execution_count": 293,
   "metadata": {},
   "outputs": [],
   "source": [
    "dsCHP1CopySS['company'] = dsCHP1CopySS['company'].where(                #Lo hacemos para el dataframe preprocesado en train\n",
    "dsCHP1CopySS['company'].isin(dsCHP1CopySS['company'].value_counts().nlargest(10).index), 'Others')\n",
    "\n",
    "dsHotelTestCopySS['company'] =dsHotelTestCopySS['company'].where(        #Lo hacemos para test\n",
    "dsHotelTestCopySS['company'].isin(dsHotelTestCopySS['company'].value_counts().nlargest(10).index), 'Others')"
   ]
  },
  {
   "cell_type": "code",
   "execution_count": 294,
   "metadata": {},
   "outputs": [
    {
     "data": {
      "text/plain": [
       "company\n",
       "A         57331\n",
       "Others     1707\n",
       "V           386\n",
       "B           357\n",
       "M           167\n",
       "O           112\n",
       "j            99\n",
       "U            71\n",
       "K            67\n",
       "^            65\n",
       "J            52\n",
       "Name: count, dtype: int64"
      ]
     },
     "execution_count": 294,
     "metadata": {},
     "output_type": "execute_result"
    }
   ],
   "source": [
    "dsCHP1CopySS['company'].value_counts()"
   ]
  },
  {
   "cell_type": "code",
   "execution_count": 295,
   "metadata": {},
   "outputs": [
    {
     "data": {
      "text/plain": [
       "company\n",
       "A         25218\n",
       "Others      735\n",
       "V           183\n",
       "B           142\n",
       "M            64\n",
       "O            42\n",
       "j            41\n",
       "U            32\n",
       "N            29\n",
       "E            25\n",
       "I            24\n",
       "Name: count, dtype: int64"
      ]
     },
     "execution_count": 295,
     "metadata": {},
     "output_type": "execute_result"
    }
   ],
   "source": [
    "dsHotelTestCopySS['company'].value_counts()"
   ]
  },
  {
   "cell_type": "markdown",
   "metadata": {},
   "source": [
    "Luego de haberle aplicado la misma transformacion a 'company' procedo a aplicarle One Hot Encoding y a entrenar el modelo"
   ]
  },
  {
   "cell_type": "markdown",
   "metadata": {},
   "source": [
    "### One Hot Encoding"
   ]
  },
  {
   "cell_type": "code",
   "execution_count": 314,
   "metadata": {},
   "outputs": [],
   "source": [
    "ds_variables_categoricas = dsCHP1CopySS.select_dtypes(include=['object'])\n",
    "dsCHP1CopySSOHE = pd.get_dummies(dsCHP1CopySS, columns=ds_variables_categoricas.columns.to_list(), drop_first=True)\n",
    "dsHotelTestCopySSOHE = pd.get_dummies(dsHotelTestCopySS, columns=ds_variables_categoricas.columns.to_list(), drop_first=True)\n",
    "dsCHP1CopySSOHE['id'] = dsCHP1['id']"
   ]
  },
  {
   "cell_type": "code",
   "execution_count": 315,
   "metadata": {},
   "outputs": [
    {
     "data": {
      "text/plain": [
       "(60414, 87)"
      ]
     },
     "execution_count": 315,
     "metadata": {},
     "output_type": "execute_result"
    }
   ],
   "source": [
    "dsCHP1CopySSOHE.shape"
   ]
  },
  {
   "cell_type": "code",
   "execution_count": 316,
   "metadata": {},
   "outputs": [
    {
     "data": {
      "text/plain": [
       "(26535, 86)"
      ]
     },
     "execution_count": 316,
     "metadata": {},
     "output_type": "execute_result"
    }
   ],
   "source": [
    "dsHotelTestCopySSOHE.shape"
   ]
  },
  {
   "cell_type": "code",
   "execution_count": 317,
   "metadata": {},
   "outputs": [],
   "source": [
    "categoriasEnComun = (dsCHP1CopySSOHE.columns).intersection(dsHotelTestCopySSOHE.columns)\n",
    "dsCHP1CopyYSS = dsCHP1CopySSOHE['is_canceled'].copy()\n",
    "dsHotelTestCopySSOHE= dsHotelTestCopySSOHE[categoriasEnComun]\n",
    "dsCHP1CopySSOHE = dsCHP1CopySSOHE[categoriasEnComun]\n",
    "dsCHP1CopySSOHE['is_canceled'] = dsCHP1CopyYSS"
   ]
  },
  {
   "cell_type": "markdown",
   "metadata": {},
   "source": [
    "##  Entrenamiento y prediccion (SS)"
   ]
  },
  {
   "cell_type": "code",
   "execution_count": 318,
   "metadata": {},
   "outputs": [],
   "source": [
    "#Creo un dataset con los features que voy a usar para clasificar\n",
    "dsCHP1CopyXSS = dsCHP1CopySSOHE.drop(['is_canceled'], axis='columns', inplace=False)\n",
    "\n",
    "#Creo un dataset con la variable target\n",
    "dsCHP1CopyYSS = dsCHP1CopySSOHE['is_canceled'].copy()\n",
    "\n",
    "#Genero un conjunto de train a partir del dataframe de train\n",
    "xTrainSS, xTestSS, yTrainSS, yTestSS = train_test_split(dsCHP1CopyXSS,\n",
    "                                              dsCHP1CopyYSS,\n",
    "                                              test_size=0.2,\n",
    "                                              random_state=243)"
   ]
  },
  {
   "cell_type": "markdown",
   "metadata": {},
   "source": [
    "## Creacion de clasificador de hiperparametros"
   ]
  },
  {
   "cell_type": "code",
   "execution_count": 319,
   "metadata": {},
   "outputs": [],
   "source": [
    "treeModel = tree.DecisionTreeClassifier(criterion='entropy',\n",
    "                                        max_depth=20,\n",
    "                                        min_samples_leaf=10)\n",
    "#Entrenamiento\n",
    "model = treeModel.fit(X= xTrainSS, y= yTrainSS)"
   ]
  },
  {
   "cell_type": "code",
   "execution_count": 325,
   "metadata": {},
   "outputs": [
    {
     "data": {
      "text/plain": [
       "array([1, 1, 1, ..., 0, 1, 1], dtype=int64)"
      ]
     },
     "execution_count": 325,
     "metadata": {},
     "output_type": "execute_result"
    }
   ],
   "source": [
    "yPredictedSS = model.predict(xTestSS)\n",
    "#Valores predichos\n",
    "yPredictedSS"
   ]
  },
  {
   "cell_type": "code",
   "execution_count": 326,
   "metadata": {},
   "outputs": [
    {
     "data": {
      "text/plain": [
       "array([1, 0, 1, ..., 0, 1, 1], dtype=int64)"
      ]
     },
     "execution_count": 326,
     "metadata": {},
     "output_type": "execute_result"
    }
   ],
   "source": [
    "#Valores reales\n",
    "yTestSS.values"
   ]
  },
  {
   "cell_type": "code",
   "execution_count": 327,
   "metadata": {},
   "outputs": [
    {
     "data": {
      "text/plain": [
       "Text(50.722222222222214, 0.5, 'True')"
      ]
     },
     "execution_count": 327,
     "metadata": {},
     "output_type": "execute_result"
    },
    {
     "data": {
      "image/png": "[encoded data removed]",
      "text/plain": [
       "<Figure size 640x480 with 2 Axes>"
      ]
     },
     "metadata": {},
     "output_type": "display_data"
    }
   ],
   "source": [
    "tabla = confusion_matrix(yTestSS, yPredictedSS)\n",
    "\n",
    "sns.heatmap(tabla, cmap='GnBu', annot=True, fmt='g')\n",
    "plt.xlabel('Predicted')\n",
    "plt.ylabel('True')"
   ]
  },
  {
   "cell_type": "code",
   "execution_count": 329,
   "metadata": {},
   "outputs": [
    {
     "name": "stdout",
     "output_type": "stream",
     "text": [
      "Accuracy: 0.8506993296366796\n",
      "Recall: 0.863584936156457\n",
      "Precision: 0.8476915754402665\n",
      "f1 score: 0.855564451561249\n"
     ]
    }
   ],
   "source": [
    "#Calculo las métricas en el conjunto de evaluación\n",
    "accuracy=accuracy_score(yTestSS,yPredictedSS)\n",
    "recall=recall_score(yTestSS,yPredictedSS)\n",
    "f1=f1_score(yTestSS,yPredictedSS)\n",
    "precision=precision_score(yTestSS,yPredictedSS)\n",
    "\n",
    "print(\"Accuracy: \"+str(accuracy))\n",
    "print(\"Recall: \"+str(recall))\n",
    "print(\"Precision: \"+str(precision))\n",
    "print(\"f1 score: \"+str(f1))"
   ]
  },
  {
   "cell_type": "markdown",
   "metadata": {},
   "source": [
    "# Tercera submission a Kaggle"
   ]
  },
  {
   "cell_type": "code",
   "execution_count": 349,
   "metadata": {},
   "outputs": [],
   "source": [
    "dsCHP1CopyTS = dsCHP1CopyOHE.copy()\n",
    "dsHotelTestCopyTS = dsHotelTestCopyOHE.copy()"
   ]
  },
  {
   "cell_type": "markdown",
   "metadata": {},
   "source": [
    "## Eleccion de hiperparametros"
   ]
  },
  {
   "cell_type": "code",
   "execution_count": 350,
   "metadata": {},
   "outputs": [
    {
     "name": "stdout",
     "output_type": "stream",
     "text": [
      "# Datos Entrenamiento: 48331\n",
      "# Datos Prueba: 12083\n",
      "% Positivos Entrenamiento: 50.553\n",
      "% Positivos Prueba: 50.550\n"
     ]
    }
   ],
   "source": [
    "dsCHP1CopyXTS = dsCHP1CopyTS.drop(['is_canceled'], axis='columns', inplace=False)\n",
    "dsCHP1CopyYTS = dsCHP1CopyTS['is_canceled'].copy()\n",
    "\n",
    "xTrainTS, xTestTS, yTrainTS, yTestTS = train_test_split(dsCHP1CopyXTS,\n",
    "                                                dsCHP1CopyYTS,\n",
    "                                                test_size=0.2,    \n",
    "                                                random_state=243,\n",
    "                                                stratify=dsCHP1CopyYTS)\n",
    "\n",
    "#Verifico Cantidad de Datos en cada set\n",
    "print('# Datos Entrenamiento: {}'.format(len(xTrainTS)))\n",
    "print('# Datos Prueba: {}'.format(len(xTestTS)))\n",
    "\n",
    "#Verifico como quedaron balanceados\n",
    "for split_name, split in zip(['% Positivos Entrenamiento','% Positivos Prueba'],[yTrainTS,yTestTS]):\n",
    "  print('{}: {:.3f}'.format(split_name,pd.Series(split).value_counts(normalize=True)[1]*100))"
   ]
  },
  {
   "cell_type": "markdown",
   "metadata": {},
   "source": [
    "### KFOLD CV Random Search"
   ]
  },
  {
   "cell_type": "code",
   "execution_count": 351,
   "metadata": {},
   "outputs": [],
   "source": [
    "def CV_random_search_f1_score_optimizer(nIter, nFolds, maxDepth, minSamplesLeaf):\n",
    "\n",
    "    #Conjunto de parámetros que quiero usar\n",
    "    params_grid = {'criterion':['gini','entropy'],\n",
    "               'ccp_alpha':np.linspace(0,0.05,nIter),\n",
    "               'max_depth':list(range(1,maxDepth)),\n",
    "               'min_samples_leaf':list(range(1, minSamplesLeaf))}\n",
    "\n",
    "    #Kfold estratificado\n",
    "    kfoldcv = StratifiedKFold(n_splits=nFolds)\n",
    "\n",
    "    #Clasificador\n",
    "    base_tree = tree.DecisionTreeClassifier()\n",
    "\n",
    "    #Metrica que quiero optimizar F1 Score\n",
    "    scorer_fn = make_scorer(f1_score)\n",
    "\n",
    "    #Random Search Cross Validation\n",
    "    randomcv = RandomizedSearchCV(estimator=base_tree,\n",
    "                              param_distributions = params_grid,\n",
    "                              scoring=scorer_fn,\n",
    "                              cv=kfoldcv,\n",
    "                              n_iter=nIter,\n",
    "                              random_state=200)\n",
    "\n",
    "    #Busco los hiperparamtros que optimizan F1 Score\n",
    "    randomcv.fit(xTrainTS,yTrainTS);\n",
    "    print(randomcv.best_params_)\n",
    "    print(randomcv.best_score_)\n",
    "    return randomcv"
   ]
  },
  {
   "cell_type": "code",
   "execution_count": 353,
   "metadata": {},
   "outputs": [
    {
     "name": "stdout",
     "output_type": "stream",
     "text": [
      "{'min_samples_leaf': 4, 'max_depth': 14, 'criterion': 'entropy', 'ccp_alpha': 0.0}\n",
      "0.8505499444935614\n"
     ]
    },
    {
     "data": {
      "text/html": [
       "<style>#sk-container-id-2 {color: black;}#sk-container-id-2 pre{padding: 0;}#sk-container-id-2 div.sk-toggleable {background-color: white;}#sk-container-id-2 label.sk-toggleable__label {cursor: pointer;display: block;width: 100%;margin-bottom: 0;padding: 0.3em;box-sizing: border-box;text-align: center;}#sk-container-id-2 label.sk-toggleable__label-arrow:before {content: \"▸\";float: left;margin-right: 0.25em;color: #696969;}#sk-container-id-2 label.sk-toggleable__label-arrow:hover:before {color: black;}#sk-container-id-2 div.sk-estimator:hover label.sk-toggleable__label-arrow:before {color: black;}#sk-container-id-2 div.sk-toggleable__content {max-height: 0;max-width: 0;overflow: hidden;text-align: left;background-color: #f0f8ff;}#sk-container-id-2 div.sk-toggleable__content pre {margin: 0.2em;color: black;border-radius: 0.25em;background-color: #f0f8ff;}#sk-container-id-2 input.sk-toggleable__control:checked~div.sk-toggleable__content {max-height: 200px;max-width: 100%;overflow: auto;}#sk-container-id-2 input.sk-toggleable__control:checked~label.sk-toggleable__label-arrow:before {content: \"▾\";}#sk-container-id-2 div.sk-estimator input.sk-toggleable__control:checked~label.sk-toggleable__label {background-color: #d4ebff;}#sk-container-id-2 div.sk-label input.sk-toggleable__control:checked~label.sk-toggleable__label {background-color: #d4ebff;}#sk-container-id-2 input.sk-hidden--visually {border: 0;clip: rect(1px 1px 1px 1px);clip: rect(1px, 1px, 1px, 1px);height: 1px;margin: -1px;overflow: hidden;padding: 0;position: absolute;width: 1px;}#sk-container-id-2 div.sk-estimator {font-family: monospace;background-color: #f0f8ff;border: 1px dotted black;border-radius: 0.25em;box-sizing: border-box;margin-bottom: 0.5em;}#sk-container-id-2 div.sk-estimator:hover {background-color: #d4ebff;}#sk-container-id-2 div.sk-parallel-item::after {content: \"\";width: 100%;border-bottom: 1px solid gray;flex-grow: 1;}#sk-container-id-2 div.sk-label:hover label.sk-toggleable__label {background-color: #d4ebff;}#sk-container-id-2 div.sk-serial::before {content: \"\";position: absolute;border-left: 1px solid gray;box-sizing: border-box;top: 0;bottom: 0;left: 50%;z-index: 0;}#sk-container-id-2 div.sk-serial {display: flex;flex-direction: column;align-items: center;background-color: white;padding-right: 0.2em;padding-left: 0.2em;position: relative;}#sk-container-id-2 div.sk-item {position: relative;z-index: 1;}#sk-container-id-2 div.sk-parallel {display: flex;align-items: stretch;justify-content: center;background-color: white;position: relative;}#sk-container-id-2 div.sk-item::before, #sk-container-id-2 div.sk-parallel-item::before {content: \"\";position: absolute;border-left: 1px solid gray;box-sizing: border-box;top: 0;bottom: 0;left: 50%;z-index: -1;}#sk-container-id-2 div.sk-parallel-item {display: flex;flex-direction: column;z-index: 1;position: relative;background-color: white;}#sk-container-id-2 div.sk-parallel-item:first-child::after {align-self: flex-end;width: 50%;}#sk-container-id-2 div.sk-parallel-item:last-child::after {align-self: flex-start;width: 50%;}#sk-container-id-2 div.sk-parallel-item:only-child::after {width: 0;}#sk-container-id-2 div.sk-dashed-wrapped {border: 1px dashed gray;margin: 0 0.4em 0.5em 0.4em;box-sizing: border-box;padding-bottom: 0.4em;background-color: white;}#sk-container-id-2 div.sk-label label {font-family: monospace;font-weight: bold;display: inline-block;line-height: 1.2em;}#sk-container-id-2 div.sk-label-container {text-align: center;}#sk-container-id-2 div.sk-container {/* jupyter's `normalize.less` sets `[hidden] { display: none; }` but bootstrap.min.css set `[hidden] { display: none !important; }` so we also need the `!important` here to be able to override the default hidden behavior on the sphinx rendered scikit-learn.org. See: https://github.com/scikit-learn/scikit-learn/issues/21755 */display: inline-block !important;position: relative;}#sk-container-id-2 div.sk-text-repr-fallback {display: none;}</style><div id=\"sk-container-id-2\" class=\"sk-top-container\"><div class=\"sk-text-repr-fallback\"><pre>RandomizedSearchCV(cv=StratifiedKFold(n_splits=5, random_state=None, shuffle=False),\n",
       "                   estimator=DecisionTreeClassifier(), n_iter=60,\n",
       "                   param_distributions={&#x27;ccp_alpha&#x27;: array([0.        , 0.00084746, 0.00169492, 0.00254237, 0.00338983,\n",
       "       0.00423729, 0.00508475, 0.0059322 , 0.00677966, 0.00762712,\n",
       "       0.00847458, 0.00932203, 0.01016949, 0.01101695, 0.01186441,\n",
       "       0.01271186, 0.01355932, 0.014...\n",
       "       0.03813559, 0.03898305, 0.03983051, 0.04067797, 0.04152542,\n",
       "       0.04237288, 0.04322034, 0.0440678 , 0.04491525, 0.04576271,\n",
       "       0.04661017, 0.04745763, 0.04830508, 0.04915254, 0.05      ]),\n",
       "                                        &#x27;criterion&#x27;: [&#x27;gini&#x27;, &#x27;entropy&#x27;],\n",
       "                                        &#x27;max_depth&#x27;: [1, 2, 3, 4, 5, 6, 7, 8, 9,\n",
       "                                                      10, 11, 12, 13, 14, 15,\n",
       "                                                      16, 17, 18, 19],\n",
       "                                        &#x27;min_samples_leaf&#x27;: [1, 2, 3, 4, 5, 6,\n",
       "                                                             7, 8, 9, 10, 11,\n",
       "                                                             12, 13, 14, 15, 16,\n",
       "                                                             17, 18, 19]},\n",
       "                   random_state=200, scoring=make_scorer(f1_score))</pre><b>In a Jupyter environment, please rerun this cell to show the HTML representation or trust the notebook. <br />On GitHub, the HTML representation is unable to render, please try loading this page with nbviewer.org.</b></div><div class=\"sk-container\" hidden><div class=\"sk-item sk-dashed-wrapped\"><div class=\"sk-label-container\"><div class=\"sk-label sk-toggleable\"><input class=\"sk-toggleable__control sk-hidden--visually\" id=\"sk-estimator-id-4\" type=\"checkbox\" ><label for=\"sk-estimator-id-4\" class=\"sk-toggleable__label sk-toggleable__label-arrow\">RandomizedSearchCV</label><div class=\"sk-toggleable__content\"><pre>RandomizedSearchCV(cv=StratifiedKFold(n_splits=5, random_state=None, shuffle=False),\n",
       "                   estimator=DecisionTreeClassifier(), n_iter=60,\n",
       "                   param_distributions={&#x27;ccp_alpha&#x27;: array([0.        , 0.00084746, 0.00169492, 0.00254237, 0.00338983,\n",
       "       0.00423729, 0.00508475, 0.0059322 , 0.00677966, 0.00762712,\n",
       "       0.00847458, 0.00932203, 0.01016949, 0.01101695, 0.01186441,\n",
       "       0.01271186, 0.01355932, 0.014...\n",
       "       0.03813559, 0.03898305, 0.03983051, 0.04067797, 0.04152542,\n",
       "       0.04237288, 0.04322034, 0.0440678 , 0.04491525, 0.04576271,\n",
       "       0.04661017, 0.04745763, 0.04830508, 0.04915254, 0.05      ]),\n",
       "                                        &#x27;criterion&#x27;: [&#x27;gini&#x27;, &#x27;entropy&#x27;],\n",
       "                                        &#x27;max_depth&#x27;: [1, 2, 3, 4, 5, 6, 7, 8, 9,\n",
       "                                                      10, 11, 12, 13, 14, 15,\n",
       "                                                      16, 17, 18, 19],\n",
       "                                        &#x27;min_samples_leaf&#x27;: [1, 2, 3, 4, 5, 6,\n",
       "                                                             7, 8, 9, 10, 11,\n",
       "                                                             12, 13, 14, 15, 16,\n",
       "                                                             17, 18, 19]},\n",
       "                   random_state=200, scoring=make_scorer(f1_score))</pre></div></div></div><div class=\"sk-parallel\"><div class=\"sk-parallel-item\"><div class=\"sk-item\"><div class=\"sk-label-container\"><div class=\"sk-label sk-toggleable\"><input class=\"sk-toggleable__control sk-hidden--visually\" id=\"sk-estimator-id-5\" type=\"checkbox\" ><label for=\"sk-estimator-id-5\" class=\"sk-toggleable__label sk-toggleable__label-arrow\">estimator: DecisionTreeClassifier</label><div class=\"sk-toggleable__content\"><pre>DecisionTreeClassifier()</pre></div></div></div><div class=\"sk-serial\"><div class=\"sk-item\"><div class=\"sk-estimator sk-toggleable\"><input class=\"sk-toggleable__control sk-hidden--visually\" id=\"sk-estimator-id-6\" type=\"checkbox\" ><label for=\"sk-estimator-id-6\" class=\"sk-toggleable__label sk-toggleable__label-arrow\">DecisionTreeClassifier</label><div class=\"sk-toggleable__content\"><pre>DecisionTreeClassifier()</pre></div></div></div></div></div></div></div></div></div></div>"
      ],
      "text/plain": [
       "RandomizedSearchCV(cv=StratifiedKFold(n_splits=5, random_state=None, shuffle=False),\n",
       "                   estimator=DecisionTreeClassifier(), n_iter=60,\n",
       "                   param_distributions={'ccp_alpha': array([0.        , 0.00084746, 0.00169492, 0.00254237, 0.00338983,\n",
       "       0.00423729, 0.00508475, 0.0059322 , 0.00677966, 0.00762712,\n",
       "       0.00847458, 0.00932203, 0.01016949, 0.01101695, 0.01186441,\n",
       "       0.01271186, 0.01355932, 0.014...\n",
       "       0.03813559, 0.03898305, 0.03983051, 0.04067797, 0.04152542,\n",
       "       0.04237288, 0.04322034, 0.0440678 , 0.04491525, 0.04576271,\n",
       "       0.04661017, 0.04745763, 0.04830508, 0.04915254, 0.05      ]),\n",
       "                                        'criterion': ['gini', 'entropy'],\n",
       "                                        'max_depth': [1, 2, 3, 4, 5, 6, 7, 8, 9,\n",
       "                                                      10, 11, 12, 13, 14, 15,\n",
       "                                                      16, 17, 18, 19],\n",
       "                                        'min_samples_leaf': [1, 2, 3, 4, 5, 6,\n",
       "                                                             7, 8, 9, 10, 11,\n",
       "                                                             12, 13, 14, 15, 16,\n",
       "                                                             17, 18, 19]},\n",
       "                   random_state=200, scoring=make_scorer(f1_score))"
      ]
     },
     "execution_count": 353,
     "metadata": {},
     "output_type": "execute_result"
    }
   ],
   "source": [
    "CV_random_search_f1_score_optimizer(60, 5, 20 ,20)"
   ]
  },
  {
   "cell_type": "markdown",
   "metadata": {},
   "source": [
    "Generamos iterativamente combinacion de los 4 parametros (numero de iteraciones, nFolds, maxDepth y minSamplesLeaf) para ver como se comporta random search y con que parametros se llega a un score interesante"
   ]
  },
  {
   "cell_type": "code",
   "execution_count": 354,
   "metadata": {},
   "outputs": [
    {
     "name": "stdout",
     "output_type": "stream",
     "text": [
      "20 3 10 10\n",
      "{'min_samples_leaf': 2, 'max_depth': 7, 'criterion': 'entropy', 'ccp_alpha': 0.010526315789473684}\n",
      "0.8022033575996788\n",
      "20 3 10 20\n",
      "{'min_samples_leaf': 6, 'max_depth': 6, 'criterion': 'gini', 'ccp_alpha': 0.005263157894736842}\n",
      "0.8008372016204174\n",
      "20 3 10 30\n",
      "{'min_samples_leaf': 21, 'max_depth': 9, 'criterion': 'gini', 'ccp_alpha': 0.007894736842105263}\n",
      "0.7987502455386517\n",
      "20 3 10 40\n",
      "{'min_samples_leaf': 6, 'max_depth': 6, 'criterion': 'gini', 'ccp_alpha': 0.002631578947368421}\n",
      "0.799568731791442\n",
      "20 3 20 10\n",
      "{'min_samples_leaf': 2, 'max_depth': 12, 'criterion': 'gini', 'ccp_alpha': 0.005263157894736842}\n",
      "0.8008372016204174\n",
      "20 3 20 20\n",
      "{'min_samples_leaf': 10, 'max_depth': 10, 'criterion': 'gini', 'ccp_alpha': 0.002631578947368421}\n",
      "0.8032359027525309\n",
      "20 3 20 30\n",
      "{'min_samples_leaf': 2, 'max_depth': 9, 'criterion': 'entropy', 'ccp_alpha': 0.0}\n",
      "0.815294127210228\n",
      "20 3 20 40\n",
      "{'min_samples_leaf': 25, 'max_depth': 9, 'criterion': 'gini', 'ccp_alpha': 0.002631578947368421}\n",
      "0.8032359027525309\n",
      "20 3 30 10\n",
      "{'min_samples_leaf': 3, 'max_depth': 14, 'criterion': 'entropy', 'ccp_alpha': 0.002631578947368421}\n",
      "0.8175304151338009\n",
      "20 3 30 20\n",
      "{'min_samples_leaf': 6, 'max_depth': 13, 'criterion': 'entropy', 'ccp_alpha': 0.0}\n",
      "0.8458292090866011\n",
      "20 3 30 30\n",
      "{'min_samples_leaf': 2, 'max_depth': 28, 'criterion': 'gini', 'ccp_alpha': 0.0}\n",
      "0.8322989628091649\n",
      "20 3 30 40\n",
      "{'min_samples_leaf': 25, 'max_depth': 18, 'criterion': 'entropy', 'ccp_alpha': 0.0}\n",
      "0.8470372869616772\n",
      "20 3 40 10\n",
      "{'min_samples_leaf': 2, 'max_depth': 10, 'criterion': 'gini', 'ccp_alpha': 0.002631578947368421}\n",
      "0.8032359027525309\n",
      "20 3 40 20\n",
      "{'min_samples_leaf': 14, 'max_depth': 18, 'criterion': 'gini', 'ccp_alpha': 0.002631578947368421}\n",
      "0.8032359027525309\n",
      "20 3 40 30\n",
      "{'min_samples_leaf': 21, 'max_depth': 24, 'criterion': 'entropy', 'ccp_alpha': 0.0}\n",
      "0.8436987695280895\n",
      "20 3 40 40\n",
      "{'min_samples_leaf': 5, 'max_depth': 21, 'criterion': 'gini', 'ccp_alpha': 0.0}\n",
      "0.8390082877846204\n",
      "20 6 10 10\n",
      "{'min_samples_leaf': 2, 'max_depth': 7, 'criterion': 'entropy', 'ccp_alpha': 0.010526315789473684}\n",
      "0.8030608812632454\n",
      "20 6 10 20\n",
      "{'min_samples_leaf': 6, 'max_depth': 6, 'criterion': 'gini', 'ccp_alpha': 0.005263157894736842}\n",
      "0.8000554768633695\n",
      "20 6 10 30\n",
      "{'min_samples_leaf': 8, 'max_depth': 6, 'criterion': 'entropy', 'ccp_alpha': 0.02631578947368421}\n",
      "0.7975782570785217\n",
      "20 6 10 40\n",
      "{'min_samples_leaf': 6, 'max_depth': 6, 'criterion': 'gini', 'ccp_alpha': 0.002631578947368421}\n",
      "0.7986277570823953\n",
      "20 6 20 10\n",
      "{'min_samples_leaf': 2, 'max_depth': 12, 'criterion': 'gini', 'ccp_alpha': 0.005263157894736842}\n",
      "0.8000554768633695\n",
      "20 6 20 20\n",
      "{'min_samples_leaf': 10, 'max_depth': 10, 'criterion': 'gini', 'ccp_alpha': 0.002631578947368421}\n",
      "0.8011009032248665\n",
      "20 6 20 30\n",
      "{'min_samples_leaf': 2, 'max_depth': 9, 'criterion': 'entropy', 'ccp_alpha': 0.0}\n",
      "0.8169573992352483\n",
      "20 6 20 40\n",
      "{'min_samples_leaf': 35, 'max_depth': 14, 'criterion': 'entropy', 'ccp_alpha': 0.010526315789473684}\n",
      "0.8030608812632454\n",
      "20 6 30 10\n",
      "{'min_samples_leaf': 3, 'max_depth': 14, 'criterion': 'entropy', 'ccp_alpha': 0.002631578947368421}\n",
      "0.8261156946151148\n",
      "20 6 30 20\n",
      "{'min_samples_leaf': 6, 'max_depth': 13, 'criterion': 'entropy', 'ccp_alpha': 0.0}\n",
      "0.8501065934423274\n",
      "20 6 30 30\n",
      "{'min_samples_leaf': 2, 'max_depth': 28, 'criterion': 'gini', 'ccp_alpha': 0.0}\n",
      "0.8385910061422766\n",
      "20 6 30 40\n",
      "{'min_samples_leaf': 25, 'max_depth': 18, 'criterion': 'entropy', 'ccp_alpha': 0.0}\n",
      "0.8490368186970971\n",
      "20 6 40 10\n",
      "{'min_samples_leaf': 1, 'max_depth': 8, 'criterion': 'entropy', 'ccp_alpha': 0.005263157894736842}\n",
      "0.8030608812632454\n",
      "20 6 40 20\n",
      "{'min_samples_leaf': 10, 'max_depth': 29, 'criterion': 'entropy', 'ccp_alpha': 0.010526315789473684}\n",
      "0.8030608812632454\n",
      "20 6 40 30\n",
      "{'min_samples_leaf': 21, 'max_depth': 24, 'criterion': 'entropy', 'ccp_alpha': 0.0}\n",
      "0.8465295157283487\n",
      "20 6 40 40\n",
      "{'min_samples_leaf': 5, 'max_depth': 21, 'criterion': 'gini', 'ccp_alpha': 0.0}\n",
      "0.8452912458895327\n",
      "20 9 10 10\n",
      "{'min_samples_leaf': 2, 'max_depth': 7, 'criterion': 'entropy', 'ccp_alpha': 0.010526315789473684}\n",
      "0.8029700573066899\n",
      "20 9 10 20\n",
      "{'min_samples_leaf': 6, 'max_depth': 6, 'criterion': 'gini', 'ccp_alpha': 0.005263157894736842}\n",
      "0.8001801974869478\n",
      "20 9 10 30\n",
      "{'min_samples_leaf': 21, 'max_depth': 9, 'criterion': 'gini', 'ccp_alpha': 0.007894736842105263}\n",
      "0.798724907446192\n",
      "20 9 10 40\n",
      "{'min_samples_leaf': 6, 'max_depth': 6, 'criterion': 'gini', 'ccp_alpha': 0.002631578947368421}\n",
      "0.7988888131937533\n",
      "20 9 20 10\n",
      "{'min_samples_leaf': 2, 'max_depth': 12, 'criterion': 'gini', 'ccp_alpha': 0.005263157894736842}\n",
      "0.8001801974869478\n",
      "20 9 20 20\n",
      "{'min_samples_leaf': 10, 'max_depth': 10, 'criterion': 'gini', 'ccp_alpha': 0.002631578947368421}\n",
      "0.8015772555258379\n",
      "20 9 20 30\n",
      "{'min_samples_leaf': 2, 'max_depth': 9, 'criterion': 'entropy', 'ccp_alpha': 0.0}\n",
      "0.8197853778664643\n",
      "20 9 20 40\n",
      "{'min_samples_leaf': 35, 'max_depth': 14, 'criterion': 'entropy', 'ccp_alpha': 0.010526315789473684}\n",
      "0.8029700573066899\n",
      "20 9 30 10\n",
      "{'min_samples_leaf': 3, 'max_depth': 14, 'criterion': 'entropy', 'ccp_alpha': 0.002631578947368421}\n",
      "0.8259200314502295\n",
      "20 9 30 20\n",
      "{'min_samples_leaf': 6, 'max_depth': 13, 'criterion': 'entropy', 'ccp_alpha': 0.0}\n",
      "0.8490078533323321\n",
      "20 9 30 30\n",
      "{'min_samples_leaf': 2, 'max_depth': 28, 'criterion': 'gini', 'ccp_alpha': 0.0}\n",
      "0.8395956174279451\n",
      "20 9 30 40\n",
      "{'min_samples_leaf': 25, 'max_depth': 18, 'criterion': 'entropy', 'ccp_alpha': 0.0}\n",
      "0.8497592731940264\n",
      "20 9 40 10\n",
      "{'min_samples_leaf': 1, 'max_depth': 8, 'criterion': 'entropy', 'ccp_alpha': 0.005263157894736842}\n",
      "0.8029700573066899\n",
      "20 9 40 20\n",
      "{'min_samples_leaf': 10, 'max_depth': 29, 'criterion': 'entropy', 'ccp_alpha': 0.010526315789473684}\n",
      "0.8029700573066899\n",
      "20 9 40 30\n",
      "{'min_samples_leaf': 21, 'max_depth': 24, 'criterion': 'entropy', 'ccp_alpha': 0.0}\n",
      "0.8488312278696889\n",
      "20 9 40 40\n",
      "{'min_samples_leaf': 5, 'max_depth': 21, 'criterion': 'gini', 'ccp_alpha': 0.0}\n",
      "0.8473821252414707\n",
      "40 3 10 10\n",
      "{'min_samples_leaf': 7, 'max_depth': 9, 'criterion': 'entropy', 'ccp_alpha': 0.0}\n",
      "0.8150714119008348\n",
      "40 3 10 20\n",
      "{'min_samples_leaf': 14, 'max_depth': 6, 'criterion': 'gini', 'ccp_alpha': 0.00641025641025641}\n",
      "0.8008372016204174\n",
      "40 3 10 30\n",
      "{'min_samples_leaf': 21, 'max_depth': 9, 'criterion': 'gini', 'ccp_alpha': 0.0038461538461538464}\n",
      "0.8008372016204174\n",
      "40 3 10 40\n",
      "{'min_samples_leaf': 28, 'max_depth': 7, 'criterion': 'entropy', 'ccp_alpha': 0.008974358974358974}\n",
      "0.8022033575996788\n",
      "40 3 20 10\n",
      "{'min_samples_leaf': 2, 'max_depth': 12, 'criterion': 'gini', 'ccp_alpha': 0.002564102564102564}\n",
      "0.8088633852383079\n",
      "40 3 20 20\n",
      "{'min_samples_leaf': 16, 'max_depth': 19, 'criterion': 'entropy', 'ccp_alpha': 0.001282051282051282}\n",
      "0.8320239698537134\n",
      "40 3 20 30\n",
      "{'min_samples_leaf': 20, 'max_depth': 12, 'criterion': 'gini', 'ccp_alpha': 0.001282051282051282}\n",
      "0.8251053216337425\n",
      "40 3 20 40\n",
      "{'min_samples_leaf': 37, 'max_depth': 18, 'criterion': 'entropy', 'ccp_alpha': 0.0}\n",
      "0.8457639577315739\n",
      "40 3 30 10\n",
      "{'min_samples_leaf': 1, 'max_depth': 16, 'criterion': 'entropy', 'ccp_alpha': 0.002564102564102564}\n",
      "0.8271544980896152\n",
      "40 3 30 20\n",
      "{'min_samples_leaf': 6, 'max_depth': 13, 'criterion': 'entropy', 'ccp_alpha': 0.0}\n",
      "0.8456816969086934\n",
      "40 3 30 30\n",
      "{'min_samples_leaf': 20, 'max_depth': 21, 'criterion': 'entropy', 'ccp_alpha': 0.0}\n",
      "0.842101514520584\n",
      "40 3 30 40\n",
      "{'min_samples_leaf': 25, 'max_depth': 18, 'criterion': 'entropy', 'ccp_alpha': 0.0}\n",
      "0.8472053343198297\n",
      "40 3 40 10\n",
      "{'min_samples_leaf': 2, 'max_depth': 10, 'criterion': 'gini', 'ccp_alpha': 0.001282051282051282}\n",
      "0.8235725088328252\n",
      "40 3 40 20\n",
      "{'min_samples_leaf': 16, 'max_depth': 37, 'criterion': 'entropy', 'ccp_alpha': 0.0}\n",
      "0.8434026331353052\n",
      "40 3 40 30\n",
      "{'min_samples_leaf': 21, 'max_depth': 24, 'criterion': 'entropy', 'ccp_alpha': 0.0}\n",
      "0.8438790974458495\n",
      "40 3 40 40\n",
      "{'min_samples_leaf': 37, 'max_depth': 37, 'criterion': 'gini', 'ccp_alpha': 0.0}\n",
      "0.8422077379782351\n",
      "40 6 10 10\n",
      "{'min_samples_leaf': 7, 'max_depth': 9, 'criterion': 'entropy', 'ccp_alpha': 0.0}\n",
      "0.8167777032615083\n",
      "40 6 10 20\n",
      "{'min_samples_leaf': 14, 'max_depth': 6, 'criterion': 'gini', 'ccp_alpha': 0.00641025641025641}\n",
      "0.8000554768633695\n",
      "40 6 10 30\n",
      "{'min_samples_leaf': 21, 'max_depth': 9, 'criterion': 'gini', 'ccp_alpha': 0.0038461538461538464}\n",
      "0.8000554768633695\n",
      "40 6 10 40\n",
      "{'min_samples_leaf': 28, 'max_depth': 7, 'criterion': 'entropy', 'ccp_alpha': 0.008974358974358974}\n",
      "0.8030608812632454\n",
      "40 6 20 10\n",
      "{'min_samples_leaf': 9, 'max_depth': 12, 'criterion': 'entropy', 'ccp_alpha': 0.010256410256410256}\n",
      "0.8030608812632454\n",
      "40 6 20 20\n",
      "{'min_samples_leaf': 16, 'max_depth': 19, 'criterion': 'entropy', 'ccp_alpha': 0.001282051282051282}\n",
      "0.8319374232271635\n",
      "40 6 20 30\n",
      "{'min_samples_leaf': 20, 'max_depth': 12, 'criterion': 'gini', 'ccp_alpha': 0.001282051282051282}\n",
      "0.825311249694468\n",
      "40 6 20 40\n",
      "{'min_samples_leaf': 37, 'max_depth': 18, 'criterion': 'entropy', 'ccp_alpha': 0.0}\n",
      "0.8482118573352689\n",
      "40 6 30 10\n",
      "{'min_samples_leaf': 1, 'max_depth': 16, 'criterion': 'entropy', 'ccp_alpha': 0.002564102564102564}\n",
      "0.8263344001484048\n",
      "40 6 30 20\n",
      "{'min_samples_leaf': 6, 'max_depth': 13, 'criterion': 'entropy', 'ccp_alpha': 0.0}\n",
      "0.8496596439682512\n",
      "40 6 30 30\n",
      "{'min_samples_leaf': 20, 'max_depth': 21, 'criterion': 'entropy', 'ccp_alpha': 0.0}\n",
      "0.8481221234274875\n",
      "40 6 30 40\n",
      "{'min_samples_leaf': 25, 'max_depth': 18, 'criterion': 'entropy', 'ccp_alpha': 0.0}\n",
      "0.848998069266059\n",
      "40 6 40 10\n",
      "{'min_samples_leaf': 2, 'max_depth': 10, 'criterion': 'gini', 'ccp_alpha': 0.001282051282051282}\n",
      "0.8241754535203866\n",
      "40 6 40 20\n",
      "{'min_samples_leaf': 16, 'max_depth': 37, 'criterion': 'entropy', 'ccp_alpha': 0.0}\n",
      "0.84554083827569\n",
      "40 6 40 30\n",
      "{'min_samples_leaf': 21, 'max_depth': 24, 'criterion': 'entropy', 'ccp_alpha': 0.0}\n",
      "0.8462015185281963\n",
      "40 6 40 40\n",
      "{'min_samples_leaf': 37, 'max_depth': 37, 'criterion': 'gini', 'ccp_alpha': 0.0}\n",
      "0.8462969873972302\n",
      "40 9 10 10\n",
      "{'min_samples_leaf': 7, 'max_depth': 9, 'criterion': 'entropy', 'ccp_alpha': 0.0}\n",
      "0.8199383196099101\n",
      "40 9 10 20\n",
      "{'min_samples_leaf': 14, 'max_depth': 6, 'criterion': 'gini', 'ccp_alpha': 0.00641025641025641}\n",
      "0.8001801974869478\n",
      "40 9 10 30\n",
      "{'min_samples_leaf': 21, 'max_depth': 9, 'criterion': 'gini', 'ccp_alpha': 0.0038461538461538464}\n",
      "0.8001801974869478\n",
      "40 9 10 40\n",
      "{'min_samples_leaf': 28, 'max_depth': 7, 'criterion': 'entropy', 'ccp_alpha': 0.008974358974358974}\n",
      "0.8029700573066899\n",
      "40 9 20 10\n",
      "{'min_samples_leaf': 9, 'max_depth': 12, 'criterion': 'entropy', 'ccp_alpha': 0.010256410256410256}\n",
      "0.8029700573066899\n",
      "40 9 20 20\n",
      "{'min_samples_leaf': 16, 'max_depth': 19, 'criterion': 'entropy', 'ccp_alpha': 0.001282051282051282}\n",
      "0.8303540032679053\n",
      "40 9 20 30\n",
      "{'min_samples_leaf': 20, 'max_depth': 12, 'criterion': 'gini', 'ccp_alpha': 0.001282051282051282}\n",
      "0.8252301714004528\n",
      "40 9 20 40\n",
      "{'min_samples_leaf': 37, 'max_depth': 18, 'criterion': 'entropy', 'ccp_alpha': 0.0}\n",
      "0.8484000462034609\n",
      "40 9 30 10\n",
      "{'min_samples_leaf': 1, 'max_depth': 16, 'criterion': 'entropy', 'ccp_alpha': 0.002564102564102564}\n",
      "0.8259200314502295\n",
      "40 9 30 20\n",
      "{'min_samples_leaf': 6, 'max_depth': 13, 'criterion': 'entropy', 'ccp_alpha': 0.0}\n",
      "0.8489690921138461\n",
      "40 9 30 30\n",
      "{'min_samples_leaf': 20, 'max_depth': 21, 'criterion': 'entropy', 'ccp_alpha': 0.0}\n",
      "0.849774139007254\n",
      "40 9 30 40\n",
      "{'min_samples_leaf': 25, 'max_depth': 18, 'criterion': 'entropy', 'ccp_alpha': 0.0}\n",
      "0.8498192590877134\n",
      "40 9 40 10\n"
     ]
    },
    {
     "ename": "KeyboardInterrupt",
     "evalue": "",
     "output_type": "error",
     "traceback": [
      "\u001b[1;31m---------------------------------------------------------------------------\u001b[0m",
      "\u001b[1;31mKeyboardInterrupt\u001b[0m                         Traceback (most recent call last)",
      "\u001b[1;32mc:\\Users\\UNITEC\\TP1OrgaDeDatos\\7506R-2C2023-GRUPO07\\ModeloArbolDeDecisionMateo.ipynb Celda 88\u001b[0m line \u001b[0;36m6\n\u001b[0;32m      <a href='vscode-notebook-cell:/c%3A/Users/UNITEC/TP1OrgaDeDatos/7506R-2C2023-GRUPO07/ModeloArbolDeDecisionMateo.ipynb#Y105sZmlsZQ%3D%3D?line=3'>4</a>\u001b[0m \u001b[39mfor\u001b[39;00m minSamplesLeaf \u001b[39min\u001b[39;00m \u001b[39mrange\u001b[39m(\u001b[39m10\u001b[39m, \u001b[39m41\u001b[39m, \u001b[39m10\u001b[39m):\n\u001b[0;32m      <a href='vscode-notebook-cell:/c%3A/Users/UNITEC/TP1OrgaDeDatos/7506R-2C2023-GRUPO07/ModeloArbolDeDecisionMateo.ipynb#Y105sZmlsZQ%3D%3D?line=4'>5</a>\u001b[0m     \u001b[39mprint\u001b[39m(nIter, nFolds ,maxDepth ,minSamplesLeaf)\n\u001b[1;32m----> <a href='vscode-notebook-cell:/c%3A/Users/UNITEC/TP1OrgaDeDatos/7506R-2C2023-GRUPO07/ModeloArbolDeDecisionMateo.ipynb#Y105sZmlsZQ%3D%3D?line=5'>6</a>\u001b[0m     CV_random_search_f1_score_optimizer(nIter, nFolds ,maxDepth ,minSamplesLeaf)\n",
      "\u001b[1;32mc:\\Users\\UNITEC\\TP1OrgaDeDatos\\7506R-2C2023-GRUPO07\\ModeloArbolDeDecisionMateo.ipynb Celda 88\u001b[0m line \u001b[0;36m2\n\u001b[0;32m     <a href='vscode-notebook-cell:/c%3A/Users/UNITEC/TP1OrgaDeDatos/7506R-2C2023-GRUPO07/ModeloArbolDeDecisionMateo.ipynb#Y105sZmlsZQ%3D%3D?line=18'>19</a>\u001b[0m randomcv \u001b[39m=\u001b[39m RandomizedSearchCV(estimator\u001b[39m=\u001b[39mbase_tree,\n\u001b[0;32m     <a href='vscode-notebook-cell:/c%3A/Users/UNITEC/TP1OrgaDeDatos/7506R-2C2023-GRUPO07/ModeloArbolDeDecisionMateo.ipynb#Y105sZmlsZQ%3D%3D?line=19'>20</a>\u001b[0m                           param_distributions \u001b[39m=\u001b[39m params_grid,\n\u001b[0;32m     <a href='vscode-notebook-cell:/c%3A/Users/UNITEC/TP1OrgaDeDatos/7506R-2C2023-GRUPO07/ModeloArbolDeDecisionMateo.ipynb#Y105sZmlsZQ%3D%3D?line=20'>21</a>\u001b[0m                           scoring\u001b[39m=\u001b[39mscorer_fn,\n\u001b[0;32m     <a href='vscode-notebook-cell:/c%3A/Users/UNITEC/TP1OrgaDeDatos/7506R-2C2023-GRUPO07/ModeloArbolDeDecisionMateo.ipynb#Y105sZmlsZQ%3D%3D?line=21'>22</a>\u001b[0m                           cv\u001b[39m=\u001b[39mkfoldcv,\n\u001b[0;32m     <a href='vscode-notebook-cell:/c%3A/Users/UNITEC/TP1OrgaDeDatos/7506R-2C2023-GRUPO07/ModeloArbolDeDecisionMateo.ipynb#Y105sZmlsZQ%3D%3D?line=22'>23</a>\u001b[0m                           n_iter\u001b[39m=\u001b[39mnIter,\n\u001b[0;32m     <a href='vscode-notebook-cell:/c%3A/Users/UNITEC/TP1OrgaDeDatos/7506R-2C2023-GRUPO07/ModeloArbolDeDecisionMateo.ipynb#Y105sZmlsZQ%3D%3D?line=23'>24</a>\u001b[0m                           random_state\u001b[39m=\u001b[39m\u001b[39m200\u001b[39m)\n\u001b[0;32m     <a href='vscode-notebook-cell:/c%3A/Users/UNITEC/TP1OrgaDeDatos/7506R-2C2023-GRUPO07/ModeloArbolDeDecisionMateo.ipynb#Y105sZmlsZQ%3D%3D?line=25'>26</a>\u001b[0m \u001b[39m#Busco los hiperparamtros que optimizan F1 Score\u001b[39;00m\n\u001b[1;32m---> <a href='vscode-notebook-cell:/c%3A/Users/UNITEC/TP1OrgaDeDatos/7506R-2C2023-GRUPO07/ModeloArbolDeDecisionMateo.ipynb#Y105sZmlsZQ%3D%3D?line=26'>27</a>\u001b[0m randomcv\u001b[39m.\u001b[39;49mfit(xTrainTS,yTrainTS);\n\u001b[0;32m     <a href='vscode-notebook-cell:/c%3A/Users/UNITEC/TP1OrgaDeDatos/7506R-2C2023-GRUPO07/ModeloArbolDeDecisionMateo.ipynb#Y105sZmlsZQ%3D%3D?line=27'>28</a>\u001b[0m \u001b[39mprint\u001b[39m(randomcv\u001b[39m.\u001b[39mbest_params_)\n\u001b[0;32m     <a href='vscode-notebook-cell:/c%3A/Users/UNITEC/TP1OrgaDeDatos/7506R-2C2023-GRUPO07/ModeloArbolDeDecisionMateo.ipynb#Y105sZmlsZQ%3D%3D?line=28'>29</a>\u001b[0m \u001b[39mprint\u001b[39m(randomcv\u001b[39m.\u001b[39mbest_score_)\n",
      "File \u001b[1;32mc:\\Users\\UNITEC\\AppData\\Local\\Programs\\Python\\Python311\\Lib\\site-packages\\sklearn\\base.py:1152\u001b[0m, in \u001b[0;36m_fit_context.<locals>.decorator.<locals>.wrapper\u001b[1;34m(estimator, *args, **kwargs)\u001b[0m\n\u001b[0;32m   1145\u001b[0m     estimator\u001b[39m.\u001b[39m_validate_params()\n\u001b[0;32m   1147\u001b[0m \u001b[39mwith\u001b[39;00m config_context(\n\u001b[0;32m   1148\u001b[0m     skip_parameter_validation\u001b[39m=\u001b[39m(\n\u001b[0;32m   1149\u001b[0m         prefer_skip_nested_validation \u001b[39mor\u001b[39;00m global_skip_validation\n\u001b[0;32m   1150\u001b[0m     )\n\u001b[0;32m   1151\u001b[0m ):\n\u001b[1;32m-> 1152\u001b[0m     \u001b[39mreturn\u001b[39;00m fit_method(estimator, \u001b[39m*\u001b[39;49margs, \u001b[39m*\u001b[39;49m\u001b[39m*\u001b[39;49mkwargs)\n",
      "File \u001b[1;32mc:\\Users\\UNITEC\\AppData\\Local\\Programs\\Python\\Python311\\Lib\\site-packages\\sklearn\\model_selection\\_search.py:898\u001b[0m, in \u001b[0;36mBaseSearchCV.fit\u001b[1;34m(self, X, y, groups, **fit_params)\u001b[0m\n\u001b[0;32m    892\u001b[0m     results \u001b[39m=\u001b[39m \u001b[39mself\u001b[39m\u001b[39m.\u001b[39m_format_results(\n\u001b[0;32m    893\u001b[0m         all_candidate_params, n_splits, all_out, all_more_results\n\u001b[0;32m    894\u001b[0m     )\n\u001b[0;32m    896\u001b[0m     \u001b[39mreturn\u001b[39;00m results\n\u001b[1;32m--> 898\u001b[0m \u001b[39mself\u001b[39;49m\u001b[39m.\u001b[39;49m_run_search(evaluate_candidates)\n\u001b[0;32m    900\u001b[0m \u001b[39m# multimetric is determined here because in the case of a callable\u001b[39;00m\n\u001b[0;32m    901\u001b[0m \u001b[39m# self.scoring the return type is only known after calling\u001b[39;00m\n\u001b[0;32m    902\u001b[0m first_test_score \u001b[39m=\u001b[39m all_out[\u001b[39m0\u001b[39m][\u001b[39m\"\u001b[39m\u001b[39mtest_scores\u001b[39m\u001b[39m\"\u001b[39m]\n",
      "File \u001b[1;32mc:\\Users\\UNITEC\\AppData\\Local\\Programs\\Python\\Python311\\Lib\\site-packages\\sklearn\\model_selection\\_search.py:1809\u001b[0m, in \u001b[0;36mRandomizedSearchCV._run_search\u001b[1;34m(self, evaluate_candidates)\u001b[0m\n\u001b[0;32m   1807\u001b[0m \u001b[39mdef\u001b[39;00m \u001b[39m_run_search\u001b[39m(\u001b[39mself\u001b[39m, evaluate_candidates):\n\u001b[0;32m   1808\u001b[0m \u001b[39m    \u001b[39m\u001b[39m\"\"\"Search n_iter candidates from param_distributions\"\"\"\u001b[39;00m\n\u001b[1;32m-> 1809\u001b[0m     evaluate_candidates(\n\u001b[0;32m   1810\u001b[0m         ParameterSampler(\n\u001b[0;32m   1811\u001b[0m             \u001b[39mself\u001b[39;49m\u001b[39m.\u001b[39;49mparam_distributions, \u001b[39mself\u001b[39;49m\u001b[39m.\u001b[39;49mn_iter, random_state\u001b[39m=\u001b[39;49m\u001b[39mself\u001b[39;49m\u001b[39m.\u001b[39;49mrandom_state\n\u001b[0;32m   1812\u001b[0m         )\n\u001b[0;32m   1813\u001b[0m     )\n",
      "File \u001b[1;32mc:\\Users\\UNITEC\\AppData\\Local\\Programs\\Python\\Python311\\Lib\\site-packages\\sklearn\\model_selection\\_search.py:845\u001b[0m, in \u001b[0;36mBaseSearchCV.fit.<locals>.evaluate_candidates\u001b[1;34m(candidate_params, cv, more_results)\u001b[0m\n\u001b[0;32m    837\u001b[0m \u001b[39mif\u001b[39;00m \u001b[39mself\u001b[39m\u001b[39m.\u001b[39mverbose \u001b[39m>\u001b[39m \u001b[39m0\u001b[39m:\n\u001b[0;32m    838\u001b[0m     \u001b[39mprint\u001b[39m(\n\u001b[0;32m    839\u001b[0m         \u001b[39m\"\u001b[39m\u001b[39mFitting \u001b[39m\u001b[39m{0}\u001b[39;00m\u001b[39m folds for each of \u001b[39m\u001b[39m{1}\u001b[39;00m\u001b[39m candidates,\u001b[39m\u001b[39m\"\u001b[39m\n\u001b[0;32m    840\u001b[0m         \u001b[39m\"\u001b[39m\u001b[39m totalling \u001b[39m\u001b[39m{2}\u001b[39;00m\u001b[39m fits\u001b[39m\u001b[39m\"\u001b[39m\u001b[39m.\u001b[39mformat(\n\u001b[0;32m    841\u001b[0m             n_splits, n_candidates, n_candidates \u001b[39m*\u001b[39m n_splits\n\u001b[0;32m    842\u001b[0m         )\n\u001b[0;32m    843\u001b[0m     )\n\u001b[1;32m--> 845\u001b[0m out \u001b[39m=\u001b[39m parallel(\n\u001b[0;32m    846\u001b[0m     delayed(_fit_and_score)(\n\u001b[0;32m    847\u001b[0m         clone(base_estimator),\n\u001b[0;32m    848\u001b[0m         X,\n\u001b[0;32m    849\u001b[0m         y,\n\u001b[0;32m    850\u001b[0m         train\u001b[39m=\u001b[39;49mtrain,\n\u001b[0;32m    851\u001b[0m         test\u001b[39m=\u001b[39;49mtest,\n\u001b[0;32m    852\u001b[0m         parameters\u001b[39m=\u001b[39;49mparameters,\n\u001b[0;32m    853\u001b[0m         split_progress\u001b[39m=\u001b[39;49m(split_idx, n_splits),\n\u001b[0;32m    854\u001b[0m         candidate_progress\u001b[39m=\u001b[39;49m(cand_idx, n_candidates),\n\u001b[0;32m    855\u001b[0m         \u001b[39m*\u001b[39;49m\u001b[39m*\u001b[39;49mfit_and_score_kwargs,\n\u001b[0;32m    856\u001b[0m     )\n\u001b[0;32m    857\u001b[0m     \u001b[39mfor\u001b[39;49;00m (cand_idx, parameters), (split_idx, (train, test)) \u001b[39min\u001b[39;49;00m product(\n\u001b[0;32m    858\u001b[0m         \u001b[39menumerate\u001b[39;49m(candidate_params), \u001b[39menumerate\u001b[39;49m(cv\u001b[39m.\u001b[39;49msplit(X, y, groups))\n\u001b[0;32m    859\u001b[0m     )\n\u001b[0;32m    860\u001b[0m )\n\u001b[0;32m    862\u001b[0m \u001b[39mif\u001b[39;00m \u001b[39mlen\u001b[39m(out) \u001b[39m<\u001b[39m \u001b[39m1\u001b[39m:\n\u001b[0;32m    863\u001b[0m     \u001b[39mraise\u001b[39;00m \u001b[39mValueError\u001b[39;00m(\n\u001b[0;32m    864\u001b[0m         \u001b[39m\"\u001b[39m\u001b[39mNo fits were performed. \u001b[39m\u001b[39m\"\u001b[39m\n\u001b[0;32m    865\u001b[0m         \u001b[39m\"\u001b[39m\u001b[39mWas the CV iterator empty? \u001b[39m\u001b[39m\"\u001b[39m\n\u001b[0;32m    866\u001b[0m         \u001b[39m\"\u001b[39m\u001b[39mWere there no candidates?\u001b[39m\u001b[39m\"\u001b[39m\n\u001b[0;32m    867\u001b[0m     )\n",
      "File \u001b[1;32mc:\\Users\\UNITEC\\AppData\\Local\\Programs\\Python\\Python311\\Lib\\site-packages\\sklearn\\utils\\parallel.py:65\u001b[0m, in \u001b[0;36mParallel.__call__\u001b[1;34m(self, iterable)\u001b[0m\n\u001b[0;32m     60\u001b[0m config \u001b[39m=\u001b[39m get_config()\n\u001b[0;32m     61\u001b[0m iterable_with_config \u001b[39m=\u001b[39m (\n\u001b[0;32m     62\u001b[0m     (_with_config(delayed_func, config), args, kwargs)\n\u001b[0;32m     63\u001b[0m     \u001b[39mfor\u001b[39;00m delayed_func, args, kwargs \u001b[39min\u001b[39;00m iterable\n\u001b[0;32m     64\u001b[0m )\n\u001b[1;32m---> 65\u001b[0m \u001b[39mreturn\u001b[39;00m \u001b[39msuper\u001b[39;49m()\u001b[39m.\u001b[39;49m\u001b[39m__call__\u001b[39;49m(iterable_with_config)\n",
      "File \u001b[1;32mc:\\Users\\UNITEC\\AppData\\Local\\Programs\\Python\\Python311\\Lib\\site-packages\\joblib\\parallel.py:1863\u001b[0m, in \u001b[0;36mParallel.__call__\u001b[1;34m(self, iterable)\u001b[0m\n\u001b[0;32m   1861\u001b[0m     output \u001b[39m=\u001b[39m \u001b[39mself\u001b[39m\u001b[39m.\u001b[39m_get_sequential_output(iterable)\n\u001b[0;32m   1862\u001b[0m     \u001b[39mnext\u001b[39m(output)\n\u001b[1;32m-> 1863\u001b[0m     \u001b[39mreturn\u001b[39;00m output \u001b[39mif\u001b[39;00m \u001b[39mself\u001b[39m\u001b[39m.\u001b[39mreturn_generator \u001b[39melse\u001b[39;00m \u001b[39mlist\u001b[39m(output)\n\u001b[0;32m   1865\u001b[0m \u001b[39m# Let's create an ID that uniquely identifies the current call. If the\u001b[39;00m\n\u001b[0;32m   1866\u001b[0m \u001b[39m# call is interrupted early and that the same instance is immediately\u001b[39;00m\n\u001b[0;32m   1867\u001b[0m \u001b[39m# re-used, this id will be used to prevent workers that were\u001b[39;00m\n\u001b[0;32m   1868\u001b[0m \u001b[39m# concurrently finalizing a task from the previous call to run the\u001b[39;00m\n\u001b[0;32m   1869\u001b[0m \u001b[39m# callback.\u001b[39;00m\n\u001b[0;32m   1870\u001b[0m \u001b[39mwith\u001b[39;00m \u001b[39mself\u001b[39m\u001b[39m.\u001b[39m_lock:\n",
      "File \u001b[1;32mc:\\Users\\UNITEC\\AppData\\Local\\Programs\\Python\\Python311\\Lib\\site-packages\\joblib\\parallel.py:1792\u001b[0m, in \u001b[0;36mParallel._get_sequential_output\u001b[1;34m(self, iterable)\u001b[0m\n\u001b[0;32m   1790\u001b[0m \u001b[39mself\u001b[39m\u001b[39m.\u001b[39mn_dispatched_batches \u001b[39m+\u001b[39m\u001b[39m=\u001b[39m \u001b[39m1\u001b[39m\n\u001b[0;32m   1791\u001b[0m \u001b[39mself\u001b[39m\u001b[39m.\u001b[39mn_dispatched_tasks \u001b[39m+\u001b[39m\u001b[39m=\u001b[39m \u001b[39m1\u001b[39m\n\u001b[1;32m-> 1792\u001b[0m res \u001b[39m=\u001b[39m func(\u001b[39m*\u001b[39;49margs, \u001b[39m*\u001b[39;49m\u001b[39m*\u001b[39;49mkwargs)\n\u001b[0;32m   1793\u001b[0m \u001b[39mself\u001b[39m\u001b[39m.\u001b[39mn_completed_tasks \u001b[39m+\u001b[39m\u001b[39m=\u001b[39m \u001b[39m1\u001b[39m\n\u001b[0;32m   1794\u001b[0m \u001b[39mself\u001b[39m\u001b[39m.\u001b[39mprint_progress()\n",
      "File \u001b[1;32mc:\\Users\\UNITEC\\AppData\\Local\\Programs\\Python\\Python311\\Lib\\site-packages\\sklearn\\utils\\parallel.py:127\u001b[0m, in \u001b[0;36m_FuncWrapper.__call__\u001b[1;34m(self, *args, **kwargs)\u001b[0m\n\u001b[0;32m    125\u001b[0m     config \u001b[39m=\u001b[39m {}\n\u001b[0;32m    126\u001b[0m \u001b[39mwith\u001b[39;00m config_context(\u001b[39m*\u001b[39m\u001b[39m*\u001b[39mconfig):\n\u001b[1;32m--> 127\u001b[0m     \u001b[39mreturn\u001b[39;00m \u001b[39mself\u001b[39;49m\u001b[39m.\u001b[39;49mfunction(\u001b[39m*\u001b[39;49margs, \u001b[39m*\u001b[39;49m\u001b[39m*\u001b[39;49mkwargs)\n",
      "File \u001b[1;32mc:\\Users\\UNITEC\\AppData\\Local\\Programs\\Python\\Python311\\Lib\\site-packages\\sklearn\\model_selection\\_validation.py:729\u001b[0m, in \u001b[0;36m_fit_and_score\u001b[1;34m(estimator, X, y, scorer, train, test, verbose, parameters, fit_params, return_train_score, return_parameters, return_n_test_samples, return_times, return_estimator, split_progress, candidate_progress, error_score)\u001b[0m\n\u001b[0;32m    727\u001b[0m         estimator\u001b[39m.\u001b[39mfit(X_train, \u001b[39m*\u001b[39m\u001b[39m*\u001b[39mfit_params)\n\u001b[0;32m    728\u001b[0m     \u001b[39melse\u001b[39;00m:\n\u001b[1;32m--> 729\u001b[0m         estimator\u001b[39m.\u001b[39;49mfit(X_train, y_train, \u001b[39m*\u001b[39;49m\u001b[39m*\u001b[39;49mfit_params)\n\u001b[0;32m    731\u001b[0m \u001b[39mexcept\u001b[39;00m \u001b[39mException\u001b[39;00m:\n\u001b[0;32m    732\u001b[0m     \u001b[39m# Note fit time as time until error\u001b[39;00m\n\u001b[0;32m    733\u001b[0m     fit_time \u001b[39m=\u001b[39m time\u001b[39m.\u001b[39mtime() \u001b[39m-\u001b[39m start_time\n",
      "File \u001b[1;32mc:\\Users\\UNITEC\\AppData\\Local\\Programs\\Python\\Python311\\Lib\\site-packages\\sklearn\\base.py:1152\u001b[0m, in \u001b[0;36m_fit_context.<locals>.decorator.<locals>.wrapper\u001b[1;34m(estimator, *args, **kwargs)\u001b[0m\n\u001b[0;32m   1145\u001b[0m     estimator\u001b[39m.\u001b[39m_validate_params()\n\u001b[0;32m   1147\u001b[0m \u001b[39mwith\u001b[39;00m config_context(\n\u001b[0;32m   1148\u001b[0m     skip_parameter_validation\u001b[39m=\u001b[39m(\n\u001b[0;32m   1149\u001b[0m         prefer_skip_nested_validation \u001b[39mor\u001b[39;00m global_skip_validation\n\u001b[0;32m   1150\u001b[0m     )\n\u001b[0;32m   1151\u001b[0m ):\n\u001b[1;32m-> 1152\u001b[0m     \u001b[39mreturn\u001b[39;00m fit_method(estimator, \u001b[39m*\u001b[39;49margs, \u001b[39m*\u001b[39;49m\u001b[39m*\u001b[39;49mkwargs)\n",
      "File \u001b[1;32mc:\\Users\\UNITEC\\AppData\\Local\\Programs\\Python\\Python311\\Lib\\site-packages\\sklearn\\tree\\_classes.py:959\u001b[0m, in \u001b[0;36mDecisionTreeClassifier.fit\u001b[1;34m(self, X, y, sample_weight, check_input)\u001b[0m\n\u001b[0;32m    928\u001b[0m \u001b[39m@_fit_context\u001b[39m(prefer_skip_nested_validation\u001b[39m=\u001b[39m\u001b[39mTrue\u001b[39;00m)\n\u001b[0;32m    929\u001b[0m \u001b[39mdef\u001b[39;00m \u001b[39mfit\u001b[39m(\u001b[39mself\u001b[39m, X, y, sample_weight\u001b[39m=\u001b[39m\u001b[39mNone\u001b[39;00m, check_input\u001b[39m=\u001b[39m\u001b[39mTrue\u001b[39;00m):\n\u001b[0;32m    930\u001b[0m \u001b[39m    \u001b[39m\u001b[39m\"\"\"Build a decision tree classifier from the training set (X, y).\u001b[39;00m\n\u001b[0;32m    931\u001b[0m \n\u001b[0;32m    932\u001b[0m \u001b[39m    Parameters\u001b[39;00m\n\u001b[1;32m   (...)\u001b[0m\n\u001b[0;32m    956\u001b[0m \u001b[39m        Fitted estimator.\u001b[39;00m\n\u001b[0;32m    957\u001b[0m \u001b[39m    \"\"\"\u001b[39;00m\n\u001b[1;32m--> 959\u001b[0m     \u001b[39msuper\u001b[39;49m()\u001b[39m.\u001b[39;49m_fit(\n\u001b[0;32m    960\u001b[0m         X,\n\u001b[0;32m    961\u001b[0m         y,\n\u001b[0;32m    962\u001b[0m         sample_weight\u001b[39m=\u001b[39;49msample_weight,\n\u001b[0;32m    963\u001b[0m         check_input\u001b[39m=\u001b[39;49mcheck_input,\n\u001b[0;32m    964\u001b[0m     )\n\u001b[0;32m    965\u001b[0m     \u001b[39mreturn\u001b[39;00m \u001b[39mself\u001b[39m\n",
      "File \u001b[1;32mc:\\Users\\UNITEC\\AppData\\Local\\Programs\\Python\\Python311\\Lib\\site-packages\\sklearn\\tree\\_classes.py:443\u001b[0m, in \u001b[0;36mBaseDecisionTree._fit\u001b[1;34m(self, X, y, sample_weight, check_input, missing_values_in_feature_mask)\u001b[0m\n\u001b[0;32m    432\u001b[0m \u001b[39melse\u001b[39;00m:\n\u001b[0;32m    433\u001b[0m     builder \u001b[39m=\u001b[39m BestFirstTreeBuilder(\n\u001b[0;32m    434\u001b[0m         splitter,\n\u001b[0;32m    435\u001b[0m         min_samples_split,\n\u001b[1;32m   (...)\u001b[0m\n\u001b[0;32m    440\u001b[0m         \u001b[39mself\u001b[39m\u001b[39m.\u001b[39mmin_impurity_decrease,\n\u001b[0;32m    441\u001b[0m     )\n\u001b[1;32m--> 443\u001b[0m builder\u001b[39m.\u001b[39;49mbuild(\u001b[39mself\u001b[39;49m\u001b[39m.\u001b[39;49mtree_, X, y, sample_weight, missing_values_in_feature_mask)\n\u001b[0;32m    445\u001b[0m \u001b[39mif\u001b[39;00m \u001b[39mself\u001b[39m\u001b[39m.\u001b[39mn_outputs_ \u001b[39m==\u001b[39m \u001b[39m1\u001b[39m \u001b[39mand\u001b[39;00m is_classifier(\u001b[39mself\u001b[39m):\n\u001b[0;32m    446\u001b[0m     \u001b[39mself\u001b[39m\u001b[39m.\u001b[39mn_classes_ \u001b[39m=\u001b[39m \u001b[39mself\u001b[39m\u001b[39m.\u001b[39mn_classes_[\u001b[39m0\u001b[39m]\n",
      "\u001b[1;31mKeyboardInterrupt\u001b[0m: "
     ]
    }
   ],
   "source": [
    "#for nIter in range(20, 81, 20):\n",
    "    #for nFolds in range(3, 10, 3):\n",
    "        #for maxDepth in range(10, 41, 10):\n",
    "            #for minSamplesLeaf in range(10, 41, 10):\n",
    "                #print(nIter, nFolds ,maxDepth ,minSamplesLeaf)\n",
    "                #CV_random_search_f1_score_optimizer(nIter, nFolds ,maxDepth ,minSamplesLeaf)"
   ]
  },
  {
   "cell_type": "markdown",
   "metadata": {},
   "source": [
    "De toda esta cantidad de muestras podemos ver algunos parametros que tuvieron un score interesante, entre ellos esta por ejemplo:\n",
    "(40, 3 ,20, 20),\n",
    "(40, 3 ,30, 20)\n",
    "(40 ,3 ,30 ,30)\n",
    "(40, 6 ,20 ,20)"
   ]
  },
  {
   "cell_type": "code",
   "execution_count": 356,
   "metadata": {},
   "outputs": [
    {
     "name": "stdout",
     "output_type": "stream",
     "text": [
      "{'min_samples_leaf': 4, 'max_depth': 14, 'criterion': 'entropy', 'ccp_alpha': 0.0}\n",
      "0.8535742646658093\n"
     ]
    },
    {
     "data": {
      "text/html": [
       "<style>#sk-container-id-4 {color: black;}#sk-container-id-4 pre{padding: 0;}#sk-container-id-4 div.sk-toggleable {background-color: white;}#sk-container-id-4 label.sk-toggleable__label {cursor: pointer;display: block;width: 100%;margin-bottom: 0;padding: 0.3em;box-sizing: border-box;text-align: center;}#sk-container-id-4 label.sk-toggleable__label-arrow:before {content: \"▸\";float: left;margin-right: 0.25em;color: #696969;}#sk-container-id-4 label.sk-toggleable__label-arrow:hover:before {color: black;}#sk-container-id-4 div.sk-estimator:hover label.sk-toggleable__label-arrow:before {color: black;}#sk-container-id-4 div.sk-toggleable__content {max-height: 0;max-width: 0;overflow: hidden;text-align: left;background-color: #f0f8ff;}#sk-container-id-4 div.sk-toggleable__content pre {margin: 0.2em;color: black;border-radius: 0.25em;background-color: #f0f8ff;}#sk-container-id-4 input.sk-toggleable__control:checked~div.sk-toggleable__content {max-height: 200px;max-width: 100%;overflow: auto;}#sk-container-id-4 input.sk-toggleable__control:checked~label.sk-toggleable__label-arrow:before {content: \"▾\";}#sk-container-id-4 div.sk-estimator input.sk-toggleable__control:checked~label.sk-toggleable__label {background-color: #d4ebff;}#sk-container-id-4 div.sk-label input.sk-toggleable__control:checked~label.sk-toggleable__label {background-color: #d4ebff;}#sk-container-id-4 input.sk-hidden--visually {border: 0;clip: rect(1px 1px 1px 1px);clip: rect(1px, 1px, 1px, 1px);height: 1px;margin: -1px;overflow: hidden;padding: 0;position: absolute;width: 1px;}#sk-container-id-4 div.sk-estimator {font-family: monospace;background-color: #f0f8ff;border: 1px dotted black;border-radius: 0.25em;box-sizing: border-box;margin-bottom: 0.5em;}#sk-container-id-4 div.sk-estimator:hover {background-color: #d4ebff;}#sk-container-id-4 div.sk-parallel-item::after {content: \"\";width: 100%;border-bottom: 1px solid gray;flex-grow: 1;}#sk-container-id-4 div.sk-label:hover label.sk-toggleable__label {background-color: #d4ebff;}#sk-container-id-4 div.sk-serial::before {content: \"\";position: absolute;border-left: 1px solid gray;box-sizing: border-box;top: 0;bottom: 0;left: 50%;z-index: 0;}#sk-container-id-4 div.sk-serial {display: flex;flex-direction: column;align-items: center;background-color: white;padding-right: 0.2em;padding-left: 0.2em;position: relative;}#sk-container-id-4 div.sk-item {position: relative;z-index: 1;}#sk-container-id-4 div.sk-parallel {display: flex;align-items: stretch;justify-content: center;background-color: white;position: relative;}#sk-container-id-4 div.sk-item::before, #sk-container-id-4 div.sk-parallel-item::before {content: \"\";position: absolute;border-left: 1px solid gray;box-sizing: border-box;top: 0;bottom: 0;left: 50%;z-index: -1;}#sk-container-id-4 div.sk-parallel-item {display: flex;flex-direction: column;z-index: 1;position: relative;background-color: white;}#sk-container-id-4 div.sk-parallel-item:first-child::after {align-self: flex-end;width: 50%;}#sk-container-id-4 div.sk-parallel-item:last-child::after {align-self: flex-start;width: 50%;}#sk-container-id-4 div.sk-parallel-item:only-child::after {width: 0;}#sk-container-id-4 div.sk-dashed-wrapped {border: 1px dashed gray;margin: 0 0.4em 0.5em 0.4em;box-sizing: border-box;padding-bottom: 0.4em;background-color: white;}#sk-container-id-4 div.sk-label label {font-family: monospace;font-weight: bold;display: inline-block;line-height: 1.2em;}#sk-container-id-4 div.sk-label-container {text-align: center;}#sk-container-id-4 div.sk-container {/* jupyter's `normalize.less` sets `[hidden] { display: none; }` but bootstrap.min.css set `[hidden] { display: none !important; }` so we also need the `!important` here to be able to override the default hidden behavior on the sphinx rendered scikit-learn.org. See: https://github.com/scikit-learn/scikit-learn/issues/21755 */display: inline-block !important;position: relative;}#sk-container-id-4 div.sk-text-repr-fallback {display: none;}</style><div id=\"sk-container-id-4\" class=\"sk-top-container\"><div class=\"sk-text-repr-fallback\"><pre>RandomizedSearchCV(cv=StratifiedKFold(n_splits=6, random_state=None, shuffle=False),\n",
       "                   estimator=DecisionTreeClassifier(), n_iter=160,\n",
       "                   param_distributions={&#x27;ccp_alpha&#x27;: array([0.        , 0.00031447, 0.00062893, 0.0009434 , 0.00125786,\n",
       "       0.00157233, 0.00188679, 0.00220126, 0.00251572, 0.00283019,\n",
       "       0.00314465, 0.00345912, 0.00377358, 0.00408805, 0.00440252,\n",
       "       0.00471698, 0.00503145, 0.00...\n",
       "       0.04559748, 0.04591195, 0.04622642, 0.04654088, 0.04685535,\n",
       "       0.04716981, 0.04748428, 0.04779874, 0.04811321, 0.04842767,\n",
       "       0.04874214, 0.0490566 , 0.04937107, 0.04968553, 0.05      ]),\n",
       "                                        &#x27;criterion&#x27;: [&#x27;gini&#x27;, &#x27;entropy&#x27;],\n",
       "                                        &#x27;max_depth&#x27;: [1, 2, 3, 4, 5, 6, 7, 8, 9,\n",
       "                                                      10, 11, 12, 13, 14, 15,\n",
       "                                                      16, 17, 18, 19],\n",
       "                                        &#x27;min_samples_leaf&#x27;: [1, 2, 3, 4, 5, 6,\n",
       "                                                             7, 8, 9, 10, 11,\n",
       "                                                             12, 13, 14, 15, 16,\n",
       "                                                             17, 18, 19]},\n",
       "                   random_state=200, scoring=make_scorer(f1_score))</pre><b>In a Jupyter environment, please rerun this cell to show the HTML representation or trust the notebook. <br />On GitHub, the HTML representation is unable to render, please try loading this page with nbviewer.org.</b></div><div class=\"sk-container\" hidden><div class=\"sk-item sk-dashed-wrapped\"><div class=\"sk-label-container\"><div class=\"sk-label sk-toggleable\"><input class=\"sk-toggleable__control sk-hidden--visually\" id=\"sk-estimator-id-10\" type=\"checkbox\" ><label for=\"sk-estimator-id-10\" class=\"sk-toggleable__label sk-toggleable__label-arrow\">RandomizedSearchCV</label><div class=\"sk-toggleable__content\"><pre>RandomizedSearchCV(cv=StratifiedKFold(n_splits=6, random_state=None, shuffle=False),\n",
       "                   estimator=DecisionTreeClassifier(), n_iter=160,\n",
       "                   param_distributions={&#x27;ccp_alpha&#x27;: array([0.        , 0.00031447, 0.00062893, 0.0009434 , 0.00125786,\n",
       "       0.00157233, 0.00188679, 0.00220126, 0.00251572, 0.00283019,\n",
       "       0.00314465, 0.00345912, 0.00377358, 0.00408805, 0.00440252,\n",
       "       0.00471698, 0.00503145, 0.00...\n",
       "       0.04559748, 0.04591195, 0.04622642, 0.04654088, 0.04685535,\n",
       "       0.04716981, 0.04748428, 0.04779874, 0.04811321, 0.04842767,\n",
       "       0.04874214, 0.0490566 , 0.04937107, 0.04968553, 0.05      ]),\n",
       "                                        &#x27;criterion&#x27;: [&#x27;gini&#x27;, &#x27;entropy&#x27;],\n",
       "                                        &#x27;max_depth&#x27;: [1, 2, 3, 4, 5, 6, 7, 8, 9,\n",
       "                                                      10, 11, 12, 13, 14, 15,\n",
       "                                                      16, 17, 18, 19],\n",
       "                                        &#x27;min_samples_leaf&#x27;: [1, 2, 3, 4, 5, 6,\n",
       "                                                             7, 8, 9, 10, 11,\n",
       "                                                             12, 13, 14, 15, 16,\n",
       "                                                             17, 18, 19]},\n",
       "                   random_state=200, scoring=make_scorer(f1_score))</pre></div></div></div><div class=\"sk-parallel\"><div class=\"sk-parallel-item\"><div class=\"sk-item\"><div class=\"sk-label-container\"><div class=\"sk-label sk-toggleable\"><input class=\"sk-toggleable__control sk-hidden--visually\" id=\"sk-estimator-id-11\" type=\"checkbox\" ><label for=\"sk-estimator-id-11\" class=\"sk-toggleable__label sk-toggleable__label-arrow\">estimator: DecisionTreeClassifier</label><div class=\"sk-toggleable__content\"><pre>DecisionTreeClassifier()</pre></div></div></div><div class=\"sk-serial\"><div class=\"sk-item\"><div class=\"sk-estimator sk-toggleable\"><input class=\"sk-toggleable__control sk-hidden--visually\" id=\"sk-estimator-id-12\" type=\"checkbox\" ><label for=\"sk-estimator-id-12\" class=\"sk-toggleable__label sk-toggleable__label-arrow\">DecisionTreeClassifier</label><div class=\"sk-toggleable__content\"><pre>DecisionTreeClassifier()</pre></div></div></div></div></div></div></div></div></div></div>"
      ],
      "text/plain": [
       "RandomizedSearchCV(cv=StratifiedKFold(n_splits=6, random_state=None, shuffle=False),\n",
       "                   estimator=DecisionTreeClassifier(), n_iter=160,\n",
       "                   param_distributions={'ccp_alpha': array([0.        , 0.00031447, 0.00062893, 0.0009434 , 0.00125786,\n",
       "       0.00157233, 0.00188679, 0.00220126, 0.00251572, 0.00283019,\n",
       "       0.00314465, 0.00345912, 0.00377358, 0.00408805, 0.00440252,\n",
       "       0.00471698, 0.00503145, 0.00...\n",
       "       0.04559748, 0.04591195, 0.04622642, 0.04654088, 0.04685535,\n",
       "       0.04716981, 0.04748428, 0.04779874, 0.04811321, 0.04842767,\n",
       "       0.04874214, 0.0490566 , 0.04937107, 0.04968553, 0.05      ]),\n",
       "                                        'criterion': ['gini', 'entropy'],\n",
       "                                        'max_depth': [1, 2, 3, 4, 5, 6, 7, 8, 9,\n",
       "                                                      10, 11, 12, 13, 14, 15,\n",
       "                                                      16, 17, 18, 19],\n",
       "                                        'min_samples_leaf': [1, 2, 3, 4, 5, 6,\n",
       "                                                             7, 8, 9, 10, 11,\n",
       "                                                             12, 13, 14, 15, 16,\n",
       "                                                             17, 18, 19]},\n",
       "                   random_state=200, scoring=make_scorer(f1_score))"
      ]
     },
     "execution_count": 356,
     "metadata": {},
     "output_type": "execute_result"
    }
   ],
   "source": [
    "CV_random_search_f1_score_optimizer(160,6,20,20)"
   ]
  },
  {
   "cell_type": "code",
   "execution_count": null,
   "metadata": {},
   "outputs": [
    {
     "name": "stdout",
     "output_type": "stream",
     "text": [
      "{'min_samples_leaf': 16, 'max_depth': 19, 'criterion': 'entropy', 'ccp_alpha': 0.001282051282051282}\n",
      "0.8113223104239551\n"
     ]
    },
    {
     "data": {
      "text/html": [
       "<style>#sk-container-id-2 {color: black;}#sk-container-id-2 pre{padding: 0;}#sk-container-id-2 div.sk-toggleable {background-color: white;}#sk-container-id-2 label.sk-toggleable__label {cursor: pointer;display: block;width: 100%;margin-bottom: 0;padding: 0.3em;box-sizing: border-box;text-align: center;}#sk-container-id-2 label.sk-toggleable__label-arrow:before {content: \"▸\";float: left;margin-right: 0.25em;color: #696969;}#sk-container-id-2 label.sk-toggleable__label-arrow:hover:before {color: black;}#sk-container-id-2 div.sk-estimator:hover label.sk-toggleable__label-arrow:before {color: black;}#sk-container-id-2 div.sk-toggleable__content {max-height: 0;max-width: 0;overflow: hidden;text-align: left;background-color: #f0f8ff;}#sk-container-id-2 div.sk-toggleable__content pre {margin: 0.2em;color: black;border-radius: 0.25em;background-color: #f0f8ff;}#sk-container-id-2 input.sk-toggleable__control:checked~div.sk-toggleable__content {max-height: 200px;max-width: 100%;overflow: auto;}#sk-container-id-2 input.sk-toggleable__control:checked~label.sk-toggleable__label-arrow:before {content: \"▾\";}#sk-container-id-2 div.sk-estimator input.sk-toggleable__control:checked~label.sk-toggleable__label {background-color: #d4ebff;}#sk-container-id-2 div.sk-label input.sk-toggleable__control:checked~label.sk-toggleable__label {background-color: #d4ebff;}#sk-container-id-2 input.sk-hidden--visually {border: 0;clip: rect(1px 1px 1px 1px);clip: rect(1px, 1px, 1px, 1px);height: 1px;margin: -1px;overflow: hidden;padding: 0;position: absolute;width: 1px;}#sk-container-id-2 div.sk-estimator {font-family: monospace;background-color: #f0f8ff;border: 1px dotted black;border-radius: 0.25em;box-sizing: border-box;margin-bottom: 0.5em;}#sk-container-id-2 div.sk-estimator:hover {background-color: #d4ebff;}#sk-container-id-2 div.sk-parallel-item::after {content: \"\";width: 100%;border-bottom: 1px solid gray;flex-grow: 1;}#sk-container-id-2 div.sk-label:hover label.sk-toggleable__label {background-color: #d4ebff;}#sk-container-id-2 div.sk-serial::before {content: \"\";position: absolute;border-left: 1px solid gray;box-sizing: border-box;top: 0;bottom: 0;left: 50%;z-index: 0;}#sk-container-id-2 div.sk-serial {display: flex;flex-direction: column;align-items: center;background-color: white;padding-right: 0.2em;padding-left: 0.2em;position: relative;}#sk-container-id-2 div.sk-item {position: relative;z-index: 1;}#sk-container-id-2 div.sk-parallel {display: flex;align-items: stretch;justify-content: center;background-color: white;position: relative;}#sk-container-id-2 div.sk-item::before, #sk-container-id-2 div.sk-parallel-item::before {content: \"\";position: absolute;border-left: 1px solid gray;box-sizing: border-box;top: 0;bottom: 0;left: 50%;z-index: -1;}#sk-container-id-2 div.sk-parallel-item {display: flex;flex-direction: column;z-index: 1;position: relative;background-color: white;}#sk-container-id-2 div.sk-parallel-item:first-child::after {align-self: flex-end;width: 50%;}#sk-container-id-2 div.sk-parallel-item:last-child::after {align-self: flex-start;width: 50%;}#sk-container-id-2 div.sk-parallel-item:only-child::after {width: 0;}#sk-container-id-2 div.sk-dashed-wrapped {border: 1px dashed gray;margin: 0 0.4em 0.5em 0.4em;box-sizing: border-box;padding-bottom: 0.4em;background-color: white;}#sk-container-id-2 div.sk-label label {font-family: monospace;font-weight: bold;display: inline-block;line-height: 1.2em;}#sk-container-id-2 div.sk-label-container {text-align: center;}#sk-container-id-2 div.sk-container {/* jupyter's `normalize.less` sets `[hidden] { display: none; }` but bootstrap.min.css set `[hidden] { display: none !important; }` so we also need the `!important` here to be able to override the default hidden behavior on the sphinx rendered scikit-learn.org. See: https://github.com/scikit-learn/scikit-learn/issues/21755 */display: inline-block !important;position: relative;}#sk-container-id-2 div.sk-text-repr-fallback {display: none;}</style><div id=\"sk-container-id-2\" class=\"sk-top-container\"><div class=\"sk-text-repr-fallback\"><pre>RandomizedSearchCV(cv=StratifiedKFold(n_splits=9, random_state=None, shuffle=False),\n",
       "                   estimator=DecisionTreeClassifier(), n_iter=40,\n",
       "                   param_distributions={&#x27;ccp_alpha&#x27;: array([0.        , 0.00128205, 0.0025641 , 0.00384615, 0.00512821,\n",
       "       0.00641026, 0.00769231, 0.00897436, 0.01025641, 0.01153846,\n",
       "       0.01282051, 0.01410256, 0.01538462, 0.01666667, 0.01794872,\n",
       "       0.01923077, 0.02051282, 0.021...\n",
       "       0.03205128, 0.03333333, 0.03461538, 0.03589744, 0.03717949,\n",
       "       0.03846154, 0.03974359, 0.04102564, 0.04230769, 0.04358974,\n",
       "       0.04487179, 0.04615385, 0.0474359 , 0.04871795, 0.05      ]),\n",
       "                                        &#x27;criterion&#x27;: [&#x27;gini&#x27;, &#x27;entropy&#x27;],\n",
       "                                        &#x27;max_depth&#x27;: [1, 2, 3, 4, 5, 6, 7, 8, 9,\n",
       "                                                      10, 11, 12, 13, 14, 15,\n",
       "                                                      16, 17, 18, 19],\n",
       "                                        &#x27;min_samples_leaf&#x27;: [1, 2, 3, 4, 5, 6,\n",
       "                                                             7, 8, 9, 10, 11,\n",
       "                                                             12, 13, 14, 15, 16,\n",
       "                                                             17, 18, 19]},\n",
       "                   random_state=200, scoring=make_scorer(f1_score))</pre><b>In a Jupyter environment, please rerun this cell to show the HTML representation or trust the notebook. <br />On GitHub, the HTML representation is unable to render, please try loading this page with nbviewer.org.</b></div><div class=\"sk-container\" hidden><div class=\"sk-item sk-dashed-wrapped\"><div class=\"sk-label-container\"><div class=\"sk-label sk-toggleable\"><input class=\"sk-toggleable__control sk-hidden--visually\" id=\"sk-estimator-id-4\" type=\"checkbox\" ><label for=\"sk-estimator-id-4\" class=\"sk-toggleable__label sk-toggleable__label-arrow\">RandomizedSearchCV</label><div class=\"sk-toggleable__content\"><pre>RandomizedSearchCV(cv=StratifiedKFold(n_splits=9, random_state=None, shuffle=False),\n",
       "                   estimator=DecisionTreeClassifier(), n_iter=40,\n",
       "                   param_distributions={&#x27;ccp_alpha&#x27;: array([0.        , 0.00128205, 0.0025641 , 0.00384615, 0.00512821,\n",
       "       0.00641026, 0.00769231, 0.00897436, 0.01025641, 0.01153846,\n",
       "       0.01282051, 0.01410256, 0.01538462, 0.01666667, 0.01794872,\n",
       "       0.01923077, 0.02051282, 0.021...\n",
       "       0.03205128, 0.03333333, 0.03461538, 0.03589744, 0.03717949,\n",
       "       0.03846154, 0.03974359, 0.04102564, 0.04230769, 0.04358974,\n",
       "       0.04487179, 0.04615385, 0.0474359 , 0.04871795, 0.05      ]),\n",
       "                                        &#x27;criterion&#x27;: [&#x27;gini&#x27;, &#x27;entropy&#x27;],\n",
       "                                        &#x27;max_depth&#x27;: [1, 2, 3, 4, 5, 6, 7, 8, 9,\n",
       "                                                      10, 11, 12, 13, 14, 15,\n",
       "                                                      16, 17, 18, 19],\n",
       "                                        &#x27;min_samples_leaf&#x27;: [1, 2, 3, 4, 5, 6,\n",
       "                                                             7, 8, 9, 10, 11,\n",
       "                                                             12, 13, 14, 15, 16,\n",
       "                                                             17, 18, 19]},\n",
       "                   random_state=200, scoring=make_scorer(f1_score))</pre></div></div></div><div class=\"sk-parallel\"><div class=\"sk-parallel-item\"><div class=\"sk-item\"><div class=\"sk-label-container\"><div class=\"sk-label sk-toggleable\"><input class=\"sk-toggleable__control sk-hidden--visually\" id=\"sk-estimator-id-5\" type=\"checkbox\" ><label for=\"sk-estimator-id-5\" class=\"sk-toggleable__label sk-toggleable__label-arrow\">estimator: DecisionTreeClassifier</label><div class=\"sk-toggleable__content\"><pre>DecisionTreeClassifier()</pre></div></div></div><div class=\"sk-serial\"><div class=\"sk-item\"><div class=\"sk-estimator sk-toggleable\"><input class=\"sk-toggleable__control sk-hidden--visually\" id=\"sk-estimator-id-6\" type=\"checkbox\" ><label for=\"sk-estimator-id-6\" class=\"sk-toggleable__label sk-toggleable__label-arrow\">DecisionTreeClassifier</label><div class=\"sk-toggleable__content\"><pre>DecisionTreeClassifier()</pre></div></div></div></div></div></div></div></div></div></div>"
      ],
      "text/plain": [
       "RandomizedSearchCV(cv=StratifiedKFold(n_splits=9, random_state=None, shuffle=False),\n",
       "                   estimator=DecisionTreeClassifier(), n_iter=40,\n",
       "                   param_distributions={'ccp_alpha': array([0.        , 0.00128205, 0.0025641 , 0.00384615, 0.00512821,\n",
       "       0.00641026, 0.00769231, 0.00897436, 0.01025641, 0.01153846,\n",
       "       0.01282051, 0.01410256, 0.01538462, 0.01666667, 0.01794872,\n",
       "       0.01923077, 0.02051282, 0.021...\n",
       "       0.03205128, 0.03333333, 0.03461538, 0.03589744, 0.03717949,\n",
       "       0.03846154, 0.03974359, 0.04102564, 0.04230769, 0.04358974,\n",
       "       0.04487179, 0.04615385, 0.0474359 , 0.04871795, 0.05      ]),\n",
       "                                        'criterion': ['gini', 'entropy'],\n",
       "                                        'max_depth': [1, 2, 3, 4, 5, 6, 7, 8, 9,\n",
       "                                                      10, 11, 12, 13, 14, 15,\n",
       "                                                      16, 17, 18, 19],\n",
       "                                        'min_samples_leaf': [1, 2, 3, 4, 5, 6,\n",
       "                                                             7, 8, 9, 10, 11,\n",
       "                                                             12, 13, 14, 15, 16,\n",
       "                                                             17, 18, 19]},\n",
       "                   random_state=200, scoring=make_scorer(f1_score))"
      ]
     },
     "execution_count": 63,
     "metadata": {},
     "output_type": "execute_result"
    }
   ],
   "source": [
    "CV_random_search_f1_score_optimizer(40,9,20,20)"
   ]
  },
  {
   "cell_type": "markdown",
   "metadata": {},
   "source": [
    "## Prediccion y Evaluacion del modelo con mejores hiperparametros"
   ]
  },
  {
   "cell_type": "code",
   "execution_count": null,
   "metadata": {},
   "outputs": [
    {
     "name": "stdout",
     "output_type": "stream",
     "text": [
      "{'min_samples_leaf': 16, 'max_depth': 19, 'criterion': 'entropy', 'ccp_alpha': 0.001282051282051282}\n",
      "0.8114448079196098\n"
     ]
    },
    {
     "data": {
      "text/html": [
       "<style>#sk-container-id-3 {color: black;}#sk-container-id-3 pre{padding: 0;}#sk-container-id-3 div.sk-toggleable {background-color: white;}#sk-container-id-3 label.sk-toggleable__label {cursor: pointer;display: block;width: 100%;margin-bottom: 0;padding: 0.3em;box-sizing: border-box;text-align: center;}#sk-container-id-3 label.sk-toggleable__label-arrow:before {content: \"▸\";float: left;margin-right: 0.25em;color: #696969;}#sk-container-id-3 label.sk-toggleable__label-arrow:hover:before {color: black;}#sk-container-id-3 div.sk-estimator:hover label.sk-toggleable__label-arrow:before {color: black;}#sk-container-id-3 div.sk-toggleable__content {max-height: 0;max-width: 0;overflow: hidden;text-align: left;background-color: #f0f8ff;}#sk-container-id-3 div.sk-toggleable__content pre {margin: 0.2em;color: black;border-radius: 0.25em;background-color: #f0f8ff;}#sk-container-id-3 input.sk-toggleable__control:checked~div.sk-toggleable__content {max-height: 200px;max-width: 100%;overflow: auto;}#sk-container-id-3 input.sk-toggleable__control:checked~label.sk-toggleable__label-arrow:before {content: \"▾\";}#sk-container-id-3 div.sk-estimator input.sk-toggleable__control:checked~label.sk-toggleable__label {background-color: #d4ebff;}#sk-container-id-3 div.sk-label input.sk-toggleable__control:checked~label.sk-toggleable__label {background-color: #d4ebff;}#sk-container-id-3 input.sk-hidden--visually {border: 0;clip: rect(1px 1px 1px 1px);clip: rect(1px, 1px, 1px, 1px);height: 1px;margin: -1px;overflow: hidden;padding: 0;position: absolute;width: 1px;}#sk-container-id-3 div.sk-estimator {font-family: monospace;background-color: #f0f8ff;border: 1px dotted black;border-radius: 0.25em;box-sizing: border-box;margin-bottom: 0.5em;}#sk-container-id-3 div.sk-estimator:hover {background-color: #d4ebff;}#sk-container-id-3 div.sk-parallel-item::after {content: \"\";width: 100%;border-bottom: 1px solid gray;flex-grow: 1;}#sk-container-id-3 div.sk-label:hover label.sk-toggleable__label {background-color: #d4ebff;}#sk-container-id-3 div.sk-serial::before {content: \"\";position: absolute;border-left: 1px solid gray;box-sizing: border-box;top: 0;bottom: 0;left: 50%;z-index: 0;}#sk-container-id-3 div.sk-serial {display: flex;flex-direction: column;align-items: center;background-color: white;padding-right: 0.2em;padding-left: 0.2em;position: relative;}#sk-container-id-3 div.sk-item {position: relative;z-index: 1;}#sk-container-id-3 div.sk-parallel {display: flex;align-items: stretch;justify-content: center;background-color: white;position: relative;}#sk-container-id-3 div.sk-item::before, #sk-container-id-3 div.sk-parallel-item::before {content: \"\";position: absolute;border-left: 1px solid gray;box-sizing: border-box;top: 0;bottom: 0;left: 50%;z-index: -1;}#sk-container-id-3 div.sk-parallel-item {display: flex;flex-direction: column;z-index: 1;position: relative;background-color: white;}#sk-container-id-3 div.sk-parallel-item:first-child::after {align-self: flex-end;width: 50%;}#sk-container-id-3 div.sk-parallel-item:last-child::after {align-self: flex-start;width: 50%;}#sk-container-id-3 div.sk-parallel-item:only-child::after {width: 0;}#sk-container-id-3 div.sk-dashed-wrapped {border: 1px dashed gray;margin: 0 0.4em 0.5em 0.4em;box-sizing: border-box;padding-bottom: 0.4em;background-color: white;}#sk-container-id-3 div.sk-label label {font-family: monospace;font-weight: bold;display: inline-block;line-height: 1.2em;}#sk-container-id-3 div.sk-label-container {text-align: center;}#sk-container-id-3 div.sk-container {/* jupyter's `normalize.less` sets `[hidden] { display: none; }` but bootstrap.min.css set `[hidden] { display: none !important; }` so we also need the `!important` here to be able to override the default hidden behavior on the sphinx rendered scikit-learn.org. See: https://github.com/scikit-learn/scikit-learn/issues/21755 */display: inline-block !important;position: relative;}#sk-container-id-3 div.sk-text-repr-fallback {display: none;}</style><div id=\"sk-container-id-3\" class=\"sk-top-container\"><div class=\"sk-text-repr-fallback\"><pre>DecisionTreeClassifier(ccp_alpha=0.001282051282051282, criterion=&#x27;entropy&#x27;,\n",
       "                       max_depth=19, min_samples_leaf=16)</pre><b>In a Jupyter environment, please rerun this cell to show the HTML representation or trust the notebook. <br />On GitHub, the HTML representation is unable to render, please try loading this page with nbviewer.org.</b></div><div class=\"sk-container\" hidden><div class=\"sk-item\"><div class=\"sk-estimator sk-toggleable\"><input class=\"sk-toggleable__control sk-hidden--visually\" id=\"sk-estimator-id-7\" type=\"checkbox\" checked><label for=\"sk-estimator-id-7\" class=\"sk-toggleable__label sk-toggleable__label-arrow\">DecisionTreeClassifier</label><div class=\"sk-toggleable__content\"><pre>DecisionTreeClassifier(ccp_alpha=0.001282051282051282, criterion=&#x27;entropy&#x27;,\n",
       "                       max_depth=19, min_samples_leaf=16)</pre></div></div></div></div></div>"
      ],
      "text/plain": [
       "DecisionTreeClassifier(ccp_alpha=0.001282051282051282, criterion='entropy',\n",
       "                       max_depth=19, min_samples_leaf=16)"
      ]
     },
     "execution_count": 64,
     "metadata": {},
     "output_type": "execute_result"
    }
   ],
   "source": [
    "bestParams = CV_random_search_f1_score_optimizer(40,9,20,20).best_params_\n",
    "arbol=tree.DecisionTreeClassifier().set_params(**bestParams)\n",
    "arbol.fit(xTrain, yTrain)"
   ]
  },
  {
   "cell_type": "code",
   "execution_count": null,
   "metadata": {},
   "outputs": [
    {
     "name": "stdout",
     "output_type": "stream",
     "text": [
      "F1-Score: 0.801886236368995\n"
     ]
    },
    {
     "data": {
      "text/plain": [
       "Text(50.722222222222214, 0.5, 'True')"
      ]
     },
     "execution_count": 65,
     "metadata": {},
     "output_type": "execute_result"
    },
    {
     "data": {
      "image/png": "[encoded data removed]",
      "text/plain": [
       "<Figure size 640x480 with 2 Axes>"
      ]
     },
     "metadata": {},
     "output_type": "display_data"
    }
   ],
   "source": [
    "#Hago predicción sobre el set de evaluacion\n",
    "yPred= arbol.predict(xTest)\n",
    "\n",
    "#Arbol Reporte y Matriz de Confusion\n",
    "#print(classification_report(y_test,y_pred))\n",
    "print('F1-Score: {}'.format(f1_score(yTest, yPred, average='binary'))) #binary considera la clase positiva por defecto 1\n",
    "\n",
    "cm = confusion_matrix(yTest,yPred)\n",
    "sns.heatmap(cm, cmap='Blues',annot=True,fmt='g')\n",
    "plt.xlabel('Predicted')\n",
    "plt.ylabel('True')"
   ]
  },
  {
   "cell_type": "markdown",
   "metadata": {},
   "source": [
    "## Prediccion con hotels_test.csv"
   ]
  },
  {
   "cell_type": "code",
   "execution_count": null,
   "metadata": {},
   "outputs": [
    {
     "name": "stdout",
     "output_type": "stream",
     "text": [
      "{'min_samples_leaf': 16, 'max_depth': 19, 'criterion': 'entropy', 'ccp_alpha': 0.001282051282051282}\n",
      "0.8114448079196098\n"
     ]
    },
    {
     "data": {
      "text/plain": [
       "array([1, 1, 0, ..., 1, 1, 0], dtype=int64)"
      ]
     },
     "execution_count": 66,
     "metadata": {},
     "output_type": "execute_result"
    }
   ],
   "source": [
    "treeModel = tree.DecisionTreeClassifier(**CV_random_search_f1_score_optimizer(40,9,20,20).best_params_)\n",
    "#Entrenamiento\n",
    "model = treeModel.fit(X= dsCHP1CopyX, y= dsCHP1CopyY)\n",
    "yPredictedKaggle = model.predict(dsHotelTestCopy)\n",
    "#Valores predichos\n",
    "yPredictedKaggle"
   ]
  },
  {
   "cell_type": "code",
   "execution_count": null,
   "metadata": {},
   "outputs": [],
   "source": [
    "dsKaggle = pd.DataFrame(zip(dsHotelTest['id'], yPredictedKaggle), columns=['id', 'is_canceled'])\n",
    "dsKaggle.to_csv(\"dsKaggleConHiperparametros.csv\",index=False)"
   ]
  }
 ],
 "metadata": {
  "kernelspec": {
   "display_name": "Python 3",
   "language": "python",
   "name": "python3"
  },
  "language_info": {
   "codemirror_mode": {
    "name": "ipython",
    "version": 3
   },
   "file_extension": ".py",
   "mimetype": "text/x-python",
   "name": "python",
   "nbconvert_exporter": "python",
   "pygments_lexer": "ipython3",
   "version": "3.11.3"
  },
  "orig_nbformat": 4
 },
 "nbformat": 4,
 "nbformat_minor": 2
}
